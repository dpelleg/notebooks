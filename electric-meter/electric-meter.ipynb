{
 "cells": [
  {
   "cell_type": "code",
   "execution_count": 1,
   "id": "d73ad307",
   "metadata": {},
   "outputs": [],
   "source": [
    "from electric_meter import *\n",
    "from datetime import datetime\n",
    "from IPython.display import HTML"
   ]
  },
  {
   "cell_type": "code",
   "execution_count": 17,
   "id": "3c6b4b8c",
   "metadata": {},
   "outputs": [],
   "source": [
    "meter = read_data('data/meter2.csv')"
   ]
  },
  {
   "cell_type": "code",
   "execution_count": 18,
   "id": "69304e8c",
   "metadata": {},
   "outputs": [],
   "source": [
    "#meter = read_data('data/meter.csv')\n",
    "\n",
    "costs, k, d = compute_costs(meter)"
   ]
  },
  {
   "cell_type": "code",
   "execution_count": 4,
   "id": "039e26f3",
   "metadata": {},
   "outputs": [],
   "source": [
    "#costs.sort_index(ascending=True, inplace=True)\n",
    "\n",
    "#from datetime import datetime\n",
    "#costs.index = pd.to_datetime(costs.index).to_series().dt.strftime('%B %Y')"
   ]
  },
  {
   "cell_type": "code",
   "execution_count": 19,
   "id": "ee58ce18",
   "metadata": {},
   "outputs": [
    {
     "data": {
      "text/html": [
       "<div>\n",
       "<style scoped>\n",
       "    .dataframe tbody tr th:only-of-type {\n",
       "        vertical-align: middle;\n",
       "    }\n",
       "\n",
       "    .dataframe tbody tr th {\n",
       "        vertical-align: top;\n",
       "    }\n",
       "\n",
       "    .dataframe thead th {\n",
       "        text-align: right;\n",
       "    }\n",
       "</style>\n",
       "<table border=\"1\" class=\"dataframe\">\n",
       "  <thead>\n",
       "    <tr style=\"text-align: right;\">\n",
       "      <th></th>\n",
       "      <th>no_discount</th>\n",
       "      <th>pazgas_daytime</th>\n",
       "      <th>pazgas_unlimited</th>\n",
       "      <th>pazgas_weekend</th>\n",
       "      <th>pazgas_nighttime</th>\n",
       "      <th>amisragas_unlimited</th>\n",
       "      <th>electra_power</th>\n",
       "      <th>electra_hitec</th>\n",
       "    </tr>\n",
       "    <tr>\n",
       "      <th>timeperiod</th>\n",
       "      <th></th>\n",
       "      <th></th>\n",
       "      <th></th>\n",
       "      <th></th>\n",
       "      <th></th>\n",
       "      <th></th>\n",
       "      <th></th>\n",
       "      <th></th>\n",
       "    </tr>\n",
       "  </thead>\n",
       "  <tbody>\n",
       "    <tr>\n",
       "      <th>יולי 2023</th>\n",
       "      <td>712.886993</td>\n",
       "      <td>676.627228</td>\n",
       "      <td>677.242643</td>\n",
       "      <td>686.250248</td>\n",
       "      <td>680.550604</td>\n",
       "      <td>666.549338</td>\n",
       "      <td>677.242643</td>\n",
       "      <td>671.618491</td>\n",
       "    </tr>\n",
       "    <tr>\n",
       "      <th>אוגוסט 2023</th>\n",
       "      <td>598.992556</td>\n",
       "      <td>571.751500</td>\n",
       "      <td>569.042928</td>\n",
       "      <td>576.796140</td>\n",
       "      <td>568.103026</td>\n",
       "      <td>560.058040</td>\n",
       "      <td>569.042928</td>\n",
       "      <td>564.450700</td>\n",
       "    </tr>\n",
       "  </tbody>\n",
       "</table>\n",
       "</div>"
      ],
      "text/plain": [
       "             no_discount  pazgas_daytime  pazgas_unlimited  pazgas_weekend  \\\n",
       "timeperiod                                                                   \n",
       "יולי 2023     712.886993      676.627228        677.242643      686.250248   \n",
       "אוגוסט 2023   598.992556      571.751500        569.042928      576.796140   \n",
       "\n",
       "             pazgas_nighttime  amisragas_unlimited  electra_power  \\\n",
       "timeperiod                                                          \n",
       "יולי 2023          680.550604           666.549338     677.242643   \n",
       "אוגוסט 2023        568.103026           560.058040     569.042928   \n",
       "\n",
       "             electra_hitec  \n",
       "timeperiod                  \n",
       "יולי 2023       671.618491  \n",
       "אוגוסט 2023     564.450700  "
      ]
     },
     "execution_count": 19,
     "metadata": {},
     "output_type": "execute_result"
    }
   ],
   "source": [
    "costs"
   ]
  },
  {
   "cell_type": "code",
   "execution_count": 21,
   "id": "849b4d84",
   "metadata": {
    "scrolled": true
   },
   "outputs": [
    {
     "data": {
      "text/html": [
       "<style type=\"text/css\">\n",
       "#T_6972e_row0_col0, #T_6972e_row1_col0 {\n",
       "  background-color: #f287d0;\n",
       "}\n",
       "#T_6972e_row0_col5, #T_6972e_row1_col5 {\n",
       "  background-color: #b1d77a;\n",
       "}\n",
       "</style>\n",
       "<table id=\"T_6972e\" class=\"cost-table\">\n",
       "  <thead>\n",
       "    <tr>\n",
       "      <th class=\"blank level0\" >&nbsp;</th>\n",
       "      <th id=\"T_6972e_level0_col0\" class=\"col_heading level0 col0\" >חחי</th>\n",
       "      <th id=\"T_6972e_level0_col1\" class=\"col_heading level0 col1\" >פזגז יום</th>\n",
       "      <th id=\"T_6972e_level0_col2\" class=\"col_heading level0 col2\" >פזגז ללא הגבלה</th>\n",
       "      <th id=\"T_6972e_level0_col3\" class=\"col_heading level0 col3\" >פזגז סופ״ש</th>\n",
       "      <th id=\"T_6972e_level0_col4\" class=\"col_heading level0 col4\" >פזגז לילה</th>\n",
       "      <th id=\"T_6972e_level0_col5\" class=\"col_heading level0 col5\" >אמישראגז</th>\n",
       "      <th id=\"T_6972e_level0_col6\" class=\"col_heading level0 col6\" >אלקטרה פאואר</th>\n",
       "      <th id=\"T_6972e_level0_col7\" class=\"col_heading level0 col7\" >אלקטרה הייטק</th>\n",
       "    </tr>\n",
       "    <tr>\n",
       "      <th class=\"index_name level0\" >תקופה</th>\n",
       "      <th class=\"blank col0\" >&nbsp;</th>\n",
       "      <th class=\"blank col1\" >&nbsp;</th>\n",
       "      <th class=\"blank col2\" >&nbsp;</th>\n",
       "      <th class=\"blank col3\" >&nbsp;</th>\n",
       "      <th class=\"blank col4\" >&nbsp;</th>\n",
       "      <th class=\"blank col5\" >&nbsp;</th>\n",
       "      <th class=\"blank col6\" >&nbsp;</th>\n",
       "      <th class=\"blank col7\" >&nbsp;</th>\n",
       "    </tr>\n",
       "  </thead>\n",
       "  <tbody>\n",
       "    <tr>\n",
       "      <th id=\"T_6972e_level0_row0\" class=\"row_heading level0 row0\" >יולי 2023</th>\n",
       "      <td id=\"T_6972e_row0_col0\" class=\"data row0 col0\" >712.89</td>\n",
       "      <td id=\"T_6972e_row0_col1\" class=\"data row0 col1\" >676.63</td>\n",
       "      <td id=\"T_6972e_row0_col2\" class=\"data row0 col2\" >677.24</td>\n",
       "      <td id=\"T_6972e_row0_col3\" class=\"data row0 col3\" >686.25</td>\n",
       "      <td id=\"T_6972e_row0_col4\" class=\"data row0 col4\" >680.55</td>\n",
       "      <td id=\"T_6972e_row0_col5\" class=\"data row0 col5\" >666.55</td>\n",
       "      <td id=\"T_6972e_row0_col6\" class=\"data row0 col6\" >677.24</td>\n",
       "      <td id=\"T_6972e_row0_col7\" class=\"data row0 col7\" >671.62</td>\n",
       "    </tr>\n",
       "    <tr>\n",
       "      <th id=\"T_6972e_level0_row1\" class=\"row_heading level0 row1\" >אוגוסט 2023</th>\n",
       "      <td id=\"T_6972e_row1_col0\" class=\"data row1 col0\" >598.99</td>\n",
       "      <td id=\"T_6972e_row1_col1\" class=\"data row1 col1\" >571.75</td>\n",
       "      <td id=\"T_6972e_row1_col2\" class=\"data row1 col2\" >569.04</td>\n",
       "      <td id=\"T_6972e_row1_col3\" class=\"data row1 col3\" >576.80</td>\n",
       "      <td id=\"T_6972e_row1_col4\" class=\"data row1 col4\" >568.10</td>\n",
       "      <td id=\"T_6972e_row1_col5\" class=\"data row1 col5\" >560.06</td>\n",
       "      <td id=\"T_6972e_row1_col6\" class=\"data row1 col6\" >569.04</td>\n",
       "      <td id=\"T_6972e_row1_col7\" class=\"data row1 col7\" >564.45</td>\n",
       "    </tr>\n",
       "  </tbody>\n",
       "</table>\n"
      ],
      "text/plain": [
       "<pandas.io.formats.style.Styler at 0x10827d370>"
      ]
     },
     "metadata": {},
     "output_type": "display_data"
    }
   ],
   "source": [
    "result = style_table(costs)\n",
    "display(result)"
   ]
  },
  {
   "cell_type": "code",
   "execution_count": 23,
   "id": "f9090c69",
   "metadata": {},
   "outputs": [
    {
     "name": "stdout",
     "output_type": "stream",
     "text": [
      "<class 'pandas.core.frame.DataFrame'>\n",
      "DatetimeIndex: 1404 entries, 2023-06-25 16:00:00 to 2023-08-23 03:00:00\n",
      "Freq: H\n",
      "Data columns (total 6 columns):\n",
      " #   Column       Non-Null Count  Dtype  \n",
      "---  ------       --------------  -----  \n",
      " 0   consumption  1404 non-null   float64\n",
      " 1   date         1404 non-null   object \n",
      " 2   wday         1404 non-null   int64  \n",
      " 3   hour         1404 non-null   int64  \n",
      " 4   wday_name    1404 non-null   object \n",
      " 5   timeperiod   1404 non-null   object \n",
      "dtypes: float64(1), int64(2), object(3)\n",
      "memory usage: 76.8+ KB\n"
     ]
    }
   ],
   "source": [
    "meter.info()"
   ]
  },
  {
   "cell_type": "code",
   "execution_count": 14,
   "id": "7288bbd4",
   "metadata": {},
   "outputs": [
    {
     "data": {
      "text/html": [
       "<style type=\"text/css\">\n",
       "#T_107f9_row0_col0, #T_107f9_row1_col0 {\n",
       "  background-color: #f287d0;\n",
       "}\n",
       "#T_107f9_row0_col2, #T_107f9_row1_col2 {\n",
       "  background-color: #b1d77a;\n",
       "}\n",
       "</style>\n",
       "<table id=\"T_107f9\" class=\"cost-table\">\n",
       "  <thead>\n",
       "    <tr>\n",
       "      <th class=\"blank level0\" >&nbsp;</th>\n",
       "      <th id=\"T_107f9_level0_col0\" class=\"col_heading level0 col0\" >חחי</th>\n",
       "      <th id=\"T_107f9_level0_col1\" class=\"col_heading level0 col1\" >פזגז יום</th>\n",
       "      <th id=\"T_107f9_level0_col2\" class=\"col_heading level0 col2\" >אמישראגז</th>\n",
       "      <th id=\"T_107f9_level0_col3\" class=\"col_heading level0 col3\" >אלקטרה פאואר</th>\n",
       "    </tr>\n",
       "    <tr>\n",
       "      <th class=\"index_name level0\" >תקופה</th>\n",
       "      <th class=\"blank col0\" >&nbsp;</th>\n",
       "      <th class=\"blank col1\" >&nbsp;</th>\n",
       "      <th class=\"blank col2\" >&nbsp;</th>\n",
       "      <th class=\"blank col3\" >&nbsp;</th>\n",
       "    </tr>\n",
       "  </thead>\n",
       "  <tbody>\n",
       "    <tr>\n",
       "      <th id=\"T_107f9_level0_row0\" class=\"row_heading level0 row0\" >יולי 2023</th>\n",
       "      <td id=\"T_107f9_row0_col0\" class=\"data row0 col0\" >576.25</td>\n",
       "      <td id=\"T_107f9_row0_col1\" class=\"data row0 col1\" >546.75</td>\n",
       "      <td id=\"T_107f9_row0_col2\" class=\"data row0 col2\" >538.80</td>\n",
       "      <td id=\"T_107f9_row0_col3\" class=\"data row0 col3\" >547.44</td>\n",
       "    </tr>\n",
       "    <tr>\n",
       "      <th id=\"T_107f9_level0_row1\" class=\"row_heading level0 row1\" >אוגוסט 2023</th>\n",
       "      <td id=\"T_107f9_row1_col0\" class=\"data row1 col0\" >430.85</td>\n",
       "      <td id=\"T_107f9_row1_col1\" class=\"data row1 col1\" >406.54</td>\n",
       "      <td id=\"T_107f9_row1_col2\" class=\"data row1 col2\" >402.85</td>\n",
       "      <td id=\"T_107f9_row1_col3\" class=\"data row1 col3\" >409.31</td>\n",
       "    </tr>\n",
       "  </tbody>\n",
       "</table>\n"
      ],
      "text/plain": [
       "<pandas.io.formats.style.Styler at 0x12924f520>"
      ]
     },
     "metadata": {},
     "output_type": "display_data"
    }
   ],
   "source": [
    "cols = [costs.columns[i] for i in [0,1,5, 6]]\n",
    "display(style_table(costs[cols].copy()))"
   ]
  }
 ],
 "metadata": {
  "kernelspec": {
   "display_name": "Python 3 (ipykernel)",
   "language": "python",
   "name": "python3"
  },
  "language_info": {
   "codemirror_mode": {
    "name": "ipython",
    "version": 3
   },
   "file_extension": ".py",
   "mimetype": "text/x-python",
   "name": "python",
   "nbconvert_exporter": "python",
   "pygments_lexer": "ipython3",
   "version": "3.8.13"
  }
 },
 "nbformat": 4,
 "nbformat_minor": 5
}
