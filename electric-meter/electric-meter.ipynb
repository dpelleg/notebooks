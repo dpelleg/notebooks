{
 "cells": [
  {
   "cell_type": "code",
   "execution_count": 1,
   "id": "fb7474d2",
   "metadata": {},
   "outputs": [],
   "source": [
    "from electric_meter import *\n",
    "from datetime import datetime\n",
    "from IPython.display import HTML"
   ]
  },
  {
   "cell_type": "code",
   "execution_count": 2,
   "id": "a4d1f480",
   "metadata": {},
   "outputs": [],
   "source": [
    "meter = read_data('data/meter.csv')"
   ]
  },
  {
   "cell_type": "code",
   "execution_count": 3,
   "id": "4a32e70f",
   "metadata": {},
   "outputs": [],
   "source": [
    "#meter = read_data('data/meter.csv')\n",
    "\n",
    "costs, k, d = compute_costs(meter)"
   ]
  },
  {
   "cell_type": "code",
   "execution_count": 4,
   "id": "0c4337d1",
   "metadata": {},
   "outputs": [],
   "source": [
    "#costs.sort_index(ascending=True, inplace=True)\n",
    "\n",
    "#from datetime import datetime\n",
    "#costs.index = pd.to_datetime(costs.index).to_series().dt.strftime('%B %Y')"
   ]
  },
  {
   "cell_type": "code",
   "execution_count": 5,
   "id": "7adc418a",
   "metadata": {},
   "outputs": [
    {
     "data": {
      "text/html": [
       "<div>\n",
       "<style scoped>\n",
       "    .dataframe tbody tr th:only-of-type {\n",
       "        vertical-align: middle;\n",
       "    }\n",
       "\n",
       "    .dataframe tbody tr th {\n",
       "        vertical-align: top;\n",
       "    }\n",
       "\n",
       "    .dataframe thead th {\n",
       "        text-align: right;\n",
       "    }\n",
       "</style>\n",
       "<table border=\"1\" class=\"dataframe\">\n",
       "  <thead>\n",
       "    <tr style=\"text-align: right;\">\n",
       "      <th></th>\n",
       "      <th>no_discount</th>\n",
       "      <th>pazgas_daytime</th>\n",
       "      <th>pazgas_unlimited</th>\n",
       "      <th>pazgas_weekend</th>\n",
       "      <th>pazgas_nighttime</th>\n",
       "      <th>amisragas_unlimited</th>\n",
       "      <th>electra_power</th>\n",
       "      <th>electra_hitec</th>\n",
       "    </tr>\n",
       "    <tr>\n",
       "      <th>timeperiod</th>\n",
       "      <th></th>\n",
       "      <th></th>\n",
       "      <th></th>\n",
       "      <th></th>\n",
       "      <th></th>\n",
       "      <th></th>\n",
       "      <th></th>\n",
       "      <th></th>\n",
       "    </tr>\n",
       "  </thead>\n",
       "  <tbody>\n",
       "    <tr>\n",
       "      <th>יולי 2023</th>\n",
       "      <td>576.254149</td>\n",
       "      <td>546.746881</td>\n",
       "      <td>547.441441</td>\n",
       "      <td>558.850694</td>\n",
       "      <td>556.344554</td>\n",
       "      <td>538.797629</td>\n",
       "      <td>547.441441</td>\n",
       "      <td>546.635714</td>\n",
       "    </tr>\n",
       "    <tr>\n",
       "      <th>אוגוסט 2023</th>\n",
       "      <td>430.852859</td>\n",
       "      <td>406.544369</td>\n",
       "      <td>409.310216</td>\n",
       "      <td>416.801322</td>\n",
       "      <td>418.301487</td>\n",
       "      <td>402.847423</td>\n",
       "      <td>409.310216</td>\n",
       "      <td>408.417303</td>\n",
       "    </tr>\n",
       "  </tbody>\n",
       "</table>\n",
       "</div>"
      ],
      "text/plain": [
       "             no_discount  pazgas_daytime  pazgas_unlimited  pazgas_weekend  \\\n",
       "timeperiod                                                                   \n",
       "יולי 2023     576.254149      546.746881        547.441441      558.850694   \n",
       "אוגוסט 2023   430.852859      406.544369        409.310216      416.801322   \n",
       "\n",
       "             pazgas_nighttime  amisragas_unlimited  electra_power  \\\n",
       "timeperiod                                                          \n",
       "יולי 2023          556.344554           538.797629     547.441441   \n",
       "אוגוסט 2023        418.301487           402.847423     409.310216   \n",
       "\n",
       "             electra_hitec  \n",
       "timeperiod                  \n",
       "יולי 2023       546.635714  \n",
       "אוגוסט 2023     408.417303  "
      ]
     },
     "execution_count": 5,
     "metadata": {},
     "output_type": "execute_result"
    }
   ],
   "source": [
    "costs"
   ]
  },
  {
   "cell_type": "code",
   "execution_count": 6,
   "id": "23aa457a",
   "metadata": {
    "scrolled": true
   },
   "outputs": [
    {
     "data": {
      "text/html": [
       "<style type=\"text/css\">\n",
       "#T_080c9_row0_col0, #T_080c9_row1_col0 {\n",
       "  background-color: #f287d0;\n",
       "}\n",
       "#T_080c9_row0_col5, #T_080c9_row1_col5 {\n",
       "  background-color: #b1d77a;\n",
       "}\n",
       "</style>\n",
       "<table id=\"T_080c9\" class=\"cost-table\">\n",
       "  <thead>\n",
       "    <tr>\n",
       "      <th class=\"blank level0\" >&nbsp;</th>\n",
       "      <th id=\"T_080c9_level0_col0\" class=\"col_heading level0 col0\" >חחי</th>\n",
       "      <th id=\"T_080c9_level0_col1\" class=\"col_heading level0 col1\" >פזגז יום</th>\n",
       "      <th id=\"T_080c9_level0_col2\" class=\"col_heading level0 col2\" >פזגז ללא הגבלה</th>\n",
       "      <th id=\"T_080c9_level0_col3\" class=\"col_heading level0 col3\" >פזגז סופ״ש</th>\n",
       "      <th id=\"T_080c9_level0_col4\" class=\"col_heading level0 col4\" >פזגז לילה</th>\n",
       "      <th id=\"T_080c9_level0_col5\" class=\"col_heading level0 col5\" >אמישראגז</th>\n",
       "      <th id=\"T_080c9_level0_col6\" class=\"col_heading level0 col6\" >אלקטרה פאואר</th>\n",
       "      <th id=\"T_080c9_level0_col7\" class=\"col_heading level0 col7\" >אלקטרה הייטק</th>\n",
       "    </tr>\n",
       "    <tr>\n",
       "      <th class=\"index_name level0\" >תקופה</th>\n",
       "      <th class=\"blank col0\" >&nbsp;</th>\n",
       "      <th class=\"blank col1\" >&nbsp;</th>\n",
       "      <th class=\"blank col2\" >&nbsp;</th>\n",
       "      <th class=\"blank col3\" >&nbsp;</th>\n",
       "      <th class=\"blank col4\" >&nbsp;</th>\n",
       "      <th class=\"blank col5\" >&nbsp;</th>\n",
       "      <th class=\"blank col6\" >&nbsp;</th>\n",
       "      <th class=\"blank col7\" >&nbsp;</th>\n",
       "    </tr>\n",
       "  </thead>\n",
       "  <tbody>\n",
       "    <tr>\n",
       "      <th id=\"T_080c9_level0_row0\" class=\"row_heading level0 row0\" >יולי 2023</th>\n",
       "      <td id=\"T_080c9_row0_col0\" class=\"data row0 col0\" >576.25</td>\n",
       "      <td id=\"T_080c9_row0_col1\" class=\"data row0 col1\" >546.75</td>\n",
       "      <td id=\"T_080c9_row0_col2\" class=\"data row0 col2\" >547.44</td>\n",
       "      <td id=\"T_080c9_row0_col3\" class=\"data row0 col3\" >558.85</td>\n",
       "      <td id=\"T_080c9_row0_col4\" class=\"data row0 col4\" >556.34</td>\n",
       "      <td id=\"T_080c9_row0_col5\" class=\"data row0 col5\" >538.80</td>\n",
       "      <td id=\"T_080c9_row0_col6\" class=\"data row0 col6\" >547.44</td>\n",
       "      <td id=\"T_080c9_row0_col7\" class=\"data row0 col7\" >546.64</td>\n",
       "    </tr>\n",
       "    <tr>\n",
       "      <th id=\"T_080c9_level0_row1\" class=\"row_heading level0 row1\" >אוגוסט 2023</th>\n",
       "      <td id=\"T_080c9_row1_col0\" class=\"data row1 col0\" >430.85</td>\n",
       "      <td id=\"T_080c9_row1_col1\" class=\"data row1 col1\" >406.54</td>\n",
       "      <td id=\"T_080c9_row1_col2\" class=\"data row1 col2\" >409.31</td>\n",
       "      <td id=\"T_080c9_row1_col3\" class=\"data row1 col3\" >416.80</td>\n",
       "      <td id=\"T_080c9_row1_col4\" class=\"data row1 col4\" >418.30</td>\n",
       "      <td id=\"T_080c9_row1_col5\" class=\"data row1 col5\" >402.85</td>\n",
       "      <td id=\"T_080c9_row1_col6\" class=\"data row1 col6\" >409.31</td>\n",
       "      <td id=\"T_080c9_row1_col7\" class=\"data row1 col7\" >408.42</td>\n",
       "    </tr>\n",
       "  </tbody>\n",
       "</table>\n"
      ],
      "text/plain": [
       "<pandas.io.formats.style.Styler at 0x11f440880>"
      ]
     },
     "metadata": {},
     "output_type": "display_data"
    }
   ],
   "source": [
    "result = style_table(costs)\n",
    "\n",
    "#result.set_table_styles([{'selector' : '',                            'props' : 'border: 5px solid black; border-radius: 2px'}])\n",
    "display(result)"
   ]
  },
  {
   "cell_type": "code",
   "execution_count": 14,
   "id": "52423736",
   "metadata": {},
   "outputs": [
    {
     "data": {
      "text/html": [
       "<style type=\"text/css\">\n",
       "#T_107f9_row0_col0, #T_107f9_row1_col0 {\n",
       "  background-color: #f287d0;\n",
       "}\n",
       "#T_107f9_row0_col2, #T_107f9_row1_col2 {\n",
       "  background-color: #b1d77a;\n",
       "}\n",
       "</style>\n",
       "<table id=\"T_107f9\" class=\"cost-table\">\n",
       "  <thead>\n",
       "    <tr>\n",
       "      <th class=\"blank level0\" >&nbsp;</th>\n",
       "      <th id=\"T_107f9_level0_col0\" class=\"col_heading level0 col0\" >חחי</th>\n",
       "      <th id=\"T_107f9_level0_col1\" class=\"col_heading level0 col1\" >פזגז יום</th>\n",
       "      <th id=\"T_107f9_level0_col2\" class=\"col_heading level0 col2\" >אמישראגז</th>\n",
       "      <th id=\"T_107f9_level0_col3\" class=\"col_heading level0 col3\" >אלקטרה פאואר</th>\n",
       "    </tr>\n",
       "    <tr>\n",
       "      <th class=\"index_name level0\" >תקופה</th>\n",
       "      <th class=\"blank col0\" >&nbsp;</th>\n",
       "      <th class=\"blank col1\" >&nbsp;</th>\n",
       "      <th class=\"blank col2\" >&nbsp;</th>\n",
       "      <th class=\"blank col3\" >&nbsp;</th>\n",
       "    </tr>\n",
       "  </thead>\n",
       "  <tbody>\n",
       "    <tr>\n",
       "      <th id=\"T_107f9_level0_row0\" class=\"row_heading level0 row0\" >יולי 2023</th>\n",
       "      <td id=\"T_107f9_row0_col0\" class=\"data row0 col0\" >576.25</td>\n",
       "      <td id=\"T_107f9_row0_col1\" class=\"data row0 col1\" >546.75</td>\n",
       "      <td id=\"T_107f9_row0_col2\" class=\"data row0 col2\" >538.80</td>\n",
       "      <td id=\"T_107f9_row0_col3\" class=\"data row0 col3\" >547.44</td>\n",
       "    </tr>\n",
       "    <tr>\n",
       "      <th id=\"T_107f9_level0_row1\" class=\"row_heading level0 row1\" >אוגוסט 2023</th>\n",
       "      <td id=\"T_107f9_row1_col0\" class=\"data row1 col0\" >430.85</td>\n",
       "      <td id=\"T_107f9_row1_col1\" class=\"data row1 col1\" >406.54</td>\n",
       "      <td id=\"T_107f9_row1_col2\" class=\"data row1 col2\" >402.85</td>\n",
       "      <td id=\"T_107f9_row1_col3\" class=\"data row1 col3\" >409.31</td>\n",
       "    </tr>\n",
       "  </tbody>\n",
       "</table>\n"
      ],
      "text/plain": [
       "<pandas.io.formats.style.Styler at 0x12924f520>"
      ]
     },
     "metadata": {},
     "output_type": "display_data"
    }
   ],
   "source": [
    "cols = [costs.columns[i] for i in [0,1,5, 6]]\n",
    "display(style_table(costs[cols].copy()))"
   ]
  }
 ],
 "metadata": {
  "kernelspec": {
   "display_name": "Python 3 (ipykernel)",
   "language": "python",
   "name": "python3"
  },
  "language_info": {
   "codemirror_mode": {
    "name": "ipython",
    "version": 3
   },
   "file_extension": ".py",
   "mimetype": "text/x-python",
   "name": "python",
   "nbconvert_exporter": "python",
   "pygments_lexer": "ipython3",
   "version": "3.8.13"
  }
 },
 "nbformat": 4,
 "nbformat_minor": 5
}
