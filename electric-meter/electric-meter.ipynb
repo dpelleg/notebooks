{
 "cells": [
  {
   "cell_type": "code",
   "execution_count": 1,
   "id": "e5c276b5",
   "metadata": {},
   "outputs": [],
   "source": [
    "import pandas as pd\n",
    "import numpy as np\n",
    "import locale\n",
    "from IPython.display import HTML\n"
   ]
  },
  {
   "cell_type": "code",
   "execution_count": 2,
   "id": "777510e2",
   "metadata": {},
   "outputs": [],
   "source": [
    "meter = pd.read_csv('data/meter.csv', skiprows=11)"
   ]
  },
  {
   "cell_type": "code",
   "execution_count": 3,
   "id": "f40c175a",
   "metadata": {},
   "outputs": [],
   "source": [
    "meter.columns=['time', 'consumption']"
   ]
  },
  {
   "cell_type": "code",
   "execution_count": 4,
   "id": "83c9fdca",
   "metadata": {},
   "outputs": [],
   "source": [
    "meter['time'] = pd.to_datetime(meter['time'], format='%d/%m/%Y %H:%M')"
   ]
  },
  {
   "cell_type": "code",
   "execution_count": 5,
   "id": "ef862988",
   "metadata": {},
   "outputs": [],
   "source": [
    "meter.set_index('time', inplace=True)"
   ]
  },
  {
   "cell_type": "code",
   "execution_count": 6,
   "id": "09c987e6",
   "metadata": {},
   "outputs": [],
   "source": [
    "meter = meter.resample('1H').sum()"
   ]
  },
  {
   "cell_type": "code",
   "execution_count": 7,
   "id": "03b10491",
   "metadata": {},
   "outputs": [],
   "source": [
    "locale.setlocale(locale.LC_ALL, 'he_IL')\n",
    "\n",
    "meter['date'] = meter.index.date\n",
    "meter['wday'] = meter.index.weekday\n",
    "meter['hour'] = meter.index.hour\n",
    "meter['wday_name'] = meter.index.day_name()\n",
    "meter['timeperiod'] = meter.index.strftime('%B %Y')"
   ]
  },
  {
   "cell_type": "code",
   "execution_count": 8,
   "id": "7e122d01",
   "metadata": {},
   "outputs": [],
   "source": [
    "def get_timeperiods_with_count_above_threshold(df, threshold):\n",
    "\n",
    "    # Group by 'timeperiod' and count unique dates\n",
    "    result = df.groupby('timeperiod')['date'].nunique()\n",
    "\n",
    "    # Create a list of timeperiod values where count is above the threshold\n",
    "    timeperiods_above_threshold = result[result > threshold].index.tolist()\n",
    "\n",
    "    return timeperiods_above_threshold"
   ]
  },
  {
   "cell_type": "code",
   "execution_count": 9,
   "id": "cacfea7c",
   "metadata": {},
   "outputs": [],
   "source": [
    "def filter_hour_and(df, start_hour, end_hour):\n",
    "    return pd.Series((df.index.hour >= start_hour) & (df.index.hour < end_hour), index=df.index)\n",
    "\n",
    "def filter_hour_or(df, start_hour, end_hour):\n",
    "    return pd.Series((df.index.hour >= start_hour) | (df.index.hour < end_hour), index=df.index)\n",
    "\n",
    "def filter_days(df, days):\n",
    "    return pd.Series(df.index.day_name().isin(days), index=df.index)\n",
    "\n",
    "def apply_filter(df, val, filter_func):\n",
    "    pred = filter_func(df)\n",
    "    ret = pd.Series(0, index=pred.index)\n",
    "    ret[pred] = val\n",
    "    return ret\n",
    "\n",
    "# pazgas sources:\n",
    "# https://campaigns.pazgas.co.il/ele/\n",
    "\n",
    "def pazgas_daytime(df):\n",
    "    return apply_filter(df, 15, lambda x:filter_hour_and(x, 8, 16))\n",
    "\n",
    "def pazgas_nighttime(df):\n",
    "    return apply_filter(df, 15, lambda x:filter_hour_or(x, 23, 7))\n",
    "\n",
    "def pazgas_unlimited(df):\n",
    "    return pd.Series(5, index=df.index)\n",
    "\n",
    "def pazgas_weekend(df):\n",
    "    return apply_filter(df, 10, lambda x:filter_days(x, ['Friday', 'Saturday']))\n",
    "\n",
    "\n",
    "# Amisragas sources:\n",
    "# https://lp.amisragas.co.il/electric/\n",
    "def amisragas_unlimited(df):\n",
    "    return pd.Series(6.5, index=df.index)\n",
    "\n",
    "# Electra sources:\n",
    "# https://electra-power.co.il/\n",
    "\n",
    "def electra_power(df):\n",
    "    return pd.Series(5, index=df.index)\n",
    "\n",
    "def electra_hitec(df):\n",
    "    return apply_filter(df, 8, lambda x:filter_hour_or(x, 23, 17))\n",
    "\n",
    "def no_discount(df):\n",
    "    return pd.Series(0, index=df.index)\n",
    "\n",
    "schedules = [\n",
    "    no_discount,\n",
    "    pazgas_daytime,\n",
    "    pazgas_unlimited,\n",
    "    pazgas_weekend,\n",
    "    pazgas_nighttime,\n",
    "    amisragas_unlimited,\n",
    "    electra_power,\n",
    "    electra_hitec,\n",
    "]\n",
    "\n",
    "schedule_xlat = {\n",
    "    'no_discount' : 'חחי',\n",
    "    'pazgas_daytime' : 'פזגז יום',\n",
    "    'pazgas_unlimited' : 'פזגז ללא הגבלה',\n",
    "    'pazgas_weekend' : 'פזגז סופ״ש',\n",
    "    'pazgas_nighttime' : 'פזגז לילה',\n",
    "    'amisragas_unlimited' : 'אמישראגז',\n",
    "    'electra_power' : 'אלקטרה פאואר',\n",
    "    'electra_hitec' : 'אלקטרה הייטק',\n",
    "}"
   ]
  },
  {
   "cell_type": "code",
   "execution_count": 10,
   "id": "32069a34",
   "metadata": {},
   "outputs": [],
   "source": [
    "kwh_rate = 1.17*0.5134  # rate in NIS per kilowatt-hour (source: https://www.iec.co.il/content/tariffs/contentpages/businesselectricitytariff) \n",
    "\n",
    "def cost_by_schedule(df, schedule):\n",
    "    discount_pct=schedule(meter)     # for each reading, get the discount percent (0 if no discount)\n",
    "    multiplier = 1. - discount_pct/100.\n",
    "    cost = pd.DataFrame(data={\n",
    "        'cost' : df['consumption'] * kwh_rate * multiplier,\n",
    "        'timeperiod' : df['timeperiod']},\n",
    "        index=df.index)\n",
    "    return cost\n",
    "\n",
    "def cost_by_month(df):\n",
    "    return df.groupby('timeperiod').sum()"
   ]
  },
  {
   "cell_type": "code",
   "execution_count": 12,
   "id": "96f38be8",
   "metadata": {},
   "outputs": [],
   "source": [
    "# find which months have enough days\n",
    "timeperiods = get_timeperiods_with_count_above_threshold(meter, 10)\n",
    "\n",
    "# filter out months with too little data\n",
    "meter = meter[meter['timeperiod'].isin(timeperiods)]\n",
    "\n",
    "costs = None\n",
    "if len(meter) > 0:\n",
    "    for schedule in schedules:\n",
    "        cost = cost_by_month(cost_by_schedule(meter, schedule))\n",
    "        cost.rename(columns={cost.columns[0]:schedule.__name__}, inplace=True)\n",
    "        if costs is None:\n",
    "            costs = cost\n",
    "        else:\n",
    "            costs = pd.concat([costs, cost], axis=1)"
   ]
  },
  {
   "cell_type": "code",
   "execution_count": 13,
   "id": "9c5afc28",
   "metadata": {},
   "outputs": [],
   "source": [
    "def style_table(df):\n",
    "    df.rename(columns = schedule_xlat, inplace=True)\n",
    "    df.rename_axis('תקופה', inplace=True)\n",
    "\n",
    "    styled_df = df.style.format('{:.2f}').highlight_min(color='#b1d77a', axis=1).highlight_max(color='#f287d0', axis=1)\n",
    "\n",
    "    # Convert the Styler to HTML\n",
    "    html_table = styled_df.to_html()\n",
    "\n",
    "    return styled_df"
   ]
  },
  {
   "cell_type": "code",
   "execution_count": 14,
   "id": "04042b1a",
   "metadata": {},
   "outputs": [
    {
     "data": {
      "text/html": [
       "<style type=\"text/css\">\n",
       "#T_94bb7_row0_col0, #T_94bb7_row1_col0 {\n",
       "  background-color: #f287d0;\n",
       "}\n",
       "#T_94bb7_row0_col5, #T_94bb7_row1_col5 {\n",
       "  background-color: #b1d77a;\n",
       "}\n",
       "</style>\n",
       "<table id=\"T_94bb7\">\n",
       "  <thead>\n",
       "    <tr>\n",
       "      <th class=\"blank level0\" >&nbsp;</th>\n",
       "      <th id=\"T_94bb7_level0_col0\" class=\"col_heading level0 col0\" >חחי</th>\n",
       "      <th id=\"T_94bb7_level0_col1\" class=\"col_heading level0 col1\" >פזגז יום</th>\n",
       "      <th id=\"T_94bb7_level0_col2\" class=\"col_heading level0 col2\" >פזגז ללא הגבלה</th>\n",
       "      <th id=\"T_94bb7_level0_col3\" class=\"col_heading level0 col3\" >פזגז סופ״ש</th>\n",
       "      <th id=\"T_94bb7_level0_col4\" class=\"col_heading level0 col4\" >פזגז לילה</th>\n",
       "      <th id=\"T_94bb7_level0_col5\" class=\"col_heading level0 col5\" >אמישראגז</th>\n",
       "      <th id=\"T_94bb7_level0_col6\" class=\"col_heading level0 col6\" >אלקטרה פאואר</th>\n",
       "      <th id=\"T_94bb7_level0_col7\" class=\"col_heading level0 col7\" >אלקטרה הייטק</th>\n",
       "    </tr>\n",
       "    <tr>\n",
       "      <th class=\"index_name level0\" >תקופה</th>\n",
       "      <th class=\"blank col0\" >&nbsp;</th>\n",
       "      <th class=\"blank col1\" >&nbsp;</th>\n",
       "      <th class=\"blank col2\" >&nbsp;</th>\n",
       "      <th class=\"blank col3\" >&nbsp;</th>\n",
       "      <th class=\"blank col4\" >&nbsp;</th>\n",
       "      <th class=\"blank col5\" >&nbsp;</th>\n",
       "      <th class=\"blank col6\" >&nbsp;</th>\n",
       "      <th class=\"blank col7\" >&nbsp;</th>\n",
       "    </tr>\n",
       "  </thead>\n",
       "  <tbody>\n",
       "    <tr>\n",
       "      <th id=\"T_94bb7_level0_row0\" class=\"row_heading level0 row0\" >אוגוסט 2023</th>\n",
       "      <td id=\"T_94bb7_row0_col0\" class=\"data row0 col0\" >503.04</td>\n",
       "      <td id=\"T_94bb7_row0_col1\" class=\"data row0 col1\" >474.39</td>\n",
       "      <td id=\"T_94bb7_row0_col2\" class=\"data row0 col2\" >477.89</td>\n",
       "      <td id=\"T_94bb7_row0_col3\" class=\"data row0 col3\" >489.32</td>\n",
       "      <td id=\"T_94bb7_row0_col4\" class=\"data row0 col4\" >488.47</td>\n",
       "      <td id=\"T_94bb7_row0_col5\" class=\"data row0 col5\" >470.34</td>\n",
       "      <td id=\"T_94bb7_row0_col6\" class=\"data row0 col6\" >477.89</td>\n",
       "      <td id=\"T_94bb7_row0_col7\" class=\"data row0 col7\" >476.76</td>\n",
       "    </tr>\n",
       "    <tr>\n",
       "      <th id=\"T_94bb7_level0_row1\" class=\"row_heading level0 row1\" >יולי 2023</th>\n",
       "      <td id=\"T_94bb7_row1_col0\" class=\"data row1 col0\" >562.65</td>\n",
       "      <td id=\"T_94bb7_row1_col1\" class=\"data row1 col1\" >533.84</td>\n",
       "      <td id=\"T_94bb7_row1_col2\" class=\"data row1 col2\" >534.52</td>\n",
       "      <td id=\"T_94bb7_row1_col3\" class=\"data row1 col3\" >545.66</td>\n",
       "      <td id=\"T_94bb7_row1_col4\" class=\"data row1 col4\" >543.21</td>\n",
       "      <td id=\"T_94bb7_row1_col5\" class=\"data row1 col5\" >526.08</td>\n",
       "      <td id=\"T_94bb7_row1_col6\" class=\"data row1 col6\" >534.52</td>\n",
       "      <td id=\"T_94bb7_row1_col7\" class=\"data row1 col7\" >533.73</td>\n",
       "    </tr>\n",
       "  </tbody>\n",
       "</table>\n"
      ],
      "text/plain": [
       "<pandas.io.formats.style.Styler at 0x11b76d460>"
      ]
     },
     "metadata": {},
     "output_type": "display_data"
    }
   ],
   "source": [
    "display(style_table(costs))"
   ]
  }
 ],
 "metadata": {
  "kernelspec": {
   "display_name": "Python 3 (ipykernel)",
   "language": "python",
   "name": "python3"
  },
  "language_info": {
   "codemirror_mode": {
    "name": "ipython",
    "version": 3
   },
   "file_extension": ".py",
   "mimetype": "text/x-python",
   "name": "python",
   "nbconvert_exporter": "python",
   "pygments_lexer": "ipython3",
   "version": "3.8.13"
  }
 },
 "nbformat": 4,
 "nbformat_minor": 5
}
