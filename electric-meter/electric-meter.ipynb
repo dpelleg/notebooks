{
 "cells": [
  {
   "cell_type": "code",
   "execution_count": 1,
   "id": "d73ad307",
   "metadata": {
    "ExecuteTime": {
     "end_time": "2024-03-02T14:48:08.785038Z",
     "start_time": "2024-03-02T14:48:08.762988Z"
    }
   },
   "outputs": [],
   "source": [
    "import os\n",
    "\n",
    "from electric_meter import *\n",
    "from IPython.display import HTML"
   ]
  },
  {
   "cell_type": "code",
   "execution_count": 2,
   "outputs": [],
   "source": [
    "fname='uploads/was-excel.xlsx'\n",
    "fname='uploads/mine-sep2023.csv'\n",
    "fname='uploads/meter_23141644_LP_03-10-2023.csv'\n",
    "fname='uploads/meter_23141644_LP_01-03-2024.csv'\n",
    "#fname='uploads/1694442555_9_5acc46e3.csv'\n",
    "#fname='uploads/c595_1696146559_9.csv'\n",
    "#meter = read_data('data/meter-big.csv')\n",
    "meter = read_data(fname)\n",
    "#meter = pd.read_excel(fname, skiprows=11)"
   ],
   "metadata": {
    "collapsed": false,
    "ExecuteTime": {
     "end_time": "2024-03-02T14:48:09.285677Z",
     "start_time": "2024-03-02T14:48:09.084357Z"
    }
   },
   "id": "3ec9200162f86bf0"
  },
  {
   "cell_type": "code",
   "execution_count": 3,
   "outputs": [],
   "source": [
    "def read_solar_data_from_noga(dir):\n",
    "    # scan all .csv files in dir\n",
    "    files = [f for f in os.listdir(dir) if os.path.isfile(os.path.join(dir, f)) and f.endswith('.csv')]\n",
    "    # read each file as a dataframe\n",
    "    dfs = [pd.read_csv(os.path.join(dir, f)) for f in files]\n",
    "    # concatenate all dataframes\n",
    "    df = pd.concat(dfs)\n",
    "    return df"
   ],
   "metadata": {
    "collapsed": false,
    "ExecuteTime": {
     "end_time": "2024-03-02T14:48:09.544399Z",
     "start_time": "2024-03-02T14:48:09.539132Z"
    }
   },
   "id": "966f47efa11529ed"
  },
  {
   "cell_type": "code",
   "execution_count": 4,
   "outputs": [],
   "source": [
    "def merge_solar_data(meter, use_noga_data=False):\n",
    "    if use_noga_data:\n",
    "        # read solar data (to fetch it, run notebooks/charts/code/fetch_noga.py)\n",
    "        solar = read_solar_data('../charts/data/noga')\n",
    "        solar['time'] = pd.to_datetime(solar['time'], format='%Y%m%d %H:%M:%S')\n",
    "        solar.set_index('time', inplace=True)\n",
    "        solar = solar.resample('1H').sum()\n",
    "        solar.reset_index(inplace=True)\n",
    "        \n",
    "        max_solar = solar['PV generation'].max()\n",
    "        solar['PV generation normalized'] = solar['PV generation'] / max_solar\n",
    "        solar.drop(columns=['PV generation'], inplace=True)\n",
    "        \n",
    "        # add the solar data to the meter data\n",
    "        meter = meter.reset_index().merge(solar, on='time', how='left').set_index('time')\n",
    "    else:   \n",
    "        # source: https://joint-research-centre.ec.europa.eu/photovoltaic-geographical-information-system-pvgis/pvgis-tools/hourly-radiation_en\n",
    "        \n",
    "        solar = pd.read_csv('data/solar_radiation.csv', skiprows=10)\n",
    "        solar = solar.iloc[:-7]\n",
    "        pattern = r'(\\d{4})(\\d{2})(\\d{2}):(\\d{2})(\\d{2})'\n",
    "        \n",
    "        # Extract components into new columns\n",
    "        time_cols = ['year','month', 'mday', 'hour','minute']\n",
    "        solar[time_cols] = solar['time'].str.extract(pattern)\n",
    "        for t in time_cols:\n",
    "            solar[t] = solar[t].astype(int)\n",
    "        solar['PV generation normalized'] = solar['P'].astype(float) / 1000  # convert from an installed value of 1kW\n",
    "        saved_index = meter.index.copy()\n",
    "        meter = meter.merge(solar[['month', 'mday', 'hour', 'PV generation normalized']], on=['month','mday', 'hour'], how='left')\n",
    "        meter.index = saved_index\n",
    "    return meter"
   ],
   "metadata": {
    "collapsed": false,
    "ExecuteTime": {
     "end_time": "2024-03-02T14:48:10.175519Z",
     "start_time": "2024-03-02T14:48:10.171856Z"
    }
   },
   "id": "e073e29ecf78d31e"
  },
  {
   "cell_type": "code",
   "execution_count": 5,
   "outputs": [],
   "source": [
    "def battery_charged_from_grid(df, capacity, charge_power, discharge_power, min_capacity=0.2):\n",
    "    '''\n",
    "    Take a dataframe containing meter data and simulate the loads after adding a battery.\n",
    "    The battery starts at zero charge. When the rate is lowest (more precisely column 'charge_on'), it charges at rate charge_power.\n",
    "    When the rate is not lowest (more precisely column 'discharge_on'), it discharges and reduces from the metered load. It stops charging when\n",
    "    it reaches min_capacity*capacity (typically 20% of capacity, to increase battery life).\n",
    "    '''\n",
    "    \n",
    "    if 'charge_on' not in df.columns:\n",
    "        # use a fixed charge schedule\n",
    "        df['charge_on'] = apply_filter(df, True, lambda x:filter_hour_and(x, 0, 7), default_val=False)\n",
    "    if 'discharge_on' not in df.columns:\n",
    "        # use a fixed charge schedule\n",
    "        df['discharge_on'] = apply_filter(df, True, lambda x:filter_hour_and(x, 10, 23), default_val=False)\n",
    "    \n",
    "    df['charge'] = 0\n",
    "    df['consumption_with_battery'] = df['consumption']\n",
    "    curr_charge = 0\n",
    "    # iterate over rows of df, adding charging and discharging\n",
    "    for i, row in df.iterrows():\n",
    "        if row['charge_on']:   # increase consumption and also the charge in the battery\n",
    "            if curr_charge < capacity:\n",
    "                curr_charge += charge_power\n",
    "                curr_charge = min(curr_charge, capacity)\n",
    "                df.loc[i, 'consumption_with_battery'] = df.loc[i, 'consumption'] + charge_power\n",
    "            df.loc[i, 'charge'] = curr_charge\n",
    "        else:  # draw from battery if possible\n",
    "            df.loc[i, 'charge'] = curr_charge   # fallback if we don't hit any other branch\n",
    "            if row['discharge_on']:\n",
    "                if curr_charge > min_capacity*capacity:  # have juice\n",
    "                    draw_from_battery = min(row['consumption'], discharge_power, curr_charge - min_capacity*capacity)\n",
    "                    draw_from_battery = max(draw_from_battery, 0)\n",
    "                    curr_charge -= draw_from_battery   \n",
    "                    curr_charge = max(curr_charge, 0)\n",
    "                    df.loc[i, 'charge'] = curr_charge\n",
    "                    df.loc[i, 'consumption_with_battery'] = df.loc[i, 'consumption'] - draw_from_battery\n",
    "                else: # battery depleted\n",
    "                    pass\n",
    "    \n",
    "    return df"
   ],
   "metadata": {
    "collapsed": false,
    "ExecuteTime": {
     "end_time": "2024-03-02T14:48:11.505902Z",
     "start_time": "2024-03-02T14:48:11.499086Z"
    }
   },
   "id": "78cdd734dcb213b0"
  },
  {
   "cell_type": "code",
   "execution_count": 32,
   "outputs": [],
   "source": [
    "def battery_charged_from_solar(df, capacity, max_pv_generation, min_capacity=0.2):\n",
    "    '''\n",
    "    Take a dataframe containing meter data and simulate the loads after adding a battery and solar.\n",
    "\n",
    "    The battery starts at zero charge.\n",
    "    Solar generation goes to consumption first.\n",
    "    Any surplus generation goes to battery.\n",
    "\n",
    "    When it's time to discharge (defined by column 'discharge_on'), it discharges and reduces from the metered load. It stops charging when\n",
    "    it reaches min_capacity*capacity (typically 20% of capacity, to increase battery life).\n",
    "    '''\n",
    "    \n",
    "    if 'discharge_on' not in df.columns:\n",
    "        # use a fixed charge schedule\n",
    "        df['discharge_on'] = apply_filter(df, True, lambda x:filter_hour_and(x, 16, 23), default_val=False)\n",
    "\n",
    "    if 'PV generation' not in df.columns:\n",
    "        # use a fixed charge schedule\n",
    "        df['PV generation'] = df['PV generation normalized'] * max_pv_generation\n",
    "    \n",
    "    df['charge'] = 0\n",
    "    df['surplus generation'] = 0\n",
    "    df['consumption_after'] = df['consumption']\n",
    "    curr_charge = 0\n",
    "    # iterate over rows of df, adding charging and discharging\n",
    "    for i, row in df.iterrows():\n",
    "        pv_gen = row['PV generation']\n",
    "        if pv_gen > 0:\n",
    "            charge_before = curr_charge\n",
    "            solar_to_consumption = min(pv_gen, row['consumption'])\n",
    "            solar_to_battery = pv_gen - solar_to_consumption\n",
    "            df.loc[i, 'consumption_after'] = df.loc[i, 'consumption'] - solar_to_consumption\n",
    "            curr_charge += solar_to_battery\n",
    "            curr_charge = min(curr_charge, capacity)\n",
    "            df.loc[i, 'surplus generation'] = pv_gen - solar_to_consumption - (curr_charge - charge_before)\n",
    "            df.loc[i, 'charge'] = curr_charge\n",
    "        else:  # no generation\n",
    "            if row['discharge_on']:\n",
    "                if curr_charge > min_capacity*capacity:  # have juice\n",
    "                    draw_from_battery = min(row['consumption'], curr_charge - min_capacity*capacity)\n",
    "                    draw_from_battery = max(draw_from_battery, 0)\n",
    "                    curr_charge -= draw_from_battery   \n",
    "                    curr_charge = max(curr_charge, 0)\n",
    "                    df.loc[i, 'charge'] = curr_charge\n",
    "                    df.loc[i, 'consumption_after'] = df.loc[i, 'consumption'] - draw_from_battery\n",
    "                else: # battery depleted\n",
    "                    pass    \n",
    "    return df\n"
   ],
   "metadata": {
    "collapsed": false,
    "ExecuteTime": {
     "end_time": "2024-03-02T15:22:30.913977Z",
     "start_time": "2024-03-02T15:22:30.884549Z"
    }
   },
   "id": "a69a78dcf1ba7d9d"
  },
  {
   "cell_type": "code",
   "execution_count": 19,
   "outputs": [
    {
     "data": {
      "text/plain": "              no_discount       taoz2  pazgas_nighttime  electra_nighttime  \\\ntimeperiod                                                                   \nיולי 2023      491.951689  668.681207        474.954746         469.289099   \nאוגוסט 2023    565.065831  772.640965        549.225773         543.945754   \nספטמבר 2023    489.116659  650.888884        477.509608         473.640591   \nאוקטובר 2023   406.430747  324.638111        397.446597         394.451880   \nנובמבר 2023    396.156259  318.269984        388.539572         386.000677   \nדצמבר 2023     572.939104  784.227940        564.167267         561.243321   \nינואר 2024     736.058346  915.976321        721.148995         716.179211   \nפברואר 2024    687.040905  841.495695        675.185145         671.233226   \n\n              cellcom_nighttime  \ntimeperiod                       \nיולי 2023            473.416435  \nאוגוסט 2023          546.289721  \nספטמבר 2023          476.259343  \nאוקטובר 2023         395.861412  \nנובמבר 2023          385.962442  \nדצמבר 2023           558.743158  \nינואר 2024           712.379074  \nפברואר 2024          665.919672  ",
      "text/html": "<div>\n<style scoped>\n    .dataframe tbody tr th:only-of-type {\n        vertical-align: middle;\n    }\n\n    .dataframe tbody tr th {\n        vertical-align: top;\n    }\n\n    .dataframe thead th {\n        text-align: right;\n    }\n</style>\n<table border=\"1\" class=\"dataframe\">\n  <thead>\n    <tr style=\"text-align: right;\">\n      <th></th>\n      <th>no_discount</th>\n      <th>taoz2</th>\n      <th>pazgas_nighttime</th>\n      <th>electra_nighttime</th>\n      <th>cellcom_nighttime</th>\n    </tr>\n    <tr>\n      <th>timeperiod</th>\n      <th></th>\n      <th></th>\n      <th></th>\n      <th></th>\n      <th></th>\n    </tr>\n  </thead>\n  <tbody>\n    <tr>\n      <th>יולי 2023</th>\n      <td>491.951689</td>\n      <td>668.681207</td>\n      <td>474.954746</td>\n      <td>469.289099</td>\n      <td>473.416435</td>\n    </tr>\n    <tr>\n      <th>אוגוסט 2023</th>\n      <td>565.065831</td>\n      <td>772.640965</td>\n      <td>549.225773</td>\n      <td>543.945754</td>\n      <td>546.289721</td>\n    </tr>\n    <tr>\n      <th>ספטמבר 2023</th>\n      <td>489.116659</td>\n      <td>650.888884</td>\n      <td>477.509608</td>\n      <td>473.640591</td>\n      <td>476.259343</td>\n    </tr>\n    <tr>\n      <th>אוקטובר 2023</th>\n      <td>406.430747</td>\n      <td>324.638111</td>\n      <td>397.446597</td>\n      <td>394.451880</td>\n      <td>395.861412</td>\n    </tr>\n    <tr>\n      <th>נובמבר 2023</th>\n      <td>396.156259</td>\n      <td>318.269984</td>\n      <td>388.539572</td>\n      <td>386.000677</td>\n      <td>385.962442</td>\n    </tr>\n    <tr>\n      <th>דצמבר 2023</th>\n      <td>572.939104</td>\n      <td>784.227940</td>\n      <td>564.167267</td>\n      <td>561.243321</td>\n      <td>558.743158</td>\n    </tr>\n    <tr>\n      <th>ינואר 2024</th>\n      <td>736.058346</td>\n      <td>915.976321</td>\n      <td>721.148995</td>\n      <td>716.179211</td>\n      <td>712.379074</td>\n    </tr>\n    <tr>\n      <th>פברואר 2024</th>\n      <td>687.040905</td>\n      <td>841.495695</td>\n      <td>675.185145</td>\n      <td>671.233226</td>\n      <td>665.919672</td>\n    </tr>\n  </tbody>\n</table>\n</div>"
     },
     "execution_count": 19,
     "metadata": {},
     "output_type": "execute_result"
    }
   ],
   "source": [
    "meter = read_data(fname)\n",
    "costs, conf = compute_costs(meter)\n",
    "costs[['no_discount', 'taoz2', 'pazgas_nighttime', 'electra_nighttime', 'cellcom_nighttime']]"
   ],
   "metadata": {
    "collapsed": false,
    "ExecuteTime": {
     "end_time": "2024-03-02T15:10:13.077793Z",
     "start_time": "2024-03-02T15:10:12.750539Z"
    }
   },
   "id": "87188181fa58118e"
  },
  {
   "cell_type": "code",
   "execution_count": 29,
   "outputs": [
    {
     "data": {
      "text/plain": "              no_discount       taoz2  pazgas_nighttime  electra_nighttime  \\\ntimeperiod                                                                   \nיולי 2023      248.898813  474.868290        245.299160         244.099275   \nאוגוסט 2023    306.024754  566.078887        302.162921         300.875643   \nספטמבר 2023    302.906054  502.402590        300.174638         299.264166   \nאוקטובר 2023   251.372169  220.537475        249.540727         248.930246   \nנובמבר 2023    268.715618  232.711016        266.843017         266.218817   \nדצמבר 2023     408.998534  671.479779        406.900197         406.200751   \nינואר 2024     526.738164  772.018876        520.299613         518.153429   \nפברואר 2024    480.103156  699.176740        474.645558         472.826359   \n\n              surplus generation  \ntimeperiod                        \nיולי 2023              829.62700  \nאוגוסט 2023            785.27968  \nספטמבר 2023            865.28804  \nאוקטובר 2023           844.48800  \nנובמבר 2023            634.31460  \nדצמבר 2023             590.88844  \nינואר 2024             455.29672  \nפברואר 2024            538.94296  ",
      "text/html": "<div>\n<style scoped>\n    .dataframe tbody tr th:only-of-type {\n        vertical-align: middle;\n    }\n\n    .dataframe tbody tr th {\n        vertical-align: top;\n    }\n\n    .dataframe thead th {\n        text-align: right;\n    }\n</style>\n<table border=\"1\" class=\"dataframe\">\n  <thead>\n    <tr style=\"text-align: right;\">\n      <th></th>\n      <th>no_discount</th>\n      <th>taoz2</th>\n      <th>pazgas_nighttime</th>\n      <th>electra_nighttime</th>\n      <th>surplus generation</th>\n    </tr>\n    <tr>\n      <th>timeperiod</th>\n      <th></th>\n      <th></th>\n      <th></th>\n      <th></th>\n      <th></th>\n    </tr>\n  </thead>\n  <tbody>\n    <tr>\n      <th>יולי 2023</th>\n      <td>248.898813</td>\n      <td>474.868290</td>\n      <td>245.299160</td>\n      <td>244.099275</td>\n      <td>829.62700</td>\n    </tr>\n    <tr>\n      <th>אוגוסט 2023</th>\n      <td>306.024754</td>\n      <td>566.078887</td>\n      <td>302.162921</td>\n      <td>300.875643</td>\n      <td>785.27968</td>\n    </tr>\n    <tr>\n      <th>ספטמבר 2023</th>\n      <td>302.906054</td>\n      <td>502.402590</td>\n      <td>300.174638</td>\n      <td>299.264166</td>\n      <td>865.28804</td>\n    </tr>\n    <tr>\n      <th>אוקטובר 2023</th>\n      <td>251.372169</td>\n      <td>220.537475</td>\n      <td>249.540727</td>\n      <td>248.930246</td>\n      <td>844.48800</td>\n    </tr>\n    <tr>\n      <th>נובמבר 2023</th>\n      <td>268.715618</td>\n      <td>232.711016</td>\n      <td>266.843017</td>\n      <td>266.218817</td>\n      <td>634.31460</td>\n    </tr>\n    <tr>\n      <th>דצמבר 2023</th>\n      <td>408.998534</td>\n      <td>671.479779</td>\n      <td>406.900197</td>\n      <td>406.200751</td>\n      <td>590.88844</td>\n    </tr>\n    <tr>\n      <th>ינואר 2024</th>\n      <td>526.738164</td>\n      <td>772.018876</td>\n      <td>520.299613</td>\n      <td>518.153429</td>\n      <td>455.29672</td>\n    </tr>\n    <tr>\n      <th>פברואר 2024</th>\n      <td>480.103156</td>\n      <td>699.176740</td>\n      <td>474.645558</td>\n      <td>472.826359</td>\n      <td>538.94296</td>\n    </tr>\n  </tbody>\n</table>\n</div>"
     },
     "execution_count": 29,
     "metadata": {},
     "output_type": "execute_result"
    }
   ],
   "source": [
    "meter = merge_solar_data(read_data(fname))\n",
    "\n",
    "#add_battery(meter, 10, 1, 1, 0.2)\n",
    "meter = battery_charged_from_solar(meter, 5, 8, 0.2)\n",
    "#meter[['consumption', 'PV generation', 'charge', 'discharge_on', 'surplus generation', 'consumption_after']]\n",
    "meter['consumption'] = meter['consumption_after']\n",
    "costs, conf = compute_costs(meter)\n",
    "costs[['no_discount', 'taoz2', 'pazgas_nighttime', 'electra_nighttime', 'surplus generation']]"
   ],
   "metadata": {
    "collapsed": false,
    "ExecuteTime": {
     "end_time": "2024-03-02T15:21:38.640999Z",
     "start_time": "2024-03-02T15:21:37.534465Z"
    }
   },
   "id": "af76bfdb86fbc0b0"
  },
  {
   "cell_type": "code",
   "execution_count": 33,
   "outputs": [],
   "source": [
    "results = []\n",
    "for panels in [0, 8, 10, 12]:\n",
    "    for battery in [4.6*n for n in range(4)]:\n",
    "        meter = merge_solar_data(read_data(fname))\n",
    "        meter = battery_charged_from_solar(meter, battery, panels, 0.2)\n",
    "        #meter[['consumption', 'PV generation', 'charge', 'discharge_on', 'surplus generation', 'consumption_after']]\n",
    "        meter['consumption'] = meter['consumption_after']\n",
    "        costs, conf = compute_costs(meter)\n",
    "        total_cost = costs['no_discount'].sum()\n",
    "        total_gen = costs['surplus generation'].sum()\n",
    "        results.append(dict(panels=panels, battery=battery, cost=total_cost, gen=total_gen))\n",
    "\n",
    "results = pd.DataFrame(data=results)\n",
    "results['net'] = results['cost'] - 0.48*results['gen']"
   ],
   "metadata": {
    "collapsed": false,
    "ExecuteTime": {
     "end_time": "2024-03-02T15:22:48.092613Z",
     "start_time": "2024-03-02T15:22:35.618167Z"
    }
   },
   "id": "1224d785a8e24f26"
  },
  {
   "cell_type": "code",
   "execution_count": 34,
   "outputs": [
    {
     "data": {
      "text/plain": "    panels  battery         cost          gen          net\n0        0      0.0  4344.759541      0.00000  4344.759541\n1        0      4.6  4344.759541      0.00000  4344.759541\n2        0      9.2  4344.759541      0.00000  4344.759541\n3        0     13.8  4344.759541      0.00000  4344.759541\n4        8      0.0  3016.302884   5967.86044   151.729873\n5        8      4.6  2544.715300   5069.94044   111.143889\n6        8      9.2  2078.782398   4182.78716    71.044561\n7        8     13.8  1651.501694   3369.22908    34.271736\n8       10      0.0  2965.302151   7995.07580  -872.334233\n9       10      4.6  2493.714567   7097.15580  -912.920217\n10      10      9.2  2024.619582   6203.98180  -953.291682\n11      10     13.8  1587.783695   5372.23030  -990.886849\n12      12      0.0  2931.453883  10054.95008 -1894.922155\n13      12      4.6  2459.866299   9157.03008 -1935.508139\n14      12      9.2  1990.299685   8262.95808 -1975.920194\n15      12     13.8  1549.413003   7423.49372 -2013.863983",
      "text/html": "<div>\n<style scoped>\n    .dataframe tbody tr th:only-of-type {\n        vertical-align: middle;\n    }\n\n    .dataframe tbody tr th {\n        vertical-align: top;\n    }\n\n    .dataframe thead th {\n        text-align: right;\n    }\n</style>\n<table border=\"1\" class=\"dataframe\">\n  <thead>\n    <tr style=\"text-align: right;\">\n      <th></th>\n      <th>panels</th>\n      <th>battery</th>\n      <th>cost</th>\n      <th>gen</th>\n      <th>net</th>\n    </tr>\n  </thead>\n  <tbody>\n    <tr>\n      <th>0</th>\n      <td>0</td>\n      <td>0.0</td>\n      <td>4344.759541</td>\n      <td>0.00000</td>\n      <td>4344.759541</td>\n    </tr>\n    <tr>\n      <th>1</th>\n      <td>0</td>\n      <td>4.6</td>\n      <td>4344.759541</td>\n      <td>0.00000</td>\n      <td>4344.759541</td>\n    </tr>\n    <tr>\n      <th>2</th>\n      <td>0</td>\n      <td>9.2</td>\n      <td>4344.759541</td>\n      <td>0.00000</td>\n      <td>4344.759541</td>\n    </tr>\n    <tr>\n      <th>3</th>\n      <td>0</td>\n      <td>13.8</td>\n      <td>4344.759541</td>\n      <td>0.00000</td>\n      <td>4344.759541</td>\n    </tr>\n    <tr>\n      <th>4</th>\n      <td>8</td>\n      <td>0.0</td>\n      <td>3016.302884</td>\n      <td>5967.86044</td>\n      <td>151.729873</td>\n    </tr>\n    <tr>\n      <th>5</th>\n      <td>8</td>\n      <td>4.6</td>\n      <td>2544.715300</td>\n      <td>5069.94044</td>\n      <td>111.143889</td>\n    </tr>\n    <tr>\n      <th>6</th>\n      <td>8</td>\n      <td>9.2</td>\n      <td>2078.782398</td>\n      <td>4182.78716</td>\n      <td>71.044561</td>\n    </tr>\n    <tr>\n      <th>7</th>\n      <td>8</td>\n      <td>13.8</td>\n      <td>1651.501694</td>\n      <td>3369.22908</td>\n      <td>34.271736</td>\n    </tr>\n    <tr>\n      <th>8</th>\n      <td>10</td>\n      <td>0.0</td>\n      <td>2965.302151</td>\n      <td>7995.07580</td>\n      <td>-872.334233</td>\n    </tr>\n    <tr>\n      <th>9</th>\n      <td>10</td>\n      <td>4.6</td>\n      <td>2493.714567</td>\n      <td>7097.15580</td>\n      <td>-912.920217</td>\n    </tr>\n    <tr>\n      <th>10</th>\n      <td>10</td>\n      <td>9.2</td>\n      <td>2024.619582</td>\n      <td>6203.98180</td>\n      <td>-953.291682</td>\n    </tr>\n    <tr>\n      <th>11</th>\n      <td>10</td>\n      <td>13.8</td>\n      <td>1587.783695</td>\n      <td>5372.23030</td>\n      <td>-990.886849</td>\n    </tr>\n    <tr>\n      <th>12</th>\n      <td>12</td>\n      <td>0.0</td>\n      <td>2931.453883</td>\n      <td>10054.95008</td>\n      <td>-1894.922155</td>\n    </tr>\n    <tr>\n      <th>13</th>\n      <td>12</td>\n      <td>4.6</td>\n      <td>2459.866299</td>\n      <td>9157.03008</td>\n      <td>-1935.508139</td>\n    </tr>\n    <tr>\n      <th>14</th>\n      <td>12</td>\n      <td>9.2</td>\n      <td>1990.299685</td>\n      <td>8262.95808</td>\n      <td>-1975.920194</td>\n    </tr>\n    <tr>\n      <th>15</th>\n      <td>12</td>\n      <td>13.8</td>\n      <td>1549.413003</td>\n      <td>7423.49372</td>\n      <td>-2013.863983</td>\n    </tr>\n  </tbody>\n</table>\n</div>"
     },
     "execution_count": 34,
     "metadata": {},
     "output_type": "execute_result"
    }
   ],
   "source": [
    "results"
   ],
   "metadata": {
    "collapsed": false,
    "ExecuteTime": {
     "end_time": "2024-03-02T15:22:48.096524Z",
     "start_time": "2024-03-02T15:22:48.093880Z"
    }
   },
   "id": "6870a23e1859f22d"
  },
  {
   "cell_type": "code",
   "execution_count": 36,
   "outputs": [
    {
     "data": {
      "text/plain": "consumption           4963.16404\nPV generation         8909.38192\nsurplus generation    5329.56296\ndtype: float64"
     },
     "execution_count": 36,
     "metadata": {},
     "output_type": "execute_result"
    }
   ],
   "source": [
    "battery=4.6\n",
    "panels=8\n",
    "meter = merge_solar_data(read_data(fname))\n",
    "meter = battery_charged_from_solar(meter, battery, panels, 0.2)\n",
    "#meter[['consumption', 'PV generation', 'charge', 'discharge_on', 'surplus generation', 'consumption_after']]\n",
    "meter['consumption'] = meter['consumption_after']\n",
    "meter[['consumption', 'PV generation', 'surplus generation']].sum()\n"
   ],
   "metadata": {
    "collapsed": false,
    "ExecuteTime": {
     "end_time": "2024-03-02T15:28:20.880925Z",
     "start_time": "2024-03-02T15:28:19.403238Z"
    }
   },
   "id": "bbaf8ebb700b21f6"
  },
  {
   "cell_type": "code",
   "execution_count": null,
   "outputs": [],
   "source": [
    "meter['consumption'] = meter['consumption_with_battery']\n",
    "costs, conf = compute_costs(meter)\n",
    "costs[['no_discount', 'taoz2', 'pazgas_nighttime', 'electra_nighttime', 'cellcom_nighttime']]"
   ],
   "metadata": {
    "collapsed": false
   },
   "id": "a5aeea549b16cbb6"
  },
  {
   "cell_type": "code",
   "execution_count": 37,
   "outputs": [
    {
     "data": {
      "text/plain": "                     consumption  charge  consumption_with_battery  charge_on  \\\ntime                                                                            \n2023-06-21 08:00:00        0.277     0.0                     0.277      False   \n2023-06-21 09:00:00        0.570     0.0                     0.570      False   \n2023-06-21 10:00:00        0.465     0.0                     0.465      False   \n2023-06-21 11:00:00        0.904     0.0                     0.904      False   \n2023-06-21 12:00:00        0.626     0.0                     0.626      False   \n...                          ...     ...                       ...        ...   \n2024-02-29 19:00:00        1.285     2.0                     1.285      False   \n2024-02-29 20:00:00        4.303     2.0                     4.303      False   \n2024-02-29 21:00:00        4.849     2.0                     4.849      False   \n2024-02-29 22:00:00        4.978     2.0                     4.978      False   \n2024-02-29 23:00:00        1.368     2.0                     1.368      False   \n\n                     discharge_on  \ntime                               \n2023-06-21 08:00:00         False  \n2023-06-21 09:00:00         False  \n2023-06-21 10:00:00          True  \n2023-06-21 11:00:00          True  \n2023-06-21 12:00:00          True  \n...                           ...  \n2024-02-29 19:00:00          True  \n2024-02-29 20:00:00          True  \n2024-02-29 21:00:00          True  \n2024-02-29 22:00:00          True  \n2024-02-29 23:00:00         False  \n\n[6088 rows x 5 columns]",
      "text/html": "<div>\n<style scoped>\n    .dataframe tbody tr th:only-of-type {\n        vertical-align: middle;\n    }\n\n    .dataframe tbody tr th {\n        vertical-align: top;\n    }\n\n    .dataframe thead th {\n        text-align: right;\n    }\n</style>\n<table border=\"1\" class=\"dataframe\">\n  <thead>\n    <tr style=\"text-align: right;\">\n      <th></th>\n      <th>consumption</th>\n      <th>charge</th>\n      <th>consumption_with_battery</th>\n      <th>charge_on</th>\n      <th>discharge_on</th>\n    </tr>\n    <tr>\n      <th>time</th>\n      <th></th>\n      <th></th>\n      <th></th>\n      <th></th>\n      <th></th>\n    </tr>\n  </thead>\n  <tbody>\n    <tr>\n      <th>2023-06-21 08:00:00</th>\n      <td>0.277</td>\n      <td>0.0</td>\n      <td>0.277</td>\n      <td>False</td>\n      <td>False</td>\n    </tr>\n    <tr>\n      <th>2023-06-21 09:00:00</th>\n      <td>0.570</td>\n      <td>0.0</td>\n      <td>0.570</td>\n      <td>False</td>\n      <td>False</td>\n    </tr>\n    <tr>\n      <th>2023-06-21 10:00:00</th>\n      <td>0.465</td>\n      <td>0.0</td>\n      <td>0.465</td>\n      <td>False</td>\n      <td>True</td>\n    </tr>\n    <tr>\n      <th>2023-06-21 11:00:00</th>\n      <td>0.904</td>\n      <td>0.0</td>\n      <td>0.904</td>\n      <td>False</td>\n      <td>True</td>\n    </tr>\n    <tr>\n      <th>2023-06-21 12:00:00</th>\n      <td>0.626</td>\n      <td>0.0</td>\n      <td>0.626</td>\n      <td>False</td>\n      <td>True</td>\n    </tr>\n    <tr>\n      <th>...</th>\n      <td>...</td>\n      <td>...</td>\n      <td>...</td>\n      <td>...</td>\n      <td>...</td>\n    </tr>\n    <tr>\n      <th>2024-02-29 19:00:00</th>\n      <td>1.285</td>\n      <td>2.0</td>\n      <td>1.285</td>\n      <td>False</td>\n      <td>True</td>\n    </tr>\n    <tr>\n      <th>2024-02-29 20:00:00</th>\n      <td>4.303</td>\n      <td>2.0</td>\n      <td>4.303</td>\n      <td>False</td>\n      <td>True</td>\n    </tr>\n    <tr>\n      <th>2024-02-29 21:00:00</th>\n      <td>4.849</td>\n      <td>2.0</td>\n      <td>4.849</td>\n      <td>False</td>\n      <td>True</td>\n    </tr>\n    <tr>\n      <th>2024-02-29 22:00:00</th>\n      <td>4.978</td>\n      <td>2.0</td>\n      <td>4.978</td>\n      <td>False</td>\n      <td>True</td>\n    </tr>\n    <tr>\n      <th>2024-02-29 23:00:00</th>\n      <td>1.368</td>\n      <td>2.0</td>\n      <td>1.368</td>\n      <td>False</td>\n      <td>False</td>\n    </tr>\n  </tbody>\n</table>\n<p>6088 rows × 5 columns</p>\n</div>"
     },
     "execution_count": 37,
     "metadata": {},
     "output_type": "execute_result"
    }
   ],
   "source": [
    "meter = read_data(fname)\n",
    "add_battery(meter, 10, 1, 1, 0.2)\n",
    "meter[['consumption', 'charge', 'consumption_with_battery', 'charge_on', 'discharge_on']]"
   ],
   "metadata": {
    "collapsed": false,
    "ExecuteTime": {
     "end_time": "2024-03-02T06:46:39.198697Z",
     "start_time": "2024-03-02T06:46:38.145451Z"
    }
   },
   "id": "67b1fdcf9d09cd70"
  },
  {
   "cell_type": "code",
   "execution_count": 14,
   "id": "69304e8c",
   "metadata": {},
   "outputs": [],
   "source": [
    "#meter = read_data('data/meter.csv')\n",
    "\n",
    "costs, conf = compute_costs(meter)"
   ]
  },
  {
   "cell_type": "code",
   "execution_count": 15,
   "id": "ee58ce18",
   "metadata": {},
   "outputs": [
    {
     "data": {
      "text/html": [
       "<div>\n",
       "<style scoped>\n",
       "    .dataframe tbody tr th:only-of-type {\n",
       "        vertical-align: middle;\n",
       "    }\n",
       "\n",
       "    .dataframe tbody tr th {\n",
       "        vertical-align: top;\n",
       "    }\n",
       "\n",
       "    .dataframe thead th {\n",
       "        text-align: right;\n",
       "    }\n",
       "</style>\n",
       "<table border=\"1\" class=\"dataframe\">\n",
       "  <thead>\n",
       "    <tr style=\"text-align: right;\">\n",
       "      <th></th>\n",
       "      <th>no_discount</th>\n",
       "      <th>pazgas_daytime</th>\n",
       "      <th>pazgas_unlimited</th>\n",
       "      <th>pazgas_weekend</th>\n",
       "      <th>pazgas_nighttime</th>\n",
       "      <th>amisragas_unlimited</th>\n",
       "      <th>electra_power</th>\n",
       "      <th>electra_hitec</th>\n",
       "      <th>cellcom_flat</th>\n",
       "      <th>cellcom_home_office</th>\n",
       "      <th>cellcom_nighttime</th>\n",
       "      <th>taoz1</th>\n",
       "      <th>taoz2</th>\n",
       "    </tr>\n",
       "    <tr>\n",
       "      <th>timeperiod</th>\n",
       "      <th></th>\n",
       "      <th></th>\n",
       "      <th></th>\n",
       "      <th></th>\n",
       "      <th></th>\n",
       "      <th></th>\n",
       "      <th></th>\n",
       "      <th></th>\n",
       "      <th></th>\n",
       "      <th></th>\n",
       "      <th></th>\n",
       "      <th></th>\n",
       "      <th></th>\n",
       "    </tr>\n",
       "  </thead>\n",
       "  <tbody>\n",
       "    <tr>\n",
       "      <th>יולי 2023</th>\n",
       "      <td>480.898700</td>\n",
       "      <td>456.274136</td>\n",
       "      <td>456.853765</td>\n",
       "      <td>466.375076</td>\n",
       "      <td>464.283638</td>\n",
       "      <td>449.640284</td>\n",
       "      <td>456.853765</td>\n",
       "      <td>456.181365</td>\n",
       "      <td>456.853765</td>\n",
       "      <td>460.332409</td>\n",
       "      <td>462.779889</td>\n",
       "      <td>831.918762</td>\n",
       "      <td>658.848762</td>\n",
       "    </tr>\n",
       "    <tr>\n",
       "      <th>אוגוסט 2023</th>\n",
       "      <td>552.370140</td>\n",
       "      <td>521.796400</td>\n",
       "      <td>524.751633</td>\n",
       "      <td>536.622006</td>\n",
       "      <td>536.885971</td>\n",
       "      <td>516.466081</td>\n",
       "      <td>524.751633</td>\n",
       "      <td>524.282930</td>\n",
       "      <td>524.751633</td>\n",
       "      <td>525.303744</td>\n",
       "      <td>534.015885</td>\n",
       "      <td>934.830385</td>\n",
       "      <td>761.760385</td>\n",
       "    </tr>\n",
       "    <tr>\n",
       "      <th>ספטמבר 2023</th>\n",
       "      <td>478.127366</td>\n",
       "      <td>454.632540</td>\n",
       "      <td>454.220998</td>\n",
       "      <td>461.268697</td>\n",
       "      <td>466.781098</td>\n",
       "      <td>447.049088</td>\n",
       "      <td>454.220998</td>\n",
       "      <td>456.304663</td>\n",
       "      <td>454.220998</td>\n",
       "      <td>459.552708</td>\n",
       "      <td>465.558924</td>\n",
       "      <td>814.176691</td>\n",
       "      <td>641.106691</td>\n",
       "    </tr>\n",
       "    <tr>\n",
       "      <th>אוקטובר 2023</th>\n",
       "      <td>397.299211</td>\n",
       "      <td>379.629497</td>\n",
       "      <td>377.434250</td>\n",
       "      <td>386.213262</td>\n",
       "      <td>388.516913</td>\n",
       "      <td>371.474762</td>\n",
       "      <td>377.434250</td>\n",
       "      <td>381.151261</td>\n",
       "      <td>377.434250</td>\n",
       "      <td>382.092277</td>\n",
       "      <td>386.967344</td>\n",
       "      <td>491.941286</td>\n",
       "      <td>318.871286</td>\n",
       "    </tr>\n",
       "    <tr>\n",
       "      <th>נובמבר 2023</th>\n",
       "      <td>128.446006</td>\n",
       "      <td>122.693821</td>\n",
       "      <td>122.023706</td>\n",
       "      <td>123.123075</td>\n",
       "      <td>125.519395</td>\n",
       "      <td>120.097015</td>\n",
       "      <td>122.023706</td>\n",
       "      <td>123.216801</td>\n",
       "      <td>122.023706</td>\n",
       "      <td>124.629159</td>\n",
       "      <td>124.883626</td>\n",
       "      <td>301.159487</td>\n",
       "      <td>128.089487</td>\n",
       "    </tr>\n",
       "  </tbody>\n",
       "</table>\n",
       "</div>"
      ],
      "text/plain": [
       "              no_discount  pazgas_daytime  pazgas_unlimited  pazgas_weekend  \\\n",
       "timeperiod                                                                    \n",
       "יולי 2023      480.898700      456.274136        456.853765      466.375076   \n",
       "אוגוסט 2023    552.370140      521.796400        524.751633      536.622006   \n",
       "ספטמבר 2023    478.127366      454.632540        454.220998      461.268697   \n",
       "אוקטובר 2023   397.299211      379.629497        377.434250      386.213262   \n",
       "נובמבר 2023    128.446006      122.693821        122.023706      123.123075   \n",
       "\n",
       "              pazgas_nighttime  amisragas_unlimited  electra_power  \\\n",
       "timeperiod                                                           \n",
       "יולי 2023           464.283638           449.640284     456.853765   \n",
       "אוגוסט 2023         536.885971           516.466081     524.751633   \n",
       "ספטמבר 2023         466.781098           447.049088     454.220998   \n",
       "אוקטובר 2023        388.516913           371.474762     377.434250   \n",
       "נובמבר 2023         125.519395           120.097015     122.023706   \n",
       "\n",
       "              electra_hitec  cellcom_flat  cellcom_home_office  \\\n",
       "timeperiod                                                       \n",
       "יולי 2023        456.181365    456.853765           460.332409   \n",
       "אוגוסט 2023      524.282930    524.751633           525.303744   \n",
       "ספטמבר 2023      456.304663    454.220998           459.552708   \n",
       "אוקטובר 2023     381.151261    377.434250           382.092277   \n",
       "נובמבר 2023      123.216801    122.023706           124.629159   \n",
       "\n",
       "              cellcom_nighttime       taoz1       taoz2  \n",
       "timeperiod                                               \n",
       "יולי 2023            462.779889  831.918762  658.848762  \n",
       "אוגוסט 2023          534.015885  934.830385  761.760385  \n",
       "ספטמבר 2023          465.558924  814.176691  641.106691  \n",
       "אוקטובר 2023         386.967344  491.941286  318.871286  \n",
       "נובמבר 2023          124.883626  301.159487  128.089487  "
      ]
     },
     "execution_count": 15,
     "metadata": {},
     "output_type": "execute_result"
    }
   ],
   "source": [
    "costs"
   ]
  },
  {
   "cell_type": "code",
   "execution_count": 16,
   "id": "849b4d84",
   "metadata": {
    "scrolled": false
   },
   "outputs": [
    {
     "data": {
      "text/html": [
       "<style type=\"text/css\">\n",
       "#T_02279_row0_col5, #T_02279_row1_col5, #T_02279_row2_col5, #T_02279_row3_col12, #T_02279_row4_col5 {\n",
       "  background-color: #b1d77a;\n",
       "}\n",
       "#T_02279_row0_col11, #T_02279_row1_col11, #T_02279_row2_col11, #T_02279_row3_col11, #T_02279_row4_col11 {\n",
       "  background-color: #f287d0;\n",
       "}\n",
       "</style>\n",
       "<table id=\"T_02279\" class=\"cost-table\">\n",
       "  <thead>\n",
       "    <tr>\n",
       "      <th class=\"blank level0\" >&nbsp;</th>\n",
       "      <th id=\"T_02279_level0_col0\" class=\"col_heading level0 col0\" >חחי</th>\n",
       "      <th id=\"T_02279_level0_col1\" class=\"col_heading level0 col1\" >פזגז יום</th>\n",
       "      <th id=\"T_02279_level0_col2\" class=\"col_heading level0 col2\" >פזגז ללא הגבלה</th>\n",
       "      <th id=\"T_02279_level0_col3\" class=\"col_heading level0 col3\" >פזגז סופ״ש</th>\n",
       "      <th id=\"T_02279_level0_col4\" class=\"col_heading level0 col4\" >פזגז לילה</th>\n",
       "      <th id=\"T_02279_level0_col5\" class=\"col_heading level0 col5\" >אמישראגז</th>\n",
       "      <th id=\"T_02279_level0_col6\" class=\"col_heading level0 col6\" >5% אלקטרה פאואר</th>\n",
       "      <th id=\"T_02279_level0_col7\" class=\"col_heading level0 col7\" >אלקטרה הייטק</th>\n",
       "      <th id=\"T_02279_level0_col8\" class=\"col_heading level0 col8\" >סלקום 5%</th>\n",
       "      <th id=\"T_02279_level0_col9\" class=\"col_heading level0 col9\" >סלקום מהבית</th>\n",
       "      <th id=\"T_02279_level0_col10\" class=\"col_heading level0 col10\" >סלקום לילה</th>\n",
       "      <th id=\"T_02279_level0_col11\" class=\"col_heading level0 col11\" >תעו״ז חד-חודשי</th>\n",
       "      <th id=\"T_02279_level0_col12\" class=\"col_heading level0 col12\" >תעו״ז דו-חודשי</th>\n",
       "    </tr>\n",
       "    <tr>\n",
       "      <th class=\"index_name level0\" >תקופה</th>\n",
       "      <th class=\"blank col0\" >&nbsp;</th>\n",
       "      <th class=\"blank col1\" >&nbsp;</th>\n",
       "      <th class=\"blank col2\" >&nbsp;</th>\n",
       "      <th class=\"blank col3\" >&nbsp;</th>\n",
       "      <th class=\"blank col4\" >&nbsp;</th>\n",
       "      <th class=\"blank col5\" >&nbsp;</th>\n",
       "      <th class=\"blank col6\" >&nbsp;</th>\n",
       "      <th class=\"blank col7\" >&nbsp;</th>\n",
       "      <th class=\"blank col8\" >&nbsp;</th>\n",
       "      <th class=\"blank col9\" >&nbsp;</th>\n",
       "      <th class=\"blank col10\" >&nbsp;</th>\n",
       "      <th class=\"blank col11\" >&nbsp;</th>\n",
       "      <th class=\"blank col12\" >&nbsp;</th>\n",
       "    </tr>\n",
       "  </thead>\n",
       "  <tbody>\n",
       "    <tr>\n",
       "      <th id=\"T_02279_level0_row0\" class=\"row_heading level0 row0\" >יולי 2023</th>\n",
       "      <td id=\"T_02279_row0_col0\" class=\"data row0 col0\" >480.90</td>\n",
       "      <td id=\"T_02279_row0_col1\" class=\"data row0 col1\" >456.27</td>\n",
       "      <td id=\"T_02279_row0_col2\" class=\"data row0 col2\" >456.85</td>\n",
       "      <td id=\"T_02279_row0_col3\" class=\"data row0 col3\" >466.38</td>\n",
       "      <td id=\"T_02279_row0_col4\" class=\"data row0 col4\" >464.28</td>\n",
       "      <td id=\"T_02279_row0_col5\" class=\"data row0 col5\" >449.64</td>\n",
       "      <td id=\"T_02279_row0_col6\" class=\"data row0 col6\" >456.85</td>\n",
       "      <td id=\"T_02279_row0_col7\" class=\"data row0 col7\" >456.18</td>\n",
       "      <td id=\"T_02279_row0_col8\" class=\"data row0 col8\" >456.85</td>\n",
       "      <td id=\"T_02279_row0_col9\" class=\"data row0 col9\" >460.33</td>\n",
       "      <td id=\"T_02279_row0_col10\" class=\"data row0 col10\" >462.78</td>\n",
       "      <td id=\"T_02279_row0_col11\" class=\"data row0 col11 optional\" >831.92</td>\n",
       "      <td id=\"T_02279_row0_col12\" class=\"data row0 col12 optional\" >658.85</td>\n",
       "    </tr>\n",
       "    <tr>\n",
       "      <th id=\"T_02279_level0_row1\" class=\"row_heading level0 row1\" >אוגוסט 2023</th>\n",
       "      <td id=\"T_02279_row1_col0\" class=\"data row1 col0\" >552.37</td>\n",
       "      <td id=\"T_02279_row1_col1\" class=\"data row1 col1\" >521.80</td>\n",
       "      <td id=\"T_02279_row1_col2\" class=\"data row1 col2\" >524.75</td>\n",
       "      <td id=\"T_02279_row1_col3\" class=\"data row1 col3\" >536.62</td>\n",
       "      <td id=\"T_02279_row1_col4\" class=\"data row1 col4\" >536.89</td>\n",
       "      <td id=\"T_02279_row1_col5\" class=\"data row1 col5\" >516.47</td>\n",
       "      <td id=\"T_02279_row1_col6\" class=\"data row1 col6\" >524.75</td>\n",
       "      <td id=\"T_02279_row1_col7\" class=\"data row1 col7\" >524.28</td>\n",
       "      <td id=\"T_02279_row1_col8\" class=\"data row1 col8\" >524.75</td>\n",
       "      <td id=\"T_02279_row1_col9\" class=\"data row1 col9\" >525.30</td>\n",
       "      <td id=\"T_02279_row1_col10\" class=\"data row1 col10\" >534.02</td>\n",
       "      <td id=\"T_02279_row1_col11\" class=\"data row1 col11 optional\" >934.83</td>\n",
       "      <td id=\"T_02279_row1_col12\" class=\"data row1 col12 optional\" >761.76</td>\n",
       "    </tr>\n",
       "    <tr>\n",
       "      <th id=\"T_02279_level0_row2\" class=\"row_heading level0 row2\" >ספטמבר 2023</th>\n",
       "      <td id=\"T_02279_row2_col0\" class=\"data row2 col0\" >478.13</td>\n",
       "      <td id=\"T_02279_row2_col1\" class=\"data row2 col1\" >454.63</td>\n",
       "      <td id=\"T_02279_row2_col2\" class=\"data row2 col2\" >454.22</td>\n",
       "      <td id=\"T_02279_row2_col3\" class=\"data row2 col3\" >461.27</td>\n",
       "      <td id=\"T_02279_row2_col4\" class=\"data row2 col4\" >466.78</td>\n",
       "      <td id=\"T_02279_row2_col5\" class=\"data row2 col5\" >447.05</td>\n",
       "      <td id=\"T_02279_row2_col6\" class=\"data row2 col6\" >454.22</td>\n",
       "      <td id=\"T_02279_row2_col7\" class=\"data row2 col7\" >456.30</td>\n",
       "      <td id=\"T_02279_row2_col8\" class=\"data row2 col8\" >454.22</td>\n",
       "      <td id=\"T_02279_row2_col9\" class=\"data row2 col9\" >459.55</td>\n",
       "      <td id=\"T_02279_row2_col10\" class=\"data row2 col10\" >465.56</td>\n",
       "      <td id=\"T_02279_row2_col11\" class=\"data row2 col11 optional\" >814.18</td>\n",
       "      <td id=\"T_02279_row2_col12\" class=\"data row2 col12 optional\" >641.11</td>\n",
       "    </tr>\n",
       "    <tr>\n",
       "      <th id=\"T_02279_level0_row3\" class=\"row_heading level0 row3\" >אוקטובר 2023</th>\n",
       "      <td id=\"T_02279_row3_col0\" class=\"data row3 col0\" >397.30</td>\n",
       "      <td id=\"T_02279_row3_col1\" class=\"data row3 col1\" >379.63</td>\n",
       "      <td id=\"T_02279_row3_col2\" class=\"data row3 col2\" >377.43</td>\n",
       "      <td id=\"T_02279_row3_col3\" class=\"data row3 col3\" >386.21</td>\n",
       "      <td id=\"T_02279_row3_col4\" class=\"data row3 col4\" >388.52</td>\n",
       "      <td id=\"T_02279_row3_col5\" class=\"data row3 col5\" >371.47</td>\n",
       "      <td id=\"T_02279_row3_col6\" class=\"data row3 col6\" >377.43</td>\n",
       "      <td id=\"T_02279_row3_col7\" class=\"data row3 col7\" >381.15</td>\n",
       "      <td id=\"T_02279_row3_col8\" class=\"data row3 col8\" >377.43</td>\n",
       "      <td id=\"T_02279_row3_col9\" class=\"data row3 col9\" >382.09</td>\n",
       "      <td id=\"T_02279_row3_col10\" class=\"data row3 col10\" >386.97</td>\n",
       "      <td id=\"T_02279_row3_col11\" class=\"data row3 col11 optional\" >491.94</td>\n",
       "      <td id=\"T_02279_row3_col12\" class=\"data row3 col12 optional\" >318.87</td>\n",
       "    </tr>\n",
       "    <tr>\n",
       "      <th id=\"T_02279_level0_row4\" class=\"row_heading level0 row4\" >נובמבר 2023</th>\n",
       "      <td id=\"T_02279_row4_col0\" class=\"data row4 col0\" >128.45</td>\n",
       "      <td id=\"T_02279_row4_col1\" class=\"data row4 col1\" >122.69</td>\n",
       "      <td id=\"T_02279_row4_col2\" class=\"data row4 col2\" >122.02</td>\n",
       "      <td id=\"T_02279_row4_col3\" class=\"data row4 col3\" >123.12</td>\n",
       "      <td id=\"T_02279_row4_col4\" class=\"data row4 col4\" >125.52</td>\n",
       "      <td id=\"T_02279_row4_col5\" class=\"data row4 col5\" >120.10</td>\n",
       "      <td id=\"T_02279_row4_col6\" class=\"data row4 col6\" >122.02</td>\n",
       "      <td id=\"T_02279_row4_col7\" class=\"data row4 col7\" >123.22</td>\n",
       "      <td id=\"T_02279_row4_col8\" class=\"data row4 col8\" >122.02</td>\n",
       "      <td id=\"T_02279_row4_col9\" class=\"data row4 col9\" >124.63</td>\n",
       "      <td id=\"T_02279_row4_col10\" class=\"data row4 col10\" >124.88</td>\n",
       "      <td id=\"T_02279_row4_col11\" class=\"data row4 col11 optional\" >301.16</td>\n",
       "      <td id=\"T_02279_row4_col12\" class=\"data row4 col12 optional\" >128.09</td>\n",
       "    </tr>\n",
       "  </tbody>\n",
       "</table>\n"
      ],
      "text/plain": [
       "<pandas.io.formats.style.Styler at 0x14f53e760>"
      ]
     },
     "metadata": {},
     "output_type": "display_data"
    }
   ],
   "source": [
    "result = style_table(costs)\n",
    "display(result)"
   ]
  },
  {
   "cell_type": "code",
   "execution_count": 8,
   "id": "7288bbd4",
   "metadata": {},
   "outputs": [],
   "source": [
    "if False:\n",
    "    cols = [costs.columns[i] for i in [0,1,5, 6]]\n",
    "    display(style_table(costs[cols].copy()))"
   ]
  },
  {
   "cell_type": "code",
   "execution_count": 24,
   "id": "546c4f26",
   "metadata": {},
   "outputs": [],
   "source": [
    "v = meter.query(\"timeperiod == '2023095'\")\n",
    "\n",
    "#meter.groupby('month').mean(numeric_only=True).plot()\n",
    "#meter.groupby('hour').mean(numeric_only=True).plot()"
   ]
  },
  {
   "cell_type": "code",
   "execution_count": 41,
   "id": "69e8d35b",
   "metadata": {},
   "outputs": [
    {
     "data": {
      "text/html": [
       "<div>\n",
       "<style scoped>\n",
       "    .dataframe tbody tr th:only-of-type {\n",
       "        vertical-align: middle;\n",
       "    }\n",
       "\n",
       "    .dataframe tbody tr th {\n",
       "        vertical-align: top;\n",
       "    }\n",
       "\n",
       "    .dataframe thead th {\n",
       "        text-align: right;\n",
       "    }\n",
       "</style>\n",
       "<table border=\"1\" class=\"dataframe\">\n",
       "  <thead>\n",
       "    <tr style=\"text-align: right;\">\n",
       "      <th></th>\n",
       "      <th>consumption</th>\n",
       "      <th>date</th>\n",
       "      <th>month</th>\n",
       "      <th>wday</th>\n",
       "      <th>hour</th>\n",
       "      <th>wday_name</th>\n",
       "      <th>timeperiod</th>\n",
       "      <th>season</th>\n",
       "      <th>hhi_weekend</th>\n",
       "    </tr>\n",
       "    <tr>\n",
       "      <th>time</th>\n",
       "      <th></th>\n",
       "      <th></th>\n",
       "      <th></th>\n",
       "      <th></th>\n",
       "      <th></th>\n",
       "      <th></th>\n",
       "      <th></th>\n",
       "      <th></th>\n",
       "      <th></th>\n",
       "    </tr>\n",
       "  </thead>\n",
       "  <tbody>\n",
       "    <tr>\n",
       "      <th>2023-08-10 13:00:00</th>\n",
       "      <td>2.043</td>\n",
       "      <td>2023-08-10</td>\n",
       "      <td>8</td>\n",
       "      <td>3</td>\n",
       "      <td>13</td>\n",
       "      <td>Thursday</td>\n",
       "      <td>20230801</td>\n",
       "      <td>summer</td>\n",
       "      <td>False</td>\n",
       "    </tr>\n",
       "    <tr>\n",
       "      <th>2023-08-10 14:00:00</th>\n",
       "      <td>2.628</td>\n",
       "      <td>2023-08-10</td>\n",
       "      <td>8</td>\n",
       "      <td>3</td>\n",
       "      <td>14</td>\n",
       "      <td>Thursday</td>\n",
       "      <td>20230801</td>\n",
       "      <td>summer</td>\n",
       "      <td>False</td>\n",
       "    </tr>\n",
       "    <tr>\n",
       "      <th>2023-08-10 15:00:00</th>\n",
       "      <td>3.289</td>\n",
       "      <td>2023-08-10</td>\n",
       "      <td>8</td>\n",
       "      <td>3</td>\n",
       "      <td>15</td>\n",
       "      <td>Thursday</td>\n",
       "      <td>20230801</td>\n",
       "      <td>summer</td>\n",
       "      <td>False</td>\n",
       "    </tr>\n",
       "    <tr>\n",
       "      <th>2023-08-10 16:00:00</th>\n",
       "      <td>3.444</td>\n",
       "      <td>2023-08-10</td>\n",
       "      <td>8</td>\n",
       "      <td>3</td>\n",
       "      <td>16</td>\n",
       "      <td>Thursday</td>\n",
       "      <td>20230801</td>\n",
       "      <td>summer</td>\n",
       "      <td>False</td>\n",
       "    </tr>\n",
       "    <tr>\n",
       "      <th>2023-08-10 17:00:00</th>\n",
       "      <td>3.412</td>\n",
       "      <td>2023-08-10</td>\n",
       "      <td>8</td>\n",
       "      <td>3</td>\n",
       "      <td>17</td>\n",
       "      <td>Thursday</td>\n",
       "      <td>20230801</td>\n",
       "      <td>summer</td>\n",
       "      <td>False</td>\n",
       "    </tr>\n",
       "    <tr>\n",
       "      <th>...</th>\n",
       "      <td>...</td>\n",
       "      <td>...</td>\n",
       "      <td>...</td>\n",
       "      <td>...</td>\n",
       "      <td>...</td>\n",
       "      <td>...</td>\n",
       "      <td>...</td>\n",
       "      <td>...</td>\n",
       "      <td>...</td>\n",
       "    </tr>\n",
       "    <tr>\n",
       "      <th>2023-09-25 00:00:00</th>\n",
       "      <td>1.167</td>\n",
       "      <td>2023-09-25</td>\n",
       "      <td>9</td>\n",
       "      <td>0</td>\n",
       "      <td>0</td>\n",
       "      <td>Monday</td>\n",
       "      <td>20230901</td>\n",
       "      <td>summer</td>\n",
       "      <td>True</td>\n",
       "    </tr>\n",
       "    <tr>\n",
       "      <th>2023-09-25 01:00:00</th>\n",
       "      <td>0.460</td>\n",
       "      <td>2023-09-25</td>\n",
       "      <td>9</td>\n",
       "      <td>0</td>\n",
       "      <td>1</td>\n",
       "      <td>Monday</td>\n",
       "      <td>20230901</td>\n",
       "      <td>summer</td>\n",
       "      <td>True</td>\n",
       "    </tr>\n",
       "    <tr>\n",
       "      <th>2023-09-25 02:00:00</th>\n",
       "      <td>0.370</td>\n",
       "      <td>2023-09-25</td>\n",
       "      <td>9</td>\n",
       "      <td>0</td>\n",
       "      <td>2</td>\n",
       "      <td>Monday</td>\n",
       "      <td>20230901</td>\n",
       "      <td>summer</td>\n",
       "      <td>True</td>\n",
       "    </tr>\n",
       "    <tr>\n",
       "      <th>2023-09-25 03:00:00</th>\n",
       "      <td>0.340</td>\n",
       "      <td>2023-09-25</td>\n",
       "      <td>9</td>\n",
       "      <td>0</td>\n",
       "      <td>3</td>\n",
       "      <td>Monday</td>\n",
       "      <td>20230901</td>\n",
       "      <td>summer</td>\n",
       "      <td>True</td>\n",
       "    </tr>\n",
       "    <tr>\n",
       "      <th>2023-09-25 04:00:00</th>\n",
       "      <td>0.338</td>\n",
       "      <td>2023-09-25</td>\n",
       "      <td>9</td>\n",
       "      <td>0</td>\n",
       "      <td>4</td>\n",
       "      <td>Monday</td>\n",
       "      <td>20230901</td>\n",
       "      <td>summer</td>\n",
       "      <td>True</td>\n",
       "    </tr>\n",
       "  </tbody>\n",
       "</table>\n",
       "<p>1096 rows × 9 columns</p>\n",
       "</div>"
      ],
      "text/plain": [
       "                     consumption        date  month  wday  hour wday_name  \\\n",
       "time                                                                        \n",
       "2023-08-10 13:00:00        2.043  2023-08-10      8     3    13  Thursday   \n",
       "2023-08-10 14:00:00        2.628  2023-08-10      8     3    14  Thursday   \n",
       "2023-08-10 15:00:00        3.289  2023-08-10      8     3    15  Thursday   \n",
       "2023-08-10 16:00:00        3.444  2023-08-10      8     3    16  Thursday   \n",
       "2023-08-10 17:00:00        3.412  2023-08-10      8     3    17  Thursday   \n",
       "...                          ...         ...    ...   ...   ...       ...   \n",
       "2023-09-25 00:00:00        1.167  2023-09-25      9     0     0    Monday   \n",
       "2023-09-25 01:00:00        0.460  2023-09-25      9     0     1    Monday   \n",
       "2023-09-25 02:00:00        0.370  2023-09-25      9     0     2    Monday   \n",
       "2023-09-25 03:00:00        0.340  2023-09-25      9     0     3    Monday   \n",
       "2023-09-25 04:00:00        0.338  2023-09-25      9     0     4    Monday   \n",
       "\n",
       "                    timeperiod  season  hhi_weekend  \n",
       "time                                                 \n",
       "2023-08-10 13:00:00   20230801  summer        False  \n",
       "2023-08-10 14:00:00   20230801  summer        False  \n",
       "2023-08-10 15:00:00   20230801  summer        False  \n",
       "2023-08-10 16:00:00   20230801  summer        False  \n",
       "2023-08-10 17:00:00   20230801  summer        False  \n",
       "...                        ...     ...          ...  \n",
       "2023-09-25 00:00:00   20230901  summer         True  \n",
       "2023-09-25 01:00:00   20230901  summer         True  \n",
       "2023-09-25 02:00:00   20230901  summer         True  \n",
       "2023-09-25 03:00:00   20230901  summer         True  \n",
       "2023-09-25 04:00:00   20230901  summer         True  \n",
       "\n",
       "[1096 rows x 9 columns]"
      ]
     },
     "execution_count": 41,
     "metadata": {},
     "output_type": "execute_result"
    }
   ],
   "source": [
    "meter"
   ]
  },
  {
   "cell_type": "code",
   "execution_count": null,
   "outputs": [],
   "source": [
    "if True:\n",
    "    import pandas as pd\n",
    "    import seaborn as sns\n",
    "    import matplotlib.pyplot as plt\n",
    "\n",
    "    # Create a pivot table for heatmap\n",
    "    heatmap_data = meter.query(\"month == 9\").pivot_table(index=\"wday_name\", columns=\"hour\", values=\"consumption\", aggfunc=\"mean\")\n",
    "\n",
    "    # Create the heatmap using seaborn\n",
    "    plt.figure(figsize=(10, 6))\n",
    "    sns.heatmap(heatmap_data, annot=False, cmap=\"YlGnBu\", fmt=\"\")\n",
    "    plt.title(\"Consumption Heatmap\")\n",
    "    plt.xlabel(\"Hour\")\n",
    "    plt.ylabel(\"weekday\")\n",
    "    plt.show()\n"
   ],
   "metadata": {
    "collapsed": false
   },
   "id": "69f44a70883e090f"
  },
  {
   "cell_type": "code",
   "execution_count": 7,
   "outputs": [],
   "source": [
    "def read_solar_data(dir):\n",
    "    # scan all .csv files in dir\n",
    "    files = [f for f in os.listdir(dir) if os.path.isfile(os.path.join(dir, f)) and f.endswith('.csv')]\n",
    "    # read each file as a dataframe\n",
    "    dfs = [pd.read_csv(os.path.join(dir, f)) for f in files]\n",
    "    # concatenate all dataframes\n",
    "    df = pd.concat(dfs)\n",
    "    return df"
   ],
   "metadata": {
    "collapsed": false,
    "ExecuteTime": {
     "end_time": "2024-03-02T12:31:08.449025Z",
     "start_time": "2024-03-02T12:31:08.443159Z"
    }
   },
   "id": "44266d39be4a0ecc"
  },
  {
   "cell_type": "code",
   "execution_count": 99,
   "outputs": [
    {
     "data": {
      "text/plain": "                    time  PV generation\n0    2023-04-01 00:00:00           0.00\n1    2023-04-01 01:00:00           0.00\n2    2023-04-01 02:00:00           0.00\n3    2023-04-01 03:00:00           0.00\n4    2023-04-01 04:00:00           0.00\n...                  ...            ...\n8059 2024-03-01 19:00:00          42.41\n8060 2024-03-01 20:00:00           0.00\n8061 2024-03-01 21:00:00           0.00\n8062 2024-03-01 22:00:00           0.00\n8063 2024-03-01 23:00:00           0.00\n\n[8064 rows x 2 columns]",
      "text/html": "<div>\n<style scoped>\n    .dataframe tbody tr th:only-of-type {\n        vertical-align: middle;\n    }\n\n    .dataframe tbody tr th {\n        vertical-align: top;\n    }\n\n    .dataframe thead th {\n        text-align: right;\n    }\n</style>\n<table border=\"1\" class=\"dataframe\">\n  <thead>\n    <tr style=\"text-align: right;\">\n      <th></th>\n      <th>time</th>\n      <th>PV generation</th>\n    </tr>\n  </thead>\n  <tbody>\n    <tr>\n      <th>0</th>\n      <td>2023-04-01 00:00:00</td>\n      <td>0.00</td>\n    </tr>\n    <tr>\n      <th>1</th>\n      <td>2023-04-01 01:00:00</td>\n      <td>0.00</td>\n    </tr>\n    <tr>\n      <th>2</th>\n      <td>2023-04-01 02:00:00</td>\n      <td>0.00</td>\n    </tr>\n    <tr>\n      <th>3</th>\n      <td>2023-04-01 03:00:00</td>\n      <td>0.00</td>\n    </tr>\n    <tr>\n      <th>4</th>\n      <td>2023-04-01 04:00:00</td>\n      <td>0.00</td>\n    </tr>\n    <tr>\n      <th>...</th>\n      <td>...</td>\n      <td>...</td>\n    </tr>\n    <tr>\n      <th>8059</th>\n      <td>2024-03-01 19:00:00</td>\n      <td>42.41</td>\n    </tr>\n    <tr>\n      <th>8060</th>\n      <td>2024-03-01 20:00:00</td>\n      <td>0.00</td>\n    </tr>\n    <tr>\n      <th>8061</th>\n      <td>2024-03-01 21:00:00</td>\n      <td>0.00</td>\n    </tr>\n    <tr>\n      <th>8062</th>\n      <td>2024-03-01 22:00:00</td>\n      <td>0.00</td>\n    </tr>\n    <tr>\n      <th>8063</th>\n      <td>2024-03-01 23:00:00</td>\n      <td>0.00</td>\n    </tr>\n  </tbody>\n</table>\n<p>8064 rows × 2 columns</p>\n</div>"
     },
     "execution_count": 99,
     "metadata": {},
     "output_type": "execute_result"
    }
   ],
   "source": [
    "solar = read_solar_data('../charts/data/noga')\n",
    "solar['time'] = pd.to_datetime(solar['time'], format='%Y%m%d %H:%M:%S')\n",
    "solar.set_index('time', inplace=True)\n",
    "solar = solar.resample('1H').sum()\n",
    "solar.reset_index(inplace=True)\n",
    "solar"
   ],
   "metadata": {
    "collapsed": false,
    "ExecuteTime": {
     "end_time": "2024-03-02T11:33:53.543018Z",
     "start_time": "2024-03-02T11:33:53.296407Z"
    }
   },
   "id": "7aaffb6415e6144"
  },
  {
   "cell_type": "code",
   "execution_count": 111,
   "outputs": [
    {
     "data": {
      "text/plain": "<Axes: xlabel='time', ylabel='PV generation'>"
     },
     "execution_count": 111,
     "metadata": {},
     "output_type": "execute_result"
    },
    {
     "data": {
      "text/plain": "<Figure size 640x480 with 1 Axes>",
      "image/png": "[encoded data removed]"
     },
     "metadata": {},
     "output_type": "display_data"
    }
   ],
   "source": [
    "import seaborn as sns\n",
    "d = solar.query(\"time < '2023-05-01' and time >= '2023-04-01'\")\n",
    "sns.lineplot(data=d, x='time', y='PV generation')"
   ],
   "metadata": {
    "collapsed": false,
    "ExecuteTime": {
     "end_time": "2024-03-02T11:49:58.881277Z",
     "start_time": "2024-03-02T11:49:58.603315Z"
    }
   },
   "id": "ca0446e32700d031"
  },
  {
   "cell_type": "code",
   "execution_count": 120,
   "outputs": [
    {
     "data": {
      "text/plain": "      consumption        date  month  wday  hour  wday_name timeperiod  \\\n1952        0.277  2023-06-21      6     2     8  Wednesday   20230601   \n1953        0.570  2023-06-21      6     2     9  Wednesday   20230601   \n1954        0.465  2023-06-21      6     2    10  Wednesday   20230601   \n1955        0.904  2023-06-21      6     2    11  Wednesday   20230601   \n1956        0.626  2023-06-21      6     2    12  Wednesday   20230601   \n...           ...         ...    ...   ...   ...        ...        ...   \n8035        1.285  2024-02-29      2     3    19   Thursday   20240201   \n8036        4.303  2024-02-29      2     3    20   Thursday   20240201   \n8037        4.849  2024-02-29      2     3    21   Thursday   20240201   \n8038        4.978  2024-02-29      2     3    22   Thursday   20240201   \n8039        1.368  2024-02-29      2     3    23   Thursday   20240201   \n\n      season  hhi_weekend  charge_on  discharge_on  charge  \\\n1952  summer        False      False         False     0.0   \n1953  summer        False      False         False     0.0   \n1954  summer        False      False          True     0.0   \n1955  summer        False      False          True     0.0   \n1956  summer        False      False          True     0.0   \n...      ...          ...        ...           ...     ...   \n8035  winter        False      False          True     2.0   \n8036  winter        False      False          True     2.0   \n8037  winter        False      False          True     2.0   \n8038  winter        False      False          True     2.0   \n8039  winter        False      False         False     2.0   \n\n      consumption_with_battery                time  max PV generation  \n1952                     0.277 2023-06-21 08:00:00           0.001232  \n1953                     0.570 2023-06-21 09:00:00           0.001824  \n1954                     0.465 2023-06-21 10:00:00           0.002135  \n1955                     0.904 2023-06-21 11:00:00           0.002243  \n1956                     0.626 2023-06-21 12:00:00           0.002256  \n...                        ...                 ...                ...  \n8035                     1.285 2024-02-29 19:00:00           0.000006  \n8036                     4.303 2024-02-29 20:00:00           0.000006  \n8037                     4.849 2024-02-29 21:00:00           0.000001  \n8038                     4.978 2024-02-29 22:00:00           0.000000  \n8039                     1.368 2024-02-29 23:00:00           0.000000  \n\n[6088 rows x 15 columns]",
      "text/html": "<div>\n<style scoped>\n    .dataframe tbody tr th:only-of-type {\n        vertical-align: middle;\n    }\n\n    .dataframe tbody tr th {\n        vertical-align: top;\n    }\n\n    .dataframe thead th {\n        text-align: right;\n    }\n</style>\n<table border=\"1\" class=\"dataframe\">\n  <thead>\n    <tr style=\"text-align: right;\">\n      <th></th>\n      <th>consumption</th>\n      <th>date</th>\n      <th>month</th>\n      <th>wday</th>\n      <th>hour</th>\n      <th>wday_name</th>\n      <th>timeperiod</th>\n      <th>season</th>\n      <th>hhi_weekend</th>\n      <th>charge_on</th>\n      <th>discharge_on</th>\n      <th>charge</th>\n      <th>consumption_with_battery</th>\n      <th>time</th>\n      <th>max PV generation</th>\n    </tr>\n  </thead>\n  <tbody>\n    <tr>\n      <th>1952</th>\n      <td>0.277</td>\n      <td>2023-06-21</td>\n      <td>6</td>\n      <td>2</td>\n      <td>8</td>\n      <td>Wednesday</td>\n      <td>20230601</td>\n      <td>summer</td>\n      <td>False</td>\n      <td>False</td>\n      <td>False</td>\n      <td>0.0</td>\n      <td>0.277</td>\n      <td>2023-06-21 08:00:00</td>\n      <td>0.001232</td>\n    </tr>\n    <tr>\n      <th>1953</th>\n      <td>0.570</td>\n      <td>2023-06-21</td>\n      <td>6</td>\n      <td>2</td>\n      <td>9</td>\n      <td>Wednesday</td>\n      <td>20230601</td>\n      <td>summer</td>\n      <td>False</td>\n      <td>False</td>\n      <td>False</td>\n      <td>0.0</td>\n      <td>0.570</td>\n      <td>2023-06-21 09:00:00</td>\n      <td>0.001824</td>\n    </tr>\n    <tr>\n      <th>1954</th>\n      <td>0.465</td>\n      <td>2023-06-21</td>\n      <td>6</td>\n      <td>2</td>\n      <td>10</td>\n      <td>Wednesday</td>\n      <td>20230601</td>\n      <td>summer</td>\n      <td>False</td>\n      <td>False</td>\n      <td>True</td>\n      <td>0.0</td>\n      <td>0.465</td>\n      <td>2023-06-21 10:00:00</td>\n      <td>0.002135</td>\n    </tr>\n    <tr>\n      <th>1955</th>\n      <td>0.904</td>\n      <td>2023-06-21</td>\n      <td>6</td>\n      <td>2</td>\n      <td>11</td>\n      <td>Wednesday</td>\n      <td>20230601</td>\n      <td>summer</td>\n      <td>False</td>\n      <td>False</td>\n      <td>True</td>\n      <td>0.0</td>\n      <td>0.904</td>\n      <td>2023-06-21 11:00:00</td>\n      <td>0.002243</td>\n    </tr>\n    <tr>\n      <th>1956</th>\n      <td>0.626</td>\n      <td>2023-06-21</td>\n      <td>6</td>\n      <td>2</td>\n      <td>12</td>\n      <td>Wednesday</td>\n      <td>20230601</td>\n      <td>summer</td>\n      <td>False</td>\n      <td>False</td>\n      <td>True</td>\n      <td>0.0</td>\n      <td>0.626</td>\n      <td>2023-06-21 12:00:00</td>\n      <td>0.002256</td>\n    </tr>\n    <tr>\n      <th>...</th>\n      <td>...</td>\n      <td>...</td>\n      <td>...</td>\n      <td>...</td>\n      <td>...</td>\n      <td>...</td>\n      <td>...</td>\n      <td>...</td>\n      <td>...</td>\n      <td>...</td>\n      <td>...</td>\n      <td>...</td>\n      <td>...</td>\n      <td>...</td>\n      <td>...</td>\n    </tr>\n    <tr>\n      <th>8035</th>\n      <td>1.285</td>\n      <td>2024-02-29</td>\n      <td>2</td>\n      <td>3</td>\n      <td>19</td>\n      <td>Thursday</td>\n      <td>20240201</td>\n      <td>winter</td>\n      <td>False</td>\n      <td>False</td>\n      <td>True</td>\n      <td>2.0</td>\n      <td>1.285</td>\n      <td>2024-02-29 19:00:00</td>\n      <td>0.000006</td>\n    </tr>\n    <tr>\n      <th>8036</th>\n      <td>4.303</td>\n      <td>2024-02-29</td>\n      <td>2</td>\n      <td>3</td>\n      <td>20</td>\n      <td>Thursday</td>\n      <td>20240201</td>\n      <td>winter</td>\n      <td>False</td>\n      <td>False</td>\n      <td>True</td>\n      <td>2.0</td>\n      <td>4.303</td>\n      <td>2024-02-29 20:00:00</td>\n      <td>0.000006</td>\n    </tr>\n    <tr>\n      <th>8037</th>\n      <td>4.849</td>\n      <td>2024-02-29</td>\n      <td>2</td>\n      <td>3</td>\n      <td>21</td>\n      <td>Thursday</td>\n      <td>20240201</td>\n      <td>winter</td>\n      <td>False</td>\n      <td>False</td>\n      <td>True</td>\n      <td>2.0</td>\n      <td>4.849</td>\n      <td>2024-02-29 21:00:00</td>\n      <td>0.000001</td>\n    </tr>\n    <tr>\n      <th>8038</th>\n      <td>4.978</td>\n      <td>2024-02-29</td>\n      <td>2</td>\n      <td>3</td>\n      <td>22</td>\n      <td>Thursday</td>\n      <td>20240201</td>\n      <td>winter</td>\n      <td>False</td>\n      <td>False</td>\n      <td>True</td>\n      <td>2.0</td>\n      <td>4.978</td>\n      <td>2024-02-29 22:00:00</td>\n      <td>0.000000</td>\n    </tr>\n    <tr>\n      <th>8039</th>\n      <td>1.368</td>\n      <td>2024-02-29</td>\n      <td>2</td>\n      <td>3</td>\n      <td>23</td>\n      <td>Thursday</td>\n      <td>20240201</td>\n      <td>winter</td>\n      <td>False</td>\n      <td>False</td>\n      <td>False</td>\n      <td>2.0</td>\n      <td>1.368</td>\n      <td>2024-02-29 23:00:00</td>\n      <td>0.000000</td>\n    </tr>\n  </tbody>\n</table>\n<p>6088 rows × 15 columns</p>\n</div>"
     },
     "execution_count": 120,
     "metadata": {},
     "output_type": "execute_result"
    }
   ],
   "source": [
    "# find the argmax PV generation\n",
    "max_solar = solar['PV generation'].max()\n",
    "solar['max PV generation'] = solar['PV generation'] / max_solar\n",
    "solar.drop(columns=['PV generation'], inplace=True)\n",
    "meter.merge(solar, left_index=True, right_on='time', how='left')\n"
   ],
   "metadata": {
    "collapsed": false,
    "ExecuteTime": {
     "end_time": "2024-03-02T11:56:05.459822Z",
     "start_time": "2024-03-02T11:56:05.419548Z"
    }
   },
   "id": "be9c455e2bf0e7cc"
  },
  {
   "cell_type": "code",
   "execution_count": null,
   "outputs": [],
   "source": [],
   "metadata": {
    "collapsed": false
   },
   "id": "47be2fa62def235e"
  }
 ],
 "metadata": {
  "kernelspec": {
   "name": "mlp",
   "language": "python",
   "display_name": "mlp"
  },
  "language_info": {
   "codemirror_mode": {
    "name": "ipython",
    "version": 3
   },
   "file_extension": ".py",
   "mimetype": "text/x-python",
   "name": "python",
   "nbconvert_exporter": "python",
   "pygments_lexer": "ipython3",
   "version": "3.8.13"
  }
 },
 "nbformat": 4,
 "nbformat_minor": 5
}
