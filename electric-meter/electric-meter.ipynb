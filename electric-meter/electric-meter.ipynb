{
 "cells": [
  {
   "cell_type": "code",
   "execution_count": 10,
   "id": "62e8f94e",
   "metadata": {},
   "outputs": [],
   "source": [
    "from electric_meter import *\n",
    "from datetime import datetime\n",
    "from IPython.display import HTML"
   ]
  },
  {
   "cell_type": "code",
   "execution_count": 2,
   "id": "0d23b1db",
   "metadata": {},
   "outputs": [],
   "source": [
    "meter = read_data('data/meter.csv')\n",
    "\n",
    "costs, k, d = compute_costs(meter)"
   ]
  },
  {
   "cell_type": "code",
   "execution_count": 3,
   "id": "339cafcc",
   "metadata": {},
   "outputs": [
    {
     "data": {
      "text/html": [
       "<style type=\"text/css\">\n",
       "#T_f17d8  {\n",
       "  border: 5px solid black;\n",
       "  border-radius: 2px;\n",
       "}\n",
       "#T_f17d8_row0_col0, #T_f17d8_row1_col0 {\n",
       "  background-color: #f287d0;\n",
       "}\n",
       "#T_f17d8_row0_col5, #T_f17d8_row1_col5 {\n",
       "  background-color: #b1d77a;\n",
       "}\n",
       "</style>\n",
       "<table id=\"T_f17d8\">\n",
       "  <thead>\n",
       "    <tr>\n",
       "      <th class=\"blank level0\" >&nbsp;</th>\n",
       "      <th id=\"T_f17d8_level0_col0\" class=\"col_heading level0 col0\" >חחי</th>\n",
       "      <th id=\"T_f17d8_level0_col1\" class=\"col_heading level0 col1\" >פזגז יום</th>\n",
       "      <th id=\"T_f17d8_level0_col2\" class=\"col_heading level0 col2\" >פזגז ללא הגבלה</th>\n",
       "      <th id=\"T_f17d8_level0_col3\" class=\"col_heading level0 col3\" >פזגז סופ״ש</th>\n",
       "      <th id=\"T_f17d8_level0_col4\" class=\"col_heading level0 col4\" >פזגז לילה</th>\n",
       "      <th id=\"T_f17d8_level0_col5\" class=\"col_heading level0 col5\" >אמישראגז</th>\n",
       "      <th id=\"T_f17d8_level0_col6\" class=\"col_heading level0 col6\" >אלקטרה פאואר</th>\n",
       "      <th id=\"T_f17d8_level0_col7\" class=\"col_heading level0 col7\" >אלקטרה הייטק</th>\n",
       "    </tr>\n",
       "    <tr>\n",
       "      <th class=\"index_name level0\" >תקופה</th>\n",
       "      <th class=\"blank col0\" >&nbsp;</th>\n",
       "      <th class=\"blank col1\" >&nbsp;</th>\n",
       "      <th class=\"blank col2\" >&nbsp;</th>\n",
       "      <th class=\"blank col3\" >&nbsp;</th>\n",
       "      <th class=\"blank col4\" >&nbsp;</th>\n",
       "      <th class=\"blank col5\" >&nbsp;</th>\n",
       "      <th class=\"blank col6\" >&nbsp;</th>\n",
       "      <th class=\"blank col7\" >&nbsp;</th>\n",
       "    </tr>\n",
       "  </thead>\n",
       "  <tbody>\n",
       "    <tr>\n",
       "      <th id=\"T_f17d8_level0_row0\" class=\"row_heading level0 row0\" >אוגוסט 2023</th>\n",
       "      <td id=\"T_f17d8_row0_col0\" class=\"data row0 col0\" >440.59</td>\n",
       "      <td id=\"T_f17d8_row0_col1\" class=\"data row0 col1\" >415.49</td>\n",
       "      <td id=\"T_f17d8_row0_col2\" class=\"data row0 col2\" >418.56</td>\n",
       "      <td id=\"T_f17d8_row0_col3\" class=\"data row0 col3\" >428.57</td>\n",
       "      <td id=\"T_f17d8_row0_col4\" class=\"data row0 col4\" >427.83</td>\n",
       "      <td id=\"T_f17d8_row0_col5\" class=\"data row0 col5\" >411.95</td>\n",
       "      <td id=\"T_f17d8_row0_col6\" class=\"data row0 col6\" >418.56</td>\n",
       "      <td id=\"T_f17d8_row0_col7\" class=\"data row0 col7\" >417.57</td>\n",
       "    </tr>\n",
       "    <tr>\n",
       "      <th id=\"T_f17d8_level0_row1\" class=\"row_heading level0 row1\" >יולי 2023</th>\n",
       "      <td id=\"T_f17d8_row1_col0\" class=\"data row1 col0\" >492.79</td>\n",
       "      <td id=\"T_f17d8_row1_col1\" class=\"data row1 col1\" >467.56</td>\n",
       "      <td id=\"T_f17d8_row1_col2\" class=\"data row1 col2\" >468.15</td>\n",
       "      <td id=\"T_f17d8_row1_col3\" class=\"data row1 col3\" >477.91</td>\n",
       "      <td id=\"T_f17d8_row1_col4\" class=\"data row1 col4\" >475.77</td>\n",
       "      <td id=\"T_f17d8_row1_col5\" class=\"data row1 col5\" >460.76</td>\n",
       "      <td id=\"T_f17d8_row1_col6\" class=\"data row1 col6\" >468.15</td>\n",
       "      <td id=\"T_f17d8_row1_col7\" class=\"data row1 col7\" >467.47</td>\n",
       "    </tr>\n",
       "  </tbody>\n",
       "</table>\n"
      ],
      "text/plain": [
       "<pandas.io.formats.style.Styler at 0x103bcf310>"
      ]
     },
     "execution_count": 3,
     "metadata": {},
     "output_type": "execute_result"
    }
   ],
   "source": [
    "result = style_table(costs)\n",
    "\n",
    "result.set_table_styles([{'selector' : '',\n",
    "                            'props' : 'border: 5px solid black; border-radius: 2px'}])"
   ]
  },
  {
   "cell_type": "code",
   "execution_count": 4,
   "id": "106e6d84",
   "metadata": {},
   "outputs": [
    {
     "data": {
      "text/html": [
       "<style type=\"text/css\">\n",
       "#T_f17d8  {\n",
       "  border: 5px solid black;\n",
       "  border-radius: 2px;\n",
       "}\n",
       "#T_f17d8_row0_col0, #T_f17d8_row1_col0 {\n",
       "  background-color: #f287d0;\n",
       "}\n",
       "#T_f17d8_row0_col5, #T_f17d8_row1_col5 {\n",
       "  background-color: #b1d77a;\n",
       "}\n",
       "</style>\n",
       "<table id=\"T_f17d8\">\n",
       "  <thead>\n",
       "    <tr>\n",
       "      <th class=\"blank level0\" >&nbsp;</th>\n",
       "      <th id=\"T_f17d8_level0_col0\" class=\"col_heading level0 col0\" >חחי</th>\n",
       "      <th id=\"T_f17d8_level0_col1\" class=\"col_heading level0 col1\" >פזגז יום</th>\n",
       "      <th id=\"T_f17d8_level0_col2\" class=\"col_heading level0 col2\" >פזגז ללא הגבלה</th>\n",
       "      <th id=\"T_f17d8_level0_col3\" class=\"col_heading level0 col3\" >פזגז סופ״ש</th>\n",
       "      <th id=\"T_f17d8_level0_col4\" class=\"col_heading level0 col4\" >פזגז לילה</th>\n",
       "      <th id=\"T_f17d8_level0_col5\" class=\"col_heading level0 col5\" >אמישראגז</th>\n",
       "      <th id=\"T_f17d8_level0_col6\" class=\"col_heading level0 col6\" >אלקטרה פאואר</th>\n",
       "      <th id=\"T_f17d8_level0_col7\" class=\"col_heading level0 col7\" >אלקטרה הייטק</th>\n",
       "    </tr>\n",
       "    <tr>\n",
       "      <th class=\"index_name level0\" >תקופה</th>\n",
       "      <th class=\"blank col0\" >&nbsp;</th>\n",
       "      <th class=\"blank col1\" >&nbsp;</th>\n",
       "      <th class=\"blank col2\" >&nbsp;</th>\n",
       "      <th class=\"blank col3\" >&nbsp;</th>\n",
       "      <th class=\"blank col4\" >&nbsp;</th>\n",
       "      <th class=\"blank col5\" >&nbsp;</th>\n",
       "      <th class=\"blank col6\" >&nbsp;</th>\n",
       "      <th class=\"blank col7\" >&nbsp;</th>\n",
       "    </tr>\n",
       "  </thead>\n",
       "  <tbody>\n",
       "    <tr>\n",
       "      <th id=\"T_f17d8_level0_row0\" class=\"row_heading level0 row0\" >אוגוסט 2023</th>\n",
       "      <td id=\"T_f17d8_row0_col0\" class=\"data row0 col0\" >440.59</td>\n",
       "      <td id=\"T_f17d8_row0_col1\" class=\"data row0 col1\" >415.49</td>\n",
       "      <td id=\"T_f17d8_row0_col2\" class=\"data row0 col2\" >418.56</td>\n",
       "      <td id=\"T_f17d8_row0_col3\" class=\"data row0 col3\" >428.57</td>\n",
       "      <td id=\"T_f17d8_row0_col4\" class=\"data row0 col4\" >427.83</td>\n",
       "      <td id=\"T_f17d8_row0_col5\" class=\"data row0 col5\" >411.95</td>\n",
       "      <td id=\"T_f17d8_row0_col6\" class=\"data row0 col6\" >418.56</td>\n",
       "      <td id=\"T_f17d8_row0_col7\" class=\"data row0 col7\" >417.57</td>\n",
       "    </tr>\n",
       "    <tr>\n",
       "      <th id=\"T_f17d8_level0_row1\" class=\"row_heading level0 row1\" >יולי 2023</th>\n",
       "      <td id=\"T_f17d8_row1_col0\" class=\"data row1 col0\" >492.79</td>\n",
       "      <td id=\"T_f17d8_row1_col1\" class=\"data row1 col1\" >467.56</td>\n",
       "      <td id=\"T_f17d8_row1_col2\" class=\"data row1 col2\" >468.15</td>\n",
       "      <td id=\"T_f17d8_row1_col3\" class=\"data row1 col3\" >477.91</td>\n",
       "      <td id=\"T_f17d8_row1_col4\" class=\"data row1 col4\" >475.77</td>\n",
       "      <td id=\"T_f17d8_row1_col5\" class=\"data row1 col5\" >460.76</td>\n",
       "      <td id=\"T_f17d8_row1_col6\" class=\"data row1 col6\" >468.15</td>\n",
       "      <td id=\"T_f17d8_row1_col7\" class=\"data row1 col7\" >467.47</td>\n",
       "    </tr>\n",
       "  </tbody>\n",
       "</table>\n"
      ],
      "text/plain": [
       "<pandas.io.formats.style.Styler at 0x103bcf310>"
      ]
     },
     "metadata": {},
     "output_type": "display_data"
    }
   ],
   "source": [
    "display(result)"
   ]
  }
 ],
 "metadata": {
  "kernelspec": {
   "display_name": "Python 3 (ipykernel)",
   "language": "python",
   "name": "python3"
  },
  "language_info": {
   "codemirror_mode": {
    "name": "ipython",
    "version": 3
   },
   "file_extension": ".py",
   "mimetype": "text/x-python",
   "name": "python",
   "nbconvert_exporter": "python",
   "pygments_lexer": "ipython3",
   "version": "3.8.13"
  }
 },
 "nbformat": 4,
 "nbformat_minor": 5
}
