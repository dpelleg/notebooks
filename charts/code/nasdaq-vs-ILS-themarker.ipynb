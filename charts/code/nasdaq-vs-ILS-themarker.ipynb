{
 "cells": [
  {
   "cell_type": "code",
   "execution_count": 1,
   "metadata": {},
   "outputs": [],
   "source": [
    "import pandas as pd\n",
    "import seaborn as sns\n",
    "import matplotlib \n",
    "import matplotlib.pyplot as plt\n",
    "# Explore fluctuations in stock markers vs. the Shekel rate. ref: https://www.themarker.com/markets/.premium-1.10783174"
   ]
  },
  {
   "cell_type": "code",
   "execution_count": 2,
   "metadata": {},
   "outputs": [],
   "source": [
    "# NASDAQ closing\n",
    "# source: https://finance.yahoo.com/quote/%5EIXIC/history/\n",
    "nasdaq = pd.read_csv('../data/IXIC-20220508.csv')"
   ]
  },
  {
   "cell_type": "code",
   "execution_count": 3,
   "metadata": {},
   "outputs": [
    {
     "data": {
      "text/html": [
       "<div>\n",
       "<style scoped>\n",
       "    .dataframe tbody tr th:only-of-type {\n",
       "        vertical-align: middle;\n",
       "    }\n",
       "\n",
       "    .dataframe tbody tr th {\n",
       "        vertical-align: top;\n",
       "    }\n",
       "\n",
       "    .dataframe thead th {\n",
       "        text-align: right;\n",
       "    }\n",
       "</style>\n",
       "<table border=\"1\" class=\"dataframe\">\n",
       "  <thead>\n",
       "    <tr style=\"text-align: right;\">\n",
       "      <th></th>\n",
       "      <th>Open</th>\n",
       "      <th>High</th>\n",
       "      <th>Low</th>\n",
       "      <th>Close</th>\n",
       "      <th>Adj Close</th>\n",
       "      <th>Volume</th>\n",
       "    </tr>\n",
       "    <tr>\n",
       "      <th>Date</th>\n",
       "      <th></th>\n",
       "      <th></th>\n",
       "      <th></th>\n",
       "      <th></th>\n",
       "      <th></th>\n",
       "      <th></th>\n",
       "    </tr>\n",
       "  </thead>\n",
       "  <tbody>\n",
       "    <tr>\n",
       "      <th>2021-05-10</th>\n",
       "      <td>13687.589844</td>\n",
       "      <td>13687.929688</td>\n",
       "      <td>13401.740234</td>\n",
       "      <td>13401.860352</td>\n",
       "      <td>13401.860352</td>\n",
       "      <td>4795690000</td>\n",
       "    </tr>\n",
       "    <tr>\n",
       "      <th>2021-05-11</th>\n",
       "      <td>13115.849609</td>\n",
       "      <td>13423.309570</td>\n",
       "      <td>13107.669922</td>\n",
       "      <td>13389.429688</td>\n",
       "      <td>13389.429688</td>\n",
       "      <td>4719720000</td>\n",
       "    </tr>\n",
       "    <tr>\n",
       "      <th>2021-05-12</th>\n",
       "      <td>13215.490234</td>\n",
       "      <td>13288.610352</td>\n",
       "      <td>13002.540039</td>\n",
       "      <td>13031.679688</td>\n",
       "      <td>13031.679688</td>\n",
       "      <td>4730740000</td>\n",
       "    </tr>\n",
       "    <tr>\n",
       "      <th>2021-05-13</th>\n",
       "      <td>13150.940430</td>\n",
       "      <td>13247.870117</td>\n",
       "      <td>13007.240234</td>\n",
       "      <td>13124.990234</td>\n",
       "      <td>13124.990234</td>\n",
       "      <td>4681530000</td>\n",
       "    </tr>\n",
       "    <tr>\n",
       "      <th>2021-05-14</th>\n",
       "      <td>13255.650391</td>\n",
       "      <td>13460.879883</td>\n",
       "      <td>13242.969727</td>\n",
       "      <td>13429.980469</td>\n",
       "      <td>13429.980469</td>\n",
       "      <td>4008110000</td>\n",
       "    </tr>\n",
       "    <tr>\n",
       "      <th>...</th>\n",
       "      <td>...</td>\n",
       "      <td>...</td>\n",
       "      <td>...</td>\n",
       "      <td>...</td>\n",
       "      <td>...</td>\n",
       "      <td>...</td>\n",
       "    </tr>\n",
       "    <tr>\n",
       "      <th>2022-05-02</th>\n",
       "      <td>12331.690430</td>\n",
       "      <td>12542.540039</td>\n",
       "      <td>12202.410156</td>\n",
       "      <td>12536.019531</td>\n",
       "      <td>12536.019531</td>\n",
       "      <td>4896740000</td>\n",
       "    </tr>\n",
       "    <tr>\n",
       "      <th>2022-05-03</th>\n",
       "      <td>12511.459961</td>\n",
       "      <td>12645.830078</td>\n",
       "      <td>12460.990234</td>\n",
       "      <td>12563.759766</td>\n",
       "      <td>12563.759766</td>\n",
       "      <td>4522940000</td>\n",
       "    </tr>\n",
       "    <tr>\n",
       "      <th>2022-05-04</th>\n",
       "      <td>12574.730469</td>\n",
       "      <td>12985.009766</td>\n",
       "      <td>12367.019531</td>\n",
       "      <td>12964.860352</td>\n",
       "      <td>12964.860352</td>\n",
       "      <td>5467750000</td>\n",
       "    </tr>\n",
       "    <tr>\n",
       "      <th>2022-05-05</th>\n",
       "      <td>12787.519531</td>\n",
       "      <td>12787.519531</td>\n",
       "      <td>12183.559570</td>\n",
       "      <td>12317.690430</td>\n",
       "      <td>12317.690430</td>\n",
       "      <td>5269260000</td>\n",
       "    </tr>\n",
       "    <tr>\n",
       "      <th>2022-05-06</th>\n",
       "      <td>12246.830078</td>\n",
       "      <td>12358.419922</td>\n",
       "      <td>11990.150391</td>\n",
       "      <td>12144.660156</td>\n",
       "      <td>12144.660156</td>\n",
       "      <td>5311020000</td>\n",
       "    </tr>\n",
       "  </tbody>\n",
       "</table>\n",
       "<p>252 rows × 6 columns</p>\n",
       "</div>"
      ],
      "text/plain": [
       "                    Open          High           Low         Close  \\\n",
       "Date                                                                 \n",
       "2021-05-10  13687.589844  13687.929688  13401.740234  13401.860352   \n",
       "2021-05-11  13115.849609  13423.309570  13107.669922  13389.429688   \n",
       "2021-05-12  13215.490234  13288.610352  13002.540039  13031.679688   \n",
       "2021-05-13  13150.940430  13247.870117  13007.240234  13124.990234   \n",
       "2021-05-14  13255.650391  13460.879883  13242.969727  13429.980469   \n",
       "...                  ...           ...           ...           ...   \n",
       "2022-05-02  12331.690430  12542.540039  12202.410156  12536.019531   \n",
       "2022-05-03  12511.459961  12645.830078  12460.990234  12563.759766   \n",
       "2022-05-04  12574.730469  12985.009766  12367.019531  12964.860352   \n",
       "2022-05-05  12787.519531  12787.519531  12183.559570  12317.690430   \n",
       "2022-05-06  12246.830078  12358.419922  11990.150391  12144.660156   \n",
       "\n",
       "               Adj Close      Volume  \n",
       "Date                                  \n",
       "2021-05-10  13401.860352  4795690000  \n",
       "2021-05-11  13389.429688  4719720000  \n",
       "2021-05-12  13031.679688  4730740000  \n",
       "2021-05-13  13124.990234  4681530000  \n",
       "2021-05-14  13429.980469  4008110000  \n",
       "...                  ...         ...  \n",
       "2022-05-02  12536.019531  4896740000  \n",
       "2022-05-03  12563.759766  4522940000  \n",
       "2022-05-04  12964.860352  5467750000  \n",
       "2022-05-05  12317.690430  5269260000  \n",
       "2022-05-06  12144.660156  5311020000  \n",
       "\n",
       "[252 rows x 6 columns]"
      ]
     },
     "execution_count": 3,
     "metadata": {},
     "output_type": "execute_result"
    }
   ],
   "source": [
    "#nasdaq.set_index(pd.to_datetime(nasdaq['Date']), drop=True, inplace=True)\n",
    "nasdaq.set_index('Date', drop=True, inplace=True)\n",
    "nasdaq"
   ]
  },
  {
   "cell_type": "code",
   "execution_count": 4,
   "metadata": {},
   "outputs": [],
   "source": [
    "# USD-ILS exchange rates\n",
    "# Source https://excelrates.com/historical-exchange-rates/USD-ILS\n",
    "ILS = pd.read_excel('../data/USD-ILS-20220508.xlsx')"
   ]
  },
  {
   "cell_type": "code",
   "execution_count": 5,
   "metadata": {
    "scrolled": true
   },
   "outputs": [
    {
     "data": {
      "text/html": [
       "<div>\n",
       "<style scoped>\n",
       "    .dataframe tbody tr th:only-of-type {\n",
       "        vertical-align: middle;\n",
       "    }\n",
       "\n",
       "    .dataframe tbody tr th {\n",
       "        vertical-align: top;\n",
       "    }\n",
       "\n",
       "    .dataframe thead th {\n",
       "        text-align: right;\n",
       "    }\n",
       "</style>\n",
       "<table border=\"1\" class=\"dataframe\">\n",
       "  <thead>\n",
       "    <tr style=\"text-align: right;\">\n",
       "      <th></th>\n",
       "      <th>USD</th>\n",
       "      <th>ILS</th>\n",
       "    </tr>\n",
       "    <tr>\n",
       "      <th>Date</th>\n",
       "      <th></th>\n",
       "      <th></th>\n",
       "    </tr>\n",
       "  </thead>\n",
       "  <tbody>\n",
       "    <tr>\n",
       "      <th>2022-05-07</th>\n",
       "      <td>1</td>\n",
       "      <td>3.4026</td>\n",
       "    </tr>\n",
       "    <tr>\n",
       "      <th>2022-05-06</th>\n",
       "      <td>1</td>\n",
       "      <td>3.4026</td>\n",
       "    </tr>\n",
       "    <tr>\n",
       "      <th>2022-05-05</th>\n",
       "      <td>1</td>\n",
       "      <td>3.3986</td>\n",
       "    </tr>\n",
       "    <tr>\n",
       "      <th>2022-05-04</th>\n",
       "      <td>1</td>\n",
       "      <td>3.3698</td>\n",
       "    </tr>\n",
       "    <tr>\n",
       "      <th>2022-05-03</th>\n",
       "      <td>1</td>\n",
       "      <td>3.3722</td>\n",
       "    </tr>\n",
       "    <tr>\n",
       "      <th>...</th>\n",
       "      <td>...</td>\n",
       "      <td>...</td>\n",
       "    </tr>\n",
       "    <tr>\n",
       "      <th>2021-05-11</th>\n",
       "      <td>1</td>\n",
       "      <td>3.2833</td>\n",
       "    </tr>\n",
       "    <tr>\n",
       "      <th>2021-05-10</th>\n",
       "      <td>1</td>\n",
       "      <td>3.2490</td>\n",
       "    </tr>\n",
       "    <tr>\n",
       "      <th>2021-05-09</th>\n",
       "      <td>1</td>\n",
       "      <td>3.2704</td>\n",
       "    </tr>\n",
       "    <tr>\n",
       "      <th>2021-05-08</th>\n",
       "      <td>1</td>\n",
       "      <td>3.2704</td>\n",
       "    </tr>\n",
       "    <tr>\n",
       "      <th>2021-05-07</th>\n",
       "      <td>1</td>\n",
       "      <td>3.2704</td>\n",
       "    </tr>\n",
       "  </tbody>\n",
       "</table>\n",
       "<p>366 rows × 2 columns</p>\n",
       "</div>"
      ],
      "text/plain": [
       "            USD     ILS\n",
       "Date                   \n",
       "2022-05-07    1  3.4026\n",
       "2022-05-06    1  3.4026\n",
       "2022-05-05    1  3.3986\n",
       "2022-05-04    1  3.3698\n",
       "2022-05-03    1  3.3722\n",
       "...         ...     ...\n",
       "2021-05-11    1  3.2833\n",
       "2021-05-10    1  3.2490\n",
       "2021-05-09    1  3.2704\n",
       "2021-05-08    1  3.2704\n",
       "2021-05-07    1  3.2704\n",
       "\n",
       "[366 rows x 2 columns]"
      ]
     },
     "execution_count": 5,
     "metadata": {},
     "output_type": "execute_result"
    }
   ],
   "source": [
    "ILS.set_index('Date', drop=True, inplace=True)\n",
    "ILS"
   ]
  },
  {
   "cell_type": "code",
   "execution_count": 6,
   "metadata": {},
   "outputs": [],
   "source": [
    "merge=pd.merge(nasdaq, ILS, how='inner', left_index=True, right_index=True)\n",
    "merge['USD'] = 1 / merge['ILS']"
   ]
  },
  {
   "cell_type": "code",
   "execution_count": 7,
   "metadata": {},
   "outputs": [
    {
     "data": {
      "text/html": [
       "<div>\n",
       "<style scoped>\n",
       "    .dataframe tbody tr th:only-of-type {\n",
       "        vertical-align: middle;\n",
       "    }\n",
       "\n",
       "    .dataframe tbody tr th {\n",
       "        vertical-align: top;\n",
       "    }\n",
       "\n",
       "    .dataframe thead th {\n",
       "        text-align: right;\n",
       "    }\n",
       "</style>\n",
       "<table border=\"1\" class=\"dataframe\">\n",
       "  <thead>\n",
       "    <tr style=\"text-align: right;\">\n",
       "      <th></th>\n",
       "      <th>Open</th>\n",
       "      <th>High</th>\n",
       "      <th>Low</th>\n",
       "      <th>Close</th>\n",
       "      <th>Adj Close</th>\n",
       "      <th>Volume</th>\n",
       "      <th>USD</th>\n",
       "      <th>ILS</th>\n",
       "    </tr>\n",
       "    <tr>\n",
       "      <th>Date</th>\n",
       "      <th></th>\n",
       "      <th></th>\n",
       "      <th></th>\n",
       "      <th></th>\n",
       "      <th></th>\n",
       "      <th></th>\n",
       "      <th></th>\n",
       "      <th></th>\n",
       "    </tr>\n",
       "  </thead>\n",
       "  <tbody>\n",
       "  </tbody>\n",
       "</table>\n",
       "</div>"
      ],
      "text/plain": [
       "Empty DataFrame\n",
       "Columns: [Open, High, Low, Close, Adj Close, Volume, USD, ILS]\n",
       "Index: []"
      ]
     },
     "execution_count": 7,
     "metadata": {},
     "output_type": "execute_result"
    }
   ],
   "source": [
    "merge"
   ]
  },
  {
   "cell_type": "code",
   "execution_count": 8,
   "metadata": {},
   "outputs": [],
   "source": [
    "def rev(s):\n",
    "    return s[::-1]"
   ]
  },
  {
   "cell_type": "code",
   "execution_count": 9,
   "metadata": {
    "scrolled": true
   },
   "outputs": [
    {
     "name": "stderr",
     "output_type": "stream",
     "text": [
      "/var/folders/l5/kkx8dwdn57s3v0k59p9m7sv80007gv/T/ipykernel_94781/2983838679.py:4: UserWarning: FixedFormatter should only be used together with FixedLocator\n",
      "  ax.set_xticklabels(ax.get_xticklabels(),rotation = -45)\n",
      "No artists with labels found to put in legend.  Note that artists whose label start with an underscore are ignored when legend() is called with no argument.\n",
      "No artists with labels found to put in legend.  Note that artists whose label start with an underscore are ignored when legend() is called with no argument.\n"
     ]
    },
    {
     "data": {
      "text/plain": [
       "<matplotlib.legend.Legend at 0x127dc5b20>"
      ]
     },
     "execution_count": 9,
     "metadata": {},
     "output_type": "execute_result"
    },
    {
     "data": {
      "image/png": "[encoded data removed]",
      "text/plain": [
       "<Figure size 640x480 with 2 Axes>"
      ]
     },
     "metadata": {},
     "output_type": "display_data"
    }
   ],
   "source": [
    "sns.set_context('talk')\n",
    "#sns.set_style(\"darkgrid\", {\"figure.figsize\":  [10, 7.5], \"lines.linewidth\": 5.5})\n",
    "ax = sns.lineplot(data=merge['Close'], color=\"g\", label=rev('נאסדק'))\n",
    "ax.set_xticklabels(ax.get_xticklabels(),rotation = -45)\n",
    "\n",
    "ax.legend(loc=0)\n",
    "ax2 = plt.twinx()\n",
    "ax3 = sns.lineplot(data=merge['USD'], color=\"b\", ax=ax2, label=rev('דולר/שקל'))\n",
    "ax3.legend(loc=2)"
   ]
  },
  {
   "cell_type": "code",
   "execution_count": 10,
   "metadata": {},
   "outputs": [],
   "source": [
    "cr = merge['USD'].rolling(30).corr(merge['Close'])"
   ]
  },
  {
   "cell_type": "code",
   "execution_count": 11,
   "metadata": {},
   "outputs": [
    {
     "data": {
      "image/png": "[encoded data removed]",
      "text/plain": [
       "<Figure size 640x480 with 1 Axes>"
      ]
     },
     "metadata": {},
     "output_type": "display_data"
    }
   ],
   "source": [
    "ax = sns.lineplot(data=cr)\n",
    "#ax.set_xticklabels(ax.get_xticklabels(),rotation = -45)\n",
    "ax.tick_params(axis='x', rotation=-45)\n"
   ]
  },
  {
   "cell_type": "code",
   "execution_count": 12,
   "metadata": {},
   "outputs": [
    {
     "data": {
      "text/plain": [
       "Series([], dtype: float64)"
      ]
     },
     "execution_count": 12,
     "metadata": {},
     "output_type": "execute_result"
    }
   ],
   "source": [
    "cr[-25:-1]"
   ]
  }
 ],
 "metadata": {
  "kernelspec": {
   "display_name": "Python 3 (ipykernel)",
   "language": "python",
   "name": "python3"
  },
  "language_info": {
   "codemirror_mode": {
    "name": "ipython",
    "version": 3
   },
   "file_extension": ".py",
   "mimetype": "text/x-python",
   "name": "python",
   "nbconvert_exporter": "python",
   "pygments_lexer": "ipython3",
   "version": "3.8.13"
  }
 },
 "nbformat": 4,
 "nbformat_minor": 4
}
