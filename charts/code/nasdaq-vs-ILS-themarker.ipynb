{
 "cells": [
  {
   "cell_type": "code",
   "execution_count": null,
   "metadata": {},
   "outputs": [],
   "source": [
    "import pandas as pd\n",
    "import seaborn as sns\n",
    "import matplotlib \n",
    "import matplotlib.pyplot as plt\n",
    "# Explore fluctuations in stock markers vs. the Shekel rate. ref: https://www.themarker.com/markets/.premium-1.10783174"
   ]
  },
  {
   "cell_type": "code",
   "execution_count": null,
   "metadata": {},
   "outputs": [],
   "source": [
    "# NASDAQ closing\n",
    "# source: https://finance.yahoo.com/quote/%5EIXIC/history/\n",
    "nasdaq = pd.read_csv('../data/IXIC-20220508.csv')"
   ]
  },
  {
   "cell_type": "code",
   "execution_count": null,
   "metadata": {},
   "outputs": [],
   "source": [
    "#nasdaq.set_index(pd.to_datetime(nasdaq['Date']), drop=True, inplace=True)\n",
    "nasdaq.set_index('Date', drop=True, inplace=True)\n",
    "nasdaq"
   ]
  },
  {
   "cell_type": "code",
   "execution_count": null,
   "metadata": {},
   "outputs": [],
   "source": [
    "# USD-ILS exchange rates\n",
    "# Source https://excelrates.com/historical-exchange-rates/USD-ILS\n",
    "ILS = pd.read_excel('../data/USD-ILS-20220508.xlsx')"
   ]
  },
  {
   "cell_type": "code",
   "execution_count": null,
   "metadata": {
    "scrolled": true
   },
   "outputs": [],
   "source": [
    "ILS.set_index('Date', drop=True, inplace=True)\n",
    "ILS"
   ]
  },
  {
   "cell_type": "code",
   "execution_count": null,
   "metadata": {},
   "outputs": [],
   "source": [
    "merge=pd.merge(nasdaq, ILS, how='inner', left_index=True, right_index=True)\n",
    "merge['USD'] = 1 / merge['ILS']"
   ]
  },
  {
   "cell_type": "code",
   "execution_count": null,
   "metadata": {},
   "outputs": [],
   "source": [
    "merge"
   ]
  },
  {
   "cell_type": "code",
   "execution_count": null,
   "metadata": {},
   "outputs": [],
   "source": [
    "def rev(s):\n",
    "    return s[::-1]"
   ]
  },
  {
   "cell_type": "code",
   "execution_count": null,
   "metadata": {
    "scrolled": true
   },
   "outputs": [],
   "source": [
    "sns.set_context('talk')\n",
    "#sns.set_style(\"darkgrid\", {\"figure.figsize\":  [10, 7.5], \"lines.linewidth\": 5.5})\n",
    "ax = sns.lineplot(data=merge['Close'], color=\"g\", label=rev('נאסדק'))\n",
    "ax.set_xticklabels(ax.get_xticklabels(),rotation = -45)\n",
    "\n",
    "ax.legend(loc=0)\n",
    "ax2 = plt.twinx()\n",
    "ax3 = sns.lineplot(data=merge['USD'], color=\"b\", ax=ax2, label=rev('דולר/שקל'))\n",
    "ax3.legend(loc=2)"
   ]
  },
  {
   "cell_type": "code",
   "execution_count": null,
   "metadata": {},
   "outputs": [],
   "source": [
    "cr = merge['USD'].rolling(30).corr(merge['Close'])"
   ]
  },
  {
   "cell_type": "code",
   "execution_count": null,
   "metadata": {},
   "outputs": [],
   "source": [
    "ax = sns.lineplot(data=cr)\n",
    "#ax.set_xticklabels(ax.get_xticklabels(),rotation = -45)\n",
    "ax.tick_params(axis='x', rotation=-45)\n"
   ]
  },
  {
   "cell_type": "code",
   "execution_count": null,
   "metadata": {},
   "outputs": [],
   "source": [
    "cr[-25:-1]"
   ]
  }
 ],
 "metadata": {
  "kernelspec": {
   "display_name": "Python 3",
   "language": "python",
   "name": "python3"
  },
  "language_info": {
   "codemirror_mode": {
    "name": "ipython",
    "version": 3
   },
   "file_extension": ".py",
   "mimetype": "text/x-python",
   "name": "python",
   "nbconvert_exporter": "python",
   "pygments_lexer": "ipython3",
   "version": "3.7.3"
  }
 },
 "nbformat": 4,
 "nbformat_minor": 4
}
