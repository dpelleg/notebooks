{
 "cells": [
  {
   "cell_type": "code",
   "execution_count": 40,
   "id": "4a4fc5be",
   "metadata": {},
   "outputs": [],
   "source": [
    "import pandas as pd\n",
    "import seaborn as sns"
   ]
  },
  {
   "cell_type": "code",
   "execution_count": 41,
   "id": "a3b1a82a",
   "metadata": {},
   "outputs": [],
   "source": [
    "datadir = '../data/'"
   ]
  },
  {
   "cell_type": "code",
   "execution_count": 42,
   "id": "1497c6ce",
   "metadata": {},
   "outputs": [],
   "source": [
    "def _read_file(fname, enc='iso8859-8'):\n",
    "    fd = open(fname, encoding=enc, errors='replace')\n",
    "    df = pd.read_csv(fd, sep='|')\n",
    "    return df\n",
    "\n",
    "def add_model(df):\n",
    "    df['model'] = df.apply(lambda x: '_'.join([x[y] for y in ['tozeret_cd', 'degem_cd', 'shnat_yitzur', 'sug_degem']]), axis=1)\n",
    "\n",
    "def get_model_name(ns):\n",
    "    names = pd.DataFrame(data={'model':ns})\n",
    "    ret = pd.merge(names, models, how='left', on='model')[['tozeret_nm', 'kinuy_mishari']]\n",
    "    return ret"
   ]
  },
  {
   "cell_type": "code",
   "execution_count": 43,
   "id": "5623cad3",
   "metadata": {},
   "outputs": [],
   "source": [
    "# source : https://data.gov.il/dataset/private-and-commercial-vehicles/resource/053cea08-09bc-40ec-8f7a-156f0677aff3?inner_span=True\n",
    "\n",
    "#df = pd.read_csv('data/rechev-small.csv', encoding='iso-8859-1', sep='|')\n",
    "\n",
    "def read_file(fname):\n",
    "    fname = datadir + fname\n",
    "    df = _read_file(fname)\n",
    "\n",
    "    for c in ['mispar_rechev', 'degem_cd', 'tozeret_cd', 'shnat_yitzur']:\n",
    "        df[c] = df[c].astype(str)\n",
    "\n",
    "    df['test']= pd.to_datetime(df.mivchan_acharon_dt)\n",
    "    df['test_expiry']= pd.to_datetime(df.tokef_dt)    \n",
    "    add_model(df)\n",
    "    return df"
   ]
  },
  {
   "cell_type": "code",
   "execution_count": 44,
   "id": "924d2a18",
   "metadata": {},
   "outputs": [],
   "source": [
    "prev = read_file('rechev.csv')\n",
    "curr = read_file('rechev-20230413.csv')"
   ]
  },
  {
   "cell_type": "code",
   "execution_count": 65,
   "id": "aa23a70a",
   "metadata": {},
   "outputs": [],
   "source": [
    "# perform left and right joins\n",
    "df_prev = pd.merge(prev, curr['mispar_rechev'], on='mispar_rechev', how='left')\n",
    "df_prev['src'] = 'prev'\n",
    "df_curr = pd.merge(prev['mispar_rechev'], curr, on='mispar_rechev', how='right')\n",
    "df_curr['src'] = 'curr'\n",
    "df = pd.concat([df_prev, df_curr])\n",
    "df.drop_duplicates(subset='mispar_rechev', keep=False, inplace=True)"
   ]
  },
  {
   "cell_type": "code",
   "execution_count": 67,
   "id": "ee7dd62d",
   "metadata": {},
   "outputs": [
    {
     "data": {
      "text/plain": [
       "curr    6182\n",
       "prev    5718\n",
       "Name: src, dtype: int64"
      ]
     },
     "execution_count": 67,
     "metadata": {},
     "output_type": "execute_result"
    }
   ],
   "source": [
    "df['src'].value_counts()"
   ]
  },
  {
   "cell_type": "code",
   "execution_count": 74,
   "id": "11bfd7cd",
   "metadata": {},
   "outputs": [
    {
     "data": {
      "text/plain": [
       "2008    440\n",
       "2019    349\n",
       "2011    334\n",
       "2007    327\n",
       "2021    311\n",
       "2018    298\n",
       "2010    294\n",
       "2016    276\n",
       "2013    263\n",
       "2015    259\n",
       "2017    252\n",
       "2012    252\n",
       "2006    247\n",
       "2003    223\n",
       "2005    220\n",
       "2014    215\n",
       "2009    197\n",
       "2002    174\n",
       "2004    167\n",
       "2001    149\n",
       "2020    139\n",
       "2022    117\n",
       "2000     76\n",
       "1999     60\n",
       "1998     41\n",
       "1997     21\n",
       "2023     15\n",
       "1996      2\n",
       "Name: shnat_yitzur, dtype: int64"
      ]
     },
     "execution_count": 74,
     "metadata": {},
     "output_type": "execute_result"
    }
   ],
   "source": [
    "df.query('src == \"prev\"')['shnat_yitzur'].value_counts()"
   ]
  },
  {
   "cell_type": "code",
   "execution_count": 75,
   "id": "5d591b52",
   "metadata": {
    "scrolled": true
   },
   "outputs": [
    {
     "data": {
      "text/plain": [
       "2023    4866\n",
       "2017      90\n",
       "2016      90\n",
       "2019      84\n",
       "2021      84\n",
       "2008      81\n",
       "2018      80\n",
       "2020      79\n",
       "2011      78\n",
       "2015      78\n",
       "2012      67\n",
       "2010      64\n",
       "2013      56\n",
       "2003      54\n",
       "2014      50\n",
       "2009      49\n",
       "2002      47\n",
       "2007      42\n",
       "2006      35\n",
       "2005      26\n",
       "2001      19\n",
       "2004      17\n",
       "2000      14\n",
       "2022      11\n",
       "1999       9\n",
       "1997       7\n",
       "1998       4\n",
       "1996       1\n",
       "Name: shnat_yitzur, dtype: int64"
      ]
     },
     "execution_count": 75,
     "metadata": {},
     "output_type": "execute_result"
    }
   ],
   "source": [
    "df.query('src == \"curr\"')['shnat_yitzur'].value_counts()"
   ]
  }
 ],
 "metadata": {
  "kernelspec": {
   "display_name": "Python 3 (ipykernel)",
   "language": "python",
   "name": "python3"
  },
  "language_info": {
   "codemirror_mode": {
    "name": "ipython",
    "version": 3
   },
   "file_extension": ".py",
   "mimetype": "text/x-python",
   "name": "python",
   "nbconvert_exporter": "python",
   "pygments_lexer": "ipython3",
   "version": "3.8.13"
  }
 },
 "nbformat": 4,
 "nbformat_minor": 5
}
