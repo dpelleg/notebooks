{
 "cells": [
  {
   "cell_type": "code",
   "execution_count": 1,
   "id": "4a4fc5be",
   "metadata": {},
   "outputs": [],
   "source": [
    "import pandas as pd\n",
    "import seaborn as sns"
   ]
  },
  {
   "cell_type": "code",
   "execution_count": 2,
   "id": "a3b1a82a",
   "metadata": {},
   "outputs": [],
   "source": [
    "datadir = '../data/'"
   ]
  },
  {
   "cell_type": "code",
   "execution_count": 3,
   "id": "1497c6ce",
   "metadata": {},
   "outputs": [],
   "source": [
    "def _read_file(fname, enc='iso8859-8'):\n",
    "    fd = open(fname, encoding=enc, errors='replace')\n",
    "    df = pd.read_csv(fd, sep='|')\n",
    "    return df\n",
    "\n",
    "def add_model(df):\n",
    "    df['model'] = df.apply(lambda x: '_'.join([x[y] for y in ['tozeret_cd', 'degem_cd', 'shnat_yitzur', 'sug_degem']]), axis=1)\n",
    "\n",
    "def get_model_name(ns):\n",
    "    names = pd.DataFrame(data={'model':ns})\n",
    "    ret = pd.merge(names, models, how='left', on='model')[['tozeret_nm', 'kinuy_mishari']]\n",
    "    return ret"
   ]
  },
  {
   "cell_type": "code",
   "execution_count": 4,
   "id": "5623cad3",
   "metadata": {},
   "outputs": [],
   "source": [
    "# source : https://data.gov.il/dataset/private-and-commercial-vehicles\n",
    "\n",
    "#df = pd.read_csv('data/rechev-small.csv', encoding='iso-8859-1', sep='|')\n",
    "\n",
    "def read_file(fname):\n",
    "    fname = datadir + fname\n",
    "    df = _read_file(fname)\n",
    "\n",
    "    for c in ['mispar_rechev', 'degem_cd', 'tozeret_cd', 'shnat_yitzur']:\n",
    "        df[c] = df[c].astype(str)\n",
    "\n",
    "    df['test']= pd.to_datetime(df.mivchan_acharon_dt)\n",
    "    df['test_expiry']= pd.to_datetime(df.tokef_dt)    \n",
    "    add_model(df)\n",
    "    return df"
   ]
  },
  {
   "cell_type": "code",
   "execution_count": 5,
   "id": "924d2a18",
   "metadata": {},
   "outputs": [],
   "source": [
    "prev = read_file('rechev-20230401.csv')\n",
    "curr = read_file('rechev-20230501.csv')"
   ]
  },
  {
   "cell_type": "code",
   "execution_count": 6,
   "id": "aa23a70a",
   "metadata": {},
   "outputs": [],
   "source": [
    "# perform left and right joins\n",
    "df_prev = pd.merge(prev, curr['mispar_rechev'], on='mispar_rechev', how='left')\n",
    "df_prev['src'] = 'prev'\n",
    "df_curr = pd.merge(prev['mispar_rechev'], curr, on='mispar_rechev', how='right')\n",
    "df_curr['src'] = 'curr'\n",
    "df = pd.concat([df_prev, df_curr])\n",
    "df.drop_duplicates(subset='mispar_rechev', keep=False, inplace=True)"
   ]
  },
  {
   "cell_type": "code",
   "execution_count": 7,
   "id": "ee7dd62d",
   "metadata": {},
   "outputs": [
    {
     "data": {
      "text/plain": [
       "curr    18482\n",
       "prev    15349\n",
       "Name: src, dtype: int64"
      ]
     },
     "execution_count": 7,
     "metadata": {},
     "output_type": "execute_result"
    }
   ],
   "source": [
    "df['src'].value_counts()"
   ]
  },
  {
   "cell_type": "code",
   "execution_count": 8,
   "id": "11bfd7cd",
   "metadata": {},
   "outputs": [
    {
     "data": {
      "text/plain": [
       "2008    1351\n",
       "2011    1017\n",
       "2012     825\n",
       "2010     818\n",
       "2007     757\n",
       "2006     742\n",
       "2016     731\n",
       "2015     728\n",
       "2019     722\n",
       "2017     698\n",
       "2009     691\n",
       "2014     681\n",
       "2018     678\n",
       "2013     654\n",
       "2021     636\n",
       "2005     628\n",
       "2003     585\n",
       "2004     480\n",
       "2002     420\n",
       "2001     368\n",
       "2022     308\n",
       "2020     303\n",
       "2000     189\n",
       "1999     138\n",
       "1998     103\n",
       "1997      48\n",
       "2023      45\n",
       "1996       5\n",
       "Name: shnat_yitzur, dtype: int64"
      ]
     },
     "execution_count": 8,
     "metadata": {},
     "output_type": "execute_result"
    }
   ],
   "source": [
    "df.query('src == \"prev\"')['shnat_yitzur'].value_counts()"
   ]
  },
  {
   "cell_type": "code",
   "execution_count": 9,
   "id": "5d591b52",
   "metadata": {
    "scrolled": true
   },
   "outputs": [
    {
     "data": {
      "text/plain": [
       "2023    15490\n",
       "2016      215\n",
       "2018      200\n",
       "2015      191\n",
       "2020      189\n",
       "2017      187\n",
       "2011      186\n",
       "2019      184\n",
       "2021      183\n",
       "2008      179\n",
       "2012      155\n",
       "2013      146\n",
       "2010      141\n",
       "2014      135\n",
       "2009      123\n",
       "2007       99\n",
       "2003       91\n",
       "2006       87\n",
       "2002       80\n",
       "2005       55\n",
       "2004       39\n",
       "2001       36\n",
       "2000       28\n",
       "2022       19\n",
       "1998       16\n",
       "1999       15\n",
       "1997       12\n",
       "1996        1\n",
       "Name: shnat_yitzur, dtype: int64"
      ]
     },
     "execution_count": 9,
     "metadata": {},
     "output_type": "execute_result"
    }
   ],
   "source": [
    "df.query('src == \"curr\"')['shnat_yitzur'].value_counts()"
   ]
  },
  {
   "cell_type": "code",
   "execution_count": 27,
   "id": "01ece575",
   "metadata": {},
   "outputs": [],
   "source": [
    "onlycurr = df.query('src == \"curr\"').copy()"
   ]
  },
  {
   "cell_type": "code",
   "execution_count": 28,
   "id": "937fd0fc",
   "metadata": {},
   "outputs": [
    {
     "data": {
      "text/plain": [
       "חשמל          3021\n",
       "חשמל/בנזין    1007\n",
       "חשמל/דיזל        8\n",
       "Name: sug_delek_nm, dtype: int64"
      ]
     },
     "execution_count": 28,
     "metadata": {},
     "output_type": "execute_result"
    }
   ],
   "source": [
    "onlycurr[onlycurr.sug_delek_nm.str.contains('חשמל')].sug_delek_nm.value_counts()"
   ]
  },
  {
   "cell_type": "code",
   "execution_count": 29,
   "id": "d7332d53",
   "metadata": {},
   "outputs": [],
   "source": [
    "electric = onlycurr[onlycurr.sug_delek_nm.str.contains('חשמל')].copy()"
   ]
  },
  {
   "cell_type": "code",
   "execution_count": 32,
   "id": "8447115f",
   "metadata": {},
   "outputs": [
    {
     "data": {
      "text/plain": [
       "ATTO 3            1418\n",
       "NIRO PLUS PHEV     473\n",
       "GEOMETRY C         300\n",
       "ORA FUNKY CAT      110\n",
       "ID4                110\n",
       "ENYAQ IV           103\n",
       "EHS PHEV            95\n",
       "TOYOTA BZ4X         93\n",
       "U5                  88\n",
       "IONIQ5              76\n",
       "NIRO PHEV           67\n",
       "SERES 3             65\n",
       "EQA250              60\n",
       "ET5                 48\n",
       "MODEL Y             46\n",
       "T03                 44\n",
       "WEY COFFEE 01       42\n",
       "MODEL X             41\n",
       "SPORTAGE            38\n",
       "LYNKCO 01           32\n",
       "Name: kinuy_mishari, dtype: int64"
      ]
     },
     "execution_count": 32,
     "metadata": {},
     "output_type": "execute_result"
    }
   ],
   "source": [
    "electric.kinuy_mishari.value_counts().head(20)"
   ]
  }
 ],
 "metadata": {
  "kernelspec": {
   "display_name": "Python 3 (ipykernel)",
   "language": "python",
   "name": "python3"
  },
  "language_info": {
   "codemirror_mode": {
    "name": "ipython",
    "version": 3
   },
   "file_extension": ".py",
   "mimetype": "text/x-python",
   "name": "python",
   "nbconvert_exporter": "python",
   "pygments_lexer": "ipython3",
   "version": "3.9.16"
  }
 },
 "nbformat": 4,
 "nbformat_minor": 5
}
