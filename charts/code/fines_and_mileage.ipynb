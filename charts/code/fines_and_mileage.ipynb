{
 "cells": [
  {
   "cell_type": "code",
   "execution_count": null,
   "id": "4a4fc5be",
   "metadata": {
    "scrolled": true
   },
   "outputs": [],
   "source": [
    "from vehicles import *"
   ]
  },
  {
   "cell_type": "code",
   "execution_count": null,
   "id": "320e9118",
   "metadata": {
    "scrolled": true
   },
   "outputs": [],
   "source": [
    "# the master file with all vehicles\n",
    "df = read_file('rechev.csv')"
   ]
  },
  {
   "cell_type": "code",
   "execution_count": null,
   "id": "330f0609",
   "metadata": {
    "scrolled": true
   },
   "outputs": [],
   "source": [
    "df_bak = df.copy()"
   ]
  },
  {
   "cell_type": "code",
   "execution_count": null,
   "outputs": [],
   "source": [
    "df = df_bak.copy()"
   ],
   "metadata": {
    "collapsed": false
   },
   "id": "a258bebe7a989c"
  },
  {
   "cell_type": "code",
   "execution_count": null,
   "outputs": [],
   "source": [
    "def stringify_cols_delme(df, cols=None):\n",
    "    if cols is None:\n",
    "        cols = ['mispar_rechev', 'degem_cd', 'tozeret_cd', 'shnat_yitzur']\n",
    "    for c in df.columns.intersection(cols):\n",
    "        df[c] = df[c].astype(str)\n"
   ],
   "metadata": {
    "collapsed": false
   },
   "id": "7baa90a5656d4871"
  },
  {
   "cell_type": "code",
   "execution_count": null,
   "outputs": [],
   "source": [
    "# add mileage data\n",
    "# source: https://data.gov.il/dataset/shinui_mivne  (first file)\n",
    "\n",
    "mivne = read_file_helper(datadir + 'shinui_mivne.csv', enc='UTF-8')\n",
    "stringify_cols(mivne, ['mispar_rechev'])"
   ],
   "metadata": {
    "collapsed": false
   },
   "id": "ac043ad93c557cf2"
  },
  {
   "cell_type": "code",
   "execution_count": null,
   "id": "53771b37",
   "metadata": {
    "scrolled": true
   },
   "outputs": [],
   "source": [
    "# source: https://data.gov.il/dataset/shinui_mivne  (second file)\n",
    "vo = pd.read_csv(datadir + 'vehicle_ownership.csv', sep='|')\n",
    "\n",
    "stringify_cols(vo, ['mispar_rechev'])\n",
    "\n",
    "c='baalut_dt'\n",
    "vo[c] = pd.to_datetime(vo[c], format=\"%Y%m\")"
   ]
  },
  {
   "cell_type": "code",
   "execution_count": null,
   "id": "b4a095fd",
   "metadata": {
    "scrolled": false
   },
   "outputs": [],
   "source": [
    "vo.baalut.value_counts()"
   ]
  },
  {
   "cell_type": "code",
   "execution_count": null,
   "outputs": [],
   "source": [
    "dfm = pd.merge(df, mivne, how='left', on='mispar_rechev')\n",
    "# find the popular models\n",
    "dfm['makemodel'] = dfm['make'] + ' ' + dfm['kinuy_mishari']\n",
    "degem_c = dfm['makemodel'].value_counts()\n",
    "degem_big = degem_c[degem_c > 5000].index.to_list()"
   ],
   "metadata": {
    "collapsed": false
   },
   "id": "6551d172b2b9f15c"
  },
  {
   "cell_type": "code",
   "execution_count": null,
   "outputs": [],
   "source": [
    "import csv\n",
    "\n",
    "# source : https://data.gov.il/dataset/mehir_yevuan\n",
    "# add model prices\n",
    "\n",
    "fname = datadir + 'vehicle_cost.csv'\n",
    "\n",
    "with open(fname, encoding='utf-8', errors='replace') as fd:\n",
    "    prices = pd.read_csv(fd, sep='|', low_memory=False, quoting=csv.QUOTE_NONE)\n",
    "\n",
    "# there are unquoted quotes in the file, which is why we had csv.QUOTE_NONE above. Now let's remove the quote signs at the ends\n",
    "for c in prices.columns:\n",
    "    prices[c] = prices[c].map(lambda s: s.strip('\"'))\n",
    "\n",
    "stringify_cols(prices, ['degem_cd', 'tozeret_cd', 'shnat_yitzur'])\n",
    "for c in ['mehir']:\n",
    "    prices[c] = pd.to_numeric(prices[c], errors='coerce')\n",
    "\n",
    "add_model(prices)\n",
    "prices_ = prices.copy()\n",
    "prices = prices[['model', 'mehir']]"
   ],
   "metadata": {
    "collapsed": false
   },
   "id": "e0c64efc29e05517"
  },
  {
   "cell_type": "code",
   "execution_count": null,
   "outputs": [],
   "source": [
    "# add prices\n",
    "dfm['mehir'] = dfm['model'].map(prices.set_index('model')['mehir'].to_dict())"
   ],
   "metadata": {
    "collapsed": false
   },
   "id": "2114466c9d7f6cea"
  },
  {
   "cell_type": "code",
   "execution_count": null,
   "outputs": [],
   "source": [
    "from datetime import datetime\n",
    "\n",
    "# days_on_road is the time from first mile till the last \"test\" - a date in which we know the vehicle was functional\n",
    "# ownership_days is the time from first mile till today\n",
    "now = datetime.now()\n",
    "dfm['days_on_road'] = ((dfm['test'] - dfm['moed_aliya_lakvish']).dt.total_seconds())/(24*60*60)\n",
    "# clip days_on_road to at least 1 day\n",
    "dfm['days_on_road'] = dfm['days_on_road'].clip(lower=1)\n",
    "dfm['ownership_days'] = ((now - dfm['moed_aliya_lakvish']).dt.total_seconds())/(24*60*60)\n",
    "# clip ownership_days to at least 1 day\n",
    "dfm['ownership_days'] = dfm['ownership_days'].clip(lower=1)\n",
    "\n",
    "# remove what looks like bad data - over 0.5M km total\n",
    "c='kilometer_test_aharon'\n",
    "dfm['km_test'] = dfm[c].copy()\n",
    "dfm[c] = dfm[c].clip(upper=500000)\n",
    "\n",
    "dfm['avg_km_day'] = dfm[c] / dfm['days_on_road']\n",
    "dfm['avg_km_test_day'] = dfm['km_test'] / dfm['days_on_road']\n",
    "\n",
    "# remove what looks like bad data - over 1000 km per day (maybe the test date is keyed in wrong)\n",
    "c='avg_km_day'\n",
    "dfm[c] = dfm[c].clip(upper=1000)"
   ],
   "metadata": {
    "collapsed": false
   },
   "id": "924ad04b15a62597"
  },
  {
   "cell_type": "code",
   "execution_count": null,
   "id": "00ad1caf",
   "metadata": {},
   "outputs": [],
   "source": [
    "df.baalut.value_counts()"
   ]
  },
  {
   "cell_type": "code",
   "execution_count": null,
   "id": "e770df6f",
   "metadata": {
    "scrolled": true
   },
   "outputs": [],
   "source": [
    "dfm.iloc[0].to_dict()"
   ]
  },
  {
   "cell_type": "code",
   "execution_count": null,
   "id": "eaef810f",
   "metadata": {},
   "outputs": [],
   "source": [
    "# 1. Find the mean price by make for rows with year = 2022\n",
    "mean_price_2022 = dfm[dfm['year'] == 2022].groupby('make')['mehir'].mean().rename('price')\n",
    "\n",
    "# 2. Find the total avg_km_day by make for rows with year = 2019\n",
    "total_avg_km_2019 = dfm[dfm['year'] == 2019].groupby('make')['avg_km_day'].sum().rename('km')"
   ]
  },
  {
   "cell_type": "code",
   "execution_count": null,
   "id": "6c8f8461",
   "metadata": {},
   "outputs": [],
   "source": [
    "counts = dfm['make'].value_counts()\n",
    "#small_makes = ['וולבו', 'הונדה'] + ['פורד', 'פיאט']\n",
    "small_makes = ['וולבו', 'הונדה']\n",
    "for m in small_makes:\n",
    "    print((m, counts[m]))"
   ]
  },
  {
   "cell_type": "code",
   "execution_count": null,
   "id": "7ac28eb6",
   "metadata": {},
   "outputs": [],
   "source": [
    "mean_price_2022.sort_values()[-15:].plot(kind='barh')"
   ]
  },
  {
   "cell_type": "code",
   "execution_count": null,
   "id": "6344ea23",
   "metadata": {
    "scrolled": true
   },
   "outputs": [],
   "source": [
    "total_avg_km_2019.sort_values()[-15:].plot(kind='barh')"
   ]
  },
  {
   "cell_type": "code",
   "execution_count": null,
   "id": "59ac7287",
   "metadata": {},
   "outputs": [],
   "source": [
    "fines = pd.read_csv('../data/fines_and_mileage.csv')\n",
    "fines=fines[['make', 'fines']]"
   ]
  },
  {
   "cell_type": "code",
   "execution_count": null,
   "id": "b3c9ca98",
   "metadata": {},
   "outputs": [],
   "source": [
    "fines = fines.merge(how='left', right=mean_price_2022, on='make')\n",
    "fines = fines.merge(how='left', right=total_avg_km_2019, on='make')"
   ]
  },
  {
   "cell_type": "code",
   "execution_count": null,
   "id": "8237972f",
   "metadata": {},
   "outputs": [],
   "source": [
    "fines.sort_values(by='km', ascending=False)"
   ]
  },
  {
   "cell_type": "code",
   "execution_count": null,
   "id": "85b59430",
   "metadata": {},
   "outputs": [],
   "source": [
    "# select the big makes\n",
    "makes = dfm.groupby('make').size()\n",
    "big_makes = makes[makes > 10000].index.tolist()\n",
    "by_price = fines.query(\"make in @big_makes\").sort_values(by='price', ascending=False)[['make', 'price']]\n",
    "by_price['price_k'] = (by_price['price'] / 1000).astype(int)\n",
    "by_price"
   ]
  },
  {
   "cell_type": "code",
   "execution_count": null,
   "id": "1ca801fa",
   "metadata": {
    "scrolled": true
   },
   "outputs": [],
   "source": [
    "fines['fine_per_km'] = fines['fines'] / fines['km']\n",
    "fines"
   ]
  },
  {
   "cell_type": "code",
   "execution_count": null,
   "id": "cebca2ce",
   "metadata": {},
   "outputs": [],
   "source": [
    "fines_bak = fines.copy()\n",
    "fines_filtered = fines[~fines['make'].isin(small_makes)]"
   ]
  },
  {
   "cell_type": "code",
   "execution_count": null,
   "id": "120e8812",
   "metadata": {},
   "outputs": [],
   "source": [
    "import pandas as pd\n",
    "import plotly.express as px\n",
    "\n",
    "# Create the scatter plot\n",
    "fig = px.scatter(fines_filtered, y='fine_per_km', x='price', hover_data=['make'], title='Scatter Plot of fines_per_km vs. price')\n",
    "\n",
    "# Show the plot\n",
    "fig.show()"
   ]
  },
  {
   "cell_type": "code",
   "execution_count": null,
   "id": "978b3785",
   "metadata": {},
   "outputs": [],
   "source": [
    "from matplotlib import pyplot as plt\n",
    "import seaborn as sns\n",
    "\n",
    "def rev(s):\n",
    "    return s[::-1]\n",
    "\n",
    "df = fines_filtered\n",
    "# Create the scatter plot using Seaborn\n",
    "plt.figure(figsize=(8, 6))\n",
    "sns.scatterplot(x='price', y='fine_per_km', data=df, style='make', s=100, legend=False)\n",
    "plt.xlabel(rev('מחיר'), fontsize=18)\n",
    "plt.ylabel(rev('קנסות לק״מ'), fontsize=18)\n",
    "#plt.title('Scatter Plot of fines_per_km vs. price')\n",
    "#plt.legend(title='Make', markerscale=1.5)\n",
    "\n",
    "# Annotate each point with the 'make' value\n",
    "for x, y, make in zip(df['price'], df['fine_per_km'], df['make']):\n",
    "    if make=='BMW':\n",
    "        make = rev(make)  # don't reverse if in English\n",
    "    plt.text(x+1e4,  y, rev(make), ha='left', va='center', fontweight='bold')\n",
    "\n",
    "plt.show()\n"
   ]
  },
  {
   "cell_type": "code",
   "execution_count": null,
   "id": "f253f5ce",
   "metadata": {
    "scrolled": true
   },
   "outputs": [],
   "source": [
    "fines.sort_values(by='fine_per_km', ascending=False)"
   ]
  },
  {
   "cell_type": "code",
   "execution_count": null,
   "id": "93b93c1d",
   "metadata": {},
   "outputs": [],
   "source": [
    "from scipy.stats import spearmanr\n",
    "correlation, p_value = spearmanr(fines['fine_per_km'], fines['price'], nan_policy='omit')\n",
    "print(correlation)\n",
    "print(p_value)"
   ]
  }
 ],
 "metadata": {
  "kernelspec": {
   "display_name": "Python 3 (ipykernel)",
   "language": "python",
   "name": "python3"
  },
  "language_info": {
   "codemirror_mode": {
    "name": "ipython",
    "version": 3
   },
   "file_extension": ".py",
   "mimetype": "text/x-python",
   "name": "python",
   "nbconvert_exporter": "python",
   "pygments_lexer": "ipython3",
   "version": "3.8.13"
  }
 },
 "nbformat": 4,
 "nbformat_minor": 5
}
