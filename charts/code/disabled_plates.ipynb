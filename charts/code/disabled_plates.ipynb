{
 "cells": [
  {
   "cell_type": "code",
   "id": "166a0d8c",
   "metadata": {
    "ExecuteTime": {
     "end_time": "2024-12-22T15:46:34.741475Z",
     "start_time": "2024-12-22T15:46:34.719642Z"
    }
   },
   "source": [
    "# check the cars that have a disabled parking permit\n",
    "import pandas as pd\n",
    "import seaborn as sns\n",
    "import matplotlib.pyplot as plt\n",
    "\n",
    "#import sys\n",
    "#sys.path.append('/Users/dpelleg/miniconda/lib/python3.10/site-packages')\n",
    "\n",
    "from statsmodels.stats.proportion import proportions_ztest\n",
    "\n",
    "# do I need this? how to persist the change in path?\n"
   ],
   "outputs": [],
   "execution_count": 1
  },
  {
   "cell_type": "code",
   "id": "4b3e2d58",
   "metadata": {
    "ExecuteTime": {
     "end_time": "2024-12-22T15:46:43.457686Z",
     "start_time": "2024-12-22T15:46:43.443388Z"
    }
   },
   "source": [
    "datadir = '../data/apr2023/'\n",
    "\n",
    "def count_repeated_chars(string, k):\n",
    "    count = 0\n",
    "    for i in range(len(string)-(k-1)):\n",
    "        if string[i:i+k] == string[i]*k:\n",
    "            count += 1\n",
    "    return count\n",
    "\n",
    "def is_palindrome(string):\n",
    "    return string == string[::-1]\n",
    "\n",
    "def has_numeric_sequence_3(string):\n",
    "    for i in range(len(string)-2):\n",
    "        if int(string[i])+1 == int(string[i+1]) and int(string[i+1])+1 == int(string[i+2]):\n",
    "            return True\n",
    "    return False\n",
    "\n",
    "def has_numeric_sequence_3_rev(string):\n",
    "    return has_numeric_sequence_3(string[::-1])\n",
    "\n",
    "def count_distinct_chars(string):\n",
    "    return len(set(string))\n",
    "\n",
    "def distinct_chars_under(s, n):\n",
    "    return count_distinct_chars(s) <= n\n",
    "\n",
    "def distinct_chars_over(s, n):\n",
    "    return count_distinct_chars(s) >= n\n",
    "\n",
    "def count_repeated_sequences(string, seq_length):\n",
    "    count = 0\n",
    "    for i in range(len(string) - seq_length + 1):\n",
    "        if string[i:i+seq_length] in string[i+seq_length:]:\n",
    "            count += 1\n",
    "    return count\n",
    "\n",
    "scoremap = {\n",
    "    lambda s: count_repeated_chars(s, 2): 1,\n",
    "    lambda s: count_repeated_chars(s, 3): 1,\n",
    "    lambda s: count_repeated_chars(s, 4): 1,\n",
    "    is_palindrome: 5,\n",
    "    has_numeric_sequence_3 : 2,\n",
    "    has_numeric_sequence_3_rev : 2,\n",
    "    lambda s: distinct_chars_under(s, 1): 10,\n",
    "    lambda s: distinct_chars_under(s, 2): 5,\n",
    "    lambda s: distinct_chars_under(s, 3): 2,\n",
    "#    lambda s: distinct_chars_over(s, 5): 2,\n",
    "#    lambda s: distinct_chars_over(s, 6): 5,\n",
    "#    lambda s: distinct_chars_over(s, 7): 6,\n",
    "#    lambda s: distinct_chars_over(s, 8): 8,\n",
    "    lambda s: count_repeated_sequences(s, 2): 2,\n",
    "    lambda s: count_repeated_sequences(s, 3): 3,\n",
    "}\n",
    "\n",
    "def score(s):\n",
    "    ret = 0\n",
    "    for idx, (f, mult) in enumerate(scoremap.items()):\n",
    "        result = f(s)\n",
    "        ret += mult*int(result)\n",
    "    return ret"
   ],
   "outputs": [],
   "execution_count": 10
  },
  {
   "cell_type": "code",
   "id": "9021a079",
   "metadata": {
    "ExecuteTime": {
     "end_time": "2024-12-22T15:46:43.761511Z",
     "start_time": "2024-12-22T15:46:43.752827Z"
    }
   },
   "source": [
    "def read_file(fname, enc='iso8859-8'):\n",
    "    fd = open(fname, encoding=enc, errors='replace')\n",
    "    df = pd.read_csv(fd, sep='|')\n",
    "    return df\n",
    "\n",
    "def add_model(df):\n",
    "    df['model'] = df.apply(lambda x: '_'.join([x[y] for y in ['tozeret_cd', 'degem_cd', 'shnat_yitzur', 'sug_degem']]), axis=1)\n",
    "\n",
    "def get_model_name(ns):\n",
    "    names = pd.DataFrame(data={'model':ns})\n",
    "    ret = pd.merge(names, models, how='left', on='model')[['tozeret_nm', 'kinuy_mishari']]\n",
    "    return ret\n",
    "\n",
    "def ztest_proportions(df, population, test):\n",
    "    xtab=pd.crosstab(df[population], df[test])\n",
    "    se, pval = proportions_ztest(xtab[True].to_list(), xtab.sum(axis=1).to_list())\n",
    "    return pval"
   ],
   "outputs": [],
   "execution_count": 11
  },
  {
   "cell_type": "code",
   "id": "f146c9ce",
   "metadata": {
    "ExecuteTime": {
     "end_time": "2024-12-22T15:48:16.297394Z",
     "start_time": "2024-12-22T15:46:44.616933Z"
    }
   },
   "source": [
    "# source : https://data.gov.il/dataset/private-and-commercial-vehicles/\n",
    "#   (if it doesn't download fully, try with Chrome)\n",
    "\n",
    "#df = pd.read_csv('data/rechev-small.csv', encoding='iso-8859-1', sep='|')\n",
    "cars = read_file(datadir + 'rechev.csv')\n",
    "\n",
    "for c in ['mispar_rechev', 'degem_cd', 'tozeret_cd', 'shnat_yitzur']:\n",
    "    cars[c] = cars[c].astype(str)\n",
    "\n",
    "add_model(cars)\n",
    "\n",
    "cars['score'] = cars['mispar_rechev'].apply(score)"
   ],
   "outputs": [],
   "execution_count": 12
  },
  {
   "cell_type": "code",
   "id": "d04279f8",
   "metadata": {
    "ExecuteTime": {
     "end_time": "2024-12-22T15:48:16.598469Z",
     "start_time": "2024-12-22T15:48:16.299990Z"
    }
   },
   "source": [
    "# source: https://data.gov.il/dataset/rechev-tag-nachim\n",
    "disabled = pd.read_csv(datadir + 'disabled-plates.csv', sep='|')\n",
    "disabled.columns = ['mispar_rechev', 'taarich_tag', 'sug_tag']\n",
    "for c in ['mispar_rechev']:\n",
    "    disabled[c] = disabled[c].astype(str)\n",
    "#disabled['score'] = disabled['mispar_rechev'].apply(score)"
   ],
   "outputs": [],
   "execution_count": 13
  },
  {
   "cell_type": "code",
   "id": "1b2f9861",
   "metadata": {
    "scrolled": true,
    "ExecuteTime": {
     "end_time": "2024-12-22T15:48:26.209243Z",
     "start_time": "2024-12-22T15:48:16.599541Z"
    }
   },
   "source": [
    "# merge dataframes\n",
    "merged = pd.merge(cars, disabled, on='mispar_rechev', how='left', indicator=True)\n",
    "\n",
    "# create boolean column indicating if record exists in Y\n",
    "merged['disabled'] = merged['_merge'] == 'both'\n",
    "merged.drop(columns=['_merge'], inplace=True)\n",
    "# there are about 14,000 records which are only in the disabled set, not much to do about them\n",
    "\n",
    "df = merged"
   ],
   "outputs": [],
   "execution_count": 14
  },
  {
   "cell_type": "code",
   "id": "0d15d5e4",
   "metadata": {
    "scrolled": true,
    "ExecuteTime": {
     "end_time": "2024-12-22T15:48:30.049768Z",
     "start_time": "2024-12-22T15:48:26.212029Z"
    }
   },
   "source": [
    "df['year'] = pd.to_numeric(df['shnat_yitzur'], errors='ignore')\n",
    "sns.violinplot(x='disabled', y='year', data=df)\n",
    "\n",
    "plt.show()"
   ],
   "outputs": [
    {
     "data": {
      "text/plain": [
       "<Figure size 640x480 with 1 Axes>"
      ],
      "image/png": "[encoded data removed]"
     },
     "metadata": {},
     "output_type": "display_data"
    }
   ],
   "execution_count": 15
  },
  {
   "cell_type": "code",
   "id": "28fe48eb",
   "metadata": {
    "ExecuteTime": {
     "end_time": "2024-12-22T15:48:37.806525Z",
     "start_time": "2024-12-22T15:48:30.051504Z"
    }
   },
   "source": [
    "# source : https://data.gov.il/dataset/mehir_yevuan\n",
    "# add model prices\n",
    "fname = datadir + 'vehicle_cost.csv'\n",
    "fd = open(fname, encoding='utf-8', errors='replace')\n",
    "prices = pd.read_csv(fd, sep='|', low_memory=False)\n",
    "\n",
    "for c in ['degem_cd', 'tozeret_cd', 'shnat_yitzur']:\n",
    "    prices[c] = prices[c].astype(str)\n",
    "for c in ['mehir']:\n",
    "    prices[c] = pd.to_numeric(prices[c], errors='coerce')\n",
    "\n",
    "add_model(prices)\n",
    "prices_ = prices.copy()\n",
    "prices = prices[['model', 'mehir']]\n",
    "df = pd.merge(left=df, right=prices, on='model')"
   ],
   "outputs": [],
   "execution_count": 16
  },
  {
   "cell_type": "code",
   "id": "971917db",
   "metadata": {
    "ExecuteTime": {
     "end_time": "2024-12-22T15:48:41.273546Z",
     "start_time": "2024-12-22T15:48:37.808799Z"
    }
   },
   "source": [
    "cols =['ramat_eivzur_betihuty', 'kvutzat_zihum', 'score', 'year', 'mehir']\n",
    "df.groupby('disabled')[cols].agg(['mean', 'count'])"
   ],
   "outputs": [
    {
     "data": {
      "text/plain": [
       "         ramat_eivzur_betihuty          kvutzat_zihum              score  \\\n",
       "                          mean    count          mean    count      mean   \n",
       "disabled                                                                   \n",
       "False                 3.159689  1147598     12.111586  2775049  1.097310   \n",
       "True                  3.238399   209099     12.233606   460130  1.141072   \n",
       "\n",
       "                          year                   mehir           \n",
       "            count         mean    count           mean    count  \n",
       "disabled                                                         \n",
       "False     3126296  2014.994790  3126296  149823.249919  3126296  \n",
       "True       504729  2015.613523   504729  159892.038975   504729  "
      ],
      "text/html": [
       "<div>\n",
       "<style scoped>\n",
       "    .dataframe tbody tr th:only-of-type {\n",
       "        vertical-align: middle;\n",
       "    }\n",
       "\n",
       "    .dataframe tbody tr th {\n",
       "        vertical-align: top;\n",
       "    }\n",
       "\n",
       "    .dataframe thead tr th {\n",
       "        text-align: left;\n",
       "    }\n",
       "\n",
       "    .dataframe thead tr:last-of-type th {\n",
       "        text-align: right;\n",
       "    }\n",
       "</style>\n",
       "<table border=\"1\" class=\"dataframe\">\n",
       "  <thead>\n",
       "    <tr>\n",
       "      <th></th>\n",
       "      <th colspan=\"2\" halign=\"left\">ramat_eivzur_betihuty</th>\n",
       "      <th colspan=\"2\" halign=\"left\">kvutzat_zihum</th>\n",
       "      <th colspan=\"2\" halign=\"left\">score</th>\n",
       "      <th colspan=\"2\" halign=\"left\">year</th>\n",
       "      <th colspan=\"2\" halign=\"left\">mehir</th>\n",
       "    </tr>\n",
       "    <tr>\n",
       "      <th></th>\n",
       "      <th>mean</th>\n",
       "      <th>count</th>\n",
       "      <th>mean</th>\n",
       "      <th>count</th>\n",
       "      <th>mean</th>\n",
       "      <th>count</th>\n",
       "      <th>mean</th>\n",
       "      <th>count</th>\n",
       "      <th>mean</th>\n",
       "      <th>count</th>\n",
       "    </tr>\n",
       "    <tr>\n",
       "      <th>disabled</th>\n",
       "      <th></th>\n",
       "      <th></th>\n",
       "      <th></th>\n",
       "      <th></th>\n",
       "      <th></th>\n",
       "      <th></th>\n",
       "      <th></th>\n",
       "      <th></th>\n",
       "      <th></th>\n",
       "      <th></th>\n",
       "    </tr>\n",
       "  </thead>\n",
       "  <tbody>\n",
       "    <tr>\n",
       "      <th>False</th>\n",
       "      <td>3.159689</td>\n",
       "      <td>1147598</td>\n",
       "      <td>12.111586</td>\n",
       "      <td>2775049</td>\n",
       "      <td>1.097310</td>\n",
       "      <td>3126296</td>\n",
       "      <td>2014.994790</td>\n",
       "      <td>3126296</td>\n",
       "      <td>149823.249919</td>\n",
       "      <td>3126296</td>\n",
       "    </tr>\n",
       "    <tr>\n",
       "      <th>True</th>\n",
       "      <td>3.238399</td>\n",
       "      <td>209099</td>\n",
       "      <td>12.233606</td>\n",
       "      <td>460130</td>\n",
       "      <td>1.141072</td>\n",
       "      <td>504729</td>\n",
       "      <td>2015.613523</td>\n",
       "      <td>504729</td>\n",
       "      <td>159892.038975</td>\n",
       "      <td>504729</td>\n",
       "    </tr>\n",
       "  </tbody>\n",
       "</table>\n",
       "</div>"
      ]
     },
     "execution_count": 17,
     "metadata": {},
     "output_type": "execute_result"
    }
   ],
   "execution_count": 17
  },
  {
   "cell_type": "code",
   "id": "9df01b8b",
   "metadata": {
    "ExecuteTime": {
     "end_time": "2024-12-22T15:48:41.279681Z",
     "start_time": "2024-12-22T15:48:41.274774Z"
    }
   },
   "source": [
    "#sns.violinplot(x='disabled', y='mehir', data=df.query('mehir < 4e5'))\n",
    "#plt.show()"
   ],
   "outputs": [],
   "execution_count": 18
  },
  {
   "cell_type": "code",
   "id": "3f79348d",
   "metadata": {
    "scrolled": true,
    "ExecuteTime": {
     "end_time": "2024-12-22T15:49:01.718172Z",
     "start_time": "2024-12-22T15:48:41.280863Z"
    }
   },
   "source": [
    "# read detailed tech specs on each model\n",
    "# source: https://data.gov.il/dataset/degem-rechev-wltp\n",
    "models = read_file(datadir + 'models.csv', enc='utf-8')\n",
    "#models.columns\n",
    "cols = ['tozeret_cd', 'tozeret_nm', 'shnat_yitzur',\n",
    "       'degem_cd', 'nefah_manoa',\n",
    "       'mishkal_kolel', 'gova',\n",
    "       'hege_koah_ind',\n",
    "       'automatic_ind',\n",
    "       'koah_sus',\n",
    "       'mispar_moshavim', 'kinuy_mishari', 'sug_degem',\n",
    "       'hanaa_nm', 'merkav'\n",
    "       ]\n",
    "models = models[cols]\n",
    "for c in ['degem_cd', 'tozeret_cd', 'shnat_yitzur']:\n",
    "    models[c] = models[c].astype(str)\n",
    "\n",
    "add_model(models)\n",
    "df_before = df.copy()\n",
    "merged = pd.merge(left=df_before, right=models.drop(columns=['kinuy_mishari', 'sug_degem', 'tozeret_nm']), on='model', how='left', indicator=True)\n",
    "merged.drop(columns=['_merge'], inplace=True)\n",
    "df=merged"
   ],
   "outputs": [
    {
     "name": "stderr",
     "output_type": "stream",
     "text": [
      "/var/folders/l5/kkx8dwdn57s3v0k59p9m7sv80007gv/T/ipykernel_22615/907659671.py:3: DtypeWarning: Columns (16,20) have mixed types. Specify dtype option on import or set low_memory=False.\n",
      "  df = pd.read_csv(fd, sep='|')\n",
      "/var/folders/l5/kkx8dwdn57s3v0k59p9m7sv80007gv/T/ipykernel_22615/2327500883.py:16: SettingWithCopyWarning: \n",
      "A value is trying to be set on a copy of a slice from a DataFrame.\n",
      "Try using .loc[row_indexer,col_indexer] = value instead\n",
      "\n",
      "See the caveats in the documentation: https://pandas.pydata.org/pandas-docs/stable/user_guide/indexing.html#returning-a-view-versus-a-copy\n",
      "  models[c] = models[c].astype(str)\n",
      "/var/folders/l5/kkx8dwdn57s3v0k59p9m7sv80007gv/T/ipykernel_22615/907659671.py:7: SettingWithCopyWarning: \n",
      "A value is trying to be set on a copy of a slice from a DataFrame.\n",
      "Try using .loc[row_indexer,col_indexer] = value instead\n",
      "\n",
      "See the caveats in the documentation: https://pandas.pydata.org/pandas-docs/stable/user_guide/indexing.html#returning-a-view-versus-a-copy\n",
      "  df['model'] = df.apply(lambda x: '_'.join([x[y] for y in ['tozeret_cd', 'degem_cd', 'shnat_yitzur', 'sug_degem']]), axis=1)\n"
     ]
    }
   ],
   "execution_count": 19
  },
  {
   "cell_type": "code",
   "id": "5d4d31d4",
   "metadata": {
    "scrolled": true,
    "ExecuteTime": {
     "end_time": "2024-12-22T15:49:06.328706Z",
     "start_time": "2024-12-22T15:49:01.720245Z"
    }
   },
   "source": [
    "sns.violinplot(x='disabled', y='gova', data=merged.query('gova > 150 and gova < 250'))\n",
    "#plt.legend(title=\"הכנ\", labels=[\"No\", \"Yes\"])\n",
    "plt.show()"
   ],
   "outputs": [
    {
     "data": {
      "text/plain": [
       "<Figure size 640x480 with 1 Axes>"
      ],
      "image/png": "[encoded data removed]"
     },
     "metadata": {},
     "output_type": "display_data"
    }
   ],
   "execution_count": 20
  },
  {
   "cell_type": "code",
   "id": "4e75938f",
   "metadata": {
    "ExecuteTime": {
     "end_time": "2024-12-22T15:49:06.401430Z",
     "start_time": "2024-12-22T15:49:06.332544Z"
    }
   },
   "source": [
    "df['mehir'].quantile(0.9)"
   ],
   "outputs": [
    {
     "data": {
      "text/plain": [
       "219024.0"
      ]
     },
     "execution_count": 21,
     "metadata": {},
     "output_type": "execute_result"
    }
   ],
   "execution_count": 21
  },
  {
   "cell_type": "code",
   "id": "a9295815",
   "metadata": {
    "ExecuteTime": {
     "end_time": "2024-12-22T15:49:06.425795Z",
     "start_time": "2024-12-22T15:49:06.403200Z"
    }
   },
   "source": [
    "df['koah_sus'].quantile(0.95)"
   ],
   "outputs": [
    {
     "data": {
      "text/plain": [
       "204.0"
      ]
     },
     "execution_count": 22,
     "metadata": {},
     "output_type": "execute_result"
    }
   ],
   "execution_count": 22
  },
  {
   "cell_type": "code",
   "id": "60dd823a",
   "metadata": {
    "scrolled": false,
    "ExecuteTime": {
     "end_time": "2024-12-22T15:53:19.950952Z",
     "start_time": "2024-12-22T15:53:12.144921Z"
    }
   },
   "source": [
    "# check proportions of news cars with disabled permits\n",
    "df['new'] = df['year'] > 2020\n",
    "df['newest'] = df['year'] > 2022\n",
    "\n",
    "# check proportions of luxury cars with disabled permits\n",
    "df['luxury'] = df['mehir'] > df['mehir'].quantile(0.9)\n",
    "\n",
    "# check proportions of fancy-plate cars with disabled permits\n",
    "df['coolnum'] = df['score'] > df['score'].quantile(0.9)\n",
    "\n",
    "# check proportions of tall cars with disabled permits\n",
    "df['tall'] = df['gova'] > 220\n",
    "\n",
    "# check proportions of short cars with disabled permits\n",
    "df['short'] = (df['gova'] < 160) & (df['gova'] > 0)\n",
    "\n",
    "# check proportions of muscle cars with disabled permits\n",
    "df['muscle'] = df['koah_sus'] > df['koah_sus'].quantile(0.95)\n",
    "\n",
    "# Tesla\n",
    "df['tesla'] = df['tozeret_nm'].str.contains(\"טסלה\")\n",
    "\n",
    "# people-mover\n",
    "df['seven'] = df['mispar_moshavim'] >= 7\n",
    "\n",
    "# huge pickup type\n",
    "df.loc[:, 'monster'] = df.eval('gova > 180 and hanaa_nm == \"4X4\" and nefah_manoa > 2000 and mispar_moshavim < 7')\n",
    "\n",
    "# chassis type fits a people-mover\n",
    "mask_merkavim = [\"סגור/משלוח\", \"משא אחוד\", \"ואן/נוסעים\", \"קומבי\"]\n",
    "mask_merkavim.append(\"MPV\")\n",
    "df['ppl_mover'] = df['merkav'].isin(mask_merkavim)\n",
    "\n",
    "\n",
    "# more features\n",
    "features = ['automatic_ind', 'hege_koah_ind']\n",
    "for c in features:\n",
    "    df[c] = df[c] == 1\n",
    "\n",
    "features = ['new', 'newest', 'luxury', 'coolnum', 'tall', 'short', 'muscle', 'tesla', 'seven', 'monster', 'ppl_mover'] + features\n",
    "for f in features:\n",
    "    pv = ztest_proportions(df, 'disabled', f)\n",
    "    print(f'Testing {f}, p-val:{pv:.3f}')\n",
    "    print(pd.crosstab(df['disabled'], df[f], normalize='index'))\n",
    "    print(pd.crosstab(df['disabled'], df[f]))\n",
    "    print('-----')"
   ],
   "outputs": [
    {
     "name": "stdout",
     "output_type": "stream",
     "text": [
      "Testing new, p-val:0.000\n",
      "new          False     True \n",
      "disabled                    \n",
      "False     0.816409  0.183591\n",
      "True      0.806688  0.193312\n",
      "new         False   True \n",
      "disabled                 \n",
      "False     2552335  573961\n",
      "True       407159   97570\n",
      "-----\n",
      "Testing newest, p-val:0.000\n",
      "newest       False     True \n",
      "disabled                    \n",
      "False     0.969912  0.030088\n",
      "True      0.976249  0.023751\n",
      "newest      False  True \n",
      "disabled                \n",
      "False     3032233  94063\n",
      "True       492741  11988\n",
      "-----\n",
      "Testing luxury, p-val:0.000\n",
      "luxury       False     True \n",
      "disabled                    \n",
      "False     0.903374  0.096626\n",
      "True      0.879099  0.120901\n",
      "luxury      False   True \n",
      "disabled                 \n",
      "False     2824216  302080\n",
      "True       443707   61022\n",
      "-----\n",
      "Testing coolnum, p-val:0.000\n",
      "coolnum      False     True \n",
      "disabled                    \n",
      "False     0.953556  0.046444\n",
      "True      0.948372  0.051628\n",
      "coolnum     False   True \n",
      "disabled                 \n",
      "False     2981097  145199\n",
      "True       478671   26058\n",
      "-----\n",
      "Testing tall, p-val:0.008\n",
      "tall         False     True \n",
      "disabled                    \n",
      "False     0.998748  0.001252\n",
      "True      0.998889  0.001111\n",
      "tall        False  True \n",
      "disabled                \n",
      "False     3122383   3913\n",
      "True       504168    561\n",
      "-----\n",
      "Testing short, p-val:0.000\n",
      "short        False     True \n",
      "disabled                    \n",
      "False     0.999783  0.000217\n",
      "True      0.999915  0.000085\n",
      "short       False  True \n",
      "disabled                \n",
      "False     3125618    678\n",
      "True       504686     43\n",
      "-----\n",
      "Testing muscle, p-val:0.000\n",
      "muscle       False     True \n",
      "disabled                    \n",
      "False     0.957008  0.042992\n",
      "True      0.946302  0.053698\n",
      "muscle      False   True \n",
      "disabled                 \n",
      "False     2991889  134407\n",
      "True       477626   27103\n",
      "-----\n",
      "Testing tesla, p-val:0.840\n",
      "tesla        False     True \n",
      "disabled                    \n",
      "False     0.996400  0.003600\n",
      "True      0.996418  0.003582\n",
      "tesla       False  True \n",
      "disabled                \n",
      "False     3115040  11256\n",
      "True       502921   1808\n",
      "-----\n",
      "Testing seven, p-val:0.000\n",
      "seven        False     True \n",
      "disabled                    \n",
      "False     0.932631  0.067369\n",
      "True      0.915317  0.084683\n",
      "seven       False   True \n",
      "disabled                 \n",
      "False     2915681  210615\n",
      "True       461987   42742\n",
      "-----\n",
      "Testing monster, p-val:0.000\n",
      "monster      False     True \n",
      "disabled                    \n",
      "False     0.992724  0.007276\n",
      "True      0.996192  0.003808\n",
      "monster     False  True \n",
      "disabled                \n",
      "False     3103548  22748\n",
      "True       502807   1922\n",
      "-----\n",
      "Testing ppl_mover, p-val:0.000\n",
      "ppl_mover     False     True \n",
      "disabled                     \n",
      "False      0.946244  0.053756\n",
      "True       0.938430  0.061570\n",
      "ppl_mover    False   True \n",
      "disabled                  \n",
      "False      2958238  168058\n",
      "True        473653   31076\n",
      "-----\n",
      "Testing automatic_ind, p-val:0.000\n",
      "automatic_ind     False     True \n",
      "disabled                         \n",
      "False          0.067013  0.932987\n",
      "True           0.034153  0.965847\n",
      "automatic_ind   False    True \n",
      "disabled                      \n",
      "False          209503  2916793\n",
      "True            17238   487491\n",
      "-----\n",
      "Testing hege_koah_ind, p-val:0.000\n",
      "hege_koah_ind     False     True \n",
      "disabled                         \n",
      "False          0.000815  0.999185\n",
      "True           0.000630  0.999370\n",
      "hege_koah_ind  False    True \n",
      "disabled                     \n",
      "False           2549  3123747\n",
      "True             318   504411\n",
      "-----\n"
     ]
    }
   ],
   "execution_count": 25
  },
  {
   "cell_type": "code",
   "id": "85aa2a60",
   "metadata": {
    "scrolled": true,
    "ExecuteTime": {
     "end_time": "2024-12-22T15:53:34.495960Z",
     "start_time": "2024-12-22T15:53:19.953577Z"
    }
   },
   "source": [
    "for f in features:\n",
    "    print('example of cars of type:' + f)\n",
    "    ns=list(df.query(f)['model'].value_counts().index[:20])\n",
    "    print(get_model_name(ns).drop_duplicates())"
   ],
   "outputs": [
    {
     "name": "stdout",
     "output_type": "stream",
     "text": [
      "example of cars of type:new\n",
      "        tozeret_nm    kinuy_mishari\n",
      "0    יונדאי קוריאה     IONIQ HYBRID\n",
      "1       קיה קוריאה          PICANTO\n",
      "2    טויוטה טורקיה  COROLLA HSD SDN\n",
      "3      מזדה תאילנד          MAZDA 2\n",
      "4          מ.ג סין         EHS PHEV\n",
      "8    יונדאי טורקיה              I20\n",
      "9         גילי סין       GEOMETRY C\n",
      "10   יונדאי קוריאה      ELANTRA HEV\n",
      "11      רנו טורקיה           MEGANE\n",
      "12       בי ווי די           ATTO 3\n",
      "14     טויוטה צרפת  YARIS CROSS HSD\n",
      "15      קיה קוריאה           SELTOS\n",
      "16      קיה קוריאה        NIRO PHEV\n",
      "17       סיאט ספרד            ARONA\n",
      "18  מיצובישי תאילנ       SPACE STAR\n",
      "19   טויוטה טורקיה      C-HR HYBRID\n",
      "example of cars of type:newest\n",
      "       tozeret_nm    kinuy_mishari\n",
      "0       בי ווי די           ATTO 3\n",
      "1     מזדה תאילנד          MAZDA 2\n",
      "2        גילי סין       GEOMETRY C\n",
      "3        צ'רי סין      TIGGO 8 PRO\n",
      "4   יונדאי קוריאה      ELANTRA HEV\n",
      "6      קיה קוריאה   NIRO PLUS PHEV\n",
      "7      קיה קוריאה          PICANTO\n",
      "8     טויוטה צרפת  YARIS CROSS HSD\n",
      "9         מ.ג סין         EHS PHEV\n",
      "10     רנו טורקיה           MEGANE\n",
      "11  יונדאי טורקיה              I10\n",
      "12   מיצובישי יפן        OUTLANDER\n",
      "13   יונדאי צ'כיה           TUCSON\n",
      "14    יונדאי הודו           ACCENT\n",
      "15     קיה קוריאה           SELTOS\n",
      "17     קיה קוריאה              RIO\n",
      "19       צ'רי סין      TIGGO 7 PRO\n",
      "example of cars of type:luxury\n",
      "        tozeret_nm   kinuy_mishari\n",
      "0       קיה קוריאה         SORENTO\n",
      "1    טויוטה תאילנד           HILUX\n",
      "2         טסלה סין         MODEL 3\n",
      "3   מיצובישי תאילנ            L200\n",
      "4       טויוטה יפן           CAMRY\n",
      "6       טויוטה יפן    LAND CRUISER\n",
      "7       טויוטה יפן     LAND CRISER\n",
      "9       טויוטה יפן    RAV 4 HYBRID\n",
      "13   יונדאי קוריאה        SANTA FE\n",
      "15      קיה קוריאה        CARNIVAL\n",
      "18      ג'יפ ארהב\"  GRAND CHEROKEE\n",
      "19     ביואיק ארהב        LACROSSE\n",
      "example of cars of type:coolnum\n",
      "       tozeret_nm kinuy_mishari\n",
      "0        מזדה יפן       MAZDA 3\n",
      "1      טויוטה יפן       COROLLA\n",
      "2     קיה סלובקיה      SPORTAGE\n",
      "3      קיה קוריאה       PICANTO\n",
      "4   יונדאי טורקיה           I20\n",
      "6    יונדאי צ'כיה           I30\n",
      "7   יונדאי קוריאה           I30\n",
      "8   יונדאי קוריאה           I35\n",
      "11       מזדה יפן           CX5\n",
      "13   מיצובישי יפן     OUTLANDER\n",
      "15     רנו טורקיה       FLUENCE\n",
      "16  יונדאי קוריאה  IONIQ HYBRID\n",
      "example of cars of type:tall\n",
      "        tozeret_nm    kinuy_mishari\n",
      "0      פורד תורכיה     TRANSIT  350\n",
      "1      פורד תורכיה    TRANSIT 350 L\n",
      "3      פורד תורכיה     TRANSIT 350L\n",
      "4   מרצדס בנץ גרמנ         SPRINTER\n",
      "5   דימלרקריזלר-ספ      111CDI VITO\n",
      "6       פורד-בלגיה  TRANSIT KO 300S\n",
      "7       פורד-בלגיה  TRANSIT KO 350L\n",
      "8      פורד תורכיה      CUSTOM 340L\n",
      "9     פורד בריטניה  TRANSIT 330S SH\n",
      "10    פורד בריטניה    TRANSIT 330 M\n",
      "11     פיגו איטליה            BOXER\n",
      "13     פורד תורכיה     TRANSIT 330S\n",
      "19     פורד תורכיה           CUSTOM\n",
      "example of cars of type:short\n",
      "        tozeret_nm   kinuy_mishari\n",
      "0      פיאט תורכיה        DOBLO1.3\n",
      "2       איסוזו יפן           IPPON\n",
      "3         מזדה יפן  טנדר דבל קבינה\n",
      "9   פולקסווגן גרמנ     TRANSPORTER\n",
      "12  מיצובישי תאילנ           L 200\n",
      "19          פיאגיו    PORTER MAXXI\n",
      "example of cars of type:muscle\n",
      "       tozeret_nm   kinuy_mishari\n",
      "0        טסלה סין         MODEL 3\n",
      "1   יונדאי קוריאה          IONIQ5\n",
      "5      קיה קוריאה        CARNIVAL\n",
      "6      ג'יפ ארהב\"  GRAND CHEROKEE\n",
      "7     ביואיק ארהב        LACROSSE\n",
      "8    שברולט ארהב\"       MALIBU LT\n",
      "12    סקודה צ'כיה         OCTAVIA\n",
      "13   שברולט ארהב\"          MALIBU\n",
      "16    סקודה צ'כיה      NEW SUPERB\n",
      "17      פורד קנדה            EDGE\n",
      "18  קאדילאק ארהב\"             XT5\n",
      "example of cars of type:tesla\n",
      "     tozeret_nm kinuy_mishari\n",
      "0      טסלה סין       MODEL 3\n",
      "6   טסלה גרמניה       MODEL Y\n",
      "15  טסלה ארה''ב       MODEL 3\n",
      "example of cars of type:seven\n",
      "      tozeret_nm   kinuy_mishari\n",
      "0   מיצובישי יפן       OUTLANDER\n",
      "2       צ'רי סין     TIGGO 8 PRO\n",
      "4       מזדה יפן         MAZDA 5\n",
      "5   מיצובישי יפן         GRANDIS\n",
      "15   סקודה צ'כיה          KODIAQ\n",
      "16    קיה קוריאה         SORENTO\n",
      "17  סיטרואן ספרד  C4 SPACETOURER\n",
      "19     ניסאן יפן         X-TRAIL\n",
      "example of cars of type:monster\n",
      "       tozeret_nm kinuy_mishari\n",
      "0   טויוטה תאילנד         HILUX\n",
      "1   טויוטה תאילנד    HILUX VIGO\n",
      "16  יונדאי קוריאה      TERRACAN\n",
      "18   מיצובישי יפן        PAJERO\n",
      "19     טויוטה יפן  LAND CRUISER\n",
      "example of cars of type:ppl_mover\n",
      "        tozeret_nm    kinuy_mishari\n",
      "0     סיטרואן ספרד         BERLINGO\n",
      "1     מיצובישי יפן          GRANDIS\n",
      "4     סיטרואן ספרד   C4 SPACETOURER\n",
      "5     מיצובישי יפן        OUTLANDER\n",
      "7    טויוטה טורקיה            VERSO\n",
      "12    מיצובישי יפן              ASX\n",
      "15      טויוטה יפן       PRIUS PLUS\n",
      "16  סיטרואן פורטוג         BERLINGO\n",
      "19     פורד תורכיה  TOURNEO CONNECT\n",
      "example of cars of type:automatic_ind\n",
      "       tozeret_nm    kinuy_mishari\n",
      "0        מזדה יפן          MAZDA 3\n",
      "1   יונדאי קוריאה     IONIQ HYBRID\n",
      "3      טויוטה יפן          COROLLA\n",
      "4      קיה קוריאה          PICANTO\n",
      "6   טויוטה טורקיה          COROLLA\n",
      "7   טויוטה טורקיה  COROLLA HSD SDN\n",
      "12    קיה סלובקיה         SPORTAGE\n",
      "13       מזדה יפן           MAZDA3\n",
      "14    דייהטסו-יפן          .SIRION\n",
      "18    מזדה תאילנד          MAZDA 2\n",
      "19    פורד גרמניה            FOCUS\n",
      "example of cars of type:hege_koah_ind\n",
      "       tozeret_nm    kinuy_mishari\n",
      "0        מזדה יפן          MAZDA 3\n",
      "1   יונדאי קוריאה     IONIQ HYBRID\n",
      "3      טויוטה יפן          COROLLA\n",
      "4      קיה קוריאה          PICANTO\n",
      "6   טויוטה טורקיה          COROLLA\n",
      "7   טויוטה טורקיה  COROLLA HSD SDN\n",
      "12    קיה סלובקיה         SPORTAGE\n",
      "13       מזדה יפן           MAZDA3\n",
      "14    דייהטסו-יפן          .SIRION\n",
      "18    מזדה תאילנד          MAZDA 2\n",
      "19    פורד גרמניה            FOCUS\n"
     ]
    }
   ],
   "execution_count": 26
  },
  {
   "cell_type": "code",
   "id": "5d2ee6a9",
   "metadata": {
    "scrolled": true,
    "ExecuteTime": {
     "end_time": "2024-12-22T15:53:35.671749Z",
     "start_time": "2024-12-22T15:53:34.497928Z"
    }
   },
   "source": [
    "for f in ['muscle', 'seven']:\n",
    "    for b in ['', ' not ']:\n",
    "        fb = f'{f} and {b} disabled'\n",
    "        print('example of cars of type:' + fb)\n",
    "        ns=list(df.query(fb)['model'].value_counts().index[:10])\n",
    "        print(get_model_name(ns).drop_duplicates())"
   ],
   "outputs": [
    {
     "name": "stdout",
     "output_type": "stream",
     "text": [
      "example of cars of type:muscle and  disabled\n",
      "      tozeret_nm   kinuy_mishari\n",
      "0  יונדאי קוריאה          IONIQ5\n",
      "1     קיה קוריאה        CARNIVAL\n",
      "3     ג'יפ ארהב\"  GRAND CHEROKEE\n",
      "4    ביואיק ארהב        LACROSSE\n",
      "6   שברולט ארהב\"       MALIBU LT\n",
      "7       טסלה סין         MODEL 3\n",
      "example of cars of type:muscle and  not  disabled\n",
      "      tozeret_nm   kinuy_mishari\n",
      "0       טסלה סין         MODEL 3\n",
      "1  יונדאי קוריאה          IONIQ5\n",
      "5     קיה קוריאה        CARNIVAL\n",
      "6    ביואיק ארהב        LACROSSE\n",
      "7     ג'יפ ארהב\"  GRAND CHEROKEE\n",
      "8   שברולט ארהב\"       MALIBU LT\n",
      "example of cars of type:seven and  disabled\n",
      "     tozeret_nm kinuy_mishari\n",
      "0  מיצובישי יפן     OUTLANDER\n",
      "3  מיצובישי יפן       GRANDIS\n",
      "5      מזדה יפן       MAZDA 5\n",
      "9   סקודה צ'כיה        KODIAQ\n",
      "example of cars of type:seven and  not  disabled\n",
      "     tozeret_nm kinuy_mishari\n",
      "0  מיצובישי יפן     OUTLANDER\n",
      "1      צ'רי סין   TIGGO 8 PRO\n",
      "4      מזדה יפן       MAZDA 5\n",
      "5  מיצובישי יפן       GRANDIS\n"
     ]
    }
   ],
   "execution_count": 27
  },
  {
   "cell_type": "code",
   "id": "0ac59987",
   "metadata": {
    "ExecuteTime": {
     "end_time": "2024-12-22T15:53:36.837393Z",
     "start_time": "2024-12-22T15:53:35.673697Z"
    }
   },
   "source": [
    "# check if vans are more likely to be new-ish\n",
    "# the social security funds replacement of vans every 5 years for the disabled\n",
    "df['year'] = df['shnat_yitzur_x'].astype(int)\n",
    "pm = df.query('ppl_mover')\n",
    "pm.loc[:, 'new'] = pm['year'] > 2018\n",
    "\n",
    "for f in ['new', 'tall']:\n",
    "    pv = ztest_proportions(pm, 'disabled', f)\n",
    "    print(f'Testing {f}, p-val:{pv:.3f}')\n",
    "    print(pd.crosstab(pm['disabled'], pm[f], normalize='index'))\n",
    "    print(pd.crosstab(pm['disabled'], pm[f]))\n",
    "    print('-----')"
   ],
   "outputs": [
    {
     "name": "stdout",
     "output_type": "stream",
     "text": [
      "Testing new, p-val:0.000\n",
      "new          False     True \n",
      "disabled                    \n",
      "False     0.735020  0.264980\n",
      "True      0.620736  0.379264\n",
      "new        False  True \n",
      "disabled               \n",
      "False     123526  44532\n",
      "True       19290  11786\n",
      "-----\n",
      "Testing tall, p-val:0.000\n",
      "tall         False     True \n",
      "disabled                    \n",
      "False     0.977305  0.022695\n",
      "True      0.981980  0.018020\n",
      "tall       False  True \n",
      "disabled               \n",
      "False     164244   3814\n",
      "True       30516    560\n",
      "-----\n"
     ]
    },
    {
     "name": "stderr",
     "output_type": "stream",
     "text": [
      "/var/folders/l5/kkx8dwdn57s3v0k59p9m7sv80007gv/T/ipykernel_22615/3931476907.py:5: SettingWithCopyWarning: \n",
      "A value is trying to be set on a copy of a slice from a DataFrame.\n",
      "Try using .loc[row_indexer,col_indexer] = value instead\n",
      "\n",
      "See the caveats in the documentation: https://pandas.pydata.org/pandas-docs/stable/user_guide/indexing.html#returning-a-view-versus-a-copy\n",
      "  pm.loc[:, 'new'] = pm['year'] > 2018\n"
     ]
    }
   ],
   "execution_count": 28
  },
  {
   "cell_type": "code",
   "id": "e5a06516",
   "metadata": {
    "ExecuteTime": {
     "end_time": "2024-12-22T15:53:37.065805Z",
     "start_time": "2024-12-22T15:53:36.839869Z"
    }
   },
   "source": [
    "ns=list(df.query('muscle and disabled')['model'].value_counts().index[:20])\n",
    "print(get_model_name(ns).drop_duplicates())"
   ],
   "outputs": [
    {
     "name": "stdout",
     "output_type": "stream",
     "text": [
      "       tozeret_nm   kinuy_mishari\n",
      "0   יונדאי קוריאה          IONIQ5\n",
      "1      קיה קוריאה        CARNIVAL\n",
      "3      ג'יפ ארהב\"  GRAND CHEROKEE\n",
      "4     ביואיק ארהב        LACROSSE\n",
      "6    שברולט ארהב\"       MALIBU LT\n",
      "7        טסלה סין         MODEL 3\n",
      "10    שברולט קנדה      IMPALA LTZ\n",
      "11  קאדילאק ארהב\"             XT5\n",
      "15  קאדילאק ארהב\"             XT4\n",
      "17    סקודה צ'כיה      NEW SUPERB\n",
      "18   קרייזלר קנדה        PACIFICA\n"
     ]
    }
   ],
   "execution_count": 29
  },
  {
   "cell_type": "code",
   "id": "a91b183f",
   "metadata": {
    "ExecuteTime": {
     "end_time": "2024-12-22T15:53:42.391051Z",
     "start_time": "2024-12-22T15:53:37.067612Z"
    }
   },
   "source": [
    "print(df['mehir'].median())\n",
    "C='model'\n",
    "value_counts = df[C].value_counts()\n",
    "mask = (df[C].map(value_counts) > 50)\n",
    "\n",
    "bymodel=df.loc[mask].groupby(C)['disabled'].mean().sort_values()\n",
    "bymodel_ = bymodel.copy()\n",
    "\n",
    "bymodel=bymodel_.reset_index()\n",
    "bymodel.columns=['model', 'disabled_prop']\n",
    "\n",
    "bymodel=pd.merge(bymodel, prices, on='model')\n",
    "\n",
    "bymodel = pd.merge(bymodel, models, how='left', on='model')[['disabled_prop', 'tozeret_nm', 'kinuy_mishari', 'mehir', 'merkav']]\n",
    "\n",
    "mask_merkavim = [\"סגור/משלוח\", \"משא אחוד\", \"ואן/נוסעים\", \"קומבי\"]\n",
    "mask_merkavim.append(\"MPV\")\n",
    "bymodel['ppl_mover'] = bymodel['merkav'].isin(mask_merkavim)"
   ],
   "outputs": [
    {
     "name": "stdout",
     "output_type": "stream",
     "text": [
      "131990.0\n"
     ]
    }
   ],
   "execution_count": 30
  },
  {
   "cell_type": "code",
   "id": "3c90962d",
   "metadata": {
    "scrolled": true,
    "ExecuteTime": {
     "end_time": "2024-12-22T15:53:42.401760Z",
     "start_time": "2024-12-22T15:53:42.392243Z"
    }
   },
   "source": [
    "bymodel.sort_values(by='disabled_prop')[-20:].drop_duplicates()"
   ],
   "outputs": [
    {
     "data": {
      "text/plain": [
       "      disabled_prop      tozeret_nm kinuy_mishari     mehir      merkav  \\\n",
       "9567       0.885714  פולקסווגן גרמנ     CARAVELLE  253000.0  ואן/נוסעים   \n",
       "9568       0.885714  פולקסווגן גרמנ     CARAVELLE  288000.0  ואן/נוסעים   \n",
       "9569       0.888889  פולקסווגן גרמנ     CARAVELLE  294000.0  ואן/נוסעים   \n",
       "9570       0.896000  פולקסווגן גרמנ     CARAVELLE  284000.0  ואן/נוסעים   \n",
       "9571       0.897297  פולקסווגן גרמנ     CARAVELLE  294000.0  ואן/נוסעים   \n",
       "9572       0.905660  פולקסווגן גרמנ     CARAVELLE  294000.0  ואן/נוסעים   \n",
       "9573       0.905660  פולקסווגן גרמנ     CARAVELLE  253000.0  ואן/נוסעים   \n",
       "9574       0.911765  פולקסווגן גרמנ     CARAVELLE  294000.0  ואן/נוסעים   \n",
       "9575       0.912621  פולקסווגן גרמנ     CARAVELLE  288000.0  ואן/נוסעים   \n",
       "9576       0.914530  מרצדס בנץ ספרד          VITO  272610.0    משא אחוד   \n",
       "9577       0.916944        רנו צרפת        TRAFIC  253990.0       קומבי   \n",
       "9578       0.921053  מרצדס בנץ ספרד          VITO  274950.0       קומבי   \n",
       "9579       0.921260  מרצדס בנץ ספרד          VITO  272610.0    משא אחוד   \n",
       "9580       0.923913  פולקסווגן פולי         CADDY  197900.0       קומבי   \n",
       "9581       0.927835  מרצדס בנץ ספרד          VITO  274950.0       קומבי   \n",
       "9582       0.939394  פולקסווגן פולי    CADDY MAXI  190900.0       קומבי   \n",
       "9583       0.944444    קרייזלר קנדה      PACIFICA  270000.0         MPV   \n",
       "9585       0.945946  מרצדס בנץ ספרד          VITO  274950.0       קומבי   \n",
       "9584       0.945946  פולקסווגן גרמנ     CARAVELLE  304000.0  ואן/נוסעים   \n",
       "9586       1.000000    קרייזלר קנדה      PACIFICA  270000.0         MPV   \n",
       "\n",
       "      ppl_mover  \n",
       "9567       True  \n",
       "9568       True  \n",
       "9569       True  \n",
       "9570       True  \n",
       "9571       True  \n",
       "9572       True  \n",
       "9573       True  \n",
       "9574       True  \n",
       "9575       True  \n",
       "9576       True  \n",
       "9577       True  \n",
       "9578       True  \n",
       "9579       True  \n",
       "9580       True  \n",
       "9581       True  \n",
       "9582       True  \n",
       "9583       True  \n",
       "9585       True  \n",
       "9584       True  \n",
       "9586       True  "
      ],
      "text/html": [
       "<div>\n",
       "<style scoped>\n",
       "    .dataframe tbody tr th:only-of-type {\n",
       "        vertical-align: middle;\n",
       "    }\n",
       "\n",
       "    .dataframe tbody tr th {\n",
       "        vertical-align: top;\n",
       "    }\n",
       "\n",
       "    .dataframe thead th {\n",
       "        text-align: right;\n",
       "    }\n",
       "</style>\n",
       "<table border=\"1\" class=\"dataframe\">\n",
       "  <thead>\n",
       "    <tr style=\"text-align: right;\">\n",
       "      <th></th>\n",
       "      <th>disabled_prop</th>\n",
       "      <th>tozeret_nm</th>\n",
       "      <th>kinuy_mishari</th>\n",
       "      <th>mehir</th>\n",
       "      <th>merkav</th>\n",
       "      <th>ppl_mover</th>\n",
       "    </tr>\n",
       "  </thead>\n",
       "  <tbody>\n",
       "    <tr>\n",
       "      <th>9567</th>\n",
       "      <td>0.885714</td>\n",
       "      <td>פולקסווגן גרמנ</td>\n",
       "      <td>CARAVELLE</td>\n",
       "      <td>253000.0</td>\n",
       "      <td>ואן/נוסעים</td>\n",
       "      <td>True</td>\n",
       "    </tr>\n",
       "    <tr>\n",
       "      <th>9568</th>\n",
       "      <td>0.885714</td>\n",
       "      <td>פולקסווגן גרמנ</td>\n",
       "      <td>CARAVELLE</td>\n",
       "      <td>288000.0</td>\n",
       "      <td>ואן/נוסעים</td>\n",
       "      <td>True</td>\n",
       "    </tr>\n",
       "    <tr>\n",
       "      <th>9569</th>\n",
       "      <td>0.888889</td>\n",
       "      <td>פולקסווגן גרמנ</td>\n",
       "      <td>CARAVELLE</td>\n",
       "      <td>294000.0</td>\n",
       "      <td>ואן/נוסעים</td>\n",
       "      <td>True</td>\n",
       "    </tr>\n",
       "    <tr>\n",
       "      <th>9570</th>\n",
       "      <td>0.896000</td>\n",
       "      <td>פולקסווגן גרמנ</td>\n",
       "      <td>CARAVELLE</td>\n",
       "      <td>284000.0</td>\n",
       "      <td>ואן/נוסעים</td>\n",
       "      <td>True</td>\n",
       "    </tr>\n",
       "    <tr>\n",
       "      <th>9571</th>\n",
       "      <td>0.897297</td>\n",
       "      <td>פולקסווגן גרמנ</td>\n",
       "      <td>CARAVELLE</td>\n",
       "      <td>294000.0</td>\n",
       "      <td>ואן/נוסעים</td>\n",
       "      <td>True</td>\n",
       "    </tr>\n",
       "    <tr>\n",
       "      <th>9572</th>\n",
       "      <td>0.905660</td>\n",
       "      <td>פולקסווגן גרמנ</td>\n",
       "      <td>CARAVELLE</td>\n",
       "      <td>294000.0</td>\n",
       "      <td>ואן/נוסעים</td>\n",
       "      <td>True</td>\n",
       "    </tr>\n",
       "    <tr>\n",
       "      <th>9573</th>\n",
       "      <td>0.905660</td>\n",
       "      <td>פולקסווגן גרמנ</td>\n",
       "      <td>CARAVELLE</td>\n",
       "      <td>253000.0</td>\n",
       "      <td>ואן/נוסעים</td>\n",
       "      <td>True</td>\n",
       "    </tr>\n",
       "    <tr>\n",
       "      <th>9574</th>\n",
       "      <td>0.911765</td>\n",
       "      <td>פולקסווגן גרמנ</td>\n",
       "      <td>CARAVELLE</td>\n",
       "      <td>294000.0</td>\n",
       "      <td>ואן/נוסעים</td>\n",
       "      <td>True</td>\n",
       "    </tr>\n",
       "    <tr>\n",
       "      <th>9575</th>\n",
       "      <td>0.912621</td>\n",
       "      <td>פולקסווגן גרמנ</td>\n",
       "      <td>CARAVELLE</td>\n",
       "      <td>288000.0</td>\n",
       "      <td>ואן/נוסעים</td>\n",
       "      <td>True</td>\n",
       "    </tr>\n",
       "    <tr>\n",
       "      <th>9576</th>\n",
       "      <td>0.914530</td>\n",
       "      <td>מרצדס בנץ ספרד</td>\n",
       "      <td>VITO</td>\n",
       "      <td>272610.0</td>\n",
       "      <td>משא אחוד</td>\n",
       "      <td>True</td>\n",
       "    </tr>\n",
       "    <tr>\n",
       "      <th>9577</th>\n",
       "      <td>0.916944</td>\n",
       "      <td>רנו צרפת</td>\n",
       "      <td>TRAFIC</td>\n",
       "      <td>253990.0</td>\n",
       "      <td>קומבי</td>\n",
       "      <td>True</td>\n",
       "    </tr>\n",
       "    <tr>\n",
       "      <th>9578</th>\n",
       "      <td>0.921053</td>\n",
       "      <td>מרצדס בנץ ספרד</td>\n",
       "      <td>VITO</td>\n",
       "      <td>274950.0</td>\n",
       "      <td>קומבי</td>\n",
       "      <td>True</td>\n",
       "    </tr>\n",
       "    <tr>\n",
       "      <th>9579</th>\n",
       "      <td>0.921260</td>\n",
       "      <td>מרצדס בנץ ספרד</td>\n",
       "      <td>VITO</td>\n",
       "      <td>272610.0</td>\n",
       "      <td>משא אחוד</td>\n",
       "      <td>True</td>\n",
       "    </tr>\n",
       "    <tr>\n",
       "      <th>9580</th>\n",
       "      <td>0.923913</td>\n",
       "      <td>פולקסווגן פולי</td>\n",
       "      <td>CADDY</td>\n",
       "      <td>197900.0</td>\n",
       "      <td>קומבי</td>\n",
       "      <td>True</td>\n",
       "    </tr>\n",
       "    <tr>\n",
       "      <th>9581</th>\n",
       "      <td>0.927835</td>\n",
       "      <td>מרצדס בנץ ספרד</td>\n",
       "      <td>VITO</td>\n",
       "      <td>274950.0</td>\n",
       "      <td>קומבי</td>\n",
       "      <td>True</td>\n",
       "    </tr>\n",
       "    <tr>\n",
       "      <th>9582</th>\n",
       "      <td>0.939394</td>\n",
       "      <td>פולקסווגן פולי</td>\n",
       "      <td>CADDY MAXI</td>\n",
       "      <td>190900.0</td>\n",
       "      <td>קומבי</td>\n",
       "      <td>True</td>\n",
       "    </tr>\n",
       "    <tr>\n",
       "      <th>9583</th>\n",
       "      <td>0.944444</td>\n",
       "      <td>קרייזלר קנדה</td>\n",
       "      <td>PACIFICA</td>\n",
       "      <td>270000.0</td>\n",
       "      <td>MPV</td>\n",
       "      <td>True</td>\n",
       "    </tr>\n",
       "    <tr>\n",
       "      <th>9585</th>\n",
       "      <td>0.945946</td>\n",
       "      <td>מרצדס בנץ ספרד</td>\n",
       "      <td>VITO</td>\n",
       "      <td>274950.0</td>\n",
       "      <td>קומבי</td>\n",
       "      <td>True</td>\n",
       "    </tr>\n",
       "    <tr>\n",
       "      <th>9584</th>\n",
       "      <td>0.945946</td>\n",
       "      <td>פולקסווגן גרמנ</td>\n",
       "      <td>CARAVELLE</td>\n",
       "      <td>304000.0</td>\n",
       "      <td>ואן/נוסעים</td>\n",
       "      <td>True</td>\n",
       "    </tr>\n",
       "    <tr>\n",
       "      <th>9586</th>\n",
       "      <td>1.000000</td>\n",
       "      <td>קרייזלר קנדה</td>\n",
       "      <td>PACIFICA</td>\n",
       "      <td>270000.0</td>\n",
       "      <td>MPV</td>\n",
       "      <td>True</td>\n",
       "    </tr>\n",
       "  </tbody>\n",
       "</table>\n",
       "</div>"
      ]
     },
     "execution_count": 31,
     "metadata": {},
     "output_type": "execute_result"
    }
   ],
   "execution_count": 31
  },
  {
   "cell_type": "code",
   "id": "add99059",
   "metadata": {
    "ExecuteTime": {
     "end_time": "2024-12-22T15:53:49.007329Z",
     "start_time": "2024-12-22T15:53:42.403641Z"
    }
   },
   "source": [
    "merkavim = df['merkav'].unique()\n",
    "for m in merkavim:\n",
    "    f = f'merkav == \"{m}\"'\n",
    "    print('example of cars of type:' + f)\n",
    "    ns=list(df.query(f)['model'].value_counts().index[:10])\n",
    "    print(get_model_name(ns).drop_duplicates())   "
   ],
   "outputs": [
    {
     "name": "stdout",
     "output_type": "stream",
     "text": [
      "example of cars of type:merkav == \"סדאן\"\n",
      "      tozeret_nm    kinuy_mishari\n",
      "0       מזדה יפן          MAZDA 3\n",
      "2     טויוטה יפן          COROLLA\n",
      "3  טויוטה טורקיה          COROLLA\n",
      "4  טויוטה טורקיה  COROLLA HSD SDN\n",
      "7       מזדה יפן           MAZDA3\n",
      "example of cars of type:merkav == \"הצ'בק\"\n",
      "      tozeret_nm kinuy_mishari\n",
      "0  יונדאי קוריאה  IONIQ HYBRID\n",
      "1     קיה קוריאה       PICANTO\n",
      "5    דייהטסו-יפן       .SIRION\n",
      "6    מזדה תאילנד       MAZDA 2\n",
      "8  יונדאי טורקיה           I10\n",
      "9        מ.ג סין      EHS PHEV\n",
      "example of cars of type:merkav == \"פנאי-שטח\"\n",
      "     tozeret_nm    kinuy_mishari\n",
      "0   קיה סלובקיה         SPORTAGE\n",
      "3      גילי סין       GEOMETRY C\n",
      "4  מיצובישי יפן        OUTLANDER\n",
      "6  יונדאי צ'כיה           TUCSON\n",
      "7     בי ווי די           ATTO 3\n",
      "8   טויוטה צרפת  YARIS CROSS HSD\n",
      "9    קיה קוריאה           SELTOS\n",
      "example of cars of type:merkav == \"קבריולט\"\n",
      "       tozeret_nm  kinuy_mishari\n",
      "0      פיאט פולין       FIAT 500\n",
      "1     פיאט איטליה       FIAT 500\n",
      "4      פיאט פולין   FIAT 500 1.2\n",
      "5        מזדה יפן           MX-5\n",
      "6        מזדה יפן           MX 5\n",
      "9  ב מ וו אוסטריה  Z4 SDRIVE 20I\n",
      "example of cars of type:merkav == \"קומבי\"\n",
      "     tozeret_nm    kinuy_mishari\n",
      "0  סיטרואן ספרד         BERLINGO\n",
      "5   פורד תורכיה  TOURNEO CONNECT\n",
      "7      רנו צרפת           KANGOO\n",
      "example of cars of type:merkav == \"תא כפול\"\n",
      "       tozeret_nm kinuy_mishari\n",
      "0   טויוטה תאילנד         HILUX\n",
      "1  מיצובישי תאילנ          L200\n",
      "2   איסוזו תאילנד       PICK-UP\n",
      "3   טויוטה תאילנד    HILUX VIGO\n",
      "example of cars of type:merkav == \"סטיישן\"\n",
      "     tozeret_nm kinuy_mishari\n",
      "0   פורד גרמניה         FOCUS\n",
      "1  יונדאי צ'כיה           I30\n",
      "2    קיה קוריאה          NIRO\n",
      "7    קיה קוריאה     NIRO PHEV\n",
      "example of cars of type:merkav == \"קופה\"\n",
      "       tozeret_nm kinuy_mishari\n",
      "0   ב מ וו גרמניה          218I\n",
      "1   פיג'ו אוסטריה           RCZ\n",
      "2  מרצדס בנץ גרמנ          C300\n",
      "3      סמארט צרפת        FORTWO\n",
      "4  מרצדס בנץ גרמנ          C200\n",
      "6   אאודי הונגריה      TT COUPE\n",
      "7   אאודי הונגריה            TT\n",
      "9   ב מ וו גרמניה          420I\n",
      "example of cars of type:merkav == \"MPV\"\n",
      "      tozeret_nm   kinuy_mishari\n",
      "0   מיצובישי יפן         GRANDIS\n",
      "1   סיטרואן ספרד  C4 SPACETOURER\n",
      "2   מיצובישי יפן       OUTLANDER\n",
      "4  טויוטה טורקיה           VERSO\n",
      "8   מיצובישי יפן             ASX\n",
      "example of cars of type:merkav == \"nan\"\n",
      "Empty DataFrame\n",
      "Columns: [tozeret_nm, kinuy_mishari]\n",
      "Index: []\n",
      "example of cars of type:merkav == \"תא בודד\"\n",
      "      tozeret_nm kinuy_mishari\n",
      "0     קיה קוריאה         K2500\n",
      "1  יונדאי קוריאה       טראק 1H\n",
      "4  איסוזו תאילנד       PICK-UP\n",
      "5     קיה קוריאה   SUPER TRACK\n",
      "example of cars of type:merkav == \"ואן/נוסעים\"\n",
      "       tozeret_nm kinuy_mishari\n",
      "0  פולקסווגן גרמנ     CARAVELLE\n",
      "3      ניסאן ספרד         NV200\n",
      "5   קרייזלר ארהב\"  TOWN COUNTRY\n",
      "7  פולקסווגן פולי   CADDY KOMBI\n",
      "example of cars of type:merkav == \"משא אחוד\"\n",
      "       tozeret_nm    kinuy_mishari\n",
      "0     טויוטה ספרד      TOYOTA CITY\n",
      "2  מרצדס בנץ ספרד             VITO\n",
      "3  פולקסווגן גרמנ  NEW TRANSPORTER\n",
      "4     פיאט תורכיה       FIAT DOBLO\n",
      "5  פולקסווגן פולי            CADDY\n",
      "6   יונדאי טורקיה               H1\n",
      "7  פולקסווגן גרמנ      TRANSPORTER\n",
      "9   יונדאי קוריאה               H1\n",
      "example of cars of type:merkav == \"סגור/משלוח\"\n",
      "       tozeret_nm kinuy_mishari\n",
      "0  סיטרואן פורטוג      BERLINGO\n",
      "1    סיטרואן ספרד      BERLINGO\n",
      "8    סיטרואן צרפת         JUMPY\n",
      "example of cars of type:merkav == \"שדה\"\n",
      "    tozeret_nm kinuy_mishari\n",
      "0  רובר אנגליה   DEFENDER 90\n",
      "1  רובר אנגליה      DEFENDER\n",
      "2     טסלה סין       MODEL 3\n",
      "3    גיפ-ישראל     ג'יפ סופה\n",
      "8   סובארו יפן            B4\n"
     ]
    }
   ],
   "execution_count": 32
  },
  {
   "cell_type": "code",
   "id": "4a57f755",
   "metadata": {
    "ExecuteTime": {
     "end_time": "2024-12-22T15:53:49.025145Z",
     "start_time": "2024-12-22T15:53:49.013910Z"
    }
   },
   "source": [
    "mask_merkavim = [\"סגור/משלוח\", \"משא אחוד\", \"ואן/נוסעים\", \"קומבי\"]\n",
    "mask_merkavim.append(\"MPV\")\n",
    "bymodel['ppl_mover'] = bymodel['merkav'].isin(mask_merkavim)"
   ],
   "outputs": [],
   "execution_count": 33
  },
  {
   "cell_type": "code",
   "id": "3931c07e",
   "metadata": {
    "scrolled": true,
    "ExecuteTime": {
     "end_time": "2024-12-22T15:53:49.444397Z",
     "start_time": "2024-12-22T15:53:49.026226Z"
    }
   },
   "source": [
    "sns.scatterplot(data=bymodel, x='disabled_prop', y='mehir', size=3, legend=False, hue=bymodel['ppl_mover'])"
   ],
   "outputs": [
    {
     "data": {
      "text/plain": [
       "<Axes: xlabel='disabled_prop', ylabel='mehir'>"
      ]
     },
     "execution_count": 34,
     "metadata": {},
     "output_type": "execute_result"
    },
    {
     "data": {
      "text/plain": [
       "<Figure size 640x480 with 1 Axes>"
      ],
      "image/png": "[encoded data removed]"
     },
     "metadata": {},
     "output_type": "display_data"
    }
   ],
   "execution_count": 34
  },
  {
   "cell_type": "code",
   "id": "e12fbbbc",
   "metadata": {
    "ExecuteTime": {
     "end_time": "2024-12-22T15:53:50.140551Z",
     "start_time": "2024-12-22T15:53:49.447221Z"
    }
   },
   "source": [
    "def rev(s):\n",
    "    return s[::-1]\n",
    "\n",
    "# Customize the plot style and aesthetics\n",
    "sns.set_style(\"whitegrid\")\n",
    "sns.set_palette(\"bright\")\n",
    "\n",
    "#custom_palette = {\"foo\": sns.color_palette()[0], \"bar\": sns.color_palette()[1]}\n",
    "\n",
    "bymodel['d_p'] = 100*bymodel['disabled_prop']\n",
    "bymodel['mk'] = bymodel['mehir']/1000\n",
    "#bymodel['ppl_mover'] = bymodel['ppl_mover'].astype(int)\n",
    "\n",
    "ax = sns.scatterplot(data=bymodel, x='d_p', y='mk', size=4, hue=bymodel['ppl_mover'])\n",
    "\n",
    "fs=14\n",
    "plt.title(rev(\"שכיחות תווי נכה כנגד מחיר הדגם\"), fontsize=fs+2)\n",
    "plt.xlabel(rev(\" שכיחות תו נכה ב-%\"), fontsize=fs)\n",
    "plt.ylabel(rev(\"מחיר באלפי ₪\"), fontsize=fs)\n",
    "\n",
    "plt.ticklabel_format(style='plain', axis='y')\n",
    "plt.xlim(0, 100)\n",
    "\n",
    "handles, labels = ax.get_legend_handles_labels()\n",
    "handles = handles[:-1]\n",
    "labels = labels[:-1]\n",
    "ax.legend(title=rev(\"מרכב\"), labels=[rev(\"רגיל\"), rev(\"משא/ואן\")], handles=handles)\n"
   ],
   "outputs": [
    {
     "data": {
      "text/plain": [
       "<matplotlib.legend.Legend at 0x3fbeb3e50>"
      ]
     },
     "execution_count": 35,
     "metadata": {},
     "output_type": "execute_result"
    },
    {
     "data": {
      "text/plain": [
       "<Figure size 640x480 with 1 Axes>"
      ],
      "image/png": "[encoded data removed]"
     },
     "metadata": {},
     "output_type": "display_data"
    }
   ],
   "execution_count": 35
  },
  {
   "cell_type": "code",
   "id": "54166bdc",
   "metadata": {
    "ExecuteTime": {
     "end_time": "2024-12-22T15:53:50.737853Z",
     "start_time": "2024-12-22T15:53:50.142053Z"
    }
   },
   "source": [
    "models_ = read_file(datadir + 'models.csv', enc='utf-8')"
   ],
   "outputs": [
    {
     "name": "stderr",
     "output_type": "stream",
     "text": [
      "/var/folders/l5/kkx8dwdn57s3v0k59p9m7sv80007gv/T/ipykernel_22615/907659671.py:3: DtypeWarning: Columns (16,20) have mixed types. Specify dtype option on import or set low_memory=False.\n",
      "  df = pd.read_csv(fd, sep='|')\n"
     ]
    }
   ],
   "execution_count": 36
  },
  {
   "cell_type": "code",
   "id": "2a113bab",
   "metadata": {
    "ExecuteTime": {
     "end_time": "2024-12-22T15:53:50.756187Z",
     "start_time": "2024-12-22T15:53:50.739906Z"
    }
   },
   "source": [
    "models_.query('gova > 200 and hanaa_nm == \"4X4\" and nefah_manoa > 2000 and mispar_moshavim < 7')[['tozeret_nm','kinuy_mishari', 'mispar_moshavim']].drop_duplicates()"
   ],
   "outputs": [
    {
     "data": {
      "text/plain": [
       "          tozeret_nm   kinuy_mishari  mispar_moshavim\n",
       "136   דימלרקריזלר-גר         313 CDI                6\n",
       "1002       גיפ-ישראל            סופה                4\n",
       "2275      טויוטה יפן  לנד קרוזר_ארוך                0\n",
       "3601  מרצדס בנץ גרמנ        SPRINTER                3\n",
       "3635  מרצדס בנץ גרמנ        SPRINTER                2\n",
       "5142  פולקסווגן גרמנ     TRANSPORTER                3\n",
       "5166  פולקסווגן גרמנ     TRANSPORTER                2\n",
       "5321  פולקסווגן גרמנ      TRNSPORTER                3\n",
       "6898  פולקסווגן גרמנ              LT                1\n",
       "6960      פורד ארהב\"           F 150                5\n",
       "6980      פורד ארהב\"            F150                5\n",
       "6989      פורד ארהב\"     RAPTOR F150                5\n",
       "7006      פורד ארהב\"           F-150                5\n",
       "9427     רובר אנגליה   משא בלתי אחוד                0\n",
       "9454     רובר אנגליה      LAND ROVER                3\n",
       "9455     רובר אנגליה        משא אחוד                0\n",
       "9470     רובר אנגליה        DEFENDER                4\n",
       "9473     רובר אנגליה        DEFENDER                5\n",
       "9503     רובר אנגליה      RANG-ROVER                5\n",
       "9566    שברולט ארהב\"        COLORADO                5"
      ],
      "text/html": [
       "<div>\n",
       "<style scoped>\n",
       "    .dataframe tbody tr th:only-of-type {\n",
       "        vertical-align: middle;\n",
       "    }\n",
       "\n",
       "    .dataframe tbody tr th {\n",
       "        vertical-align: top;\n",
       "    }\n",
       "\n",
       "    .dataframe thead th {\n",
       "        text-align: right;\n",
       "    }\n",
       "</style>\n",
       "<table border=\"1\" class=\"dataframe\">\n",
       "  <thead>\n",
       "    <tr style=\"text-align: right;\">\n",
       "      <th></th>\n",
       "      <th>tozeret_nm</th>\n",
       "      <th>kinuy_mishari</th>\n",
       "      <th>mispar_moshavim</th>\n",
       "    </tr>\n",
       "  </thead>\n",
       "  <tbody>\n",
       "    <tr>\n",
       "      <th>136</th>\n",
       "      <td>דימלרקריזלר-גר</td>\n",
       "      <td>313 CDI</td>\n",
       "      <td>6</td>\n",
       "    </tr>\n",
       "    <tr>\n",
       "      <th>1002</th>\n",
       "      <td>גיפ-ישראל</td>\n",
       "      <td>סופה</td>\n",
       "      <td>4</td>\n",
       "    </tr>\n",
       "    <tr>\n",
       "      <th>2275</th>\n",
       "      <td>טויוטה יפן</td>\n",
       "      <td>לנד קרוזר_ארוך</td>\n",
       "      <td>0</td>\n",
       "    </tr>\n",
       "    <tr>\n",
       "      <th>3601</th>\n",
       "      <td>מרצדס בנץ גרמנ</td>\n",
       "      <td>SPRINTER</td>\n",
       "      <td>3</td>\n",
       "    </tr>\n",
       "    <tr>\n",
       "      <th>3635</th>\n",
       "      <td>מרצדס בנץ גרמנ</td>\n",
       "      <td>SPRINTER</td>\n",
       "      <td>2</td>\n",
       "    </tr>\n",
       "    <tr>\n",
       "      <th>5142</th>\n",
       "      <td>פולקסווגן גרמנ</td>\n",
       "      <td>TRANSPORTER</td>\n",
       "      <td>3</td>\n",
       "    </tr>\n",
       "    <tr>\n",
       "      <th>5166</th>\n",
       "      <td>פולקסווגן גרמנ</td>\n",
       "      <td>TRANSPORTER</td>\n",
       "      <td>2</td>\n",
       "    </tr>\n",
       "    <tr>\n",
       "      <th>5321</th>\n",
       "      <td>פולקסווגן גרמנ</td>\n",
       "      <td>TRNSPORTER</td>\n",
       "      <td>3</td>\n",
       "    </tr>\n",
       "    <tr>\n",
       "      <th>6898</th>\n",
       "      <td>פולקסווגן גרמנ</td>\n",
       "      <td>LT</td>\n",
       "      <td>1</td>\n",
       "    </tr>\n",
       "    <tr>\n",
       "      <th>6960</th>\n",
       "      <td>פורד ארהב\"</td>\n",
       "      <td>F 150</td>\n",
       "      <td>5</td>\n",
       "    </tr>\n",
       "    <tr>\n",
       "      <th>6980</th>\n",
       "      <td>פורד ארהב\"</td>\n",
       "      <td>F150</td>\n",
       "      <td>5</td>\n",
       "    </tr>\n",
       "    <tr>\n",
       "      <th>6989</th>\n",
       "      <td>פורד ארהב\"</td>\n",
       "      <td>RAPTOR F150</td>\n",
       "      <td>5</td>\n",
       "    </tr>\n",
       "    <tr>\n",
       "      <th>7006</th>\n",
       "      <td>פורד ארהב\"</td>\n",
       "      <td>F-150</td>\n",
       "      <td>5</td>\n",
       "    </tr>\n",
       "    <tr>\n",
       "      <th>9427</th>\n",
       "      <td>רובר אנגליה</td>\n",
       "      <td>משא בלתי אחוד</td>\n",
       "      <td>0</td>\n",
       "    </tr>\n",
       "    <tr>\n",
       "      <th>9454</th>\n",
       "      <td>רובר אנגליה</td>\n",
       "      <td>LAND ROVER</td>\n",
       "      <td>3</td>\n",
       "    </tr>\n",
       "    <tr>\n",
       "      <th>9455</th>\n",
       "      <td>רובר אנגליה</td>\n",
       "      <td>משא אחוד</td>\n",
       "      <td>0</td>\n",
       "    </tr>\n",
       "    <tr>\n",
       "      <th>9470</th>\n",
       "      <td>רובר אנגליה</td>\n",
       "      <td>DEFENDER</td>\n",
       "      <td>4</td>\n",
       "    </tr>\n",
       "    <tr>\n",
       "      <th>9473</th>\n",
       "      <td>רובר אנגליה</td>\n",
       "      <td>DEFENDER</td>\n",
       "      <td>5</td>\n",
       "    </tr>\n",
       "    <tr>\n",
       "      <th>9503</th>\n",
       "      <td>רובר אנגליה</td>\n",
       "      <td>RANG-ROVER</td>\n",
       "      <td>5</td>\n",
       "    </tr>\n",
       "    <tr>\n",
       "      <th>9566</th>\n",
       "      <td>שברולט ארהב\"</td>\n",
       "      <td>COLORADO</td>\n",
       "      <td>5</td>\n",
       "    </tr>\n",
       "  </tbody>\n",
       "</table>\n",
       "</div>"
      ]
     },
     "execution_count": 37,
     "metadata": {},
     "output_type": "execute_result"
    }
   ],
   "execution_count": 37
  },
  {
   "metadata": {},
   "cell_type": "code",
   "outputs": [],
   "execution_count": null,
   "source": "",
   "id": "b799ecd5a5339b8b"
  }
 ],
 "metadata": {
  "kernelspec": {
   "display_name": "Python 3 (ipykernel)",
   "language": "python",
   "name": "python3"
  },
  "language_info": {
   "codemirror_mode": {
    "name": "ipython",
    "version": 3
   },
   "file_extension": ".py",
   "mimetype": "text/x-python",
   "name": "python",
   "nbconvert_exporter": "python",
   "pygments_lexer": "ipython3",
   "version": "3.8.13"
  }
 },
 "nbformat": 4,
 "nbformat_minor": 5
}
