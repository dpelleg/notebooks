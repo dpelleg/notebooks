{
 "cells": [
  {
   "cell_type": "code",
   "execution_count": 1,
   "id": "initial_id",
   "metadata": {
    "collapsed": true,
    "ExecuteTime": {
     "end_time": "2024-01-21T19:49:07.819684Z",
     "start_time": "2024-01-21T19:49:07.814779Z"
    }
   },
   "outputs": [],
   "source": [
    "# explore the creeping up of vehicle sizes, per models\n",
    "import pandas as pd\n",
    "import seaborn as sns\n",
    "from vehicles import *\n",
    "from dicts import *\n"
   ]
  },
  {
   "cell_type": "code",
   "execution_count": 2,
   "outputs": [],
   "source": [
    "# read detailed tech specs on each model\n",
    "# source: https://data.gov.il/dataset/degem-rechev-wltp\n",
    "models = read_file_helper(datadir + 'models.csv', enc='utf-8', low_memory=False)\n",
    "stringify_cols(models)\n",
    "add_model(models)\n",
    "convert_make(models)"
   ],
   "metadata": {
    "collapsed": false,
    "ExecuteTime": {
     "end_time": "2024-01-21T19:49:10.648884Z",
     "start_time": "2024-01-21T19:49:07.970785Z"
    }
   },
   "id": "74a4543c19cdc561"
  },
  {
   "cell_type": "code",
   "execution_count": 6,
   "outputs": [
    {
     "data": {
      "text/plain": "['ICE', 'PHEV', 'lectric', 'Hybrid']"
     },
     "execution_count": 6,
     "metadata": {},
     "output_type": "execute_result"
    }
   ],
   "source": [
    "models['make_eng'] = models['make'].map(lambda x: make_heb_to_eng.get(x, x))\n",
    "models['fuel'] = models['delek_nm'].map(lambda x: fuel_heb_to_eng.get(x, x))\n",
    "models['tech'] = models['technologiat_hanaa_nm'].map(lambda x: technology_heb_to_eng.get(x, x))\n",
    "\n",
    "models['tech'].unique().tolist()"
   ],
   "metadata": {
    "collapsed": false,
    "ExecuteTime": {
     "end_time": "2024-01-21T19:49:30.277018Z",
     "start_time": "2024-01-21T19:49:30.232692Z"
    }
   },
   "id": "553c13663812c41"
  },
  {
   "cell_type": "code",
   "execution_count": 7,
   "outputs": [],
   "source": [
    "models['body_style'] = models['merkav'].map(body_style_heb_to_eng)"
   ],
   "metadata": {
    "collapsed": false,
    "ExecuteTime": {
     "end_time": "2024-01-21T19:49:33.252652Z",
     "start_time": "2024-01-21T19:49:33.243696Z"
    }
   },
   "id": "c2382ed6973f7262"
  },
  {
   "cell_type": "code",
   "execution_count": 8,
   "outputs": [],
   "source": [
    "# read quantities of each model on the road\n",
    "# source: https://data.gov.il/dataset/degem-rechev-wltp\n",
    "qtys = read_file_helper(datadir + 'kamuyot.csv')\n",
    "stringify_cols(qtys)\n",
    "add_model(qtys)"
   ],
   "metadata": {
    "collapsed": false,
    "ExecuteTime": {
     "end_time": "2024-01-21T19:49:37.157648Z",
     "start_time": "2024-01-21T19:49:36.418183Z"
    }
   },
   "id": "1de0dec1c96642c7"
  },
  {
   "cell_type": "code",
   "execution_count": 9,
   "outputs": [],
   "source": [
    "df = models.merge(qtys, how='left', left_on='model', right_on='model', suffixes=('', '_y'))"
   ],
   "metadata": {
    "collapsed": false,
    "ExecuteTime": {
     "end_time": "2024-01-21T19:49:37.310200Z",
     "start_time": "2024-01-21T19:49:37.159118Z"
    }
   },
   "id": "bbc04e682b6fbd97"
  },
  {
   "cell_type": "code",
   "execution_count": 10,
   "outputs": [
    {
     "data": {
      "text/plain": "Index(['sug_degem', 'tozeret_cd', 'tozeret_nm', 'tozeret_eretz_nm', 'tozar',\n       'degem_cd', 'degem_nm', 'shnat_yitzur', 'kvuzat_agra_cd', 'nefah_manoa',\n       ...\n       'tozeret_cd_y', 'tozeret_nm_y', 'tozeret_eretz_nm_y', 'tozar_y',\n       'degem_cd_y', 'degem_nm_y', 'shnat_yitzur_y', 'mispar_rechavim_pailim',\n       'mispar_rechavim_le_pailim', 'kinuy_mishari_y'],\n      dtype='object', length=110)"
     },
     "execution_count": 10,
     "metadata": {},
     "output_type": "execute_result"
    }
   ],
   "source": [
    "df.columns"
   ],
   "metadata": {
    "collapsed": false,
    "ExecuteTime": {
     "end_time": "2024-01-21T19:49:37.908616Z",
     "start_time": "2024-01-21T19:49:37.894470Z"
    }
   },
   "id": "d675d80c8e36e43c"
  },
  {
   "cell_type": "code",
   "execution_count": 11,
   "outputs": [
    {
     "data": {
      "text/plain": "      sug_degem tozeret_cd      tozeret_nm tozeret_eretz_nm          tozar  \\\n38466         P        588        מזדה יפן              יפן           מזדה   \n81156         P       1014       בי ווי די              סין      בי ווי די   \n34704         P        481   יונדאי קוריאה   קוריאה הדרומית         יונדאי   \n38729         P        588        מזדה יפן              יפן           מזדה   \n31799         P        413      טויוטה יפן              יפן         טויוטה   \n...         ...        ...             ...              ...            ...   \n40171         P        593  מרצדס בנץ גרמנ           גרמניה          מרצדס   \n40172         P        593  מרצדס בנץ גרמנ           גרמניה          מרצדס   \n40183         P        593  מרצדס בנץ גרמנ           גרמניה          מרצדס   \n40186         P        593  מרצדס בנץ גרמנ           גרמניה          מרצדס   \n84004         P       1569   אס דאבל יו אמ              סין  אס דאבל יו אמ   \n\n      degem_cd        degem_nm shnat_yitzur  kvuzat_agra_cd  nefah_manoa  ...  \\\n38466      292           BK12Z         2008               2         1598  ...   \n81156        4       SC2E-SC2E         2023               4            0  ...   \n34704      246           C751C         2021               3         1580  ...   \n38729      431           BL12Z         2010               3         1598  ...   \n31799      641  ZRE151L-AEGDKW         2008               2         1598  ...   \n...        ...             ...          ...             ...          ...  ...   \n40171      212         212.034         2015               7         1991  ...   \n40172      213         212.036         2013               7         1991  ...   \n40183      216         212.055         2013               7         3498  ...   \n40186      217         212.055         2013               7         3498  ...   \n84004        2            G01F         2024               7         1499  ...   \n\n       tozeret_cd_y    tozeret_nm_y  tozeret_eretz_nm_y        tozar_y  \\\n38466           588        מזדה יפן                 יפן           מזדה   \n81156          1014       בי ווי די                 סין      בי ווי די   \n34704           481   יונדאי קוריאה      קוריאה הדרומית         יונדאי   \n38729           588        מזדה יפן                 יפן           מזדה   \n31799           413      טויוטה יפן                 יפן         טויוטה   \n...             ...             ...                 ...            ...   \n40171           593  מרצדס בנץ גרמנ              גרמניה          מרצדס   \n40172           593  מרצדס בנץ גרמנ              גרמניה          מרצדס   \n40183           593  מרצדס בנץ גרמנ              גרמניה          מרצדס   \n40186           593  מרצדס בנץ גרמנ              גרמניה          מרצדס   \n84004          1569   אס דאבל יו אמ                 סין  אס דאבל יו אמ   \n\n       degem_cd_y      degem_nm_y shnat_yitzur_y  mispar_rechavim_pailim  \\\n38466         292           BK12Z           2008                   16720   \n81156           4       SC2E-SC2E           2023                   10492   \n34704         246           C751C           2021                   10421   \n38729         431           BL12Z           2010                   10108   \n31799         641  ZRE151L-AEGDKW           2008                    9055   \n...           ...             ...            ...                     ...   \n40171         212         212.034           2015                       0   \n40172         213         212.036           2013                       0   \n40183         216         212.055           2013                       0   \n40186         217         212.055           2013                       0   \n84004           2            G01F           2024                       0   \n\n       mispar_rechavim_le_pailim  kinuy_mishari_y  \n38466                       9439          MAZDA 3  \n81156                         35           ATTO 3  \n34704                        291     IONIQ HYBRID  \n38729                       2555          MAZDA 3  \n31799                       4547          COROLLA  \n...                          ...              ...  \n40171                          0             E200  \n40172                          0             E250  \n40183                          0             E300  \n40186                          0             E300  \n84004                          0              G01  \n\n[84005 rows x 110 columns]",
      "text/html": "<div>\n<style scoped>\n    .dataframe tbody tr th:only-of-type {\n        vertical-align: middle;\n    }\n\n    .dataframe tbody tr th {\n        vertical-align: top;\n    }\n\n    .dataframe thead th {\n        text-align: right;\n    }\n</style>\n<table border=\"1\" class=\"dataframe\">\n  <thead>\n    <tr style=\"text-align: right;\">\n      <th></th>\n      <th>sug_degem</th>\n      <th>tozeret_cd</th>\n      <th>tozeret_nm</th>\n      <th>tozeret_eretz_nm</th>\n      <th>tozar</th>\n      <th>degem_cd</th>\n      <th>degem_nm</th>\n      <th>shnat_yitzur</th>\n      <th>kvuzat_agra_cd</th>\n      <th>nefah_manoa</th>\n      <th>...</th>\n      <th>tozeret_cd_y</th>\n      <th>tozeret_nm_y</th>\n      <th>tozeret_eretz_nm_y</th>\n      <th>tozar_y</th>\n      <th>degem_cd_y</th>\n      <th>degem_nm_y</th>\n      <th>shnat_yitzur_y</th>\n      <th>mispar_rechavim_pailim</th>\n      <th>mispar_rechavim_le_pailim</th>\n      <th>kinuy_mishari_y</th>\n    </tr>\n  </thead>\n  <tbody>\n    <tr>\n      <th>38466</th>\n      <td>P</td>\n      <td>588</td>\n      <td>מזדה יפן</td>\n      <td>יפן</td>\n      <td>מזדה</td>\n      <td>292</td>\n      <td>BK12Z</td>\n      <td>2008</td>\n      <td>2</td>\n      <td>1598</td>\n      <td>...</td>\n      <td>588</td>\n      <td>מזדה יפן</td>\n      <td>יפן</td>\n      <td>מזדה</td>\n      <td>292</td>\n      <td>BK12Z</td>\n      <td>2008</td>\n      <td>16720</td>\n      <td>9439</td>\n      <td>MAZDA 3</td>\n    </tr>\n    <tr>\n      <th>81156</th>\n      <td>P</td>\n      <td>1014</td>\n      <td>בי ווי די</td>\n      <td>סין</td>\n      <td>בי ווי די</td>\n      <td>4</td>\n      <td>SC2E-SC2E</td>\n      <td>2023</td>\n      <td>4</td>\n      <td>0</td>\n      <td>...</td>\n      <td>1014</td>\n      <td>בי ווי די</td>\n      <td>סין</td>\n      <td>בי ווי די</td>\n      <td>4</td>\n      <td>SC2E-SC2E</td>\n      <td>2023</td>\n      <td>10492</td>\n      <td>35</td>\n      <td>ATTO 3</td>\n    </tr>\n    <tr>\n      <th>34704</th>\n      <td>P</td>\n      <td>481</td>\n      <td>יונדאי קוריאה</td>\n      <td>קוריאה הדרומית</td>\n      <td>יונדאי</td>\n      <td>246</td>\n      <td>C751C</td>\n      <td>2021</td>\n      <td>3</td>\n      <td>1580</td>\n      <td>...</td>\n      <td>481</td>\n      <td>יונדאי קוריאה</td>\n      <td>קוריאה הדרומית</td>\n      <td>יונדאי</td>\n      <td>246</td>\n      <td>C751C</td>\n      <td>2021</td>\n      <td>10421</td>\n      <td>291</td>\n      <td>IONIQ HYBRID</td>\n    </tr>\n    <tr>\n      <th>38729</th>\n      <td>P</td>\n      <td>588</td>\n      <td>מזדה יפן</td>\n      <td>יפן</td>\n      <td>מזדה</td>\n      <td>431</td>\n      <td>BL12Z</td>\n      <td>2010</td>\n      <td>3</td>\n      <td>1598</td>\n      <td>...</td>\n      <td>588</td>\n      <td>מזדה יפן</td>\n      <td>יפן</td>\n      <td>מזדה</td>\n      <td>431</td>\n      <td>BL12Z</td>\n      <td>2010</td>\n      <td>10108</td>\n      <td>2555</td>\n      <td>MAZDA 3</td>\n    </tr>\n    <tr>\n      <th>31799</th>\n      <td>P</td>\n      <td>413</td>\n      <td>טויוטה יפן</td>\n      <td>יפן</td>\n      <td>טויוטה</td>\n      <td>641</td>\n      <td>ZRE151L-AEGDKW</td>\n      <td>2008</td>\n      <td>2</td>\n      <td>1598</td>\n      <td>...</td>\n      <td>413</td>\n      <td>טויוטה יפן</td>\n      <td>יפן</td>\n      <td>טויוטה</td>\n      <td>641</td>\n      <td>ZRE151L-AEGDKW</td>\n      <td>2008</td>\n      <td>9055</td>\n      <td>4547</td>\n      <td>COROLLA</td>\n    </tr>\n    <tr>\n      <th>...</th>\n      <td>...</td>\n      <td>...</td>\n      <td>...</td>\n      <td>...</td>\n      <td>...</td>\n      <td>...</td>\n      <td>...</td>\n      <td>...</td>\n      <td>...</td>\n      <td>...</td>\n      <td>...</td>\n      <td>...</td>\n      <td>...</td>\n      <td>...</td>\n      <td>...</td>\n      <td>...</td>\n      <td>...</td>\n      <td>...</td>\n      <td>...</td>\n      <td>...</td>\n      <td>...</td>\n    </tr>\n    <tr>\n      <th>40171</th>\n      <td>P</td>\n      <td>593</td>\n      <td>מרצדס בנץ גרמנ</td>\n      <td>גרמניה</td>\n      <td>מרצדס</td>\n      <td>212</td>\n      <td>212.034</td>\n      <td>2015</td>\n      <td>7</td>\n      <td>1991</td>\n      <td>...</td>\n      <td>593</td>\n      <td>מרצדס בנץ גרמנ</td>\n      <td>גרמניה</td>\n      <td>מרצדס</td>\n      <td>212</td>\n      <td>212.034</td>\n      <td>2015</td>\n      <td>0</td>\n      <td>0</td>\n      <td>E200</td>\n    </tr>\n    <tr>\n      <th>40172</th>\n      <td>P</td>\n      <td>593</td>\n      <td>מרצדס בנץ גרמנ</td>\n      <td>גרמניה</td>\n      <td>מרצדס</td>\n      <td>213</td>\n      <td>212.036</td>\n      <td>2013</td>\n      <td>7</td>\n      <td>1991</td>\n      <td>...</td>\n      <td>593</td>\n      <td>מרצדס בנץ גרמנ</td>\n      <td>גרמניה</td>\n      <td>מרצדס</td>\n      <td>213</td>\n      <td>212.036</td>\n      <td>2013</td>\n      <td>0</td>\n      <td>0</td>\n      <td>E250</td>\n    </tr>\n    <tr>\n      <th>40183</th>\n      <td>P</td>\n      <td>593</td>\n      <td>מרצדס בנץ גרמנ</td>\n      <td>גרמניה</td>\n      <td>מרצדס</td>\n      <td>216</td>\n      <td>212.055</td>\n      <td>2013</td>\n      <td>7</td>\n      <td>3498</td>\n      <td>...</td>\n      <td>593</td>\n      <td>מרצדס בנץ גרמנ</td>\n      <td>גרמניה</td>\n      <td>מרצדס</td>\n      <td>216</td>\n      <td>212.055</td>\n      <td>2013</td>\n      <td>0</td>\n      <td>0</td>\n      <td>E300</td>\n    </tr>\n    <tr>\n      <th>40186</th>\n      <td>P</td>\n      <td>593</td>\n      <td>מרצדס בנץ גרמנ</td>\n      <td>גרמניה</td>\n      <td>מרצדס</td>\n      <td>217</td>\n      <td>212.055</td>\n      <td>2013</td>\n      <td>7</td>\n      <td>3498</td>\n      <td>...</td>\n      <td>593</td>\n      <td>מרצדס בנץ גרמנ</td>\n      <td>גרמניה</td>\n      <td>מרצדס</td>\n      <td>217</td>\n      <td>212.055</td>\n      <td>2013</td>\n      <td>0</td>\n      <td>0</td>\n      <td>E300</td>\n    </tr>\n    <tr>\n      <th>84004</th>\n      <td>P</td>\n      <td>1569</td>\n      <td>אס דאבל יו אמ</td>\n      <td>סין</td>\n      <td>אס דאבל יו אמ</td>\n      <td>2</td>\n      <td>G01F</td>\n      <td>2024</td>\n      <td>7</td>\n      <td>1499</td>\n      <td>...</td>\n      <td>1569</td>\n      <td>אס דאבל יו אמ</td>\n      <td>סין</td>\n      <td>אס דאבל יו אמ</td>\n      <td>2</td>\n      <td>G01F</td>\n      <td>2024</td>\n      <td>0</td>\n      <td>0</td>\n      <td>G01</td>\n    </tr>\n  </tbody>\n</table>\n<p>84005 rows × 110 columns</p>\n</div>"
     },
     "execution_count": 11,
     "metadata": {},
     "output_type": "execute_result"
    }
   ],
   "source": [
    "df.sort_values(by='mispar_rechavim_pailim', ascending=False)"
   ],
   "metadata": {
    "collapsed": false,
    "ExecuteTime": {
     "end_time": "2024-01-21T19:49:39.370926Z",
     "start_time": "2024-01-21T19:49:39.222080Z"
    }
   },
   "id": "cfe168b2a786bb7e"
  },
  {
   "cell_type": "code",
   "execution_count": 9,
   "outputs": [
    {
     "data": {
      "text/plain": "['sug_degem',\n 'tozeret_cd',\n 'tozeret_nm',\n 'tozeret_eretz_nm',\n 'tozar',\n 'degem_cd',\n 'degem_nm',\n 'shnat_yitzur',\n 'kvuzat_agra_cd',\n 'nefah_manoa',\n 'mishkal_kolel',\n 'gova',\n 'hanaa_cd',\n 'hanaa_nm',\n 'mazgan_ind',\n 'abs_ind',\n 'kariot_avir_source',\n 'mispar_kariot_avir',\n 'hege_koah_ind',\n 'automatic_ind',\n 'halonot_hashmal_source',\n 'mispar_halonot_hashmal',\n 'halon_bagg_ind',\n 'galgaley_sagsoget_kala_ind',\n 'argaz_ind',\n 'merkav',\n 'ramat_gimur',\n 'delek_cd',\n 'delek_nm',\n 'mispar_dlatot',\n 'koah_sus',\n 'mispar_moshavim',\n 'bakarat_yatzivut_ind',\n 'kosher_grira_im_blamim',\n 'kosher_grira_bli_blamim',\n 'sug_tkina_cd',\n 'sug_tkina_nm',\n 'sug_mamir_cd',\n 'sug_mamir_nm',\n 'technologiat_hanaa_cd',\n 'technologiat_hanaa_nm',\n 'kamut_CO2',\n 'kamut_NOX',\n 'kamut_PM10',\n 'kamut_HC',\n 'kamut_HC_NOX',\n 'kamut_CO',\n 'kamut_CO2_city',\n 'kamut_NOX_city',\n 'kamut_PM10_city',\n 'kamut_HC_city',\n 'kamut_CO_city',\n 'kamut_CO2_hway',\n 'kamut_NOX_hway',\n 'kamut_PM10_hway',\n 'kamut_HC_hway',\n 'kamut_CO_hway',\n 'madad_yarok',\n 'kvutzat_zihum',\n 'bakarat_stiya_menativ_ind',\n 'bakarat_stiya_menativ_makor_hatkana',\n 'nitur_merhak_milfanim_ind',\n 'nitur_merhak_milfanim_makor_hatkana',\n 'zihuy_beshetah_nistar_ind',\n 'bakarat_shyut_adaptivit_ind',\n 'zihuy_holchey_regel_ind',\n 'zihuy_holchey_regel_makor_hatkana',\n 'maarechet_ezer_labalam_ind',\n 'matzlemat_reverse_ind',\n 'hayshaney_lahatz_avir_batzmigim_ind',\n 'hayshaney_hagorot_ind',\n 'nikud_betihut',\n 'ramat_eivzur_betihuty',\n 'teura_automatit_benesiya_kadima_ind',\n 'shlita_automatit_beorot_gvohim_ind',\n 'shlita_automatit_beorot_gvohim_makor_hatkana',\n 'zihuy_matzav_hitkarvut_mesukenet_ind',\n 'zihuy_tamrurey_tnua_ind',\n 'zihuy_rechev_do_galgali',\n 'zihuy_tamrurey_tnua_makor_hatkana',\n 'CO2_WLTP',\n 'HC_WLTP',\n 'PM_WLTP',\n 'NOX_WLTP',\n 'CO_WLTP',\n 'CO2_WLTP_NEDC',\n 'bakarat_stiya_activ_s',\n 'blima_otomatit_nesia_leahor',\n 'bakarat_mehirut_isa',\n 'blimat_hirum_lifnei_holhei_regel_ofanaim',\n 'hitnagshut_cad_shetah_met',\n 'alco_lock',\n 'kinuy_mishari',\n 'model',\n 'make',\n 'make_eng',\n 'body_style',\n 'sug_degem_y',\n 'tozeret_cd_y',\n 'tozeret_nm_y',\n 'tozeret_eretz_nm_y',\n 'tozar_y',\n 'degem_cd_y',\n 'degem_nm_y',\n 'shnat_yitzur_y',\n 'mispar_rechavim_pailim',\n 'mispar_rechavim_le_pailim',\n 'kinuy_mishari_y']"
     },
     "execution_count": 9,
     "metadata": {},
     "output_type": "execute_result"
    }
   ],
   "source": [
    "df.columns.to_list()"
   ],
   "metadata": {
    "collapsed": false,
    "ExecuteTime": {
     "end_time": "2024-01-21T06:24:28.734969Z",
     "start_time": "2024-01-21T06:24:28.722129Z"
    }
   },
   "id": "fd722b4c67f3877b"
  },
  {
   "cell_type": "code",
   "execution_count": 12,
   "outputs": [],
   "source": [
    "cols =['make_eng', 'kinuy_mishari', 'shnat_yitzur', 'body_style', 'nefah_manoa', 'mishkal_kolel', 'gova',  'mispar_dlatot', 'koah_sus', 'mispar_moshavim', 'sug_degem', 'tozeret_nm', 'degem_nm', 'kvuzat_agra_cd', 'hanaa_nm', 'tech', 'kvutzat_zihum', 'mispar_rechavim_pailim', 'fuel']"
   ],
   "metadata": {
    "collapsed": false,
    "ExecuteTime": {
     "end_time": "2024-01-21T19:49:50.100929Z",
     "start_time": "2024-01-21T19:49:50.079064Z"
    }
   },
   "id": "632f3f1dfcdc22d1"
  },
  {
   "cell_type": "code",
   "execution_count": 13,
   "outputs": [],
   "source": [
    "df.sort_values(by='mispar_rechavim_pailim', ascending=False)[cols].head(100).to_csv(datadir +'dgamim.csv', index=False, encoding='utf-8')"
   ],
   "metadata": {
    "collapsed": false,
    "ExecuteTime": {
     "end_time": "2024-01-21T19:49:51.138375Z",
     "start_time": "2024-01-21T19:49:50.945192Z"
    }
   },
   "id": "411de2ccf092877b"
  },
  {
   "cell_type": "code",
   "execution_count": 57,
   "outputs": [
    {
     "data": {
      "text/plain": "<bound method Series.to_dict of kinuy_mishari                MAZDA 3\nshnat_yitzur                    2011\nmerkav                          סדאן\nnefah_manoa                     1598\nmishkal_kolel                   1277\ngova                             NaN\nmispar_dlatot                      4\nkoah_sus                         105\nmispar_moshavim                    5\nsug_degem                          P\ntozeret_nm                  מזדה יפן\ndegem_nm                       BLA2Z\nkvuzat_agra_cd                     3\nhanaa_nm                         4X2\ntechnologiat_hanaa_nm     הנעה רגילה\nkvutzat_zihum                   15.0\nmispar_rechavim_pailim          7322\nName: 38772, dtype: object>"
     },
     "execution_count": 57,
     "metadata": {},
     "output_type": "execute_result"
    }
   ],
   "source": [
    "x = df.sort_values(by='mispar_rechavim_pailim', ascending=False)[cols]\n",
    "x.iloc[10].to_dict"
   ],
   "metadata": {
    "collapsed": false,
    "ExecuteTime": {
     "end_time": "2024-01-07T10:06:40.010419Z",
     "start_time": "2024-01-07T10:06:39.768123Z"
    }
   },
   "id": "fde7d67eb570ca1d"
  },
  {
   "cell_type": "code",
   "execution_count": 94,
   "outputs": [],
   "source": [
    "# group df by kinuy_mishari, and compute the mean and variance of mishkal_kolel for each group\n",
    "grouped = df.query(\"mispar_rechavim_pailim > 2500\").groupby([\"kinuy_mishari\", 'merkav'])\n",
    "result = grouped[\"mishkal_kolel\"].agg(['mean', 'var', 'count'])\n",
    "result = result.rename(columns={\"mean\": \"mean_mishkal_kolel\", \"var\": \"variance_mishkal_kolel\", \"count\": \"count_mishkal_kolel\"}).reset_index()\n",
    "result = result.query(\"count_mishkal_kolel > 1\")\n",
    "result['norm_var'] = result['variance_mishkal_kolel'] / result['mean_mishkal_kolel']\n",
    "high_var_models = result.sort_values(by='norm_var', ascending=False).head(6)[['kinuy_mishari', 'merkav', 'norm_var']]"
   ],
   "metadata": {
    "collapsed": false,
    "ExecuteTime": {
     "end_time": "2024-01-10T06:44:52.037509Z",
     "start_time": "2024-01-10T06:44:51.986386Z"
    }
   },
   "id": "5bae7788e6f4a689"
  },
  {
   "cell_type": "code",
   "execution_count": 95,
   "outputs": [
    {
     "data": {
      "text/plain": "   kinuy_mishari    merkav   norm_var\n31       MAZDA 2     הצ'בק  51.830467\n32       MAZDA 3      סדאן  35.782818\n51      SPORTAGE  פנאי-שטח   1.256158\n23           I20     הצ'בק   1.082397\n8        COROLLA      סדאן   0.989240\n39       OCTAVIA      סדאן   0.438356",
      "text/html": "<div>\n<style scoped>\n    .dataframe tbody tr th:only-of-type {\n        vertical-align: middle;\n    }\n\n    .dataframe tbody tr th {\n        vertical-align: top;\n    }\n\n    .dataframe thead th {\n        text-align: right;\n    }\n</style>\n<table border=\"1\" class=\"dataframe\">\n  <thead>\n    <tr style=\"text-align: right;\">\n      <th></th>\n      <th>kinuy_mishari</th>\n      <th>merkav</th>\n      <th>norm_var</th>\n    </tr>\n  </thead>\n  <tbody>\n    <tr>\n      <th>31</th>\n      <td>MAZDA 2</td>\n      <td>הצ'בק</td>\n      <td>51.830467</td>\n    </tr>\n    <tr>\n      <th>32</th>\n      <td>MAZDA 3</td>\n      <td>סדאן</td>\n      <td>35.782818</td>\n    </tr>\n    <tr>\n      <th>51</th>\n      <td>SPORTAGE</td>\n      <td>פנאי-שטח</td>\n      <td>1.256158</td>\n    </tr>\n    <tr>\n      <th>23</th>\n      <td>I20</td>\n      <td>הצ'בק</td>\n      <td>1.082397</td>\n    </tr>\n    <tr>\n      <th>8</th>\n      <td>COROLLA</td>\n      <td>סדאן</td>\n      <td>0.989240</td>\n    </tr>\n    <tr>\n      <th>39</th>\n      <td>OCTAVIA</td>\n      <td>סדאן</td>\n      <td>0.438356</td>\n    </tr>\n  </tbody>\n</table>\n</div>"
     },
     "execution_count": 95,
     "metadata": {},
     "output_type": "execute_result"
    }
   ],
   "source": [
    "high_var_models"
   ],
   "metadata": {
    "collapsed": false,
    "ExecuteTime": {
     "end_time": "2024-01-10T06:44:52.694159Z",
     "start_time": "2024-01-10T06:44:52.670760Z"
    }
   },
   "id": "3124437e6010055d"
  },
  {
   "cell_type": "code",
   "execution_count": 98,
   "outputs": [
    {
     "data": {
      "text/plain": "    kinuy_mishari shnat_yitzur    merkav  nefah_manoa  mishkal_kolel  gova  \\\n412       COROLLA         2001      סדאן         1598           1170   NaN   \n503       COROLLA         2003      סדאן         1598           1670   NaN   \n504       COROLLA         2004      סדאן         1598           1670   NaN   \n517       COROLLA         2004      סדאן         1598           1670   NaN   \n423       COROLLA         2005      סדאן         1598           1670   NaN   \n..            ...          ...       ...          ...            ...   ...   \n143      SPORTAGE         2019  פנאי-שטח         1598           2145   NaN   \n144      SPORTAGE         2020  פנאי-שטח         1598           2145   NaN   \n174      SPORTAGE         2021  פנאי-שטח         1598           2145   NaN   \n204      SPORTAGE         2022  פנאי-שטח         1999           2030   NaN   \n205      SPORTAGE         2023  פנאי-שטח         1999           2030   NaN   \n\n     mispar_dlatot  koah_sus  mispar_moshavim sug_degem     tozeret_nm  \\\n412              4       110                5         P     טויוטה יפן   \n503              4       110                5         P  טויוטה טורקיה   \n504              4       110                5         P  טויוטה טורקיה   \n517              4       110                5         P  טויוטה טורקיה   \n423              4       110                5         P     טויוטה יפן   \n..             ...       ...              ...       ...            ...   \n143              5       136                5         P    קיה סלובקיה   \n144              5       136                5         P    קיה סלובקיה   \n174              5       136                5         P    קיה סלובקיה   \n204              5       156                5         P    קיה סלובקיה   \n205              5       156                5         P    קיה סלובקיה   \n\n           degem_nm  kvuzat_agra_cd hanaa_nm technologiat_hanaa_nm  \\\n412  ZZE112L-AEPNKW               3      4X2            הנעה רגילה   \n503  ZZE121L-DEPNKW               3      4X2            הנעה רגילה   \n504  ZZE121L-DEPNKW               3      4X2            הנעה רגילה   \n517  ZZE121L-DEPDKW               2      4X2            הנעה רגילה   \n423  ZZE121L-AEPNKW               3      4X2            הנעה רגילה   \n..              ...             ...      ...                   ...   \n143          PG812G               4      4X2            הנעה רגילה   \n144          PG812G               4      4X2            הנעה רגילה   \n174          PG812G               4      4X2            הנעה רגילה   \n204          PU81DB               4      4X2            הנעה רגילה   \n205          PU81DB               4      4X2            הנעה רגילה   \n\n     kvutzat_zihum  mispar_rechavim_pailim  \n412            NaN                    1542  \n503            NaN                    2654  \n504            NaN                    2681  \n517            NaN                    1735  \n423            NaN                    2343  \n..             ...                     ...  \n143           14.0                    2424  \n144           14.0                    1505  \n174           14.0                    2387  \n204           15.0                    1544  \n205           15.0                    1627  \n\n[100 rows x 17 columns]",
      "text/html": "<div>\n<style scoped>\n    .dataframe tbody tr th:only-of-type {\n        vertical-align: middle;\n    }\n\n    .dataframe tbody tr th {\n        vertical-align: top;\n    }\n\n    .dataframe thead th {\n        text-align: right;\n    }\n</style>\n<table border=\"1\" class=\"dataframe\">\n  <thead>\n    <tr style=\"text-align: right;\">\n      <th></th>\n      <th>kinuy_mishari</th>\n      <th>shnat_yitzur</th>\n      <th>merkav</th>\n      <th>nefah_manoa</th>\n      <th>mishkal_kolel</th>\n      <th>gova</th>\n      <th>mispar_dlatot</th>\n      <th>koah_sus</th>\n      <th>mispar_moshavim</th>\n      <th>sug_degem</th>\n      <th>tozeret_nm</th>\n      <th>degem_nm</th>\n      <th>kvuzat_agra_cd</th>\n      <th>hanaa_nm</th>\n      <th>technologiat_hanaa_nm</th>\n      <th>kvutzat_zihum</th>\n      <th>mispar_rechavim_pailim</th>\n    </tr>\n  </thead>\n  <tbody>\n    <tr>\n      <th>412</th>\n      <td>COROLLA</td>\n      <td>2001</td>\n      <td>סדאן</td>\n      <td>1598</td>\n      <td>1170</td>\n      <td>NaN</td>\n      <td>4</td>\n      <td>110</td>\n      <td>5</td>\n      <td>P</td>\n      <td>טויוטה יפן</td>\n      <td>ZZE112L-AEPNKW</td>\n      <td>3</td>\n      <td>4X2</td>\n      <td>הנעה רגילה</td>\n      <td>NaN</td>\n      <td>1542</td>\n    </tr>\n    <tr>\n      <th>503</th>\n      <td>COROLLA</td>\n      <td>2003</td>\n      <td>סדאן</td>\n      <td>1598</td>\n      <td>1670</td>\n      <td>NaN</td>\n      <td>4</td>\n      <td>110</td>\n      <td>5</td>\n      <td>P</td>\n      <td>טויוטה טורקיה</td>\n      <td>ZZE121L-DEPNKW</td>\n      <td>3</td>\n      <td>4X2</td>\n      <td>הנעה רגילה</td>\n      <td>NaN</td>\n      <td>2654</td>\n    </tr>\n    <tr>\n      <th>504</th>\n      <td>COROLLA</td>\n      <td>2004</td>\n      <td>סדאן</td>\n      <td>1598</td>\n      <td>1670</td>\n      <td>NaN</td>\n      <td>4</td>\n      <td>110</td>\n      <td>5</td>\n      <td>P</td>\n      <td>טויוטה טורקיה</td>\n      <td>ZZE121L-DEPNKW</td>\n      <td>3</td>\n      <td>4X2</td>\n      <td>הנעה רגילה</td>\n      <td>NaN</td>\n      <td>2681</td>\n    </tr>\n    <tr>\n      <th>517</th>\n      <td>COROLLA</td>\n      <td>2004</td>\n      <td>סדאן</td>\n      <td>1598</td>\n      <td>1670</td>\n      <td>NaN</td>\n      <td>4</td>\n      <td>110</td>\n      <td>5</td>\n      <td>P</td>\n      <td>טויוטה טורקיה</td>\n      <td>ZZE121L-DEPDKW</td>\n      <td>2</td>\n      <td>4X2</td>\n      <td>הנעה רגילה</td>\n      <td>NaN</td>\n      <td>1735</td>\n    </tr>\n    <tr>\n      <th>423</th>\n      <td>COROLLA</td>\n      <td>2005</td>\n      <td>סדאן</td>\n      <td>1598</td>\n      <td>1670</td>\n      <td>NaN</td>\n      <td>4</td>\n      <td>110</td>\n      <td>5</td>\n      <td>P</td>\n      <td>טויוטה יפן</td>\n      <td>ZZE121L-AEPNKW</td>\n      <td>3</td>\n      <td>4X2</td>\n      <td>הנעה רגילה</td>\n      <td>NaN</td>\n      <td>2343</td>\n    </tr>\n    <tr>\n      <th>...</th>\n      <td>...</td>\n      <td>...</td>\n      <td>...</td>\n      <td>...</td>\n      <td>...</td>\n      <td>...</td>\n      <td>...</td>\n      <td>...</td>\n      <td>...</td>\n      <td>...</td>\n      <td>...</td>\n      <td>...</td>\n      <td>...</td>\n      <td>...</td>\n      <td>...</td>\n      <td>...</td>\n      <td>...</td>\n    </tr>\n    <tr>\n      <th>143</th>\n      <td>SPORTAGE</td>\n      <td>2019</td>\n      <td>פנאי-שטח</td>\n      <td>1598</td>\n      <td>2145</td>\n      <td>NaN</td>\n      <td>5</td>\n      <td>136</td>\n      <td>5</td>\n      <td>P</td>\n      <td>קיה סלובקיה</td>\n      <td>PG812G</td>\n      <td>4</td>\n      <td>4X2</td>\n      <td>הנעה רגילה</td>\n      <td>14.0</td>\n      <td>2424</td>\n    </tr>\n    <tr>\n      <th>144</th>\n      <td>SPORTAGE</td>\n      <td>2020</td>\n      <td>פנאי-שטח</td>\n      <td>1598</td>\n      <td>2145</td>\n      <td>NaN</td>\n      <td>5</td>\n      <td>136</td>\n      <td>5</td>\n      <td>P</td>\n      <td>קיה סלובקיה</td>\n      <td>PG812G</td>\n      <td>4</td>\n      <td>4X2</td>\n      <td>הנעה רגילה</td>\n      <td>14.0</td>\n      <td>1505</td>\n    </tr>\n    <tr>\n      <th>174</th>\n      <td>SPORTAGE</td>\n      <td>2021</td>\n      <td>פנאי-שטח</td>\n      <td>1598</td>\n      <td>2145</td>\n      <td>NaN</td>\n      <td>5</td>\n      <td>136</td>\n      <td>5</td>\n      <td>P</td>\n      <td>קיה סלובקיה</td>\n      <td>PG812G</td>\n      <td>4</td>\n      <td>4X2</td>\n      <td>הנעה רגילה</td>\n      <td>14.0</td>\n      <td>2387</td>\n    </tr>\n    <tr>\n      <th>204</th>\n      <td>SPORTAGE</td>\n      <td>2022</td>\n      <td>פנאי-שטח</td>\n      <td>1999</td>\n      <td>2030</td>\n      <td>NaN</td>\n      <td>5</td>\n      <td>156</td>\n      <td>5</td>\n      <td>P</td>\n      <td>קיה סלובקיה</td>\n      <td>PU81DB</td>\n      <td>4</td>\n      <td>4X2</td>\n      <td>הנעה רגילה</td>\n      <td>15.0</td>\n      <td>1544</td>\n    </tr>\n    <tr>\n      <th>205</th>\n      <td>SPORTAGE</td>\n      <td>2023</td>\n      <td>פנאי-שטח</td>\n      <td>1999</td>\n      <td>2030</td>\n      <td>NaN</td>\n      <td>5</td>\n      <td>156</td>\n      <td>5</td>\n      <td>P</td>\n      <td>קיה סלובקיה</td>\n      <td>PU81DB</td>\n      <td>4</td>\n      <td>4X2</td>\n      <td>הנעה רגילה</td>\n      <td>15.0</td>\n      <td>1627</td>\n    </tr>\n  </tbody>\n</table>\n<p>100 rows × 17 columns</p>\n</div>"
     },
     "execution_count": 98,
     "metadata": {},
     "output_type": "execute_result"
    }
   ],
   "source": [
    "df.merge(how='inner', right=high_var_models, on=['kinuy_mishari', 'merkav']).query('mispar_rechavim_pailim > 1500').sort_values(by=['kinuy_mishari', 'merkav', 'shnat_yitzur'])[cols]"
   ],
   "metadata": {
    "collapsed": false,
    "ExecuteTime": {
     "end_time": "2024-01-10T06:45:25.412667Z",
     "start_time": "2024-01-10T06:45:25.353238Z"
    }
   },
   "id": "c0f32d49ddd89017"
  },
  {
   "cell_type": "code",
   "execution_count": 78,
   "outputs": [
    {
     "data": {
      "text/plain": "      kinuy_mishari shnat_yitzur    merkav  nefah_manoa  mishkal_kolel  gova  \\\n24565        TUCSON         2016  פנאי-שטח         1999           2060   NaN   \n24566        TUCSON         2017  פנאי-שטח         1999           2060   NaN   \n24568        TUCSON         2016  פנאי-שטח         1999           2060   NaN   \n24569        TUCSON         2017  פנאי-שטח         1999           2060   NaN   \n24588        TUCSON         2018  פנאי-שטח         1999           2060   NaN   \n24621        TUCSON         2019  פנאי-שטח         1999           2080   NaN   \n24658        TUCSON         2022  פנאי-שטח         1598           2100   NaN   \n\n       mispar_dlatot  koah_sus  mispar_moshavim sug_degem    tozeret_nm  \\\n24565              5       155                5         P  יונדאי צ'כיה   \n24566              5       155                5         P  יונדאי צ'כיה   \n24568              5       155                5         P  יונדאי צ'כיה   \n24569              5       155                5         P  יונדאי צ'כיה   \n24588              5       155                5         P  יונדאי צ'כיה   \n24621              5       155                5         P  יונדאי צ'כיה   \n24658              5       180                5         P  יונדאי צ'כיה   \n\n      degem_nm  kvuzat_agra_cd hanaa_nm technologiat_hanaa_nm  kvutzat_zihum  \\\n24565    J3813               5      4X2            הנעה רגילה           15.0   \n24566    J3813               5      4X2            הנעה רגילה           15.0   \n24568    J3813               4      4X2            הנעה רגילה           15.0   \n24569    J3813               4      4X2            הנעה רגילה           15.0   \n24588    J3813               4      4X2            הנעה רגילה           15.0   \n24621    J3813               4      4X2            הנעה רגילה           15.0   \n24658    JB81B               5      4X2            הנעה רגילה           14.0   \n\n       mispar_rechavim_pailim  \n24565                    2114  \n24566                    3408  \n24568                    2008  \n24569                    2487  \n24588                    2662  \n24621                    2621  \n24658                    2028  ",
      "text/html": "<div>\n<style scoped>\n    .dataframe tbody tr th:only-of-type {\n        vertical-align: middle;\n    }\n\n    .dataframe tbody tr th {\n        vertical-align: top;\n    }\n\n    .dataframe thead th {\n        text-align: right;\n    }\n</style>\n<table border=\"1\" class=\"dataframe\">\n  <thead>\n    <tr style=\"text-align: right;\">\n      <th></th>\n      <th>kinuy_mishari</th>\n      <th>shnat_yitzur</th>\n      <th>merkav</th>\n      <th>nefah_manoa</th>\n      <th>mishkal_kolel</th>\n      <th>gova</th>\n      <th>mispar_dlatot</th>\n      <th>koah_sus</th>\n      <th>mispar_moshavim</th>\n      <th>sug_degem</th>\n      <th>tozeret_nm</th>\n      <th>degem_nm</th>\n      <th>kvuzat_agra_cd</th>\n      <th>hanaa_nm</th>\n      <th>technologiat_hanaa_nm</th>\n      <th>kvutzat_zihum</th>\n      <th>mispar_rechavim_pailim</th>\n    </tr>\n  </thead>\n  <tbody>\n    <tr>\n      <th>24565</th>\n      <td>TUCSON</td>\n      <td>2016</td>\n      <td>פנאי-שטח</td>\n      <td>1999</td>\n      <td>2060</td>\n      <td>NaN</td>\n      <td>5</td>\n      <td>155</td>\n      <td>5</td>\n      <td>P</td>\n      <td>יונדאי צ'כיה</td>\n      <td>J3813</td>\n      <td>5</td>\n      <td>4X2</td>\n      <td>הנעה רגילה</td>\n      <td>15.0</td>\n      <td>2114</td>\n    </tr>\n    <tr>\n      <th>24566</th>\n      <td>TUCSON</td>\n      <td>2017</td>\n      <td>פנאי-שטח</td>\n      <td>1999</td>\n      <td>2060</td>\n      <td>NaN</td>\n      <td>5</td>\n      <td>155</td>\n      <td>5</td>\n      <td>P</td>\n      <td>יונדאי צ'כיה</td>\n      <td>J3813</td>\n      <td>5</td>\n      <td>4X2</td>\n      <td>הנעה רגילה</td>\n      <td>15.0</td>\n      <td>3408</td>\n    </tr>\n    <tr>\n      <th>24568</th>\n      <td>TUCSON</td>\n      <td>2016</td>\n      <td>פנאי-שטח</td>\n      <td>1999</td>\n      <td>2060</td>\n      <td>NaN</td>\n      <td>5</td>\n      <td>155</td>\n      <td>5</td>\n      <td>P</td>\n      <td>יונדאי צ'כיה</td>\n      <td>J3813</td>\n      <td>4</td>\n      <td>4X2</td>\n      <td>הנעה רגילה</td>\n      <td>15.0</td>\n      <td>2008</td>\n    </tr>\n    <tr>\n      <th>24569</th>\n      <td>TUCSON</td>\n      <td>2017</td>\n      <td>פנאי-שטח</td>\n      <td>1999</td>\n      <td>2060</td>\n      <td>NaN</td>\n      <td>5</td>\n      <td>155</td>\n      <td>5</td>\n      <td>P</td>\n      <td>יונדאי צ'כיה</td>\n      <td>J3813</td>\n      <td>4</td>\n      <td>4X2</td>\n      <td>הנעה רגילה</td>\n      <td>15.0</td>\n      <td>2487</td>\n    </tr>\n    <tr>\n      <th>24588</th>\n      <td>TUCSON</td>\n      <td>2018</td>\n      <td>פנאי-שטח</td>\n      <td>1999</td>\n      <td>2060</td>\n      <td>NaN</td>\n      <td>5</td>\n      <td>155</td>\n      <td>5</td>\n      <td>P</td>\n      <td>יונדאי צ'כיה</td>\n      <td>J3813</td>\n      <td>4</td>\n      <td>4X2</td>\n      <td>הנעה רגילה</td>\n      <td>15.0</td>\n      <td>2662</td>\n    </tr>\n    <tr>\n      <th>24621</th>\n      <td>TUCSON</td>\n      <td>2019</td>\n      <td>פנאי-שטח</td>\n      <td>1999</td>\n      <td>2080</td>\n      <td>NaN</td>\n      <td>5</td>\n      <td>155</td>\n      <td>5</td>\n      <td>P</td>\n      <td>יונדאי צ'כיה</td>\n      <td>J3813</td>\n      <td>4</td>\n      <td>4X2</td>\n      <td>הנעה רגילה</td>\n      <td>15.0</td>\n      <td>2621</td>\n    </tr>\n    <tr>\n      <th>24658</th>\n      <td>TUCSON</td>\n      <td>2022</td>\n      <td>פנאי-שטח</td>\n      <td>1598</td>\n      <td>2100</td>\n      <td>NaN</td>\n      <td>5</td>\n      <td>180</td>\n      <td>5</td>\n      <td>P</td>\n      <td>יונדאי צ'כיה</td>\n      <td>JB81B</td>\n      <td>5</td>\n      <td>4X2</td>\n      <td>הנעה רגילה</td>\n      <td>14.0</td>\n      <td>2028</td>\n    </tr>\n  </tbody>\n</table>\n</div>"
     },
     "execution_count": 78,
     "metadata": {},
     "output_type": "execute_result"
    }
   ],
   "source": [
    "kinuy = 'MAZDA 3'\n",
    "merkav = 'סדאן'\n",
    "kinuy = 'SPORTAGE'\n",
    "merkav = 'פנאי-שטח'\n",
    "kinuy = 'COROLLA'\n",
    "kinuy = 'TUCSON'\n",
    "df.query(\"kinuy_mishari == @kinuy and merkav == @merkav and mispar_rechavim_pailim > 2000\")[cols]"
   ],
   "metadata": {
    "collapsed": false,
    "ExecuteTime": {
     "end_time": "2024-01-10T06:33:02.213002Z",
     "start_time": "2024-01-10T06:33:02.166107Z"
    }
   },
   "id": "c852c36b92d9e685"
  },
  {
   "cell_type": "code",
   "execution_count": null,
   "outputs": [],
   "source": [],
   "metadata": {
    "collapsed": false
   },
   "id": "3c2e287a83b658be"
  }
 ],
 "metadata": {
  "kernelspec": {
   "display_name": "Python 3",
   "language": "python",
   "name": "python3"
  },
  "language_info": {
   "codemirror_mode": {
    "name": "ipython",
    "version": 2
   },
   "file_extension": ".py",
   "mimetype": "text/x-python",
   "name": "python",
   "nbconvert_exporter": "python",
   "pygments_lexer": "ipython2",
   "version": "2.7.6"
  }
 },
 "nbformat": 4,
 "nbformat_minor": 5
}
