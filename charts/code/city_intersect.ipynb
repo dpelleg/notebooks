{
 "cells": [
  {
   "cell_type": "code",
   "execution_count": 3,
   "id": "51644329",
   "metadata": {},
   "outputs": [],
   "source": [
    "import json\n",
    "\n",
    "datapath='data/'\n",
    "secret_file = '../secrets/gcloud.json'\n",
    "\n",
    "with open(secret_file) as json_file:\n",
    "    secrets = json.load(json_file)\n",
    "    api_key=secrets['api_key']"
   ]
  },
  {
   "cell_type": "code",
   "execution_count": 9,
   "id": "b64e6b13",
   "metadata": {},
   "outputs": [
    {
     "name": "stdout",
     "output_type": "stream",
     "text": [
      "Destination coordinates (latitude, longitude): 46.37427295294397 9.44048507435125\n"
     ]
    }
   ],
   "source": [
    "import googlemaps\n",
    "import math\n",
    "\n",
    "def get_city_coordinates(api_key, city):\n",
    "    gmaps = googlemaps.Client(key=api_key)\n",
    "    geocode_result = gmaps.geocode(city)\n",
    "\n",
    "    if len(geocode_result) > 0:\n",
    "        location = geocode_result[0]['geometry']['location']\n",
    "        return location['lat'], location['lng']\n",
    "    else:\n",
    "        return None\n",
    "\n",
    "def calculate_destination_coordinates(api_key, city1, distance1, city2, distance2):\n",
    "    earth_radius_km = 6371.0\n",
    "\n",
    "    # Get the coordinates of the two cities\n",
    "    city1_lat, city1_lng = get_city_coordinates(api_key, city1)\n",
    "    city2_lat, city2_lng = get_city_coordinates(api_key, city2)\n",
    "\n",
    "    if city1_lat is None or city1_lng is None or city2_lat is None or city2_lng is None:\n",
    "        return None\n",
    "\n",
    "    # Convert distances to radians\n",
    "    distance1_rad = distance1 / earth_radius_km\n",
    "    distance2_rad = distance2 / earth_radius_km\n",
    "\n",
    "    # Calculate the coordinates of the destination location\n",
    "    delta_lng = math.radians(city2_lng - city1_lng)\n",
    "    A = math.sin(distance1_rad) ** 2 + math.cos(math.radians(city1_lat)) * math.cos(math.radians(city2_lat)) * math.sin(delta_lng / 2) ** 2\n",
    "    C = 2 * math.atan2(math.sqrt(A), math.sqrt(1 - A))\n",
    "\n",
    "    destination_lat = math.degrees(math.asin(math.sin(math.radians(city1_lat)) * math.cos(distance1_rad) + math.cos(math.radians(city1_lat)) * math.sin(distance1_rad) * math.cos(C)))\n",
    "    destination_lng = city1_lng + math.degrees(math.atan2(math.sin(delta_lng) * math.sin(distance1_rad) * math.cos(math.radians(city1_lat)), math.cos(distance1_rad) - math.sin(math.radians(city1_lat)) * math.sin(math.radians(destination_lat))))\n",
    "\n",
    "    return destination_lat, destination_lng\n",
    "\n",
    "if __name__ == \"__main__\":\n",
    "    api_key = api_key\n",
    "    city1 = \"Carrare, Italy\"\n",
    "    distance1 = 259  # distance in km from CityA\n",
    "    #city2 = \"Pardess Hana, Israel\"\n",
    "    #distance2 = 2739  # distance in km from CityB\n",
    "    city2 = \"Murcia, Spain\"\n",
    "    distance2 = 927  # distance in km from CityB\n",
    "    #city2 = \"Marblehead, Massachusetts\"\n",
    "    #distance2 = 6079  # distance in km from CityB\n",
    "    \n",
    "\n",
    "    destination_lat, destination_lng = calculate_destination_coordinates(api_key, city1, distance1, city2, distance2)\n",
    "    print(\"Destination coordinates (latitude, longitude):\", destination_lat, destination_lng)\n"
   ]
  },
  {
   "cell_type": "code",
   "execution_count": 12,
   "id": "87876576",
   "metadata": {},
   "outputs": [
    {
     "name": "stdout",
     "output_type": "stream",
     "text": [
      "Lat/Lon Pair 1: (41.61212160591874, -74.006)\n",
      "Lat/Lon Pair 2: (32.25355678816254, -118.2437)\n"
     ]
    }
   ],
   "source": [
    "from geopy.distance import distance\n",
    "import math\n",
    "\n",
    "def calculate_destination_coordinates(lat1, lon1, distance_km1, lat2, lon2, distance_km2):\n",
    "    # Earth's radius in kilometers\n",
    "    earth_radius_km = 6371.0\n",
    "\n",
    "    # Convert distances to radians\n",
    "    distance_rad1 = distance_km1 / earth_radius_km\n",
    "    distance_rad2 = distance_km2 / earth_radius_km\n",
    "\n",
    "    # Convert latitudes and longitudes to radians\n",
    "    lat1_rad = math.radians(lat1)\n",
    "    lon1_rad = math.radians(lon1)\n",
    "    lat2_rad = math.radians(lat2)\n",
    "    lon2_rad = math.radians(lon2)\n",
    "\n",
    "    # Calculate the two possible lat/lon pairs using the haversine formula\n",
    "    lat_dest1 = math.asin(math.sin(lat1_rad) * math.cos(distance_rad1) + math.cos(lat1_rad) * math.sin(distance_rad1) * math.cos(0))\n",
    "    lon_dest1 = lon1_rad + math.atan2(math.sin(0) * math.sin(distance_rad1) * math.cos(lat1_rad),\n",
    "                                       math.cos(distance_rad1) - math.sin(lat1_rad) * math.sin(lat_dest1))\n",
    "\n",
    "    lat_dest2 = math.asin(math.sin(lat2_rad) * math.cos(distance_rad2) + math.cos(lat2_rad) * math.sin(distance_rad2) * math.cos(math.pi))\n",
    "    lon_dest2 = lon2_rad + math.atan2(math.sin(math.pi) * math.sin(distance_rad2) * math.cos(lat2_rad),\n",
    "                                       math.cos(distance_rad2) - math.sin(lat2_rad) * math.sin(lat_dest2))\n",
    "\n",
    "    # Convert back to degrees\n",
    "    lat_dest1 = math.degrees(lat_dest1)\n",
    "    lon_dest1 = math.degrees(lon_dest1)\n",
    "    lat_dest2 = math.degrees(lat_dest2)\n",
    "    lon_dest2 = math.degrees(lon_dest2)\n",
    "\n",
    "    return (lat_dest1, lon_dest1), (lat_dest2, lon_dest2)\n",
    "\n",
    "# Example usage:\n",
    "city1_lat, city1_lon = 40.7128, -74.0060  # Latitude and longitude of City 1 (e.g., New York City)\n",
    "city2_lat, city2_lon = 34.0522, -118.2437  # Latitude and longitude of City 2 (e.g., Los Angeles)\n",
    "distance1 = 100  # km\n",
    "distance2 = 200  # km\n",
    "\n",
    "lat_lon_pair_1, lat_lon_pair_2 = calculate_destination_coordinates(city1_lat, city1_lon, distance1, city2_lat, city2_lon, distance2)\n",
    "print(f\"Lat/Lon Pair 1: {lat_lon_pair_1}\")\n",
    "print(f\"Lat/Lon Pair 2: {lat_lon_pair_2}\")\n"
   ]
  },
  {
   "cell_type": "code",
   "execution_count": 15,
   "id": "687e44ec",
   "metadata": {},
   "outputs": [
    {
     "name": "stdout",
     "output_type": "stream",
     "text": [
      "Lat/Lon Pair 1: (57.10522158611401, 34.9742001)\n",
      "Lat/Lon Pair 2: (29.655528613133377, -1.130654399999999)\n"
     ]
    }
   ],
   "source": [
    "from geopy.geocoders import GoogleV3\n",
    "import math\n",
    "\n",
    "def find_coordinates_at_distances(city1_name, city2_name, distance1_km, distance2_km):\n",
    "    # Initialize Google Maps API client\n",
    "    geolocator = GoogleV3(api_key=api_key)  # Replace 'YOUR_GOOGLE_MAPS_API_KEY' with your API key\n",
    "\n",
    "    # Find the lat/lon of the two cities\n",
    "    location1 = geolocator.geocode(city1_name)\n",
    "    location2 = geolocator.geocode(city2_name)\n",
    "\n",
    "    # Check if locations are found\n",
    "    if not location1:\n",
    "        raise ValueError(f\"Location for {city1_name} not found.\")\n",
    "    if not location2:\n",
    "        raise ValueError(f\"Location for {city2_name} not found.\")\n",
    "\n",
    "    city1_lat, city1_lon = location1.latitude, location1.longitude\n",
    "    city2_lat, city2_lon = location2.latitude, location2.longitude\n",
    "\n",
    "    # Call the calculate_destination_coordinates function with the obtained coordinates\n",
    "    lat_lon_pair_1, lat_lon_pair_2 = calculate_destination_coordinates(city1_lat, city1_lon, distance1_km, city2_lat, city2_lon, distance2_km)\n",
    "    return lat_lon_pair_1, lat_lon_pair_2\n",
    "\n",
    "# The calculate_destination_coordinates function as defined earlier\n",
    "\n",
    "# Example usage:\n",
    "city1_name = \"Carrare, Italy\"\n",
    "city2_name = \"Murcia, Spain\"\n",
    "distance1_km = 259  # km\n",
    "distance2_km = 927  # km\n",
    "city1_name = 'Pardess Hana, Israel'\n",
    "distance1_km = 2739\n",
    "\n",
    "lat_lon_pair_1, lat_lon_pair_2 = find_coordinates_at_distances(city1_name, city2_name, distance1_km, distance2_km)\n",
    "print(f\"Lat/Lon Pair 1: {lat_lon_pair_1}\")\n",
    "print(f\"Lat/Lon Pair 2: {lat_lon_pair_2}\")\n"
   ]
  }
 ],
 "metadata": {
  "kernelspec": {
   "display_name": "Python 3 (ipykernel)",
   "language": "python",
   "name": "python3"
  },
  "language_info": {
   "codemirror_mode": {
    "name": "ipython",
    "version": 3
   },
   "file_extension": ".py",
   "mimetype": "text/x-python",
   "name": "python",
   "nbconvert_exporter": "python",
   "pygments_lexer": "ipython3",
   "version": "3.8.13"
  }
 },
 "nbformat": 4,
 "nbformat_minor": 5
}
