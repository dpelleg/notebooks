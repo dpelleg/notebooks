{
 "cells": [
  {
   "cell_type": "code",
   "execution_count": null,
   "id": "6e8ec8b5",
   "metadata": {},
   "outputs": [],
   "source": [
    "import pandas as pd\n",
    "import seaborn as sns\n",
    "import matplotlib.pyplot as plt\n",
    "import matplotlib.dates as mdates"
   ]
  },
  {
   "cell_type": "code",
   "execution_count": null,
   "id": "17ef4523",
   "metadata": {},
   "outputs": [],
   "source": [
    "df = pd.read_csv('../data/interest-20230615.csv')"
   ]
  },
  {
   "cell_type": "code",
   "execution_count": null,
   "id": "ef9a264a",
   "metadata": {},
   "outputs": [],
   "source": [
    "df['date'] = pd.to_datetime(df['תאריך'], infer_datetime_format=True)"
   ]
  },
  {
   "cell_type": "code",
   "execution_count": null,
   "id": "2432d551",
   "metadata": {},
   "outputs": [],
   "source": [
    "dt = 'תאריך'\n",
    "it = 'ריבית'\n",
    "def rev(s):\n",
    "    return s[::-1]"
   ]
  },
  {
   "cell_type": "code",
   "execution_count": null,
   "id": "53dcd964",
   "metadata": {},
   "outputs": [],
   "source": [
    "fig, ax = plt.subplots()\n",
    "sns.barplot(x=it, y=dt, data=df, color='grey', orient='h', ax=ax)\n",
    "ax.set_xlabel(rev(it))\n",
    "ax.set_ylabel(rev(dt))\n",
    "#plt.title(f'Bar Chart: {rev(it)} vs. {rev(dt)}')\n",
    "#date_format = mdates.DateFormatter('%d-%m-%Y')\n",
    "#plt.gca().yaxis.set_major_formatter(date_format)\n",
    "#plt.xticks(rotation=45)\n",
    "ax.invert_xaxis()\n",
    "ax.set_aspect(0.6)\n",
    "plt.show()\n"
   ]
  },
  {
   "cell_type": "code",
   "execution_count": null,
   "id": "539cad47",
   "metadata": {},
   "outputs": [],
   "source": [
    "fig, ax = plt.subplots()\n",
    "sns.barplot(x=it, y=dt, data=df, color='grey', orient='h', ax=ax)\n",
    "ax.set_xlabel(rev(it))\n",
    "ax.set_ylabel(rev(dt))\n",
    "#plt.title(f'Bar Chart: {rev(it)} vs. {rev(dt)}')\n",
    "#date_format = mdates.DateFormatter('%d-%m-%Y')\n",
    "#plt.gca().yaxis.set_major_formatter(date_format)\n",
    "#plt.xticks(rotation=45)\n",
    "#ax.invert_xaxis()\n",
    "ax.set_aspect(0.6)\n",
    "plt.show()\n"
   ]
  },
  {
   "cell_type": "code",
   "execution_count": null,
   "id": "9617ed26",
   "metadata": {},
   "outputs": [],
   "source": [
    "fig, ax = plt.subplots()\n",
    "sns.barplot(x=it, y=dt, data=df, color='grey', orient='h', ax=ax)\n",
    "ax.set_xlabel(rev(it))\n",
    "ax.set_ylabel(rev(dt))\n",
    "#plt.title(f'Bar Chart: {rev(it)} vs. {rev(dt)}')\n",
    "#date_format = mdates.DateFormatter('%d-%m-%Y')\n",
    "#plt.gca().yaxis.set_major_formatter(date_format)\n",
    "#plt.xticks(rotation=45)\n",
    "ax.invert_yaxis()\n",
    "ax.set_aspect(0.6)\n",
    "plt.show()\n"
   ]
  },
  {
   "cell_type": "code",
   "execution_count": null,
   "id": "eb0c1e73",
   "metadata": {},
   "outputs": [],
   "source": [
    "fig, ax = plt.subplots()\n",
    "sns.barplot(x=it, y=dt, data=df, color='grey', orient='h', ax=ax)\n",
    "ax.set_xlabel(rev(it))\n",
    "ax.set_ylabel(rev(dt))\n",
    "ax.invert_xaxis()\n",
    "ax.set_aspect(0.6)\n",
    "ax.set_xlim(ax.get_xlim()[0], 0.75)\n",
    "plt.show()\n"
   ]
  },
  {
   "cell_type": "code",
   "execution_count": null,
   "id": "5abab2e8",
   "metadata": {},
   "outputs": [],
   "source": [
    "sns.lineplot(data=df, x=dt, y=it, linewidth=3)\n",
    "\n",
    "plt.xlabel(rev(dt))\n",
    "plt.ylabel(rev(it))\n",
    "#plt.title('Line Chart: it vs. dt')\n",
    "\n",
    "plt.xticks(rotation=45)\n",
    "\n",
    "plt.show()\n"
   ]
  },
  {
   "cell_type": "code",
   "execution_count": null,
   "id": "c507473e",
   "metadata": {
    "scrolled": false
   },
   "outputs": [],
   "source": [
    "sns.lineplot(data=df, x='date', y=it, linewidth=3)\n",
    "\n",
    "plt.xlabel(rev(dt))\n",
    "plt.ylabel(rev(it))\n",
    "#plt.title('Line Chart: it vs. dt')\n",
    "\n",
    "plt.xticks(rotation=45)\n",
    "\n",
    "plt.show()\n"
   ]
  },
  {
   "cell_type": "code",
   "execution_count": null,
   "id": "3f608151",
   "metadata": {},
   "outputs": [],
   "source": [
    "foo=pd.DataFrame(data={ dt : '1/1/2028', 'date' : pd.to_datetime('1/1/2028'), it: 5}, index=[len(df)])\n",
    "df2=pd.concat([df, foo], axis=0)"
   ]
  },
  {
   "cell_type": "code",
   "execution_count": null,
   "id": "6d9af04b",
   "metadata": {},
   "outputs": [],
   "source": [
    "fig, axes = plt.subplots(2, 1, figsize=(8, 8))\n",
    "\n",
    "sns.lineplot(data=df, x=dt, y=it, linewidth=3, ax=axes[0])\n",
    "\n",
    "axes[0].set_xlabel(rev(dt))\n",
    "axes[0].set_ylabel(rev(it))\n",
    "#plt.title('Line Chart: it vs. dt')\n",
    "\n",
    "axes[0].tick_params(axis='x', rotation=45)\n",
    "\n",
    "# Plot 2: Matplotlib line chart with datetime on x-axis\n",
    "axes[1].plot(df['date'], df[it], linewidth=3)\n",
    "axes[1].set_xlabel(rev(dt))\n",
    "axes[1].set_ylabel(rev(it))\n",
    "#axes[1].set_title('Line Chart: it vs. dt2')\n",
    "\n",
    "\n",
    "plt.tight_layout()"
   ]
  },
  {
   "cell_type": "code",
   "execution_count": null,
   "id": "e0b32f52",
   "metadata": {
    "scrolled": true
   },
   "outputs": [],
   "source": [
    "df['month'] = df['date'].apply(lambda d : d.replace(day=1))"
   ]
  },
  {
   "cell_type": "code",
   "execution_count": null,
   "id": "a6895859",
   "metadata": {},
   "outputs": [],
   "source": [
    "df3 = pd.DataFrame(index=df['month'], data={it: df[it].values})"
   ]
  },
  {
   "cell_type": "code",
   "execution_count": null,
   "id": "cc6ea09f",
   "metadata": {},
   "outputs": [],
   "source": [
    "df4 = df3.resample('1M', label='left', closed='left').ffill()\n",
    "df4['date'] = df4.index.values\n",
    "df4['fmt_date'] = df4['date'].dt.strftime('%m-%Y')"
   ]
  },
  {
   "cell_type": "code",
   "execution_count": null,
   "id": "72bddf95",
   "metadata": {},
   "outputs": [],
   "source": [
    "import seaborn as sns\n",
    "import matplotlib.pyplot as plt\n",
    "\n",
    "# Set the figure size\n",
    "#plt.figure(figsize=(10, 6))\n",
    "\n",
    "# Create the bar chart using Seaborn\n",
    "sns.barplot(x='date', y=it, data=df4, color='grey')\n",
    "\n",
    "plt.xlabel(rev(dt))\n",
    "plt.ylabel(rev(it))\n",
    "\n",
    "# Set x-tick labels as 'fmt_date'\n",
    "plt.xticks(rotation=45)\n",
    "plt.gca().set_xticklabels(df4['fmt_date'])\n",
    "\n",
    "# Reduce the space between adjacent bars\n",
    "#plt.tight_layout()\n",
    "\n",
    "# Display the plot\n",
    "plt.show()\n"
   ]
  }
 ],
 "metadata": {
  "kernelspec": {
   "display_name": "Python 3 (ipykernel)",
   "language": "python",
   "name": "python3"
  },
  "language_info": {
   "codemirror_mode": {
    "name": "ipython",
    "version": 3
   },
   "file_extension": ".py",
   "mimetype": "text/x-python",
   "name": "python",
   "nbconvert_exporter": "python",
   "pygments_lexer": "ipython3",
   "version": "3.8.13"
  }
 },
 "nbformat": 4,
 "nbformat_minor": 5
}
