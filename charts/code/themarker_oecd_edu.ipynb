{
 "cells": [
  {
   "cell_type": "code",
   "execution_count": null,
   "metadata": {},
   "outputs": [],
   "source": [
    "import pandas as pd\n",
    "import seaborn as sns\n",
    "import matplotlib \n",
    "import matplotlib.pyplot as plt"
   ]
  },
  {
   "cell_type": "code",
   "execution_count": null,
   "metadata": {},
   "outputs": [],
   "source": [
    "df1_ = pd.read_csv('../data/oecd_education_pisaread.csv')\n",
    "df1_ = df1_.query('TIME == 2018 & SUBJECT == \"TOT\"')\n",
    "df1_['read_rank'] = df1_['Value'].rank(ascending=False, method='first')\n",
    "df_read = df1_[['LOCATION', 'read_rank']].copy()\n",
    "df_read['read_rank_rev'] = -1*df_read['read_rank']"
   ]
  },
  {
   "cell_type": "code",
   "execution_count": null,
   "metadata": {},
   "outputs": [],
   "source": [
    "df1_.query('LOCATION==\"ISR\"')"
   ]
  },
  {
   "cell_type": "code",
   "execution_count": null,
   "metadata": {},
   "outputs": [],
   "source": [
    "df2_ = pd.read_csv('../data/oecd_education_pisamath.csv')\n",
    "df2_ = df2_.query('TIME == 2018 & SUBJECT == \"TOT\"')\n",
    "df2_['math_rank'] = df2_['Value'].rank(ascending=False, method='first')\n",
    "df_math = df2_[['LOCATION', 'math_rank']].copy()\n",
    "df_math['math_rank_rev'] = -1*df_math['math_rank']"
   ]
  },
  {
   "cell_type": "code",
   "execution_count": null,
   "metadata": {
    "scrolled": true
   },
   "outputs": [],
   "source": [
    "df2_.query('LOCATION==\"ISR\"')"
   ]
  },
  {
   "cell_type": "code",
   "execution_count": null,
   "metadata": {},
   "outputs": [],
   "source": [
    "# table 4f9115fa-en from https://www.oecd-ilibrary.org/education/education-at-a-glance-2021_be9806af-en\n",
    "expenditure = pd.read_excel('../data/oecd_education_expenditure.xlsx')\n",
    "\n",
    "expenditure = expenditure.iloc[8:46, [0, 2]]\n",
    "\n",
    "expenditure.columns = ['COUNTRY', 'expenditure']\n",
    "\n",
    "# from https://gist.githubusercontent.com/radcliff/f09c0f88344a7fcef373/raw/2753c482ad091c54b1822288ad2e4811c021d8ec/wikipedia-iso-country-codes.csv\n",
    "\n",
    "codes = pd.read_csv('../data/wikipedia-iso-country-codes.csv')\n",
    "\n",
    "codes.rename(mapper = {'English short name lower case' : 'COUNTRY'}, axis = 'columns', inplace=True)\n",
    "\n",
    "expenditure = expenditure.merge(codes, on='COUNTRY', how='left').rename(axis='columns', mapper={'Alpha-3 code' : 'LOCATION'})\n",
    "expenditure\n",
    "\n",
    "expenditure = expenditure[['LOCATION', 'expenditure', 'COUNTRY']]\n",
    "expenditure['exp_bin'] = pd.qcut(expenditure['expenditure'], q=10, labels=False)\n",
    "expenditure['expenditure_rank'] = expenditure['expenditure'].rank()"
   ]
  },
  {
   "cell_type": "code",
   "execution_count": null,
   "metadata": {},
   "outputs": [],
   "source": [
    "df = expenditure.merge(df_read, on='LOCATION').merge(df_math, on='LOCATION')"
   ]
  },
  {
   "cell_type": "code",
   "execution_count": null,
   "metadata": {},
   "outputs": [],
   "source": [
    "#isr_rank = df.query('LOCATION == \"ISR\"')['exp_bin'].iloc[0]\n",
    "isr_rank = df.query('LOCATION == \"ISR\"')['expenditure_rank'].iloc[0]"
   ]
  },
  {
   "cell_type": "code",
   "execution_count": null,
   "metadata": {},
   "outputs": [],
   "source": [
    "#df2 = df.query('exp_bin == @isr_rank')\n",
    "df2 = df.query('expenditure_rank < @isr_rank + 5 and expenditure_rank > @isr_rank - 5')\n"
   ]
  },
  {
   "cell_type": "code",
   "execution_count": null,
   "metadata": {
    "scrolled": true
   },
   "outputs": [],
   "source": [
    "df2"
   ]
  },
  {
   "cell_type": "code",
   "execution_count": null,
   "metadata": {},
   "outputs": [],
   "source": [
    "df['flag'] = (df['LOCATION'] == \"ISR\")\n",
    "sizes = [x*40 for x in range(1, 11)]\n",
    "\n",
    "font = {'family' : 'normal',\n",
    "        'weight' : 'bold',\n",
    "        'size'   : 22}\n",
    "\n",
    "matplotlib.rc('font', **font)\n",
    "\n",
    "plt.rcParams[\"figure.figsize\"] = (8,8)\n",
    "\n",
    "llist = ['Israel', 'Canada', 'Finland', 'Netherlands', 'Japan', 'Estonia']\n",
    "\n",
    "def rev(s):\n",
    "    return s[::-1]"
   ]
  },
  {
   "cell_type": "code",
   "execution_count": null,
   "metadata": {},
   "outputs": [],
   "source": [
    "def scatter_text(x, y, text_column, data, xlabel, ylabel, size, hue, label_list, tick_low, tick_high, skip_xticks=False):\n",
    "    \"\"\"Scatter plot with country codes on the x y coordinates\n",
    "       Based on this answer: https://stackoverflow.com/a/54789170/2641825\"\"\"\n",
    "    # Create the scatter plot\n",
    "    p1 = sns.scatterplot(x=x, y=y, data=data, size = size, sizes=sizes, hue=hue, legend=False)\n",
    "    # Add text besides each point\n",
    "    for line in range(0,data.shape[0]):\n",
    "         txt = data[text_column][line]\n",
    "         if txt in label_list:\n",
    "            p1.text(data[x][line]+1, data[y][line], \n",
    "                    txt, horizontalalignment='left', \n",
    "                    size='small', color='black')\n",
    "    # Set title and axis labels\n",
    "    plt.xlabel(xlabel)\n",
    "    plt.ylabel(ylabel)\n",
    "    xt = plt.yticks()[0]\n",
    "    labels = len(xt)*['']\n",
    "    labels[-1] = tick_low\n",
    "    labels[0] = tick_high\n",
    "    if not skip_xticks:\n",
    "        plt.xticks(xt, labels)\n",
    "    plt.yticks(xt, labels)\n",
    "    return p1"
   ]
  },
  {
   "cell_type": "code",
   "execution_count": null,
   "metadata": {},
   "outputs": [],
   "source": [
    "scatter_text(data=df, x='read_rank', y='math_rank', size='exp_bin', hue='flag', text_column='COUNTRY', ylabel=rev('דירוג חשבון'), xlabel=rev('דירוג קריאה'), label_list = llist, tick_high=rev('מספר נמוך'), tick_low=rev('מספר גבוה'))"
   ]
  },
  {
   "cell_type": "code",
   "execution_count": null,
   "metadata": {
    "scrolled": true
   },
   "outputs": [],
   "source": [
    "scatter_text(data=df, x='read_rank_rev', y='math_rank_rev', size='exp_bin', hue='flag', text_column='COUNTRY', ylabel=rev('דירוג חשבון'), xlabel=rev('דירוג קריאה'), label_list = llist, tick_high=rev('נמוך'), tick_low=rev('גבוה'))"
   ]
  },
  {
   "cell_type": "code",
   "execution_count": null,
   "metadata": {
    "scrolled": true
   },
   "outputs": [],
   "source": [
    "plt.rcParams[\"figure.figsize\"] = (8,5)\n",
    "\n",
    "scatter_text(data=df, x='expenditure', y='math_rank_rev', size='exp_bin', hue='flag', text_column='COUNTRY', ylabel=rev('דירוג חשבון'), xlabel=rev('השקעה'), label_list = llist, tick_high=rev('נמוך'), tick_low=rev('גבוה'), skip_xticks=True)"
   ]
  },
  {
   "cell_type": "code",
   "execution_count": null,
   "metadata": {
    "scrolled": true
   },
   "outputs": [],
   "source": [
    "scatter_text(data=df, x='expenditure', y='read_rank_rev', size='exp_bin', hue='flag', text_column='COUNTRY', ylabel=rev('דירוג קריאה'), xlabel=rev('השקעה'), label_list = llist, tick_high=rev('נמוך'), tick_low=rev('גבוה'), skip_xticks=True)\n",
    "#sns.scatterplot(x='expenditure', y='math_rank_rev', data=df, size = 'exp_bin', sizes=sizes, hue='flag', legend=False)"
   ]
  },
  {
   "cell_type": "code",
   "execution_count": null,
   "metadata": {},
   "outputs": [],
   "source": [
    "expenditure.sort_values('expenditure')"
   ]
  }
 ],
 "metadata": {
  "kernelspec": {
   "display_name": "Python 3",
   "language": "python",
   "name": "python3"
  },
  "language_info": {
   "codemirror_mode": {
    "name": "ipython",
    "version": 3
   },
   "file_extension": ".py",
   "mimetype": "text/x-python",
   "name": "python",
   "nbconvert_exporter": "python",
   "pygments_lexer": "ipython3",
   "version": "3.7.3"
  }
 },
 "nbformat": 4,
 "nbformat_minor": 4
}
