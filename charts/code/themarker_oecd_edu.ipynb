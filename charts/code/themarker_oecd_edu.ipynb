{
 "cells": [
  {
   "cell_type": "code",
   "execution_count": 1,
   "metadata": {},
   "outputs": [],
   "source": [
    "import pandas as pd\n",
    "import seaborn as sns\n",
    "import matplotlib \n",
    "import matplotlib.pyplot as plt"
   ]
  },
  {
   "cell_type": "code",
   "execution_count": 2,
   "metadata": {},
   "outputs": [],
   "source": [
    "df1_ = pd.read_csv('../data/oecd_education_pisaread.csv')\n",
    "df1_ = df1_.query('TIME == 2018 & SUBJECT == \"TOT\"')\n",
    "df1_['read_rank'] = df1_['Value'].rank(ascending=False, method='first')\n",
    "df_read = df1_[['LOCATION', 'read_rank']].copy()\n",
    "df_read['read_rank_rev'] = -1*df_read['read_rank']"
   ]
  },
  {
   "cell_type": "code",
   "execution_count": 3,
   "metadata": {},
   "outputs": [
    {
     "data": {
      "text/html": [
       "<div>\n",
       "<style scoped>\n",
       "    .dataframe tbody tr th:only-of-type {\n",
       "        vertical-align: middle;\n",
       "    }\n",
       "\n",
       "    .dataframe tbody tr th {\n",
       "        vertical-align: top;\n",
       "    }\n",
       "\n",
       "    .dataframe thead th {\n",
       "        text-align: right;\n",
       "    }\n",
       "</style>\n",
       "<table border=\"1\" class=\"dataframe\">\n",
       "  <thead>\n",
       "    <tr style=\"text-align: right;\">\n",
       "      <th></th>\n",
       "      <th>LOCATION</th>\n",
       "      <th>INDICATOR</th>\n",
       "      <th>SUBJECT</th>\n",
       "      <th>MEASURE</th>\n",
       "      <th>FREQUENCY</th>\n",
       "      <th>TIME</th>\n",
       "      <th>Value</th>\n",
       "      <th>Flag Codes</th>\n",
       "      <th>read_rank</th>\n",
       "    </tr>\n",
       "  </thead>\n",
       "  <tbody>\n",
       "    <tr>\n",
       "      <th>737</th>\n",
       "      <td>ISR</td>\n",
       "      <td>PISAREAD</td>\n",
       "      <td>TOT</td>\n",
       "      <td>MEANSCORE</td>\n",
       "      <td>A</td>\n",
       "      <td>2018</td>\n",
       "      <td>470.0</td>\n",
       "      <td>NaN</td>\n",
       "      <td>32.0</td>\n",
       "    </tr>\n",
       "  </tbody>\n",
       "</table>\n",
       "</div>"
      ],
      "text/plain": [
       "    LOCATION INDICATOR SUBJECT    MEASURE FREQUENCY  TIME  Value  Flag Codes  \\\n",
       "737      ISR  PISAREAD     TOT  MEANSCORE         A  2018  470.0         NaN   \n",
       "\n",
       "     read_rank  \n",
       "737       32.0  "
      ]
     },
     "execution_count": 3,
     "metadata": {},
     "output_type": "execute_result"
    }
   ],
   "source": [
    "df1_.query('LOCATION==\"ISR\"')"
   ]
  },
  {
   "cell_type": "code",
   "execution_count": 4,
   "metadata": {},
   "outputs": [],
   "source": [
    "df2_ = pd.read_csv('../data/oecd_education_pisamath.csv')\n",
    "df2_ = df2_.query('TIME == 2018 & SUBJECT == \"TOT\"')\n",
    "df2_['math_rank'] = df2_['Value'].rank(ascending=False, method='first')\n",
    "df_math = df2_[['LOCATION', 'math_rank']].copy()\n",
    "df_math['math_rank_rev'] = -1*df_math['math_rank']"
   ]
  },
  {
   "cell_type": "code",
   "execution_count": 5,
   "metadata": {
    "scrolled": true
   },
   "outputs": [
    {
     "data": {
      "text/html": [
       "<div>\n",
       "<style scoped>\n",
       "    .dataframe tbody tr th:only-of-type {\n",
       "        vertical-align: middle;\n",
       "    }\n",
       "\n",
       "    .dataframe tbody tr th {\n",
       "        vertical-align: top;\n",
       "    }\n",
       "\n",
       "    .dataframe thead th {\n",
       "        text-align: right;\n",
       "    }\n",
       "</style>\n",
       "<table border=\"1\" class=\"dataframe\">\n",
       "  <thead>\n",
       "    <tr style=\"text-align: right;\">\n",
       "      <th></th>\n",
       "      <th>LOCATION</th>\n",
       "      <th>INDICATOR</th>\n",
       "      <th>SUBJECT</th>\n",
       "      <th>MEASURE</th>\n",
       "      <th>FREQUENCY</th>\n",
       "      <th>TIME</th>\n",
       "      <th>Value</th>\n",
       "      <th>Flag Codes</th>\n",
       "      <th>math_rank</th>\n",
       "    </tr>\n",
       "  </thead>\n",
       "  <tbody>\n",
       "    <tr>\n",
       "      <th>650</th>\n",
       "      <td>ISR</td>\n",
       "      <td>PISAMATH</td>\n",
       "      <td>TOT</td>\n",
       "      <td>MEANSCORE</td>\n",
       "      <td>A</td>\n",
       "      <td>2018</td>\n",
       "      <td>463.0</td>\n",
       "      <td>NaN</td>\n",
       "      <td>34.0</td>\n",
       "    </tr>\n",
       "  </tbody>\n",
       "</table>\n",
       "</div>"
      ],
      "text/plain": [
       "    LOCATION INDICATOR SUBJECT    MEASURE FREQUENCY  TIME  Value  Flag Codes  \\\n",
       "650      ISR  PISAMATH     TOT  MEANSCORE         A  2018  463.0         NaN   \n",
       "\n",
       "     math_rank  \n",
       "650       34.0  "
      ]
     },
     "execution_count": 5,
     "metadata": {},
     "output_type": "execute_result"
    }
   ],
   "source": [
    "df2_.query('LOCATION==\"ISR\"')"
   ]
  },
  {
   "cell_type": "code",
   "execution_count": 6,
   "metadata": {},
   "outputs": [
    {
     "ename": "TypeError",
     "evalue": "ufunc 'isnan' not supported for the input types, and the inputs could not be safely coerced to any supported types according to the casting rule ''safe''",
     "output_type": "error",
     "traceback": [
      "\u001b[0;31m---------------------------------------------------------------------------\u001b[0m",
      "\u001b[0;31mTypeError\u001b[0m                                 Traceback (most recent call last)",
      "Cell \u001b[0;32mIn [6], line 18\u001b[0m\n\u001b[1;32m     15\u001b[0m expenditure\n\u001b[1;32m     17\u001b[0m expenditure \u001b[38;5;241m=\u001b[39m expenditure[[\u001b[38;5;124m'\u001b[39m\u001b[38;5;124mLOCATION\u001b[39m\u001b[38;5;124m'\u001b[39m, \u001b[38;5;124m'\u001b[39m\u001b[38;5;124mexpenditure\u001b[39m\u001b[38;5;124m'\u001b[39m, \u001b[38;5;124m'\u001b[39m\u001b[38;5;124mCOUNTRY\u001b[39m\u001b[38;5;124m'\u001b[39m]]\n\u001b[0;32m---> 18\u001b[0m expenditure[\u001b[38;5;124m'\u001b[39m\u001b[38;5;124mexp_bin\u001b[39m\u001b[38;5;124m'\u001b[39m] \u001b[38;5;241m=\u001b[39m pd\u001b[38;5;241m.\u001b[39mqcut(expenditure[\u001b[38;5;124m'\u001b[39m\u001b[38;5;124mexpenditure\u001b[39m\u001b[38;5;124m'\u001b[39m], q\u001b[38;5;241m=\u001b[39m\u001b[38;5;241m10\u001b[39m, labels\u001b[38;5;241m=\u001b[39m\u001b[38;5;28;01mFalse\u001b[39;00m)\n\u001b[1;32m     19\u001b[0m expenditure[\u001b[38;5;124m'\u001b[39m\u001b[38;5;124mexpenditure_rank\u001b[39m\u001b[38;5;124m'\u001b[39m] \u001b[38;5;241m=\u001b[39m expenditure[\u001b[38;5;124m'\u001b[39m\u001b[38;5;124mexpenditure\u001b[39m\u001b[38;5;124m'\u001b[39m]\u001b[38;5;241m.\u001b[39mrank()\n",
      "File \u001b[0;32m~/mambaforge/envs/mlp/lib/python3.8/site-packages/pandas/core/reshape/tile.py:376\u001b[0m, in \u001b[0;36mqcut\u001b[0;34m(x, q, labels, retbins, precision, duplicates)\u001b[0m\n\u001b[1;32m    373\u001b[0m quantiles \u001b[38;5;241m=\u001b[39m np\u001b[38;5;241m.\u001b[39mlinspace(\u001b[38;5;241m0\u001b[39m, \u001b[38;5;241m1\u001b[39m, q \u001b[38;5;241m+\u001b[39m \u001b[38;5;241m1\u001b[39m) \u001b[38;5;28;01mif\u001b[39;00m is_integer(q) \u001b[38;5;28;01melse\u001b[39;00m q\n\u001b[1;32m    375\u001b[0m x_np \u001b[38;5;241m=\u001b[39m np\u001b[38;5;241m.\u001b[39masarray(x)\n\u001b[0;32m--> 376\u001b[0m x_np \u001b[38;5;241m=\u001b[39m x_np[\u001b[38;5;241m~\u001b[39m\u001b[43mnp\u001b[49m\u001b[38;5;241;43m.\u001b[39;49m\u001b[43misnan\u001b[49m\u001b[43m(\u001b[49m\u001b[43mx_np\u001b[49m\u001b[43m)\u001b[49m]\n\u001b[1;32m    377\u001b[0m bins \u001b[38;5;241m=\u001b[39m np\u001b[38;5;241m.\u001b[39mquantile(x_np, quantiles)\n\u001b[1;32m    379\u001b[0m fac, bins \u001b[38;5;241m=\u001b[39m _bins_to_cuts(\n\u001b[1;32m    380\u001b[0m     x,\n\u001b[1;32m    381\u001b[0m     bins,\n\u001b[0;32m   (...)\u001b[0m\n\u001b[1;32m    386\u001b[0m     duplicates\u001b[38;5;241m=\u001b[39mduplicates,\n\u001b[1;32m    387\u001b[0m )\n",
      "\u001b[0;31mTypeError\u001b[0m: ufunc 'isnan' not supported for the input types, and the inputs could not be safely coerced to any supported types according to the casting rule ''safe''"
     ]
    }
   ],
   "source": [
    "# table 4f9115fa-en from https://www.oecd-ilibrary.org/education/education-at-a-glance-2021_be9806af-en\n",
    "expenditure = pd.read_excel('../data/oecd_education_expenditure.xlsx')\n",
    "\n",
    "expenditure = expenditure.iloc[8:46, [0, 2]]\n",
    "\n",
    "expenditure.columns = ['COUNTRY', 'expenditure']\n",
    "\n",
    "# from https://gist.githubusercontent.com/radcliff/f09c0f88344a7fcef373/raw/2753c482ad091c54b1822288ad2e4811c021d8ec/wikipedia-iso-country-codes.csv\n",
    "\n",
    "codes = pd.read_csv('../data/wikipedia-iso-country-codes.csv')\n",
    "\n",
    "codes.rename(mapper = {'English short name lower case' : 'COUNTRY'}, axis = 'columns', inplace=True)\n",
    "\n",
    "expenditure = expenditure.merge(codes, on='COUNTRY', how='left').rename(axis='columns', mapper={'Alpha-3 code' : 'LOCATION'})\n",
    "expenditure\n",
    "\n",
    "expenditure = expenditure[['LOCATION', 'expenditure', 'COUNTRY']]\n",
    "expenditure['exp_bin'] = pd.qcut(expenditure['expenditure'], q=10, labels=False)\n",
    "expenditure['expenditure_rank'] = expenditure['expenditure'].rank()"
   ]
  },
  {
   "cell_type": "code",
   "execution_count": null,
   "metadata": {},
   "outputs": [],
   "source": [
    "df = expenditure.merge(df_read, on='LOCATION').merge(df_math, on='LOCATION')"
   ]
  },
  {
   "cell_type": "code",
   "execution_count": null,
   "metadata": {},
   "outputs": [],
   "source": [
    "#isr_rank = df.query('LOCATION == \"ISR\"')['exp_bin'].iloc[0]\n",
    "isr_rank = df.query('LOCATION == \"ISR\"')['expenditure_rank'].iloc[0]"
   ]
  },
  {
   "cell_type": "code",
   "execution_count": null,
   "metadata": {},
   "outputs": [],
   "source": [
    "#df2 = df.query('exp_bin == @isr_rank')\n",
    "df2 = df.query('expenditure_rank < @isr_rank + 5 and expenditure_rank > @isr_rank - 5')\n"
   ]
  },
  {
   "cell_type": "code",
   "execution_count": null,
   "metadata": {
    "scrolled": true
   },
   "outputs": [],
   "source": [
    "df2"
   ]
  },
  {
   "cell_type": "code",
   "execution_count": null,
   "metadata": {},
   "outputs": [],
   "source": [
    "df['flag'] = (df['LOCATION'] == \"ISR\")\n",
    "sizes = [x*40 for x in range(1, 11)]\n",
    "\n",
    "font = {'family' : 'normal',\n",
    "        'weight' : 'bold',\n",
    "        'size'   : 22}\n",
    "\n",
    "matplotlib.rc('font', **font)\n",
    "\n",
    "plt.rcParams[\"figure.figsize\"] = (8,8)\n",
    "\n",
    "llist = ['Israel', 'Canada', 'Finland', 'Netherlands', 'Japan', 'Estonia']\n",
    "\n",
    "def rev(s):\n",
    "    return s[::-1]"
   ]
  },
  {
   "cell_type": "code",
   "execution_count": null,
   "metadata": {},
   "outputs": [],
   "source": [
    "def scatter_text(x, y, text_column, data, xlabel, ylabel, size, hue, label_list, tick_low, tick_high, skip_xticks=False):\n",
    "    \"\"\"Scatter plot with country codes on the x y coordinates\n",
    "       Based on this answer: https://stackoverflow.com/a/54789170/2641825\"\"\"\n",
    "    # Create the scatter plot\n",
    "    p1 = sns.scatterplot(x=x, y=y, data=data, size = size, sizes=sizes, hue=hue, legend=False)\n",
    "    # Add text besides each point\n",
    "    for line in range(0,data.shape[0]):\n",
    "         txt = data[text_column][line]\n",
    "         if txt in label_list:\n",
    "            p1.text(data[x][line]+1, data[y][line], \n",
    "                    txt, horizontalalignment='left', \n",
    "                    size='small', color='black')\n",
    "    # Set title and axis labels\n",
    "    plt.xlabel(xlabel)\n",
    "    plt.ylabel(ylabel)\n",
    "    xt = plt.yticks()[0]\n",
    "    labels = len(xt)*['']\n",
    "    labels[-1] = tick_low\n",
    "    labels[0] = tick_high\n",
    "    if not skip_xticks:\n",
    "        plt.xticks(xt, labels)\n",
    "    plt.yticks(xt, labels)\n",
    "    return p1"
   ]
  },
  {
   "cell_type": "code",
   "execution_count": null,
   "metadata": {},
   "outputs": [],
   "source": [
    "scatter_text(data=df, x='read_rank', y='math_rank', size='exp_bin', hue='flag', text_column='COUNTRY', ylabel=rev('דירוג חשבון'), xlabel=rev('דירוג קריאה'), label_list = llist, tick_high=rev('מספר נמוך'), tick_low=rev('מספר גבוה'))"
   ]
  },
  {
   "cell_type": "code",
   "execution_count": null,
   "metadata": {
    "scrolled": true
   },
   "outputs": [],
   "source": [
    "scatter_text(data=df, x='read_rank_rev', y='math_rank_rev', size='exp_bin', hue='flag', text_column='COUNTRY', ylabel=rev('דירוג חשבון'), xlabel=rev('דירוג קריאה'), label_list = llist, tick_high=rev('נמוך'), tick_low=rev('גבוה'))"
   ]
  },
  {
   "cell_type": "code",
   "execution_count": null,
   "metadata": {
    "scrolled": true
   },
   "outputs": [],
   "source": [
    "plt.rcParams[\"figure.figsize\"] = (8,5)\n",
    "\n",
    "scatter_text(data=df, x='expenditure', y='math_rank_rev', size='exp_bin', hue='flag', text_column='COUNTRY', ylabel=rev('דירוג חשבון'), xlabel=rev('השקעה'), label_list = llist, tick_high=rev('נמוך'), tick_low=rev('גבוה'), skip_xticks=True)"
   ]
  },
  {
   "cell_type": "code",
   "execution_count": null,
   "metadata": {
    "scrolled": true
   },
   "outputs": [],
   "source": [
    "scatter_text(data=df, x='expenditure', y='read_rank_rev', size='exp_bin', hue='flag', text_column='COUNTRY', ylabel=rev('דירוג קריאה'), xlabel=rev('השקעה'), label_list = llist, tick_high=rev('נמוך'), tick_low=rev('גבוה'), skip_xticks=True)\n",
    "#sns.scatterplot(x='expenditure', y='math_rank_rev', data=df, size = 'exp_bin', sizes=sizes, hue='flag', legend=False)"
   ]
  },
  {
   "cell_type": "code",
   "execution_count": null,
   "metadata": {},
   "outputs": [],
   "source": [
    "expenditure.sort_values('expenditure')"
   ]
  }
 ],
 "metadata": {
  "kernelspec": {
   "display_name": "Python 3 (ipykernel)",
   "language": "python",
   "name": "python3"
  },
  "language_info": {
   "codemirror_mode": {
    "name": "ipython",
    "version": 3
   },
   "file_extension": ".py",
   "mimetype": "text/x-python",
   "name": "python",
   "nbconvert_exporter": "python",
   "pygments_lexer": "ipython3",
   "version": "3.8.13"
  }
 },
 "nbformat": 4,
 "nbformat_minor": 4
}
