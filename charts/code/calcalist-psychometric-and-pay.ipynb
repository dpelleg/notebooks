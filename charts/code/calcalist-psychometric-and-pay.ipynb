{
 "cells": [
  {
   "cell_type": "code",
   "execution_count": null,
   "metadata": {},
   "outputs": [],
   "source": [
    "import pandas as pd\n",
    "import seaborn as sns\n",
    "import matplotlib \n",
    "import matplotlib.pyplot as plt"
   ]
  },
  {
   "cell_type": "code",
   "execution_count": null,
   "metadata": {},
   "outputs": [],
   "source": [
    "pp = pd.DataFrame(data = { 'discipline' : 'כלכלה משפטים מתמטיקה'.split(), 'score_pub' : [618, 616, 568], 'score_priv' : [612, 602, 635], 'pay_pub': [20550, 27835, 19739], 'pay_priv': [27452, 21980, 34333]})"
   ]
  },
  {
   "cell_type": "code",
   "execution_count": null,
   "metadata": {},
   "outputs": [],
   "source": [
    "pp['pay'] = pp['pay_pub'] / pp['pay_priv']\n",
    "pp['score'] = pp['score_pub'] - pp['score_priv']"
   ]
  },
  {
   "cell_type": "code",
   "execution_count": null,
   "metadata": {},
   "outputs": [],
   "source": [
    "pp"
   ]
  },
  {
   "cell_type": "code",
   "execution_count": null,
   "metadata": {},
   "outputs": [],
   "source": [
    "sizes = [40]\n",
    "\n",
    "font = {'family' : 'normal',\n",
    "        'weight' : 'bold',\n",
    "        'size'   : 22}\n",
    "\n",
    "matplotlib.rc('font', **font)\n",
    "\n",
    "plt.rcParams[\"figure.figsize\"] = (8,8)\n",
    "\n",
    "def rev(s):\n",
    "    return s[::-1]"
   ]
  },
  {
   "cell_type": "code",
   "execution_count": null,
   "metadata": {},
   "outputs": [],
   "source": [
    "def scatter_text(x, y, text_column, data, xlabel, ylabel, size = 20, skip_center=False):\n",
    "    \"\"\"Scatter plot with country codes on the x y coordinates\n",
    "       Based on this answer: https://stackoverflow.com/a/54789170/2641825\"\"\"\n",
    "    # Create the scatter plot\n",
    "    p1 = sns.scatterplot(x=x, y=y, data=data, s=size, legend=False)\n",
    "    # Add text besides each point\n",
    "    for line in range(0,data.shape[0]):\n",
    "         txt = data[text_column][line]\n",
    "         p1.text(data[x][line]+2, data[y][line], \n",
    "                 rev(txt), horizontalalignment='left', \n",
    "                 size='small', color='black')\n",
    "    # Set title and axis labels\n",
    "    plt.xlabel(xlabel)\n",
    "    plt.ylabel(ylabel)\n",
    "    xt = plt.yticks()[0]\n",
    "    labels = len(xt)*['']\n",
    "    plt.xticks(xt, labels)\n",
    "    plt.yticks(xt, labels)\n",
    "    if not skip_center:\n",
    "        ax=plt.gca()\n",
    "        ax.set_ylim(0.5,1.5)\n",
    "        ax.set_xlim(-100,100)\n",
    "        # vertical line at zero\n",
    "        plt.plot([0, 0], [0.5, 1.5], linewidth=2, color='b')\n",
    "        # horizontal line at one\n",
    "        plt.plot([-100, 100], [1, 1], linewidth=2, color='b')\n",
    "\n",
    "    return p1"
   ]
  },
  {
   "cell_type": "code",
   "execution_count": null,
   "metadata": {
    "scrolled": true
   },
   "outputs": [],
   "source": [
    "scatter_text(data=pp, x='score', y='pay', size=150, text_column='discipline', ylabel=rev('שכר יחסי'), xlabel=rev('ציון יחסי'), skip_center=True)"
   ]
  },
  {
   "cell_type": "code",
   "execution_count": null,
   "metadata": {},
   "outputs": [],
   "source": [
    "scatter_text(data=pp, x='score', y='pay', size=150, text_column='discipline', ylabel=rev('שכר יחסי'), xlabel=rev('ציון יחסי'), skip_center=False)"
   ]
  }
 ],
 "metadata": {
  "kernelspec": {
   "display_name": "Python 3",
   "language": "python",
   "name": "python3"
  },
  "language_info": {
   "codemirror_mode": {
    "name": "ipython",
    "version": 3
   },
   "file_extension": ".py",
   "mimetype": "text/x-python",
   "name": "python",
   "nbconvert_exporter": "python",
   "pygments_lexer": "ipython3",
   "version": "3.7.3"
  }
 },
 "nbformat": 4,
 "nbformat_minor": 4
}
