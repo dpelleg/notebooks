{
 "cells": [
  {
   "cell_type": "code",
   "execution_count": null,
   "metadata": {},
   "outputs": [],
   "source": [
    "import pandas as pd\n",
    "import seaborn as sns\n",
    "import matplotlib \n",
    "import matplotlib.pyplot as plt"
   ]
  },
  {
   "cell_type": "code",
   "execution_count": null,
   "metadata": {},
   "outputs": [],
   "source": [
    "# Sources:\n",
    "# https://www.themarker.com/news/.premium-1.10772671\n",
    "# https://he.wikipedia.org/wiki/%D7%AA%D7%A7%D7%A6%D7%99%D7%91_%D7%94%D7%9E%D7%93%D7%99%D7%A0%D7%94_(%D7%99%D7%A9%D7%A8%D7%90%D7%9C)\n",
    "df = pd.DataFrame(index=list(range(2013,2021)), data = {'total' : [309544, 320262, 329533, 347689, 359719, 376721, 397471, 420000], 'rechesh' : [1.7, 1.7, 2.2, 1.7, 2.5, 2.5, 2.8, 2.8], 'sachar': [4.9, 5, 5.2, 5.1, 6.3, 6.7, 7.1, 7.6], 'gimla': [2.2, 2.6, 2.6, 2.4, 2.6, 2.7, 2.9, 3.2]})"
   ]
  },
  {
   "cell_type": "code",
   "execution_count": null,
   "metadata": {},
   "outputs": [],
   "source": [
    "df.drop(columns='total').sum(axis=1)"
   ]
  },
  {
   "cell_type": "code",
   "execution_count": null,
   "metadata": {},
   "outputs": [],
   "source": [
    "df.drop(columns='total')[['gimla','sachar','rechesh']].plot(kind='bar', stacked=True, color=['green', 'lightblue', 'lightgray'])"
   ]
  },
  {
   "cell_type": "code",
   "execution_count": null,
   "metadata": {},
   "outputs": [],
   "source": [
    "df2 = df.copy()\n",
    "cols = ['gimla', 'sachar', 'rechesh']\n",
    "df2['police'] = df[cols].sum(axis=1)\n",
    "df2.drop(columns=cols, inplace=True)\n",
    "df2"
   ]
  },
  {
   "cell_type": "code",
   "execution_count": null,
   "metadata": {},
   "outputs": [],
   "source": [
    "rel = df2 / df2.shift(1)\n",
    "rel"
   ]
  },
  {
   "cell_type": "code",
   "execution_count": null,
   "metadata": {},
   "outputs": [],
   "source": [
    "rel.plot(kind='line', linewidth=4)"
   ]
  },
  {
   "cell_type": "code",
   "execution_count": null,
   "metadata": {},
   "outputs": [],
   "source": [
    "sns.lineplot(data=rel)"
   ]
  },
  {
   "cell_type": "code",
   "execution_count": null,
   "metadata": {},
   "outputs": [],
   "source": [
    "dfn = df.div(df.iloc[0])"
   ]
  },
  {
   "cell_type": "code",
   "execution_count": null,
   "metadata": {},
   "outputs": [],
   "source": [
    "dfn.drop(columns='total')[['gimla','sachar','rechesh']].plot(kind='bar', stacked=True, color=['green', 'lightblue', 'lightgray'])"
   ]
  }
 ],
 "metadata": {
  "kernelspec": {
   "display_name": "Python 3",
   "language": "python",
   "name": "python3"
  },
  "language_info": {
   "codemirror_mode": {
    "name": "ipython",
    "version": 3
   },
   "file_extension": ".py",
   "mimetype": "text/x-python",
   "name": "python",
   "nbconvert_exporter": "python",
   "pygments_lexer": "ipython3",
   "version": "3.7.3"
  }
 },
 "nbformat": 4,
 "nbformat_minor": 4
}
