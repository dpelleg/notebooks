{
 "cells": [
  {
   "cell_type": "code",
   "execution_count": 1,
   "id": "166a0d8c",
   "metadata": {},
   "outputs": [],
   "source": [
    "# check the cars that have a disabled parking permit\n",
    "import pandas as pd\n",
    "import seaborn as sns\n",
    "import matplotlib.pyplot as plt\n",
    "\n",
    "#import sys\n",
    "#sys.path.append('/Users/dpelleg/miniconda/lib/python3.10/site-packages')\n",
    "\n",
    "from statsmodels.stats.proportion import proportions_ztest\n",
    "\n",
    "# do I need this? how to persist the change in path?\n"
   ]
  },
  {
   "cell_type": "code",
   "execution_count": 2,
   "id": "4b3e2d58",
   "metadata": {},
   "outputs": [],
   "source": [
    "datadir = '../data/'\n",
    "\n",
    "def count_repeated_chars(string, k):\n",
    "    count = 0\n",
    "    for i in range(len(string)-(k-1)):\n",
    "        if string[i:i+k] == string[i]*k:\n",
    "            count += 1\n",
    "    return count\n",
    "\n",
    "def is_palindrome(string):\n",
    "    return string == string[::-1]\n",
    "\n",
    "def has_numeric_sequence_3(string):\n",
    "    for i in range(len(string)-2):\n",
    "        if int(string[i])+1 == int(string[i+1]) and int(string[i+1])+1 == int(string[i+2]):\n",
    "            return True\n",
    "    return False\n",
    "\n",
    "def has_numeric_sequence_3_rev(string):\n",
    "    return has_numeric_sequence_3(string[::-1])\n",
    "\n",
    "def count_distinct_chars(string):\n",
    "    return len(set(string))\n",
    "\n",
    "def distinct_chars_under(s, n):\n",
    "    return count_distinct_chars(s) <= n\n",
    "\n",
    "def distinct_chars_over(s, n):\n",
    "    return count_distinct_chars(s) >= n\n",
    "\n",
    "def count_repeated_sequences(string, seq_length):\n",
    "    count = 0\n",
    "    for i in range(len(string) - seq_length + 1):\n",
    "        if string[i:i+seq_length] in string[i+seq_length:]:\n",
    "            count += 1\n",
    "    return count\n",
    "\n",
    "scoremap = {\n",
    "    lambda s: count_repeated_chars(s, 2): 1,\n",
    "    lambda s: count_repeated_chars(s, 3): 1,\n",
    "    lambda s: count_repeated_chars(s, 4): 1,\n",
    "    is_palindrome: 5,\n",
    "    has_numeric_sequence_3 : 2,\n",
    "    has_numeric_sequence_3_rev : 2,\n",
    "    lambda s: distinct_chars_under(s, 1): 10,\n",
    "    lambda s: distinct_chars_under(s, 2): 5,\n",
    "    lambda s: distinct_chars_under(s, 3): 2,\n",
    "#    lambda s: distinct_chars_over(s, 5): 2,\n",
    "#    lambda s: distinct_chars_over(s, 6): 5,\n",
    "#    lambda s: distinct_chars_over(s, 7): 6,\n",
    "#    lambda s: distinct_chars_over(s, 8): 8,\n",
    "    lambda s: count_repeated_sequences(s, 2): 2,\n",
    "    lambda s: count_repeated_sequences(s, 3): 3,\n",
    "}\n",
    "\n",
    "def score(s):\n",
    "    ret = 0\n",
    "    for idx, (f, mult) in enumerate(scoremap.items()):\n",
    "        result = f(s)\n",
    "        ret += mult*int(result)\n",
    "    return ret"
   ]
  },
  {
   "cell_type": "code",
   "execution_count": 3,
   "id": "9021a079",
   "metadata": {},
   "outputs": [],
   "source": [
    "def read_file(fname, enc='iso8859-8'):\n",
    "    fd = open(fname, encoding=enc, errors='replace')\n",
    "    df = pd.read_csv(fd, sep='|')\n",
    "    return df\n",
    "\n",
    "def add_model(df):\n",
    "    df['model'] = df.apply(lambda x: '_'.join([x[y] for y in ['tozeret_cd', 'degem_cd', 'shnat_yitzur', 'sug_degem']]), axis=1)\n",
    "\n",
    "def get_model_name(ns):\n",
    "    names = pd.DataFrame(data={'model':ns})\n",
    "    ret = pd.merge(names, models, how='left', on='model')[['tozeret_nm', 'kinuy_mishari']]\n",
    "    return ret\n",
    "\n",
    "def ztest_proportions(df, population, test):\n",
    "    xtab=pd.crosstab(df[population], df[test])\n",
    "    se, pval = proportions_ztest(xtab[True].to_list(), xtab.sum(axis=1).to_list())\n",
    "    return pval"
   ]
  },
  {
   "cell_type": "code",
   "execution_count": 4,
   "id": "548aebb7",
   "metadata": {},
   "outputs": [],
   "source": [
    "# source : https://data.gov.il/dataset/private-and-commercial-vehicles/resource/053cea08-09bc-40ec-8f7a-156f0677aff3?inner_span=True\n",
    "\n",
    "#df = pd.read_csv('data/rechev-small.csv', encoding='iso-8859-1', sep='|')\n",
    "cars = read_file(datadir + 'rechev.csv')\n",
    "\n",
    "for c in ['mispar_rechev', 'degem_cd', 'tozeret_cd', 'shnat_yitzur']:\n",
    "    cars[c] = cars[c].astype(str)"
   ]
  },
  {
   "cell_type": "code",
   "execution_count": 14,
   "id": "752ba67e",
   "metadata": {},
   "outputs": [
    {
     "data": {
      "image/png": "[encoded data removed]",
      "text/plain": [
       "<Figure size 1000x600 with 1 Axes>"
      ]
     },
     "metadata": {},
     "output_type": "display_data"
    }
   ],
   "source": [
    "def rev(s):\n",
    "    return s[::-1]\n",
    "\n",
    "# Counting the occurrences of each value of ramat_eivzur_betihuty for each shnat_yitzur\n",
    "count_df = cars.groupby(['shnat_yitzur', 'ramat_eivzur_betihuty']).size().unstack()\n",
    "count_df = count_df.div(count_df.sum(axis=1), axis=0)\n",
    "\n",
    "# Creating a stacked bar plot\n",
    "sns.set(style=\"whitegrid\")\n",
    "count_df.query('shnat_yitzur > \"2018\"').plot(kind='bar', stacked=True, figsize=(10, 6))\n",
    "#plt.title(\"Stacked Bar Plot of Counts of ramat_eivzur_betihuty by shnat_yitzur\")\n",
    "plt.xlabel(rev(\"שנת ייצור\"))\n",
    "plt.ylabel(rev(\"שיעור\"))\n",
    "plt.legend(title=rev(\"רמת אבזור בטיחותי\"))\n",
    "plt.show()\n"
   ]
  }
 ],
 "metadata": {
  "kernelspec": {
   "display_name": "Python 3 (ipykernel)",
   "language": "python",
   "name": "python3"
  },
  "language_info": {
   "codemirror_mode": {
    "name": "ipython",
    "version": 3
   },
   "file_extension": ".py",
   "mimetype": "text/x-python",
   "name": "python",
   "nbconvert_exporter": "python",
   "pygments_lexer": "ipython3",
   "version": "3.8.13"
  }
 },
 "nbformat": 4,
 "nbformat_minor": 5
}
