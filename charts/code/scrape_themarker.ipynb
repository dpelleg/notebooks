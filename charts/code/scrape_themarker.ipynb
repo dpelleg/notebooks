{
 "cells": [
  {
   "cell_type": "code",
   "execution_count": null,
   "id": "adb4b973",
   "metadata": {},
   "outputs": [],
   "source": [
    "import requests\n",
    "\n",
    "# Step 1: Access the login page\n",
    "login_url = \"https://login.themarker.com/\"\n",
    "response = requests.get(login_url)\n",
    "\n",
    "# Step 2: Fill the email field\n",
    "email = \"me@example.com\"\n",
    "payload = {\"email\": email}\n",
    "response = requests.post(login_url, data=payload)\n",
    "\n",
    "# Step 3: Click the continue button\n",
    "continue_url = \"https://login.themarker.com/continue\"\n",
    "response = requests.get(continue_url)\n",
    "\n",
    "# Step 4: Fill the password field\n",
    "password = \"foo\"\n",
    "payload = {\"password\": password}\n",
    "response = requests.post(continue_url, data=payload)\n",
    "\n",
    "# Step 5: Click the \"connect\" button\n",
    "connect_url = \"https://login.themarker.com/connect\"\n",
    "response = requests.get(connect_url)\n",
    "\n",
    "# Step 6: Fetch the desired page using the obtained cookie\n",
    "target_url = \"http://example.com/fo2\"\n",
    "cookies = response.cookies\n",
    "response = requests.get(target_url, cookies=cookies)\n",
    "\n",
    "# Save the page to a local directory\n",
    "save_path = \"path/to/save/directory/page.html\"\n",
    "with open(save_path, \"w\") as file:\n",
    "    file.write(response.text)\n"
   ]
  }
 ],
 "metadata": {
  "kernelspec": {
   "display_name": "Python 3 (ipykernel)",
   "language": "python",
   "name": "python3"
  },
  "language_info": {
   "codemirror_mode": {
    "name": "ipython",
    "version": 3
   },
   "file_extension": ".py",
   "mimetype": "text/x-python",
   "name": "python",
   "nbconvert_exporter": "python",
   "pygments_lexer": "ipython3",
   "version": "3.9.16"
  }
 },
 "nbformat": 4,
 "nbformat_minor": 5
}
