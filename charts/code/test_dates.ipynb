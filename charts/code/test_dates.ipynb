{
 "cells": [
  {
   "cell_type": "code",
   "execution_count": null,
   "id": "4a4fc5be",
   "metadata": {
    "scrolled": true
   },
   "outputs": [],
   "source": [
    "from vehicles import *"
   ]
  },
  {
   "cell_type": "code",
   "execution_count": null,
   "id": "320e9118",
   "metadata": {
    "scrolled": true
   },
   "outputs": [],
   "source": [
    "# the master file with all vehicles\n",
    "df = read_file('rechev.csv')"
   ]
  },
  {
   "cell_type": "code",
   "execution_count": null,
   "id": "f0e35607",
   "metadata": {
    "scrolled": true
   },
   "outputs": [],
   "source": [
    "# select the big makes\n",
    "makes = df.groupby('make').size()\n",
    "big_makes = makes[makes > 10000].index.tolist()"
   ]
  },
  {
   "cell_type": "code",
   "execution_count": null,
   "id": "330f0609",
   "metadata": {
    "scrolled": true
   },
   "outputs": [],
   "source": [
    "df_bak = df.copy()"
   ]
  },
  {
   "cell_type": "code",
   "execution_count": null,
   "id": "22712aef",
   "metadata": {
    "scrolled": true
   },
   "outputs": [],
   "source": [
    "df = df_bak.copy()"
   ]
  },
  {
   "cell_type": "code",
   "execution_count": null,
   "id": "bf3adb88",
   "metadata": {
    "scrolled": true
   },
   "outputs": [],
   "source": [
    "# add mileage data\n",
    "# source: https://data.gov.il/dataset/shinui_mivne\n",
    "\n",
    "mivne = read_file_helper(datadir + 'shinui_mivne.csv', enc='UTF-8')\n",
    "stringify_cols(mivne, ['mispar_rechev'])"
   ]
  },
  {
   "cell_type": "code",
   "execution_count": null,
   "id": "53771b37",
   "metadata": {
    "scrolled": true
   },
   "outputs": [],
   "source": [
    "vo = pd.read_csv(datadir + 'vehicle_ownership.csv', sep='|')\n",
    "\n",
    "stringify_cols(vo, ['mispar_rechev'])\n",
    "\n",
    "c='baalut_dt'\n",
    "vo[c] = pd.to_datetime(vo[c], format=\"%Y%m\")"
   ]
  },
  {
   "cell_type": "code",
   "execution_count": null,
   "id": "b4a095fd",
   "metadata": {
    "scrolled": false
   },
   "outputs": [],
   "source": [
    "vo.baalut.value_counts()"
   ]
  },
  {
   "cell_type": "code",
   "execution_count": null,
   "id": "a278afad",
   "metadata": {
    "scrolled": true
   },
   "outputs": [],
   "source": [
    "dfm = pd.merge(df, mivne, how='left', on='mispar_rechev')\n",
    "# find the popular models\n",
    "dfm['makemodel'] = dfm['make'] + ' ' + dfm['kinuy_mishari']\n",
    "degem_c = dfm['makemodel'].value_counts()\n",
    "degem_big = degem_c[degem_c > 5000].index.to_list()"
   ]
  },
  {
   "cell_type": "code",
   "execution_count": null,
   "id": "9d154036",
   "metadata": {
    "scrolled": true
   },
   "outputs": [],
   "source": [
    "# source : https://data.gov.il/dataset/mehir_yevuan\n",
    "# add model prices\n",
    "fname = datadir + 'vehicle_cost.csv'\n",
    "fd = open(fname, encoding='utf-8', errors='replace')\n",
    "prices = pd.read_csv(fd, sep='|', low_memory=False)\n",
    "\n",
    "stringify_cols(prices, ['degem_cd', 'tozeret_cd', 'shnat_yitzur'])\n",
    "for c in ['mehir']:\n",
    "    prices[c] = pd.to_numeric(prices[c], errors='coerce')\n",
    "\n",
    "add_model(prices)\n",
    "prices_ = prices.copy()\n",
    "prices = prices[['model', 'mehir']]"
   ]
  },
  {
   "cell_type": "code",
   "execution_count": null,
   "id": "9c346257",
   "metadata": {
    "scrolled": true
   },
   "outputs": [],
   "source": [
    "dfm = dfm.merge(right=prices, on='model')"
   ]
  },
  {
   "cell_type": "code",
   "execution_count": null,
   "id": "00ad1caf",
   "metadata": {},
   "outputs": [],
   "source": [
    "df.baalut.value_counts()"
   ]
  },
  {
   "cell_type": "code",
   "execution_count": null,
   "id": "73cd3f8b",
   "metadata": {
    "scrolled": true
   },
   "outputs": [],
   "source": [
    "dfm['test_expiry_day'] = dfm['test_expiry'].dt.day\n",
    "dfm['test_day'] = dfm['test'].dt.day\n",
    "dfm['test_weekday'] = dfm['test'].dt.weekday\n",
    "dfm['test_month'] = dfm['test'].dt.month"
   ]
  },
  {
   "cell_type": "code",
   "execution_count": null,
   "id": "57a85582",
   "metadata": {
    "scrolled": false
   },
   "outputs": [],
   "source": [
    "sns.histplot(data=dfm, x='test_expiry_day', fill=True, bins=31)\n",
    "plt.xlabel(rev('יום תפוגת הרשיון'))\n",
    "plt.ylabel(rev('ספירה'))"
   ]
  },
  {
   "cell_type": "code",
   "execution_count": null,
   "id": "6c3b2d3a",
   "metadata": {
    "scrolled": false
   },
   "outputs": [],
   "source": [
    "sns.histplot(data=dfm, x='test_day', fill=True, bins=31)\n",
    "plt.xlabel(rev('יום הטסט בחודש'))\n",
    "plt.ylabel(rev('ספירה'))"
   ]
  },
  {
   "cell_type": "code",
   "execution_count": null,
   "id": "5fbdf2fa",
   "metadata": {
    "scrolled": false
   },
   "outputs": [],
   "source": [
    "sns.histplot(data=dfm, x='test_weekday', fill=True, bins=7)"
   ]
  },
  {
   "cell_type": "code",
   "execution_count": null,
   "id": "584d6160",
   "metadata": {
    "scrolled": false
   },
   "outputs": [],
   "source": [
    "sns.histplot(data=dfm, x='test_month', fill=True, bins=12)\n",
    "plt.xlabel(rev('חודש'))"
   ]
  },
  {
   "cell_type": "code",
   "execution_count": null,
   "id": "54b758df",
   "metadata": {},
   "outputs": [],
   "source": [
    "import plotly.express as px\n",
    "\n",
    "def plot_heatmap(df, c1, c2):\n",
    "    fig = px.imshow(dfm.groupby([c1, c2]).size().unstack(), aspect='auto')\n",
    "    fig.update_layout(\n",
    "        xaxis_title='יום הטסט',\n",
    "        yaxis_title='יום תפוגת הרשיון',\n",
    "        coloraxis_colorbar=dict(\n",
    "            title='Frequency',\n",
    "            len=0.6,\n",
    "            yanchor='middle',\n",
    "            y=0.5\n",
    "        ),\n",
    "        coloraxis_cmin=0,\n",
    "        coloraxis_cmax=dfm.groupby([c1, c2]).size().max(),\n",
    "        coloraxis_colorscale='thermal',\n",
    "        yaxis=dict(        autorange=True   )\n",
    "    )\n",
    "    fig.show()\n"
   ]
  },
  {
   "cell_type": "code",
   "execution_count": null,
   "id": "311ac2c1",
   "metadata": {},
   "outputs": [],
   "source": [
    "plot_heatmap(dfm, 'test_expiry_day', 'test_day')"
   ]
  },
  {
   "cell_type": "code",
   "execution_count": null,
   "id": "217c0677",
   "metadata": {},
   "outputs": [],
   "source": [
    "baalut = 'חברה'\n",
    "plot_heatmap(dfm.query(\"baalut == @baalut\"), 'test_expiry_day', 'test_day')"
   ]
  },
  {
   "cell_type": "code",
   "execution_count": null,
   "id": "0db8bde8",
   "metadata": {
    "scrolled": true
   },
   "outputs": [],
   "source": [
    "from scipy.stats import chisquare\n",
    "\n",
    "def all_chi_squared(df, val_col, cond_col):\n",
    "    # Compute the overall histogram of day of month\n",
    "    overall_hist, _ = np.histogram(df[val_col].dt.day, bins=range(1, 32), density=True)\n",
    "    \n",
    "    # Compute the histogram of day of month for each make\n",
    "    make_chi_squared = {}\n",
    "    for make, group in df.groupby(cond_col):\n",
    "        make_hist, _ = np.histogram(group[val_col].dt.day, bins=range(1, 32), density=True)\n",
    "        \n",
    "        # Compute the chi-squared distance to the overall average\n",
    "        chi_squared_distance = chisquare(f_obs=make_hist, f_exp=overall_hist)[0]\n",
    "        \n",
    "        make_chi_squared[make] = chi_squared_distance\n",
    "    \n",
    "    # Sort the values of 'make' by the chi-squared distances\n",
    "    sorted_make = sorted(make_chi_squared, key=make_chi_squared.get)\n",
    "    \n",
    "    return sorted_make\n"
   ]
  },
  {
   "cell_type": "code",
   "execution_count": null,
   "id": "fd2991a5",
   "metadata": {
    "scrolled": false
   },
   "outputs": [],
   "source": [
    "makes_chi_squared = all_chi_squared(dfm, 'test', 'make')\n",
    "\n",
    "makes_chi_squared = [ m for m in makes_chi_squared if m in big_makes]"
   ]
  },
  {
   "cell_type": "code",
   "execution_count": null,
   "id": "d8ce780f",
   "metadata": {
    "scrolled": true
   },
   "outputs": [],
   "source": [
    "makes_chi_squared"
   ]
  },
  {
   "cell_type": "code",
   "execution_count": null,
   "id": "4e03b259",
   "metadata": {
    "scrolled": true
   },
   "outputs": [],
   "source": [
    "make = 'טסלה'\n",
    "#make = 'BYD'\n",
    "#make = 'Geely'\n",
    "#make = 'BMW'\n",
    "dfm.query('make == @make')['test_expiry'].dt.day.hist(bins=31)"
   ]
  },
  {
   "cell_type": "code",
   "execution_count": null,
   "id": "965e92d4",
   "metadata": {
    "scrolled": true
   },
   "outputs": [],
   "source": [
    "x=dfm.query('make == @make and test_expiry.dt.day == 31 and test.dt.day == 1')"
   ]
  },
  {
   "cell_type": "code",
   "execution_count": null,
   "id": "66198399",
   "metadata": {
    "scrolled": true
   },
   "outputs": [],
   "source": [
    "dfm['date_difference'] = (dfm['test_expiry'] - dfm['test']).dt.days"
   ]
  },
  {
   "cell_type": "code",
   "execution_count": null,
   "id": "e7633067",
   "metadata": {
    "scrolled": true
   },
   "outputs": [],
   "source": [
    "# procrastinators by make\n",
    "proc_make = dfm.query('make in @big_makes and year < 2020').groupby('make')['date_difference'].mean()"
   ]
  },
  {
   "cell_type": "code",
   "execution_count": null,
   "id": "5dfd92ee",
   "metadata": {
    "scrolled": true
   },
   "outputs": [],
   "source": [
    "# procrastinators by model\n",
    "\n",
    "proc_model = dfm.query('year < 2020 and year >= 2015').groupby('model').agg({'date_difference': ['mean','median','count']})\n",
    "proc_model = proc_model.droplevel(1, axis=1)\n",
    "\n",
    "proc_model.columns = ['diff_mean', 'diff_median', 'size']\n",
    "\n",
    "proc_model = proc_model.merge(prices, on='model')"
   ]
  },
  {
   "cell_type": "code",
   "execution_count": null,
   "id": "55d6d500",
   "metadata": {
    "scrolled": true
   },
   "outputs": [],
   "source": [
    "proc_model"
   ]
  },
  {
   "cell_type": "code",
   "execution_count": null,
   "id": "aefa71bc",
   "metadata": {
    "scrolled": true
   },
   "outputs": [],
   "source": [
    "import plotly.express as px\n",
    "\n",
    "fig = px.scatter(proc_model.query(\"size > 200 and size < 1000\"), x='diff_median', y='mehir', color='size')\n",
    "fig.show()\n"
   ]
  }
 ],
 "metadata": {
  "kernelspec": {
   "display_name": "Python 3 (ipykernel)",
   "language": "python",
   "name": "python3"
  },
  "language_info": {
   "codemirror_mode": {
    "name": "ipython",
    "version": 3
   },
   "file_extension": ".py",
   "mimetype": "text/x-python",
   "name": "python",
   "nbconvert_exporter": "python",
   "pygments_lexer": "ipython3",
   "version": "3.8.13"
  }
 },
 "nbformat": 4,
 "nbformat_minor": 5
}
