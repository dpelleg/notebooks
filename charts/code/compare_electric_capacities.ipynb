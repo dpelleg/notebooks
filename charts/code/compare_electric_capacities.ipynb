{
 "cells": [
  {
   "metadata": {
    "ExecuteTime": {
     "end_time": "2025-01-06T11:45:12.294113Z",
     "start_time": "2025-01-06T11:45:12.288873Z"
    }
   },
   "cell_type": "code",
   "source": [
    "import pandas as pd\n",
    "import numpy as np"
   ],
   "id": "c29ee188c2882ef1",
   "outputs": [],
   "execution_count": 5
  },
  {
   "metadata": {
    "ExecuteTime": {
     "end_time": "2025-01-06T11:46:09.582415Z",
     "start_time": "2025-01-06T11:46:09.576761Z"
    }
   },
   "cell_type": "code",
   "source": [
    "# these are computed by electric_capacity.ipynb\n",
    "power_counts_23 = pd.read_csv('../data/apr2023/power_counts.csv')\n",
    "power_counts_23.name = '2023'\n",
    "power_counts_24 = pd.read_csv('../data/dec2024/power_counts.csv')\n",
    "power_counts_24.name = '2024'"
   ],
   "id": "cac390bf57b904dc",
   "outputs": [],
   "execution_count": 15
  },
  {
   "metadata": {
    "ExecuteTime": {
     "end_time": "2025-01-06T11:46:09.917246Z",
     "start_time": "2025-01-06T11:46:09.899369Z"
    }
   },
   "cell_type": "code",
   "source": [
    "def show_stats(df, col='max_power'):\n",
    "    all_vals = np.repeat(df[col].to_list(), df['count'].to_list())\n",
    "    s = pd.Series(all_vals)\n",
    "    print(s.describe())\n",
    "\n",
    "print(show_stats(power_counts_23))\n",
    "print(show_stats(power_counts_24))\n",
    "\n",
    "    "
   ],
   "id": "3d98ba2f6736f935",
   "outputs": [
    {
     "name": "stdout",
     "output_type": "stream",
     "text": [
      "count    34567.000000\n",
      "mean       133.305002\n",
      "std         56.020356\n",
      "min         46.000000\n",
      "25%         86.000000\n",
      "50%        125.000000\n",
      "75%        160.000000\n",
      "max        250.000000\n",
      "dtype: float64\n",
      "None\n",
      "count    100704.000000\n",
      "mean        131.956576\n",
      "std          62.021856\n",
      "min          46.000000\n",
      "25%          86.000000\n",
      "50%          92.000000\n",
      "75%         160.000000\n",
      "max         300.000000\n",
      "dtype: float64\n",
      "None\n"
     ]
    }
   ],
   "execution_count": 16
  },
  {
   "metadata": {
    "ExecuteTime": {
     "end_time": "2025-01-06T11:46:10.476303Z",
     "start_time": "2025-01-06T11:46:10.462671Z"
    }
   },
   "cell_type": "code",
   "source": [
    "print(show_stats(power_counts_23, col='capacity'))\n",
    "print(show_stats(power_counts_24, col='capacity'))\n"
   ],
   "id": "fc5fd93d94ba9a01",
   "outputs": [
    {
     "name": "stdout",
     "output_type": "stream",
     "text": [
      "count    34567.000000\n",
      "mean        62.333494\n",
      "std          8.551901\n",
      "min         50.000000\n",
      "25%         58.000000\n",
      "50%         59.000000\n",
      "75%         63.100000\n",
      "max         90.000000\n",
      "dtype: float64\n",
      "None\n",
      "count    100704.000000\n",
      "mean         63.157963\n",
      "std           9.004179\n",
      "min          50.000000\n",
      "25%          58.000000\n",
      "50%          59.000000\n",
      "75%          64.000000\n",
      "max          92.000000\n",
      "dtype: float64\n",
      "None\n"
     ]
    }
   ],
   "execution_count": 17
  },
  {
   "metadata": {
    "ExecuteTime": {
     "end_time": "2025-01-06T11:46:22.279399Z",
     "start_time": "2025-01-06T11:46:22.060823Z"
    }
   },
   "cell_type": "code",
   "source": [
    "import numpy as np\n",
    "import matplotlib.pyplot as plt\n",
    "import seaborn as sns\n",
    "from scipy.stats import gaussian_kde\n",
    "from sklearn.mixture import GaussianMixture\n",
    "\n",
    "def cdf_plot_from_dfs(df1: pd.DataFrame, df2: pd.DataFrame, x_col: str, title: str = None, jitter: float = 0.01, cap: float = 300.0):\n",
    "    \"\"\"\n",
    "    Generate a smoothed CDF plot from two DataFrames using jittered data.\n",
    "\n",
    "    Parameters:\n",
    "    - df1 (pd.DataFrame): The first DataFrame containing values and their counts.\n",
    "    - df2 (pd.DataFrame): The second DataFrame containing values and their counts.\n",
    "    - x_col (str): The name of the column containing the values.\n",
    "    - title (str, optional): The title for the plot. Defaults to None.\n",
    "    - jitter (float, optional): The amount of jitter to add to the values. Defaults to 0.01.\n",
    "    - cap (float, optional): The maximum value to cap the CDF plot. Defaults to 300.0.\n",
    "\n",
    "    Returns:\n",
    "    - None\n",
    "    \"\"\"\n",
    "    # Extract the values and their counts for both dataframes\n",
    "    values1 = df1[x_col].to_list()\n",
    "    counts1 = df1['count'].to_list()\n",
    "    values2 = df2[x_col].to_list()\n",
    "    counts2 = df2['count'].to_list()\n",
    "\n",
    "    # Create numpy arrays with repeated values based on their counts\n",
    "    all_values1 = np.repeat(values1, counts1)\n",
    "    all_values2 = np.repeat(values2, counts2)\n",
    "\n",
    "    # Add jitter to the values\n",
    "    all_values1 *= (1+np.random.normal(scale=jitter, size=len(all_values1)))\n",
    "    all_values2 *= (1+np.random.normal(scale=jitter, size=len(all_values2)))\n",
    "\n",
    "    # Sort the values for CDF calculation\n",
    "    all_values1.sort()\n",
    "    all_values2.sort()\n",
    "\n",
    "    # Calculate the CDF for both sets of values\n",
    "    cdf1 = np.linspace(0, 1, len(all_values1))\n",
    "    cdf2 = np.linspace(0, 1, len(all_values2))\n",
    "\n",
    "    # Create the figure and plot the smoothed CDFs\n",
    "    fig, ax = plt.subplots()\n",
    "    ax.plot(all_values1, cdf1, label=df1.name, color='blue')\n",
    "    ax.plot(all_values2, cdf2, label=df2.name, color='red')\n",
    "\n",
    "    # Draw marker lines for the medians\n",
    "    ax.axvline(np.median(all_values1), color='blue', linestyle='--', label='median')\n",
    "    ax.axvline(np.median(all_values2), color='red', linestyle='--')\n",
    "\n",
    "    # Cap the x-axis if specified\n",
    "    if cap:\n",
    "        ax.set_xlim(left=0, right=cap)\n",
    "\n",
    "    # Add a title if provided\n",
    "    if title:\n",
    "        ax.set_title(title)\n",
    "\n",
    "    # Set labels, legend, and show the plot\n",
    "    ax.set_xlabel(x_col)\n",
    "    ax.set(ylabel='CDF')\n",
    "    plt.xlim(40, cap)\n",
    "    ax.legend()\n",
    "    plt.show()\n",
    "\n",
    "# Example usage\n",
    "cdf_plot_from_dfs(power_counts_23, power_counts_24, 'max_power', 'CDF Max Power', jitter=0.05, cap=300)"
   ],
   "id": "a1def952f11fef63",
   "outputs": [
    {
     "data": {
      "text/plain": [
       "<Figure size 640x480 with 1 Axes>"
      ],
      "image/png": "[encoded data removed]"
     },
     "metadata": {},
     "output_type": "display_data"
    }
   ],
   "execution_count": 20
  }
 ],
 "metadata": {
  "kernelspec": {
   "display_name": "Python 3 (ipykernel)",
   "language": "python",
   "name": "python3"
  },
  "language_info": {
   "codemirror_mode": {
    "name": "ipython",
    "version": 3
   },
   "file_extension": ".py",
   "mimetype": "text/x-python",
   "name": "python",
   "nbconvert_exporter": "python",
   "pygments_lexer": "ipython3",
   "version": "3.8.13"
  }
 },
 "nbformat": 4,
 "nbformat_minor": 5
}
