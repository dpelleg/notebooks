{
 "cells": [
  {
   "cell_type": "code",
   "execution_count": null,
   "id": "fb3c3d41",
   "metadata": {},
   "outputs": [],
   "source": [
    "# energy generation market in Israel\n",
    "# Data from Noga -  https://www.noga-iso.co.il/\n",
    "\n",
    "import pandas as pd\n",
    "import os\n",
    "\n",
    "DATADIR = '../data/noga'"
   ]
  },
  {
   "cell_type": "code",
   "execution_count": null,
   "id": "5faed6b1",
   "metadata": {},
   "outputs": [],
   "source": [
    "import os\n",
    "import pandas as pd\n",
    "\n",
    "def read_xlsx_files_concat(DATADIR):\n",
    "    dataframes = []\n",
    "    column_names = None\n",
    "\n",
    "    # Iterate over files in the directory\n",
    "    for file in os.listdir(DATADIR):\n",
    "        if file.endswith(\".xlsx\"):\n",
    "            file_path = os.path.join(DATADIR, file)\n",
    "            # Read the Excel file into a dataframe, skipping the first row\n",
    "            df = pd.read_excel(file_path, skiprows=1)\n",
    "\n",
    "            # Append the dataframe to the list\n",
    "            dataframes.append(df)\n",
    "\n",
    "    # Concatenate the dataframes into a single dataframe\n",
    "    concatenated_df = pd.concat(dataframes, ignore_index=True)\n",
    "\n",
    "    return concatenated_df"
   ]
  },
  {
   "cell_type": "code",
   "execution_count": null,
   "id": "517b4575",
   "metadata": {},
   "outputs": [],
   "source": [
    "df = read_xlsx_files_concat(DATADIR)\n",
    "\n",
    "df.rename(columns={'תאריך' : 'date', 'שעה' : 'time'}, inplace=True)\n",
    "df['datetime'] = pd.to_datetime(df['date'] + ' ' + df['time'], format='%d/%m/%Y %H:%M:%S')\n",
    "df = df.set_index('datetime').drop(['date', 'time'], axis=1)\n",
    "df_bak = df.copy()"
   ]
  },
  {
   "cell_type": "code",
   "execution_count": null,
   "id": "b666e0aa",
   "metadata": {},
   "outputs": [],
   "source": [
    "df.columns"
   ]
  },
  {
   "cell_type": "code",
   "execution_count": null,
   "id": "e402ca35",
   "metadata": {},
   "outputs": [],
   "source": [
    "df = df_bak.copy().resample('1D').mean()"
   ]
  },
  {
   "cell_type": "code",
   "execution_count": null,
   "id": "af19d75e",
   "metadata": {},
   "outputs": [],
   "source": [
    "cols = ['ייצור משקי בפועל', 'ניהול הביקוש', 'סהכ מתחדשות', 'גז טבעי', 'פחם']\n",
    "plotme = df.drop(columns=cols).fillna(0)"
   ]
  },
  {
   "cell_type": "code",
   "execution_count": null,
   "id": "834a38bc",
   "metadata": {
    "scrolled": false
   },
   "outputs": [],
   "source": [
    "import plotly.express as px\n",
    "\n",
    "fig = px.bar(df, x=plotme.index, y=plotme.columns, barmode='stack')\n",
    "#fig = px.line(df, x=plotme.index, y=plotme.columns)\n",
    "fig.show()"
   ]
  },
  {
   "cell_type": "code",
   "execution_count": null,
   "id": "3a7728fe",
   "metadata": {},
   "outputs": [],
   "source": [
    "plotme = df[cols].fillna(0)"
   ]
  },
  {
   "cell_type": "code",
   "execution_count": null,
   "id": "44af5116",
   "metadata": {},
   "outputs": [],
   "source": [
    "import plotly.express as px\n",
    "\n",
    "fig = px.bar(df, x=plotme.index, y=plotme.columns, barmode='stack')\n",
    "#fig = px.line(df, x=plotme.index, y=plotme.columns)\n",
    "fig.show()"
   ]
  },
  {
   "cell_type": "code",
   "execution_count": null,
   "id": "a63fb1cf",
   "metadata": {},
   "outputs": [],
   "source": [
    "import seaborn as sns\n",
    "import matplotlib.pyplot as plt\n",
    "\n",
    "col = 'פוטו וולאטי'\n",
    "rcol = col[::-1]\n",
    "\n",
    "# Filter the dataframe for the last 14 days\n",
    "df_filtered = df_bak.copy().resample('1H').mean()\n",
    "df_filtered = df_filtered[df_filtered.index >= df_filtered.index[-1] - pd.DateOffset(days=14)]\n",
    "df_filtered['hour'] = df_filtered.index.strftime('%H:%M')\n",
    "\n",
    "# Plot the line chart with error bars\n",
    "sns.lineplot(data=df_filtered, x='hour', y=col, errorbar='ci')\n",
    "plt.xlabel('hour')\n",
    "plt.ylabel(rcol)\n",
    "plt.title(f'value of {rcol} conditioned on hour of the day')\n",
    "plt.show()\n"
   ]
  },
  {
   "cell_type": "code",
   "execution_count": null,
   "id": "59f8c018",
   "metadata": {},
   "outputs": [],
   "source": [
    "dst = pd.to_datetime('2023-03-24')"
   ]
  },
  {
   "cell_type": "code",
   "execution_count": null,
   "id": "e74571f1",
   "metadata": {},
   "outputs": [],
   "source": [
    "df2 = df_bak.copy().resample('30T').mean()\n",
    "df2 = df2[df2.index >= dst]\n",
    "df2['hour'] = df2.index.strftime('%H:%M')"
   ]
  },
  {
   "cell_type": "code",
   "execution_count": null,
   "id": "98f2ffab",
   "metadata": {},
   "outputs": [],
   "source": [
    "df3 = pd.DataFrame(\n",
    "    index = df2.query('hour == \"12:30\"').index,\n",
    "    data={\n",
    "    '12' : df2.query('hour == \"12:30\"')[col].values,\n",
    "    '13' : df2.query('hour == \"13:30\"')[col].values,\n",
    "    '14' : df2.query('hour == \"14:30\"')[col].values,\n",
    "})\n",
    "df3['12minus13'] = df3['12'] - df3['13']\n",
    "df3['14minus13'] = df3['14'] - df3['13']"
   ]
  },
  {
   "cell_type": "code",
   "execution_count": null,
   "id": "29ec7890",
   "metadata": {},
   "outputs": [],
   "source": [
    "import plotly.express as px\n",
    "\n",
    "# Assuming you have a DataFrame named 'df2' with columns '12minus13' and '14minus13'\n",
    "\n",
    "fig = px.line(df3, x=df3.index, y=['12minus13', '14minus13'])\n",
    "\n",
    "#fig.show()"
   ]
  },
  {
   "cell_type": "code",
   "execution_count": null,
   "id": "c0a641de",
   "metadata": {},
   "outputs": [],
   "source": [
    "from scipy import stats\n",
    "\n",
    "# Perform paired t-test\n",
    "t_statistic, p_value = stats.ttest_rel(df3['14'], df3['13'])\n",
    "\n",
    "# Check if the p-value is less than the significance level (e.g., 0.05)\n",
    "alpha = 0.05\n",
    "if p_value < alpha:\n",
    "    print(\"Reject null hypothesis. Column '12' values are significantly higher than column '13'.\")\n",
    "else:\n",
    "    print(\"Fail to reject null hypothesis. No significant difference between column '12' and column '13'.\")\n",
    "p_value"
   ]
  }
 ],
 "metadata": {
  "kernelspec": {
   "display_name": "Python 3 (ipykernel)",
   "language": "python",
   "name": "python3"
  },
  "language_info": {
   "codemirror_mode": {
    "name": "ipython",
    "version": 3
   },
   "file_extension": ".py",
   "mimetype": "text/x-python",
   "name": "python",
   "nbconvert_exporter": "python",
   "pygments_lexer": "ipython3",
   "version": "3.8.13"
  }
 },
 "nbformat": 4,
 "nbformat_minor": 5
}
