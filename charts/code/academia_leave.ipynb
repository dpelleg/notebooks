{
 "cells": [
  {
   "cell_type": "code",
   "execution_count": 1,
   "id": "8ef955c6",
   "metadata": {},
   "outputs": [],
   "source": [
    "import pandas as pd\n",
    "import seaborn as sns\n",
    "import matplotlib \n",
    "import matplotlib.pyplot as plt"
   ]
  },
  {
   "cell_type": "code",
   "execution_count": 11,
   "id": "6b7aa6c9",
   "metadata": {
    "scrolled": true
   },
   "outputs": [],
   "source": [
    "df = pd.read_csv('../data/academia-leave.csv', index_col=0)\n",
    "df = df[['לפני שנה', 'כיום']]"
   ]
  },
  {
   "cell_type": "code",
   "execution_count": 57,
   "id": "cd2abda7",
   "metadata": {},
   "outputs": [],
   "source": [
    "no = df.loc['0'].copy()\n",
    "no['cat'] = '0'\n",
    "low = df.loc['1-10'] + df.loc['11-20']\n",
    "low['cat'] = '1-20'\n",
    "high = df.loc['21-30'] + df.loc['31-40'] + df.loc['41-50'] + df.loc['51-60'] + df.loc['61-70'] + df.loc['71-80'] + df.loc['81-90'] + df.loc['91-100']\n",
    "high['cat'] = '21+'"
   ]
  },
  {
   "cell_type": "code",
   "execution_count": 59,
   "id": "f12517f9",
   "metadata": {},
   "outputs": [
    {
     "data": {
      "text/html": [
       "<div>\n",
       "<style scoped>\n",
       "    .dataframe tbody tr th:only-of-type {\n",
       "        vertical-align: middle;\n",
       "    }\n",
       "\n",
       "    .dataframe tbody tr th {\n",
       "        vertical-align: top;\n",
       "    }\n",
       "\n",
       "    .dataframe thead th {\n",
       "        text-align: right;\n",
       "    }\n",
       "</style>\n",
       "<table border=\"1\" class=\"dataframe\">\n",
       "  <thead>\n",
       "    <tr style=\"text-align: right;\">\n",
       "      <th>cat</th>\n",
       "      <th>0</th>\n",
       "      <th>1-20</th>\n",
       "      <th>21+</th>\n",
       "    </tr>\n",
       "  </thead>\n",
       "  <tbody>\n",
       "    <tr>\n",
       "      <th>הנש ינפל</th>\n",
       "      <td>58.0</td>\n",
       "      <td>30.0</td>\n",
       "      <td>12.0</td>\n",
       "    </tr>\n",
       "    <tr>\n",
       "      <th>םויכ</th>\n",
       "      <td>24.0</td>\n",
       "      <td>20.0</td>\n",
       "      <td>55.0</td>\n",
       "    </tr>\n",
       "  </tbody>\n",
       "</table>\n",
       "</div>"
      ],
      "text/plain": [
       "cat          0  1-20   21+\n",
       "הנש ינפל  58.0  30.0  12.0\n",
       "םויכ      24.0  20.0  55.0"
      ]
     },
     "execution_count": 59,
     "metadata": {},
     "output_type": "execute_result"
    }
   ],
   "source": [
    "df2 = pd.concat([no, low, high], axis=1)\n",
    "df2.columns = df2.loc['cat']\n",
    "df2.drop(['cat'], inplace=True)\n",
    "df2.index = [s[::-1] for s in df2.index.to_list()]\n",
    "df2"
   ]
  },
  {
   "cell_type": "code",
   "execution_count": 63,
   "id": "4f07807d",
   "metadata": {},
   "outputs": [
    {
     "data": {
      "text/plain": [
       "<matplotlib.legend.Legend at 0x17ee39790>"
      ]
     },
     "execution_count": 63,
     "metadata": {},
     "output_type": "execute_result"
    },
    {
     "data": {
      "image/png": "[encoded data removed]",
      "text/plain": [
       "<Figure size 640x480 with 1 Axes>"
      ]
     },
     "metadata": {},
     "output_type": "display_data"
    }
   ],
   "source": [
    "df2.plot(kind='barh', stacked=True, color=['#71eeff', '#3599b8', '#004c6d'])\n",
    "plt.legend(loc='right')"
   ]
  },
  {
   "cell_type": "code",
   "execution_count": 51,
   "id": "24743092",
   "metadata": {},
   "outputs": [],
   "source": []
  }
 ],
 "metadata": {
  "kernelspec": {
   "display_name": "Python 3 (ipykernel)",
   "language": "python",
   "name": "python3"
  },
  "language_info": {
   "codemirror_mode": {
    "name": "ipython",
    "version": 3
   },
   "file_extension": ".py",
   "mimetype": "text/x-python",
   "name": "python",
   "nbconvert_exporter": "python",
   "pygments_lexer": "ipython3",
   "version": "3.8.13"
  }
 },
 "nbformat": 4,
 "nbformat_minor": 5
}
