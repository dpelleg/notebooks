{
 "cells": [
  {
   "cell_type": "code",
   "execution_count": null,
   "id": "166a0d8c",
   "metadata": {
    "is_executing": true
   },
   "outputs": [],
   "source": [
    "# check the cars that have a disabled parking permit\n",
    "import pandas as pd\n",
    "import seaborn as sns\n",
    "import matplotlib.pyplot as plt\n",
    "import matplotlib.ticker as ticker\n",
    "\n",
    "#import sys\n",
    "#sys.path.append('/Users/dpelleg/miniconda/lib/python3.10/site-packages')\n",
    "\n",
    "from statsmodels.stats.proportion import proportions_ztest\n",
    "\n",
    "# do I need this? how to persist the change in path?\n"
   ]
  },
  {
   "cell_type": "code",
   "execution_count": null,
   "id": "4b3e2d58",
   "metadata": {
    "is_executing": true
   },
   "outputs": [],
   "source": [
    "datadir = '../data/'\n",
    "\n",
    "def count_repeated_chars(string, k):\n",
    "    count = 0\n",
    "    for i in range(len(string)-(k-1)):\n",
    "        if string[i:i+k] == string[i]*k:\n",
    "            count += 1\n",
    "    return count\n",
    "\n",
    "def is_palindrome(string):\n",
    "    return string == string[::-1]\n",
    "\n",
    "def has_numeric_sequence_3(string):\n",
    "    for i in range(len(string)-2):\n",
    "        if int(string[i])+1 == int(string[i+1]) and int(string[i+1])+1 == int(string[i+2]):\n",
    "            return True\n",
    "    return False\n",
    "\n",
    "def has_numeric_sequence_3_rev(string):\n",
    "    return has_numeric_sequence_3(string[::-1])\n",
    "\n",
    "def count_distinct_chars(string):\n",
    "    return len(set(string))\n",
    "\n",
    "def distinct_chars_under(s, n):\n",
    "    return count_distinct_chars(s) <= n\n",
    "\n",
    "def distinct_chars_over(s, n):\n",
    "    return count_distinct_chars(s) >= n\n",
    "\n",
    "def count_repeated_sequences(string, seq_length):\n",
    "    count = 0\n",
    "    for i in range(len(string) - seq_length + 1):\n",
    "        if string[i:i+seq_length] in string[i+seq_length:]:\n",
    "            count += 1\n",
    "    return count\n",
    "\n",
    "scoremap = {\n",
    "    lambda s: count_repeated_chars(s, 2): 1,\n",
    "    lambda s: count_repeated_chars(s, 3): 1,\n",
    "    lambda s: count_repeated_chars(s, 4): 1,\n",
    "    is_palindrome: 5,\n",
    "    has_numeric_sequence_3 : 2,\n",
    "    has_numeric_sequence_3_rev : 2,\n",
    "    lambda s: distinct_chars_under(s, 1): 10,\n",
    "    lambda s: distinct_chars_under(s, 2): 5,\n",
    "    lambda s: distinct_chars_under(s, 3): 2,\n",
    "#    lambda s: distinct_chars_over(s, 5): 2,\n",
    "#    lambda s: distinct_chars_over(s, 6): 5,\n",
    "#    lambda s: distinct_chars_over(s, 7): 6,\n",
    "#    lambda s: distinct_chars_over(s, 8): 8,\n",
    "    lambda s: count_repeated_sequences(s, 2): 2,\n",
    "    lambda s: count_repeated_sequences(s, 3): 3,\n",
    "}\n",
    "\n",
    "def score(s):\n",
    "    ret = 0\n",
    "    for idx, (f, mult) in enumerate(scoremap.items()):\n",
    "        result = f(s)\n",
    "        ret += mult*int(result)\n",
    "    return ret"
   ]
  },
  {
   "cell_type": "code",
   "execution_count": null,
   "id": "9021a079",
   "metadata": {
    "is_executing": true
   },
   "outputs": [],
   "source": [
    "def read_file(fname, enc='iso8859-8'):\n",
    "    fd = open(fname, encoding=enc, errors='replace')\n",
    "    df = pd.read_csv(fd, sep='|')\n",
    "    return df\n",
    "\n",
    "def add_model(df):\n",
    "    df['model'] = df.apply(lambda x: '_'.join([x[y] for y in ['tozeret_cd', 'degem_cd', 'shnat_yitzur', 'sug_degem']]), axis=1)\n",
    "\n",
    "def get_model_name(ns):\n",
    "    names = pd.DataFrame(data={'model':ns})\n",
    "    ret = pd.merge(names, models, how='left', on='model')[['tozeret_nm', 'kinuy_mishari']]\n",
    "    return ret\n",
    "\n",
    "def ztest_proportions(df, population, test):\n",
    "    xtab=pd.crosstab(df[population], df[test])\n",
    "    se, pval = proportions_ztest(xtab[True].to_list(), xtab.sum(axis=1).to_list())\n",
    "    return pval"
   ]
  },
  {
   "cell_type": "code",
   "execution_count": null,
   "id": "548aebb7",
   "metadata": {
    "is_executing": true
   },
   "outputs": [],
   "source": [
    "# source : https://data.gov.il/dataset/private-and-commercial-vehicles/resource/053cea08-09bc-40ec-8f7a-156f0677aff3?inner_span=True\n",
    "\n",
    "#df = pd.read_csv('data/rechev-small.csv', encoding='iso-8859-1', sep='|')\n",
    "cars = read_file(datadir + 'rechev.csv')\n",
    "\n",
    "for c in ['mispar_rechev', 'degem_cd', 'tozeret_cd', 'shnat_yitzur']:\n",
    "    cars[c] = cars[c].astype(str)\n",
    "\n",
    "cars['time'] = pd.to_datetime(cars['moed_aliya_lakvish'], format='%Y-%m').dt.strftime('%Y-%m')"
   ]
  },
  {
   "cell_type": "code",
   "execution_count": null,
   "id": "995ca831",
   "metadata": {
    "scrolled": false,
    "is_executing": true
   },
   "outputs": [],
   "source": [
    "elec_cars = cars.query(\"sug_delek_nm == 'חשמל'\").copy()"
   ]
  },
  {
   "cell_type": "code",
   "execution_count": null,
   "id": "30b92402",
   "metadata": {
    "is_executing": true
   },
   "outputs": [],
   "source": [
    "elec_cars.query('shnat_yitzur >= \"2022\"')['kinuy_mishari'].value_counts()"
   ]
  },
  {
   "cell_type": "code",
   "execution_count": null,
   "id": "1f0ca1da",
   "metadata": {
    "is_executing": true
   },
   "outputs": [],
   "source": [
    "capacities = pd.read_csv('../data/capacities.csv')\n",
    "capacities"
   ]
  },
  {
   "cell_type": "code",
   "execution_count": null,
   "id": "5502ee78",
   "metadata": {
    "is_executing": true
   },
   "outputs": [],
   "source": [
    "elec_cars = elec_cars.merge(right=capacities, left_on='kinuy_mishari', right_on='model', how='left')\n",
    "power_counts = pd.DataFrame(elec_cars['max_power'].value_counts().sort_index().reset_index())\n",
    "power_counts.columns = ['max_power', 'count']\n",
    "power_counts.to_csv(datadir + 'power_counts.csv', index=False)"
   ]
  },
  {
   "cell_type": "code",
   "execution_count": null,
   "outputs": [],
   "source": [
    "power_counts"
   ],
   "metadata": {
    "collapsed": false,
    "is_executing": true
   },
   "id": "8561e5062a7484e6"
  },
  {
   "cell_type": "code",
   "execution_count": null,
   "id": "1b161648",
   "metadata": {
    "is_executing": true
   },
   "outputs": [],
   "source": [
    "import numpy as np\n",
    "all_max_powers = np.repeat(power_counts['max_power'].to_list(), power_counts['count'].to_list())\n",
    "sns.ecdfplot(all_max_powers)\n",
    "plt.title('CDF of max_power')\n",
    "plt.show()"
   ]
  },
  {
   "cell_type": "code",
   "execution_count": null,
   "id": "8d7a03cd",
   "metadata": {
    "scrolled": true,
    "is_executing": true
   },
   "outputs": [],
   "source": [
    "elec_cars.query(\"time == '2022-08'\")['kinuy_mishari'].value_counts()"
   ]
  },
  {
   "cell_type": "code",
   "execution_count": null,
   "id": "51aee440",
   "metadata": {
    "is_executing": true
   },
   "outputs": [],
   "source": [
    "elec_cars.query(\"kinuy_mishari == 'IONIQ5'\")['time'].value_counts().sort_index()"
   ]
  },
  {
   "cell_type": "code",
   "execution_count": null,
   "id": "5ca5e285",
   "metadata": {
    "is_executing": true
   },
   "outputs": [],
   "source": [
    "df = elec_cars.query(\"time > '2020-01'\").groupby('time').agg({\n",
    "    'capacity': ['mean', 'size'],\n",
    "    'max_power': 'mean'\n",
    "})\n",
    "\n",
    "# Rename columns for clarity\n",
    "df.columns = ['mean_capacity', 'size_capacity', 'mean_max_power']\n",
    "df['total_capacity'] = df['mean_capacity'] * df['size_capacity']"
   ]
  },
  {
   "cell_type": "code",
   "execution_count": null,
   "id": "ee0725c4",
   "metadata": {
    "scrolled": true,
    "is_executing": true
   },
   "outputs": [],
   "source": [
    "df.tail()"
   ]
  },
  {
   "cell_type": "code",
   "execution_count": null,
   "id": "bb1a6a4e",
   "metadata": {
    "is_executing": true
   },
   "outputs": [],
   "source": [
    "tot_bat_capacity = df.sum().total_capacity\n",
    "annual_capacity_100_util = 365*tot_bat_capacity\n",
    "utilization = (0.3*(10**9))/annual_capacity_100_util\n",
    "print(f\"{utilization}, {annual_capacity_100_util}\")"
   ]
  },
  {
   "cell_type": "code",
   "execution_count": null,
   "id": "b9f2323c",
   "metadata": {
    "is_executing": true
   },
   "outputs": [],
   "source": [
    "def sparsify_xticks(ax, spacing=10):\n",
    "    for ind, label in enumerate(ax.get_xticklabels()):\n",
    "        if ind % spacing == 0:\n",
    "            label.set_visible(True)\n",
    "        else:\n",
    "            label.set_visible(False)\n",
    "\n",
    "def rev(s):\n",
    "    return s[::-1]\n",
    "\n",
    "# Draw an orange frame around the chart\n",
    "def nice_border():\n",
    "    for spine in plt.gca().spines.values():\n",
    "        spine.set_visible(True)\n",
    "        spine.set_color('orange')\n",
    "        spine.set_linewidth(3)  # Set the border width\n",
    "\n",
    "sns.set(style=\"whitegrid\")\n",
    "plt.figure(figsize=(10, 6))\n",
    "\n",
    "# Plot the smoothed mean capacity over time with width 3\n",
    "ax=sns.lineplot(x='time', y='mean_capacity', data=df, linewidth=3, marker='o', markersize=8)\n",
    "\n",
    "plt.title(rev(\"קיבולת סוללה ממוצעת לפי מכירות בישראל\"))\n",
    "plt.xlabel(rev('תאריך'))\n",
    "plt.ylabel('(kWh) ' + rev('קיבולת'))\n",
    "sparsify_xticks(ax, 8)\n",
    "nice_border()\n",
    "plt.tight_layout()  # Adjust layout for better spacing\n",
    "plt.show()"
   ]
  },
  {
   "cell_type": "code",
   "execution_count": null,
   "id": "e5c04fed",
   "metadata": {
    "is_executing": true
   },
   "outputs": [],
   "source": [
    "plt.figure(figsize=(10, 6))\n",
    "\n",
    "ax=sns.lineplot(x='time', y='mean_max_power', data=df, linewidth=3, marker='o', markersize=8)\n",
    "\n",
    "plt.title(rev(\"זרם טעינה מקסימלי לפי מכירות בישראל\"))\n",
    "plt.xlabel(rev('תאריך'))\n",
    "plt.ylabel('(kW) ' +rev('זרם'))\n",
    "sparsify_xticks(ax, 8)\n",
    "nice_border()\n",
    "plt.tight_layout()  # Adjust layout for better spacing\n",
    "plt.show()"
   ]
  },
  {
   "cell_type": "code",
   "execution_count": null,
   "id": "80d0694d",
   "metadata": {
    "scrolled": false,
    "is_executing": true
   },
   "outputs": [],
   "source": [
    "sns.set(style=\"whitegrid\")\n",
    "plt.figure(figsize=(10, 6))\n",
    "\n",
    "# Plot the smoothed mean capacity over time with width 3\n",
    "ax=sns.lineplot(x='time', y='total_capacity', data=df, linewidth=3, marker='o', markersize=8)\n",
    "\n",
    "plt.title(rev(\"קיבולת סוללה כוללת נמכרת בישראל\"))\n",
    "plt.xlabel(rev('תאריך'))\n",
    "plt.ylabel('(MWh) ' + rev('קיבולת'))\n",
    "sparsify_xticks(ax, 8)\n",
    "nice_border()\n",
    "\n",
    "# Scale down Y-axis values and ticks by a factor of 1/1000\n",
    "y_formatter = ticker.FuncFormatter(lambda x, pos: f'{x/1000:.0f}')\n",
    "plt.gca().yaxis.set_major_formatter(y_formatter)\n",
    "\n",
    "plt.tight_layout()  # Adjust layout for better spacing\n",
    "\n",
    "plt.show()"
   ]
  },
  {
   "cell_type": "code",
   "execution_count": null,
   "id": "6a9ad5a6",
   "metadata": {
    "is_executing": true
   },
   "outputs": [],
   "source": [
    "# popular models\n",
    "model='kinuy_mishari'\n",
    "pop_models=elec_cars[model].value_counts().head(10).index.to_list()\n",
    "#elec_cars['time'].value_counts().sort_index(ascending=False).head(10)"
   ]
  },
  {
   "cell_type": "code",
   "execution_count": null,
   "id": "324df621",
   "metadata": {
    "is_executing": true
   },
   "outputs": [],
   "source": [
    "pop_models"
   ]
  },
  {
   "cell_type": "code",
   "execution_count": null,
   "id": "740f96e1",
   "metadata": {
    "is_executing": true
   },
   "outputs": [],
   "source": [
    "# count model sales over time\n",
    "df = elec_cars.query('kinuy_mishari in @pop_models')\n",
    "count_df = df.groupby(['time', 'kinuy_mishari']).size().unstack()\n",
    "#count_df = count_df.div(count_df.sum(axis=1), axis=0)"
   ]
  },
  {
   "cell_type": "code",
   "execution_count": null,
   "id": "be8f3bdd",
   "metadata": {
    "is_executing": true
   },
   "outputs": [],
   "source": [
    "count_df.tail()"
   ]
  },
  {
   "cell_type": "code",
   "execution_count": null,
   "id": "4969e69b",
   "metadata": {
    "is_executing": true
   },
   "outputs": [],
   "source": [
    "count_df.query('time > \"2022-01\"').plot(kind='bar', stacked=True, figsize=(10, 6))"
   ]
  },
  {
   "cell_type": "code",
   "execution_count": null,
   "id": "f2c0e2cc",
   "metadata": {
    "is_executing": true
   },
   "outputs": [],
   "source": [
    "elec_cars.query(\"time == '2023-08'\")[model].value_counts().head(10)"
   ]
  },
  {
   "cell_type": "code",
   "execution_count": null,
   "id": "66089d41",
   "metadata": {
    "is_executing": true
   },
   "outputs": [],
   "source": [
    "count_df = cars.groupby(['time', 'sug_delek_nm']).size().unstack()\n",
    "count_df = count_df.div(count_df.sum(axis=1), axis=0)"
   ]
  },
  {
   "cell_type": "code",
   "execution_count": 1,
   "id": "dbeed57a",
   "metadata": {
    "ExecuteTime": {
     "end_time": "2024-06-06T17:03:21.867415Z",
     "start_time": "2024-06-06T17:03:21.864183Z"
    }
   },
   "outputs": [],
   "source": [
    "#count_df.query('time > \"2021-01\"').plot(kind='bar', stacked=True, figsize=(10, 6))"
   ]
  }
 ],
 "metadata": {
  "kernelspec": {
   "display_name": "Python 3 (ipykernel)",
   "language": "python",
   "name": "python3"
  },
  "language_info": {
   "codemirror_mode": {
    "name": "ipython",
    "version": 3
   },
   "file_extension": ".py",
   "mimetype": "text/x-python",
   "name": "python",
   "nbconvert_exporter": "python",
   "pygments_lexer": "ipython3",
   "version": "3.8.13"
  }
 },
 "nbformat": 4,
 "nbformat_minor": 5
}
