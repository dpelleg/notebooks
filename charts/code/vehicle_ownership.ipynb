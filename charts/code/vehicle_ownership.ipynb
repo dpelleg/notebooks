{
 "cells": [
  {
   "cell_type": "code",
   "execution_count": 1,
   "id": "4a4fc5be",
   "metadata": {},
   "outputs": [],
   "source": [
    "import pandas as pd\n",
    "import seaborn as sns\n",
    "import matplotlib.pyplot as plt\n",
    "import math\n",
    "\n",
    "import plotly.graph_objects as go\n",
    "import plotly.express as px\n",
    "import numpy as np\n",
    "import statsmodels.api as sm"
   ]
  },
  {
   "cell_type": "code",
   "execution_count": 2,
   "id": "a3b1a82a",
   "metadata": {},
   "outputs": [],
   "source": [
    "datadir = '../data/'"
   ]
  },
  {
   "cell_type": "code",
   "execution_count": 3,
   "id": "1497c6ce",
   "metadata": {},
   "outputs": [],
   "source": [
    "def _read_file(fname, enc='iso8859-8'):\n",
    "    fd = open(fname, encoding=enc, errors='replace')\n",
    "    df = pd.read_csv(fd, sep='|')\n",
    "    return df\n",
    "\n",
    "def add_model(df):\n",
    "    df['model'] = df.apply(lambda x: '_'.join([x[y] for y in ['tozeret_cd', 'degem_cd', 'shnat_yitzur', 'sug_degem']]), axis=1)\n",
    "\n",
    "def get_model_name(ns):\n",
    "    names = pd.DataFrame(data={'model':ns})\n",
    "    ret = pd.merge(names, models, how='left', on='model')[['tozeret_nm', 'kinuy_mishari']]\n",
    "    return ret"
   ]
  },
  {
   "cell_type": "code",
   "execution_count": 4,
   "id": "62f0f7da",
   "metadata": {},
   "outputs": [],
   "source": [
    "# some of the makes are make + country of origin. Map those to just make.\n",
    "# Also, simplify some of the names\n",
    "\n",
    "def convert_make(df, oldcol='tozeret_nm', newcol='make'):\n",
    "    # read dictionary\n",
    "    filename=datadir + 'makes_dict.csv'\n",
    "\n",
    "    with open(filename, 'r') as f:\n",
    "        lines = f.readlines()\n",
    "\n",
    "    make_dict = []\n",
    "    for line in lines:\n",
    "        line = line.strip()\n",
    "        items = line.split(',', 1)\n",
    "        itm = items[0].strip()\n",
    "        if len(items) > 1:\n",
    "            make_dict.append((itm, items[1].strip()))\n",
    "        else:\n",
    "            make_dict.append((itm, itm))\n",
    "    \n",
    "    newdat = df[oldcol].copy()\n",
    "    for (m_in, m_out) in make_dict:\n",
    "        newdat[newdat.str.startswith(m_in)] = m_out\n",
    "    df[newcol] = newdat"
   ]
  },
  {
   "cell_type": "code",
   "execution_count": 5,
   "id": "6810f831",
   "metadata": {},
   "outputs": [],
   "source": [
    "# Figure if a vehicle was 1. never traded 2. traded within 12 months of purchase 3. traded later\n",
    "def trade_category(d):\n",
    "    oc = d['ownership_count']\n",
    "    months = d['months_to_first_trade']\n",
    "    if math.isnan(oc):\n",
    "        return 'ללא'\n",
    "    if (oc == 1) & (months == 0):\n",
    "        return 'מקורי'\n",
    "    if months < 12:\n",
    "        return 'נמכר תוך שנה'\n",
    "    return 'נמכר תוך יותר משנה'"
   ]
  },
  {
   "cell_type": "code",
   "execution_count": 6,
   "id": "0d6c4723",
   "metadata": {},
   "outputs": [],
   "source": [
    "def read_file(fname):\n",
    "    fname = datadir + fname\n",
    "    df = _read_file(fname)\n",
    "\n",
    "    for c in ['mispar_rechev', 'degem_cd', 'tozeret_cd', 'shnat_yitzur']:\n",
    "        df[c] = df[c].astype(str)\n",
    "\n",
    "    df['test']= pd.to_datetime(df.mivchan_acharon_dt)\n",
    "    df['test_expiry']= pd.to_datetime(df.tokef_dt)\n",
    "    df['year'] = df['shnat_yitzur'].astype(int)\n",
    "    c='moed_aliya_lakvish'\n",
    "    df[c] = pd.to_datetime(df[c], format=\"%Y-%m\")\n",
    "    df['kvish_ym'] = df[c].dt.strftime('%Y%m')\n",
    "    #df['sidra'] = df['mispar_rechev'].apply(lambda k : k[-2:])\n",
    "    add_model(df)\n",
    "    convert_make(df)\n",
    "    return df"
   ]
  },
  {
   "cell_type": "code",
   "execution_count": 7,
   "id": "eb7847f2",
   "metadata": {},
   "outputs": [],
   "source": [
    "vo = pd.read_csv(datadir + 'vehicle_ownership.csv', sep='|')\n",
    "\n",
    "c='mispar_rechev'\n",
    "vo[c] = vo[c].astype(str)\n",
    "\n",
    "c='baalut_dt'\n",
    "vo[c] = pd.to_datetime(vo[c], format=\"%Y%m\")"
   ]
  },
  {
   "cell_type": "code",
   "execution_count": 8,
   "id": "3ca9d642",
   "metadata": {},
   "outputs": [
    {
     "data": {
      "text/plain": [
       "פרטי     1619006\n",
       "החכר      597239\n",
       "סוחר      393190\n",
       "חברה      141107\n",
       "השכרה      38370\n",
       "Name: baalut, dtype: int64"
      ]
     },
     "execution_count": 8,
     "metadata": {},
     "output_type": "execute_result"
    }
   ],
   "source": [
    "vo.baalut.value_counts()"
   ]
  },
  {
   "cell_type": "code",
   "execution_count": 9,
   "id": "6910ef81",
   "metadata": {},
   "outputs": [],
   "source": [
    "# count number of ownerships\n",
    "oc = vo.groupby('mispar_rechev').size()\n",
    "just1 = oc[oc == 1]\n",
    "just1.name='ownership_count'\n",
    "notjust1 = oc[~(oc == 1)]\n",
    "notjust1.name='ownership_count_'"
   ]
  },
  {
   "cell_type": "code",
   "execution_count": 10,
   "id": "d1864576",
   "metadata": {},
   "outputs": [],
   "source": [
    "# The first ownership date is the purchase date. Pick the second-earliest date.\n",
    "# This takes a long time, so we just do it for vehicles with at least two ownership dates.\n",
    "mult_own = vo.merge(notjust1, how='right', left_on='mispar_rechev', right_index=True)\n",
    "\n",
    "nownerships = mult_own.groupby('mispar_rechev').agg({'baalut_dt' : lambda x: x.nsmallest(2).iloc[-1], 'baalut' : 'count'})\n",
    "nownerships.rename(columns={'baalut' : 'ownership_count'}, inplace=True)\n",
    "nownerships.reset_index(inplace=True)"
   ]
  },
  {
   "cell_type": "code",
   "execution_count": 11,
   "id": "4604b706",
   "metadata": {},
   "outputs": [],
   "source": [
    "# add the vehicles with just one ownership date\n",
    "single_own = vo.merge(just1, how='right', left_on='mispar_rechev', right_index=True).drop(columns=['baalut'])\n",
    "\n",
    "nownerships = pd.concat([nownerships, single_own])"
   ]
  },
  {
   "cell_type": "code",
   "execution_count": 12,
   "id": "04e26f7d",
   "metadata": {},
   "outputs": [],
   "source": [
    "# merge with the master file with all vehicles\n",
    "# source: https://data.gov.il/dataset/shinui_mivne\n",
    "\n",
    "df = read_file('rechev.csv')"
   ]
  },
  {
   "cell_type": "code",
   "execution_count": 13,
   "id": "5acfd098",
   "metadata": {},
   "outputs": [],
   "source": [
    "df = pd.merge(df, nownerships, on='mispar_rechev', how='left')"
   ]
  },
  {
   "cell_type": "code",
   "execution_count": 14,
   "id": "885bcc31",
   "metadata": {},
   "outputs": [],
   "source": [
    "df_bak = df.copy()\n",
    "#df = df.dropna(subset=['baalut_dt'])"
   ]
  },
  {
   "cell_type": "code",
   "execution_count": 15,
   "id": "fa55bfd1",
   "metadata": {},
   "outputs": [],
   "source": [
    "revert = False\n",
    "if revert:\n",
    "    df = df_bak.copy()\n",
    "    revert = False"
   ]
  },
  {
   "cell_type": "code",
   "execution_count": 16,
   "id": "aac07db0",
   "metadata": {},
   "outputs": [],
   "source": [
    "# Remove the commercial (MISHARI) models. There is very little ownership data on those anyway\n",
    "df.drop(index=df[df['sug_degem'] == 'M'].index, inplace=True)"
   ]
  },
  {
   "cell_type": "code",
   "execution_count": 17,
   "id": "073420ad",
   "metadata": {},
   "outputs": [],
   "source": [
    "# compute number of days and months till first trade\n",
    "c = 'days_to_first_trade'\n",
    "df[c] = ((df['baalut_dt'] - df['moed_aliya_lakvish']).dt.total_seconds())/(24*60*60)\n",
    "c2 = 'months_to_first_trade'\n",
    "df[c2] = df[c]/30\n",
    "\n",
    "df['trade'] = df.apply(trade_category, axis=1)"
   ]
  },
  {
   "cell_type": "code",
   "execution_count": 18,
   "id": "cbe473a1",
   "metadata": {},
   "outputs": [],
   "source": [
    "# there is a small number of mistyped ownership dates which precede the initial date, drop them\n",
    "df.drop(index=df[df['days_to_first_trade'] < 0].index, inplace=True)"
   ]
  },
  {
   "cell_type": "code",
   "execution_count": 19,
   "id": "51950ba3",
   "metadata": {},
   "outputs": [],
   "source": [
    "traded = df.query('ownership_count > 1')\n",
    "\n",
    "if False:\n",
    "    cols = ['mispar_rechev', 'sug_degem', 'tozeret_nm',\n",
    "       'shnat_yitzur', 'mivchan_acharon_dt', 'tokef_dt',\n",
    "       'baalut', 'sug_delek_nm', 'moed_aliya_lakvish',\n",
    "       'kinuy_mishari', 'test', 'test_expiry', 'model', 'baalut_dt',\n",
    "       'ownership_count', 'days_to_first_trade']\n",
    "    traded[cols].to_csv(datadir + 'traded.csv', index=False)"
   ]
  },
  {
   "cell_type": "code",
   "execution_count": 20,
   "id": "1fe9a555",
   "metadata": {},
   "outputs": [],
   "source": [
    "if False:\n",
    "    d=traded.query(\"year <= 2020\")\n",
    "    print(d['sug_delek_nm'].value_counts())\n",
    "    sns.violinplot(data=d, x='sug_delek_nm', y='days_to_first_trade')\n",
    "    plt.gca().set_xticklabels([tick.get_text()[::-1] for tick in plt.gca().get_xticklabels()])\n",
    "\n",
    "    d=traded.query(\"year > 2020\")\n",
    "    print(d['sug_delek_nm'].value_counts())\n",
    "    sns.violinplot(data=d, x='sug_delek_nm', y='days_to_first_trade')\n",
    "    # Set the reversed tick labels\n",
    "    plt.gca().set_xticklabels([tick.get_text()[::-1] for tick in plt.gca().get_xticklabels()])"
   ]
  },
  {
   "cell_type": "code",
   "execution_count": 57,
   "id": "b1ab8924",
   "metadata": {},
   "outputs": [],
   "source": [
    "def plot_deals(df, groupby='sug_delek_nm', title='התפלגות זמן מכירה לפי סוג דלק'):\n",
    "    D='months_to_first_trade'\n",
    "    df_filtered = df[~df['sug_delek_nm'].isin(low_fuel_counts)]\n",
    "\n",
    "    groups = df_filtered.groupby(groupby)\n",
    "    fig = go.Figure()\n",
    "    for name, group in groups:\n",
    "        ecdf = sm.distributions.ECDF(group[D])\n",
    "        x = np.linspace(min(group[D]), max(group[D]), num=100)\n",
    "        y = ecdf(x)\n",
    "        fig.add_trace(go.Scatter(x=x, y=y, mode='lines', name=name))\n",
    "\n",
    "    # customize the layout\n",
    "    fig.update_traces(line=dict(width=3))\n",
    "    fig.update_layout(title=title, xaxis_title='משך זמן מהקניה בחודשים', yaxis_title='הסתברות מכירה עד תום תקופה')\n",
    "\n",
    "    # show the plot\n",
    "    fig.show()"
   ]
  },
  {
   "cell_type": "code",
   "execution_count": 22,
   "id": "16038a7e",
   "metadata": {},
   "outputs": [],
   "source": [
    "#yearfuel = df.query(\"year >= 2020\").groupby(['kvish_ym', 'sug_delek_nm']).size().reset_index().rename(columns={0 : \"count\"})"
   ]
  },
  {
   "cell_type": "code",
   "execution_count": 39,
   "id": "c0cd6572",
   "metadata": {},
   "outputs": [
    {
     "data": {
      "text/html": [
       "<div>\n",
       "<style scoped>\n",
       "    .dataframe tbody tr th:only-of-type {\n",
       "        vertical-align: middle;\n",
       "    }\n",
       "\n",
       "    .dataframe tbody tr th {\n",
       "        vertical-align: top;\n",
       "    }\n",
       "\n",
       "    .dataframe thead th {\n",
       "        text-align: right;\n",
       "    }\n",
       "</style>\n",
       "<table border=\"1\" class=\"dataframe\">\n",
       "  <thead>\n",
       "    <tr style=\"text-align: right;\">\n",
       "      <th></th>\n",
       "      <th>kvish_ym</th>\n",
       "      <th>sug_delek_nm</th>\n",
       "      <th>share</th>\n",
       "    </tr>\n",
       "  </thead>\n",
       "  <tbody>\n",
       "    <tr>\n",
       "      <th>0</th>\n",
       "      <td>202001</td>\n",
       "      <td>בנזין</td>\n",
       "      <td>0.853571</td>\n",
       "    </tr>\n",
       "    <tr>\n",
       "      <th>1</th>\n",
       "      <td>202001</td>\n",
       "      <td>דיזל</td>\n",
       "      <td>0.100762</td>\n",
       "    </tr>\n",
       "    <tr>\n",
       "      <th>2</th>\n",
       "      <td>202001</td>\n",
       "      <td>חשמל/בנזין</td>\n",
       "      <td>0.034895</td>\n",
       "    </tr>\n",
       "    <tr>\n",
       "      <th>3</th>\n",
       "      <td>202001</td>\n",
       "      <td>חשמל</td>\n",
       "      <td>0.009844</td>\n",
       "    </tr>\n",
       "    <tr>\n",
       "      <th>4</th>\n",
       "      <td>202001</td>\n",
       "      <td>גפמ\"</td>\n",
       "      <td>0.000813</td>\n",
       "    </tr>\n",
       "    <tr>\n",
       "      <th>...</th>\n",
       "      <td>...</td>\n",
       "      <td>...</td>\n",
       "      <td>...</td>\n",
       "    </tr>\n",
       "    <tr>\n",
       "      <th>229</th>\n",
       "      <td>202304</td>\n",
       "      <td>בנזין</td>\n",
       "      <td>0.707582</td>\n",
       "    </tr>\n",
       "    <tr>\n",
       "      <th>230</th>\n",
       "      <td>202304</td>\n",
       "      <td>חשמל</td>\n",
       "      <td>0.171030</td>\n",
       "    </tr>\n",
       "    <tr>\n",
       "      <th>231</th>\n",
       "      <td>202304</td>\n",
       "      <td>חשמל/בנזין</td>\n",
       "      <td>0.071941</td>\n",
       "    </tr>\n",
       "    <tr>\n",
       "      <th>232</th>\n",
       "      <td>202304</td>\n",
       "      <td>דיזל</td>\n",
       "      <td>0.048866</td>\n",
       "    </tr>\n",
       "    <tr>\n",
       "      <th>233</th>\n",
       "      <td>202304</td>\n",
       "      <td>חשמל/דיזל</td>\n",
       "      <td>0.000582</td>\n",
       "    </tr>\n",
       "  </tbody>\n",
       "</table>\n",
       "<p>234 rows × 3 columns</p>\n",
       "</div>"
      ],
      "text/plain": [
       "    kvish_ym sug_delek_nm     share\n",
       "0     202001        בנזין  0.853571\n",
       "1     202001         דיזל  0.100762\n",
       "2     202001   חשמל/בנזין  0.034895\n",
       "3     202001         חשמל  0.009844\n",
       "4     202001         גפמ\"  0.000813\n",
       "..       ...          ...       ...\n",
       "229   202304        בנזין  0.707582\n",
       "230   202304         חשמל  0.171030\n",
       "231   202304   חשמל/בנזין  0.071941\n",
       "232   202304         דיזל  0.048866\n",
       "233   202304    חשמל/דיזל  0.000582\n",
       "\n",
       "[234 rows x 3 columns]"
      ]
     },
     "execution_count": 39,
     "metadata": {},
     "output_type": "execute_result"
    }
   ],
   "source": [
    "# Count market share over time, by fuel type\n",
    "counts=df.query(\"year >= 2020\").groupby('kvish_ym')['sug_delek_nm'].value_counts(normalize=True)\n",
    "counts.name='share'\n",
    "counts = counts.reset_index()"
   ]
  },
  {
   "cell_type": "code",
   "execution_count": 56,
   "id": "8c910e86",
   "metadata": {},
   "outputs": [
    {
     "data": {
      "application/vnd.plotly.v1+json": {
       "config": {
        "plotlyServerURL": "https://plot.ly"
       },
       "data": [
        {
         "hovertemplate": "sug_delek_nm=בנזין<br>kvish_ym=%{x}<br>share=%{y}<extra></extra>",
         "legendgroup": "בנזין",
         "line": {
          "color": "#636efa",
          "dash": "solid",
          "shape": "spline",
          "width": 3
         },
         "marker": {
          "symbol": "circle"
         },
         "mode": "lines",
         "name": "בנזין",
         "orientation": "v",
         "showlegend": true,
         "type": "scatter",
         "x": [
          "202001",
          "202002",
          "202003",
          "202004",
          "202005",
          "202006",
          "202007",
          "202008",
          "202009",
          "202010",
          "202011",
          "202012",
          "202101",
          "202102",
          "202103",
          "202104",
          "202105",
          "202106",
          "202107",
          "202108",
          "202109",
          "202110",
          "202111",
          "202112",
          "202201",
          "202202",
          "202203",
          "202204",
          "202205",
          "202206",
          "202207",
          "202208",
          "202209",
          "202210",
          "202211",
          "202212",
          "202301",
          "202302",
          "202303",
          "202304"
         ],
         "xaxis": "x",
         "y": [
          0.8535707652303121,
          0.878572665858306,
          0.8725625143381509,
          0.850606394707828,
          0.9050819370281716,
          0.8903334424542861,
          0.8878833584715937,
          0.8805715173163535,
          0.8618195456493785,
          0.8899116620889318,
          0.8758790436005626,
          0.8373722627737227,
          0.8531752476855612,
          0.8572733690461359,
          0.8648118826811431,
          0.8807757902669258,
          0.83282642523695,
          0.7970657832465688,
          0.8645994621465243,
          0.8048238778054863,
          0.8231631382316313,
          0.8379181754310112,
          0.8058625660740029,
          0.6604453870625663,
          0.8501688202888985,
          0.8021640282923543,
          0.8079247079503424,
          0.8109372641746743,
          0.8259578504557265,
          0.7822195447308404,
          0.8283200515915058,
          0.7837392862331122,
          0.7844206190562724,
          0.7108901839789739,
          0.5921301202598719,
          0.5749506903353058,
          0.7295325750572726,
          0.7409164346361418,
          0.6835735836406303,
          0.7075819274772155
         ],
         "yaxis": "y"
        },
        {
         "hovertemplate": "sug_delek_nm=דיזל<br>kvish_ym=%{x}<br>share=%{y}<extra></extra>",
         "legendgroup": "דיזל",
         "line": {
          "color": "#EF553B",
          "dash": "solid",
          "shape": "spline",
          "width": 3
         },
         "marker": {
          "symbol": "circle"
         },
         "mode": "lines",
         "name": "דיזל",
         "orientation": "v",
         "showlegend": true,
         "type": "scatter",
         "x": [
          "202001",
          "202002",
          "202003",
          "202004",
          "202005",
          "202006",
          "202007",
          "202008",
          "202009",
          "202010",
          "202011",
          "202012",
          "202101",
          "202102",
          "202103",
          "202104",
          "202105",
          "202106",
          "202107",
          "202108",
          "202109",
          "202110",
          "202111",
          "202112",
          "202201",
          "202202",
          "202203",
          "202204",
          "202205",
          "202206",
          "202207",
          "202208",
          "202209",
          "202210",
          "202211",
          "202212",
          "202301",
          "202302",
          "202303",
          "202304"
         ],
         "xaxis": "x",
         "y": [
          0.10076151560178306,
          0.09808591720076217,
          0.10833906859371416,
          0.11686879823594266,
          0.07273062051187626,
          0.08642379460318945,
          0.08277343571461218,
          0.08702179427447326,
          0.08995927989712817,
          0.07237770024497067,
          0.08466947960618847,
          0.11386861313868613,
          0.09229332467110606,
          0.09812715418794901,
          0.07517152981979944,
          0.0779359854043549,
          0.07911302871693308,
          0.08007572172266919,
          0.0836932605329639,
          0.05575903990024938,
          0.05586194627290518,
          0.04777603631843485,
          0.05327109219468662,
          0.036055143160127257,
          0.05196618516920109,
          0.06256315257662512,
          0.06016772256198044,
          0.0487498113397394,
          0.05588320204561389,
          0.0762511295666767,
          0.06683863835275693,
          0.06663115587622875,
          0.0585741110909201,
          0.04890869614901154,
          0.028014560199050822,
          0.02717510409818102,
          0.05178650375788754,
          0.06984978171943212,
          0.051324170298357355,
          0.04886561954624782
         ],
         "yaxis": "y"
        },
        {
         "hovertemplate": "sug_delek_nm=חשמל/בנזין<br>kvish_ym=%{x}<br>share=%{y}<extra></extra>",
         "legendgroup": "חשמל/בנזין",
         "line": {
          "color": "#00cc96",
          "dash": "solid",
          "shape": "spline",
          "width": 3
         },
         "marker": {
          "symbol": "circle"
         },
         "mode": "lines",
         "name": "חשמל/בנזין",
         "orientation": "v",
         "showlegend": true,
         "type": "scatter",
         "x": [
          "202001",
          "202002",
          "202003",
          "202004",
          "202005",
          "202006",
          "202007",
          "202008",
          "202009",
          "202010",
          "202011",
          "202012",
          "202101",
          "202102",
          "202103",
          "202104",
          "202105",
          "202106",
          "202107",
          "202108",
          "202109",
          "202110",
          "202111",
          "202112",
          "202201",
          "202202",
          "202203",
          "202204",
          "202205",
          "202206",
          "202207",
          "202208",
          "202209",
          "202210",
          "202211",
          "202212",
          "202301",
          "202302",
          "202303",
          "202304"
         ],
         "xaxis": "x",
         "y": [
          0.03489505943536404,
          0.017148796119868352,
          0.011929341592108282,
          0.021499448732083794,
          0.016755661940710733,
          0.017396997614927745,
          0.021207550619315327,
          0.02562509706476161,
          0.04066652378911273,
          0.030732685027095242,
          0.03255977496483826,
          0.03386861313868613,
          0.044644307292512585,
          0.03807981396121424,
          0.04256201462715826,
          0.030301828421845874,
          0.03133399349271467,
          0.059662407319766526,
          0.03239344796675087,
          0.05186253117206983,
          0.07178438000355808,
          0.07155596389774631,
          0.05690945287293197,
          0.06638388123011665,
          0.05950597852301287,
          0.0597002357696194,
          0.07291170762075658,
          0.07818081199376163,
          0.054233513424341157,
          0.051207022677395755,
          0.03795660785849187,
          0.03549464916953174,
          0.04179538433581683,
          0.08501885498800137,
          0.07648712159609271,
          0.03407845715538023,
          0.06838551505164583,
          0.05163108865284796,
          0.05886691250419041,
          0.07194105099864262
         ],
         "yaxis": "y"
        },
        {
         "hovertemplate": "sug_delek_nm=חשמל<br>kvish_ym=%{x}<br>share=%{y}<extra></extra>",
         "legendgroup": "חשמל",
         "line": {
          "color": "#ab63fa",
          "dash": "solid",
          "shape": "spline",
          "width": 3
         },
         "marker": {
          "symbol": "circle"
         },
         "mode": "lines",
         "name": "חשמל",
         "orientation": "v",
         "showlegend": true,
         "type": "scatter",
         "x": [
          "202001",
          "202002",
          "202003",
          "202004",
          "202005",
          "202006",
          "202007",
          "202008",
          "202009",
          "202010",
          "202011",
          "202012",
          "202101",
          "202102",
          "202103",
          "202104",
          "202105",
          "202106",
          "202107",
          "202108",
          "202109",
          "202110",
          "202111",
          "202112",
          "202201",
          "202202",
          "202203",
          "202204",
          "202205",
          "202206",
          "202207",
          "202208",
          "202209",
          "202210",
          "202211",
          "202212",
          "202301",
          "202302",
          "202303",
          "202304"
         ],
         "xaxis": "x",
         "y": [
          0.009843982169390787,
          0.005716265373289451,
          0.006997017664601973,
          0.010474090407938258,
          0.004971460136254833,
          0.0053781041013889535,
          0.007998537410302117,
          0.006419216234404928,
          0.007286755250750107,
          0.006532551406725559,
          0.006821378340365682,
          0.014014598540145985,
          0.009298359590709761,
          0.0057306590257879654,
          0.017039885395461057,
          0.009360250664339825,
          0.055665582119111615,
          0.0623126676131882,
          0.01845815336973352,
          0.08669731920199501,
          0.047767301191958725,
          0.041344646814030155,
          0.08292716413812042,
          0.2349946977730647,
          0.037343555634535806,
          0.07510946446615022,
          0.05859303475299374,
          0.061427780852241286,
          0.06351301191900029,
          0.08984896079865742,
          0.06582523377401078,
          0.11195583748970994,
          0.11387727905990672,
          0.1540395383384756,
          0.3028613555729623,
          0.36324786324786323,
          0.1490896668140348,
          0.13698394692516586,
          0.20590010056989608,
          0.17102966841186737
         ],
         "yaxis": "y"
        }
       ],
       "layout": {
        "legend": {
         "title": {
          "text": "sug_delek_nm"
         },
         "tracegroupgap": 0
        },
        "margin": {
         "t": 60
        },
        "template": {
         "data": {
          "bar": [
           {
            "error_x": {
             "color": "#2a3f5f"
            },
            "error_y": {
             "color": "#2a3f5f"
            },
            "marker": {
             "line": {
              "color": "#E5ECF6",
              "width": 0.5
             },
             "pattern": {
              "fillmode": "overlay",
              "size": 10,
              "solidity": 0.2
             }
            },
            "type": "bar"
           }
          ],
          "barpolar": [
           {
            "marker": {
             "line": {
              "color": "#E5ECF6",
              "width": 0.5
             },
             "pattern": {
              "fillmode": "overlay",
              "size": 10,
              "solidity": 0.2
             }
            },
            "type": "barpolar"
           }
          ],
          "carpet": [
           {
            "aaxis": {
             "endlinecolor": "#2a3f5f",
             "gridcolor": "white",
             "linecolor": "white",
             "minorgridcolor": "white",
             "startlinecolor": "#2a3f5f"
            },
            "baxis": {
             "endlinecolor": "#2a3f5f",
             "gridcolor": "white",
             "linecolor": "white",
             "minorgridcolor": "white",
             "startlinecolor": "#2a3f5f"
            },
            "type": "carpet"
           }
          ],
          "choropleth": [
           {
            "colorbar": {
             "outlinewidth": 0,
             "ticks": ""
            },
            "type": "choropleth"
           }
          ],
          "contour": [
           {
            "colorbar": {
             "outlinewidth": 0,
             "ticks": ""
            },
            "colorscale": [
             [
              0,
              "#0d0887"
             ],
             [
              0.1111111111111111,
              "#46039f"
             ],
             [
              0.2222222222222222,
              "#7201a8"
             ],
             [
              0.3333333333333333,
              "#9c179e"
             ],
             [
              0.4444444444444444,
              "#bd3786"
             ],
             [
              0.5555555555555556,
              "#d8576b"
             ],
             [
              0.6666666666666666,
              "#ed7953"
             ],
             [
              0.7777777777777778,
              "#fb9f3a"
             ],
             [
              0.8888888888888888,
              "#fdca26"
             ],
             [
              1,
              "#f0f921"
             ]
            ],
            "type": "contour"
           }
          ],
          "contourcarpet": [
           {
            "colorbar": {
             "outlinewidth": 0,
             "ticks": ""
            },
            "type": "contourcarpet"
           }
          ],
          "heatmap": [
           {
            "colorbar": {
             "outlinewidth": 0,
             "ticks": ""
            },
            "colorscale": [
             [
              0,
              "#0d0887"
             ],
             [
              0.1111111111111111,
              "#46039f"
             ],
             [
              0.2222222222222222,
              "#7201a8"
             ],
             [
              0.3333333333333333,
              "#9c179e"
             ],
             [
              0.4444444444444444,
              "#bd3786"
             ],
             [
              0.5555555555555556,
              "#d8576b"
             ],
             [
              0.6666666666666666,
              "#ed7953"
             ],
             [
              0.7777777777777778,
              "#fb9f3a"
             ],
             [
              0.8888888888888888,
              "#fdca26"
             ],
             [
              1,
              "#f0f921"
             ]
            ],
            "type": "heatmap"
           }
          ],
          "heatmapgl": [
           {
            "colorbar": {
             "outlinewidth": 0,
             "ticks": ""
            },
            "colorscale": [
             [
              0,
              "#0d0887"
             ],
             [
              0.1111111111111111,
              "#46039f"
             ],
             [
              0.2222222222222222,
              "#7201a8"
             ],
             [
              0.3333333333333333,
              "#9c179e"
             ],
             [
              0.4444444444444444,
              "#bd3786"
             ],
             [
              0.5555555555555556,
              "#d8576b"
             ],
             [
              0.6666666666666666,
              "#ed7953"
             ],
             [
              0.7777777777777778,
              "#fb9f3a"
             ],
             [
              0.8888888888888888,
              "#fdca26"
             ],
             [
              1,
              "#f0f921"
             ]
            ],
            "type": "heatmapgl"
           }
          ],
          "histogram": [
           {
            "marker": {
             "pattern": {
              "fillmode": "overlay",
              "size": 10,
              "solidity": 0.2
             }
            },
            "type": "histogram"
           }
          ],
          "histogram2d": [
           {
            "colorbar": {
             "outlinewidth": 0,
             "ticks": ""
            },
            "colorscale": [
             [
              0,
              "#0d0887"
             ],
             [
              0.1111111111111111,
              "#46039f"
             ],
             [
              0.2222222222222222,
              "#7201a8"
             ],
             [
              0.3333333333333333,
              "#9c179e"
             ],
             [
              0.4444444444444444,
              "#bd3786"
             ],
             [
              0.5555555555555556,
              "#d8576b"
             ],
             [
              0.6666666666666666,
              "#ed7953"
             ],
             [
              0.7777777777777778,
              "#fb9f3a"
             ],
             [
              0.8888888888888888,
              "#fdca26"
             ],
             [
              1,
              "#f0f921"
             ]
            ],
            "type": "histogram2d"
           }
          ],
          "histogram2dcontour": [
           {
            "colorbar": {
             "outlinewidth": 0,
             "ticks": ""
            },
            "colorscale": [
             [
              0,
              "#0d0887"
             ],
             [
              0.1111111111111111,
              "#46039f"
             ],
             [
              0.2222222222222222,
              "#7201a8"
             ],
             [
              0.3333333333333333,
              "#9c179e"
             ],
             [
              0.4444444444444444,
              "#bd3786"
             ],
             [
              0.5555555555555556,
              "#d8576b"
             ],
             [
              0.6666666666666666,
              "#ed7953"
             ],
             [
              0.7777777777777778,
              "#fb9f3a"
             ],
             [
              0.8888888888888888,
              "#fdca26"
             ],
             [
              1,
              "#f0f921"
             ]
            ],
            "type": "histogram2dcontour"
           }
          ],
          "mesh3d": [
           {
            "colorbar": {
             "outlinewidth": 0,
             "ticks": ""
            },
            "type": "mesh3d"
           }
          ],
          "parcoords": [
           {
            "line": {
             "colorbar": {
              "outlinewidth": 0,
              "ticks": ""
             }
            },
            "type": "parcoords"
           }
          ],
          "pie": [
           {
            "automargin": true,
            "type": "pie"
           }
          ],
          "scatter": [
           {
            "fillpattern": {
             "fillmode": "overlay",
             "size": 10,
             "solidity": 0.2
            },
            "type": "scatter"
           }
          ],
          "scatter3d": [
           {
            "line": {
             "colorbar": {
              "outlinewidth": 0,
              "ticks": ""
             }
            },
            "marker": {
             "colorbar": {
              "outlinewidth": 0,
              "ticks": ""
             }
            },
            "type": "scatter3d"
           }
          ],
          "scattercarpet": [
           {
            "marker": {
             "colorbar": {
              "outlinewidth": 0,
              "ticks": ""
             }
            },
            "type": "scattercarpet"
           }
          ],
          "scattergeo": [
           {
            "marker": {
             "colorbar": {
              "outlinewidth": 0,
              "ticks": ""
             }
            },
            "type": "scattergeo"
           }
          ],
          "scattergl": [
           {
            "marker": {
             "colorbar": {
              "outlinewidth": 0,
              "ticks": ""
             }
            },
            "type": "scattergl"
           }
          ],
          "scattermapbox": [
           {
            "marker": {
             "colorbar": {
              "outlinewidth": 0,
              "ticks": ""
             }
            },
            "type": "scattermapbox"
           }
          ],
          "scatterpolar": [
           {
            "marker": {
             "colorbar": {
              "outlinewidth": 0,
              "ticks": ""
             }
            },
            "type": "scatterpolar"
           }
          ],
          "scatterpolargl": [
           {
            "marker": {
             "colorbar": {
              "outlinewidth": 0,
              "ticks": ""
             }
            },
            "type": "scatterpolargl"
           }
          ],
          "scatterternary": [
           {
            "marker": {
             "colorbar": {
              "outlinewidth": 0,
              "ticks": ""
             }
            },
            "type": "scatterternary"
           }
          ],
          "surface": [
           {
            "colorbar": {
             "outlinewidth": 0,
             "ticks": ""
            },
            "colorscale": [
             [
              0,
              "#0d0887"
             ],
             [
              0.1111111111111111,
              "#46039f"
             ],
             [
              0.2222222222222222,
              "#7201a8"
             ],
             [
              0.3333333333333333,
              "#9c179e"
             ],
             [
              0.4444444444444444,
              "#bd3786"
             ],
             [
              0.5555555555555556,
              "#d8576b"
             ],
             [
              0.6666666666666666,
              "#ed7953"
             ],
             [
              0.7777777777777778,
              "#fb9f3a"
             ],
             [
              0.8888888888888888,
              "#fdca26"
             ],
             [
              1,
              "#f0f921"
             ]
            ],
            "type": "surface"
           }
          ],
          "table": [
           {
            "cells": {
             "fill": {
              "color": "#EBF0F8"
             },
             "line": {
              "color": "white"
             }
            },
            "header": {
             "fill": {
              "color": "#C8D4E3"
             },
             "line": {
              "color": "white"
             }
            },
            "type": "table"
           }
          ]
         },
         "layout": {
          "annotationdefaults": {
           "arrowcolor": "#2a3f5f",
           "arrowhead": 0,
           "arrowwidth": 1
          },
          "autotypenumbers": "strict",
          "coloraxis": {
           "colorbar": {
            "outlinewidth": 0,
            "ticks": ""
           }
          },
          "colorscale": {
           "diverging": [
            [
             0,
             "#8e0152"
            ],
            [
             0.1,
             "#c51b7d"
            ],
            [
             0.2,
             "#de77ae"
            ],
            [
             0.3,
             "#f1b6da"
            ],
            [
             0.4,
             "#fde0ef"
            ],
            [
             0.5,
             "#f7f7f7"
            ],
            [
             0.6,
             "#e6f5d0"
            ],
            [
             0.7,
             "#b8e186"
            ],
            [
             0.8,
             "#7fbc41"
            ],
            [
             0.9,
             "#4d9221"
            ],
            [
             1,
             "#276419"
            ]
           ],
           "sequential": [
            [
             0,
             "#0d0887"
            ],
            [
             0.1111111111111111,
             "#46039f"
            ],
            [
             0.2222222222222222,
             "#7201a8"
            ],
            [
             0.3333333333333333,
             "#9c179e"
            ],
            [
             0.4444444444444444,
             "#bd3786"
            ],
            [
             0.5555555555555556,
             "#d8576b"
            ],
            [
             0.6666666666666666,
             "#ed7953"
            ],
            [
             0.7777777777777778,
             "#fb9f3a"
            ],
            [
             0.8888888888888888,
             "#fdca26"
            ],
            [
             1,
             "#f0f921"
            ]
           ],
           "sequentialminus": [
            [
             0,
             "#0d0887"
            ],
            [
             0.1111111111111111,
             "#46039f"
            ],
            [
             0.2222222222222222,
             "#7201a8"
            ],
            [
             0.3333333333333333,
             "#9c179e"
            ],
            [
             0.4444444444444444,
             "#bd3786"
            ],
            [
             0.5555555555555556,
             "#d8576b"
            ],
            [
             0.6666666666666666,
             "#ed7953"
            ],
            [
             0.7777777777777778,
             "#fb9f3a"
            ],
            [
             0.8888888888888888,
             "#fdca26"
            ],
            [
             1,
             "#f0f921"
            ]
           ]
          },
          "colorway": [
           "#636efa",
           "#EF553B",
           "#00cc96",
           "#ab63fa",
           "#FFA15A",
           "#19d3f3",
           "#FF6692",
           "#B6E880",
           "#FF97FF",
           "#FECB52"
          ],
          "font": {
           "color": "#2a3f5f"
          },
          "geo": {
           "bgcolor": "white",
           "lakecolor": "white",
           "landcolor": "#E5ECF6",
           "showlakes": true,
           "showland": true,
           "subunitcolor": "white"
          },
          "hoverlabel": {
           "align": "left"
          },
          "hovermode": "closest",
          "mapbox": {
           "style": "light"
          },
          "paper_bgcolor": "white",
          "plot_bgcolor": "#E5ECF6",
          "polar": {
           "angularaxis": {
            "gridcolor": "white",
            "linecolor": "white",
            "ticks": ""
           },
           "bgcolor": "#E5ECF6",
           "radialaxis": {
            "gridcolor": "white",
            "linecolor": "white",
            "ticks": ""
           }
          },
          "scene": {
           "xaxis": {
            "backgroundcolor": "#E5ECF6",
            "gridcolor": "white",
            "gridwidth": 2,
            "linecolor": "white",
            "showbackground": true,
            "ticks": "",
            "zerolinecolor": "white"
           },
           "yaxis": {
            "backgroundcolor": "#E5ECF6",
            "gridcolor": "white",
            "gridwidth": 2,
            "linecolor": "white",
            "showbackground": true,
            "ticks": "",
            "zerolinecolor": "white"
           },
           "zaxis": {
            "backgroundcolor": "#E5ECF6",
            "gridcolor": "white",
            "gridwidth": 2,
            "linecolor": "white",
            "showbackground": true,
            "ticks": "",
            "zerolinecolor": "white"
           }
          },
          "shapedefaults": {
           "line": {
            "color": "#2a3f5f"
           }
          },
          "ternary": {
           "aaxis": {
            "gridcolor": "white",
            "linecolor": "white",
            "ticks": ""
           },
           "baxis": {
            "gridcolor": "white",
            "linecolor": "white",
            "ticks": ""
           },
           "bgcolor": "#E5ECF6",
           "caxis": {
            "gridcolor": "white",
            "linecolor": "white",
            "ticks": ""
           }
          },
          "title": {
           "x": 0.05
          },
          "xaxis": {
           "automargin": true,
           "gridcolor": "white",
           "linecolor": "white",
           "ticks": "",
           "title": {
            "standoff": 15
           },
           "zerolinecolor": "white",
           "zerolinewidth": 2
          },
          "yaxis": {
           "automargin": true,
           "gridcolor": "white",
           "linecolor": "white",
           "ticks": "",
           "title": {
            "standoff": 15
           },
           "zerolinecolor": "white",
           "zerolinewidth": 2
          }
         }
        },
        "xaxis": {
         "anchor": "y",
         "domain": [
          0,
          1
         ],
         "tickangle": 45,
         "title": {
          "text": "kvish_ym"
         }
        },
        "yaxis": {
         "anchor": "x",
         "domain": [
          0,
          1
         ],
         "title": {
          "text": "share"
         }
        }
       }
      },
      "text/html": [
       "<div>                            <div id=\"094b9f13-c9ca-40a5-a3fe-9a7a9977c66e\" class=\"plotly-graph-div\" style=\"height:525px; width:100%;\"></div>            <script type=\"text/javascript\">                require([\"plotly\"], function(Plotly) {                    window.PLOTLYENV=window.PLOTLYENV || {};                                    if (document.getElementById(\"094b9f13-c9ca-40a5-a3fe-9a7a9977c66e\")) {                    Plotly.newPlot(                        \"094b9f13-c9ca-40a5-a3fe-9a7a9977c66e\",                        [{\"hovertemplate\":\"sug_delek_nm=בנזין<br>kvish_ym=%{x}<br>share=%{y}<extra></extra>\",\"legendgroup\":\"בנזין\",\"line\":{\"color\":\"#636efa\",\"dash\":\"solid\",\"shape\":\"spline\",\"width\":3},\"marker\":{\"symbol\":\"circle\"},\"mode\":\"lines\",\"name\":\"בנזין\",\"orientation\":\"v\",\"showlegend\":true,\"x\":[\"202001\",\"202002\",\"202003\",\"202004\",\"202005\",\"202006\",\"202007\",\"202008\",\"202009\",\"202010\",\"202011\",\"202012\",\"202101\",\"202102\",\"202103\",\"202104\",\"202105\",\"202106\",\"202107\",\"202108\",\"202109\",\"202110\",\"202111\",\"202112\",\"202201\",\"202202\",\"202203\",\"202204\",\"202205\",\"202206\",\"202207\",\"202208\",\"202209\",\"202210\",\"202211\",\"202212\",\"202301\",\"202302\",\"202303\",\"202304\"],\"xaxis\":\"x\",\"y\":[0.8535707652303121,0.878572665858306,0.8725625143381509,0.850606394707828,0.9050819370281716,0.8903334424542861,0.8878833584715937,0.8805715173163535,0.8618195456493785,0.8899116620889318,0.8758790436005626,0.8373722627737227,0.8531752476855612,0.8572733690461359,0.8648118826811431,0.8807757902669258,0.83282642523695,0.7970657832465688,0.8645994621465243,0.8048238778054863,0.8231631382316313,0.8379181754310112,0.8058625660740029,0.6604453870625663,0.8501688202888985,0.8021640282923543,0.8079247079503424,0.8109372641746743,0.8259578504557265,0.7822195447308404,0.8283200515915058,0.7837392862331122,0.7844206190562724,0.7108901839789739,0.5921301202598719,0.5749506903353058,0.7295325750572726,0.7409164346361418,0.6835735836406303,0.7075819274772155],\"yaxis\":\"y\",\"type\":\"scatter\"},{\"hovertemplate\":\"sug_delek_nm=דיזל<br>kvish_ym=%{x}<br>share=%{y}<extra></extra>\",\"legendgroup\":\"דיזל\",\"line\":{\"color\":\"#EF553B\",\"dash\":\"solid\",\"shape\":\"spline\",\"width\":3},\"marker\":{\"symbol\":\"circle\"},\"mode\":\"lines\",\"name\":\"דיזל\",\"orientation\":\"v\",\"showlegend\":true,\"x\":[\"202001\",\"202002\",\"202003\",\"202004\",\"202005\",\"202006\",\"202007\",\"202008\",\"202009\",\"202010\",\"202011\",\"202012\",\"202101\",\"202102\",\"202103\",\"202104\",\"202105\",\"202106\",\"202107\",\"202108\",\"202109\",\"202110\",\"202111\",\"202112\",\"202201\",\"202202\",\"202203\",\"202204\",\"202205\",\"202206\",\"202207\",\"202208\",\"202209\",\"202210\",\"202211\",\"202212\",\"202301\",\"202302\",\"202303\",\"202304\"],\"xaxis\":\"x\",\"y\":[0.10076151560178306,0.09808591720076217,0.10833906859371416,0.11686879823594266,0.07273062051187626,0.08642379460318945,0.08277343571461218,0.08702179427447326,0.08995927989712817,0.07237770024497067,0.08466947960618847,0.11386861313868613,0.09229332467110606,0.09812715418794901,0.07517152981979944,0.0779359854043549,0.07911302871693308,0.08007572172266919,0.0836932605329639,0.05575903990024938,0.05586194627290518,0.04777603631843485,0.05327109219468662,0.036055143160127257,0.05196618516920109,0.06256315257662512,0.06016772256198044,0.0487498113397394,0.05588320204561389,0.0762511295666767,0.06683863835275693,0.06663115587622875,0.0585741110909201,0.04890869614901154,0.028014560199050822,0.02717510409818102,0.05178650375788754,0.06984978171943212,0.051324170298357355,0.04886561954624782],\"yaxis\":\"y\",\"type\":\"scatter\"},{\"hovertemplate\":\"sug_delek_nm=חשמל/בנזין<br>kvish_ym=%{x}<br>share=%{y}<extra></extra>\",\"legendgroup\":\"חשמל/בנזין\",\"line\":{\"color\":\"#00cc96\",\"dash\":\"solid\",\"shape\":\"spline\",\"width\":3},\"marker\":{\"symbol\":\"circle\"},\"mode\":\"lines\",\"name\":\"חשמל/בנזין\",\"orientation\":\"v\",\"showlegend\":true,\"x\":[\"202001\",\"202002\",\"202003\",\"202004\",\"202005\",\"202006\",\"202007\",\"202008\",\"202009\",\"202010\",\"202011\",\"202012\",\"202101\",\"202102\",\"202103\",\"202104\",\"202105\",\"202106\",\"202107\",\"202108\",\"202109\",\"202110\",\"202111\",\"202112\",\"202201\",\"202202\",\"202203\",\"202204\",\"202205\",\"202206\",\"202207\",\"202208\",\"202209\",\"202210\",\"202211\",\"202212\",\"202301\",\"202302\",\"202303\",\"202304\"],\"xaxis\":\"x\",\"y\":[0.03489505943536404,0.017148796119868352,0.011929341592108282,0.021499448732083794,0.016755661940710733,0.017396997614927745,0.021207550619315327,0.02562509706476161,0.04066652378911273,0.030732685027095242,0.03255977496483826,0.03386861313868613,0.044644307292512585,0.03807981396121424,0.04256201462715826,0.030301828421845874,0.03133399349271467,0.059662407319766526,0.03239344796675087,0.05186253117206983,0.07178438000355808,0.07155596389774631,0.05690945287293197,0.06638388123011665,0.05950597852301287,0.0597002357696194,0.07291170762075658,0.07818081199376163,0.054233513424341157,0.051207022677395755,0.03795660785849187,0.03549464916953174,0.04179538433581683,0.08501885498800137,0.07648712159609271,0.03407845715538023,0.06838551505164583,0.05163108865284796,0.05886691250419041,0.07194105099864262],\"yaxis\":\"y\",\"type\":\"scatter\"},{\"hovertemplate\":\"sug_delek_nm=חשמל<br>kvish_ym=%{x}<br>share=%{y}<extra></extra>\",\"legendgroup\":\"חשמל\",\"line\":{\"color\":\"#ab63fa\",\"dash\":\"solid\",\"shape\":\"spline\",\"width\":3},\"marker\":{\"symbol\":\"circle\"},\"mode\":\"lines\",\"name\":\"חשמל\",\"orientation\":\"v\",\"showlegend\":true,\"x\":[\"202001\",\"202002\",\"202003\",\"202004\",\"202005\",\"202006\",\"202007\",\"202008\",\"202009\",\"202010\",\"202011\",\"202012\",\"202101\",\"202102\",\"202103\",\"202104\",\"202105\",\"202106\",\"202107\",\"202108\",\"202109\",\"202110\",\"202111\",\"202112\",\"202201\",\"202202\",\"202203\",\"202204\",\"202205\",\"202206\",\"202207\",\"202208\",\"202209\",\"202210\",\"202211\",\"202212\",\"202301\",\"202302\",\"202303\",\"202304\"],\"xaxis\":\"x\",\"y\":[0.009843982169390787,0.005716265373289451,0.006997017664601973,0.010474090407938258,0.004971460136254833,0.0053781041013889535,0.007998537410302117,0.006419216234404928,0.007286755250750107,0.006532551406725559,0.006821378340365682,0.014014598540145985,0.009298359590709761,0.0057306590257879654,0.017039885395461057,0.009360250664339825,0.055665582119111615,0.0623126676131882,0.01845815336973352,0.08669731920199501,0.047767301191958725,0.041344646814030155,0.08292716413812042,0.2349946977730647,0.037343555634535806,0.07510946446615022,0.05859303475299374,0.061427780852241286,0.06351301191900029,0.08984896079865742,0.06582523377401078,0.11195583748970994,0.11387727905990672,0.1540395383384756,0.3028613555729623,0.36324786324786323,0.1490896668140348,0.13698394692516586,0.20590010056989608,0.17102966841186737],\"yaxis\":\"y\",\"type\":\"scatter\"}],                        {\"template\":{\"data\":{\"histogram2dcontour\":[{\"type\":\"histogram2dcontour\",\"colorbar\":{\"outlinewidth\":0,\"ticks\":\"\"},\"colorscale\":[[0.0,\"#0d0887\"],[0.1111111111111111,\"#46039f\"],[0.2222222222222222,\"#7201a8\"],[0.3333333333333333,\"#9c179e\"],[0.4444444444444444,\"#bd3786\"],[0.5555555555555556,\"#d8576b\"],[0.6666666666666666,\"#ed7953\"],[0.7777777777777778,\"#fb9f3a\"],[0.8888888888888888,\"#fdca26\"],[1.0,\"#f0f921\"]]}],\"choropleth\":[{\"type\":\"choropleth\",\"colorbar\":{\"outlinewidth\":0,\"ticks\":\"\"}}],\"histogram2d\":[{\"type\":\"histogram2d\",\"colorbar\":{\"outlinewidth\":0,\"ticks\":\"\"},\"colorscale\":[[0.0,\"#0d0887\"],[0.1111111111111111,\"#46039f\"],[0.2222222222222222,\"#7201a8\"],[0.3333333333333333,\"#9c179e\"],[0.4444444444444444,\"#bd3786\"],[0.5555555555555556,\"#d8576b\"],[0.6666666666666666,\"#ed7953\"],[0.7777777777777778,\"#fb9f3a\"],[0.8888888888888888,\"#fdca26\"],[1.0,\"#f0f921\"]]}],\"heatmap\":[{\"type\":\"heatmap\",\"colorbar\":{\"outlinewidth\":0,\"ticks\":\"\"},\"colorscale\":[[0.0,\"#0d0887\"],[0.1111111111111111,\"#46039f\"],[0.2222222222222222,\"#7201a8\"],[0.3333333333333333,\"#9c179e\"],[0.4444444444444444,\"#bd3786\"],[0.5555555555555556,\"#d8576b\"],[0.6666666666666666,\"#ed7953\"],[0.7777777777777778,\"#fb9f3a\"],[0.8888888888888888,\"#fdca26\"],[1.0,\"#f0f921\"]]}],\"heatmapgl\":[{\"type\":\"heatmapgl\",\"colorbar\":{\"outlinewidth\":0,\"ticks\":\"\"},\"colorscale\":[[0.0,\"#0d0887\"],[0.1111111111111111,\"#46039f\"],[0.2222222222222222,\"#7201a8\"],[0.3333333333333333,\"#9c179e\"],[0.4444444444444444,\"#bd3786\"],[0.5555555555555556,\"#d8576b\"],[0.6666666666666666,\"#ed7953\"],[0.7777777777777778,\"#fb9f3a\"],[0.8888888888888888,\"#fdca26\"],[1.0,\"#f0f921\"]]}],\"contourcarpet\":[{\"type\":\"contourcarpet\",\"colorbar\":{\"outlinewidth\":0,\"ticks\":\"\"}}],\"contour\":[{\"type\":\"contour\",\"colorbar\":{\"outlinewidth\":0,\"ticks\":\"\"},\"colorscale\":[[0.0,\"#0d0887\"],[0.1111111111111111,\"#46039f\"],[0.2222222222222222,\"#7201a8\"],[0.3333333333333333,\"#9c179e\"],[0.4444444444444444,\"#bd3786\"],[0.5555555555555556,\"#d8576b\"],[0.6666666666666666,\"#ed7953\"],[0.7777777777777778,\"#fb9f3a\"],[0.8888888888888888,\"#fdca26\"],[1.0,\"#f0f921\"]]}],\"surface\":[{\"type\":\"surface\",\"colorbar\":{\"outlinewidth\":0,\"ticks\":\"\"},\"colorscale\":[[0.0,\"#0d0887\"],[0.1111111111111111,\"#46039f\"],[0.2222222222222222,\"#7201a8\"],[0.3333333333333333,\"#9c179e\"],[0.4444444444444444,\"#bd3786\"],[0.5555555555555556,\"#d8576b\"],[0.6666666666666666,\"#ed7953\"],[0.7777777777777778,\"#fb9f3a\"],[0.8888888888888888,\"#fdca26\"],[1.0,\"#f0f921\"]]}],\"mesh3d\":[{\"type\":\"mesh3d\",\"colorbar\":{\"outlinewidth\":0,\"ticks\":\"\"}}],\"scatter\":[{\"fillpattern\":{\"fillmode\":\"overlay\",\"size\":10,\"solidity\":0.2},\"type\":\"scatter\"}],\"parcoords\":[{\"type\":\"parcoords\",\"line\":{\"colorbar\":{\"outlinewidth\":0,\"ticks\":\"\"}}}],\"scatterpolargl\":[{\"type\":\"scatterpolargl\",\"marker\":{\"colorbar\":{\"outlinewidth\":0,\"ticks\":\"\"}}}],\"bar\":[{\"error_x\":{\"color\":\"#2a3f5f\"},\"error_y\":{\"color\":\"#2a3f5f\"},\"marker\":{\"line\":{\"color\":\"#E5ECF6\",\"width\":0.5},\"pattern\":{\"fillmode\":\"overlay\",\"size\":10,\"solidity\":0.2}},\"type\":\"bar\"}],\"scattergeo\":[{\"type\":\"scattergeo\",\"marker\":{\"colorbar\":{\"outlinewidth\":0,\"ticks\":\"\"}}}],\"scatterpolar\":[{\"type\":\"scatterpolar\",\"marker\":{\"colorbar\":{\"outlinewidth\":0,\"ticks\":\"\"}}}],\"histogram\":[{\"marker\":{\"pattern\":{\"fillmode\":\"overlay\",\"size\":10,\"solidity\":0.2}},\"type\":\"histogram\"}],\"scattergl\":[{\"type\":\"scattergl\",\"marker\":{\"colorbar\":{\"outlinewidth\":0,\"ticks\":\"\"}}}],\"scatter3d\":[{\"type\":\"scatter3d\",\"line\":{\"colorbar\":{\"outlinewidth\":0,\"ticks\":\"\"}},\"marker\":{\"colorbar\":{\"outlinewidth\":0,\"ticks\":\"\"}}}],\"scattermapbox\":[{\"type\":\"scattermapbox\",\"marker\":{\"colorbar\":{\"outlinewidth\":0,\"ticks\":\"\"}}}],\"scatterternary\":[{\"type\":\"scatterternary\",\"marker\":{\"colorbar\":{\"outlinewidth\":0,\"ticks\":\"\"}}}],\"scattercarpet\":[{\"type\":\"scattercarpet\",\"marker\":{\"colorbar\":{\"outlinewidth\":0,\"ticks\":\"\"}}}],\"carpet\":[{\"aaxis\":{\"endlinecolor\":\"#2a3f5f\",\"gridcolor\":\"white\",\"linecolor\":\"white\",\"minorgridcolor\":\"white\",\"startlinecolor\":\"#2a3f5f\"},\"baxis\":{\"endlinecolor\":\"#2a3f5f\",\"gridcolor\":\"white\",\"linecolor\":\"white\",\"minorgridcolor\":\"white\",\"startlinecolor\":\"#2a3f5f\"},\"type\":\"carpet\"}],\"table\":[{\"cells\":{\"fill\":{\"color\":\"#EBF0F8\"},\"line\":{\"color\":\"white\"}},\"header\":{\"fill\":{\"color\":\"#C8D4E3\"},\"line\":{\"color\":\"white\"}},\"type\":\"table\"}],\"barpolar\":[{\"marker\":{\"line\":{\"color\":\"#E5ECF6\",\"width\":0.5},\"pattern\":{\"fillmode\":\"overlay\",\"size\":10,\"solidity\":0.2}},\"type\":\"barpolar\"}],\"pie\":[{\"automargin\":true,\"type\":\"pie\"}]},\"layout\":{\"autotypenumbers\":\"strict\",\"colorway\":[\"#636efa\",\"#EF553B\",\"#00cc96\",\"#ab63fa\",\"#FFA15A\",\"#19d3f3\",\"#FF6692\",\"#B6E880\",\"#FF97FF\",\"#FECB52\"],\"font\":{\"color\":\"#2a3f5f\"},\"hovermode\":\"closest\",\"hoverlabel\":{\"align\":\"left\"},\"paper_bgcolor\":\"white\",\"plot_bgcolor\":\"#E5ECF6\",\"polar\":{\"bgcolor\":\"#E5ECF6\",\"angularaxis\":{\"gridcolor\":\"white\",\"linecolor\":\"white\",\"ticks\":\"\"},\"radialaxis\":{\"gridcolor\":\"white\",\"linecolor\":\"white\",\"ticks\":\"\"}},\"ternary\":{\"bgcolor\":\"#E5ECF6\",\"aaxis\":{\"gridcolor\":\"white\",\"linecolor\":\"white\",\"ticks\":\"\"},\"baxis\":{\"gridcolor\":\"white\",\"linecolor\":\"white\",\"ticks\":\"\"},\"caxis\":{\"gridcolor\":\"white\",\"linecolor\":\"white\",\"ticks\":\"\"}},\"coloraxis\":{\"colorbar\":{\"outlinewidth\":0,\"ticks\":\"\"}},\"colorscale\":{\"sequential\":[[0.0,\"#0d0887\"],[0.1111111111111111,\"#46039f\"],[0.2222222222222222,\"#7201a8\"],[0.3333333333333333,\"#9c179e\"],[0.4444444444444444,\"#bd3786\"],[0.5555555555555556,\"#d8576b\"],[0.6666666666666666,\"#ed7953\"],[0.7777777777777778,\"#fb9f3a\"],[0.8888888888888888,\"#fdca26\"],[1.0,\"#f0f921\"]],\"sequentialminus\":[[0.0,\"#0d0887\"],[0.1111111111111111,\"#46039f\"],[0.2222222222222222,\"#7201a8\"],[0.3333333333333333,\"#9c179e\"],[0.4444444444444444,\"#bd3786\"],[0.5555555555555556,\"#d8576b\"],[0.6666666666666666,\"#ed7953\"],[0.7777777777777778,\"#fb9f3a\"],[0.8888888888888888,\"#fdca26\"],[1.0,\"#f0f921\"]],\"diverging\":[[0,\"#8e0152\"],[0.1,\"#c51b7d\"],[0.2,\"#de77ae\"],[0.3,\"#f1b6da\"],[0.4,\"#fde0ef\"],[0.5,\"#f7f7f7\"],[0.6,\"#e6f5d0\"],[0.7,\"#b8e186\"],[0.8,\"#7fbc41\"],[0.9,\"#4d9221\"],[1,\"#276419\"]]},\"xaxis\":{\"gridcolor\":\"white\",\"linecolor\":\"white\",\"ticks\":\"\",\"title\":{\"standoff\":15},\"zerolinecolor\":\"white\",\"automargin\":true,\"zerolinewidth\":2},\"yaxis\":{\"gridcolor\":\"white\",\"linecolor\":\"white\",\"ticks\":\"\",\"title\":{\"standoff\":15},\"zerolinecolor\":\"white\",\"automargin\":true,\"zerolinewidth\":2},\"scene\":{\"xaxis\":{\"backgroundcolor\":\"#E5ECF6\",\"gridcolor\":\"white\",\"linecolor\":\"white\",\"showbackground\":true,\"ticks\":\"\",\"zerolinecolor\":\"white\",\"gridwidth\":2},\"yaxis\":{\"backgroundcolor\":\"#E5ECF6\",\"gridcolor\":\"white\",\"linecolor\":\"white\",\"showbackground\":true,\"ticks\":\"\",\"zerolinecolor\":\"white\",\"gridwidth\":2},\"zaxis\":{\"backgroundcolor\":\"#E5ECF6\",\"gridcolor\":\"white\",\"linecolor\":\"white\",\"showbackground\":true,\"ticks\":\"\",\"zerolinecolor\":\"white\",\"gridwidth\":2}},\"shapedefaults\":{\"line\":{\"color\":\"#2a3f5f\"}},\"annotationdefaults\":{\"arrowcolor\":\"#2a3f5f\",\"arrowhead\":0,\"arrowwidth\":1},\"geo\":{\"bgcolor\":\"white\",\"landcolor\":\"#E5ECF6\",\"subunitcolor\":\"white\",\"showland\":true,\"showlakes\":true,\"lakecolor\":\"white\"},\"title\":{\"x\":0.05},\"mapbox\":{\"style\":\"light\"}}},\"xaxis\":{\"anchor\":\"y\",\"domain\":[0.0,1.0],\"title\":{\"text\":\"kvish_ym\"},\"tickangle\":45},\"yaxis\":{\"anchor\":\"x\",\"domain\":[0.0,1.0],\"title\":{\"text\":\"share\"}},\"legend\":{\"title\":{\"text\":\"sug_delek_nm\"},\"tracegroupgap\":0},\"margin\":{\"t\":60}},                        {\"responsive\": true}                    ).then(function(){\n",
       "                            \n",
       "var gd = document.getElementById('094b9f13-c9ca-40a5-a3fe-9a7a9977c66e');\n",
       "var x = new MutationObserver(function (mutations, observer) {{\n",
       "        var display = window.getComputedStyle(gd).display;\n",
       "        if (!display || display === 'none') {{\n",
       "            console.log([gd, 'removed!']);\n",
       "            Plotly.purge(gd);\n",
       "            observer.disconnect();\n",
       "        }}\n",
       "}});\n",
       "\n",
       "// Listen for the removal of the full notebook cells\n",
       "var notebookContainer = gd.closest('#notebook-container');\n",
       "if (notebookContainer) {{\n",
       "    x.observe(notebookContainer, {childList: true});\n",
       "}}\n",
       "\n",
       "// Listen for the clearing of the current output cell\n",
       "var outputEl = gd.closest('.output');\n",
       "if (outputEl) {{\n",
       "    x.observe(outputEl, {childList: true});\n",
       "}}\n",
       "\n",
       "                        })                };                });            </script>        </div>"
      ]
     },
     "metadata": {},
     "output_type": "display_data"
    }
   ],
   "source": [
    "# Filter out rows with little data\n",
    "fuel_counts=df['sug_delek_nm'].value_counts()\n",
    "low_fuel_counts = fuel_counts[fuel_counts < 50000].index.to_list()\n",
    "\n",
    "df_filtered = counts[~counts['sug_delek_nm'].isin(low_fuel_counts)]\n",
    "\n",
    "fig = px.line(df_filtered, x='kvish_ym', y='share', color='sug_delek_nm', line_shape='spline')\n",
    "fig.update_traces(line=dict(width=3))\n",
    "\n",
    "fig.update_layout(xaxis_tickangle=45)\n",
    "\n",
    "fig.show()"
   ]
  },
  {
   "cell_type": "code",
   "execution_count": 25,
   "id": "bf3f68a8",
   "metadata": {
    "scrolled": true
   },
   "outputs": [
    {
     "data": {
      "text/plain": [
       "ללא                   1951729\n",
       "מקורי                  982802\n",
       "נמכר תוך יותר משנה     422670\n",
       "נמכר תוך שנה           199013\n",
       "Name: trade, dtype: int64"
      ]
     },
     "execution_count": 25,
     "metadata": {},
     "output_type": "execute_result"
    }
   ],
   "source": [
    "df['trade'].value_counts()"
   ]
  },
  {
   "cell_type": "code",
   "execution_count": 26,
   "id": "ea6879bb",
   "metadata": {},
   "outputs": [
    {
     "data": {
      "text/plain": [
       "נמכר תוך יותר משנה    422459\n",
       "נמכר תוך שנה          198985\n",
       "Name: trade, dtype: int64"
      ]
     },
     "execution_count": 26,
     "metadata": {},
     "output_type": "execute_result"
    }
   ],
   "source": [
    "traded = df.query('ownership_count > 1')\n",
    "\n",
    "traded['trade'].value_counts()"
   ]
  },
  {
   "cell_type": "code",
   "execution_count": 27,
   "id": "a9749350",
   "metadata": {},
   "outputs": [
    {
     "data": {
      "application/vnd.plotly.v1+json": {
       "config": {
        "plotlyServerURL": "https://plot.ly"
       },
       "data": [
        {
         "alignmentgroup": "True",
         "hovertemplate": "trade=נמכר תוך שנה<br>sug_delek_nm=%{x}<br>share=%{y}<extra></extra>",
         "legendgroup": "נמכר תוך שנה",
         "marker": {
          "color": "#636efa",
          "pattern": {
           "shape": ""
          }
         },
         "name": "נמכר תוך שנה",
         "offsetgroup": "נמכר תוך שנה",
         "orientation": "v",
         "showlegend": true,
         "textposition": "auto",
         "type": "bar",
         "x": [
          "בנזין",
          "דיזל",
          "חשמל",
          "חשמל/בנזין"
         ],
         "xaxis": "x",
         "y": [
          0.656359649122807,
          0.7082878556355963,
          0.8205989364679541,
          0.7125332545078333
         ],
         "yaxis": "y"
        },
        {
         "alignmentgroup": "True",
         "hovertemplate": "trade=נמכר תוך יותר משנה<br>sug_delek_nm=%{x}<br>share=%{y}<extra></extra>",
         "legendgroup": "נמכר תוך יותר משנה",
         "marker": {
          "color": "#EF553B",
          "pattern": {
           "shape": ""
          }
         },
         "name": "נמכר תוך יותר משנה",
         "offsetgroup": "נמכר תוך יותר משנה",
         "orientation": "v",
         "showlegend": true,
         "textposition": "auto",
         "type": "bar",
         "x": [
          "בנזין",
          "דיזל",
          "חשמל",
          "חשמל/בנזין"
         ],
         "xaxis": "x",
         "y": [
          0.34364035087719297,
          0.2917121443644037,
          0.1794010635320459,
          0.2874667454921667
         ],
         "yaxis": "y"
        }
       ],
       "layout": {
        "barmode": "stack",
        "legend": {
         "title": {
          "text": "trade"
         },
         "tracegroupgap": 0
        },
        "margin": {
         "t": 60
        },
        "template": {
         "data": {
          "bar": [
           {
            "error_x": {
             "color": "#2a3f5f"
            },
            "error_y": {
             "color": "#2a3f5f"
            },
            "marker": {
             "line": {
              "color": "#E5ECF6",
              "width": 0.5
             },
             "pattern": {
              "fillmode": "overlay",
              "size": 10,
              "solidity": 0.2
             }
            },
            "type": "bar"
           }
          ],
          "barpolar": [
           {
            "marker": {
             "line": {
              "color": "#E5ECF6",
              "width": 0.5
             },
             "pattern": {
              "fillmode": "overlay",
              "size": 10,
              "solidity": 0.2
             }
            },
            "type": "barpolar"
           }
          ],
          "carpet": [
           {
            "aaxis": {
             "endlinecolor": "#2a3f5f",
             "gridcolor": "white",
             "linecolor": "white",
             "minorgridcolor": "white",
             "startlinecolor": "#2a3f5f"
            },
            "baxis": {
             "endlinecolor": "#2a3f5f",
             "gridcolor": "white",
             "linecolor": "white",
             "minorgridcolor": "white",
             "startlinecolor": "#2a3f5f"
            },
            "type": "carpet"
           }
          ],
          "choropleth": [
           {
            "colorbar": {
             "outlinewidth": 0,
             "ticks": ""
            },
            "type": "choropleth"
           }
          ],
          "contour": [
           {
            "colorbar": {
             "outlinewidth": 0,
             "ticks": ""
            },
            "colorscale": [
             [
              0,
              "#0d0887"
             ],
             [
              0.1111111111111111,
              "#46039f"
             ],
             [
              0.2222222222222222,
              "#7201a8"
             ],
             [
              0.3333333333333333,
              "#9c179e"
             ],
             [
              0.4444444444444444,
              "#bd3786"
             ],
             [
              0.5555555555555556,
              "#d8576b"
             ],
             [
              0.6666666666666666,
              "#ed7953"
             ],
             [
              0.7777777777777778,
              "#fb9f3a"
             ],
             [
              0.8888888888888888,
              "#fdca26"
             ],
             [
              1,
              "#f0f921"
             ]
            ],
            "type": "contour"
           }
          ],
          "contourcarpet": [
           {
            "colorbar": {
             "outlinewidth": 0,
             "ticks": ""
            },
            "type": "contourcarpet"
           }
          ],
          "heatmap": [
           {
            "colorbar": {
             "outlinewidth": 0,
             "ticks": ""
            },
            "colorscale": [
             [
              0,
              "#0d0887"
             ],
             [
              0.1111111111111111,
              "#46039f"
             ],
             [
              0.2222222222222222,
              "#7201a8"
             ],
             [
              0.3333333333333333,
              "#9c179e"
             ],
             [
              0.4444444444444444,
              "#bd3786"
             ],
             [
              0.5555555555555556,
              "#d8576b"
             ],
             [
              0.6666666666666666,
              "#ed7953"
             ],
             [
              0.7777777777777778,
              "#fb9f3a"
             ],
             [
              0.8888888888888888,
              "#fdca26"
             ],
             [
              1,
              "#f0f921"
             ]
            ],
            "type": "heatmap"
           }
          ],
          "heatmapgl": [
           {
            "colorbar": {
             "outlinewidth": 0,
             "ticks": ""
            },
            "colorscale": [
             [
              0,
              "#0d0887"
             ],
             [
              0.1111111111111111,
              "#46039f"
             ],
             [
              0.2222222222222222,
              "#7201a8"
             ],
             [
              0.3333333333333333,
              "#9c179e"
             ],
             [
              0.4444444444444444,
              "#bd3786"
             ],
             [
              0.5555555555555556,
              "#d8576b"
             ],
             [
              0.6666666666666666,
              "#ed7953"
             ],
             [
              0.7777777777777778,
              "#fb9f3a"
             ],
             [
              0.8888888888888888,
              "#fdca26"
             ],
             [
              1,
              "#f0f921"
             ]
            ],
            "type": "heatmapgl"
           }
          ],
          "histogram": [
           {
            "marker": {
             "pattern": {
              "fillmode": "overlay",
              "size": 10,
              "solidity": 0.2
             }
            },
            "type": "histogram"
           }
          ],
          "histogram2d": [
           {
            "colorbar": {
             "outlinewidth": 0,
             "ticks": ""
            },
            "colorscale": [
             [
              0,
              "#0d0887"
             ],
             [
              0.1111111111111111,
              "#46039f"
             ],
             [
              0.2222222222222222,
              "#7201a8"
             ],
             [
              0.3333333333333333,
              "#9c179e"
             ],
             [
              0.4444444444444444,
              "#bd3786"
             ],
             [
              0.5555555555555556,
              "#d8576b"
             ],
             [
              0.6666666666666666,
              "#ed7953"
             ],
             [
              0.7777777777777778,
              "#fb9f3a"
             ],
             [
              0.8888888888888888,
              "#fdca26"
             ],
             [
              1,
              "#f0f921"
             ]
            ],
            "type": "histogram2d"
           }
          ],
          "histogram2dcontour": [
           {
            "colorbar": {
             "outlinewidth": 0,
             "ticks": ""
            },
            "colorscale": [
             [
              0,
              "#0d0887"
             ],
             [
              0.1111111111111111,
              "#46039f"
             ],
             [
              0.2222222222222222,
              "#7201a8"
             ],
             [
              0.3333333333333333,
              "#9c179e"
             ],
             [
              0.4444444444444444,
              "#bd3786"
             ],
             [
              0.5555555555555556,
              "#d8576b"
             ],
             [
              0.6666666666666666,
              "#ed7953"
             ],
             [
              0.7777777777777778,
              "#fb9f3a"
             ],
             [
              0.8888888888888888,
              "#fdca26"
             ],
             [
              1,
              "#f0f921"
             ]
            ],
            "type": "histogram2dcontour"
           }
          ],
          "mesh3d": [
           {
            "colorbar": {
             "outlinewidth": 0,
             "ticks": ""
            },
            "type": "mesh3d"
           }
          ],
          "parcoords": [
           {
            "line": {
             "colorbar": {
              "outlinewidth": 0,
              "ticks": ""
             }
            },
            "type": "parcoords"
           }
          ],
          "pie": [
           {
            "automargin": true,
            "type": "pie"
           }
          ],
          "scatter": [
           {
            "fillpattern": {
             "fillmode": "overlay",
             "size": 10,
             "solidity": 0.2
            },
            "type": "scatter"
           }
          ],
          "scatter3d": [
           {
            "line": {
             "colorbar": {
              "outlinewidth": 0,
              "ticks": ""
             }
            },
            "marker": {
             "colorbar": {
              "outlinewidth": 0,
              "ticks": ""
             }
            },
            "type": "scatter3d"
           }
          ],
          "scattercarpet": [
           {
            "marker": {
             "colorbar": {
              "outlinewidth": 0,
              "ticks": ""
             }
            },
            "type": "scattercarpet"
           }
          ],
          "scattergeo": [
           {
            "marker": {
             "colorbar": {
              "outlinewidth": 0,
              "ticks": ""
             }
            },
            "type": "scattergeo"
           }
          ],
          "scattergl": [
           {
            "marker": {
             "colorbar": {
              "outlinewidth": 0,
              "ticks": ""
             }
            },
            "type": "scattergl"
           }
          ],
          "scattermapbox": [
           {
            "marker": {
             "colorbar": {
              "outlinewidth": 0,
              "ticks": ""
             }
            },
            "type": "scattermapbox"
           }
          ],
          "scatterpolar": [
           {
            "marker": {
             "colorbar": {
              "outlinewidth": 0,
              "ticks": ""
             }
            },
            "type": "scatterpolar"
           }
          ],
          "scatterpolargl": [
           {
            "marker": {
             "colorbar": {
              "outlinewidth": 0,
              "ticks": ""
             }
            },
            "type": "scatterpolargl"
           }
          ],
          "scatterternary": [
           {
            "marker": {
             "colorbar": {
              "outlinewidth": 0,
              "ticks": ""
             }
            },
            "type": "scatterternary"
           }
          ],
          "surface": [
           {
            "colorbar": {
             "outlinewidth": 0,
             "ticks": ""
            },
            "colorscale": [
             [
              0,
              "#0d0887"
             ],
             [
              0.1111111111111111,
              "#46039f"
             ],
             [
              0.2222222222222222,
              "#7201a8"
             ],
             [
              0.3333333333333333,
              "#9c179e"
             ],
             [
              0.4444444444444444,
              "#bd3786"
             ],
             [
              0.5555555555555556,
              "#d8576b"
             ],
             [
              0.6666666666666666,
              "#ed7953"
             ],
             [
              0.7777777777777778,
              "#fb9f3a"
             ],
             [
              0.8888888888888888,
              "#fdca26"
             ],
             [
              1,
              "#f0f921"
             ]
            ],
            "type": "surface"
           }
          ],
          "table": [
           {
            "cells": {
             "fill": {
              "color": "#EBF0F8"
             },
             "line": {
              "color": "white"
             }
            },
            "header": {
             "fill": {
              "color": "#C8D4E3"
             },
             "line": {
              "color": "white"
             }
            },
            "type": "table"
           }
          ]
         },
         "layout": {
          "annotationdefaults": {
           "arrowcolor": "#2a3f5f",
           "arrowhead": 0,
           "arrowwidth": 1
          },
          "autotypenumbers": "strict",
          "coloraxis": {
           "colorbar": {
            "outlinewidth": 0,
            "ticks": ""
           }
          },
          "colorscale": {
           "diverging": [
            [
             0,
             "#8e0152"
            ],
            [
             0.1,
             "#c51b7d"
            ],
            [
             0.2,
             "#de77ae"
            ],
            [
             0.3,
             "#f1b6da"
            ],
            [
             0.4,
             "#fde0ef"
            ],
            [
             0.5,
             "#f7f7f7"
            ],
            [
             0.6,
             "#e6f5d0"
            ],
            [
             0.7,
             "#b8e186"
            ],
            [
             0.8,
             "#7fbc41"
            ],
            [
             0.9,
             "#4d9221"
            ],
            [
             1,
             "#276419"
            ]
           ],
           "sequential": [
            [
             0,
             "#0d0887"
            ],
            [
             0.1111111111111111,
             "#46039f"
            ],
            [
             0.2222222222222222,
             "#7201a8"
            ],
            [
             0.3333333333333333,
             "#9c179e"
            ],
            [
             0.4444444444444444,
             "#bd3786"
            ],
            [
             0.5555555555555556,
             "#d8576b"
            ],
            [
             0.6666666666666666,
             "#ed7953"
            ],
            [
             0.7777777777777778,
             "#fb9f3a"
            ],
            [
             0.8888888888888888,
             "#fdca26"
            ],
            [
             1,
             "#f0f921"
            ]
           ],
           "sequentialminus": [
            [
             0,
             "#0d0887"
            ],
            [
             0.1111111111111111,
             "#46039f"
            ],
            [
             0.2222222222222222,
             "#7201a8"
            ],
            [
             0.3333333333333333,
             "#9c179e"
            ],
            [
             0.4444444444444444,
             "#bd3786"
            ],
            [
             0.5555555555555556,
             "#d8576b"
            ],
            [
             0.6666666666666666,
             "#ed7953"
            ],
            [
             0.7777777777777778,
             "#fb9f3a"
            ],
            [
             0.8888888888888888,
             "#fdca26"
            ],
            [
             1,
             "#f0f921"
            ]
           ]
          },
          "colorway": [
           "#636efa",
           "#EF553B",
           "#00cc96",
           "#ab63fa",
           "#FFA15A",
           "#19d3f3",
           "#FF6692",
           "#B6E880",
           "#FF97FF",
           "#FECB52"
          ],
          "font": {
           "color": "#2a3f5f"
          },
          "geo": {
           "bgcolor": "white",
           "lakecolor": "white",
           "landcolor": "#E5ECF6",
           "showlakes": true,
           "showland": true,
           "subunitcolor": "white"
          },
          "hoverlabel": {
           "align": "left"
          },
          "hovermode": "closest",
          "mapbox": {
           "style": "light"
          },
          "paper_bgcolor": "white",
          "plot_bgcolor": "#E5ECF6",
          "polar": {
           "angularaxis": {
            "gridcolor": "white",
            "linecolor": "white",
            "ticks": ""
           },
           "bgcolor": "#E5ECF6",
           "radialaxis": {
            "gridcolor": "white",
            "linecolor": "white",
            "ticks": ""
           }
          },
          "scene": {
           "xaxis": {
            "backgroundcolor": "#E5ECF6",
            "gridcolor": "white",
            "gridwidth": 2,
            "linecolor": "white",
            "showbackground": true,
            "ticks": "",
            "zerolinecolor": "white"
           },
           "yaxis": {
            "backgroundcolor": "#E5ECF6",
            "gridcolor": "white",
            "gridwidth": 2,
            "linecolor": "white",
            "showbackground": true,
            "ticks": "",
            "zerolinecolor": "white"
           },
           "zaxis": {
            "backgroundcolor": "#E5ECF6",
            "gridcolor": "white",
            "gridwidth": 2,
            "linecolor": "white",
            "showbackground": true,
            "ticks": "",
            "zerolinecolor": "white"
           }
          },
          "shapedefaults": {
           "line": {
            "color": "#2a3f5f"
           }
          },
          "ternary": {
           "aaxis": {
            "gridcolor": "white",
            "linecolor": "white",
            "ticks": ""
           },
           "baxis": {
            "gridcolor": "white",
            "linecolor": "white",
            "ticks": ""
           },
           "bgcolor": "#E5ECF6",
           "caxis": {
            "gridcolor": "white",
            "linecolor": "white",
            "ticks": ""
           }
          },
          "title": {
           "x": 0.05
          },
          "xaxis": {
           "automargin": true,
           "gridcolor": "white",
           "linecolor": "white",
           "ticks": "",
           "title": {
            "standoff": 15
           },
           "zerolinecolor": "white",
           "zerolinewidth": 2
          },
          "yaxis": {
           "automargin": true,
           "gridcolor": "white",
           "linecolor": "white",
           "ticks": "",
           "title": {
            "standoff": 15
           },
           "zerolinecolor": "white",
           "zerolinewidth": 2
          }
         }
        },
        "xaxis": {
         "anchor": "y",
         "domain": [
          0,
          1
         ],
         "title": {
          "text": "sug_delek_nm"
         }
        },
        "yaxis": {
         "anchor": "x",
         "domain": [
          0,
          1
         ],
         "title": {
          "text": "share"
         }
        }
       }
      },
      "text/html": [
       "<div>                            <div id=\"9e4ae220-52e3-47ea-9af9-28d6fef8b36e\" class=\"plotly-graph-div\" style=\"height:525px; width:100%;\"></div>            <script type=\"text/javascript\">                require([\"plotly\"], function(Plotly) {                    window.PLOTLYENV=window.PLOTLYENV || {};                                    if (document.getElementById(\"9e4ae220-52e3-47ea-9af9-28d6fef8b36e\")) {                    Plotly.newPlot(                        \"9e4ae220-52e3-47ea-9af9-28d6fef8b36e\",                        [{\"alignmentgroup\":\"True\",\"hovertemplate\":\"trade=נמכר תוך שנה<br>sug_delek_nm=%{x}<br>share=%{y}<extra></extra>\",\"legendgroup\":\"נמכר תוך שנה\",\"marker\":{\"color\":\"#636efa\",\"pattern\":{\"shape\":\"\"}},\"name\":\"נמכר תוך שנה\",\"offsetgroup\":\"נמכר תוך שנה\",\"orientation\":\"v\",\"showlegend\":true,\"textposition\":\"auto\",\"x\":[\"בנזין\",\"דיזל\",\"חשמל\",\"חשמל/בנזין\"],\"xaxis\":\"x\",\"y\":[0.656359649122807,0.7082878556355963,0.8205989364679541,0.7125332545078333],\"yaxis\":\"y\",\"type\":\"bar\"},{\"alignmentgroup\":\"True\",\"hovertemplate\":\"trade=נמכר תוך יותר משנה<br>sug_delek_nm=%{x}<br>share=%{y}<extra></extra>\",\"legendgroup\":\"נמכר תוך יותר משנה\",\"marker\":{\"color\":\"#EF553B\",\"pattern\":{\"shape\":\"\"}},\"name\":\"נמכר תוך יותר משנה\",\"offsetgroup\":\"נמכר תוך יותר משנה\",\"orientation\":\"v\",\"showlegend\":true,\"textposition\":\"auto\",\"x\":[\"בנזין\",\"דיזל\",\"חשמל\",\"חשמל/בנזין\"],\"xaxis\":\"x\",\"y\":[0.34364035087719297,0.2917121443644037,0.1794010635320459,0.2874667454921667],\"yaxis\":\"y\",\"type\":\"bar\"}],                        {\"template\":{\"data\":{\"histogram2dcontour\":[{\"type\":\"histogram2dcontour\",\"colorbar\":{\"outlinewidth\":0,\"ticks\":\"\"},\"colorscale\":[[0.0,\"#0d0887\"],[0.1111111111111111,\"#46039f\"],[0.2222222222222222,\"#7201a8\"],[0.3333333333333333,\"#9c179e\"],[0.4444444444444444,\"#bd3786\"],[0.5555555555555556,\"#d8576b\"],[0.6666666666666666,\"#ed7953\"],[0.7777777777777778,\"#fb9f3a\"],[0.8888888888888888,\"#fdca26\"],[1.0,\"#f0f921\"]]}],\"choropleth\":[{\"type\":\"choropleth\",\"colorbar\":{\"outlinewidth\":0,\"ticks\":\"\"}}],\"histogram2d\":[{\"type\":\"histogram2d\",\"colorbar\":{\"outlinewidth\":0,\"ticks\":\"\"},\"colorscale\":[[0.0,\"#0d0887\"],[0.1111111111111111,\"#46039f\"],[0.2222222222222222,\"#7201a8\"],[0.3333333333333333,\"#9c179e\"],[0.4444444444444444,\"#bd3786\"],[0.5555555555555556,\"#d8576b\"],[0.6666666666666666,\"#ed7953\"],[0.7777777777777778,\"#fb9f3a\"],[0.8888888888888888,\"#fdca26\"],[1.0,\"#f0f921\"]]}],\"heatmap\":[{\"type\":\"heatmap\",\"colorbar\":{\"outlinewidth\":0,\"ticks\":\"\"},\"colorscale\":[[0.0,\"#0d0887\"],[0.1111111111111111,\"#46039f\"],[0.2222222222222222,\"#7201a8\"],[0.3333333333333333,\"#9c179e\"],[0.4444444444444444,\"#bd3786\"],[0.5555555555555556,\"#d8576b\"],[0.6666666666666666,\"#ed7953\"],[0.7777777777777778,\"#fb9f3a\"],[0.8888888888888888,\"#fdca26\"],[1.0,\"#f0f921\"]]}],\"heatmapgl\":[{\"type\":\"heatmapgl\",\"colorbar\":{\"outlinewidth\":0,\"ticks\":\"\"},\"colorscale\":[[0.0,\"#0d0887\"],[0.1111111111111111,\"#46039f\"],[0.2222222222222222,\"#7201a8\"],[0.3333333333333333,\"#9c179e\"],[0.4444444444444444,\"#bd3786\"],[0.5555555555555556,\"#d8576b\"],[0.6666666666666666,\"#ed7953\"],[0.7777777777777778,\"#fb9f3a\"],[0.8888888888888888,\"#fdca26\"],[1.0,\"#f0f921\"]]}],\"contourcarpet\":[{\"type\":\"contourcarpet\",\"colorbar\":{\"outlinewidth\":0,\"ticks\":\"\"}}],\"contour\":[{\"type\":\"contour\",\"colorbar\":{\"outlinewidth\":0,\"ticks\":\"\"},\"colorscale\":[[0.0,\"#0d0887\"],[0.1111111111111111,\"#46039f\"],[0.2222222222222222,\"#7201a8\"],[0.3333333333333333,\"#9c179e\"],[0.4444444444444444,\"#bd3786\"],[0.5555555555555556,\"#d8576b\"],[0.6666666666666666,\"#ed7953\"],[0.7777777777777778,\"#fb9f3a\"],[0.8888888888888888,\"#fdca26\"],[1.0,\"#f0f921\"]]}],\"surface\":[{\"type\":\"surface\",\"colorbar\":{\"outlinewidth\":0,\"ticks\":\"\"},\"colorscale\":[[0.0,\"#0d0887\"],[0.1111111111111111,\"#46039f\"],[0.2222222222222222,\"#7201a8\"],[0.3333333333333333,\"#9c179e\"],[0.4444444444444444,\"#bd3786\"],[0.5555555555555556,\"#d8576b\"],[0.6666666666666666,\"#ed7953\"],[0.7777777777777778,\"#fb9f3a\"],[0.8888888888888888,\"#fdca26\"],[1.0,\"#f0f921\"]]}],\"mesh3d\":[{\"type\":\"mesh3d\",\"colorbar\":{\"outlinewidth\":0,\"ticks\":\"\"}}],\"scatter\":[{\"fillpattern\":{\"fillmode\":\"overlay\",\"size\":10,\"solidity\":0.2},\"type\":\"scatter\"}],\"parcoords\":[{\"type\":\"parcoords\",\"line\":{\"colorbar\":{\"outlinewidth\":0,\"ticks\":\"\"}}}],\"scatterpolargl\":[{\"type\":\"scatterpolargl\",\"marker\":{\"colorbar\":{\"outlinewidth\":0,\"ticks\":\"\"}}}],\"bar\":[{\"error_x\":{\"color\":\"#2a3f5f\"},\"error_y\":{\"color\":\"#2a3f5f\"},\"marker\":{\"line\":{\"color\":\"#E5ECF6\",\"width\":0.5},\"pattern\":{\"fillmode\":\"overlay\",\"size\":10,\"solidity\":0.2}},\"type\":\"bar\"}],\"scattergeo\":[{\"type\":\"scattergeo\",\"marker\":{\"colorbar\":{\"outlinewidth\":0,\"ticks\":\"\"}}}],\"scatterpolar\":[{\"type\":\"scatterpolar\",\"marker\":{\"colorbar\":{\"outlinewidth\":0,\"ticks\":\"\"}}}],\"histogram\":[{\"marker\":{\"pattern\":{\"fillmode\":\"overlay\",\"size\":10,\"solidity\":0.2}},\"type\":\"histogram\"}],\"scattergl\":[{\"type\":\"scattergl\",\"marker\":{\"colorbar\":{\"outlinewidth\":0,\"ticks\":\"\"}}}],\"scatter3d\":[{\"type\":\"scatter3d\",\"line\":{\"colorbar\":{\"outlinewidth\":0,\"ticks\":\"\"}},\"marker\":{\"colorbar\":{\"outlinewidth\":0,\"ticks\":\"\"}}}],\"scattermapbox\":[{\"type\":\"scattermapbox\",\"marker\":{\"colorbar\":{\"outlinewidth\":0,\"ticks\":\"\"}}}],\"scatterternary\":[{\"type\":\"scatterternary\",\"marker\":{\"colorbar\":{\"outlinewidth\":0,\"ticks\":\"\"}}}],\"scattercarpet\":[{\"type\":\"scattercarpet\",\"marker\":{\"colorbar\":{\"outlinewidth\":0,\"ticks\":\"\"}}}],\"carpet\":[{\"aaxis\":{\"endlinecolor\":\"#2a3f5f\",\"gridcolor\":\"white\",\"linecolor\":\"white\",\"minorgridcolor\":\"white\",\"startlinecolor\":\"#2a3f5f\"},\"baxis\":{\"endlinecolor\":\"#2a3f5f\",\"gridcolor\":\"white\",\"linecolor\":\"white\",\"minorgridcolor\":\"white\",\"startlinecolor\":\"#2a3f5f\"},\"type\":\"carpet\"}],\"table\":[{\"cells\":{\"fill\":{\"color\":\"#EBF0F8\"},\"line\":{\"color\":\"white\"}},\"header\":{\"fill\":{\"color\":\"#C8D4E3\"},\"line\":{\"color\":\"white\"}},\"type\":\"table\"}],\"barpolar\":[{\"marker\":{\"line\":{\"color\":\"#E5ECF6\",\"width\":0.5},\"pattern\":{\"fillmode\":\"overlay\",\"size\":10,\"solidity\":0.2}},\"type\":\"barpolar\"}],\"pie\":[{\"automargin\":true,\"type\":\"pie\"}]},\"layout\":{\"autotypenumbers\":\"strict\",\"colorway\":[\"#636efa\",\"#EF553B\",\"#00cc96\",\"#ab63fa\",\"#FFA15A\",\"#19d3f3\",\"#FF6692\",\"#B6E880\",\"#FF97FF\",\"#FECB52\"],\"font\":{\"color\":\"#2a3f5f\"},\"hovermode\":\"closest\",\"hoverlabel\":{\"align\":\"left\"},\"paper_bgcolor\":\"white\",\"plot_bgcolor\":\"#E5ECF6\",\"polar\":{\"bgcolor\":\"#E5ECF6\",\"angularaxis\":{\"gridcolor\":\"white\",\"linecolor\":\"white\",\"ticks\":\"\"},\"radialaxis\":{\"gridcolor\":\"white\",\"linecolor\":\"white\",\"ticks\":\"\"}},\"ternary\":{\"bgcolor\":\"#E5ECF6\",\"aaxis\":{\"gridcolor\":\"white\",\"linecolor\":\"white\",\"ticks\":\"\"},\"baxis\":{\"gridcolor\":\"white\",\"linecolor\":\"white\",\"ticks\":\"\"},\"caxis\":{\"gridcolor\":\"white\",\"linecolor\":\"white\",\"ticks\":\"\"}},\"coloraxis\":{\"colorbar\":{\"outlinewidth\":0,\"ticks\":\"\"}},\"colorscale\":{\"sequential\":[[0.0,\"#0d0887\"],[0.1111111111111111,\"#46039f\"],[0.2222222222222222,\"#7201a8\"],[0.3333333333333333,\"#9c179e\"],[0.4444444444444444,\"#bd3786\"],[0.5555555555555556,\"#d8576b\"],[0.6666666666666666,\"#ed7953\"],[0.7777777777777778,\"#fb9f3a\"],[0.8888888888888888,\"#fdca26\"],[1.0,\"#f0f921\"]],\"sequentialminus\":[[0.0,\"#0d0887\"],[0.1111111111111111,\"#46039f\"],[0.2222222222222222,\"#7201a8\"],[0.3333333333333333,\"#9c179e\"],[0.4444444444444444,\"#bd3786\"],[0.5555555555555556,\"#d8576b\"],[0.6666666666666666,\"#ed7953\"],[0.7777777777777778,\"#fb9f3a\"],[0.8888888888888888,\"#fdca26\"],[1.0,\"#f0f921\"]],\"diverging\":[[0,\"#8e0152\"],[0.1,\"#c51b7d\"],[0.2,\"#de77ae\"],[0.3,\"#f1b6da\"],[0.4,\"#fde0ef\"],[0.5,\"#f7f7f7\"],[0.6,\"#e6f5d0\"],[0.7,\"#b8e186\"],[0.8,\"#7fbc41\"],[0.9,\"#4d9221\"],[1,\"#276419\"]]},\"xaxis\":{\"gridcolor\":\"white\",\"linecolor\":\"white\",\"ticks\":\"\",\"title\":{\"standoff\":15},\"zerolinecolor\":\"white\",\"automargin\":true,\"zerolinewidth\":2},\"yaxis\":{\"gridcolor\":\"white\",\"linecolor\":\"white\",\"ticks\":\"\",\"title\":{\"standoff\":15},\"zerolinecolor\":\"white\",\"automargin\":true,\"zerolinewidth\":2},\"scene\":{\"xaxis\":{\"backgroundcolor\":\"#E5ECF6\",\"gridcolor\":\"white\",\"linecolor\":\"white\",\"showbackground\":true,\"ticks\":\"\",\"zerolinecolor\":\"white\",\"gridwidth\":2},\"yaxis\":{\"backgroundcolor\":\"#E5ECF6\",\"gridcolor\":\"white\",\"linecolor\":\"white\",\"showbackground\":true,\"ticks\":\"\",\"zerolinecolor\":\"white\",\"gridwidth\":2},\"zaxis\":{\"backgroundcolor\":\"#E5ECF6\",\"gridcolor\":\"white\",\"linecolor\":\"white\",\"showbackground\":true,\"ticks\":\"\",\"zerolinecolor\":\"white\",\"gridwidth\":2}},\"shapedefaults\":{\"line\":{\"color\":\"#2a3f5f\"}},\"annotationdefaults\":{\"arrowcolor\":\"#2a3f5f\",\"arrowhead\":0,\"arrowwidth\":1},\"geo\":{\"bgcolor\":\"white\",\"landcolor\":\"#E5ECF6\",\"subunitcolor\":\"white\",\"showland\":true,\"showlakes\":true,\"lakecolor\":\"white\"},\"title\":{\"x\":0.05},\"mapbox\":{\"style\":\"light\"}}},\"xaxis\":{\"anchor\":\"y\",\"domain\":[0.0,1.0],\"title\":{\"text\":\"sug_delek_nm\"}},\"yaxis\":{\"anchor\":\"x\",\"domain\":[0.0,1.0],\"title\":{\"text\":\"share\"}},\"legend\":{\"title\":{\"text\":\"trade\"},\"tracegroupgap\":0},\"margin\":{\"t\":60},\"barmode\":\"stack\"},                        {\"responsive\": true}                    ).then(function(){\n",
       "                            \n",
       "var gd = document.getElementById('9e4ae220-52e3-47ea-9af9-28d6fef8b36e');\n",
       "var x = new MutationObserver(function (mutations, observer) {{\n",
       "        var display = window.getComputedStyle(gd).display;\n",
       "        if (!display || display === 'none') {{\n",
       "            console.log([gd, 'removed!']);\n",
       "            Plotly.purge(gd);\n",
       "            observer.disconnect();\n",
       "        }}\n",
       "}});\n",
       "\n",
       "// Listen for the removal of the full notebook cells\n",
       "var notebookContainer = gd.closest('#notebook-container');\n",
       "if (notebookContainer) {{\n",
       "    x.observe(notebookContainer, {childList: true});\n",
       "}}\n",
       "\n",
       "// Listen for the clearing of the current output cell\n",
       "var outputEl = gd.closest('.output');\n",
       "if (outputEl) {{\n",
       "    x.observe(outputEl, {childList: true});\n",
       "}}\n",
       "\n",
       "                        })                };                });            </script>        </div>"
      ]
     },
     "metadata": {},
     "output_type": "display_data"
    }
   ],
   "source": [
    "counts = traded.query('year >= 2020').groupby('sug_delek_nm')['trade'].value_counts(normalize=True)\n",
    "counts.name='share'\n",
    "counts = counts.reset_index()\n",
    "\n",
    "df_filtered = counts[~counts['sug_delek_nm'].isin(low_fuel_counts)]\n",
    "\n",
    "fig = px.bar(df_filtered, x=\"sug_delek_nm\", y=\"share\", color=\"trade\", barmode=\"stack\")\n",
    "\n",
    "fig.show()"
   ]
  },
  {
   "cell_type": "code",
   "execution_count": 28,
   "id": "4f65d6dc",
   "metadata": {},
   "outputs": [
    {
     "data": {
      "application/vnd.plotly.v1+json": {
       "config": {
        "plotlyServerURL": "https://plot.ly"
       },
       "data": [
        {
         "alignmentgroup": "True",
         "hovertemplate": "trade=מקורי<br>sug_delek_nm=%{x}<br>share=%{y}<extra></extra>",
         "legendgroup": "מקורי",
         "marker": {
          "color": "#636efa",
          "pattern": {
           "shape": ""
          }
         },
         "name": "מקורי",
         "offsetgroup": "מקורי",
         "orientation": "v",
         "showlegend": true,
         "textposition": "auto",
         "type": "bar",
         "x": [
          "בנזין",
          "דיזל",
          "חשמל",
          "חשמל/בנזין"
         ],
         "xaxis": "x",
         "y": [
          0.82412020117704,
          0.6593093455687032,
          0.8771751110517351,
          0.8349591733506756
         ],
         "yaxis": "y"
        },
        {
         "alignmentgroup": "True",
         "hovertemplate": "trade=נמכר תוך שנה<br>sug_delek_nm=%{x}<br>share=%{y}<extra></extra>",
         "legendgroup": "נמכר תוך שנה",
         "marker": {
          "color": "#EF553B",
          "pattern": {
           "shape": ""
          }
         },
         "name": "נמכר תוך שנה",
         "offsetgroup": "נמכר תוך שנה",
         "orientation": "v",
         "showlegend": true,
         "textposition": "auto",
         "type": "bar",
         "x": [
          "בנזין",
          "דיזל",
          "חשמל",
          "חשמל/בנזין"
         ],
         "xaxis": "x",
         "y": [
          0.10918834744425193,
          0.15672542864042502,
          0.09792592097792326,
          0.11624153961028012
         ],
         "yaxis": "y"
        },
        {
         "alignmentgroup": "True",
         "hovertemplate": "trade=נמכר תוך יותר משנה<br>sug_delek_nm=%{x}<br>share=%{y}<extra></extra>",
         "legendgroup": "נמכר תוך יותר משנה",
         "marker": {
          "color": "#00cc96",
          "pattern": {
           "shape": ""
          }
         },
         "name": "נמכר תוך יותר משנה",
         "offsetgroup": "נמכר תוך יותר משנה",
         "orientation": "v",
         "showlegend": true,
         "textposition": "auto",
         "type": "bar",
         "x": [
          "בנזין",
          "דיזל",
          "חשמל",
          "חשמל/בנזין"
         ],
         "xaxis": "x",
         "y": [
          0.05722743246750514,
          0.06487965869757707,
          0.021408770582144885,
          0.0468482790182335
         ],
         "yaxis": "y"
        },
        {
         "alignmentgroup": "True",
         "hovertemplate": "trade=ללא<br>sug_delek_nm=%{x}<br>share=%{y}<extra></extra>",
         "legendgroup": "ללא",
         "marker": {
          "color": "#ab63fa",
          "pattern": {
           "shape": ""
          }
         },
         "name": "ללא",
         "offsetgroup": "ללא",
         "orientation": "v",
         "showlegend": true,
         "textposition": "auto",
         "type": "bar",
         "x": [
          "בנזין",
          "דיזל",
          "חשמל",
          "חשמל/בנזין"
         ],
         "xaxis": "x",
         "y": [
          0.009464018911202923,
          0.1190855670932947,
          0.0034901973881967872,
          0.0019510080208107522
         ],
         "yaxis": "y"
        }
       ],
       "layout": {
        "barmode": "stack",
        "legend": {
         "title": {
          "text": "trade"
         },
         "tracegroupgap": 0
        },
        "margin": {
         "t": 60
        },
        "template": {
         "data": {
          "bar": [
           {
            "error_x": {
             "color": "#2a3f5f"
            },
            "error_y": {
             "color": "#2a3f5f"
            },
            "marker": {
             "line": {
              "color": "#E5ECF6",
              "width": 0.5
             },
             "pattern": {
              "fillmode": "overlay",
              "size": 10,
              "solidity": 0.2
             }
            },
            "type": "bar"
           }
          ],
          "barpolar": [
           {
            "marker": {
             "line": {
              "color": "#E5ECF6",
              "width": 0.5
             },
             "pattern": {
              "fillmode": "overlay",
              "size": 10,
              "solidity": 0.2
             }
            },
            "type": "barpolar"
           }
          ],
          "carpet": [
           {
            "aaxis": {
             "endlinecolor": "#2a3f5f",
             "gridcolor": "white",
             "linecolor": "white",
             "minorgridcolor": "white",
             "startlinecolor": "#2a3f5f"
            },
            "baxis": {
             "endlinecolor": "#2a3f5f",
             "gridcolor": "white",
             "linecolor": "white",
             "minorgridcolor": "white",
             "startlinecolor": "#2a3f5f"
            },
            "type": "carpet"
           }
          ],
          "choropleth": [
           {
            "colorbar": {
             "outlinewidth": 0,
             "ticks": ""
            },
            "type": "choropleth"
           }
          ],
          "contour": [
           {
            "colorbar": {
             "outlinewidth": 0,
             "ticks": ""
            },
            "colorscale": [
             [
              0,
              "#0d0887"
             ],
             [
              0.1111111111111111,
              "#46039f"
             ],
             [
              0.2222222222222222,
              "#7201a8"
             ],
             [
              0.3333333333333333,
              "#9c179e"
             ],
             [
              0.4444444444444444,
              "#bd3786"
             ],
             [
              0.5555555555555556,
              "#d8576b"
             ],
             [
              0.6666666666666666,
              "#ed7953"
             ],
             [
              0.7777777777777778,
              "#fb9f3a"
             ],
             [
              0.8888888888888888,
              "#fdca26"
             ],
             [
              1,
              "#f0f921"
             ]
            ],
            "type": "contour"
           }
          ],
          "contourcarpet": [
           {
            "colorbar": {
             "outlinewidth": 0,
             "ticks": ""
            },
            "type": "contourcarpet"
           }
          ],
          "heatmap": [
           {
            "colorbar": {
             "outlinewidth": 0,
             "ticks": ""
            },
            "colorscale": [
             [
              0,
              "#0d0887"
             ],
             [
              0.1111111111111111,
              "#46039f"
             ],
             [
              0.2222222222222222,
              "#7201a8"
             ],
             [
              0.3333333333333333,
              "#9c179e"
             ],
             [
              0.4444444444444444,
              "#bd3786"
             ],
             [
              0.5555555555555556,
              "#d8576b"
             ],
             [
              0.6666666666666666,
              "#ed7953"
             ],
             [
              0.7777777777777778,
              "#fb9f3a"
             ],
             [
              0.8888888888888888,
              "#fdca26"
             ],
             [
              1,
              "#f0f921"
             ]
            ],
            "type": "heatmap"
           }
          ],
          "heatmapgl": [
           {
            "colorbar": {
             "outlinewidth": 0,
             "ticks": ""
            },
            "colorscale": [
             [
              0,
              "#0d0887"
             ],
             [
              0.1111111111111111,
              "#46039f"
             ],
             [
              0.2222222222222222,
              "#7201a8"
             ],
             [
              0.3333333333333333,
              "#9c179e"
             ],
             [
              0.4444444444444444,
              "#bd3786"
             ],
             [
              0.5555555555555556,
              "#d8576b"
             ],
             [
              0.6666666666666666,
              "#ed7953"
             ],
             [
              0.7777777777777778,
              "#fb9f3a"
             ],
             [
              0.8888888888888888,
              "#fdca26"
             ],
             [
              1,
              "#f0f921"
             ]
            ],
            "type": "heatmapgl"
           }
          ],
          "histogram": [
           {
            "marker": {
             "pattern": {
              "fillmode": "overlay",
              "size": 10,
              "solidity": 0.2
             }
            },
            "type": "histogram"
           }
          ],
          "histogram2d": [
           {
            "colorbar": {
             "outlinewidth": 0,
             "ticks": ""
            },
            "colorscale": [
             [
              0,
              "#0d0887"
             ],
             [
              0.1111111111111111,
              "#46039f"
             ],
             [
              0.2222222222222222,
              "#7201a8"
             ],
             [
              0.3333333333333333,
              "#9c179e"
             ],
             [
              0.4444444444444444,
              "#bd3786"
             ],
             [
              0.5555555555555556,
              "#d8576b"
             ],
             [
              0.6666666666666666,
              "#ed7953"
             ],
             [
              0.7777777777777778,
              "#fb9f3a"
             ],
             [
              0.8888888888888888,
              "#fdca26"
             ],
             [
              1,
              "#f0f921"
             ]
            ],
            "type": "histogram2d"
           }
          ],
          "histogram2dcontour": [
           {
            "colorbar": {
             "outlinewidth": 0,
             "ticks": ""
            },
            "colorscale": [
             [
              0,
              "#0d0887"
             ],
             [
              0.1111111111111111,
              "#46039f"
             ],
             [
              0.2222222222222222,
              "#7201a8"
             ],
             [
              0.3333333333333333,
              "#9c179e"
             ],
             [
              0.4444444444444444,
              "#bd3786"
             ],
             [
              0.5555555555555556,
              "#d8576b"
             ],
             [
              0.6666666666666666,
              "#ed7953"
             ],
             [
              0.7777777777777778,
              "#fb9f3a"
             ],
             [
              0.8888888888888888,
              "#fdca26"
             ],
             [
              1,
              "#f0f921"
             ]
            ],
            "type": "histogram2dcontour"
           }
          ],
          "mesh3d": [
           {
            "colorbar": {
             "outlinewidth": 0,
             "ticks": ""
            },
            "type": "mesh3d"
           }
          ],
          "parcoords": [
           {
            "line": {
             "colorbar": {
              "outlinewidth": 0,
              "ticks": ""
             }
            },
            "type": "parcoords"
           }
          ],
          "pie": [
           {
            "automargin": true,
            "type": "pie"
           }
          ],
          "scatter": [
           {
            "fillpattern": {
             "fillmode": "overlay",
             "size": 10,
             "solidity": 0.2
            },
            "type": "scatter"
           }
          ],
          "scatter3d": [
           {
            "line": {
             "colorbar": {
              "outlinewidth": 0,
              "ticks": ""
             }
            },
            "marker": {
             "colorbar": {
              "outlinewidth": 0,
              "ticks": ""
             }
            },
            "type": "scatter3d"
           }
          ],
          "scattercarpet": [
           {
            "marker": {
             "colorbar": {
              "outlinewidth": 0,
              "ticks": ""
             }
            },
            "type": "scattercarpet"
           }
          ],
          "scattergeo": [
           {
            "marker": {
             "colorbar": {
              "outlinewidth": 0,
              "ticks": ""
             }
            },
            "type": "scattergeo"
           }
          ],
          "scattergl": [
           {
            "marker": {
             "colorbar": {
              "outlinewidth": 0,
              "ticks": ""
             }
            },
            "type": "scattergl"
           }
          ],
          "scattermapbox": [
           {
            "marker": {
             "colorbar": {
              "outlinewidth": 0,
              "ticks": ""
             }
            },
            "type": "scattermapbox"
           }
          ],
          "scatterpolar": [
           {
            "marker": {
             "colorbar": {
              "outlinewidth": 0,
              "ticks": ""
             }
            },
            "type": "scatterpolar"
           }
          ],
          "scatterpolargl": [
           {
            "marker": {
             "colorbar": {
              "outlinewidth": 0,
              "ticks": ""
             }
            },
            "type": "scatterpolargl"
           }
          ],
          "scatterternary": [
           {
            "marker": {
             "colorbar": {
              "outlinewidth": 0,
              "ticks": ""
             }
            },
            "type": "scatterternary"
           }
          ],
          "surface": [
           {
            "colorbar": {
             "outlinewidth": 0,
             "ticks": ""
            },
            "colorscale": [
             [
              0,
              "#0d0887"
             ],
             [
              0.1111111111111111,
              "#46039f"
             ],
             [
              0.2222222222222222,
              "#7201a8"
             ],
             [
              0.3333333333333333,
              "#9c179e"
             ],
             [
              0.4444444444444444,
              "#bd3786"
             ],
             [
              0.5555555555555556,
              "#d8576b"
             ],
             [
              0.6666666666666666,
              "#ed7953"
             ],
             [
              0.7777777777777778,
              "#fb9f3a"
             ],
             [
              0.8888888888888888,
              "#fdca26"
             ],
             [
              1,
              "#f0f921"
             ]
            ],
            "type": "surface"
           }
          ],
          "table": [
           {
            "cells": {
             "fill": {
              "color": "#EBF0F8"
             },
             "line": {
              "color": "white"
             }
            },
            "header": {
             "fill": {
              "color": "#C8D4E3"
             },
             "line": {
              "color": "white"
             }
            },
            "type": "table"
           }
          ]
         },
         "layout": {
          "annotationdefaults": {
           "arrowcolor": "#2a3f5f",
           "arrowhead": 0,
           "arrowwidth": 1
          },
          "autotypenumbers": "strict",
          "coloraxis": {
           "colorbar": {
            "outlinewidth": 0,
            "ticks": ""
           }
          },
          "colorscale": {
           "diverging": [
            [
             0,
             "#8e0152"
            ],
            [
             0.1,
             "#c51b7d"
            ],
            [
             0.2,
             "#de77ae"
            ],
            [
             0.3,
             "#f1b6da"
            ],
            [
             0.4,
             "#fde0ef"
            ],
            [
             0.5,
             "#f7f7f7"
            ],
            [
             0.6,
             "#e6f5d0"
            ],
            [
             0.7,
             "#b8e186"
            ],
            [
             0.8,
             "#7fbc41"
            ],
            [
             0.9,
             "#4d9221"
            ],
            [
             1,
             "#276419"
            ]
           ],
           "sequential": [
            [
             0,
             "#0d0887"
            ],
            [
             0.1111111111111111,
             "#46039f"
            ],
            [
             0.2222222222222222,
             "#7201a8"
            ],
            [
             0.3333333333333333,
             "#9c179e"
            ],
            [
             0.4444444444444444,
             "#bd3786"
            ],
            [
             0.5555555555555556,
             "#d8576b"
            ],
            [
             0.6666666666666666,
             "#ed7953"
            ],
            [
             0.7777777777777778,
             "#fb9f3a"
            ],
            [
             0.8888888888888888,
             "#fdca26"
            ],
            [
             1,
             "#f0f921"
            ]
           ],
           "sequentialminus": [
            [
             0,
             "#0d0887"
            ],
            [
             0.1111111111111111,
             "#46039f"
            ],
            [
             0.2222222222222222,
             "#7201a8"
            ],
            [
             0.3333333333333333,
             "#9c179e"
            ],
            [
             0.4444444444444444,
             "#bd3786"
            ],
            [
             0.5555555555555556,
             "#d8576b"
            ],
            [
             0.6666666666666666,
             "#ed7953"
            ],
            [
             0.7777777777777778,
             "#fb9f3a"
            ],
            [
             0.8888888888888888,
             "#fdca26"
            ],
            [
             1,
             "#f0f921"
            ]
           ]
          },
          "colorway": [
           "#636efa",
           "#EF553B",
           "#00cc96",
           "#ab63fa",
           "#FFA15A",
           "#19d3f3",
           "#FF6692",
           "#B6E880",
           "#FF97FF",
           "#FECB52"
          ],
          "font": {
           "color": "#2a3f5f"
          },
          "geo": {
           "bgcolor": "white",
           "lakecolor": "white",
           "landcolor": "#E5ECF6",
           "showlakes": true,
           "showland": true,
           "subunitcolor": "white"
          },
          "hoverlabel": {
           "align": "left"
          },
          "hovermode": "closest",
          "mapbox": {
           "style": "light"
          },
          "paper_bgcolor": "white",
          "plot_bgcolor": "#E5ECF6",
          "polar": {
           "angularaxis": {
            "gridcolor": "white",
            "linecolor": "white",
            "ticks": ""
           },
           "bgcolor": "#E5ECF6",
           "radialaxis": {
            "gridcolor": "white",
            "linecolor": "white",
            "ticks": ""
           }
          },
          "scene": {
           "xaxis": {
            "backgroundcolor": "#E5ECF6",
            "gridcolor": "white",
            "gridwidth": 2,
            "linecolor": "white",
            "showbackground": true,
            "ticks": "",
            "zerolinecolor": "white"
           },
           "yaxis": {
            "backgroundcolor": "#E5ECF6",
            "gridcolor": "white",
            "gridwidth": 2,
            "linecolor": "white",
            "showbackground": true,
            "ticks": "",
            "zerolinecolor": "white"
           },
           "zaxis": {
            "backgroundcolor": "#E5ECF6",
            "gridcolor": "white",
            "gridwidth": 2,
            "linecolor": "white",
            "showbackground": true,
            "ticks": "",
            "zerolinecolor": "white"
           }
          },
          "shapedefaults": {
           "line": {
            "color": "#2a3f5f"
           }
          },
          "ternary": {
           "aaxis": {
            "gridcolor": "white",
            "linecolor": "white",
            "ticks": ""
           },
           "baxis": {
            "gridcolor": "white",
            "linecolor": "white",
            "ticks": ""
           },
           "bgcolor": "#E5ECF6",
           "caxis": {
            "gridcolor": "white",
            "linecolor": "white",
            "ticks": ""
           }
          },
          "title": {
           "x": 0.05
          },
          "xaxis": {
           "automargin": true,
           "gridcolor": "white",
           "linecolor": "white",
           "ticks": "",
           "title": {
            "standoff": 15
           },
           "zerolinecolor": "white",
           "zerolinewidth": 2
          },
          "yaxis": {
           "automargin": true,
           "gridcolor": "white",
           "linecolor": "white",
           "ticks": "",
           "title": {
            "standoff": 15
           },
           "zerolinecolor": "white",
           "zerolinewidth": 2
          }
         }
        },
        "xaxis": {
         "anchor": "y",
         "domain": [
          0,
          1
         ],
         "title": {
          "text": "sug_delek_nm"
         }
        },
        "yaxis": {
         "anchor": "x",
         "domain": [
          0,
          1
         ],
         "title": {
          "text": "share"
         }
        }
       }
      },
      "text/html": [
       "<div>                            <div id=\"72816b0d-3017-45ba-92aa-9749056cfc31\" class=\"plotly-graph-div\" style=\"height:525px; width:100%;\"></div>            <script type=\"text/javascript\">                require([\"plotly\"], function(Plotly) {                    window.PLOTLYENV=window.PLOTLYENV || {};                                    if (document.getElementById(\"72816b0d-3017-45ba-92aa-9749056cfc31\")) {                    Plotly.newPlot(                        \"72816b0d-3017-45ba-92aa-9749056cfc31\",                        [{\"alignmentgroup\":\"True\",\"hovertemplate\":\"trade=מקורי<br>sug_delek_nm=%{x}<br>share=%{y}<extra></extra>\",\"legendgroup\":\"מקורי\",\"marker\":{\"color\":\"#636efa\",\"pattern\":{\"shape\":\"\"}},\"name\":\"מקורי\",\"offsetgroup\":\"מקורי\",\"orientation\":\"v\",\"showlegend\":true,\"textposition\":\"auto\",\"x\":[\"בנזין\",\"דיזל\",\"חשמל\",\"חשמל/בנזין\"],\"xaxis\":\"x\",\"y\":[0.82412020117704,0.6593093455687032,0.8771751110517351,0.8349591733506756],\"yaxis\":\"y\",\"type\":\"bar\"},{\"alignmentgroup\":\"True\",\"hovertemplate\":\"trade=נמכר תוך שנה<br>sug_delek_nm=%{x}<br>share=%{y}<extra></extra>\",\"legendgroup\":\"נמכר תוך שנה\",\"marker\":{\"color\":\"#EF553B\",\"pattern\":{\"shape\":\"\"}},\"name\":\"נמכר תוך שנה\",\"offsetgroup\":\"נמכר תוך שנה\",\"orientation\":\"v\",\"showlegend\":true,\"textposition\":\"auto\",\"x\":[\"בנזין\",\"דיזל\",\"חשמל\",\"חשמל/בנזין\"],\"xaxis\":\"x\",\"y\":[0.10918834744425193,0.15672542864042502,0.09792592097792326,0.11624153961028012],\"yaxis\":\"y\",\"type\":\"bar\"},{\"alignmentgroup\":\"True\",\"hovertemplate\":\"trade=נמכר תוך יותר משנה<br>sug_delek_nm=%{x}<br>share=%{y}<extra></extra>\",\"legendgroup\":\"נמכר תוך יותר משנה\",\"marker\":{\"color\":\"#00cc96\",\"pattern\":{\"shape\":\"\"}},\"name\":\"נמכר תוך יותר משנה\",\"offsetgroup\":\"נמכר תוך יותר משנה\",\"orientation\":\"v\",\"showlegend\":true,\"textposition\":\"auto\",\"x\":[\"בנזין\",\"דיזל\",\"חשמל\",\"חשמל/בנזין\"],\"xaxis\":\"x\",\"y\":[0.05722743246750514,0.06487965869757707,0.021408770582144885,0.0468482790182335],\"yaxis\":\"y\",\"type\":\"bar\"},{\"alignmentgroup\":\"True\",\"hovertemplate\":\"trade=ללא<br>sug_delek_nm=%{x}<br>share=%{y}<extra></extra>\",\"legendgroup\":\"ללא\",\"marker\":{\"color\":\"#ab63fa\",\"pattern\":{\"shape\":\"\"}},\"name\":\"ללא\",\"offsetgroup\":\"ללא\",\"orientation\":\"v\",\"showlegend\":true,\"textposition\":\"auto\",\"x\":[\"בנזין\",\"דיזל\",\"חשמל\",\"חשמל/בנזין\"],\"xaxis\":\"x\",\"y\":[0.009464018911202923,0.1190855670932947,0.0034901973881967872,0.0019510080208107522],\"yaxis\":\"y\",\"type\":\"bar\"}],                        {\"template\":{\"data\":{\"histogram2dcontour\":[{\"type\":\"histogram2dcontour\",\"colorbar\":{\"outlinewidth\":0,\"ticks\":\"\"},\"colorscale\":[[0.0,\"#0d0887\"],[0.1111111111111111,\"#46039f\"],[0.2222222222222222,\"#7201a8\"],[0.3333333333333333,\"#9c179e\"],[0.4444444444444444,\"#bd3786\"],[0.5555555555555556,\"#d8576b\"],[0.6666666666666666,\"#ed7953\"],[0.7777777777777778,\"#fb9f3a\"],[0.8888888888888888,\"#fdca26\"],[1.0,\"#f0f921\"]]}],\"choropleth\":[{\"type\":\"choropleth\",\"colorbar\":{\"outlinewidth\":0,\"ticks\":\"\"}}],\"histogram2d\":[{\"type\":\"histogram2d\",\"colorbar\":{\"outlinewidth\":0,\"ticks\":\"\"},\"colorscale\":[[0.0,\"#0d0887\"],[0.1111111111111111,\"#46039f\"],[0.2222222222222222,\"#7201a8\"],[0.3333333333333333,\"#9c179e\"],[0.4444444444444444,\"#bd3786\"],[0.5555555555555556,\"#d8576b\"],[0.6666666666666666,\"#ed7953\"],[0.7777777777777778,\"#fb9f3a\"],[0.8888888888888888,\"#fdca26\"],[1.0,\"#f0f921\"]]}],\"heatmap\":[{\"type\":\"heatmap\",\"colorbar\":{\"outlinewidth\":0,\"ticks\":\"\"},\"colorscale\":[[0.0,\"#0d0887\"],[0.1111111111111111,\"#46039f\"],[0.2222222222222222,\"#7201a8\"],[0.3333333333333333,\"#9c179e\"],[0.4444444444444444,\"#bd3786\"],[0.5555555555555556,\"#d8576b\"],[0.6666666666666666,\"#ed7953\"],[0.7777777777777778,\"#fb9f3a\"],[0.8888888888888888,\"#fdca26\"],[1.0,\"#f0f921\"]]}],\"heatmapgl\":[{\"type\":\"heatmapgl\",\"colorbar\":{\"outlinewidth\":0,\"ticks\":\"\"},\"colorscale\":[[0.0,\"#0d0887\"],[0.1111111111111111,\"#46039f\"],[0.2222222222222222,\"#7201a8\"],[0.3333333333333333,\"#9c179e\"],[0.4444444444444444,\"#bd3786\"],[0.5555555555555556,\"#d8576b\"],[0.6666666666666666,\"#ed7953\"],[0.7777777777777778,\"#fb9f3a\"],[0.8888888888888888,\"#fdca26\"],[1.0,\"#f0f921\"]]}],\"contourcarpet\":[{\"type\":\"contourcarpet\",\"colorbar\":{\"outlinewidth\":0,\"ticks\":\"\"}}],\"contour\":[{\"type\":\"contour\",\"colorbar\":{\"outlinewidth\":0,\"ticks\":\"\"},\"colorscale\":[[0.0,\"#0d0887\"],[0.1111111111111111,\"#46039f\"],[0.2222222222222222,\"#7201a8\"],[0.3333333333333333,\"#9c179e\"],[0.4444444444444444,\"#bd3786\"],[0.5555555555555556,\"#d8576b\"],[0.6666666666666666,\"#ed7953\"],[0.7777777777777778,\"#fb9f3a\"],[0.8888888888888888,\"#fdca26\"],[1.0,\"#f0f921\"]]}],\"surface\":[{\"type\":\"surface\",\"colorbar\":{\"outlinewidth\":0,\"ticks\":\"\"},\"colorscale\":[[0.0,\"#0d0887\"],[0.1111111111111111,\"#46039f\"],[0.2222222222222222,\"#7201a8\"],[0.3333333333333333,\"#9c179e\"],[0.4444444444444444,\"#bd3786\"],[0.5555555555555556,\"#d8576b\"],[0.6666666666666666,\"#ed7953\"],[0.7777777777777778,\"#fb9f3a\"],[0.8888888888888888,\"#fdca26\"],[1.0,\"#f0f921\"]]}],\"mesh3d\":[{\"type\":\"mesh3d\",\"colorbar\":{\"outlinewidth\":0,\"ticks\":\"\"}}],\"scatter\":[{\"fillpattern\":{\"fillmode\":\"overlay\",\"size\":10,\"solidity\":0.2},\"type\":\"scatter\"}],\"parcoords\":[{\"type\":\"parcoords\",\"line\":{\"colorbar\":{\"outlinewidth\":0,\"ticks\":\"\"}}}],\"scatterpolargl\":[{\"type\":\"scatterpolargl\",\"marker\":{\"colorbar\":{\"outlinewidth\":0,\"ticks\":\"\"}}}],\"bar\":[{\"error_x\":{\"color\":\"#2a3f5f\"},\"error_y\":{\"color\":\"#2a3f5f\"},\"marker\":{\"line\":{\"color\":\"#E5ECF6\",\"width\":0.5},\"pattern\":{\"fillmode\":\"overlay\",\"size\":10,\"solidity\":0.2}},\"type\":\"bar\"}],\"scattergeo\":[{\"type\":\"scattergeo\",\"marker\":{\"colorbar\":{\"outlinewidth\":0,\"ticks\":\"\"}}}],\"scatterpolar\":[{\"type\":\"scatterpolar\",\"marker\":{\"colorbar\":{\"outlinewidth\":0,\"ticks\":\"\"}}}],\"histogram\":[{\"marker\":{\"pattern\":{\"fillmode\":\"overlay\",\"size\":10,\"solidity\":0.2}},\"type\":\"histogram\"}],\"scattergl\":[{\"type\":\"scattergl\",\"marker\":{\"colorbar\":{\"outlinewidth\":0,\"ticks\":\"\"}}}],\"scatter3d\":[{\"type\":\"scatter3d\",\"line\":{\"colorbar\":{\"outlinewidth\":0,\"ticks\":\"\"}},\"marker\":{\"colorbar\":{\"outlinewidth\":0,\"ticks\":\"\"}}}],\"scattermapbox\":[{\"type\":\"scattermapbox\",\"marker\":{\"colorbar\":{\"outlinewidth\":0,\"ticks\":\"\"}}}],\"scatterternary\":[{\"type\":\"scatterternary\",\"marker\":{\"colorbar\":{\"outlinewidth\":0,\"ticks\":\"\"}}}],\"scattercarpet\":[{\"type\":\"scattercarpet\",\"marker\":{\"colorbar\":{\"outlinewidth\":0,\"ticks\":\"\"}}}],\"carpet\":[{\"aaxis\":{\"endlinecolor\":\"#2a3f5f\",\"gridcolor\":\"white\",\"linecolor\":\"white\",\"minorgridcolor\":\"white\",\"startlinecolor\":\"#2a3f5f\"},\"baxis\":{\"endlinecolor\":\"#2a3f5f\",\"gridcolor\":\"white\",\"linecolor\":\"white\",\"minorgridcolor\":\"white\",\"startlinecolor\":\"#2a3f5f\"},\"type\":\"carpet\"}],\"table\":[{\"cells\":{\"fill\":{\"color\":\"#EBF0F8\"},\"line\":{\"color\":\"white\"}},\"header\":{\"fill\":{\"color\":\"#C8D4E3\"},\"line\":{\"color\":\"white\"}},\"type\":\"table\"}],\"barpolar\":[{\"marker\":{\"line\":{\"color\":\"#E5ECF6\",\"width\":0.5},\"pattern\":{\"fillmode\":\"overlay\",\"size\":10,\"solidity\":0.2}},\"type\":\"barpolar\"}],\"pie\":[{\"automargin\":true,\"type\":\"pie\"}]},\"layout\":{\"autotypenumbers\":\"strict\",\"colorway\":[\"#636efa\",\"#EF553B\",\"#00cc96\",\"#ab63fa\",\"#FFA15A\",\"#19d3f3\",\"#FF6692\",\"#B6E880\",\"#FF97FF\",\"#FECB52\"],\"font\":{\"color\":\"#2a3f5f\"},\"hovermode\":\"closest\",\"hoverlabel\":{\"align\":\"left\"},\"paper_bgcolor\":\"white\",\"plot_bgcolor\":\"#E5ECF6\",\"polar\":{\"bgcolor\":\"#E5ECF6\",\"angularaxis\":{\"gridcolor\":\"white\",\"linecolor\":\"white\",\"ticks\":\"\"},\"radialaxis\":{\"gridcolor\":\"white\",\"linecolor\":\"white\",\"ticks\":\"\"}},\"ternary\":{\"bgcolor\":\"#E5ECF6\",\"aaxis\":{\"gridcolor\":\"white\",\"linecolor\":\"white\",\"ticks\":\"\"},\"baxis\":{\"gridcolor\":\"white\",\"linecolor\":\"white\",\"ticks\":\"\"},\"caxis\":{\"gridcolor\":\"white\",\"linecolor\":\"white\",\"ticks\":\"\"}},\"coloraxis\":{\"colorbar\":{\"outlinewidth\":0,\"ticks\":\"\"}},\"colorscale\":{\"sequential\":[[0.0,\"#0d0887\"],[0.1111111111111111,\"#46039f\"],[0.2222222222222222,\"#7201a8\"],[0.3333333333333333,\"#9c179e\"],[0.4444444444444444,\"#bd3786\"],[0.5555555555555556,\"#d8576b\"],[0.6666666666666666,\"#ed7953\"],[0.7777777777777778,\"#fb9f3a\"],[0.8888888888888888,\"#fdca26\"],[1.0,\"#f0f921\"]],\"sequentialminus\":[[0.0,\"#0d0887\"],[0.1111111111111111,\"#46039f\"],[0.2222222222222222,\"#7201a8\"],[0.3333333333333333,\"#9c179e\"],[0.4444444444444444,\"#bd3786\"],[0.5555555555555556,\"#d8576b\"],[0.6666666666666666,\"#ed7953\"],[0.7777777777777778,\"#fb9f3a\"],[0.8888888888888888,\"#fdca26\"],[1.0,\"#f0f921\"]],\"diverging\":[[0,\"#8e0152\"],[0.1,\"#c51b7d\"],[0.2,\"#de77ae\"],[0.3,\"#f1b6da\"],[0.4,\"#fde0ef\"],[0.5,\"#f7f7f7\"],[0.6,\"#e6f5d0\"],[0.7,\"#b8e186\"],[0.8,\"#7fbc41\"],[0.9,\"#4d9221\"],[1,\"#276419\"]]},\"xaxis\":{\"gridcolor\":\"white\",\"linecolor\":\"white\",\"ticks\":\"\",\"title\":{\"standoff\":15},\"zerolinecolor\":\"white\",\"automargin\":true,\"zerolinewidth\":2},\"yaxis\":{\"gridcolor\":\"white\",\"linecolor\":\"white\",\"ticks\":\"\",\"title\":{\"standoff\":15},\"zerolinecolor\":\"white\",\"automargin\":true,\"zerolinewidth\":2},\"scene\":{\"xaxis\":{\"backgroundcolor\":\"#E5ECF6\",\"gridcolor\":\"white\",\"linecolor\":\"white\",\"showbackground\":true,\"ticks\":\"\",\"zerolinecolor\":\"white\",\"gridwidth\":2},\"yaxis\":{\"backgroundcolor\":\"#E5ECF6\",\"gridcolor\":\"white\",\"linecolor\":\"white\",\"showbackground\":true,\"ticks\":\"\",\"zerolinecolor\":\"white\",\"gridwidth\":2},\"zaxis\":{\"backgroundcolor\":\"#E5ECF6\",\"gridcolor\":\"white\",\"linecolor\":\"white\",\"showbackground\":true,\"ticks\":\"\",\"zerolinecolor\":\"white\",\"gridwidth\":2}},\"shapedefaults\":{\"line\":{\"color\":\"#2a3f5f\"}},\"annotationdefaults\":{\"arrowcolor\":\"#2a3f5f\",\"arrowhead\":0,\"arrowwidth\":1},\"geo\":{\"bgcolor\":\"white\",\"landcolor\":\"#E5ECF6\",\"subunitcolor\":\"white\",\"showland\":true,\"showlakes\":true,\"lakecolor\":\"white\"},\"title\":{\"x\":0.05},\"mapbox\":{\"style\":\"light\"}}},\"xaxis\":{\"anchor\":\"y\",\"domain\":[0.0,1.0],\"title\":{\"text\":\"sug_delek_nm\"}},\"yaxis\":{\"anchor\":\"x\",\"domain\":[0.0,1.0],\"title\":{\"text\":\"share\"}},\"legend\":{\"title\":{\"text\":\"trade\"},\"tracegroupgap\":0},\"margin\":{\"t\":60},\"barmode\":\"stack\"},                        {\"responsive\": true}                    ).then(function(){\n",
       "                            \n",
       "var gd = document.getElementById('72816b0d-3017-45ba-92aa-9749056cfc31');\n",
       "var x = new MutationObserver(function (mutations, observer) {{\n",
       "        var display = window.getComputedStyle(gd).display;\n",
       "        if (!display || display === 'none') {{\n",
       "            console.log([gd, 'removed!']);\n",
       "            Plotly.purge(gd);\n",
       "            observer.disconnect();\n",
       "        }}\n",
       "}});\n",
       "\n",
       "// Listen for the removal of the full notebook cells\n",
       "var notebookContainer = gd.closest('#notebook-container');\n",
       "if (notebookContainer) {{\n",
       "    x.observe(notebookContainer, {childList: true});\n",
       "}}\n",
       "\n",
       "// Listen for the clearing of the current output cell\n",
       "var outputEl = gd.closest('.output');\n",
       "if (outputEl) {{\n",
       "    x.observe(outputEl, {childList: true});\n",
       "}}\n",
       "\n",
       "                        })                };                });            </script>        </div>"
      ]
     },
     "metadata": {},
     "output_type": "display_data"
    }
   ],
   "source": [
    "counts = df.query('year >= 2020').groupby('sug_delek_nm')['trade'].value_counts(normalize=True)\n",
    "counts.name='share'\n",
    "counts = counts.reset_index()\n",
    "\n",
    "df_filtered = counts[~counts['sug_delek_nm'].isin(low_fuel_counts)]\n",
    "\n",
    "fig = px.bar(df_filtered, x=\"sug_delek_nm\", y=\"share\", color=\"trade\", barmode=\"stack\")\n",
    "\n",
    "fig.show()"
   ]
  },
  {
   "cell_type": "code",
   "execution_count": 58,
   "id": "1703f14f",
   "metadata": {},
   "outputs": [
    {
     "data": {
      "application/vnd.plotly.v1+json": {
       "config": {
        "plotlyServerURL": "https://plot.ly"
       },
       "data": [
        {
         "line": {
          "width": 3
         },
         "mode": "lines",
         "name": "בנזין",
         "type": "scatter",
         "x": [
          0,
          0.8606060606060606,
          1.7212121212121212,
          2.581818181818182,
          3.4424242424242424,
          4.303030303030303,
          5.163636363636364,
          6.024242424242424,
          6.884848484848485,
          7.745454545454545,
          8.606060606060606,
          9.466666666666667,
          10.327272727272728,
          11.187878787878788,
          12.048484848484849,
          12.909090909090908,
          13.76969696969697,
          14.63030303030303,
          15.49090909090909,
          16.35151515151515,
          17.21212121212121,
          18.072727272727274,
          18.933333333333334,
          19.793939393939393,
          20.654545454545456,
          21.515151515151516,
          22.375757575757575,
          23.236363636363635,
          24.096969696969698,
          24.957575757575757,
          25.818181818181817,
          26.67878787878788,
          27.53939393939394,
          28.4,
          29.26060606060606,
          30.12121212121212,
          30.98181818181818,
          31.842424242424244,
          32.7030303030303,
          33.56363636363636,
          34.42424242424242,
          35.28484848484848,
          36.14545454545455,
          37.00606060606061,
          37.86666666666667,
          38.72727272727273,
          39.587878787878786,
          40.448484848484846,
          41.30909090909091,
          42.16969696969697,
          43.03030303030303,
          43.89090909090909,
          44.75151515151515,
          45.61212121212121,
          46.47272727272727,
          47.333333333333336,
          48.193939393939395,
          49.054545454545455,
          49.915151515151514,
          50.775757575757574,
          51.63636363636363,
          52.4969696969697,
          53.35757575757576,
          54.21818181818182,
          55.07878787878788,
          55.93939393939394,
          56.8,
          57.66060606060606,
          58.52121212121212,
          59.38181818181818,
          60.24242424242424,
          61.1030303030303,
          61.96363636363636,
          62.82424242424242,
          63.68484848484849,
          64.54545454545455,
          65.4060606060606,
          66.26666666666667,
          67.12727272727273,
          67.98787878787878,
          68.84848484848484,
          69.7090909090909,
          70.56969696969696,
          71.43030303030302,
          72.2909090909091,
          73.15151515151516,
          74.01212121212122,
          74.87272727272727,
          75.73333333333333,
          76.5939393939394,
          77.45454545454545,
          78.31515151515151,
          79.17575757575757,
          80.03636363636363,
          80.89696969696969,
          81.75757575757575,
          82.61818181818182,
          83.47878787878788,
          84.33939393939394,
          85.2
         ],
         "y": [
          0.05542354364914423,
          0.05542354364914423,
          0.15205932443417775,
          0.20159750754981406,
          0.22852487116577958,
          0.24659660635398237,
          0.25947635004653113,
          0.25947635004653113,
          0.26951824645682904,
          0.27769705842323833,
          0.2849709962076208,
          0.29186422473249196,
          0.2986802079003609,
          0.30477707357804174,
          0.305830920948573,
          0.3134929246931336,
          0.3202905161093353,
          0.32665406218619075,
          0.3326975917840367,
          0.33920827187422986,
          0.3412313645576232,
          0.3460500034944328,
          0.35292300109247005,
          0.36043419247335956,
          0.3680097549850843,
          0.37582073191814935,
          0.3839222985275564,
          0.3842459933568993,
          0.3936791227870125,
          0.40454313049683477,
          0.4148020495768058,
          0.4251823542177804,
          0.4352150547522447,
          0.4410010998267497,
          0.4460146913312318,
          0.4576309216842431,
          0.4714118612084852,
          0.48826974078665203,
          0.5052177399479881,
          0.5222153968388257,
          0.5231625720496872,
          0.5442744637884801,
          0.5705489202202596,
          0.6089196317235647,
          0.6525356708023585,
          0.6924862337738771,
          0.704922736251246,
          0.7247655971250014,
          0.752998775109339,
          0.778180761492086,
          0.8002802902954084,
          0.8202776418831682,
          0.8377406100911863,
          0.8377406100911863,
          0.8531823247909778,
          0.8671968395613935,
          0.8815001048329845,
          0.8962079886412542,
          0.9082122849544436,
          0.9183479792982443,
          0.9183479792982443,
          0.9268835912469976,
          0.9341685640823804,
          0.9407895946825767,
          0.9469269222139255,
          0.952597099252927,
          0.9556740393068517,
          0.9576290825090763,
          0.962460595672053,
          0.9669776098815204,
          0.9714504838869864,
          0.976090722832624,
          0.9798371226472352,
          0.9798371226472352,
          0.9829747554816616,
          0.9854337326795679,
          0.9877363799883029,
          0.9898845365830332,
          0.9917163550490876,
          0.9924980044949441,
          0.9932465487877996,
          0.9945413281051714,
          0.9956779383582052,
          0.9967317857287363,
          0.9977525279462667,
          0.9986702763544606,
          0.998832123769132,
          0.9992919175608124,
          0.9997774598048267,
          0.9999852865986663,
          0.9999963216496666,
          0.9999963216496666,
          0.9999963216496666,
          0.9999963216496666,
          0.9999963216496666,
          0.9999963216496666,
          0.9999963216496666,
          0.9999963216496666,
          0.9999963216496666,
          0.9999981608248333
         ]
        },
        {
         "line": {
          "width": 3
         },
         "mode": "lines",
         "name": "דיזל",
         "type": "scatter",
         "x": [
          0,
          0.7781144781144781,
          1.5562289562289562,
          2.334343434343434,
          3.1124579124579124,
          3.8905723905723906,
          4.668686868686868,
          5.4468013468013465,
          6.224915824915825,
          7.003030303030303,
          7.781144781144781,
          8.559259259259258,
          9.337373737373737,
          10.115488215488215,
          10.893602693602693,
          11.671717171717171,
          12.44983164983165,
          13.227946127946128,
          14.006060606060606,
          14.784175084175084,
          15.562289562289562,
          16.34040404040404,
          17.118518518518517,
          17.896632996632995,
          18.674747474747473,
          19.45286195286195,
          20.23097643097643,
          21.009090909090908,
          21.787205387205386,
          22.565319865319864,
          23.343434343434343,
          24.12154882154882,
          24.8996632996633,
          25.677777777777777,
          26.455892255892255,
          27.234006734006734,
          28.01212121212121,
          28.79023569023569,
          29.568350168350168,
          30.346464646464646,
          31.124579124579125,
          31.902693602693603,
          32.68080808080808,
          33.45892255892256,
          34.237037037037034,
          35.015151515151516,
          35.79326599326599,
          36.57138047138047,
          37.34949494949495,
          38.12760942760943,
          38.9057239057239,
          39.683838383838385,
          40.46195286195286,
          41.24006734006734,
          42.018181818181816,
          42.7962962962963,
          43.57441077441077,
          44.352525252525254,
          45.13063973063973,
          45.90875420875421,
          46.686868686868685,
          47.46498316498317,
          48.24309764309764,
          49.02121212121212,
          49.7993265993266,
          50.57744107744107,
          51.355555555555554,
          52.13367003367003,
          52.91178451178451,
          53.689898989898985,
          54.46801346801347,
          55.24612794612794,
          56.02424242424242,
          56.8023569023569,
          57.58047138047138,
          58.358585858585855,
          59.136700336700336,
          59.91481481481481,
          60.69292929292929,
          61.47104377104377,
          62.24915824915825,
          63.027272727272724,
          63.805387205387206,
          64.58350168350168,
          65.36161616161615,
          66.13973063973064,
          66.91784511784512,
          67.6959595959596,
          68.47407407407407,
          69.25218855218856,
          70.03030303030303,
          70.8084175084175,
          71.58653198653198,
          72.36464646464647,
          73.14276094276094,
          73.92087542087542,
          74.6989898989899,
          75.47710437710437,
          76.25521885521886,
          77.03333333333333
         ],
         "y": [
          0.05589637523662624,
          0.05589637523662624,
          0.16106359110986468,
          0.2213945172824791,
          0.2558192526116525,
          0.2558192526116525,
          0.28028815817149266,
          0.2976758045292014,
          0.30894622449695014,
          0.30894622449695014,
          0.31869171983453687,
          0.3272628479282058,
          0.33560611372081606,
          0.33635981210124094,
          0.34291523522400613,
          0.3515564747949239,
          0.35956671107060223,
          0.3657540489378111,
          0.366595386664797,
          0.373641590128304,
          0.3805650985066255,
          0.38768141344738133,
          0.38768141344738133,
          0.3950606464278202,
          0.4029657154876253,
          0.4109058402860548,
          0.4109058402860548,
          0.419073827385543,
          0.4274696767860899,
          0.4372151721236766,
          0.44554091004697466,
          0.4478721166654981,
          0.46024679239991584,
          0.4722709107480894,
          0.4837166094089602,
          0.4837166094089602,
          0.49524994741639206,
          0.5067657575545117,
          0.5207705251349646,
          0.5207705251349646,
          0.5365105517773259,
          0.5547570637313328,
          0.5724602117366613,
          0.5738098576737012,
          0.5906366122134193,
          0.6095842389399144,
          0.6314414919722359,
          0.6600294468204445,
          0.6600294468204445,
          0.6923858935707775,
          0.7230070812592021,
          0.748475075369838,
          0.748475075369838,
          0.771489167776765,
          0.7924524994741639,
          0.8124342704900792,
          0.8124342704900792,
          0.8301198906260955,
          0.8462805861319498,
          0.8615298324335693,
          0.8714856622029026,
          0.87432517703148,
          0.8872607445838884,
          0.9004066465680431,
          0.9116244829278553,
          0.9116244829278553,
          0.922053565168618,
          0.9300813293136085,
          0.9373904508167986,
          0.9373904508167986,
          0.9435777886840075,
          0.9489413166935426,
          0.9536738414078384,
          0.9563380775432938,
          0.9580733366052022,
          0.9626831662343125,
          0.9664516581364369,
          0.9706057631634298,
          0.9712367664586692,
          0.9763724321671458,
          0.979878006029587,
          0.9831732454602818,
          0.9831732454602818,
          0.9854518684708686,
          0.9874149898338358,
          0.9892028325036808,
          0.9900441702306667,
          0.9910958423893991,
          0.992866157189932,
          0.9948818621608356,
          0.9955654490640117,
          0.9959685900581925,
          0.9968274556544906,
          0.9979141835518474,
          0.9986328261936479,
          0.9986328261936479,
          0.9994566360513215,
          0.9998597770455023,
          0.9999649442613755,
          1
         ]
        },
        {
         "line": {
          "width": 3
         },
         "mode": "lines",
         "name": "חשמל",
         "type": "scatter",
         "x": [
          0,
          0.7575757575757576,
          1.5151515151515151,
          2.2727272727272725,
          3.0303030303030303,
          3.787878787878788,
          4.545454545454545,
          5.303030303030303,
          6.0606060606060606,
          6.818181818181818,
          7.575757575757576,
          8.333333333333334,
          9.09090909090909,
          9.848484848484848,
          10.606060606060606,
          11.363636363636363,
          12.121212121212121,
          12.878787878787879,
          13.636363636363637,
          14.393939393939394,
          15.151515151515152,
          15.909090909090908,
          16.666666666666668,
          17.424242424242426,
          18.18181818181818,
          18.939393939393938,
          19.696969696969695,
          20.454545454545453,
          21.21212121212121,
          21.96969696969697,
          22.727272727272727,
          23.484848484848484,
          24.242424242424242,
          25,
          25.757575757575758,
          26.515151515151516,
          27.272727272727273,
          28.03030303030303,
          28.78787878787879,
          29.545454545454547,
          30.303030303030305,
          31.06060606060606,
          31.818181818181817,
          32.57575757575758,
          33.333333333333336,
          34.09090909090909,
          34.84848484848485,
          35.60606060606061,
          36.36363636363636,
          37.12121212121212,
          37.878787878787875,
          38.63636363636363,
          39.39393939393939,
          40.15151515151515,
          40.90909090909091,
          41.666666666666664,
          42.42424242424242,
          43.18181818181818,
          43.93939393939394,
          44.696969696969695,
          45.45454545454545,
          46.21212121212121,
          46.96969696969697,
          47.72727272727273,
          48.484848484848484,
          49.24242424242424,
          50,
          50.75757575757576,
          51.515151515151516,
          52.27272727272727,
          53.03030303030303,
          53.78787878787879,
          54.54545454545455,
          55.303030303030305,
          56.06060606060606,
          56.81818181818182,
          57.57575757575758,
          58.333333333333336,
          59.09090909090909,
          59.84848484848485,
          60.60606060606061,
          61.36363636363636,
          62.12121212121212,
          62.878787878787875,
          63.63636363636363,
          64.39393939393939,
          65.15151515151516,
          65.9090909090909,
          66.66666666666667,
          67.42424242424242,
          68.18181818181819,
          68.93939393939394,
          69.6969696969697,
          70.45454545454545,
          71.21212121212122,
          71.96969696969697,
          72.72727272727272,
          73.48484848484848,
          74.24242424242424,
          75
         ],
         "y": [
          0.21099455583587837,
          0.21099455583587837,
          0.42955782764573097,
          0.5017925906254149,
          0.5178595140087637,
          0.5510556367016333,
          0.6020448811578808,
          0.639622892046209,
          0.6467932545478688,
          0.666578143672819,
          0.6931350418271146,
          0.7187624485460098,
          0.7187624485460098,
          0.7438587173018192,
          0.7656353737883416,
          0.7862169698579207,
          0.7862169698579207,
          0.808524764307529,
          0.8271145930155358,
          0.8425175939450272,
          0.8426503784357987,
          0.8572566724206613,
          0.8688089231177799,
          0.8792988978887266,
          0.8792988978887266,
          0.8899216571504448,
          0.901075554375249,
          0.9120966671092816,
          0.9120966671092816,
          0.9192670296109414,
          0.928561943964945,
          0.9340061080865755,
          0.9340061080865755,
          0.9391847032266631,
          0.94250431549595,
          0.9466206347098659,
          0.9466206347098659,
          0.9503386004514673,
          0.9529942902668969,
          0.9555171955915549,
          0.9555171955915549,
          0.9581728854069845,
          0.960828575222414,
          0.963882618510158,
          0.963882618510158,
          0.9666710928163591,
          0.9693267826317886,
          0.9725136104103042,
          0.9725136104103042,
          0.975833222679591,
          0.9784889124950206,
          0.9808790333289072,
          0.9808790333289072,
          0.9823396627273935,
          0.9838002921258797,
          0.9841986455981941,
          0.9841986455981941,
          0.984995352542823,
          0.9857920594874519,
          0.9863231974505378,
          0.9868543354136237,
          0.9876510423582526,
          0.9879166113397956,
          0.9880493958305671,
          0.9881821803213385,
          0.988580533793653,
          0.9887133182844244,
          0.9889788872659674,
          0.9889788872659674,
          0.9889788872659674,
          0.9892444562475103,
          0.9893772407382818,
          0.9893772407382818,
          0.9903067321736821,
          0.990837870136768,
          0.990837870136768,
          0.990837870136768,
          0.9950869738414554,
          0.9985393706015138,
          0.9986721550922852,
          0.9988049395830567,
          0.9989377240738282,
          0.9990705085645997,
          0.9990705085645997,
          0.9993360775461426,
          0.9993360775461426,
          0.9993360775461426,
          0.9994688620369141,
          0.9996016465276856,
          0.9996016465276856,
          0.999734431018457,
          0.999734431018457,
          0.999734431018457,
          0.9998672155092285,
          0.9998672155092285,
          0.9998672155092285,
          0.9998672155092285,
          0.9998672155092285,
          0.9998672155092285,
          1
         ]
        },
        {
         "line": {
          "width": 3
         },
         "mode": "lines",
         "name": "חשמל/בנזין",
         "type": "scatter",
         "x": [
          0,
          0.768013468013468,
          1.536026936026936,
          2.3040404040404043,
          3.072053872053872,
          3.84006734006734,
          4.608080808080809,
          5.3760942760942765,
          6.144107744107744,
          6.912121212121212,
          7.68013468013468,
          8.448148148148148,
          9.216161616161617,
          9.984175084175085,
          10.752188552188553,
          11.52020202020202,
          12.288215488215489,
          13.056228956228956,
          13.824242424242424,
          14.592255892255892,
          15.36026936026936,
          16.128282828282828,
          16.896296296296295,
          17.664309764309763,
          18.432323232323235,
          19.200336700336702,
          19.96835016835017,
          20.736363636363638,
          21.504377104377106,
          22.272390572390574,
          23.04040404040404,
          23.80841750841751,
          24.576430976430977,
          25.344444444444445,
          26.112457912457913,
          26.88047138047138,
          27.64848484848485,
          28.416498316498316,
          29.184511784511784,
          29.952525252525252,
          30.72053872053872,
          31.48855218855219,
          32.256565656565655,
          33.02457912457913,
          33.79259259259259,
          34.56060606060606,
          35.32861952861953,
          36.096632996633,
          36.86464646464647,
          37.632659932659934,
          38.400673400673405,
          39.16868686868687,
          39.93670033670034,
          40.704713804713805,
          41.472727272727276,
          42.24074074074074,
          43.00875420875421,
          43.776767676767676,
          44.54478114478115,
          45.31279461279461,
          46.08080808080808,
          46.84882154882155,
          47.61683501683502,
          48.38484848484848,
          49.152861952861954,
          49.920875420875426,
          50.68888888888889,
          51.45690235690236,
          52.224915824915826,
          52.9929292929293,
          53.76094276094276,
          54.52895622895623,
          55.2969696969697,
          56.06498316498317,
          56.83299663299663,
          57.601010101010104,
          58.36902356902357,
          59.13703703703704,
          59.905050505050504,
          60.673063973063975,
          61.44107744107744,
          62.20909090909091,
          62.97710437710438,
          63.745117845117846,
          64.51313131313131,
          65.28114478114479,
          66.04915824915825,
          66.81717171717172,
          67.58518518518518,
          68.35319865319866,
          69.12121212121212,
          69.88922558922559,
          70.65723905723905,
          71.42525252525253,
          72.193265993266,
          72.96127946127946,
          73.72929292929294,
          74.4973063973064,
          75.26531986531987,
          76.03333333333333
         ],
         "y": [
          0.0669732441471572,
          0.0669732441471572,
          0.16956521739130437,
          0.23244147157190637,
          0.27909698996655524,
          0.27909698996655524,
          0.32667224080267565,
          0.36588628762541814,
          0.4007525083612041,
          0.4007525083612041,
          0.4302675585284282,
          0.4566053511705686,
          0.4814381270903011,
          0.4814381270903011,
          0.5036789297658864,
          0.5239966555183947,
          0.5433110367892977,
          0.5433110367892977,
          0.5607023411371238,
          0.5774247491638796,
          0.591304347826087,
          0.591304347826087,
          0.604933110367893,
          0.6191471571906355,
          0.6344481605351171,
          0.6344481605351171,
          0.6484113712374582,
          0.6624581939799331,
          0.6752508361204014,
          0.676923076923077,
          0.689046822742475,
          0.7038461538461539,
          0.7195652173913044,
          0.7224916387959867,
          0.7319397993311038,
          0.7436454849498328,
          0.7561872909698997,
          0.7617892976588629,
          0.7661371237458194,
          0.7776755852842809,
          0.7906354515050168,
          0.796989966555184,
          0.8000836120401338,
          0.8114548494983278,
          0.82123745819398,
          0.8311872909698997,
          0.8326923076923077,
          0.8461538461538463,
          0.8607023411371238,
          0.8756688963210703,
          0.8756688963210703,
          0.886371237458194,
          0.8954849498327759,
          0.9030100334448161,
          0.9030100334448161,
          0.9096153846153847,
          0.9154682274247492,
          0.9210702341137125,
          0.9210702341137125,
          0.926923076923077,
          0.9325250836120402,
          0.9377090301003345,
          0.9377090301003345,
          0.9444816053511706,
          0.9518394648829432,
          0.9567725752508361,
          0.9581103678929767,
          0.9616220735785954,
          0.9653846153846155,
          0.9687290969899667,
          0.9698996655518395,
          0.971989966555184,
          0.9750836120401338,
          0.9770903010033446,
          0.9790969899665553,
          0.9804347826086958,
          0.9827759197324415,
          0.9858695652173913,
          0.9875418060200669,
          0.9880434782608697,
          0.9903010033444817,
          0.9925585284280937,
          0.9938963210702342,
          0.9938963210702342,
          0.9950668896321071,
          0.9956521739130435,
          0.9965719063545151,
          0.9965719063545151,
          0.9975752508361204,
          0.9980769230769232,
          0.9984113712374583,
          0.9984113712374583,
          0.9989130434782609,
          0.9993311036789299,
          0.9994983277591974,
          0.9994983277591974,
          0.9996655518394649,
          0.9999163879598663,
          0.9999163879598663,
          1
         ]
        }
       ],
       "layout": {
        "template": {
         "data": {
          "bar": [
           {
            "error_x": {
             "color": "#2a3f5f"
            },
            "error_y": {
             "color": "#2a3f5f"
            },
            "marker": {
             "line": {
              "color": "#E5ECF6",
              "width": 0.5
             },
             "pattern": {
              "fillmode": "overlay",
              "size": 10,
              "solidity": 0.2
             }
            },
            "type": "bar"
           }
          ],
          "barpolar": [
           {
            "marker": {
             "line": {
              "color": "#E5ECF6",
              "width": 0.5
             },
             "pattern": {
              "fillmode": "overlay",
              "size": 10,
              "solidity": 0.2
             }
            },
            "type": "barpolar"
           }
          ],
          "carpet": [
           {
            "aaxis": {
             "endlinecolor": "#2a3f5f",
             "gridcolor": "white",
             "linecolor": "white",
             "minorgridcolor": "white",
             "startlinecolor": "#2a3f5f"
            },
            "baxis": {
             "endlinecolor": "#2a3f5f",
             "gridcolor": "white",
             "linecolor": "white",
             "minorgridcolor": "white",
             "startlinecolor": "#2a3f5f"
            },
            "type": "carpet"
           }
          ],
          "choropleth": [
           {
            "colorbar": {
             "outlinewidth": 0,
             "ticks": ""
            },
            "type": "choropleth"
           }
          ],
          "contour": [
           {
            "colorbar": {
             "outlinewidth": 0,
             "ticks": ""
            },
            "colorscale": [
             [
              0,
              "#0d0887"
             ],
             [
              0.1111111111111111,
              "#46039f"
             ],
             [
              0.2222222222222222,
              "#7201a8"
             ],
             [
              0.3333333333333333,
              "#9c179e"
             ],
             [
              0.4444444444444444,
              "#bd3786"
             ],
             [
              0.5555555555555556,
              "#d8576b"
             ],
             [
              0.6666666666666666,
              "#ed7953"
             ],
             [
              0.7777777777777778,
              "#fb9f3a"
             ],
             [
              0.8888888888888888,
              "#fdca26"
             ],
             [
              1,
              "#f0f921"
             ]
            ],
            "type": "contour"
           }
          ],
          "contourcarpet": [
           {
            "colorbar": {
             "outlinewidth": 0,
             "ticks": ""
            },
            "type": "contourcarpet"
           }
          ],
          "heatmap": [
           {
            "colorbar": {
             "outlinewidth": 0,
             "ticks": ""
            },
            "colorscale": [
             [
              0,
              "#0d0887"
             ],
             [
              0.1111111111111111,
              "#46039f"
             ],
             [
              0.2222222222222222,
              "#7201a8"
             ],
             [
              0.3333333333333333,
              "#9c179e"
             ],
             [
              0.4444444444444444,
              "#bd3786"
             ],
             [
              0.5555555555555556,
              "#d8576b"
             ],
             [
              0.6666666666666666,
              "#ed7953"
             ],
             [
              0.7777777777777778,
              "#fb9f3a"
             ],
             [
              0.8888888888888888,
              "#fdca26"
             ],
             [
              1,
              "#f0f921"
             ]
            ],
            "type": "heatmap"
           }
          ],
          "heatmapgl": [
           {
            "colorbar": {
             "outlinewidth": 0,
             "ticks": ""
            },
            "colorscale": [
             [
              0,
              "#0d0887"
             ],
             [
              0.1111111111111111,
              "#46039f"
             ],
             [
              0.2222222222222222,
              "#7201a8"
             ],
             [
              0.3333333333333333,
              "#9c179e"
             ],
             [
              0.4444444444444444,
              "#bd3786"
             ],
             [
              0.5555555555555556,
              "#d8576b"
             ],
             [
              0.6666666666666666,
              "#ed7953"
             ],
             [
              0.7777777777777778,
              "#fb9f3a"
             ],
             [
              0.8888888888888888,
              "#fdca26"
             ],
             [
              1,
              "#f0f921"
             ]
            ],
            "type": "heatmapgl"
           }
          ],
          "histogram": [
           {
            "marker": {
             "pattern": {
              "fillmode": "overlay",
              "size": 10,
              "solidity": 0.2
             }
            },
            "type": "histogram"
           }
          ],
          "histogram2d": [
           {
            "colorbar": {
             "outlinewidth": 0,
             "ticks": ""
            },
            "colorscale": [
             [
              0,
              "#0d0887"
             ],
             [
              0.1111111111111111,
              "#46039f"
             ],
             [
              0.2222222222222222,
              "#7201a8"
             ],
             [
              0.3333333333333333,
              "#9c179e"
             ],
             [
              0.4444444444444444,
              "#bd3786"
             ],
             [
              0.5555555555555556,
              "#d8576b"
             ],
             [
              0.6666666666666666,
              "#ed7953"
             ],
             [
              0.7777777777777778,
              "#fb9f3a"
             ],
             [
              0.8888888888888888,
              "#fdca26"
             ],
             [
              1,
              "#f0f921"
             ]
            ],
            "type": "histogram2d"
           }
          ],
          "histogram2dcontour": [
           {
            "colorbar": {
             "outlinewidth": 0,
             "ticks": ""
            },
            "colorscale": [
             [
              0,
              "#0d0887"
             ],
             [
              0.1111111111111111,
              "#46039f"
             ],
             [
              0.2222222222222222,
              "#7201a8"
             ],
             [
              0.3333333333333333,
              "#9c179e"
             ],
             [
              0.4444444444444444,
              "#bd3786"
             ],
             [
              0.5555555555555556,
              "#d8576b"
             ],
             [
              0.6666666666666666,
              "#ed7953"
             ],
             [
              0.7777777777777778,
              "#fb9f3a"
             ],
             [
              0.8888888888888888,
              "#fdca26"
             ],
             [
              1,
              "#f0f921"
             ]
            ],
            "type": "histogram2dcontour"
           }
          ],
          "mesh3d": [
           {
            "colorbar": {
             "outlinewidth": 0,
             "ticks": ""
            },
            "type": "mesh3d"
           }
          ],
          "parcoords": [
           {
            "line": {
             "colorbar": {
              "outlinewidth": 0,
              "ticks": ""
             }
            },
            "type": "parcoords"
           }
          ],
          "pie": [
           {
            "automargin": true,
            "type": "pie"
           }
          ],
          "scatter": [
           {
            "fillpattern": {
             "fillmode": "overlay",
             "size": 10,
             "solidity": 0.2
            },
            "type": "scatter"
           }
          ],
          "scatter3d": [
           {
            "line": {
             "colorbar": {
              "outlinewidth": 0,
              "ticks": ""
             }
            },
            "marker": {
             "colorbar": {
              "outlinewidth": 0,
              "ticks": ""
             }
            },
            "type": "scatter3d"
           }
          ],
          "scattercarpet": [
           {
            "marker": {
             "colorbar": {
              "outlinewidth": 0,
              "ticks": ""
             }
            },
            "type": "scattercarpet"
           }
          ],
          "scattergeo": [
           {
            "marker": {
             "colorbar": {
              "outlinewidth": 0,
              "ticks": ""
             }
            },
            "type": "scattergeo"
           }
          ],
          "scattergl": [
           {
            "marker": {
             "colorbar": {
              "outlinewidth": 0,
              "ticks": ""
             }
            },
            "type": "scattergl"
           }
          ],
          "scattermapbox": [
           {
            "marker": {
             "colorbar": {
              "outlinewidth": 0,
              "ticks": ""
             }
            },
            "type": "scattermapbox"
           }
          ],
          "scatterpolar": [
           {
            "marker": {
             "colorbar": {
              "outlinewidth": 0,
              "ticks": ""
             }
            },
            "type": "scatterpolar"
           }
          ],
          "scatterpolargl": [
           {
            "marker": {
             "colorbar": {
              "outlinewidth": 0,
              "ticks": ""
             }
            },
            "type": "scatterpolargl"
           }
          ],
          "scatterternary": [
           {
            "marker": {
             "colorbar": {
              "outlinewidth": 0,
              "ticks": ""
             }
            },
            "type": "scatterternary"
           }
          ],
          "surface": [
           {
            "colorbar": {
             "outlinewidth": 0,
             "ticks": ""
            },
            "colorscale": [
             [
              0,
              "#0d0887"
             ],
             [
              0.1111111111111111,
              "#46039f"
             ],
             [
              0.2222222222222222,
              "#7201a8"
             ],
             [
              0.3333333333333333,
              "#9c179e"
             ],
             [
              0.4444444444444444,
              "#bd3786"
             ],
             [
              0.5555555555555556,
              "#d8576b"
             ],
             [
              0.6666666666666666,
              "#ed7953"
             ],
             [
              0.7777777777777778,
              "#fb9f3a"
             ],
             [
              0.8888888888888888,
              "#fdca26"
             ],
             [
              1,
              "#f0f921"
             ]
            ],
            "type": "surface"
           }
          ],
          "table": [
           {
            "cells": {
             "fill": {
              "color": "#EBF0F8"
             },
             "line": {
              "color": "white"
             }
            },
            "header": {
             "fill": {
              "color": "#C8D4E3"
             },
             "line": {
              "color": "white"
             }
            },
            "type": "table"
           }
          ]
         },
         "layout": {
          "annotationdefaults": {
           "arrowcolor": "#2a3f5f",
           "arrowhead": 0,
           "arrowwidth": 1
          },
          "autotypenumbers": "strict",
          "coloraxis": {
           "colorbar": {
            "outlinewidth": 0,
            "ticks": ""
           }
          },
          "colorscale": {
           "diverging": [
            [
             0,
             "#8e0152"
            ],
            [
             0.1,
             "#c51b7d"
            ],
            [
             0.2,
             "#de77ae"
            ],
            [
             0.3,
             "#f1b6da"
            ],
            [
             0.4,
             "#fde0ef"
            ],
            [
             0.5,
             "#f7f7f7"
            ],
            [
             0.6,
             "#e6f5d0"
            ],
            [
             0.7,
             "#b8e186"
            ],
            [
             0.8,
             "#7fbc41"
            ],
            [
             0.9,
             "#4d9221"
            ],
            [
             1,
             "#276419"
            ]
           ],
           "sequential": [
            [
             0,
             "#0d0887"
            ],
            [
             0.1111111111111111,
             "#46039f"
            ],
            [
             0.2222222222222222,
             "#7201a8"
            ],
            [
             0.3333333333333333,
             "#9c179e"
            ],
            [
             0.4444444444444444,
             "#bd3786"
            ],
            [
             0.5555555555555556,
             "#d8576b"
            ],
            [
             0.6666666666666666,
             "#ed7953"
            ],
            [
             0.7777777777777778,
             "#fb9f3a"
            ],
            [
             0.8888888888888888,
             "#fdca26"
            ],
            [
             1,
             "#f0f921"
            ]
           ],
           "sequentialminus": [
            [
             0,
             "#0d0887"
            ],
            [
             0.1111111111111111,
             "#46039f"
            ],
            [
             0.2222222222222222,
             "#7201a8"
            ],
            [
             0.3333333333333333,
             "#9c179e"
            ],
            [
             0.4444444444444444,
             "#bd3786"
            ],
            [
             0.5555555555555556,
             "#d8576b"
            ],
            [
             0.6666666666666666,
             "#ed7953"
            ],
            [
             0.7777777777777778,
             "#fb9f3a"
            ],
            [
             0.8888888888888888,
             "#fdca26"
            ],
            [
             1,
             "#f0f921"
            ]
           ]
          },
          "colorway": [
           "#636efa",
           "#EF553B",
           "#00cc96",
           "#ab63fa",
           "#FFA15A",
           "#19d3f3",
           "#FF6692",
           "#B6E880",
           "#FF97FF",
           "#FECB52"
          ],
          "font": {
           "color": "#2a3f5f"
          },
          "geo": {
           "bgcolor": "white",
           "lakecolor": "white",
           "landcolor": "#E5ECF6",
           "showlakes": true,
           "showland": true,
           "subunitcolor": "white"
          },
          "hoverlabel": {
           "align": "left"
          },
          "hovermode": "closest",
          "mapbox": {
           "style": "light"
          },
          "paper_bgcolor": "white",
          "plot_bgcolor": "#E5ECF6",
          "polar": {
           "angularaxis": {
            "gridcolor": "white",
            "linecolor": "white",
            "ticks": ""
           },
           "bgcolor": "#E5ECF6",
           "radialaxis": {
            "gridcolor": "white",
            "linecolor": "white",
            "ticks": ""
           }
          },
          "scene": {
           "xaxis": {
            "backgroundcolor": "#E5ECF6",
            "gridcolor": "white",
            "gridwidth": 2,
            "linecolor": "white",
            "showbackground": true,
            "ticks": "",
            "zerolinecolor": "white"
           },
           "yaxis": {
            "backgroundcolor": "#E5ECF6",
            "gridcolor": "white",
            "gridwidth": 2,
            "linecolor": "white",
            "showbackground": true,
            "ticks": "",
            "zerolinecolor": "white"
           },
           "zaxis": {
            "backgroundcolor": "#E5ECF6",
            "gridcolor": "white",
            "gridwidth": 2,
            "linecolor": "white",
            "showbackground": true,
            "ticks": "",
            "zerolinecolor": "white"
           }
          },
          "shapedefaults": {
           "line": {
            "color": "#2a3f5f"
           }
          },
          "ternary": {
           "aaxis": {
            "gridcolor": "white",
            "linecolor": "white",
            "ticks": ""
           },
           "baxis": {
            "gridcolor": "white",
            "linecolor": "white",
            "ticks": ""
           },
           "bgcolor": "#E5ECF6",
           "caxis": {
            "gridcolor": "white",
            "linecolor": "white",
            "ticks": ""
           }
          },
          "title": {
           "x": 0.05
          },
          "xaxis": {
           "automargin": true,
           "gridcolor": "white",
           "linecolor": "white",
           "ticks": "",
           "title": {
            "standoff": 15
           },
           "zerolinecolor": "white",
           "zerolinewidth": 2
          },
          "yaxis": {
           "automargin": true,
           "gridcolor": "white",
           "linecolor": "white",
           "ticks": "",
           "title": {
            "standoff": 15
           },
           "zerolinecolor": "white",
           "zerolinewidth": 2
          }
         }
        },
        "title": {
         "text": "התפלגות זמן מכירה לפי סוג דלק"
        },
        "xaxis": {
         "title": {
          "text": "משך זמן מהקניה בחודשים"
         }
        },
        "yaxis": {
         "title": {
          "text": "הסתברות מכירה עד תום תקופה"
         }
        }
       }
      },
      "text/html": [
       "<div>                            <div id=\"3fcf1257-e763-44b1-95b5-1e434356a1b0\" class=\"plotly-graph-div\" style=\"height:525px; width:100%;\"></div>            <script type=\"text/javascript\">                require([\"plotly\"], function(Plotly) {                    window.PLOTLYENV=window.PLOTLYENV || {};                                    if (document.getElementById(\"3fcf1257-e763-44b1-95b5-1e434356a1b0\")) {                    Plotly.newPlot(                        \"3fcf1257-e763-44b1-95b5-1e434356a1b0\",                        [{\"mode\":\"lines\",\"name\":\"בנזין\",\"x\":[0.0,0.8606060606060606,1.7212121212121212,2.581818181818182,3.4424242424242424,4.303030303030303,5.163636363636364,6.024242424242424,6.884848484848485,7.745454545454545,8.606060606060606,9.466666666666667,10.327272727272728,11.187878787878788,12.048484848484849,12.909090909090908,13.76969696969697,14.63030303030303,15.49090909090909,16.35151515151515,17.21212121212121,18.072727272727274,18.933333333333334,19.793939393939393,20.654545454545456,21.515151515151516,22.375757575757575,23.236363636363635,24.096969696969698,24.957575757575757,25.818181818181817,26.67878787878788,27.53939393939394,28.4,29.26060606060606,30.12121212121212,30.98181818181818,31.842424242424244,32.7030303030303,33.56363636363636,34.42424242424242,35.28484848484848,36.14545454545455,37.00606060606061,37.86666666666667,38.72727272727273,39.587878787878786,40.448484848484846,41.30909090909091,42.16969696969697,43.03030303030303,43.89090909090909,44.75151515151515,45.61212121212121,46.47272727272727,47.333333333333336,48.193939393939395,49.054545454545455,49.915151515151514,50.775757575757574,51.63636363636363,52.4969696969697,53.35757575757576,54.21818181818182,55.07878787878788,55.93939393939394,56.8,57.66060606060606,58.52121212121212,59.38181818181818,60.24242424242424,61.1030303030303,61.96363636363636,62.82424242424242,63.68484848484849,64.54545454545455,65.4060606060606,66.26666666666667,67.12727272727273,67.98787878787878,68.84848484848484,69.7090909090909,70.56969696969696,71.43030303030302,72.2909090909091,73.15151515151516,74.01212121212122,74.87272727272727,75.73333333333333,76.5939393939394,77.45454545454545,78.31515151515151,79.17575757575757,80.03636363636363,80.89696969696969,81.75757575757575,82.61818181818182,83.47878787878788,84.33939393939394,85.2],\"y\":[0.05542354364914423,0.05542354364914423,0.15205932443417775,0.20159750754981406,0.22852487116577958,0.24659660635398237,0.25947635004653113,0.25947635004653113,0.26951824645682904,0.27769705842323833,0.2849709962076208,0.29186422473249196,0.2986802079003609,0.30477707357804174,0.305830920948573,0.3134929246931336,0.3202905161093353,0.32665406218619075,0.3326975917840367,0.33920827187422986,0.3412313645576232,0.3460500034944328,0.35292300109247005,0.36043419247335956,0.3680097549850843,0.37582073191814935,0.3839222985275564,0.3842459933568993,0.3936791227870125,0.40454313049683477,0.4148020495768058,0.4251823542177804,0.4352150547522447,0.4410010998267497,0.4460146913312318,0.4576309216842431,0.4714118612084852,0.48826974078665203,0.5052177399479881,0.5222153968388257,0.5231625720496872,0.5442744637884801,0.5705489202202596,0.6089196317235647,0.6525356708023585,0.6924862337738771,0.704922736251246,0.7247655971250014,0.752998775109339,0.778180761492086,0.8002802902954084,0.8202776418831682,0.8377406100911863,0.8377406100911863,0.8531823247909778,0.8671968395613935,0.8815001048329845,0.8962079886412542,0.9082122849544436,0.9183479792982443,0.9183479792982443,0.9268835912469976,0.9341685640823804,0.9407895946825767,0.9469269222139255,0.952597099252927,0.9556740393068517,0.9576290825090763,0.962460595672053,0.9669776098815204,0.9714504838869864,0.976090722832624,0.9798371226472352,0.9798371226472352,0.9829747554816616,0.9854337326795679,0.9877363799883029,0.9898845365830332,0.9917163550490876,0.9924980044949441,0.9932465487877996,0.9945413281051714,0.9956779383582052,0.9967317857287363,0.9977525279462667,0.9986702763544606,0.998832123769132,0.9992919175608124,0.9997774598048267,0.9999852865986663,0.9999963216496666,0.9999963216496666,0.9999963216496666,0.9999963216496666,0.9999963216496666,0.9999963216496666,0.9999963216496666,0.9999963216496666,0.9999963216496666,0.9999981608248333],\"type\":\"scatter\",\"line\":{\"width\":3}},{\"mode\":\"lines\",\"name\":\"דיזל\",\"x\":[0.0,0.7781144781144781,1.5562289562289562,2.334343434343434,3.1124579124579124,3.8905723905723906,4.668686868686868,5.4468013468013465,6.224915824915825,7.003030303030303,7.781144781144781,8.559259259259258,9.337373737373737,10.115488215488215,10.893602693602693,11.671717171717171,12.44983164983165,13.227946127946128,14.006060606060606,14.784175084175084,15.562289562289562,16.34040404040404,17.118518518518517,17.896632996632995,18.674747474747473,19.45286195286195,20.23097643097643,21.009090909090908,21.787205387205386,22.565319865319864,23.343434343434343,24.12154882154882,24.8996632996633,25.677777777777777,26.455892255892255,27.234006734006734,28.01212121212121,28.79023569023569,29.568350168350168,30.346464646464646,31.124579124579125,31.902693602693603,32.68080808080808,33.45892255892256,34.237037037037034,35.015151515151516,35.79326599326599,36.57138047138047,37.34949494949495,38.12760942760943,38.9057239057239,39.683838383838385,40.46195286195286,41.24006734006734,42.018181818181816,42.7962962962963,43.57441077441077,44.352525252525254,45.13063973063973,45.90875420875421,46.686868686868685,47.46498316498317,48.24309764309764,49.02121212121212,49.7993265993266,50.57744107744107,51.355555555555554,52.13367003367003,52.91178451178451,53.689898989898985,54.46801346801347,55.24612794612794,56.02424242424242,56.8023569023569,57.58047138047138,58.358585858585855,59.136700336700336,59.91481481481481,60.69292929292929,61.47104377104377,62.24915824915825,63.027272727272724,63.805387205387206,64.58350168350168,65.36161616161615,66.13973063973064,66.91784511784512,67.6959595959596,68.47407407407407,69.25218855218856,70.03030303030303,70.8084175084175,71.58653198653198,72.36464646464647,73.14276094276094,73.92087542087542,74.6989898989899,75.47710437710437,76.25521885521886,77.03333333333333],\"y\":[0.05589637523662624,0.05589637523662624,0.16106359110986468,0.2213945172824791,0.2558192526116525,0.2558192526116525,0.28028815817149266,0.2976758045292014,0.30894622449695014,0.30894622449695014,0.31869171983453687,0.3272628479282058,0.33560611372081606,0.33635981210124094,0.34291523522400613,0.3515564747949239,0.35956671107060223,0.3657540489378111,0.366595386664797,0.373641590128304,0.3805650985066255,0.38768141344738133,0.38768141344738133,0.3950606464278202,0.4029657154876253,0.4109058402860548,0.4109058402860548,0.419073827385543,0.4274696767860899,0.4372151721236766,0.44554091004697466,0.4478721166654981,0.46024679239991584,0.4722709107480894,0.4837166094089602,0.4837166094089602,0.49524994741639206,0.5067657575545117,0.5207705251349646,0.5207705251349646,0.5365105517773259,0.5547570637313328,0.5724602117366613,0.5738098576737012,0.5906366122134193,0.6095842389399144,0.6314414919722359,0.6600294468204445,0.6600294468204445,0.6923858935707775,0.7230070812592021,0.748475075369838,0.748475075369838,0.771489167776765,0.7924524994741639,0.8124342704900792,0.8124342704900792,0.8301198906260955,0.8462805861319498,0.8615298324335693,0.8714856622029026,0.87432517703148,0.8872607445838884,0.9004066465680431,0.9116244829278553,0.9116244829278553,0.922053565168618,0.9300813293136085,0.9373904508167986,0.9373904508167986,0.9435777886840075,0.9489413166935426,0.9536738414078384,0.9563380775432938,0.9580733366052022,0.9626831662343125,0.9664516581364369,0.9706057631634298,0.9712367664586692,0.9763724321671458,0.979878006029587,0.9831732454602818,0.9831732454602818,0.9854518684708686,0.9874149898338358,0.9892028325036808,0.9900441702306667,0.9910958423893991,0.992866157189932,0.9948818621608356,0.9955654490640117,0.9959685900581925,0.9968274556544906,0.9979141835518474,0.9986328261936479,0.9986328261936479,0.9994566360513215,0.9998597770455023,0.9999649442613755,1.0],\"type\":\"scatter\",\"line\":{\"width\":3}},{\"mode\":\"lines\",\"name\":\"חשמל\",\"x\":[0.0,0.7575757575757576,1.5151515151515151,2.2727272727272725,3.0303030303030303,3.787878787878788,4.545454545454545,5.303030303030303,6.0606060606060606,6.818181818181818,7.575757575757576,8.333333333333334,9.09090909090909,9.848484848484848,10.606060606060606,11.363636363636363,12.121212121212121,12.878787878787879,13.636363636363637,14.393939393939394,15.151515151515152,15.909090909090908,16.666666666666668,17.424242424242426,18.18181818181818,18.939393939393938,19.696969696969695,20.454545454545453,21.21212121212121,21.96969696969697,22.727272727272727,23.484848484848484,24.242424242424242,25.0,25.757575757575758,26.515151515151516,27.272727272727273,28.03030303030303,28.78787878787879,29.545454545454547,30.303030303030305,31.06060606060606,31.818181818181817,32.57575757575758,33.333333333333336,34.09090909090909,34.84848484848485,35.60606060606061,36.36363636363636,37.12121212121212,37.878787878787875,38.63636363636363,39.39393939393939,40.15151515151515,40.90909090909091,41.666666666666664,42.42424242424242,43.18181818181818,43.93939393939394,44.696969696969695,45.45454545454545,46.21212121212121,46.96969696969697,47.72727272727273,48.484848484848484,49.24242424242424,50.0,50.75757575757576,51.515151515151516,52.27272727272727,53.03030303030303,53.78787878787879,54.54545454545455,55.303030303030305,56.06060606060606,56.81818181818182,57.57575757575758,58.333333333333336,59.09090909090909,59.84848484848485,60.60606060606061,61.36363636363636,62.12121212121212,62.878787878787875,63.63636363636363,64.39393939393939,65.15151515151516,65.9090909090909,66.66666666666667,67.42424242424242,68.18181818181819,68.93939393939394,69.6969696969697,70.45454545454545,71.21212121212122,71.96969696969697,72.72727272727272,73.48484848484848,74.24242424242424,75.0],\"y\":[0.21099455583587837,0.21099455583587837,0.42955782764573097,0.5017925906254149,0.5178595140087637,0.5510556367016333,0.6020448811578808,0.639622892046209,0.6467932545478688,0.666578143672819,0.6931350418271146,0.7187624485460098,0.7187624485460098,0.7438587173018192,0.7656353737883416,0.7862169698579207,0.7862169698579207,0.808524764307529,0.8271145930155358,0.8425175939450272,0.8426503784357987,0.8572566724206613,0.8688089231177799,0.8792988978887266,0.8792988978887266,0.8899216571504448,0.901075554375249,0.9120966671092816,0.9120966671092816,0.9192670296109414,0.928561943964945,0.9340061080865755,0.9340061080865755,0.9391847032266631,0.94250431549595,0.9466206347098659,0.9466206347098659,0.9503386004514673,0.9529942902668969,0.9555171955915549,0.9555171955915549,0.9581728854069845,0.960828575222414,0.963882618510158,0.963882618510158,0.9666710928163591,0.9693267826317886,0.9725136104103042,0.9725136104103042,0.975833222679591,0.9784889124950206,0.9808790333289072,0.9808790333289072,0.9823396627273935,0.9838002921258797,0.9841986455981941,0.9841986455981941,0.984995352542823,0.9857920594874519,0.9863231974505378,0.9868543354136237,0.9876510423582526,0.9879166113397956,0.9880493958305671,0.9881821803213385,0.988580533793653,0.9887133182844244,0.9889788872659674,0.9889788872659674,0.9889788872659674,0.9892444562475103,0.9893772407382818,0.9893772407382818,0.9903067321736821,0.990837870136768,0.990837870136768,0.990837870136768,0.9950869738414554,0.9985393706015138,0.9986721550922852,0.9988049395830567,0.9989377240738282,0.9990705085645997,0.9990705085645997,0.9993360775461426,0.9993360775461426,0.9993360775461426,0.9994688620369141,0.9996016465276856,0.9996016465276856,0.999734431018457,0.999734431018457,0.999734431018457,0.9998672155092285,0.9998672155092285,0.9998672155092285,0.9998672155092285,0.9998672155092285,0.9998672155092285,1.0],\"type\":\"scatter\",\"line\":{\"width\":3}},{\"mode\":\"lines\",\"name\":\"חשמל/בנזין\",\"x\":[0.0,0.768013468013468,1.536026936026936,2.3040404040404043,3.072053872053872,3.84006734006734,4.608080808080809,5.3760942760942765,6.144107744107744,6.912121212121212,7.68013468013468,8.448148148148148,9.216161616161617,9.984175084175085,10.752188552188553,11.52020202020202,12.288215488215489,13.056228956228956,13.824242424242424,14.592255892255892,15.36026936026936,16.128282828282828,16.896296296296295,17.664309764309763,18.432323232323235,19.200336700336702,19.96835016835017,20.736363636363638,21.504377104377106,22.272390572390574,23.04040404040404,23.80841750841751,24.576430976430977,25.344444444444445,26.112457912457913,26.88047138047138,27.64848484848485,28.416498316498316,29.184511784511784,29.952525252525252,30.72053872053872,31.48855218855219,32.256565656565655,33.02457912457913,33.79259259259259,34.56060606060606,35.32861952861953,36.096632996633,36.86464646464647,37.632659932659934,38.400673400673405,39.16868686868687,39.93670033670034,40.704713804713805,41.472727272727276,42.24074074074074,43.00875420875421,43.776767676767676,44.54478114478115,45.31279461279461,46.08080808080808,46.84882154882155,47.61683501683502,48.38484848484848,49.152861952861954,49.920875420875426,50.68888888888889,51.45690235690236,52.224915824915826,52.9929292929293,53.76094276094276,54.52895622895623,55.2969696969697,56.06498316498317,56.83299663299663,57.601010101010104,58.36902356902357,59.13703703703704,59.905050505050504,60.673063973063975,61.44107744107744,62.20909090909091,62.97710437710438,63.745117845117846,64.51313131313131,65.28114478114479,66.04915824915825,66.81717171717172,67.58518518518518,68.35319865319866,69.12121212121212,69.88922558922559,70.65723905723905,71.42525252525253,72.193265993266,72.96127946127946,73.72929292929294,74.4973063973064,75.26531986531987,76.03333333333333],\"y\":[0.0669732441471572,0.0669732441471572,0.16956521739130437,0.23244147157190637,0.27909698996655524,0.27909698996655524,0.32667224080267565,0.36588628762541814,0.4007525083612041,0.4007525083612041,0.4302675585284282,0.4566053511705686,0.4814381270903011,0.4814381270903011,0.5036789297658864,0.5239966555183947,0.5433110367892977,0.5433110367892977,0.5607023411371238,0.5774247491638796,0.591304347826087,0.591304347826087,0.604933110367893,0.6191471571906355,0.6344481605351171,0.6344481605351171,0.6484113712374582,0.6624581939799331,0.6752508361204014,0.676923076923077,0.689046822742475,0.7038461538461539,0.7195652173913044,0.7224916387959867,0.7319397993311038,0.7436454849498328,0.7561872909698997,0.7617892976588629,0.7661371237458194,0.7776755852842809,0.7906354515050168,0.796989966555184,0.8000836120401338,0.8114548494983278,0.82123745819398,0.8311872909698997,0.8326923076923077,0.8461538461538463,0.8607023411371238,0.8756688963210703,0.8756688963210703,0.886371237458194,0.8954849498327759,0.9030100334448161,0.9030100334448161,0.9096153846153847,0.9154682274247492,0.9210702341137125,0.9210702341137125,0.926923076923077,0.9325250836120402,0.9377090301003345,0.9377090301003345,0.9444816053511706,0.9518394648829432,0.9567725752508361,0.9581103678929767,0.9616220735785954,0.9653846153846155,0.9687290969899667,0.9698996655518395,0.971989966555184,0.9750836120401338,0.9770903010033446,0.9790969899665553,0.9804347826086958,0.9827759197324415,0.9858695652173913,0.9875418060200669,0.9880434782608697,0.9903010033444817,0.9925585284280937,0.9938963210702342,0.9938963210702342,0.9950668896321071,0.9956521739130435,0.9965719063545151,0.9965719063545151,0.9975752508361204,0.9980769230769232,0.9984113712374583,0.9984113712374583,0.9989130434782609,0.9993311036789299,0.9994983277591974,0.9994983277591974,0.9996655518394649,0.9999163879598663,0.9999163879598663,1.0],\"type\":\"scatter\",\"line\":{\"width\":3}}],                        {\"template\":{\"data\":{\"histogram2dcontour\":[{\"type\":\"histogram2dcontour\",\"colorbar\":{\"outlinewidth\":0,\"ticks\":\"\"},\"colorscale\":[[0.0,\"#0d0887\"],[0.1111111111111111,\"#46039f\"],[0.2222222222222222,\"#7201a8\"],[0.3333333333333333,\"#9c179e\"],[0.4444444444444444,\"#bd3786\"],[0.5555555555555556,\"#d8576b\"],[0.6666666666666666,\"#ed7953\"],[0.7777777777777778,\"#fb9f3a\"],[0.8888888888888888,\"#fdca26\"],[1.0,\"#f0f921\"]]}],\"choropleth\":[{\"type\":\"choropleth\",\"colorbar\":{\"outlinewidth\":0,\"ticks\":\"\"}}],\"histogram2d\":[{\"type\":\"histogram2d\",\"colorbar\":{\"outlinewidth\":0,\"ticks\":\"\"},\"colorscale\":[[0.0,\"#0d0887\"],[0.1111111111111111,\"#46039f\"],[0.2222222222222222,\"#7201a8\"],[0.3333333333333333,\"#9c179e\"],[0.4444444444444444,\"#bd3786\"],[0.5555555555555556,\"#d8576b\"],[0.6666666666666666,\"#ed7953\"],[0.7777777777777778,\"#fb9f3a\"],[0.8888888888888888,\"#fdca26\"],[1.0,\"#f0f921\"]]}],\"heatmap\":[{\"type\":\"heatmap\",\"colorbar\":{\"outlinewidth\":0,\"ticks\":\"\"},\"colorscale\":[[0.0,\"#0d0887\"],[0.1111111111111111,\"#46039f\"],[0.2222222222222222,\"#7201a8\"],[0.3333333333333333,\"#9c179e\"],[0.4444444444444444,\"#bd3786\"],[0.5555555555555556,\"#d8576b\"],[0.6666666666666666,\"#ed7953\"],[0.7777777777777778,\"#fb9f3a\"],[0.8888888888888888,\"#fdca26\"],[1.0,\"#f0f921\"]]}],\"heatmapgl\":[{\"type\":\"heatmapgl\",\"colorbar\":{\"outlinewidth\":0,\"ticks\":\"\"},\"colorscale\":[[0.0,\"#0d0887\"],[0.1111111111111111,\"#46039f\"],[0.2222222222222222,\"#7201a8\"],[0.3333333333333333,\"#9c179e\"],[0.4444444444444444,\"#bd3786\"],[0.5555555555555556,\"#d8576b\"],[0.6666666666666666,\"#ed7953\"],[0.7777777777777778,\"#fb9f3a\"],[0.8888888888888888,\"#fdca26\"],[1.0,\"#f0f921\"]]}],\"contourcarpet\":[{\"type\":\"contourcarpet\",\"colorbar\":{\"outlinewidth\":0,\"ticks\":\"\"}}],\"contour\":[{\"type\":\"contour\",\"colorbar\":{\"outlinewidth\":0,\"ticks\":\"\"},\"colorscale\":[[0.0,\"#0d0887\"],[0.1111111111111111,\"#46039f\"],[0.2222222222222222,\"#7201a8\"],[0.3333333333333333,\"#9c179e\"],[0.4444444444444444,\"#bd3786\"],[0.5555555555555556,\"#d8576b\"],[0.6666666666666666,\"#ed7953\"],[0.7777777777777778,\"#fb9f3a\"],[0.8888888888888888,\"#fdca26\"],[1.0,\"#f0f921\"]]}],\"surface\":[{\"type\":\"surface\",\"colorbar\":{\"outlinewidth\":0,\"ticks\":\"\"},\"colorscale\":[[0.0,\"#0d0887\"],[0.1111111111111111,\"#46039f\"],[0.2222222222222222,\"#7201a8\"],[0.3333333333333333,\"#9c179e\"],[0.4444444444444444,\"#bd3786\"],[0.5555555555555556,\"#d8576b\"],[0.6666666666666666,\"#ed7953\"],[0.7777777777777778,\"#fb9f3a\"],[0.8888888888888888,\"#fdca26\"],[1.0,\"#f0f921\"]]}],\"mesh3d\":[{\"type\":\"mesh3d\",\"colorbar\":{\"outlinewidth\":0,\"ticks\":\"\"}}],\"scatter\":[{\"fillpattern\":{\"fillmode\":\"overlay\",\"size\":10,\"solidity\":0.2},\"type\":\"scatter\"}],\"parcoords\":[{\"type\":\"parcoords\",\"line\":{\"colorbar\":{\"outlinewidth\":0,\"ticks\":\"\"}}}],\"scatterpolargl\":[{\"type\":\"scatterpolargl\",\"marker\":{\"colorbar\":{\"outlinewidth\":0,\"ticks\":\"\"}}}],\"bar\":[{\"error_x\":{\"color\":\"#2a3f5f\"},\"error_y\":{\"color\":\"#2a3f5f\"},\"marker\":{\"line\":{\"color\":\"#E5ECF6\",\"width\":0.5},\"pattern\":{\"fillmode\":\"overlay\",\"size\":10,\"solidity\":0.2}},\"type\":\"bar\"}],\"scattergeo\":[{\"type\":\"scattergeo\",\"marker\":{\"colorbar\":{\"outlinewidth\":0,\"ticks\":\"\"}}}],\"scatterpolar\":[{\"type\":\"scatterpolar\",\"marker\":{\"colorbar\":{\"outlinewidth\":0,\"ticks\":\"\"}}}],\"histogram\":[{\"marker\":{\"pattern\":{\"fillmode\":\"overlay\",\"size\":10,\"solidity\":0.2}},\"type\":\"histogram\"}],\"scattergl\":[{\"type\":\"scattergl\",\"marker\":{\"colorbar\":{\"outlinewidth\":0,\"ticks\":\"\"}}}],\"scatter3d\":[{\"type\":\"scatter3d\",\"line\":{\"colorbar\":{\"outlinewidth\":0,\"ticks\":\"\"}},\"marker\":{\"colorbar\":{\"outlinewidth\":0,\"ticks\":\"\"}}}],\"scattermapbox\":[{\"type\":\"scattermapbox\",\"marker\":{\"colorbar\":{\"outlinewidth\":0,\"ticks\":\"\"}}}],\"scatterternary\":[{\"type\":\"scatterternary\",\"marker\":{\"colorbar\":{\"outlinewidth\":0,\"ticks\":\"\"}}}],\"scattercarpet\":[{\"type\":\"scattercarpet\",\"marker\":{\"colorbar\":{\"outlinewidth\":0,\"ticks\":\"\"}}}],\"carpet\":[{\"aaxis\":{\"endlinecolor\":\"#2a3f5f\",\"gridcolor\":\"white\",\"linecolor\":\"white\",\"minorgridcolor\":\"white\",\"startlinecolor\":\"#2a3f5f\"},\"baxis\":{\"endlinecolor\":\"#2a3f5f\",\"gridcolor\":\"white\",\"linecolor\":\"white\",\"minorgridcolor\":\"white\",\"startlinecolor\":\"#2a3f5f\"},\"type\":\"carpet\"}],\"table\":[{\"cells\":{\"fill\":{\"color\":\"#EBF0F8\"},\"line\":{\"color\":\"white\"}},\"header\":{\"fill\":{\"color\":\"#C8D4E3\"},\"line\":{\"color\":\"white\"}},\"type\":\"table\"}],\"barpolar\":[{\"marker\":{\"line\":{\"color\":\"#E5ECF6\",\"width\":0.5},\"pattern\":{\"fillmode\":\"overlay\",\"size\":10,\"solidity\":0.2}},\"type\":\"barpolar\"}],\"pie\":[{\"automargin\":true,\"type\":\"pie\"}]},\"layout\":{\"autotypenumbers\":\"strict\",\"colorway\":[\"#636efa\",\"#EF553B\",\"#00cc96\",\"#ab63fa\",\"#FFA15A\",\"#19d3f3\",\"#FF6692\",\"#B6E880\",\"#FF97FF\",\"#FECB52\"],\"font\":{\"color\":\"#2a3f5f\"},\"hovermode\":\"closest\",\"hoverlabel\":{\"align\":\"left\"},\"paper_bgcolor\":\"white\",\"plot_bgcolor\":\"#E5ECF6\",\"polar\":{\"bgcolor\":\"#E5ECF6\",\"angularaxis\":{\"gridcolor\":\"white\",\"linecolor\":\"white\",\"ticks\":\"\"},\"radialaxis\":{\"gridcolor\":\"white\",\"linecolor\":\"white\",\"ticks\":\"\"}},\"ternary\":{\"bgcolor\":\"#E5ECF6\",\"aaxis\":{\"gridcolor\":\"white\",\"linecolor\":\"white\",\"ticks\":\"\"},\"baxis\":{\"gridcolor\":\"white\",\"linecolor\":\"white\",\"ticks\":\"\"},\"caxis\":{\"gridcolor\":\"white\",\"linecolor\":\"white\",\"ticks\":\"\"}},\"coloraxis\":{\"colorbar\":{\"outlinewidth\":0,\"ticks\":\"\"}},\"colorscale\":{\"sequential\":[[0.0,\"#0d0887\"],[0.1111111111111111,\"#46039f\"],[0.2222222222222222,\"#7201a8\"],[0.3333333333333333,\"#9c179e\"],[0.4444444444444444,\"#bd3786\"],[0.5555555555555556,\"#d8576b\"],[0.6666666666666666,\"#ed7953\"],[0.7777777777777778,\"#fb9f3a\"],[0.8888888888888888,\"#fdca26\"],[1.0,\"#f0f921\"]],\"sequentialminus\":[[0.0,\"#0d0887\"],[0.1111111111111111,\"#46039f\"],[0.2222222222222222,\"#7201a8\"],[0.3333333333333333,\"#9c179e\"],[0.4444444444444444,\"#bd3786\"],[0.5555555555555556,\"#d8576b\"],[0.6666666666666666,\"#ed7953\"],[0.7777777777777778,\"#fb9f3a\"],[0.8888888888888888,\"#fdca26\"],[1.0,\"#f0f921\"]],\"diverging\":[[0,\"#8e0152\"],[0.1,\"#c51b7d\"],[0.2,\"#de77ae\"],[0.3,\"#f1b6da\"],[0.4,\"#fde0ef\"],[0.5,\"#f7f7f7\"],[0.6,\"#e6f5d0\"],[0.7,\"#b8e186\"],[0.8,\"#7fbc41\"],[0.9,\"#4d9221\"],[1,\"#276419\"]]},\"xaxis\":{\"gridcolor\":\"white\",\"linecolor\":\"white\",\"ticks\":\"\",\"title\":{\"standoff\":15},\"zerolinecolor\":\"white\",\"automargin\":true,\"zerolinewidth\":2},\"yaxis\":{\"gridcolor\":\"white\",\"linecolor\":\"white\",\"ticks\":\"\",\"title\":{\"standoff\":15},\"zerolinecolor\":\"white\",\"automargin\":true,\"zerolinewidth\":2},\"scene\":{\"xaxis\":{\"backgroundcolor\":\"#E5ECF6\",\"gridcolor\":\"white\",\"linecolor\":\"white\",\"showbackground\":true,\"ticks\":\"\",\"zerolinecolor\":\"white\",\"gridwidth\":2},\"yaxis\":{\"backgroundcolor\":\"#E5ECF6\",\"gridcolor\":\"white\",\"linecolor\":\"white\",\"showbackground\":true,\"ticks\":\"\",\"zerolinecolor\":\"white\",\"gridwidth\":2},\"zaxis\":{\"backgroundcolor\":\"#E5ECF6\",\"gridcolor\":\"white\",\"linecolor\":\"white\",\"showbackground\":true,\"ticks\":\"\",\"zerolinecolor\":\"white\",\"gridwidth\":2}},\"shapedefaults\":{\"line\":{\"color\":\"#2a3f5f\"}},\"annotationdefaults\":{\"arrowcolor\":\"#2a3f5f\",\"arrowhead\":0,\"arrowwidth\":1},\"geo\":{\"bgcolor\":\"white\",\"landcolor\":\"#E5ECF6\",\"subunitcolor\":\"white\",\"showland\":true,\"showlakes\":true,\"lakecolor\":\"white\"},\"title\":{\"x\":0.05},\"mapbox\":{\"style\":\"light\"}}},\"title\":{\"text\":\"התפלגות זמן מכירה לפי סוג דלק\"},\"xaxis\":{\"title\":{\"text\":\"משך זמן מהקניה בחודשים\"}},\"yaxis\":{\"title\":{\"text\":\"הסתברות מכירה עד תום תקופה\"}}},                        {\"responsive\": true}                    ).then(function(){\n",
       "                            \n",
       "var gd = document.getElementById('3fcf1257-e763-44b1-95b5-1e434356a1b0');\n",
       "var x = new MutationObserver(function (mutations, observer) {{\n",
       "        var display = window.getComputedStyle(gd).display;\n",
       "        if (!display || display === 'none') {{\n",
       "            console.log([gd, 'removed!']);\n",
       "            Plotly.purge(gd);\n",
       "            observer.disconnect();\n",
       "        }}\n",
       "}});\n",
       "\n",
       "// Listen for the removal of the full notebook cells\n",
       "var notebookContainer = gd.closest('#notebook-container');\n",
       "if (notebookContainer) {{\n",
       "    x.observe(notebookContainer, {childList: true});\n",
       "}}\n",
       "\n",
       "// Listen for the clearing of the current output cell\n",
       "var outputEl = gd.closest('.output');\n",
       "if (outputEl) {{\n",
       "    x.observe(outputEl, {childList: true});\n",
       "}}\n",
       "\n",
       "                        })                };                });            </script>        </div>"
      ]
     },
     "metadata": {},
     "output_type": "display_data"
    }
   ],
   "source": [
    "plot_deals(traded)"
   ]
  },
  {
   "cell_type": "code",
   "execution_count": 59,
   "id": "a0f8a92a",
   "metadata": {},
   "outputs": [
    {
     "data": {
      "application/vnd.plotly.v1+json": {
       "config": {
        "plotlyServerURL": "https://plot.ly"
       },
       "data": [
        {
         "line": {
          "width": 3
         },
         "mode": "lines",
         "name": "בנזין",
         "type": "scatter",
         "x": [
          0,
          0.8606060606060606,
          1.7212121212121212,
          2.581818181818182,
          3.4424242424242424,
          4.303030303030303,
          5.163636363636364,
          6.024242424242424,
          6.884848484848485,
          7.745454545454545,
          8.606060606060606,
          9.466666666666667,
          10.327272727272728,
          11.187878787878788,
          12.048484848484849,
          12.909090909090908,
          13.76969696969697,
          14.63030303030303,
          15.49090909090909,
          16.35151515151515,
          17.21212121212121,
          18.072727272727274,
          18.933333333333334,
          19.793939393939393,
          20.654545454545456,
          21.515151515151516,
          22.375757575757575,
          23.236363636363635,
          24.096969696969698,
          24.957575757575757,
          25.818181818181817,
          26.67878787878788,
          27.53939393939394,
          28.4,
          29.26060606060606,
          30.12121212121212,
          30.98181818181818,
          31.842424242424244,
          32.7030303030303,
          33.56363636363636,
          34.42424242424242,
          35.28484848484848,
          36.14545454545455,
          37.00606060606061,
          37.86666666666667,
          38.72727272727273,
          39.587878787878786,
          40.448484848484846,
          41.30909090909091,
          42.16969696969697,
          43.03030303030303,
          43.89090909090909,
          44.75151515151515,
          45.61212121212121,
          46.47272727272727,
          47.333333333333336,
          48.193939393939395,
          49.054545454545455,
          49.915151515151514,
          50.775757575757574,
          51.63636363636363,
          52.4969696969697,
          53.35757575757576,
          54.21818181818182,
          55.07878787878788,
          55.93939393939394,
          56.8,
          57.66060606060606,
          58.52121212121212,
          59.38181818181818,
          60.24242424242424,
          61.1030303030303,
          61.96363636363636,
          62.82424242424242,
          63.68484848484849,
          64.54545454545455,
          65.4060606060606,
          66.26666666666667,
          67.12727272727273,
          67.98787878787878,
          68.84848484848484,
          69.7090909090909,
          70.56969696969696,
          71.43030303030302,
          72.2909090909091,
          73.15151515151516,
          74.01212121212122,
          74.87272727272727,
          75.73333333333333,
          76.5939393939394,
          77.45454545454545,
          78.31515151515151,
          79.17575757575757,
          80.03636363636363,
          80.89696969696969,
          81.75757575757575,
          82.61818181818182,
          83.47878787878788,
          84.33939393939394,
          85.2
         ],
         "y": [
          0.028934853067771812,
          0.028934853067771812,
          0.09352199867344682,
          0.13174272394992967,
          0.15307576876578807,
          0.16723978154209454,
          0.17650213330448156,
          0.17650213330448156,
          0.1835723794694728,
          0.18920317431943587,
          0.19411189146725247,
          0.19870778667896,
          0.20330368189066753,
          0.20726452505162737,
          0.2080830365837022,
          0.21331398384615743,
          0.21803688946801453,
          0.22238581999332016,
          0.22675121483105262,
          0.2314811765868069,
          0.23293944425889423,
          0.23660628184080418,
          0.24205126516480774,
          0.24810542804860264,
          0.25435245859225425,
          0.2609499437861333,
          0.2679449245228877,
          0.26835888437818994,
          0.2768568216350473,
          0.2868906440368612,
          0.2964728738692545,
          0.30623150704907776,
          0.3161006863266237,
          0.32142336332974253,
          0.3272681942412539,
          0.33938592818737323,
          0.3539615487743495,
          0.3722745682822077,
          0.3910086037792653,
          0.4099190426237528,
          0.41113034560943823,
          0.43496831795880153,
          0.4653943673235143,
          0.5096128064126144,
          0.5607109760514815,
          0.608426905508959,
          0.6227485052756361,
          0.6481247148145883,
          0.6841227579134541,
          0.7163269530202605,
          0.7445891213231661,
          0.7701629026112399,
          0.7924955663958678,
          0.7924955663958678,
          0.8122433331294894,
          0.8301659132283694,
          0.8484577643345359,
          0.8672670652598303,
          0.8826188605754982,
          0.8955809785446488,
          0.8955809785446488,
          0.9064968176836123,
          0.9158132664725446,
          0.9242806271491807,
          0.932129400087496,
          0.939380753689182,
          0.9433157243591854,
          0.9458159478034255,
          0.9519947690527375,
          0.9577713906699092,
          0.9634915632159036,
          0.969425771823446,
          0.9742168867396427,
          0.9742168867396427,
          0.9782294748825153,
          0.9813741585560327,
          0.9843189184357962,
          0.9870661065664381,
          0.9894087430203075,
          0.990408361989077,
          0.9913656441544634,
          0.9930214835756722,
          0.9944750471584948,
          0.9958227687328595,
          0.9971281535038409,
          0.9983018237754079,
          0.9985088037030591,
          0.9990968148611588,
          0.999717754644112,
          0.9999835356875731,
          0.9999976479553675,
          0.9999976479553675,
          0.9999976479553675,
          0.9999976479553675,
          0.9999976479553675,
          0.9999976479553675,
          0.9999976479553675,
          0.9999976479553675,
          0.9999976479553675,
          1
         ]
        },
        {
         "line": {
          "width": 3
         },
         "mode": "lines",
         "name": "דיזל",
         "type": "scatter",
         "x": [
          0,
          0.7781144781144781,
          1.5562289562289562,
          2.334343434343434,
          3.1124579124579124,
          3.8905723905723906,
          4.668686868686868,
          5.4468013468013465,
          6.224915824915825,
          7.003030303030303,
          7.781144781144781,
          8.559259259259258,
          9.337373737373737,
          10.115488215488215,
          10.893602693602693,
          11.671717171717171,
          12.44983164983165,
          13.227946127946128,
          14.006060606060606,
          14.784175084175084,
          15.562289562289562,
          16.34040404040404,
          17.118518518518517,
          17.896632996632995,
          18.674747474747473,
          19.45286195286195,
          20.23097643097643,
          21.009090909090908,
          21.787205387205386,
          22.565319865319864,
          23.343434343434343,
          24.12154882154882,
          24.8996632996633,
          25.677777777777777,
          26.455892255892255,
          27.234006734006734,
          28.01212121212121,
          28.79023569023569,
          29.568350168350168,
          30.346464646464646,
          31.124579124579125,
          31.902693602693603,
          32.68080808080808,
          33.45892255892256,
          34.237037037037034,
          35.015151515151516,
          35.79326599326599,
          36.57138047138047,
          37.34949494949495,
          38.12760942760943,
          38.9057239057239,
          39.683838383838385,
          40.46195286195286,
          41.24006734006734,
          42.018181818181816,
          42.7962962962963,
          43.57441077441077,
          44.352525252525254,
          45.13063973063973,
          45.90875420875421,
          46.686868686868685,
          47.46498316498317,
          48.24309764309764,
          49.02121212121212,
          49.7993265993266,
          50.57744107744107,
          51.355555555555554,
          52.13367003367003,
          52.91178451178451,
          53.689898989898985,
          54.46801346801347,
          55.24612794612794,
          56.02424242424242,
          56.8023569023569,
          57.58047138047138,
          58.358585858585855,
          59.136700336700336,
          59.91481481481481,
          60.69292929292929,
          61.47104377104377,
          62.24915824915825,
          63.027272727272724,
          63.805387205387206,
          64.58350168350168,
          65.36161616161615,
          66.13973063973064,
          66.91784511784512,
          67.6959595959596,
          68.47407407407407,
          69.25218855218856,
          70.03030303030303,
          70.8084175084175,
          71.58653198653198,
          72.36464646464647,
          73.14276094276094,
          73.92087542087542,
          74.6989898989899,
          75.47710437710437,
          76.25521885521886,
          77.03333333333333
         ],
         "y": [
          0.029347248839733085,
          0.029347248839733085,
          0.09868618531944862,
          0.14283405296820523,
          0.16966450391373616,
          0.16966450391373616,
          0.18751298806252742,
          0.19986607864416173,
          0.20746265210464337,
          0.20746265210464337,
          0.21432034911912073,
          0.22046225957653143,
          0.22665034981181742,
          0.22734304647994644,
          0.23221501304578726,
          0.23835692350319795,
          0.24484518229467317,
          0.2493938904153871,
          0.2500634971945785,
          0.25562816042854836,
          0.261331362996144,
          0.2668960262301138,
          0.2668960262301138,
          0.27250686924195894,
          0.2793876561453739,
          0.2863377127156018,
          0.2863377127156018,
          0.293587937842019,
          0.3012999607471888,
          0.31030501743286615,
          0.3182941190052876,
          0.32090327645524025,
          0.33309473781431115,
          0.3454709182848831,
          0.3575700200882034,
          0.3575700200882034,
          0.3699462005587753,
          0.38204530236209566,
          0.3975155279503106,
          0.3975155279503106,
          0.41552564132166525,
          0.4362372716987232,
          0.4564871042970283,
          0.45771086841072295,
          0.4774527234524002,
          0.4996651966104043,
          0.5256413216652428,
          0.5599759865155048,
          0.5599759865155048,
          0.5991364381537325,
          0.6365651481216376,
          0.6687524533006997,
          0.6687524533006997,
          0.6989771179200628,
          0.7265926250894733,
          0.7529150984783763,
          0.7529150984783763,
          0.7762127964164492,
          0.797501674016948,
          0.8175898773926897,
          0.8307049343092661,
          0.8344454963171628,
          0.8514858343531369,
          0.8688032510563625,
          0.8835807799764483,
          0.8835807799764483,
          0.8973192638943407,
          0.9078944330277772,
          0.9175229167147706,
          0.9175229167147706,
          0.9256736475097556,
          0.9327391535246716,
          0.9389734235378329,
          0.9424830866563533,
          0.9447689856611791,
          0.9508416264517768,
          0.9558059525733682,
          0.9612782562515875,
          0.9621094922533423,
          0.9688748297120692,
          0.973492807499596,
          0.9778337066198712,
          0.9778337066198712,
          0.9808353921817636,
          0.9834214597427787,
          0.9857766284144174,
          0.9868849430834238,
          0.9882703364196819,
          0.9906024152023829,
          0.9932577524302109,
          0.9941582580987786,
          0.9946893255443442,
          0.9958207301022882,
          0.9972523032164216,
          0.9981989886628646,
          0.9981989886628646,
          0.9992842134429334,
          0.999815280888499,
          0.9999538202221248,
          1
         ]
        },
        {
         "line": {
          "width": 3
         },
         "mode": "lines",
         "name": "חשמל",
         "type": "scatter",
         "x": [
          0,
          0.7575757575757576,
          1.5151515151515151,
          2.2727272727272725,
          3.0303030303030303,
          3.787878787878788,
          4.545454545454545,
          5.303030303030303,
          6.0606060606060606,
          6.818181818181818,
          7.575757575757576,
          8.333333333333334,
          9.09090909090909,
          9.848484848484848,
          10.606060606060606,
          11.363636363636363,
          12.121212121212121,
          12.878787878787879,
          13.636363636363637,
          14.393939393939394,
          15.151515151515152,
          15.909090909090908,
          16.666666666666668,
          17.424242424242426,
          18.18181818181818,
          18.939393939393938,
          19.696969696969695,
          20.454545454545453,
          21.21212121212121,
          21.96969696969697,
          22.727272727272727,
          23.484848484848484,
          24.242424242424242,
          25,
          25.757575757575758,
          26.515151515151516,
          27.272727272727273,
          28.03030303030303,
          28.78787878787879,
          29.545454545454547,
          30.303030303030305,
          31.06060606060606,
          31.818181818181817,
          32.57575757575758,
          33.333333333333336,
          34.09090909090909,
          34.84848484848485,
          35.60606060606061,
          36.36363636363636,
          37.12121212121212,
          37.878787878787875,
          38.63636363636363,
          39.39393939393939,
          40.15151515151515,
          40.90909090909091,
          41.666666666666664,
          42.42424242424242,
          43.18181818181818,
          43.93939393939394,
          44.696969696969695,
          45.45454545454545,
          46.21212121212121,
          46.96969696969697,
          47.72727272727273,
          48.484848484848484,
          49.24242424242424,
          50,
          50.75757575757576,
          51.515151515151516,
          52.27272727272727,
          53.03030303030303,
          53.78787878787879,
          54.54545454545455,
          55.303030303030305,
          56.06060606060606,
          56.81818181818182,
          57.57575757575758,
          58.333333333333336,
          59.09090909090909,
          59.84848484848485,
          60.60606060606061,
          61.36363636363636,
          62.12121212121212,
          62.878787878787875,
          63.63636363636363,
          64.39393939393939,
          65.15151515151516,
          65.9090909090909,
          66.66666666666667,
          67.42424242424242,
          68.18181818181819,
          68.93939393939394,
          69.6969696969697,
          70.45454545454545,
          71.21212121212122,
          71.96969696969697,
          72.72727272727272,
          73.48484848484848,
          74.24242424242424,
          75
         ],
         "y": [
          0.012987012987012988,
          0.012987012987012988,
          0.025974025974025976,
          0.033766233766233764,
          0.03896103896103896,
          0.046753246753246755,
          0.05974025974025974,
          0.06233766233766234,
          0.06493506493506493,
          0.08831168831168831,
          0.09610389610389611,
          0.11168831168831168,
          0.11168831168831168,
          0.13506493506493505,
          0.14545454545454545,
          0.14805194805194805,
          0.14805194805194805,
          0.16623376623376623,
          0.17922077922077922,
          0.18961038961038962,
          0.18961038961038962,
          0.2,
          0.21558441558441557,
          0.23376623376623376,
          0.23376623376623376,
          0.24935064935064935,
          0.2597402597402597,
          0.2857142857142857,
          0.2857142857142857,
          0.2987012987012987,
          0.35584415584415585,
          0.36363636363636365,
          0.36363636363636365,
          0.38181818181818183,
          0.4,
          0.4181818181818182,
          0.4181818181818182,
          0.42337662337662335,
          0.43116883116883115,
          0.44155844155844154,
          0.44155844155844154,
          0.4623376623376623,
          0.4883116883116883,
          0.5142857142857142,
          0.5142857142857142,
          0.5272727272727272,
          0.548051948051948,
          0.5688311688311688,
          0.5688311688311688,
          0.6077922077922078,
          0.6207792207792208,
          0.6467532467532467,
          0.6467532467532467,
          0.6545454545454545,
          0.6831168831168831,
          0.6909090909090909,
          0.6909090909090909,
          0.7064935064935065,
          0.7220779220779221,
          0.7324675324675325,
          0.7428571428571429,
          0.7584415584415585,
          0.7636363636363637,
          0.7662337662337663,
          0.7688311688311689,
          0.7766233766233767,
          0.7792207792207793,
          0.7844155844155845,
          0.7844155844155845,
          0.7844155844155845,
          0.7896103896103897,
          0.7922077922077922,
          0.7922077922077922,
          0.8103896103896104,
          0.8207792207792208,
          0.8207792207792208,
          0.8207792207792208,
          0.9038961038961039,
          0.9714285714285714,
          0.974025974025974,
          0.9766233766233766,
          0.9792207792207792,
          0.9818181818181818,
          0.9818181818181818,
          0.987012987012987,
          0.987012987012987,
          0.987012987012987,
          0.9896103896103896,
          0.9922077922077922,
          0.9922077922077922,
          0.9948051948051948,
          0.9948051948051948,
          0.9948051948051948,
          0.9974025974025974,
          0.9974025974025974,
          0.9974025974025974,
          0.9974025974025974,
          0.9974025974025974,
          0.9974025974025974,
          1
         ]
        },
        {
         "line": {
          "width": 3
         },
         "mode": "lines",
         "name": "חשמל/בנזין",
         "type": "scatter",
         "x": [
          0,
          0.768013468013468,
          1.536026936026936,
          2.3040404040404043,
          3.072053872053872,
          3.84006734006734,
          4.608080808080809,
          5.3760942760942765,
          6.144107744107744,
          6.912121212121212,
          7.68013468013468,
          8.448148148148148,
          9.216161616161617,
          9.984175084175085,
          10.752188552188553,
          11.52020202020202,
          12.288215488215489,
          13.056228956228956,
          13.824242424242424,
          14.592255892255892,
          15.36026936026936,
          16.128282828282828,
          16.896296296296295,
          17.664309764309763,
          18.432323232323235,
          19.200336700336702,
          19.96835016835017,
          20.736363636363638,
          21.504377104377106,
          22.272390572390574,
          23.04040404040404,
          23.80841750841751,
          24.576430976430977,
          25.344444444444445,
          26.112457912457913,
          26.88047138047138,
          27.64848484848485,
          28.416498316498316,
          29.184511784511784,
          29.952525252525252,
          30.72053872053872,
          31.48855218855219,
          32.256565656565655,
          33.02457912457913,
          33.79259259259259,
          34.56060606060606,
          35.32861952861953,
          36.096632996633,
          36.86464646464647,
          37.632659932659934,
          38.400673400673405,
          39.16868686868687,
          39.93670033670034,
          40.704713804713805,
          41.472727272727276,
          42.24074074074074,
          43.00875420875421,
          43.776767676767676,
          44.54478114478115,
          45.31279461279461,
          46.08080808080808,
          46.84882154882155,
          47.61683501683502,
          48.38484848484848,
          49.152861952861954,
          49.920875420875426,
          50.68888888888889,
          51.45690235690236,
          52.224915824915826,
          52.9929292929293,
          53.76094276094276,
          54.52895622895623,
          55.2969696969697,
          56.06498316498317,
          56.83299663299663,
          57.601010101010104,
          58.36902356902357,
          59.13703703703704,
          59.905050505050504,
          60.673063973063975,
          61.44107744107744,
          62.20909090909091,
          62.97710437710438,
          63.745117845117846,
          64.51313131313131,
          65.28114478114479,
          66.04915824915825,
          66.81717171717172,
          67.58518518518518,
          68.35319865319866,
          69.12121212121212,
          69.88922558922559,
          70.65723905723905,
          71.42525252525253,
          72.193265993266,
          72.96127946127946,
          73.72929292929294,
          74.4973063973064,
          75.26531986531987,
          76.03333333333333
         ],
         "y": [
          0.012321909896033887,
          0.012321909896033887,
          0.044281863688871784,
          0.0731613400077012,
          0.10608394301116675,
          0.10608394301116675,
          0.14208702348864075,
          0.1690412013862149,
          0.19233731228340395,
          0.19233731228340395,
          0.21332306507508667,
          0.23180592991913748,
          0.24836349634193303,
          0.24836349634193303,
          0.26241817481709667,
          0.2783981517135156,
          0.29052753176742396,
          0.29052753176742396,
          0.30400462071621104,
          0.3174817096649981,
          0.3282633808240278,
          0.3282633808240278,
          0.33788987293030426,
          0.35290720061609554,
          0.3669618790912592,
          0.3669618790912592,
          0.38120908740854836,
          0.39603388525221417,
          0.4102810935695033,
          0.41162880246438205,
          0.42606854062379673,
          0.44358875625721994,
          0.46149403157489416,
          0.4643819792067771,
          0.4786291875240663,
          0.49518675394686185,
          0.5134770889487871,
          0.5215633423180593,
          0.5302271852137082,
          0.548710050057759,
          0.5696958028494417,
          0.578167115902965,
          0.5845206006931074,
          0.6047362341162881,
          0.6205236811705814,
          0.6376588371197536,
          0.6411243742780132,
          0.6667308432807085,
          0.6929149018097805,
          0.7212167886022334,
          0.7212167886022334,
          0.7410473623411629,
          0.7593376973430882,
          0.7766653831343858,
          0.7766653831343858,
          0.7918752406623027,
          0.8053523296110897,
          0.8182518290335002,
          0.8182518290335002,
          0.8317289179822873,
          0.8446284174046977,
          0.8565652676164806,
          0.8565652676164806,
          0.8721601848286484,
          0.8891028109356951,
          0.9004620716211014,
          0.9035425490951098,
          0.911628802464382,
          0.9202926453600309,
          0.9279938390450521,
          0.9306892568348094,
          0.9355025028879477,
          0.9426261070465923,
          0.947246823257605,
          0.9518675394686177,
          0.9549480169426262,
          0.960338852522141,
          0.9674624566807856,
          0.9713130535232962,
          0.9724682325760493,
          0.9776665383134386,
          0.982864844050828,
          0.9859453215248364,
          0.9859453215248364,
          0.9886407393145938,
          0.9899884482094725,
          0.9921062764728533,
          0.9921062764728533,
          0.9944166345783597,
          0.9955718136311129,
          0.996341932999615,
          0.996341932999615,
          0.9974971120523681,
          0.9984597612629958,
          0.9988448209472469,
          0.9988448209472469,
          0.999229880631498,
          0.9998074701578745,
          0.9998074701578745,
          1
         ]
        }
       ],
       "layout": {
        "template": {
         "data": {
          "bar": [
           {
            "error_x": {
             "color": "#2a3f5f"
            },
            "error_y": {
             "color": "#2a3f5f"
            },
            "marker": {
             "line": {
              "color": "#E5ECF6",
              "width": 0.5
             },
             "pattern": {
              "fillmode": "overlay",
              "size": 10,
              "solidity": 0.2
             }
            },
            "type": "bar"
           }
          ],
          "barpolar": [
           {
            "marker": {
             "line": {
              "color": "#E5ECF6",
              "width": 0.5
             },
             "pattern": {
              "fillmode": "overlay",
              "size": 10,
              "solidity": 0.2
             }
            },
            "type": "barpolar"
           }
          ],
          "carpet": [
           {
            "aaxis": {
             "endlinecolor": "#2a3f5f",
             "gridcolor": "white",
             "linecolor": "white",
             "minorgridcolor": "white",
             "startlinecolor": "#2a3f5f"
            },
            "baxis": {
             "endlinecolor": "#2a3f5f",
             "gridcolor": "white",
             "linecolor": "white",
             "minorgridcolor": "white",
             "startlinecolor": "#2a3f5f"
            },
            "type": "carpet"
           }
          ],
          "choropleth": [
           {
            "colorbar": {
             "outlinewidth": 0,
             "ticks": ""
            },
            "type": "choropleth"
           }
          ],
          "contour": [
           {
            "colorbar": {
             "outlinewidth": 0,
             "ticks": ""
            },
            "colorscale": [
             [
              0,
              "#0d0887"
             ],
             [
              0.1111111111111111,
              "#46039f"
             ],
             [
              0.2222222222222222,
              "#7201a8"
             ],
             [
              0.3333333333333333,
              "#9c179e"
             ],
             [
              0.4444444444444444,
              "#bd3786"
             ],
             [
              0.5555555555555556,
              "#d8576b"
             ],
             [
              0.6666666666666666,
              "#ed7953"
             ],
             [
              0.7777777777777778,
              "#fb9f3a"
             ],
             [
              0.8888888888888888,
              "#fdca26"
             ],
             [
              1,
              "#f0f921"
             ]
            ],
            "type": "contour"
           }
          ],
          "contourcarpet": [
           {
            "colorbar": {
             "outlinewidth": 0,
             "ticks": ""
            },
            "type": "contourcarpet"
           }
          ],
          "heatmap": [
           {
            "colorbar": {
             "outlinewidth": 0,
             "ticks": ""
            },
            "colorscale": [
             [
              0,
              "#0d0887"
             ],
             [
              0.1111111111111111,
              "#46039f"
             ],
             [
              0.2222222222222222,
              "#7201a8"
             ],
             [
              0.3333333333333333,
              "#9c179e"
             ],
             [
              0.4444444444444444,
              "#bd3786"
             ],
             [
              0.5555555555555556,
              "#d8576b"
             ],
             [
              0.6666666666666666,
              "#ed7953"
             ],
             [
              0.7777777777777778,
              "#fb9f3a"
             ],
             [
              0.8888888888888888,
              "#fdca26"
             ],
             [
              1,
              "#f0f921"
             ]
            ],
            "type": "heatmap"
           }
          ],
          "heatmapgl": [
           {
            "colorbar": {
             "outlinewidth": 0,
             "ticks": ""
            },
            "colorscale": [
             [
              0,
              "#0d0887"
             ],
             [
              0.1111111111111111,
              "#46039f"
             ],
             [
              0.2222222222222222,
              "#7201a8"
             ],
             [
              0.3333333333333333,
              "#9c179e"
             ],
             [
              0.4444444444444444,
              "#bd3786"
             ],
             [
              0.5555555555555556,
              "#d8576b"
             ],
             [
              0.6666666666666666,
              "#ed7953"
             ],
             [
              0.7777777777777778,
              "#fb9f3a"
             ],
             [
              0.8888888888888888,
              "#fdca26"
             ],
             [
              1,
              "#f0f921"
             ]
            ],
            "type": "heatmapgl"
           }
          ],
          "histogram": [
           {
            "marker": {
             "pattern": {
              "fillmode": "overlay",
              "size": 10,
              "solidity": 0.2
             }
            },
            "type": "histogram"
           }
          ],
          "histogram2d": [
           {
            "colorbar": {
             "outlinewidth": 0,
             "ticks": ""
            },
            "colorscale": [
             [
              0,
              "#0d0887"
             ],
             [
              0.1111111111111111,
              "#46039f"
             ],
             [
              0.2222222222222222,
              "#7201a8"
             ],
             [
              0.3333333333333333,
              "#9c179e"
             ],
             [
              0.4444444444444444,
              "#bd3786"
             ],
             [
              0.5555555555555556,
              "#d8576b"
             ],
             [
              0.6666666666666666,
              "#ed7953"
             ],
             [
              0.7777777777777778,
              "#fb9f3a"
             ],
             [
              0.8888888888888888,
              "#fdca26"
             ],
             [
              1,
              "#f0f921"
             ]
            ],
            "type": "histogram2d"
           }
          ],
          "histogram2dcontour": [
           {
            "colorbar": {
             "outlinewidth": 0,
             "ticks": ""
            },
            "colorscale": [
             [
              0,
              "#0d0887"
             ],
             [
              0.1111111111111111,
              "#46039f"
             ],
             [
              0.2222222222222222,
              "#7201a8"
             ],
             [
              0.3333333333333333,
              "#9c179e"
             ],
             [
              0.4444444444444444,
              "#bd3786"
             ],
             [
              0.5555555555555556,
              "#d8576b"
             ],
             [
              0.6666666666666666,
              "#ed7953"
             ],
             [
              0.7777777777777778,
              "#fb9f3a"
             ],
             [
              0.8888888888888888,
              "#fdca26"
             ],
             [
              1,
              "#f0f921"
             ]
            ],
            "type": "histogram2dcontour"
           }
          ],
          "mesh3d": [
           {
            "colorbar": {
             "outlinewidth": 0,
             "ticks": ""
            },
            "type": "mesh3d"
           }
          ],
          "parcoords": [
           {
            "line": {
             "colorbar": {
              "outlinewidth": 0,
              "ticks": ""
             }
            },
            "type": "parcoords"
           }
          ],
          "pie": [
           {
            "automargin": true,
            "type": "pie"
           }
          ],
          "scatter": [
           {
            "fillpattern": {
             "fillmode": "overlay",
             "size": 10,
             "solidity": 0.2
            },
            "type": "scatter"
           }
          ],
          "scatter3d": [
           {
            "line": {
             "colorbar": {
              "outlinewidth": 0,
              "ticks": ""
             }
            },
            "marker": {
             "colorbar": {
              "outlinewidth": 0,
              "ticks": ""
             }
            },
            "type": "scatter3d"
           }
          ],
          "scattercarpet": [
           {
            "marker": {
             "colorbar": {
              "outlinewidth": 0,
              "ticks": ""
             }
            },
            "type": "scattercarpet"
           }
          ],
          "scattergeo": [
           {
            "marker": {
             "colorbar": {
              "outlinewidth": 0,
              "ticks": ""
             }
            },
            "type": "scattergeo"
           }
          ],
          "scattergl": [
           {
            "marker": {
             "colorbar": {
              "outlinewidth": 0,
              "ticks": ""
             }
            },
            "type": "scattergl"
           }
          ],
          "scattermapbox": [
           {
            "marker": {
             "colorbar": {
              "outlinewidth": 0,
              "ticks": ""
             }
            },
            "type": "scattermapbox"
           }
          ],
          "scatterpolar": [
           {
            "marker": {
             "colorbar": {
              "outlinewidth": 0,
              "ticks": ""
             }
            },
            "type": "scatterpolar"
           }
          ],
          "scatterpolargl": [
           {
            "marker": {
             "colorbar": {
              "outlinewidth": 0,
              "ticks": ""
             }
            },
            "type": "scatterpolargl"
           }
          ],
          "scatterternary": [
           {
            "marker": {
             "colorbar": {
              "outlinewidth": 0,
              "ticks": ""
             }
            },
            "type": "scatterternary"
           }
          ],
          "surface": [
           {
            "colorbar": {
             "outlinewidth": 0,
             "ticks": ""
            },
            "colorscale": [
             [
              0,
              "#0d0887"
             ],
             [
              0.1111111111111111,
              "#46039f"
             ],
             [
              0.2222222222222222,
              "#7201a8"
             ],
             [
              0.3333333333333333,
              "#9c179e"
             ],
             [
              0.4444444444444444,
              "#bd3786"
             ],
             [
              0.5555555555555556,
              "#d8576b"
             ],
             [
              0.6666666666666666,
              "#ed7953"
             ],
             [
              0.7777777777777778,
              "#fb9f3a"
             ],
             [
              0.8888888888888888,
              "#fdca26"
             ],
             [
              1,
              "#f0f921"
             ]
            ],
            "type": "surface"
           }
          ],
          "table": [
           {
            "cells": {
             "fill": {
              "color": "#EBF0F8"
             },
             "line": {
              "color": "white"
             }
            },
            "header": {
             "fill": {
              "color": "#C8D4E3"
             },
             "line": {
              "color": "white"
             }
            },
            "type": "table"
           }
          ]
         },
         "layout": {
          "annotationdefaults": {
           "arrowcolor": "#2a3f5f",
           "arrowhead": 0,
           "arrowwidth": 1
          },
          "autotypenumbers": "strict",
          "coloraxis": {
           "colorbar": {
            "outlinewidth": 0,
            "ticks": ""
           }
          },
          "colorscale": {
           "diverging": [
            [
             0,
             "#8e0152"
            ],
            [
             0.1,
             "#c51b7d"
            ],
            [
             0.2,
             "#de77ae"
            ],
            [
             0.3,
             "#f1b6da"
            ],
            [
             0.4,
             "#fde0ef"
            ],
            [
             0.5,
             "#f7f7f7"
            ],
            [
             0.6,
             "#e6f5d0"
            ],
            [
             0.7,
             "#b8e186"
            ],
            [
             0.8,
             "#7fbc41"
            ],
            [
             0.9,
             "#4d9221"
            ],
            [
             1,
             "#276419"
            ]
           ],
           "sequential": [
            [
             0,
             "#0d0887"
            ],
            [
             0.1111111111111111,
             "#46039f"
            ],
            [
             0.2222222222222222,
             "#7201a8"
            ],
            [
             0.3333333333333333,
             "#9c179e"
            ],
            [
             0.4444444444444444,
             "#bd3786"
            ],
            [
             0.5555555555555556,
             "#d8576b"
            ],
            [
             0.6666666666666666,
             "#ed7953"
            ],
            [
             0.7777777777777778,
             "#fb9f3a"
            ],
            [
             0.8888888888888888,
             "#fdca26"
            ],
            [
             1,
             "#f0f921"
            ]
           ],
           "sequentialminus": [
            [
             0,
             "#0d0887"
            ],
            [
             0.1111111111111111,
             "#46039f"
            ],
            [
             0.2222222222222222,
             "#7201a8"
            ],
            [
             0.3333333333333333,
             "#9c179e"
            ],
            [
             0.4444444444444444,
             "#bd3786"
            ],
            [
             0.5555555555555556,
             "#d8576b"
            ],
            [
             0.6666666666666666,
             "#ed7953"
            ],
            [
             0.7777777777777778,
             "#fb9f3a"
            ],
            [
             0.8888888888888888,
             "#fdca26"
            ],
            [
             1,
             "#f0f921"
            ]
           ]
          },
          "colorway": [
           "#636efa",
           "#EF553B",
           "#00cc96",
           "#ab63fa",
           "#FFA15A",
           "#19d3f3",
           "#FF6692",
           "#B6E880",
           "#FF97FF",
           "#FECB52"
          ],
          "font": {
           "color": "#2a3f5f"
          },
          "geo": {
           "bgcolor": "white",
           "lakecolor": "white",
           "landcolor": "#E5ECF6",
           "showlakes": true,
           "showland": true,
           "subunitcolor": "white"
          },
          "hoverlabel": {
           "align": "left"
          },
          "hovermode": "closest",
          "mapbox": {
           "style": "light"
          },
          "paper_bgcolor": "white",
          "plot_bgcolor": "#E5ECF6",
          "polar": {
           "angularaxis": {
            "gridcolor": "white",
            "linecolor": "white",
            "ticks": ""
           },
           "bgcolor": "#E5ECF6",
           "radialaxis": {
            "gridcolor": "white",
            "linecolor": "white",
            "ticks": ""
           }
          },
          "scene": {
           "xaxis": {
            "backgroundcolor": "#E5ECF6",
            "gridcolor": "white",
            "gridwidth": 2,
            "linecolor": "white",
            "showbackground": true,
            "ticks": "",
            "zerolinecolor": "white"
           },
           "yaxis": {
            "backgroundcolor": "#E5ECF6",
            "gridcolor": "white",
            "gridwidth": 2,
            "linecolor": "white",
            "showbackground": true,
            "ticks": "",
            "zerolinecolor": "white"
           },
           "zaxis": {
            "backgroundcolor": "#E5ECF6",
            "gridcolor": "white",
            "gridwidth": 2,
            "linecolor": "white",
            "showbackground": true,
            "ticks": "",
            "zerolinecolor": "white"
           }
          },
          "shapedefaults": {
           "line": {
            "color": "#2a3f5f"
           }
          },
          "ternary": {
           "aaxis": {
            "gridcolor": "white",
            "linecolor": "white",
            "ticks": ""
           },
           "baxis": {
            "gridcolor": "white",
            "linecolor": "white",
            "ticks": ""
           },
           "bgcolor": "#E5ECF6",
           "caxis": {
            "gridcolor": "white",
            "linecolor": "white",
            "ticks": ""
           }
          },
          "title": {
           "x": 0.05
          },
          "xaxis": {
           "automargin": true,
           "gridcolor": "white",
           "linecolor": "white",
           "ticks": "",
           "title": {
            "standoff": 15
           },
           "zerolinecolor": "white",
           "zerolinewidth": 2
          },
          "yaxis": {
           "automargin": true,
           "gridcolor": "white",
           "linecolor": "white",
           "ticks": "",
           "title": {
            "standoff": 15
           },
           "zerolinecolor": "white",
           "zerolinewidth": 2
          }
         }
        },
        "title": {
         "text": "התפלגות זמן מכירה לפי סוג דלק, שנה < 2020"
        },
        "xaxis": {
         "title": {
          "text": "משך זמן מהקניה בחודשים"
         }
        },
        "yaxis": {
         "title": {
          "text": "הסתברות מכירה עד תום תקופה"
         }
        }
       }
      },
      "text/html": [
       "<div>                            <div id=\"20c96dc5-4115-4450-b704-9e1aef53b19c\" class=\"plotly-graph-div\" style=\"height:525px; width:100%;\"></div>            <script type=\"text/javascript\">                require([\"plotly\"], function(Plotly) {                    window.PLOTLYENV=window.PLOTLYENV || {};                                    if (document.getElementById(\"20c96dc5-4115-4450-b704-9e1aef53b19c\")) {                    Plotly.newPlot(                        \"20c96dc5-4115-4450-b704-9e1aef53b19c\",                        [{\"mode\":\"lines\",\"name\":\"בנזין\",\"x\":[0.0,0.8606060606060606,1.7212121212121212,2.581818181818182,3.4424242424242424,4.303030303030303,5.163636363636364,6.024242424242424,6.884848484848485,7.745454545454545,8.606060606060606,9.466666666666667,10.327272727272728,11.187878787878788,12.048484848484849,12.909090909090908,13.76969696969697,14.63030303030303,15.49090909090909,16.35151515151515,17.21212121212121,18.072727272727274,18.933333333333334,19.793939393939393,20.654545454545456,21.515151515151516,22.375757575757575,23.236363636363635,24.096969696969698,24.957575757575757,25.818181818181817,26.67878787878788,27.53939393939394,28.4,29.26060606060606,30.12121212121212,30.98181818181818,31.842424242424244,32.7030303030303,33.56363636363636,34.42424242424242,35.28484848484848,36.14545454545455,37.00606060606061,37.86666666666667,38.72727272727273,39.587878787878786,40.448484848484846,41.30909090909091,42.16969696969697,43.03030303030303,43.89090909090909,44.75151515151515,45.61212121212121,46.47272727272727,47.333333333333336,48.193939393939395,49.054545454545455,49.915151515151514,50.775757575757574,51.63636363636363,52.4969696969697,53.35757575757576,54.21818181818182,55.07878787878788,55.93939393939394,56.8,57.66060606060606,58.52121212121212,59.38181818181818,60.24242424242424,61.1030303030303,61.96363636363636,62.82424242424242,63.68484848484849,64.54545454545455,65.4060606060606,66.26666666666667,67.12727272727273,67.98787878787878,68.84848484848484,69.7090909090909,70.56969696969696,71.43030303030302,72.2909090909091,73.15151515151516,74.01212121212122,74.87272727272727,75.73333333333333,76.5939393939394,77.45454545454545,78.31515151515151,79.17575757575757,80.03636363636363,80.89696969696969,81.75757575757575,82.61818181818182,83.47878787878788,84.33939393939394,85.2],\"y\":[0.028934853067771812,0.028934853067771812,0.09352199867344682,0.13174272394992967,0.15307576876578807,0.16723978154209454,0.17650213330448156,0.17650213330448156,0.1835723794694728,0.18920317431943587,0.19411189146725247,0.19870778667896,0.20330368189066753,0.20726452505162737,0.2080830365837022,0.21331398384615743,0.21803688946801453,0.22238581999332016,0.22675121483105262,0.2314811765868069,0.23293944425889423,0.23660628184080418,0.24205126516480774,0.24810542804860264,0.25435245859225425,0.2609499437861333,0.2679449245228877,0.26835888437818994,0.2768568216350473,0.2868906440368612,0.2964728738692545,0.30623150704907776,0.3161006863266237,0.32142336332974253,0.3272681942412539,0.33938592818737323,0.3539615487743495,0.3722745682822077,0.3910086037792653,0.4099190426237528,0.41113034560943823,0.43496831795880153,0.4653943673235143,0.5096128064126144,0.5607109760514815,0.608426905508959,0.6227485052756361,0.6481247148145883,0.6841227579134541,0.7163269530202605,0.7445891213231661,0.7701629026112399,0.7924955663958678,0.7924955663958678,0.8122433331294894,0.8301659132283694,0.8484577643345359,0.8672670652598303,0.8826188605754982,0.8955809785446488,0.8955809785446488,0.9064968176836123,0.9158132664725446,0.9242806271491807,0.932129400087496,0.939380753689182,0.9433157243591854,0.9458159478034255,0.9519947690527375,0.9577713906699092,0.9634915632159036,0.969425771823446,0.9742168867396427,0.9742168867396427,0.9782294748825153,0.9813741585560327,0.9843189184357962,0.9870661065664381,0.9894087430203075,0.990408361989077,0.9913656441544634,0.9930214835756722,0.9944750471584948,0.9958227687328595,0.9971281535038409,0.9983018237754079,0.9985088037030591,0.9990968148611588,0.999717754644112,0.9999835356875731,0.9999976479553675,0.9999976479553675,0.9999976479553675,0.9999976479553675,0.9999976479553675,0.9999976479553675,0.9999976479553675,0.9999976479553675,0.9999976479553675,1.0],\"type\":\"scatter\",\"line\":{\"width\":3}},{\"mode\":\"lines\",\"name\":\"דיזל\",\"x\":[0.0,0.7781144781144781,1.5562289562289562,2.334343434343434,3.1124579124579124,3.8905723905723906,4.668686868686868,5.4468013468013465,6.224915824915825,7.003030303030303,7.781144781144781,8.559259259259258,9.337373737373737,10.115488215488215,10.893602693602693,11.671717171717171,12.44983164983165,13.227946127946128,14.006060606060606,14.784175084175084,15.562289562289562,16.34040404040404,17.118518518518517,17.896632996632995,18.674747474747473,19.45286195286195,20.23097643097643,21.009090909090908,21.787205387205386,22.565319865319864,23.343434343434343,24.12154882154882,24.8996632996633,25.677777777777777,26.455892255892255,27.234006734006734,28.01212121212121,28.79023569023569,29.568350168350168,30.346464646464646,31.124579124579125,31.902693602693603,32.68080808080808,33.45892255892256,34.237037037037034,35.015151515151516,35.79326599326599,36.57138047138047,37.34949494949495,38.12760942760943,38.9057239057239,39.683838383838385,40.46195286195286,41.24006734006734,42.018181818181816,42.7962962962963,43.57441077441077,44.352525252525254,45.13063973063973,45.90875420875421,46.686868686868685,47.46498316498317,48.24309764309764,49.02121212121212,49.7993265993266,50.57744107744107,51.355555555555554,52.13367003367003,52.91178451178451,53.689898989898985,54.46801346801347,55.24612794612794,56.02424242424242,56.8023569023569,57.58047138047138,58.358585858585855,59.136700336700336,59.91481481481481,60.69292929292929,61.47104377104377,62.24915824915825,63.027272727272724,63.805387205387206,64.58350168350168,65.36161616161615,66.13973063973064,66.91784511784512,67.6959595959596,68.47407407407407,69.25218855218856,70.03030303030303,70.8084175084175,71.58653198653198,72.36464646464647,73.14276094276094,73.92087542087542,74.6989898989899,75.47710437710437,76.25521885521886,77.03333333333333],\"y\":[0.029347248839733085,0.029347248839733085,0.09868618531944862,0.14283405296820523,0.16966450391373616,0.16966450391373616,0.18751298806252742,0.19986607864416173,0.20746265210464337,0.20746265210464337,0.21432034911912073,0.22046225957653143,0.22665034981181742,0.22734304647994644,0.23221501304578726,0.23835692350319795,0.24484518229467317,0.2493938904153871,0.2500634971945785,0.25562816042854836,0.261331362996144,0.2668960262301138,0.2668960262301138,0.27250686924195894,0.2793876561453739,0.2863377127156018,0.2863377127156018,0.293587937842019,0.3012999607471888,0.31030501743286615,0.3182941190052876,0.32090327645524025,0.33309473781431115,0.3454709182848831,0.3575700200882034,0.3575700200882034,0.3699462005587753,0.38204530236209566,0.3975155279503106,0.3975155279503106,0.41552564132166525,0.4362372716987232,0.4564871042970283,0.45771086841072295,0.4774527234524002,0.4996651966104043,0.5256413216652428,0.5599759865155048,0.5599759865155048,0.5991364381537325,0.6365651481216376,0.6687524533006997,0.6687524533006997,0.6989771179200628,0.7265926250894733,0.7529150984783763,0.7529150984783763,0.7762127964164492,0.797501674016948,0.8175898773926897,0.8307049343092661,0.8344454963171628,0.8514858343531369,0.8688032510563625,0.8835807799764483,0.8835807799764483,0.8973192638943407,0.9078944330277772,0.9175229167147706,0.9175229167147706,0.9256736475097556,0.9327391535246716,0.9389734235378329,0.9424830866563533,0.9447689856611791,0.9508416264517768,0.9558059525733682,0.9612782562515875,0.9621094922533423,0.9688748297120692,0.973492807499596,0.9778337066198712,0.9778337066198712,0.9808353921817636,0.9834214597427787,0.9857766284144174,0.9868849430834238,0.9882703364196819,0.9906024152023829,0.9932577524302109,0.9941582580987786,0.9946893255443442,0.9958207301022882,0.9972523032164216,0.9981989886628646,0.9981989886628646,0.9992842134429334,0.999815280888499,0.9999538202221248,1.0],\"type\":\"scatter\",\"line\":{\"width\":3}},{\"mode\":\"lines\",\"name\":\"חשמל\",\"x\":[0.0,0.7575757575757576,1.5151515151515151,2.2727272727272725,3.0303030303030303,3.787878787878788,4.545454545454545,5.303030303030303,6.0606060606060606,6.818181818181818,7.575757575757576,8.333333333333334,9.09090909090909,9.848484848484848,10.606060606060606,11.363636363636363,12.121212121212121,12.878787878787879,13.636363636363637,14.393939393939394,15.151515151515152,15.909090909090908,16.666666666666668,17.424242424242426,18.18181818181818,18.939393939393938,19.696969696969695,20.454545454545453,21.21212121212121,21.96969696969697,22.727272727272727,23.484848484848484,24.242424242424242,25.0,25.757575757575758,26.515151515151516,27.272727272727273,28.03030303030303,28.78787878787879,29.545454545454547,30.303030303030305,31.06060606060606,31.818181818181817,32.57575757575758,33.333333333333336,34.09090909090909,34.84848484848485,35.60606060606061,36.36363636363636,37.12121212121212,37.878787878787875,38.63636363636363,39.39393939393939,40.15151515151515,40.90909090909091,41.666666666666664,42.42424242424242,43.18181818181818,43.93939393939394,44.696969696969695,45.45454545454545,46.21212121212121,46.96969696969697,47.72727272727273,48.484848484848484,49.24242424242424,50.0,50.75757575757576,51.515151515151516,52.27272727272727,53.03030303030303,53.78787878787879,54.54545454545455,55.303030303030305,56.06060606060606,56.81818181818182,57.57575757575758,58.333333333333336,59.09090909090909,59.84848484848485,60.60606060606061,61.36363636363636,62.12121212121212,62.878787878787875,63.63636363636363,64.39393939393939,65.15151515151516,65.9090909090909,66.66666666666667,67.42424242424242,68.18181818181819,68.93939393939394,69.6969696969697,70.45454545454545,71.21212121212122,71.96969696969697,72.72727272727272,73.48484848484848,74.24242424242424,75.0],\"y\":[0.012987012987012988,0.012987012987012988,0.025974025974025976,0.033766233766233764,0.03896103896103896,0.046753246753246755,0.05974025974025974,0.06233766233766234,0.06493506493506493,0.08831168831168831,0.09610389610389611,0.11168831168831168,0.11168831168831168,0.13506493506493505,0.14545454545454545,0.14805194805194805,0.14805194805194805,0.16623376623376623,0.17922077922077922,0.18961038961038962,0.18961038961038962,0.2,0.21558441558441557,0.23376623376623376,0.23376623376623376,0.24935064935064935,0.2597402597402597,0.2857142857142857,0.2857142857142857,0.2987012987012987,0.35584415584415585,0.36363636363636365,0.36363636363636365,0.38181818181818183,0.4,0.4181818181818182,0.4181818181818182,0.42337662337662335,0.43116883116883115,0.44155844155844154,0.44155844155844154,0.4623376623376623,0.4883116883116883,0.5142857142857142,0.5142857142857142,0.5272727272727272,0.548051948051948,0.5688311688311688,0.5688311688311688,0.6077922077922078,0.6207792207792208,0.6467532467532467,0.6467532467532467,0.6545454545454545,0.6831168831168831,0.6909090909090909,0.6909090909090909,0.7064935064935065,0.7220779220779221,0.7324675324675325,0.7428571428571429,0.7584415584415585,0.7636363636363637,0.7662337662337663,0.7688311688311689,0.7766233766233767,0.7792207792207793,0.7844155844155845,0.7844155844155845,0.7844155844155845,0.7896103896103897,0.7922077922077922,0.7922077922077922,0.8103896103896104,0.8207792207792208,0.8207792207792208,0.8207792207792208,0.9038961038961039,0.9714285714285714,0.974025974025974,0.9766233766233766,0.9792207792207792,0.9818181818181818,0.9818181818181818,0.987012987012987,0.987012987012987,0.987012987012987,0.9896103896103896,0.9922077922077922,0.9922077922077922,0.9948051948051948,0.9948051948051948,0.9948051948051948,0.9974025974025974,0.9974025974025974,0.9974025974025974,0.9974025974025974,0.9974025974025974,0.9974025974025974,1.0],\"type\":\"scatter\",\"line\":{\"width\":3}},{\"mode\":\"lines\",\"name\":\"חשמל/בנזין\",\"x\":[0.0,0.768013468013468,1.536026936026936,2.3040404040404043,3.072053872053872,3.84006734006734,4.608080808080809,5.3760942760942765,6.144107744107744,6.912121212121212,7.68013468013468,8.448148148148148,9.216161616161617,9.984175084175085,10.752188552188553,11.52020202020202,12.288215488215489,13.056228956228956,13.824242424242424,14.592255892255892,15.36026936026936,16.128282828282828,16.896296296296295,17.664309764309763,18.432323232323235,19.200336700336702,19.96835016835017,20.736363636363638,21.504377104377106,22.272390572390574,23.04040404040404,23.80841750841751,24.576430976430977,25.344444444444445,26.112457912457913,26.88047138047138,27.64848484848485,28.416498316498316,29.184511784511784,29.952525252525252,30.72053872053872,31.48855218855219,32.256565656565655,33.02457912457913,33.79259259259259,34.56060606060606,35.32861952861953,36.096632996633,36.86464646464647,37.632659932659934,38.400673400673405,39.16868686868687,39.93670033670034,40.704713804713805,41.472727272727276,42.24074074074074,43.00875420875421,43.776767676767676,44.54478114478115,45.31279461279461,46.08080808080808,46.84882154882155,47.61683501683502,48.38484848484848,49.152861952861954,49.920875420875426,50.68888888888889,51.45690235690236,52.224915824915826,52.9929292929293,53.76094276094276,54.52895622895623,55.2969696969697,56.06498316498317,56.83299663299663,57.601010101010104,58.36902356902357,59.13703703703704,59.905050505050504,60.673063973063975,61.44107744107744,62.20909090909091,62.97710437710438,63.745117845117846,64.51313131313131,65.28114478114479,66.04915824915825,66.81717171717172,67.58518518518518,68.35319865319866,69.12121212121212,69.88922558922559,70.65723905723905,71.42525252525253,72.193265993266,72.96127946127946,73.72929292929294,74.4973063973064,75.26531986531987,76.03333333333333],\"y\":[0.012321909896033887,0.012321909896033887,0.044281863688871784,0.0731613400077012,0.10608394301116675,0.10608394301116675,0.14208702348864075,0.1690412013862149,0.19233731228340395,0.19233731228340395,0.21332306507508667,0.23180592991913748,0.24836349634193303,0.24836349634193303,0.26241817481709667,0.2783981517135156,0.29052753176742396,0.29052753176742396,0.30400462071621104,0.3174817096649981,0.3282633808240278,0.3282633808240278,0.33788987293030426,0.35290720061609554,0.3669618790912592,0.3669618790912592,0.38120908740854836,0.39603388525221417,0.4102810935695033,0.41162880246438205,0.42606854062379673,0.44358875625721994,0.46149403157489416,0.4643819792067771,0.4786291875240663,0.49518675394686185,0.5134770889487871,0.5215633423180593,0.5302271852137082,0.548710050057759,0.5696958028494417,0.578167115902965,0.5845206006931074,0.6047362341162881,0.6205236811705814,0.6376588371197536,0.6411243742780132,0.6667308432807085,0.6929149018097805,0.7212167886022334,0.7212167886022334,0.7410473623411629,0.7593376973430882,0.7766653831343858,0.7766653831343858,0.7918752406623027,0.8053523296110897,0.8182518290335002,0.8182518290335002,0.8317289179822873,0.8446284174046977,0.8565652676164806,0.8565652676164806,0.8721601848286484,0.8891028109356951,0.9004620716211014,0.9035425490951098,0.911628802464382,0.9202926453600309,0.9279938390450521,0.9306892568348094,0.9355025028879477,0.9426261070465923,0.947246823257605,0.9518675394686177,0.9549480169426262,0.960338852522141,0.9674624566807856,0.9713130535232962,0.9724682325760493,0.9776665383134386,0.982864844050828,0.9859453215248364,0.9859453215248364,0.9886407393145938,0.9899884482094725,0.9921062764728533,0.9921062764728533,0.9944166345783597,0.9955718136311129,0.996341932999615,0.996341932999615,0.9974971120523681,0.9984597612629958,0.9988448209472469,0.9988448209472469,0.999229880631498,0.9998074701578745,0.9998074701578745,1.0],\"type\":\"scatter\",\"line\":{\"width\":3}}],                        {\"template\":{\"data\":{\"histogram2dcontour\":[{\"type\":\"histogram2dcontour\",\"colorbar\":{\"outlinewidth\":0,\"ticks\":\"\"},\"colorscale\":[[0.0,\"#0d0887\"],[0.1111111111111111,\"#46039f\"],[0.2222222222222222,\"#7201a8\"],[0.3333333333333333,\"#9c179e\"],[0.4444444444444444,\"#bd3786\"],[0.5555555555555556,\"#d8576b\"],[0.6666666666666666,\"#ed7953\"],[0.7777777777777778,\"#fb9f3a\"],[0.8888888888888888,\"#fdca26\"],[1.0,\"#f0f921\"]]}],\"choropleth\":[{\"type\":\"choropleth\",\"colorbar\":{\"outlinewidth\":0,\"ticks\":\"\"}}],\"histogram2d\":[{\"type\":\"histogram2d\",\"colorbar\":{\"outlinewidth\":0,\"ticks\":\"\"},\"colorscale\":[[0.0,\"#0d0887\"],[0.1111111111111111,\"#46039f\"],[0.2222222222222222,\"#7201a8\"],[0.3333333333333333,\"#9c179e\"],[0.4444444444444444,\"#bd3786\"],[0.5555555555555556,\"#d8576b\"],[0.6666666666666666,\"#ed7953\"],[0.7777777777777778,\"#fb9f3a\"],[0.8888888888888888,\"#fdca26\"],[1.0,\"#f0f921\"]]}],\"heatmap\":[{\"type\":\"heatmap\",\"colorbar\":{\"outlinewidth\":0,\"ticks\":\"\"},\"colorscale\":[[0.0,\"#0d0887\"],[0.1111111111111111,\"#46039f\"],[0.2222222222222222,\"#7201a8\"],[0.3333333333333333,\"#9c179e\"],[0.4444444444444444,\"#bd3786\"],[0.5555555555555556,\"#d8576b\"],[0.6666666666666666,\"#ed7953\"],[0.7777777777777778,\"#fb9f3a\"],[0.8888888888888888,\"#fdca26\"],[1.0,\"#f0f921\"]]}],\"heatmapgl\":[{\"type\":\"heatmapgl\",\"colorbar\":{\"outlinewidth\":0,\"ticks\":\"\"},\"colorscale\":[[0.0,\"#0d0887\"],[0.1111111111111111,\"#46039f\"],[0.2222222222222222,\"#7201a8\"],[0.3333333333333333,\"#9c179e\"],[0.4444444444444444,\"#bd3786\"],[0.5555555555555556,\"#d8576b\"],[0.6666666666666666,\"#ed7953\"],[0.7777777777777778,\"#fb9f3a\"],[0.8888888888888888,\"#fdca26\"],[1.0,\"#f0f921\"]]}],\"contourcarpet\":[{\"type\":\"contourcarpet\",\"colorbar\":{\"outlinewidth\":0,\"ticks\":\"\"}}],\"contour\":[{\"type\":\"contour\",\"colorbar\":{\"outlinewidth\":0,\"ticks\":\"\"},\"colorscale\":[[0.0,\"#0d0887\"],[0.1111111111111111,\"#46039f\"],[0.2222222222222222,\"#7201a8\"],[0.3333333333333333,\"#9c179e\"],[0.4444444444444444,\"#bd3786\"],[0.5555555555555556,\"#d8576b\"],[0.6666666666666666,\"#ed7953\"],[0.7777777777777778,\"#fb9f3a\"],[0.8888888888888888,\"#fdca26\"],[1.0,\"#f0f921\"]]}],\"surface\":[{\"type\":\"surface\",\"colorbar\":{\"outlinewidth\":0,\"ticks\":\"\"},\"colorscale\":[[0.0,\"#0d0887\"],[0.1111111111111111,\"#46039f\"],[0.2222222222222222,\"#7201a8\"],[0.3333333333333333,\"#9c179e\"],[0.4444444444444444,\"#bd3786\"],[0.5555555555555556,\"#d8576b\"],[0.6666666666666666,\"#ed7953\"],[0.7777777777777778,\"#fb9f3a\"],[0.8888888888888888,\"#fdca26\"],[1.0,\"#f0f921\"]]}],\"mesh3d\":[{\"type\":\"mesh3d\",\"colorbar\":{\"outlinewidth\":0,\"ticks\":\"\"}}],\"scatter\":[{\"fillpattern\":{\"fillmode\":\"overlay\",\"size\":10,\"solidity\":0.2},\"type\":\"scatter\"}],\"parcoords\":[{\"type\":\"parcoords\",\"line\":{\"colorbar\":{\"outlinewidth\":0,\"ticks\":\"\"}}}],\"scatterpolargl\":[{\"type\":\"scatterpolargl\",\"marker\":{\"colorbar\":{\"outlinewidth\":0,\"ticks\":\"\"}}}],\"bar\":[{\"error_x\":{\"color\":\"#2a3f5f\"},\"error_y\":{\"color\":\"#2a3f5f\"},\"marker\":{\"line\":{\"color\":\"#E5ECF6\",\"width\":0.5},\"pattern\":{\"fillmode\":\"overlay\",\"size\":10,\"solidity\":0.2}},\"type\":\"bar\"}],\"scattergeo\":[{\"type\":\"scattergeo\",\"marker\":{\"colorbar\":{\"outlinewidth\":0,\"ticks\":\"\"}}}],\"scatterpolar\":[{\"type\":\"scatterpolar\",\"marker\":{\"colorbar\":{\"outlinewidth\":0,\"ticks\":\"\"}}}],\"histogram\":[{\"marker\":{\"pattern\":{\"fillmode\":\"overlay\",\"size\":10,\"solidity\":0.2}},\"type\":\"histogram\"}],\"scattergl\":[{\"type\":\"scattergl\",\"marker\":{\"colorbar\":{\"outlinewidth\":0,\"ticks\":\"\"}}}],\"scatter3d\":[{\"type\":\"scatter3d\",\"line\":{\"colorbar\":{\"outlinewidth\":0,\"ticks\":\"\"}},\"marker\":{\"colorbar\":{\"outlinewidth\":0,\"ticks\":\"\"}}}],\"scattermapbox\":[{\"type\":\"scattermapbox\",\"marker\":{\"colorbar\":{\"outlinewidth\":0,\"ticks\":\"\"}}}],\"scatterternary\":[{\"type\":\"scatterternary\",\"marker\":{\"colorbar\":{\"outlinewidth\":0,\"ticks\":\"\"}}}],\"scattercarpet\":[{\"type\":\"scattercarpet\",\"marker\":{\"colorbar\":{\"outlinewidth\":0,\"ticks\":\"\"}}}],\"carpet\":[{\"aaxis\":{\"endlinecolor\":\"#2a3f5f\",\"gridcolor\":\"white\",\"linecolor\":\"white\",\"minorgridcolor\":\"white\",\"startlinecolor\":\"#2a3f5f\"},\"baxis\":{\"endlinecolor\":\"#2a3f5f\",\"gridcolor\":\"white\",\"linecolor\":\"white\",\"minorgridcolor\":\"white\",\"startlinecolor\":\"#2a3f5f\"},\"type\":\"carpet\"}],\"table\":[{\"cells\":{\"fill\":{\"color\":\"#EBF0F8\"},\"line\":{\"color\":\"white\"}},\"header\":{\"fill\":{\"color\":\"#C8D4E3\"},\"line\":{\"color\":\"white\"}},\"type\":\"table\"}],\"barpolar\":[{\"marker\":{\"line\":{\"color\":\"#E5ECF6\",\"width\":0.5},\"pattern\":{\"fillmode\":\"overlay\",\"size\":10,\"solidity\":0.2}},\"type\":\"barpolar\"}],\"pie\":[{\"automargin\":true,\"type\":\"pie\"}]},\"layout\":{\"autotypenumbers\":\"strict\",\"colorway\":[\"#636efa\",\"#EF553B\",\"#00cc96\",\"#ab63fa\",\"#FFA15A\",\"#19d3f3\",\"#FF6692\",\"#B6E880\",\"#FF97FF\",\"#FECB52\"],\"font\":{\"color\":\"#2a3f5f\"},\"hovermode\":\"closest\",\"hoverlabel\":{\"align\":\"left\"},\"paper_bgcolor\":\"white\",\"plot_bgcolor\":\"#E5ECF6\",\"polar\":{\"bgcolor\":\"#E5ECF6\",\"angularaxis\":{\"gridcolor\":\"white\",\"linecolor\":\"white\",\"ticks\":\"\"},\"radialaxis\":{\"gridcolor\":\"white\",\"linecolor\":\"white\",\"ticks\":\"\"}},\"ternary\":{\"bgcolor\":\"#E5ECF6\",\"aaxis\":{\"gridcolor\":\"white\",\"linecolor\":\"white\",\"ticks\":\"\"},\"baxis\":{\"gridcolor\":\"white\",\"linecolor\":\"white\",\"ticks\":\"\"},\"caxis\":{\"gridcolor\":\"white\",\"linecolor\":\"white\",\"ticks\":\"\"}},\"coloraxis\":{\"colorbar\":{\"outlinewidth\":0,\"ticks\":\"\"}},\"colorscale\":{\"sequential\":[[0.0,\"#0d0887\"],[0.1111111111111111,\"#46039f\"],[0.2222222222222222,\"#7201a8\"],[0.3333333333333333,\"#9c179e\"],[0.4444444444444444,\"#bd3786\"],[0.5555555555555556,\"#d8576b\"],[0.6666666666666666,\"#ed7953\"],[0.7777777777777778,\"#fb9f3a\"],[0.8888888888888888,\"#fdca26\"],[1.0,\"#f0f921\"]],\"sequentialminus\":[[0.0,\"#0d0887\"],[0.1111111111111111,\"#46039f\"],[0.2222222222222222,\"#7201a8\"],[0.3333333333333333,\"#9c179e\"],[0.4444444444444444,\"#bd3786\"],[0.5555555555555556,\"#d8576b\"],[0.6666666666666666,\"#ed7953\"],[0.7777777777777778,\"#fb9f3a\"],[0.8888888888888888,\"#fdca26\"],[1.0,\"#f0f921\"]],\"diverging\":[[0,\"#8e0152\"],[0.1,\"#c51b7d\"],[0.2,\"#de77ae\"],[0.3,\"#f1b6da\"],[0.4,\"#fde0ef\"],[0.5,\"#f7f7f7\"],[0.6,\"#e6f5d0\"],[0.7,\"#b8e186\"],[0.8,\"#7fbc41\"],[0.9,\"#4d9221\"],[1,\"#276419\"]]},\"xaxis\":{\"gridcolor\":\"white\",\"linecolor\":\"white\",\"ticks\":\"\",\"title\":{\"standoff\":15},\"zerolinecolor\":\"white\",\"automargin\":true,\"zerolinewidth\":2},\"yaxis\":{\"gridcolor\":\"white\",\"linecolor\":\"white\",\"ticks\":\"\",\"title\":{\"standoff\":15},\"zerolinecolor\":\"white\",\"automargin\":true,\"zerolinewidth\":2},\"scene\":{\"xaxis\":{\"backgroundcolor\":\"#E5ECF6\",\"gridcolor\":\"white\",\"linecolor\":\"white\",\"showbackground\":true,\"ticks\":\"\",\"zerolinecolor\":\"white\",\"gridwidth\":2},\"yaxis\":{\"backgroundcolor\":\"#E5ECF6\",\"gridcolor\":\"white\",\"linecolor\":\"white\",\"showbackground\":true,\"ticks\":\"\",\"zerolinecolor\":\"white\",\"gridwidth\":2},\"zaxis\":{\"backgroundcolor\":\"#E5ECF6\",\"gridcolor\":\"white\",\"linecolor\":\"white\",\"showbackground\":true,\"ticks\":\"\",\"zerolinecolor\":\"white\",\"gridwidth\":2}},\"shapedefaults\":{\"line\":{\"color\":\"#2a3f5f\"}},\"annotationdefaults\":{\"arrowcolor\":\"#2a3f5f\",\"arrowhead\":0,\"arrowwidth\":1},\"geo\":{\"bgcolor\":\"white\",\"landcolor\":\"#E5ECF6\",\"subunitcolor\":\"white\",\"showland\":true,\"showlakes\":true,\"lakecolor\":\"white\"},\"title\":{\"x\":0.05},\"mapbox\":{\"style\":\"light\"}}},\"title\":{\"text\":\"התפלגות זמן מכירה לפי סוג דלק, שנה < 2020\"},\"xaxis\":{\"title\":{\"text\":\"משך זמן מהקניה בחודשים\"}},\"yaxis\":{\"title\":{\"text\":\"הסתברות מכירה עד תום תקופה\"}}},                        {\"responsive\": true}                    ).then(function(){\n",
       "                            \n",
       "var gd = document.getElementById('20c96dc5-4115-4450-b704-9e1aef53b19c');\n",
       "var x = new MutationObserver(function (mutations, observer) {{\n",
       "        var display = window.getComputedStyle(gd).display;\n",
       "        if (!display || display === 'none') {{\n",
       "            console.log([gd, 'removed!']);\n",
       "            Plotly.purge(gd);\n",
       "            observer.disconnect();\n",
       "        }}\n",
       "}});\n",
       "\n",
       "// Listen for the removal of the full notebook cells\n",
       "var notebookContainer = gd.closest('#notebook-container');\n",
       "if (notebookContainer) {{\n",
       "    x.observe(notebookContainer, {childList: true});\n",
       "}}\n",
       "\n",
       "// Listen for the clearing of the current output cell\n",
       "var outputEl = gd.closest('.output');\n",
       "if (outputEl) {{\n",
       "    x.observe(outputEl, {childList: true});\n",
       "}}\n",
       "\n",
       "                        })                };                });            </script>        </div>"
      ]
     },
     "metadata": {},
     "output_type": "display_data"
    }
   ],
   "source": [
    "plot_deals(traded.query(\"year < 2020\"), title='התפלגות זמן מכירה לפי סוג דלק, שנה < 2020')"
   ]
  },
  {
   "cell_type": "code",
   "execution_count": 60,
   "id": "f3ca53d3",
   "metadata": {
    "scrolled": false
   },
   "outputs": [
    {
     "data": {
      "application/vnd.plotly.v1+json": {
       "config": {
        "plotlyServerURL": "https://plot.ly"
       },
       "data": [
        {
         "line": {
          "width": 3
         },
         "mode": "lines",
         "name": "בנזין",
         "type": "scatter",
         "x": [
          0,
          0.4094276094276094,
          0.8188552188552188,
          1.2282828282828282,
          1.6377104377104377,
          2.047138047138047,
          2.4565656565656564,
          2.865993265993266,
          3.2754208754208753,
          3.6848484848484846,
          4.094276094276094,
          4.503703703703704,
          4.913131313131313,
          5.3225589225589225,
          5.731986531986532,
          6.141414141414141,
          6.550841750841751,
          6.96026936026936,
          7.369696969696969,
          7.779124579124579,
          8.188552188552189,
          8.597979797979798,
          9.007407407407408,
          9.416835016835016,
          9.826262626262626,
          10.235690235690235,
          10.645117845117845,
          11.054545454545455,
          11.463973063973064,
          11.873400673400672,
          12.282828282828282,
          12.692255892255892,
          13.101683501683501,
          13.511111111111111,
          13.92053872053872,
          14.32996632996633,
          14.739393939393938,
          15.148821548821548,
          15.558249158249158,
          15.967676767676767,
          16.377104377104377,
          16.786531986531987,
          17.195959595959597,
          17.605387205387206,
          18.014814814814816,
          18.424242424242422,
          18.833670033670032,
          19.24309764309764,
          19.65252525252525,
          20.06195286195286,
          20.47138047138047,
          20.88080808080808,
          21.29023569023569,
          21.6996632996633,
          22.10909090909091,
          22.51851851851852,
          22.92794612794613,
          23.33737373737374,
          23.746801346801345,
          24.156228956228954,
          24.565656565656564,
          24.975084175084174,
          25.384511784511783,
          25.793939393939393,
          26.203367003367003,
          26.612794612794612,
          27.022222222222222,
          27.431649831649832,
          27.84107744107744,
          28.25050505050505,
          28.65993265993266,
          29.069360269360267,
          29.478787878787877,
          29.888215488215486,
          30.297643097643096,
          30.707070707070706,
          31.116498316498316,
          31.525925925925925,
          31.935353535353535,
          32.344781144781145,
          32.754208754208754,
          33.163636363636364,
          33.573063973063974,
          33.98249158249158,
          34.39191919191919,
          34.8013468013468,
          35.21077441077441,
          35.62020202020202,
          36.02962962962963,
          36.43905723905724,
          36.848484848484844,
          37.257912457912454,
          37.667340067340064,
          38.07676767676767,
          38.48619528619528,
          38.89562289562289,
          39.3050505050505,
          39.71447811447811,
          40.12390572390572,
          40.53333333333333
         ],
         "y": [
          0.15041329284750335,
          0.15041329284750335,
          0.15041329284750335,
          0.3619770580296896,
          0.3619770580296896,
          0.4450489203778677,
          0.4521002024291498,
          0.4521002024291498,
          0.4990890688259109,
          0.4990890688259109,
          0.5245360998650472,
          0.5311740890688259,
          0.5311740890688259,
          0.5570259784075573,
          0.5570259784075573,
          0.5777243589743589,
          0.5777243589743589,
          0.5777243589743589,
          0.5950404858299595,
          0.5950404858299595,
          0.6107962213225371,
          0.6107962213225371,
          0.6107962213225371,
          0.6259278002699055,
          0.6259278002699055,
          0.6407051282051281,
          0.6407051282051281,
          0.6407051282051281,
          0.656359649122807,
          0.656359649122807,
          0.6727395411605938,
          0.6727395411605938,
          0.6738613360323886,
          0.6869770580296896,
          0.6869770580296896,
          0.7005651147098515,
          0.7005651147098515,
          0.7011892712550607,
          0.7126265182186234,
          0.7126265182186234,
          0.7255229419703103,
          0.7255229419703103,
          0.7261977058029689,
          0.738520580296896,
          0.738520580296896,
          0.7505145074224021,
          0.7505145074224021,
          0.755381241565452,
          0.7632506747638326,
          0.7632506747638326,
          0.7755904183535762,
          0.7755904183535762,
          0.7813427800269905,
          0.7877530364372469,
          0.7877530364372469,
          0.7998228744939271,
          0.7998228744939271,
          0.8108468286099865,
          0.812609649122807,
          0.812609649122807,
          0.8264507422402159,
          0.8264507422402159,
          0.8372553981106612,
          0.839136302294197,
          0.839136302294197,
          0.851745951417004,
          0.851745951417004,
          0.8623650472334682,
          0.8623650472334682,
          0.8623650472334682,
          0.8718454790823211,
          0.8718454790823211,
          0.8816632928475033,
          0.8816632928475033,
          0.8816632928475033,
          0.8925944669365722,
          0.8925944669365722,
          0.9042341430499324,
          0.9042341430499324,
          0.9042341430499324,
          0.9147773279352226,
          0.9147773279352226,
          0.9249156545209176,
          0.9249156545209176,
          0.9249156545209176,
          0.9362516869095816,
          0.9362516869095816,
          0.9476383265856949,
          0.9476383265856949,
          0.9476383265856949,
          0.9650387989203778,
          0.9650387989203778,
          0.9818235492577597,
          0.9818235492577597,
          0.9818235492577597,
          0.9939271255060729,
          0.9939271255060729,
          0.9996035762483131,
          0.9996035762483131,
          0.9999915654520917
         ]
        },
        {
         "line": {
          "width": 3
         },
         "mode": "lines",
         "name": "דיזל",
         "type": "scatter",
         "x": [
          0,
          0.4094276094276094,
          0.8188552188552188,
          1.2282828282828282,
          1.6377104377104377,
          2.047138047138047,
          2.4565656565656564,
          2.865993265993266,
          3.2754208754208753,
          3.6848484848484846,
          4.094276094276094,
          4.503703703703704,
          4.913131313131313,
          5.3225589225589225,
          5.731986531986532,
          6.141414141414141,
          6.550841750841751,
          6.96026936026936,
          7.369696969696969,
          7.779124579124579,
          8.188552188552189,
          8.597979797979798,
          9.007407407407408,
          9.416835016835016,
          9.826262626262626,
          10.235690235690235,
          10.645117845117845,
          11.054545454545455,
          11.463973063973064,
          11.873400673400672,
          12.282828282828282,
          12.692255892255892,
          13.101683501683501,
          13.511111111111111,
          13.92053872053872,
          14.32996632996633,
          14.739393939393938,
          15.148821548821548,
          15.558249158249158,
          15.967676767676767,
          16.377104377104377,
          16.786531986531987,
          17.195959595959597,
          17.605387205387206,
          18.014814814814816,
          18.424242424242422,
          18.833670033670032,
          19.24309764309764,
          19.65252525252525,
          20.06195286195286,
          20.47138047138047,
          20.88080808080808,
          21.29023569023569,
          21.6996632996633,
          22.10909090909091,
          22.51851851851852,
          22.92794612794613,
          23.33737373737374,
          23.746801346801345,
          24.156228956228954,
          24.565656565656564,
          24.975084175084174,
          25.384511784511783,
          25.793939393939393,
          26.203367003367003,
          26.612794612794612,
          27.022222222222222,
          27.431649831649832,
          27.84107744107744,
          28.25050505050505,
          28.65993265993266,
          29.069360269360267,
          29.478787878787877,
          29.888215488215486,
          30.297643097643096,
          30.707070707070706,
          31.116498316498316,
          31.525925925925925,
          31.935353535353535,
          32.344781144781145,
          32.754208754208754,
          33.163636363636364,
          33.573063973063974,
          33.98249158249158,
          34.39191919191919,
          34.8013468013468,
          35.21077441077441,
          35.62020202020202,
          36.02962962962963,
          36.43905723905724,
          36.848484848484844,
          37.257912457912454,
          37.667340067340064,
          38.07676767676767,
          38.48619528619528,
          38.89562289562289,
          39.3050505050505,
          39.71447811447811,
          40.12390572390572,
          40.53333333333333
         ],
         "y": [
          0.13956195881539693,
          0.13956195881539693,
          0.13956195881539693,
          0.357636615004002,
          0.357636615004002,
          0.4607436513133959,
          0.4689660190642509,
          0.4689660190642509,
          0.5273230008004075,
          0.5273230008004075,
          0.5625409299279633,
          0.5726551699046787,
          0.5726551699046787,
          0.6059084624899949,
          0.6059084624899949,
          0.6287564578330787,
          0.6287564578330787,
          0.6287564578330787,
          0.6476024157753038,
          0.6476024157753038,
          0.663828858327876,
          0.663828858327876,
          0.663828858327876,
          0.6789638361347595,
          0.6789638361347595,
          0.691770355817507,
          0.691770355817507,
          0.691770355817507,
          0.7082878556355963,
          0.7082878556355963,
          0.7210943753183439,
          0.7210943753183439,
          0.7218220184821363,
          0.7338281306847122,
          0.7338281306847122,
          0.745543185621771,
          0.745543185621771,
          0.7460525358364258,
          0.7563123044458997,
          0.7563123044458997,
          0.7683184166484756,
          0.7683184166484756,
          0.7688277668631303,
          0.7812704649639817,
          0.7812704649639817,
          0.7924034053700065,
          0.7924034053700065,
          0.7972058502510369,
          0.8034635814596521,
          0.8034635814596521,
          0.8145237575492977,
          0.8145237575492977,
          0.8193262024303282,
          0.8250745834242886,
          0.8250745834242886,
          0.8371534599432437,
          0.8371534599432437,
          0.8465400567561667,
          0.8479953430837517,
          0.8479953430837517,
          0.8609473913992578,
          0.8609473913992578,
          0.8699701666302845,
          0.8718620388561449,
          0.8718620388561449,
          0.8812486356690679,
          0.8812486356690679,
          0.890125882267336,
          0.890125882267336,
          0.890125882267336,
          0.899803536345776,
          0.899803536345776,
          0.9091901331586989,
          0.9091901331586989,
          0.9091901331586989,
          0.9177763224914501,
          0.9177763224914501,
          0.9282543840500618,
          0.9282543840500618,
          0.9282543840500618,
          0.9379320381285018,
          0.9379320381285018,
          0.9473186349414247,
          0.9473186349414247,
          0.9473186349414247,
          0.9559775885905551,
          0.9559775885905551,
          0.9648548351888233,
          0.9648548351888233,
          0.9648548351888233,
          0.975332896747435,
          0.975332896747435,
          0.9862475442043221,
          0.9862475442043221,
          0.9862475442043221,
          0.9954158480681073,
          0.9954158480681073,
          0.999708942734483,
          0.999708942734483,
          1
         ]
        },
        {
         "line": {
          "width": 3
         },
         "mode": "lines",
         "name": "חשמל",
         "type": "scatter",
         "x": [
          0,
          0.3993265993265993,
          0.7986531986531986,
          1.197979797979798,
          1.5973063973063972,
          1.9966329966329965,
          2.395959595959596,
          2.795286195286195,
          3.1946127946127945,
          3.5939393939393938,
          3.993265993265993,
          4.392592592592592,
          4.791919191919192,
          5.191245791245791,
          5.59057239057239,
          5.98989898989899,
          6.389225589225589,
          6.788552188552188,
          7.1878787878787875,
          7.587205387205387,
          7.986531986531986,
          8.385858585858585,
          8.785185185185185,
          9.184511784511784,
          9.583838383838383,
          9.983164983164983,
          10.382491582491582,
          10.781818181818181,
          11.18114478114478,
          11.58047138047138,
          11.97979797979798,
          12.379124579124579,
          12.778451178451178,
          13.177777777777777,
          13.577104377104376,
          13.976430976430976,
          14.375757575757575,
          14.775084175084174,
          15.174410774410774,
          15.573737373737373,
          15.973063973063972,
          16.37239057239057,
          16.77171717171717,
          17.17104377104377,
          17.57037037037037,
          17.96969696969697,
          18.369023569023568,
          18.768350168350167,
          19.167676767676767,
          19.567003367003366,
          19.966329966329965,
          20.365656565656565,
          20.764983164983164,
          21.164309764309763,
          21.563636363636363,
          21.962962962962962,
          22.36228956228956,
          22.76161616161616,
          23.16094276094276,
          23.56026936026936,
          23.95959595959596,
          24.358922558922558,
          24.758249158249157,
          25.157575757575756,
          25.556902356902356,
          25.956228956228955,
          26.355555555555554,
          26.754882154882154,
          27.154208754208753,
          27.553535353535352,
          27.95286195286195,
          28.35218855218855,
          28.75151515151515,
          29.15084175084175,
          29.55016835016835,
          29.949494949494948,
          30.348821548821547,
          30.748148148148147,
          31.147474747474746,
          31.546801346801345,
          31.946127946127945,
          32.345454545454544,
          32.74478114478114,
          33.14410774410774,
          33.54343434343434,
          33.94276094276094,
          34.34208754208754,
          34.74141414141414,
          35.14074074074074,
          35.54006734006734,
          35.93939393939394,
          36.33872053872054,
          36.738047138047136,
          37.137373737373736,
          37.536700336700335,
          37.936026936026934,
          38.33535353535353,
          38.73468013468013,
          39.13400673400673,
          39.53333333333333
         ],
         "y": [
          0.22166246851385393,
          0.22166246851385393,
          0.22166246851385393,
          0.4513014273719564,
          0.4513014273719564,
          0.48460677301987126,
          0.5270081164287713,
          0.5270081164287713,
          0.5782255807444724,
          0.5782255807444724,
          0.5782255807444724,
          0.6312622446123706,
          0.6312622446123706,
          0.670724881052337,
          0.670724881052337,
          0.670724881052337,
          0.6977329974811083,
          0.6977329974811083,
          0.725300867618248,
          0.725300867618248,
          0.725300867618248,
          0.7514693534844669,
          0.7514693534844669,
          0.7731598096837391,
          0.7766582703610412,
          0.7766582703610412,
          0.7990484186957738,
          0.7990484186957738,
          0.8183599216344808,
          0.8205989364679541,
          0.8205989364679541,
          0.8431290232297789,
          0.8431290232297789,
          0.8508256367198432,
          0.8620207108872097,
          0.8620207108872097,
          0.8776938147215225,
          0.8776938147215225,
          0.8802127064091799,
          0.892667226420375,
          0.892667226420375,
          0.9040022390148335,
          0.9040022390148335,
          0.9041421774419255,
          0.9140778057654632,
          0.9140778057654632,
          0.924433249370277,
          0.924433249370277,
          0.924433249370277,
          0.9356283235376435,
          0.9356283235376435,
          0.9458438287153652,
          0.9458438287153652,
          0.9458438287153652,
          0.9527008116428771,
          0.9527008116428771,
          0.9587181640078365,
          0.9594178561432969,
          0.9594178561432969,
          0.964735516372796,
          0.964735516372796,
          0.9680940386230059,
          0.9692135460397425,
          0.9692135460397425,
          0.9717324377273999,
          0.9717324377273999,
          0.9742513294150573,
          0.9750909599776099,
          0.9750909599776099,
          0.9787293590820039,
          0.9787293590820039,
          0.978869297509096,
          0.9811083123425692,
          0.9811083123425692,
          0.9832073887489504,
          0.9832073887489504,
          0.9832073887489504,
          0.9848866498740554,
          0.9848866498740554,
          0.9862860341449762,
          0.9862860341449762,
          0.9862860341449762,
          0.9881052336971733,
          0.9881052336971733,
          0.9903442485306465,
          0.9903442485306465,
          0.9903442485306465,
          0.9920235096557515,
          0.9920235096557515,
          0.9938427092079485,
          0.9942625244892247,
          0.9942625244892247,
          0.9956619087601455,
          0.9956619087601455,
          0.9960817240414218,
          0.9977609851665267,
          0.9977609851665267,
          0.9988804925832634,
          0.9988804925832634,
          1
         ]
        },
        {
         "line": {
          "width": 3
         },
         "mode": "lines",
         "name": "חשמל/בנזין",
         "type": "scatter",
         "x": [
          0,
          0.3993265993265993,
          0.7986531986531986,
          1.197979797979798,
          1.5973063973063972,
          1.9966329966329965,
          2.395959595959596,
          2.795286195286195,
          3.1946127946127945,
          3.5939393939393938,
          3.993265993265993,
          4.392592592592592,
          4.791919191919192,
          5.191245791245791,
          5.59057239057239,
          5.98989898989899,
          6.389225589225589,
          6.788552188552188,
          7.1878787878787875,
          7.587205387205387,
          7.986531986531986,
          8.385858585858585,
          8.785185185185185,
          9.184511784511784,
          9.583838383838383,
          9.983164983164983,
          10.382491582491582,
          10.781818181818181,
          11.18114478114478,
          11.58047138047138,
          11.97979797979798,
          12.379124579124579,
          12.778451178451178,
          13.177777777777777,
          13.577104377104376,
          13.976430976430976,
          14.375757575757575,
          14.775084175084174,
          15.174410774410774,
          15.573737373737373,
          15.973063973063972,
          16.37239057239057,
          16.77171717171717,
          17.17104377104377,
          17.57037037037037,
          17.96969696969697,
          18.369023569023568,
          18.768350168350167,
          19.167676767676767,
          19.567003367003366,
          19.966329966329965,
          20.365656565656565,
          20.764983164983164,
          21.164309764309763,
          21.563636363636363,
          21.962962962962962,
          22.36228956228956,
          22.76161616161616,
          23.16094276094276,
          23.56026936026936,
          23.95959595959596,
          24.358922558922558,
          24.758249158249157,
          25.157575757575756,
          25.556902356902356,
          25.956228956228955,
          26.355555555555554,
          26.754882154882154,
          27.154208754208753,
          27.553535353535352,
          27.95286195286195,
          28.35218855218855,
          28.75151515151515,
          29.15084175084175,
          29.55016835016835,
          29.949494949494948,
          30.348821548821547,
          30.748148148148147,
          31.147474747474746,
          31.546801346801345,
          31.946127946127945,
          32.345454545454544,
          32.74478114478114,
          33.14410774410774,
          33.54343434343434,
          33.94276094276094,
          34.34208754208754,
          34.74141414141414,
          35.14074074074074,
          35.54006734006734,
          35.93939393939394,
          36.33872053872054,
          36.738047138047136,
          37.137373737373736,
          37.536700336700335,
          37.936026936026934,
          38.33535353535353,
          38.73468013468013,
          39.13400673400673,
          39.53333333333333
         ],
         "y": [
          0.10892698788057938,
          0.10892698788057938,
          0.10892698788057938,
          0.26574046704108784,
          0.26574046704108784,
          0.2947088383091931,
          0.35471475022169674,
          0.35471475022169674,
          0.41191250369494536,
          0.41191250369494536,
          0.41191250369494536,
          0.4683712681052321,
          0.4683712681052321,
          0.5169967484481229,
          0.5169967484481229,
          0.5169967484481229,
          0.5607449009754656,
          0.5607449009754656,
          0.5968075672480048,
          0.5968075672480048,
          0.5968075672480048,
          0.6291752882057345,
          0.6291752882057345,
          0.6584392550990246,
          0.6603606266627254,
          0.6603606266627254,
          0.6888856044930535,
          0.6888856044930535,
          0.7103162873189477,
          0.7125332545078333,
          0.7125332545078333,
          0.7373632870233521,
          0.7373632870233521,
          0.744457582027786,
          0.7577593851610996,
          0.7577593851610996,
          0.7769731007981082,
          0.7769731007981082,
          0.78081584392551,
          0.7932308601832693,
          0.7932308601832693,
          0.8099320130062075,
          0.8099320130062075,
          0.8108187998817618,
          0.823529411764706,
          0.823529411764706,
          0.839787171149867,
          0.839787171149867,
          0.839787171149867,
          0.8535323677209578,
          0.8535323677209578,
          0.8669819686668637,
          0.8669819686668637,
          0.8669819686668637,
          0.8786579958616613,
          0.8786579958616613,
          0.8885604493053503,
          0.8909252143068283,
          0.8909252143068283,
          0.9036358261897725,
          0.9036358261897725,
          0.9139816730712386,
          0.917676618386048,
          0.917676618386048,
          0.926396689328998,
          0.926396689328998,
          0.9312740171445463,
          0.9343777712089861,
          0.9343777712089861,
          0.9425066509015667,
          0.9425066509015667,
          0.9433934377771209,
          0.9472361809045227,
          0.9472361809045227,
          0.9534436890334024,
          0.9534436890334024,
          0.9534436890334024,
          0.9602423884126515,
          0.9602423884126515,
          0.965563109665977,
          0.965563109665977,
          0.965563109665977,
          0.9701448418563405,
          0.9701448418563405,
          0.9753177652970737,
          0.9753177652970737,
          0.9753177652970737,
          0.9797516996748449,
          0.9797516996748449,
          0.9835944428022466,
          0.9838900384274313,
          0.9838900384274313,
          0.9895063553059416,
          0.9895063553059416,
          0.9909843334318652,
          0.9942358853088975,
          0.9942358853088975,
          0.9979308306237068,
          0.9979308306237068,
          1
         ]
        }
       ],
       "layout": {
        "template": {
         "data": {
          "bar": [
           {
            "error_x": {
             "color": "#2a3f5f"
            },
            "error_y": {
             "color": "#2a3f5f"
            },
            "marker": {
             "line": {
              "color": "#E5ECF6",
              "width": 0.5
             },
             "pattern": {
              "fillmode": "overlay",
              "size": 10,
              "solidity": 0.2
             }
            },
            "type": "bar"
           }
          ],
          "barpolar": [
           {
            "marker": {
             "line": {
              "color": "#E5ECF6",
              "width": 0.5
             },
             "pattern": {
              "fillmode": "overlay",
              "size": 10,
              "solidity": 0.2
             }
            },
            "type": "barpolar"
           }
          ],
          "carpet": [
           {
            "aaxis": {
             "endlinecolor": "#2a3f5f",
             "gridcolor": "white",
             "linecolor": "white",
             "minorgridcolor": "white",
             "startlinecolor": "#2a3f5f"
            },
            "baxis": {
             "endlinecolor": "#2a3f5f",
             "gridcolor": "white",
             "linecolor": "white",
             "minorgridcolor": "white",
             "startlinecolor": "#2a3f5f"
            },
            "type": "carpet"
           }
          ],
          "choropleth": [
           {
            "colorbar": {
             "outlinewidth": 0,
             "ticks": ""
            },
            "type": "choropleth"
           }
          ],
          "contour": [
           {
            "colorbar": {
             "outlinewidth": 0,
             "ticks": ""
            },
            "colorscale": [
             [
              0,
              "#0d0887"
             ],
             [
              0.1111111111111111,
              "#46039f"
             ],
             [
              0.2222222222222222,
              "#7201a8"
             ],
             [
              0.3333333333333333,
              "#9c179e"
             ],
             [
              0.4444444444444444,
              "#bd3786"
             ],
             [
              0.5555555555555556,
              "#d8576b"
             ],
             [
              0.6666666666666666,
              "#ed7953"
             ],
             [
              0.7777777777777778,
              "#fb9f3a"
             ],
             [
              0.8888888888888888,
              "#fdca26"
             ],
             [
              1,
              "#f0f921"
             ]
            ],
            "type": "contour"
           }
          ],
          "contourcarpet": [
           {
            "colorbar": {
             "outlinewidth": 0,
             "ticks": ""
            },
            "type": "contourcarpet"
           }
          ],
          "heatmap": [
           {
            "colorbar": {
             "outlinewidth": 0,
             "ticks": ""
            },
            "colorscale": [
             [
              0,
              "#0d0887"
             ],
             [
              0.1111111111111111,
              "#46039f"
             ],
             [
              0.2222222222222222,
              "#7201a8"
             ],
             [
              0.3333333333333333,
              "#9c179e"
             ],
             [
              0.4444444444444444,
              "#bd3786"
             ],
             [
              0.5555555555555556,
              "#d8576b"
             ],
             [
              0.6666666666666666,
              "#ed7953"
             ],
             [
              0.7777777777777778,
              "#fb9f3a"
             ],
             [
              0.8888888888888888,
              "#fdca26"
             ],
             [
              1,
              "#f0f921"
             ]
            ],
            "type": "heatmap"
           }
          ],
          "heatmapgl": [
           {
            "colorbar": {
             "outlinewidth": 0,
             "ticks": ""
            },
            "colorscale": [
             [
              0,
              "#0d0887"
             ],
             [
              0.1111111111111111,
              "#46039f"
             ],
             [
              0.2222222222222222,
              "#7201a8"
             ],
             [
              0.3333333333333333,
              "#9c179e"
             ],
             [
              0.4444444444444444,
              "#bd3786"
             ],
             [
              0.5555555555555556,
              "#d8576b"
             ],
             [
              0.6666666666666666,
              "#ed7953"
             ],
             [
              0.7777777777777778,
              "#fb9f3a"
             ],
             [
              0.8888888888888888,
              "#fdca26"
             ],
             [
              1,
              "#f0f921"
             ]
            ],
            "type": "heatmapgl"
           }
          ],
          "histogram": [
           {
            "marker": {
             "pattern": {
              "fillmode": "overlay",
              "size": 10,
              "solidity": 0.2
             }
            },
            "type": "histogram"
           }
          ],
          "histogram2d": [
           {
            "colorbar": {
             "outlinewidth": 0,
             "ticks": ""
            },
            "colorscale": [
             [
              0,
              "#0d0887"
             ],
             [
              0.1111111111111111,
              "#46039f"
             ],
             [
              0.2222222222222222,
              "#7201a8"
             ],
             [
              0.3333333333333333,
              "#9c179e"
             ],
             [
              0.4444444444444444,
              "#bd3786"
             ],
             [
              0.5555555555555556,
              "#d8576b"
             ],
             [
              0.6666666666666666,
              "#ed7953"
             ],
             [
              0.7777777777777778,
              "#fb9f3a"
             ],
             [
              0.8888888888888888,
              "#fdca26"
             ],
             [
              1,
              "#f0f921"
             ]
            ],
            "type": "histogram2d"
           }
          ],
          "histogram2dcontour": [
           {
            "colorbar": {
             "outlinewidth": 0,
             "ticks": ""
            },
            "colorscale": [
             [
              0,
              "#0d0887"
             ],
             [
              0.1111111111111111,
              "#46039f"
             ],
             [
              0.2222222222222222,
              "#7201a8"
             ],
             [
              0.3333333333333333,
              "#9c179e"
             ],
             [
              0.4444444444444444,
              "#bd3786"
             ],
             [
              0.5555555555555556,
              "#d8576b"
             ],
             [
              0.6666666666666666,
              "#ed7953"
             ],
             [
              0.7777777777777778,
              "#fb9f3a"
             ],
             [
              0.8888888888888888,
              "#fdca26"
             ],
             [
              1,
              "#f0f921"
             ]
            ],
            "type": "histogram2dcontour"
           }
          ],
          "mesh3d": [
           {
            "colorbar": {
             "outlinewidth": 0,
             "ticks": ""
            },
            "type": "mesh3d"
           }
          ],
          "parcoords": [
           {
            "line": {
             "colorbar": {
              "outlinewidth": 0,
              "ticks": ""
             }
            },
            "type": "parcoords"
           }
          ],
          "pie": [
           {
            "automargin": true,
            "type": "pie"
           }
          ],
          "scatter": [
           {
            "fillpattern": {
             "fillmode": "overlay",
             "size": 10,
             "solidity": 0.2
            },
            "type": "scatter"
           }
          ],
          "scatter3d": [
           {
            "line": {
             "colorbar": {
              "outlinewidth": 0,
              "ticks": ""
             }
            },
            "marker": {
             "colorbar": {
              "outlinewidth": 0,
              "ticks": ""
             }
            },
            "type": "scatter3d"
           }
          ],
          "scattercarpet": [
           {
            "marker": {
             "colorbar": {
              "outlinewidth": 0,
              "ticks": ""
             }
            },
            "type": "scattercarpet"
           }
          ],
          "scattergeo": [
           {
            "marker": {
             "colorbar": {
              "outlinewidth": 0,
              "ticks": ""
             }
            },
            "type": "scattergeo"
           }
          ],
          "scattergl": [
           {
            "marker": {
             "colorbar": {
              "outlinewidth": 0,
              "ticks": ""
             }
            },
            "type": "scattergl"
           }
          ],
          "scattermapbox": [
           {
            "marker": {
             "colorbar": {
              "outlinewidth": 0,
              "ticks": ""
             }
            },
            "type": "scattermapbox"
           }
          ],
          "scatterpolar": [
           {
            "marker": {
             "colorbar": {
              "outlinewidth": 0,
              "ticks": ""
             }
            },
            "type": "scatterpolar"
           }
          ],
          "scatterpolargl": [
           {
            "marker": {
             "colorbar": {
              "outlinewidth": 0,
              "ticks": ""
             }
            },
            "type": "scatterpolargl"
           }
          ],
          "scatterternary": [
           {
            "marker": {
             "colorbar": {
              "outlinewidth": 0,
              "ticks": ""
             }
            },
            "type": "scatterternary"
           }
          ],
          "surface": [
           {
            "colorbar": {
             "outlinewidth": 0,
             "ticks": ""
            },
            "colorscale": [
             [
              0,
              "#0d0887"
             ],
             [
              0.1111111111111111,
              "#46039f"
             ],
             [
              0.2222222222222222,
              "#7201a8"
             ],
             [
              0.3333333333333333,
              "#9c179e"
             ],
             [
              0.4444444444444444,
              "#bd3786"
             ],
             [
              0.5555555555555556,
              "#d8576b"
             ],
             [
              0.6666666666666666,
              "#ed7953"
             ],
             [
              0.7777777777777778,
              "#fb9f3a"
             ],
             [
              0.8888888888888888,
              "#fdca26"
             ],
             [
              1,
              "#f0f921"
             ]
            ],
            "type": "surface"
           }
          ],
          "table": [
           {
            "cells": {
             "fill": {
              "color": "#EBF0F8"
             },
             "line": {
              "color": "white"
             }
            },
            "header": {
             "fill": {
              "color": "#C8D4E3"
             },
             "line": {
              "color": "white"
             }
            },
            "type": "table"
           }
          ]
         },
         "layout": {
          "annotationdefaults": {
           "arrowcolor": "#2a3f5f",
           "arrowhead": 0,
           "arrowwidth": 1
          },
          "autotypenumbers": "strict",
          "coloraxis": {
           "colorbar": {
            "outlinewidth": 0,
            "ticks": ""
           }
          },
          "colorscale": {
           "diverging": [
            [
             0,
             "#8e0152"
            ],
            [
             0.1,
             "#c51b7d"
            ],
            [
             0.2,
             "#de77ae"
            ],
            [
             0.3,
             "#f1b6da"
            ],
            [
             0.4,
             "#fde0ef"
            ],
            [
             0.5,
             "#f7f7f7"
            ],
            [
             0.6,
             "#e6f5d0"
            ],
            [
             0.7,
             "#b8e186"
            ],
            [
             0.8,
             "#7fbc41"
            ],
            [
             0.9,
             "#4d9221"
            ],
            [
             1,
             "#276419"
            ]
           ],
           "sequential": [
            [
             0,
             "#0d0887"
            ],
            [
             0.1111111111111111,
             "#46039f"
            ],
            [
             0.2222222222222222,
             "#7201a8"
            ],
            [
             0.3333333333333333,
             "#9c179e"
            ],
            [
             0.4444444444444444,
             "#bd3786"
            ],
            [
             0.5555555555555556,
             "#d8576b"
            ],
            [
             0.6666666666666666,
             "#ed7953"
            ],
            [
             0.7777777777777778,
             "#fb9f3a"
            ],
            [
             0.8888888888888888,
             "#fdca26"
            ],
            [
             1,
             "#f0f921"
            ]
           ],
           "sequentialminus": [
            [
             0,
             "#0d0887"
            ],
            [
             0.1111111111111111,
             "#46039f"
            ],
            [
             0.2222222222222222,
             "#7201a8"
            ],
            [
             0.3333333333333333,
             "#9c179e"
            ],
            [
             0.4444444444444444,
             "#bd3786"
            ],
            [
             0.5555555555555556,
             "#d8576b"
            ],
            [
             0.6666666666666666,
             "#ed7953"
            ],
            [
             0.7777777777777778,
             "#fb9f3a"
            ],
            [
             0.8888888888888888,
             "#fdca26"
            ],
            [
             1,
             "#f0f921"
            ]
           ]
          },
          "colorway": [
           "#636efa",
           "#EF553B",
           "#00cc96",
           "#ab63fa",
           "#FFA15A",
           "#19d3f3",
           "#FF6692",
           "#B6E880",
           "#FF97FF",
           "#FECB52"
          ],
          "font": {
           "color": "#2a3f5f"
          },
          "geo": {
           "bgcolor": "white",
           "lakecolor": "white",
           "landcolor": "#E5ECF6",
           "showlakes": true,
           "showland": true,
           "subunitcolor": "white"
          },
          "hoverlabel": {
           "align": "left"
          },
          "hovermode": "closest",
          "mapbox": {
           "style": "light"
          },
          "paper_bgcolor": "white",
          "plot_bgcolor": "#E5ECF6",
          "polar": {
           "angularaxis": {
            "gridcolor": "white",
            "linecolor": "white",
            "ticks": ""
           },
           "bgcolor": "#E5ECF6",
           "radialaxis": {
            "gridcolor": "white",
            "linecolor": "white",
            "ticks": ""
           }
          },
          "scene": {
           "xaxis": {
            "backgroundcolor": "#E5ECF6",
            "gridcolor": "white",
            "gridwidth": 2,
            "linecolor": "white",
            "showbackground": true,
            "ticks": "",
            "zerolinecolor": "white"
           },
           "yaxis": {
            "backgroundcolor": "#E5ECF6",
            "gridcolor": "white",
            "gridwidth": 2,
            "linecolor": "white",
            "showbackground": true,
            "ticks": "",
            "zerolinecolor": "white"
           },
           "zaxis": {
            "backgroundcolor": "#E5ECF6",
            "gridcolor": "white",
            "gridwidth": 2,
            "linecolor": "white",
            "showbackground": true,
            "ticks": "",
            "zerolinecolor": "white"
           }
          },
          "shapedefaults": {
           "line": {
            "color": "#2a3f5f"
           }
          },
          "ternary": {
           "aaxis": {
            "gridcolor": "white",
            "linecolor": "white",
            "ticks": ""
           },
           "baxis": {
            "gridcolor": "white",
            "linecolor": "white",
            "ticks": ""
           },
           "bgcolor": "#E5ECF6",
           "caxis": {
            "gridcolor": "white",
            "linecolor": "white",
            "ticks": ""
           }
          },
          "title": {
           "x": 0.05
          },
          "xaxis": {
           "automargin": true,
           "gridcolor": "white",
           "linecolor": "white",
           "ticks": "",
           "title": {
            "standoff": 15
           },
           "zerolinecolor": "white",
           "zerolinewidth": 2
          },
          "yaxis": {
           "automargin": true,
           "gridcolor": "white",
           "linecolor": "white",
           "ticks": "",
           "title": {
            "standoff": 15
           },
           "zerolinecolor": "white",
           "zerolinewidth": 2
          }
         }
        },
        "title": {
         "text": "התפלגות זמן מכירה לפי סוג דלק, שנה >= 2020"
        },
        "xaxis": {
         "title": {
          "text": "משך זמן מהקניה בחודשים"
         }
        },
        "yaxis": {
         "title": {
          "text": "הסתברות מכירה עד תום תקופה"
         }
        }
       }
      },
      "text/html": [
       "<div>                            <div id=\"55c08fa3-6571-4326-95ac-e20653cce7d0\" class=\"plotly-graph-div\" style=\"height:525px; width:100%;\"></div>            <script type=\"text/javascript\">                require([\"plotly\"], function(Plotly) {                    window.PLOTLYENV=window.PLOTLYENV || {};                                    if (document.getElementById(\"55c08fa3-6571-4326-95ac-e20653cce7d0\")) {                    Plotly.newPlot(                        \"55c08fa3-6571-4326-95ac-e20653cce7d0\",                        [{\"mode\":\"lines\",\"name\":\"בנזין\",\"x\":[0.0,0.4094276094276094,0.8188552188552188,1.2282828282828282,1.6377104377104377,2.047138047138047,2.4565656565656564,2.865993265993266,3.2754208754208753,3.6848484848484846,4.094276094276094,4.503703703703704,4.913131313131313,5.3225589225589225,5.731986531986532,6.141414141414141,6.550841750841751,6.96026936026936,7.369696969696969,7.779124579124579,8.188552188552189,8.597979797979798,9.007407407407408,9.416835016835016,9.826262626262626,10.235690235690235,10.645117845117845,11.054545454545455,11.463973063973064,11.873400673400672,12.282828282828282,12.692255892255892,13.101683501683501,13.511111111111111,13.92053872053872,14.32996632996633,14.739393939393938,15.148821548821548,15.558249158249158,15.967676767676767,16.377104377104377,16.786531986531987,17.195959595959597,17.605387205387206,18.014814814814816,18.424242424242422,18.833670033670032,19.24309764309764,19.65252525252525,20.06195286195286,20.47138047138047,20.88080808080808,21.29023569023569,21.6996632996633,22.10909090909091,22.51851851851852,22.92794612794613,23.33737373737374,23.746801346801345,24.156228956228954,24.565656565656564,24.975084175084174,25.384511784511783,25.793939393939393,26.203367003367003,26.612794612794612,27.022222222222222,27.431649831649832,27.84107744107744,28.25050505050505,28.65993265993266,29.069360269360267,29.478787878787877,29.888215488215486,30.297643097643096,30.707070707070706,31.116498316498316,31.525925925925925,31.935353535353535,32.344781144781145,32.754208754208754,33.163636363636364,33.573063973063974,33.98249158249158,34.39191919191919,34.8013468013468,35.21077441077441,35.62020202020202,36.02962962962963,36.43905723905724,36.848484848484844,37.257912457912454,37.667340067340064,38.07676767676767,38.48619528619528,38.89562289562289,39.3050505050505,39.71447811447811,40.12390572390572,40.53333333333333],\"y\":[0.15041329284750335,0.15041329284750335,0.15041329284750335,0.3619770580296896,0.3619770580296896,0.4450489203778677,0.4521002024291498,0.4521002024291498,0.4990890688259109,0.4990890688259109,0.5245360998650472,0.5311740890688259,0.5311740890688259,0.5570259784075573,0.5570259784075573,0.5777243589743589,0.5777243589743589,0.5777243589743589,0.5950404858299595,0.5950404858299595,0.6107962213225371,0.6107962213225371,0.6107962213225371,0.6259278002699055,0.6259278002699055,0.6407051282051281,0.6407051282051281,0.6407051282051281,0.656359649122807,0.656359649122807,0.6727395411605938,0.6727395411605938,0.6738613360323886,0.6869770580296896,0.6869770580296896,0.7005651147098515,0.7005651147098515,0.7011892712550607,0.7126265182186234,0.7126265182186234,0.7255229419703103,0.7255229419703103,0.7261977058029689,0.738520580296896,0.738520580296896,0.7505145074224021,0.7505145074224021,0.755381241565452,0.7632506747638326,0.7632506747638326,0.7755904183535762,0.7755904183535762,0.7813427800269905,0.7877530364372469,0.7877530364372469,0.7998228744939271,0.7998228744939271,0.8108468286099865,0.812609649122807,0.812609649122807,0.8264507422402159,0.8264507422402159,0.8372553981106612,0.839136302294197,0.839136302294197,0.851745951417004,0.851745951417004,0.8623650472334682,0.8623650472334682,0.8623650472334682,0.8718454790823211,0.8718454790823211,0.8816632928475033,0.8816632928475033,0.8816632928475033,0.8925944669365722,0.8925944669365722,0.9042341430499324,0.9042341430499324,0.9042341430499324,0.9147773279352226,0.9147773279352226,0.9249156545209176,0.9249156545209176,0.9249156545209176,0.9362516869095816,0.9362516869095816,0.9476383265856949,0.9476383265856949,0.9476383265856949,0.9650387989203778,0.9650387989203778,0.9818235492577597,0.9818235492577597,0.9818235492577597,0.9939271255060729,0.9939271255060729,0.9996035762483131,0.9996035762483131,0.9999915654520917],\"type\":\"scatter\",\"line\":{\"width\":3}},{\"mode\":\"lines\",\"name\":\"דיזל\",\"x\":[0.0,0.4094276094276094,0.8188552188552188,1.2282828282828282,1.6377104377104377,2.047138047138047,2.4565656565656564,2.865993265993266,3.2754208754208753,3.6848484848484846,4.094276094276094,4.503703703703704,4.913131313131313,5.3225589225589225,5.731986531986532,6.141414141414141,6.550841750841751,6.96026936026936,7.369696969696969,7.779124579124579,8.188552188552189,8.597979797979798,9.007407407407408,9.416835016835016,9.826262626262626,10.235690235690235,10.645117845117845,11.054545454545455,11.463973063973064,11.873400673400672,12.282828282828282,12.692255892255892,13.101683501683501,13.511111111111111,13.92053872053872,14.32996632996633,14.739393939393938,15.148821548821548,15.558249158249158,15.967676767676767,16.377104377104377,16.786531986531987,17.195959595959597,17.605387205387206,18.014814814814816,18.424242424242422,18.833670033670032,19.24309764309764,19.65252525252525,20.06195286195286,20.47138047138047,20.88080808080808,21.29023569023569,21.6996632996633,22.10909090909091,22.51851851851852,22.92794612794613,23.33737373737374,23.746801346801345,24.156228956228954,24.565656565656564,24.975084175084174,25.384511784511783,25.793939393939393,26.203367003367003,26.612794612794612,27.022222222222222,27.431649831649832,27.84107744107744,28.25050505050505,28.65993265993266,29.069360269360267,29.478787878787877,29.888215488215486,30.297643097643096,30.707070707070706,31.116498316498316,31.525925925925925,31.935353535353535,32.344781144781145,32.754208754208754,33.163636363636364,33.573063973063974,33.98249158249158,34.39191919191919,34.8013468013468,35.21077441077441,35.62020202020202,36.02962962962963,36.43905723905724,36.848484848484844,37.257912457912454,37.667340067340064,38.07676767676767,38.48619528619528,38.89562289562289,39.3050505050505,39.71447811447811,40.12390572390572,40.53333333333333],\"y\":[0.13956195881539693,0.13956195881539693,0.13956195881539693,0.357636615004002,0.357636615004002,0.4607436513133959,0.4689660190642509,0.4689660190642509,0.5273230008004075,0.5273230008004075,0.5625409299279633,0.5726551699046787,0.5726551699046787,0.6059084624899949,0.6059084624899949,0.6287564578330787,0.6287564578330787,0.6287564578330787,0.6476024157753038,0.6476024157753038,0.663828858327876,0.663828858327876,0.663828858327876,0.6789638361347595,0.6789638361347595,0.691770355817507,0.691770355817507,0.691770355817507,0.7082878556355963,0.7082878556355963,0.7210943753183439,0.7210943753183439,0.7218220184821363,0.7338281306847122,0.7338281306847122,0.745543185621771,0.745543185621771,0.7460525358364258,0.7563123044458997,0.7563123044458997,0.7683184166484756,0.7683184166484756,0.7688277668631303,0.7812704649639817,0.7812704649639817,0.7924034053700065,0.7924034053700065,0.7972058502510369,0.8034635814596521,0.8034635814596521,0.8145237575492977,0.8145237575492977,0.8193262024303282,0.8250745834242886,0.8250745834242886,0.8371534599432437,0.8371534599432437,0.8465400567561667,0.8479953430837517,0.8479953430837517,0.8609473913992578,0.8609473913992578,0.8699701666302845,0.8718620388561449,0.8718620388561449,0.8812486356690679,0.8812486356690679,0.890125882267336,0.890125882267336,0.890125882267336,0.899803536345776,0.899803536345776,0.9091901331586989,0.9091901331586989,0.9091901331586989,0.9177763224914501,0.9177763224914501,0.9282543840500618,0.9282543840500618,0.9282543840500618,0.9379320381285018,0.9379320381285018,0.9473186349414247,0.9473186349414247,0.9473186349414247,0.9559775885905551,0.9559775885905551,0.9648548351888233,0.9648548351888233,0.9648548351888233,0.975332896747435,0.975332896747435,0.9862475442043221,0.9862475442043221,0.9862475442043221,0.9954158480681073,0.9954158480681073,0.999708942734483,0.999708942734483,1.0],\"type\":\"scatter\",\"line\":{\"width\":3}},{\"mode\":\"lines\",\"name\":\"חשמל\",\"x\":[0.0,0.3993265993265993,0.7986531986531986,1.197979797979798,1.5973063973063972,1.9966329966329965,2.395959595959596,2.795286195286195,3.1946127946127945,3.5939393939393938,3.993265993265993,4.392592592592592,4.791919191919192,5.191245791245791,5.59057239057239,5.98989898989899,6.389225589225589,6.788552188552188,7.1878787878787875,7.587205387205387,7.986531986531986,8.385858585858585,8.785185185185185,9.184511784511784,9.583838383838383,9.983164983164983,10.382491582491582,10.781818181818181,11.18114478114478,11.58047138047138,11.97979797979798,12.379124579124579,12.778451178451178,13.177777777777777,13.577104377104376,13.976430976430976,14.375757575757575,14.775084175084174,15.174410774410774,15.573737373737373,15.973063973063972,16.37239057239057,16.77171717171717,17.17104377104377,17.57037037037037,17.96969696969697,18.369023569023568,18.768350168350167,19.167676767676767,19.567003367003366,19.966329966329965,20.365656565656565,20.764983164983164,21.164309764309763,21.563636363636363,21.962962962962962,22.36228956228956,22.76161616161616,23.16094276094276,23.56026936026936,23.95959595959596,24.358922558922558,24.758249158249157,25.157575757575756,25.556902356902356,25.956228956228955,26.355555555555554,26.754882154882154,27.154208754208753,27.553535353535352,27.95286195286195,28.35218855218855,28.75151515151515,29.15084175084175,29.55016835016835,29.949494949494948,30.348821548821547,30.748148148148147,31.147474747474746,31.546801346801345,31.946127946127945,32.345454545454544,32.74478114478114,33.14410774410774,33.54343434343434,33.94276094276094,34.34208754208754,34.74141414141414,35.14074074074074,35.54006734006734,35.93939393939394,36.33872053872054,36.738047138047136,37.137373737373736,37.536700336700335,37.936026936026934,38.33535353535353,38.73468013468013,39.13400673400673,39.53333333333333],\"y\":[0.22166246851385393,0.22166246851385393,0.22166246851385393,0.4513014273719564,0.4513014273719564,0.48460677301987126,0.5270081164287713,0.5270081164287713,0.5782255807444724,0.5782255807444724,0.5782255807444724,0.6312622446123706,0.6312622446123706,0.670724881052337,0.670724881052337,0.670724881052337,0.6977329974811083,0.6977329974811083,0.725300867618248,0.725300867618248,0.725300867618248,0.7514693534844669,0.7514693534844669,0.7731598096837391,0.7766582703610412,0.7766582703610412,0.7990484186957738,0.7990484186957738,0.8183599216344808,0.8205989364679541,0.8205989364679541,0.8431290232297789,0.8431290232297789,0.8508256367198432,0.8620207108872097,0.8620207108872097,0.8776938147215225,0.8776938147215225,0.8802127064091799,0.892667226420375,0.892667226420375,0.9040022390148335,0.9040022390148335,0.9041421774419255,0.9140778057654632,0.9140778057654632,0.924433249370277,0.924433249370277,0.924433249370277,0.9356283235376435,0.9356283235376435,0.9458438287153652,0.9458438287153652,0.9458438287153652,0.9527008116428771,0.9527008116428771,0.9587181640078365,0.9594178561432969,0.9594178561432969,0.964735516372796,0.964735516372796,0.9680940386230059,0.9692135460397425,0.9692135460397425,0.9717324377273999,0.9717324377273999,0.9742513294150573,0.9750909599776099,0.9750909599776099,0.9787293590820039,0.9787293590820039,0.978869297509096,0.9811083123425692,0.9811083123425692,0.9832073887489504,0.9832073887489504,0.9832073887489504,0.9848866498740554,0.9848866498740554,0.9862860341449762,0.9862860341449762,0.9862860341449762,0.9881052336971733,0.9881052336971733,0.9903442485306465,0.9903442485306465,0.9903442485306465,0.9920235096557515,0.9920235096557515,0.9938427092079485,0.9942625244892247,0.9942625244892247,0.9956619087601455,0.9956619087601455,0.9960817240414218,0.9977609851665267,0.9977609851665267,0.9988804925832634,0.9988804925832634,1.0],\"type\":\"scatter\",\"line\":{\"width\":3}},{\"mode\":\"lines\",\"name\":\"חשמל/בנזין\",\"x\":[0.0,0.3993265993265993,0.7986531986531986,1.197979797979798,1.5973063973063972,1.9966329966329965,2.395959595959596,2.795286195286195,3.1946127946127945,3.5939393939393938,3.993265993265993,4.392592592592592,4.791919191919192,5.191245791245791,5.59057239057239,5.98989898989899,6.389225589225589,6.788552188552188,7.1878787878787875,7.587205387205387,7.986531986531986,8.385858585858585,8.785185185185185,9.184511784511784,9.583838383838383,9.983164983164983,10.382491582491582,10.781818181818181,11.18114478114478,11.58047138047138,11.97979797979798,12.379124579124579,12.778451178451178,13.177777777777777,13.577104377104376,13.976430976430976,14.375757575757575,14.775084175084174,15.174410774410774,15.573737373737373,15.973063973063972,16.37239057239057,16.77171717171717,17.17104377104377,17.57037037037037,17.96969696969697,18.369023569023568,18.768350168350167,19.167676767676767,19.567003367003366,19.966329966329965,20.365656565656565,20.764983164983164,21.164309764309763,21.563636363636363,21.962962962962962,22.36228956228956,22.76161616161616,23.16094276094276,23.56026936026936,23.95959595959596,24.358922558922558,24.758249158249157,25.157575757575756,25.556902356902356,25.956228956228955,26.355555555555554,26.754882154882154,27.154208754208753,27.553535353535352,27.95286195286195,28.35218855218855,28.75151515151515,29.15084175084175,29.55016835016835,29.949494949494948,30.348821548821547,30.748148148148147,31.147474747474746,31.546801346801345,31.946127946127945,32.345454545454544,32.74478114478114,33.14410774410774,33.54343434343434,33.94276094276094,34.34208754208754,34.74141414141414,35.14074074074074,35.54006734006734,35.93939393939394,36.33872053872054,36.738047138047136,37.137373737373736,37.536700336700335,37.936026936026934,38.33535353535353,38.73468013468013,39.13400673400673,39.53333333333333],\"y\":[0.10892698788057938,0.10892698788057938,0.10892698788057938,0.26574046704108784,0.26574046704108784,0.2947088383091931,0.35471475022169674,0.35471475022169674,0.41191250369494536,0.41191250369494536,0.41191250369494536,0.4683712681052321,0.4683712681052321,0.5169967484481229,0.5169967484481229,0.5169967484481229,0.5607449009754656,0.5607449009754656,0.5968075672480048,0.5968075672480048,0.5968075672480048,0.6291752882057345,0.6291752882057345,0.6584392550990246,0.6603606266627254,0.6603606266627254,0.6888856044930535,0.6888856044930535,0.7103162873189477,0.7125332545078333,0.7125332545078333,0.7373632870233521,0.7373632870233521,0.744457582027786,0.7577593851610996,0.7577593851610996,0.7769731007981082,0.7769731007981082,0.78081584392551,0.7932308601832693,0.7932308601832693,0.8099320130062075,0.8099320130062075,0.8108187998817618,0.823529411764706,0.823529411764706,0.839787171149867,0.839787171149867,0.839787171149867,0.8535323677209578,0.8535323677209578,0.8669819686668637,0.8669819686668637,0.8669819686668637,0.8786579958616613,0.8786579958616613,0.8885604493053503,0.8909252143068283,0.8909252143068283,0.9036358261897725,0.9036358261897725,0.9139816730712386,0.917676618386048,0.917676618386048,0.926396689328998,0.926396689328998,0.9312740171445463,0.9343777712089861,0.9343777712089861,0.9425066509015667,0.9425066509015667,0.9433934377771209,0.9472361809045227,0.9472361809045227,0.9534436890334024,0.9534436890334024,0.9534436890334024,0.9602423884126515,0.9602423884126515,0.965563109665977,0.965563109665977,0.965563109665977,0.9701448418563405,0.9701448418563405,0.9753177652970737,0.9753177652970737,0.9753177652970737,0.9797516996748449,0.9797516996748449,0.9835944428022466,0.9838900384274313,0.9838900384274313,0.9895063553059416,0.9895063553059416,0.9909843334318652,0.9942358853088975,0.9942358853088975,0.9979308306237068,0.9979308306237068,1.0],\"type\":\"scatter\",\"line\":{\"width\":3}}],                        {\"template\":{\"data\":{\"histogram2dcontour\":[{\"type\":\"histogram2dcontour\",\"colorbar\":{\"outlinewidth\":0,\"ticks\":\"\"},\"colorscale\":[[0.0,\"#0d0887\"],[0.1111111111111111,\"#46039f\"],[0.2222222222222222,\"#7201a8\"],[0.3333333333333333,\"#9c179e\"],[0.4444444444444444,\"#bd3786\"],[0.5555555555555556,\"#d8576b\"],[0.6666666666666666,\"#ed7953\"],[0.7777777777777778,\"#fb9f3a\"],[0.8888888888888888,\"#fdca26\"],[1.0,\"#f0f921\"]]}],\"choropleth\":[{\"type\":\"choropleth\",\"colorbar\":{\"outlinewidth\":0,\"ticks\":\"\"}}],\"histogram2d\":[{\"type\":\"histogram2d\",\"colorbar\":{\"outlinewidth\":0,\"ticks\":\"\"},\"colorscale\":[[0.0,\"#0d0887\"],[0.1111111111111111,\"#46039f\"],[0.2222222222222222,\"#7201a8\"],[0.3333333333333333,\"#9c179e\"],[0.4444444444444444,\"#bd3786\"],[0.5555555555555556,\"#d8576b\"],[0.6666666666666666,\"#ed7953\"],[0.7777777777777778,\"#fb9f3a\"],[0.8888888888888888,\"#fdca26\"],[1.0,\"#f0f921\"]]}],\"heatmap\":[{\"type\":\"heatmap\",\"colorbar\":{\"outlinewidth\":0,\"ticks\":\"\"},\"colorscale\":[[0.0,\"#0d0887\"],[0.1111111111111111,\"#46039f\"],[0.2222222222222222,\"#7201a8\"],[0.3333333333333333,\"#9c179e\"],[0.4444444444444444,\"#bd3786\"],[0.5555555555555556,\"#d8576b\"],[0.6666666666666666,\"#ed7953\"],[0.7777777777777778,\"#fb9f3a\"],[0.8888888888888888,\"#fdca26\"],[1.0,\"#f0f921\"]]}],\"heatmapgl\":[{\"type\":\"heatmapgl\",\"colorbar\":{\"outlinewidth\":0,\"ticks\":\"\"},\"colorscale\":[[0.0,\"#0d0887\"],[0.1111111111111111,\"#46039f\"],[0.2222222222222222,\"#7201a8\"],[0.3333333333333333,\"#9c179e\"],[0.4444444444444444,\"#bd3786\"],[0.5555555555555556,\"#d8576b\"],[0.6666666666666666,\"#ed7953\"],[0.7777777777777778,\"#fb9f3a\"],[0.8888888888888888,\"#fdca26\"],[1.0,\"#f0f921\"]]}],\"contourcarpet\":[{\"type\":\"contourcarpet\",\"colorbar\":{\"outlinewidth\":0,\"ticks\":\"\"}}],\"contour\":[{\"type\":\"contour\",\"colorbar\":{\"outlinewidth\":0,\"ticks\":\"\"},\"colorscale\":[[0.0,\"#0d0887\"],[0.1111111111111111,\"#46039f\"],[0.2222222222222222,\"#7201a8\"],[0.3333333333333333,\"#9c179e\"],[0.4444444444444444,\"#bd3786\"],[0.5555555555555556,\"#d8576b\"],[0.6666666666666666,\"#ed7953\"],[0.7777777777777778,\"#fb9f3a\"],[0.8888888888888888,\"#fdca26\"],[1.0,\"#f0f921\"]]}],\"surface\":[{\"type\":\"surface\",\"colorbar\":{\"outlinewidth\":0,\"ticks\":\"\"},\"colorscale\":[[0.0,\"#0d0887\"],[0.1111111111111111,\"#46039f\"],[0.2222222222222222,\"#7201a8\"],[0.3333333333333333,\"#9c179e\"],[0.4444444444444444,\"#bd3786\"],[0.5555555555555556,\"#d8576b\"],[0.6666666666666666,\"#ed7953\"],[0.7777777777777778,\"#fb9f3a\"],[0.8888888888888888,\"#fdca26\"],[1.0,\"#f0f921\"]]}],\"mesh3d\":[{\"type\":\"mesh3d\",\"colorbar\":{\"outlinewidth\":0,\"ticks\":\"\"}}],\"scatter\":[{\"fillpattern\":{\"fillmode\":\"overlay\",\"size\":10,\"solidity\":0.2},\"type\":\"scatter\"}],\"parcoords\":[{\"type\":\"parcoords\",\"line\":{\"colorbar\":{\"outlinewidth\":0,\"ticks\":\"\"}}}],\"scatterpolargl\":[{\"type\":\"scatterpolargl\",\"marker\":{\"colorbar\":{\"outlinewidth\":0,\"ticks\":\"\"}}}],\"bar\":[{\"error_x\":{\"color\":\"#2a3f5f\"},\"error_y\":{\"color\":\"#2a3f5f\"},\"marker\":{\"line\":{\"color\":\"#E5ECF6\",\"width\":0.5},\"pattern\":{\"fillmode\":\"overlay\",\"size\":10,\"solidity\":0.2}},\"type\":\"bar\"}],\"scattergeo\":[{\"type\":\"scattergeo\",\"marker\":{\"colorbar\":{\"outlinewidth\":0,\"ticks\":\"\"}}}],\"scatterpolar\":[{\"type\":\"scatterpolar\",\"marker\":{\"colorbar\":{\"outlinewidth\":0,\"ticks\":\"\"}}}],\"histogram\":[{\"marker\":{\"pattern\":{\"fillmode\":\"overlay\",\"size\":10,\"solidity\":0.2}},\"type\":\"histogram\"}],\"scattergl\":[{\"type\":\"scattergl\",\"marker\":{\"colorbar\":{\"outlinewidth\":0,\"ticks\":\"\"}}}],\"scatter3d\":[{\"type\":\"scatter3d\",\"line\":{\"colorbar\":{\"outlinewidth\":0,\"ticks\":\"\"}},\"marker\":{\"colorbar\":{\"outlinewidth\":0,\"ticks\":\"\"}}}],\"scattermapbox\":[{\"type\":\"scattermapbox\",\"marker\":{\"colorbar\":{\"outlinewidth\":0,\"ticks\":\"\"}}}],\"scatterternary\":[{\"type\":\"scatterternary\",\"marker\":{\"colorbar\":{\"outlinewidth\":0,\"ticks\":\"\"}}}],\"scattercarpet\":[{\"type\":\"scattercarpet\",\"marker\":{\"colorbar\":{\"outlinewidth\":0,\"ticks\":\"\"}}}],\"carpet\":[{\"aaxis\":{\"endlinecolor\":\"#2a3f5f\",\"gridcolor\":\"white\",\"linecolor\":\"white\",\"minorgridcolor\":\"white\",\"startlinecolor\":\"#2a3f5f\"},\"baxis\":{\"endlinecolor\":\"#2a3f5f\",\"gridcolor\":\"white\",\"linecolor\":\"white\",\"minorgridcolor\":\"white\",\"startlinecolor\":\"#2a3f5f\"},\"type\":\"carpet\"}],\"table\":[{\"cells\":{\"fill\":{\"color\":\"#EBF0F8\"},\"line\":{\"color\":\"white\"}},\"header\":{\"fill\":{\"color\":\"#C8D4E3\"},\"line\":{\"color\":\"white\"}},\"type\":\"table\"}],\"barpolar\":[{\"marker\":{\"line\":{\"color\":\"#E5ECF6\",\"width\":0.5},\"pattern\":{\"fillmode\":\"overlay\",\"size\":10,\"solidity\":0.2}},\"type\":\"barpolar\"}],\"pie\":[{\"automargin\":true,\"type\":\"pie\"}]},\"layout\":{\"autotypenumbers\":\"strict\",\"colorway\":[\"#636efa\",\"#EF553B\",\"#00cc96\",\"#ab63fa\",\"#FFA15A\",\"#19d3f3\",\"#FF6692\",\"#B6E880\",\"#FF97FF\",\"#FECB52\"],\"font\":{\"color\":\"#2a3f5f\"},\"hovermode\":\"closest\",\"hoverlabel\":{\"align\":\"left\"},\"paper_bgcolor\":\"white\",\"plot_bgcolor\":\"#E5ECF6\",\"polar\":{\"bgcolor\":\"#E5ECF6\",\"angularaxis\":{\"gridcolor\":\"white\",\"linecolor\":\"white\",\"ticks\":\"\"},\"radialaxis\":{\"gridcolor\":\"white\",\"linecolor\":\"white\",\"ticks\":\"\"}},\"ternary\":{\"bgcolor\":\"#E5ECF6\",\"aaxis\":{\"gridcolor\":\"white\",\"linecolor\":\"white\",\"ticks\":\"\"},\"baxis\":{\"gridcolor\":\"white\",\"linecolor\":\"white\",\"ticks\":\"\"},\"caxis\":{\"gridcolor\":\"white\",\"linecolor\":\"white\",\"ticks\":\"\"}},\"coloraxis\":{\"colorbar\":{\"outlinewidth\":0,\"ticks\":\"\"}},\"colorscale\":{\"sequential\":[[0.0,\"#0d0887\"],[0.1111111111111111,\"#46039f\"],[0.2222222222222222,\"#7201a8\"],[0.3333333333333333,\"#9c179e\"],[0.4444444444444444,\"#bd3786\"],[0.5555555555555556,\"#d8576b\"],[0.6666666666666666,\"#ed7953\"],[0.7777777777777778,\"#fb9f3a\"],[0.8888888888888888,\"#fdca26\"],[1.0,\"#f0f921\"]],\"sequentialminus\":[[0.0,\"#0d0887\"],[0.1111111111111111,\"#46039f\"],[0.2222222222222222,\"#7201a8\"],[0.3333333333333333,\"#9c179e\"],[0.4444444444444444,\"#bd3786\"],[0.5555555555555556,\"#d8576b\"],[0.6666666666666666,\"#ed7953\"],[0.7777777777777778,\"#fb9f3a\"],[0.8888888888888888,\"#fdca26\"],[1.0,\"#f0f921\"]],\"diverging\":[[0,\"#8e0152\"],[0.1,\"#c51b7d\"],[0.2,\"#de77ae\"],[0.3,\"#f1b6da\"],[0.4,\"#fde0ef\"],[0.5,\"#f7f7f7\"],[0.6,\"#e6f5d0\"],[0.7,\"#b8e186\"],[0.8,\"#7fbc41\"],[0.9,\"#4d9221\"],[1,\"#276419\"]]},\"xaxis\":{\"gridcolor\":\"white\",\"linecolor\":\"white\",\"ticks\":\"\",\"title\":{\"standoff\":15},\"zerolinecolor\":\"white\",\"automargin\":true,\"zerolinewidth\":2},\"yaxis\":{\"gridcolor\":\"white\",\"linecolor\":\"white\",\"ticks\":\"\",\"title\":{\"standoff\":15},\"zerolinecolor\":\"white\",\"automargin\":true,\"zerolinewidth\":2},\"scene\":{\"xaxis\":{\"backgroundcolor\":\"#E5ECF6\",\"gridcolor\":\"white\",\"linecolor\":\"white\",\"showbackground\":true,\"ticks\":\"\",\"zerolinecolor\":\"white\",\"gridwidth\":2},\"yaxis\":{\"backgroundcolor\":\"#E5ECF6\",\"gridcolor\":\"white\",\"linecolor\":\"white\",\"showbackground\":true,\"ticks\":\"\",\"zerolinecolor\":\"white\",\"gridwidth\":2},\"zaxis\":{\"backgroundcolor\":\"#E5ECF6\",\"gridcolor\":\"white\",\"linecolor\":\"white\",\"showbackground\":true,\"ticks\":\"\",\"zerolinecolor\":\"white\",\"gridwidth\":2}},\"shapedefaults\":{\"line\":{\"color\":\"#2a3f5f\"}},\"annotationdefaults\":{\"arrowcolor\":\"#2a3f5f\",\"arrowhead\":0,\"arrowwidth\":1},\"geo\":{\"bgcolor\":\"white\",\"landcolor\":\"#E5ECF6\",\"subunitcolor\":\"white\",\"showland\":true,\"showlakes\":true,\"lakecolor\":\"white\"},\"title\":{\"x\":0.05},\"mapbox\":{\"style\":\"light\"}}},\"title\":{\"text\":\"התפלגות זמן מכירה לפי סוג דלק, שנה >= 2020\"},\"xaxis\":{\"title\":{\"text\":\"משך זמן מהקניה בחודשים\"}},\"yaxis\":{\"title\":{\"text\":\"הסתברות מכירה עד תום תקופה\"}}},                        {\"responsive\": true}                    ).then(function(){\n",
       "                            \n",
       "var gd = document.getElementById('55c08fa3-6571-4326-95ac-e20653cce7d0');\n",
       "var x = new MutationObserver(function (mutations, observer) {{\n",
       "        var display = window.getComputedStyle(gd).display;\n",
       "        if (!display || display === 'none') {{\n",
       "            console.log([gd, 'removed!']);\n",
       "            Plotly.purge(gd);\n",
       "            observer.disconnect();\n",
       "        }}\n",
       "}});\n",
       "\n",
       "// Listen for the removal of the full notebook cells\n",
       "var notebookContainer = gd.closest('#notebook-container');\n",
       "if (notebookContainer) {{\n",
       "    x.observe(notebookContainer, {childList: true});\n",
       "}}\n",
       "\n",
       "// Listen for the clearing of the current output cell\n",
       "var outputEl = gd.closest('.output');\n",
       "if (outputEl) {{\n",
       "    x.observe(outputEl, {childList: true});\n",
       "}}\n",
       "\n",
       "                        })                };                });            </script>        </div>"
      ]
     },
     "metadata": {},
     "output_type": "display_data"
    }
   ],
   "source": [
    "plot_deals(traded.query(\"year >= 2020\"), title='התפלגות זמן מכירה לפי סוג דלק, שנה >= 2020')"
   ]
  },
  {
   "cell_type": "code",
   "execution_count": 61,
   "id": "ad8b7ad5",
   "metadata": {},
   "outputs": [
    {
     "data": {
      "application/vnd.plotly.v1+json": {
       "config": {
        "plotlyServerURL": "https://plot.ly"
       },
       "data": [
        {
         "line": {
          "width": 3
         },
         "mode": "lines",
         "name": "Aiways",
         "type": "scatter",
         "x": [
          0,
          0.22592592592592592,
          0.45185185185185184,
          0.6777777777777778,
          0.9037037037037037,
          1.1296296296296295,
          1.3555555555555556,
          1.5814814814814815,
          1.8074074074074074,
          2.033333333333333,
          2.259259259259259,
          2.485185185185185,
          2.7111111111111112,
          2.937037037037037,
          3.162962962962963,
          3.388888888888889,
          3.6148148148148147,
          3.8407407407407406,
          4.066666666666666,
          4.292592592592593,
          4.518518518518518,
          4.7444444444444445,
          4.97037037037037,
          5.196296296296296,
          5.4222222222222225,
          5.648148148148148,
          5.874074074074074,
          6.1,
          6.325925925925926,
          6.551851851851851,
          6.777777777777778,
          7.003703703703703,
          7.229629629629629,
          7.455555555555556,
          7.681481481481481,
          7.907407407407407,
          8.133333333333333,
          8.35925925925926,
          8.585185185185185,
          8.81111111111111,
          9.037037037037036,
          9.262962962962963,
          9.488888888888889,
          9.714814814814815,
          9.94074074074074,
          10.166666666666666,
          10.392592592592592,
          10.618518518518519,
          10.844444444444445,
          11.07037037037037,
          11.296296296296296,
          11.522222222222222,
          11.748148148148148,
          11.974074074074073,
          12.2,
          12.425925925925926,
          12.651851851851852,
          12.877777777777778,
          13.103703703703703,
          13.329629629629629,
          13.555555555555555,
          13.781481481481482,
          14.007407407407406,
          14.233333333333333,
          14.459259259259259,
          14.685185185185185,
          14.911111111111111,
          15.137037037037036,
          15.362962962962962,
          15.588888888888889,
          15.814814814814815,
          16.04074074074074,
          16.266666666666666,
          16.492592592592594,
          16.71851851851852,
          16.944444444444443,
          17.17037037037037,
          17.396296296296295,
          17.62222222222222,
          17.848148148148148,
          18.074074074074073,
          18.3,
          18.525925925925925,
          18.75185185185185,
          18.977777777777778,
          19.203703703703702,
          19.42962962962963,
          19.655555555555555,
          19.88148148148148,
          20.107407407407408,
          20.333333333333332,
          20.55925925925926,
          20.785185185185185,
          21.01111111111111,
          21.237037037037037,
          21.462962962962962,
          21.68888888888889,
          21.914814814814815,
          22.14074074074074,
          22.366666666666667
         ],
         "y": [
          0.1171875,
          0.1171875,
          0.1171875,
          0.1171875,
          0.1171875,
          0.328125,
          0.328125,
          0.328125,
          0.328125,
          0.375,
          0.40625,
          0.40625,
          0.40625,
          0.40625,
          0.4375,
          0.4375,
          0.4375,
          0.4375,
          0.46875,
          0.4765625,
          0.4765625,
          0.4765625,
          0.4765625,
          0.5390625,
          0.5390625,
          0.5390625,
          0.5390625,
          0.578125,
          0.59375,
          0.59375,
          0.59375,
          0.59375,
          0.6328125,
          0.6328125,
          0.6328125,
          0.6328125,
          0.6484375,
          0.671875,
          0.671875,
          0.671875,
          0.671875,
          0.703125,
          0.703125,
          0.703125,
          0.703125,
          0.734375,
          0.7421875,
          0.7421875,
          0.7421875,
          0.7421875,
          0.765625,
          0.765625,
          0.765625,
          0.765625,
          0.7890625,
          0.7890625,
          0.7890625,
          0.7890625,
          0.796875,
          0.859375,
          0.859375,
          0.859375,
          0.859375,
          0.8671875,
          0.8671875,
          0.8671875,
          0.8671875,
          0.8671875,
          0.875,
          0.875,
          0.875,
          0.875,
          0.8984375,
          0.8984375,
          0.8984375,
          0.8984375,
          0.90625,
          0.90625,
          0.90625,
          0.90625,
          0.90625,
          0.9140625,
          0.9140625,
          0.9140625,
          0.9140625,
          0.9140625,
          0.9453125,
          0.9453125,
          0.9453125,
          0.9453125,
          0.9765625,
          0.9765625,
          0.9765625,
          0.9765625,
          0.9765625,
          0.984375,
          0.984375,
          0.984375,
          0.984375,
          1
         ]
        },
        {
         "line": {
          "width": 3
         },
         "mode": "lines",
         "name": "BYD",
         "type": "scatter",
         "x": [
          0,
          0.07138047138047138,
          0.14276094276094276,
          0.21414141414141413,
          0.2855218855218855,
          0.3569023569023569,
          0.42828282828282827,
          0.49966329966329964,
          0.571043771043771,
          0.6424242424242423,
          0.7138047138047138,
          0.7851851851851852,
          0.8565656565656565,
          0.9279461279461279,
          0.9993265993265993,
          1.0707070707070707,
          1.142087542087542,
          1.2134680134680134,
          1.2848484848484847,
          1.3562289562289562,
          1.4276094276094276,
          1.4989898989898989,
          1.5703703703703704,
          1.6417508417508417,
          1.713131313131313,
          1.7845117845117844,
          1.8558922558922557,
          1.9272727272727272,
          1.9986531986531986,
          2.07003367003367,
          2.1414141414141414,
          2.2127946127946125,
          2.284175084175084,
          2.3555555555555556,
          2.4269360269360267,
          2.4983164983164983,
          2.5696969696969694,
          2.641077441077441,
          2.7124579124579125,
          2.7838383838383836,
          2.855218855218855,
          2.9265993265993266,
          2.9979797979797977,
          3.0693602693602693,
          3.140740740740741,
          3.212121212121212,
          3.2835016835016835,
          3.3548821548821546,
          3.426262626262626,
          3.4976430976430977,
          3.5690235690235688,
          3.6404040404040403,
          3.7117845117845114,
          3.783164983164983,
          3.8545454545454545,
          3.9259259259259256,
          3.997306397306397,
          4.068686868686869,
          4.14006734006734,
          4.211447811447811,
          4.282828282828283,
          4.354208754208754,
          4.425589225589225,
          4.496969696969697,
          4.568350168350168,
          4.639730639730639,
          4.711111111111111,
          4.782491582491582,
          4.8538720538720534,
          4.925252525252525,
          4.9966329966329965,
          5.068013468013468,
          5.139393939393939,
          5.210774410774411,
          5.282154882154882,
          5.353535353535353,
          5.424915824915825,
          5.496296296296296,
          5.567676767676767,
          5.639057239057239,
          5.71043771043771,
          5.781818181818181,
          5.853198653198653,
          5.924579124579124,
          5.9959595959595955,
          6.0673400673400675,
          6.138720538720539,
          6.21010101010101,
          6.281481481481482,
          6.352861952861953,
          6.424242424242424,
          6.495622895622895,
          6.567003367003367,
          6.638383838383838,
          6.709764309764309,
          6.781144781144781,
          6.852525252525252,
          6.923905723905723,
          6.995286195286195,
          7.066666666666666
         ],
         "y": [
          0.3617021276595745,
          0.3617021276595745,
          0.3617021276595745,
          0.3617021276595745,
          0.3617021276595745,
          0.3617021276595745,
          0.3617021276595745,
          0.3617021276595745,
          0.3617021276595745,
          0.3617021276595745,
          0.3617021276595745,
          0.3617021276595745,
          0.3617021276595745,
          0.3617021276595745,
          0.4072948328267478,
          0.867274569402229,
          0.867274569402229,
          0.867274569402229,
          0.867274569402229,
          0.867274569402229,
          0.867274569402229,
          0.867274569402229,
          0.867274569402229,
          0.867274569402229,
          0.867274569402229,
          0.867274569402229,
          0.867274569402229,
          0.867274569402229,
          0.9229989868287741,
          0.9422492401215805,
          0.9422492401215805,
          0.9422492401215805,
          0.9422492401215805,
          0.9422492401215805,
          0.9422492401215805,
          0.9422492401215805,
          0.9422492401215805,
          0.9422492401215805,
          0.9422492401215805,
          0.9422492401215805,
          0.9422492401215805,
          0.9422492401215805,
          0.9422492401215805,
          0.9736575481256332,
          0.9736575481256332,
          0.9736575481256332,
          0.9736575481256332,
          0.9736575481256332,
          0.9736575481256332,
          0.9736575481256332,
          0.9736575481256332,
          0.9736575481256332,
          0.9736575481256332,
          0.9736575481256332,
          0.9736575481256332,
          0.9736575481256332,
          0.9736575481256332,
          0.9858156028368794,
          0.988855116514691,
          0.988855116514691,
          0.988855116514691,
          0.988855116514691,
          0.988855116514691,
          0.988855116514691,
          0.988855116514691,
          0.988855116514691,
          0.988855116514691,
          0.988855116514691,
          0.988855116514691,
          0.988855116514691,
          0.988855116514691,
          0.993920972644377,
          0.993920972644377,
          0.993920972644377,
          0.993920972644377,
          0.993920972644377,
          0.993920972644377,
          0.993920972644377,
          0.993920972644377,
          0.993920972644377,
          0.993920972644377,
          0.993920972644377,
          0.993920972644377,
          0.993920972644377,
          0.993920972644377,
          0.9969604863221885,
          0.9969604863221885,
          0.9969604863221885,
          0.9969604863221885,
          0.9969604863221885,
          0.9969604863221885,
          0.9969604863221885,
          0.9969604863221885,
          0.9969604863221885,
          0.9969604863221885,
          0.9969604863221885,
          0.9969604863221885,
          0.9969604863221885,
          0.9969604863221885,
          1
         ]
        },
        {
         "line": {
          "width": 3
         },
         "mode": "lines",
         "name": "Geely",
         "type": "scatter",
         "x": [
          0,
          0.17373737373737372,
          0.34747474747474744,
          0.5212121212121211,
          0.6949494949494949,
          0.8686868686868686,
          1.0424242424242423,
          1.216161616161616,
          1.3898989898989897,
          1.5636363636363635,
          1.7373737373737372,
          1.911111111111111,
          2.0848484848484845,
          2.2585858585858585,
          2.432323232323232,
          2.606060606060606,
          2.7797979797979795,
          2.953535353535353,
          3.127272727272727,
          3.3010101010101005,
          3.4747474747474745,
          3.648484848484848,
          3.822222222222222,
          3.9959595959595955,
          4.169696969696969,
          4.3434343434343425,
          4.517171717171717,
          4.6909090909090905,
          4.864646464646464,
          5.0383838383838375,
          5.212121212121212,
          5.3858585858585855,
          5.559595959595959,
          5.7333333333333325,
          5.907070707070706,
          6.08080808080808,
          6.254545454545454,
          6.4282828282828275,
          6.602020202020201,
          6.775757575757575,
          6.949494949494949,
          7.1232323232323225,
          7.296969696969696,
          7.4707070707070695,
          7.644444444444444,
          7.8181818181818175,
          7.991919191919191,
          8.165656565656565,
          8.339393939393938,
          8.513131313131312,
          8.686868686868685,
          8.86060606060606,
          9.034343434343434,
          9.208080808080807,
          9.381818181818181,
          9.555555555555555,
          9.729292929292928,
          9.903030303030302,
          10.076767676767675,
          10.25050505050505,
          10.424242424242424,
          10.597979797979797,
          10.771717171717171,
          10.945454545454544,
          11.119191919191918,
          11.292929292929292,
          11.466666666666665,
          11.64040404040404,
          11.814141414141412,
          11.987878787878786,
          12.16161616161616,
          12.335353535353534,
          12.509090909090908,
          12.68282828282828,
          12.856565656565655,
          13.03030303030303,
          13.204040404040402,
          13.377777777777776,
          13.55151515151515,
          13.725252525252523,
          13.898989898989898,
          14.07272727272727,
          14.246464646464645,
          14.42020202020202,
          14.593939393939392,
          14.767676767676766,
          14.941414141414139,
          15.115151515151513,
          15.288888888888888,
          15.46262626262626,
          15.636363636363635,
          15.810101010101008,
          15.983838383838382,
          16.157575757575756,
          16.33131313131313,
          16.5050505050505,
          16.678787878787876,
          16.85252525252525,
          17.026262626262625,
          17.2
         ],
         "y": [
          0.3210023866348449,
          0.3210023866348449,
          0.3210023866348449,
          0.3210023866348449,
          0.3210023866348449,
          0.3210023866348449,
          0.6563245823389021,
          0.6563245823389021,
          0.6563245823389021,
          0.6563245823389021,
          0.6563245823389021,
          0.6563245823389021,
          0.7482100238663485,
          0.7482100238663485,
          0.7482100238663485,
          0.7482100238663485,
          0.7482100238663485,
          0.7482100238663485,
          0.7935560859188544,
          0.7935560859188544,
          0.7935560859188544,
          0.7935560859188544,
          0.7935560859188544,
          0.7935560859188544,
          0.8257756563245824,
          0.8257756563245824,
          0.8257756563245824,
          0.8257756563245824,
          0.8257756563245824,
          0.8365155131264916,
          0.8591885441527446,
          0.8591885441527446,
          0.8591885441527446,
          0.8591885441527446,
          0.8591885441527446,
          0.860381861575179,
          0.8818615751789977,
          0.8818615751789977,
          0.8818615751789977,
          0.8818615751789977,
          0.8818615751789977,
          0.8926014319809069,
          0.9069212410501194,
          0.9069212410501194,
          0.9069212410501194,
          0.9069212410501194,
          0.9069212410501194,
          0.9200477326968974,
          0.9295942720763724,
          0.9295942720763724,
          0.9295942720763724,
          0.9295942720763724,
          0.9295942720763724,
          0.9451073985680191,
          0.9451073985680191,
          0.9451073985680191,
          0.9451073985680191,
          0.9451073985680191,
          0.9451073985680191,
          0.9618138424821002,
          0.9618138424821002,
          0.9618138424821002,
          0.9618138424821002,
          0.9618138424821002,
          0.9618138424821002,
          0.9701670644391408,
          0.9701670644391408,
          0.9701670644391408,
          0.9701670644391408,
          0.9701670644391408,
          0.9701670644391408,
          0.9821002386634845,
          0.9821002386634845,
          0.9821002386634845,
          0.9821002386634845,
          0.9821002386634845,
          0.9916467780429594,
          0.9916467780429594,
          0.9916467780429594,
          0.9916467780429594,
          0.9916467780429594,
          0.9916467780429594,
          0.9976133651551313,
          0.9976133651551313,
          0.9976133651551313,
          0.9976133651551313,
          0.9976133651551313,
          0.9976133651551313,
          0.9988066825775657,
          0.9988066825775657,
          0.9988066825775657,
          0.9988066825775657,
          0.9988066825775657,
          0.9988066825775657,
          0.9988066825775657,
          0.9988066825775657,
          0.9988066825775657,
          0.9988066825775657,
          0.9988066825775657,
          1
         ]
        },
        {
         "line": {
          "width": 3
         },
         "mode": "lines",
         "name": "MG",
         "type": "scatter",
         "x": [
          0,
          0.3993265993265993,
          0.7986531986531986,
          1.197979797979798,
          1.5973063973063972,
          1.9966329966329965,
          2.395959595959596,
          2.795286195286195,
          3.1946127946127945,
          3.5939393939393938,
          3.993265993265993,
          4.392592592592592,
          4.791919191919192,
          5.191245791245791,
          5.59057239057239,
          5.98989898989899,
          6.389225589225589,
          6.788552188552188,
          7.1878787878787875,
          7.587205387205387,
          7.986531986531986,
          8.385858585858585,
          8.785185185185185,
          9.184511784511784,
          9.583838383838383,
          9.983164983164983,
          10.382491582491582,
          10.781818181818181,
          11.18114478114478,
          11.58047138047138,
          11.97979797979798,
          12.379124579124579,
          12.778451178451178,
          13.177777777777777,
          13.577104377104376,
          13.976430976430976,
          14.375757575757575,
          14.775084175084174,
          15.174410774410774,
          15.573737373737373,
          15.973063973063972,
          16.37239057239057,
          16.77171717171717,
          17.17104377104377,
          17.57037037037037,
          17.96969696969697,
          18.369023569023568,
          18.768350168350167,
          19.167676767676767,
          19.567003367003366,
          19.966329966329965,
          20.365656565656565,
          20.764983164983164,
          21.164309764309763,
          21.563636363636363,
          21.962962962962962,
          22.36228956228956,
          22.76161616161616,
          23.16094276094276,
          23.56026936026936,
          23.95959595959596,
          24.358922558922558,
          24.758249158249157,
          25.157575757575756,
          25.556902356902356,
          25.956228956228955,
          26.355555555555554,
          26.754882154882154,
          27.154208754208753,
          27.553535353535352,
          27.95286195286195,
          28.35218855218855,
          28.75151515151515,
          29.15084175084175,
          29.55016835016835,
          29.949494949494948,
          30.348821548821547,
          30.748148148148147,
          31.147474747474746,
          31.546801346801345,
          31.946127946127945,
          32.345454545454544,
          32.74478114478114,
          33.14410774410774,
          33.54343434343434,
          33.94276094276094,
          34.34208754208754,
          34.74141414141414,
          35.14074074074074,
          35.54006734006734,
          35.93939393939394,
          36.33872053872054,
          36.738047138047136,
          37.137373737373736,
          37.536700336700335,
          37.936026936026934,
          38.33535353535353,
          38.73468013468013,
          39.13400673400673,
          39.53333333333333
         ],
         "y": [
          0.01605504587155963,
          0.01605504587155963,
          0.01605504587155963,
          0.025229357798165136,
          0.025229357798165136,
          0.027522935779816512,
          0.03211009174311926,
          0.03211009174311926,
          0.061926605504587146,
          0.061926605504587146,
          0.061926605504587146,
          0.08486238532110091,
          0.08486238532110091,
          0.10321100917431192,
          0.10321100917431192,
          0.10321100917431192,
          0.12844036697247707,
          0.12844036697247707,
          0.15825688073394495,
          0.15825688073394495,
          0.15825688073394495,
          0.18348623853211005,
          0.18348623853211005,
          0.21559633027522934,
          0.21559633027522934,
          0.21559633027522934,
          0.24311926605504586,
          0.24311926605504586,
          0.26834862385321095,
          0.27293577981651373,
          0.27293577981651373,
          0.29587155963302747,
          0.29587155963302747,
          0.3027522935779816,
          0.32568807339449535,
          0.32568807339449535,
          0.36697247706422015,
          0.36697247706422015,
          0.36697247706422015,
          0.4082568807339449,
          0.4082568807339449,
          0.451834862385321,
          0.451834862385321,
          0.451834862385321,
          0.48623853211009166,
          0.48623853211009166,
          0.5229357798165137,
          0.5229357798165137,
          0.5229357798165137,
          0.5596330275229358,
          0.5596330275229358,
          0.5894495412844036,
          0.5894495412844036,
          0.5894495412844036,
          0.6100917431192661,
          0.6100917431192661,
          0.6261467889908257,
          0.6307339449541284,
          0.6307339449541284,
          0.665137614678899,
          0.665137614678899,
          0.6926605504587156,
          0.694954128440367,
          0.694954128440367,
          0.713302752293578,
          0.713302752293578,
          0.738532110091743,
          0.7477064220183486,
          0.7477064220183486,
          0.7821100917431192,
          0.7821100917431192,
          0.7844036697247706,
          0.8119266055045871,
          0.8119266055045871,
          0.8371559633027522,
          0.8371559633027522,
          0.8371559633027522,
          0.8486238532110091,
          0.8486238532110091,
          0.8669724770642201,
          0.8669724770642201,
          0.8669724770642201,
          0.8830275229357797,
          0.8830275229357797,
          0.9082568807339448,
          0.9082568807339448,
          0.9082568807339448,
          0.9288990825688073,
          0.9288990825688073,
          0.9449541284403669,
          0.9472477064220183,
          0.9472477064220183,
          0.9655963302752293,
          0.9655963302752293,
          0.9724770642201834,
          0.9793577981651376,
          0.9793577981651376,
          0.988532110091743,
          0.988532110091743,
          1
         ]
        },
        {
         "line": {
          "width": 3
         },
         "mode": "lines",
         "name": "טסלה",
         "type": "scatter",
         "x": [
          0,
          0.25622895622895625,
          0.5124579124579125,
          0.7686868686868688,
          1.024915824915825,
          1.2811447811447811,
          1.5373737373737375,
          1.7936026936026939,
          2.04983164983165,
          2.306060606060606,
          2.5622895622895623,
          2.818518518518519,
          3.074747474747475,
          3.330976430976431,
          3.5872053872053877,
          3.843434343434344,
          4.0996632996633,
          4.355892255892257,
          4.612121212121212,
          4.868350168350169,
          5.124579124579125,
          5.380808080808081,
          5.637037037037038,
          5.893265993265993,
          6.14949494949495,
          6.405723905723907,
          6.661952861952862,
          6.918181818181819,
          7.1744107744107755,
          7.430639730639731,
          7.686868686868688,
          7.943097643097643,
          8.1993265993266,
          8.455555555555556,
          8.711784511784513,
          8.968013468013469,
          9.224242424242425,
          9.480471380471382,
          9.736700336700338,
          9.992929292929293,
          10.24915824915825,
          10.505387205387207,
          10.761616161616162,
          11.017845117845118,
          11.274074074074075,
          11.530303030303031,
          11.786531986531987,
          12.042760942760944,
          12.2989898989899,
          12.555218855218856,
          12.811447811447813,
          13.067676767676769,
          13.323905723905725,
          13.580134680134682,
          13.836363636363638,
          14.092592592592593,
          14.348821548821551,
          14.605050505050507,
          14.861279461279462,
          15.117508417508418,
          15.373737373737375,
          15.629966329966331,
          15.886195286195287,
          16.142424242424244,
          16.3986531986532,
          16.654882154882156,
          16.91111111111111,
          17.167340067340067,
          17.423569023569026,
          17.679797979797982,
          17.936026936026938,
          18.192255892255893,
          18.44848484848485,
          18.704713804713805,
          18.960942760942764,
          19.21717171717172,
          19.473400673400675,
          19.72962962962963,
          19.985858585858587,
          20.242087542087543,
          20.4983164983165,
          20.754545454545458,
          21.010774410774413,
          21.26700336700337,
          21.523232323232325,
          21.77946127946128,
          22.035690235690236,
          22.291919191919195,
          22.54814814814815,
          22.804377104377107,
          23.060606060606062,
          23.316835016835018,
          23.573063973063974,
          23.829292929292933,
          24.08552188552189,
          24.341750841750844,
          24.5979797979798,
          24.854208754208756,
          25.11043771043771,
          25.36666666666667
         ],
         "y": [
          0.13178855901520636,
          0.13178855901520636,
          0.13178855901520636,
          0.13178855901520636,
          0.18247646632874728,
          0.24112961622013035,
          0.24112961622013035,
          0.24112961622013035,
          0.2809558291093411,
          0.2939898624185373,
          0.2939898624185373,
          0.2939898624185373,
          0.34974656046343233,
          0.34974656046343233,
          0.34974656046343233,
          0.34974656046343233,
          0.41129616220130344,
          0.41346850108616945,
          0.41346850108616945,
          0.41346850108616945,
          0.4605358435916003,
          0.4605358435916003,
          0.4605358435916003,
          0.4605358435916003,
          0.48515568428674877,
          0.48515568428674877,
          0.48515568428674877,
          0.48515568428674877,
          0.5126719768283853,
          0.5126719768283853,
          0.5126719768283853,
          0.5126719768283853,
          0.5430847212165099,
          0.5430847212165099,
          0.5430847212165099,
          0.5430847212165099,
          0.5850832729905866,
          0.5850832729905866,
          0.5850832729905866,
          0.5850832729905866,
          0.6234612599565532,
          0.6234612599565532,
          0.6234612599565532,
          0.6234612599565532,
          0.6654598117306301,
          0.6654598117306301,
          0.6654598117306301,
          0.6654598117306301,
          0.7103548153511948,
          0.7103548153511948,
          0.7103548153511948,
          0.7103548153511948,
          0.7523533671252716,
          0.7523533671252716,
          0.7523533671252716,
          0.7523533671252716,
          0.7871107892831283,
          0.7871107892831283,
          0.7871107892831283,
          0.7871107892831283,
          0.8240405503258509,
          0.8240405503258509,
          0.8240405503258509,
          0.8240405503258509,
          0.8486603910209993,
          0.8486603910209993,
          0.8486603910209993,
          0.8486603910209993,
          0.8682114409847936,
          0.8682114409847936,
          0.8682114409847936,
          0.8682114409847936,
          0.8942795076031862,
          0.8942795076031862,
          0.8942795076031862,
          0.8942795076031862,
          0.9203475742215786,
          0.9203475742215786,
          0.9203475742215786,
          0.9203475742215786,
          0.9471397538015931,
          0.9471397538015931,
          0.9471397538015931,
          0.9565532223026793,
          0.9674149167270095,
          0.9674149167270095,
          0.9674149167270095,
          0.9674149167270095,
          0.9869659666908038,
          0.9869659666908038,
          0.9869659666908038,
          0.9876900796524258,
          0.994207096307024,
          0.994207096307024,
          0.994207096307024,
          0.997827661115134,
          0.997827661115134,
          0.997827661115134,
          0.997827661115134,
          1
         ]
        },
        {
         "line": {
          "width": 3
         },
         "mode": "lines",
         "name": "יונדאי",
         "type": "scatter",
         "x": [
          0,
          0.3377104377104377,
          0.6754208754208754,
          1.013131313131313,
          1.3508417508417507,
          1.6885521885521884,
          2.026262626262626,
          2.363973063973064,
          2.7016835016835015,
          3.039393939393939,
          3.3771043771043767,
          3.7148148148148143,
          4.052525252525252,
          4.39023569023569,
          4.727946127946128,
          5.065656565656565,
          5.403367003367003,
          5.741077441077441,
          6.078787878787878,
          6.416498316498316,
          6.754208754208753,
          7.0919191919191915,
          7.429629629629629,
          7.767340067340067,
          8.105050505050505,
          8.442760942760943,
          8.78047138047138,
          9.118181818181817,
          9.455892255892255,
          9.793602693602693,
          10.13131313131313,
          10.469023569023568,
          10.806734006734006,
          11.144444444444444,
          11.482154882154882,
          11.819865319865318,
          12.157575757575756,
          12.495286195286194,
          12.832996632996633,
          13.170707070707069,
          13.508417508417507,
          13.846127946127945,
          14.183838383838383,
          14.521548821548821,
          14.859259259259257,
          15.196969696969695,
          15.534680134680134,
          15.872390572390572,
          16.21010101010101,
          16.547811447811448,
          16.885521885521886,
          17.22323232323232,
          17.56094276094276,
          17.898653198653196,
          18.236363636363635,
          18.574074074074073,
          18.91178451178451,
          19.24949494949495,
          19.587205387205387,
          19.924915824915825,
          20.26262626262626,
          20.600336700336698,
          20.938047138047136,
          21.275757575757574,
          21.61346801346801,
          21.95117845117845,
          22.288888888888888,
          22.626599326599326,
          22.964309764309764,
          23.3020202020202,
          23.639730639730637,
          23.977441077441075,
          24.315151515151513,
          24.65286195286195,
          24.99057239057239,
          25.328282828282827,
          25.665993265993265,
          26.003703703703703,
          26.341414141414138,
          26.679124579124576,
          27.016835016835014,
          27.354545454545452,
          27.69225589225589,
          28.029966329966328,
          28.367676767676766,
          28.705387205387204,
          29.043097643097642,
          29.380808080808077,
          29.718518518518515,
          30.056228956228953,
          30.39393939393939,
          30.73164983164983,
          31.069360269360267,
          31.407070707070705,
          31.744781144781143,
          32.08249158249158,
          32.42020202020202,
          32.757912457912454,
          33.095622895622895,
          33.43333333333333
         ],
         "y": [
          0.3464285714285714,
          0.3464285714285714,
          0.3464285714285714,
          0.3964285714285714,
          0.5696428571428571,
          0.5696428571428571,
          0.6,
          0.6339285714285714,
          0.6339285714285714,
          0.6482142857142857,
          0.6642857142857143,
          0.6642857142857143,
          0.6714285714285714,
          0.6875,
          0.6875,
          0.6910714285714286,
          0.7107142857142856,
          0.7107142857142856,
          0.7214285714285714,
          0.7357142857142857,
          0.7357142857142857,
          0.7410714285714285,
          0.7589285714285714,
          0.7589285714285714,
          0.7732142857142856,
          0.7821428571428571,
          0.7821428571428571,
          0.7946428571428571,
          0.8160714285714286,
          0.8160714285714286,
          0.8214285714285714,
          0.8410714285714286,
          0.8410714285714286,
          0.8535714285714285,
          0.8624999999999999,
          0.8624999999999999,
          0.8624999999999999,
          0.9089285714285714,
          0.9089285714285714,
          0.9178571428571428,
          0.9321428571428572,
          0.9321428571428572,
          0.9392857142857143,
          0.9428571428571428,
          0.9428571428571428,
          0.95,
          0.9571428571428571,
          0.9571428571428571,
          0.9571428571428571,
          0.9589285714285714,
          0.9589285714285714,
          0.9660714285714286,
          0.9732142857142857,
          0.9732142857142857,
          0.9732142857142857,
          0.975,
          0.975,
          0.9839285714285714,
          0.9839285714285714,
          0.9839285714285714,
          0.9839285714285714,
          0.9892857142857142,
          0.9892857142857142,
          0.9910714285714285,
          0.9910714285714285,
          0.9910714285714285,
          0.9910714285714285,
          0.9928571428571428,
          0.9928571428571428,
          0.9928571428571428,
          0.9928571428571428,
          0.9928571428571428,
          0.9928571428571428,
          0.9928571428571428,
          0.9928571428571428,
          0.9928571428571428,
          0.9928571428571428,
          0.9928571428571428,
          0.994642857142857,
          0.994642857142857,
          0.994642857142857,
          0.994642857142857,
          0.994642857142857,
          0.994642857142857,
          0.9964285714285714,
          0.9964285714285714,
          0.9964285714285714,
          0.9964285714285714,
          0.9964285714285714,
          0.9964285714285714,
          0.9964285714285714,
          0.9964285714285714,
          0.9964285714285714,
          0.9964285714285714,
          0.9964285714285714,
          0.9964285714285714,
          0.9964285714285714,
          0.9964285714285714,
          0.9964285714285714,
          1
         ]
        },
        {
         "line": {
          "width": 3
         },
         "mode": "lines",
         "name": "מרצדס",
         "type": "scatter",
         "x": [
          0,
          0.2865319865319865,
          0.573063973063973,
          0.8595959595959596,
          1.146127946127946,
          1.4326599326599325,
          1.7191919191919192,
          2.005723905723906,
          2.292255892255892,
          2.5787878787878786,
          2.865319865319865,
          3.151851851851852,
          3.4383838383838383,
          3.7249158249158247,
          4.011447811447812,
          4.297979797979798,
          4.584511784511784,
          4.871043771043771,
          5.157575757575757,
          5.444107744107744,
          5.73063973063973,
          6.017171717171717,
          6.303703703703704,
          6.59023569023569,
          6.876767676767677,
          7.1632996632996635,
          7.4498316498316495,
          7.736363636363636,
          8.022895622895623,
          8.30942760942761,
          8.595959595959595,
          8.882491582491582,
          9.169023569023569,
          9.455555555555556,
          9.742087542087543,
          10.028619528619528,
          10.315151515151515,
          10.601683501683501,
          10.888215488215488,
          11.174747474747475,
          11.46127946127946,
          11.747811447811447,
          12.034343434343434,
          12.32087542087542,
          12.607407407407408,
          12.893939393939394,
          13.18047138047138,
          13.467003367003366,
          13.753535353535353,
          14.04006734006734,
          14.326599326599327,
          14.613131313131312,
          14.899663299663299,
          15.186195286195286,
          15.472727272727273,
          15.75925925925926,
          16.045791245791246,
          16.332323232323233,
          16.61885521885522,
          16.905387205387203,
          17.19191919191919,
          17.478451178451177,
          17.764983164983164,
          18.05151515151515,
          18.338047138047138,
          18.624579124579125,
          18.91111111111111,
          19.1976430976431,
          19.484175084175085,
          19.770707070707072,
          20.057239057239055,
          20.343771043771042,
          20.63030303030303,
          20.916835016835016,
          21.203367003367003,
          21.48989898989899,
          21.776430976430976,
          22.062962962962963,
          22.34949494949495,
          22.636026936026937,
          22.92255892255892,
          23.209090909090907,
          23.495622895622894,
          23.78215488215488,
          24.068686868686868,
          24.355218855218855,
          24.64175084175084,
          24.92828282828283,
          25.214814814814815,
          25.501346801346802,
          25.78787878787879,
          26.074410774410772,
          26.36094276094276,
          26.647474747474746,
          26.934006734006733,
          27.22053872053872,
          27.507070707070707,
          27.793602693602693,
          28.08013468013468,
          28.366666666666667
         ],
         "y": [
          0.05536332179930795,
          0.05536332179930795,
          0.05536332179930795,
          0.05536332179930795,
          0.2041522491349481,
          0.2041522491349481,
          0.2041522491349481,
          0.2491349480968858,
          0.32525951557093424,
          0.32525951557093424,
          0.32525951557093424,
          0.39446366782006914,
          0.39446366782006914,
          0.39446366782006914,
          0.42214532871972316,
          0.48442906574394456,
          0.48442906574394456,
          0.48442906574394456,
          0.5570934256055363,
          0.5570934256055363,
          0.5570934256055363,
          0.5570934256055363,
          0.6055363321799307,
          0.6055363321799307,
          0.6055363321799307,
          0.7162629757785467,
          0.7231833910034602,
          0.7231833910034602,
          0.7231833910034602,
          0.7889273356401384,
          0.7889273356401384,
          0.7889273356401384,
          0.8166089965397924,
          0.8235294117647058,
          0.8235294117647058,
          0.8235294117647058,
          0.8754325259515571,
          0.8754325259515571,
          0.8754325259515571,
          0.9065743944636678,
          0.9065743944636678,
          0.9065743944636678,
          0.9065743944636678,
          0.9238754325259515,
          0.9238754325259515,
          0.9238754325259515,
          0.9238754325259515,
          0.930795847750865,
          0.930795847750865,
          0.930795847750865,
          0.9480968858131488,
          0.9480968858131488,
          0.9480968858131488,
          0.9480968858131488,
          0.9515570934256055,
          0.9515570934256055,
          0.9515570934256055,
          0.958477508650519,
          0.958477508650519,
          0.958477508650519,
          0.958477508650519,
          0.9619377162629758,
          0.9619377162629758,
          0.9619377162629758,
          0.9653979238754324,
          0.9653979238754324,
          0.9653979238754324,
          0.9653979238754324,
          0.9757785467128027,
          0.9757785467128027,
          0.9757785467128027,
          0.9826989619377162,
          0.9826989619377162,
          0.9826989619377162,
          0.9826989619377162,
          0.9896193771626297,
          0.9896193771626297,
          0.9896193771626297,
          0.9896193771626297,
          0.9896193771626297,
          0.9896193771626297,
          0.9896193771626297,
          0.9930795847750865,
          0.9930795847750865,
          0.9930795847750865,
          0.9930795847750865,
          0.9930795847750865,
          0.9930795847750865,
          0.9930795847750865,
          0.9930795847750865,
          0.9930795847750865,
          0.9930795847750865,
          0.9965397923875432,
          0.9965397923875432,
          0.9965397923875432,
          0.9965397923875432,
          0.9965397923875432,
          0.9965397923875432,
          0.9965397923875432,
          1
         ]
        },
        {
         "line": {
          "width": 3
         },
         "mode": "lines",
         "name": "סקודה",
         "type": "scatter",
         "x": [
          0,
          0.18484848484848485,
          0.3696969696969697,
          0.5545454545454546,
          0.7393939393939394,
          0.9242424242424242,
          1.1090909090909091,
          1.293939393939394,
          1.4787878787878788,
          1.6636363636363636,
          1.8484848484848484,
          2.033333333333333,
          2.2181818181818183,
          2.403030303030303,
          2.587878787878788,
          2.7727272727272725,
          2.9575757575757575,
          3.1424242424242426,
          3.327272727272727,
          3.512121212121212,
          3.696969696969697,
          3.881818181818182,
          4.066666666666666,
          4.251515151515151,
          4.4363636363636365,
          4.621212121212121,
          4.806060606060606,
          4.990909090909091,
          5.175757575757576,
          5.36060606060606,
          5.545454545454545,
          5.7303030303030305,
          5.915151515151515,
          6.1,
          6.284848484848485,
          6.46969696969697,
          6.654545454545454,
          6.839393939393939,
          7.024242424242424,
          7.209090909090909,
          7.393939393939394,
          7.578787878787879,
          7.763636363636364,
          7.948484848484848,
          8.133333333333333,
          8.318181818181818,
          8.503030303030302,
          8.687878787878788,
          8.872727272727273,
          9.057575757575757,
          9.242424242424242,
          9.427272727272728,
          9.612121212121211,
          9.796969696969697,
          9.981818181818182,
          10.166666666666666,
          10.351515151515152,
          10.536363636363637,
          10.72121212121212,
          10.906060606060606,
          11.09090909090909,
          11.275757575757575,
          11.460606060606061,
          11.645454545454545,
          11.83030303030303,
          12.015151515151516,
          12.2,
          12.384848484848485,
          12.56969696969697,
          12.754545454545454,
          12.93939393939394,
          13.124242424242423,
          13.309090909090909,
          13.493939393939394,
          13.678787878787878,
          13.863636363636363,
          14.048484848484849,
          14.233333333333333,
          14.418181818181818,
          14.603030303030303,
          14.787878787878787,
          14.972727272727273,
          15.157575757575758,
          15.342424242424242,
          15.527272727272727,
          15.712121212121211,
          15.896969696969697,
          16.081818181818182,
          16.266666666666666,
          16.451515151515153,
          16.636363636363637,
          16.82121212121212,
          17.006060606060604,
          17.19090909090909,
          17.375757575757575,
          17.56060606060606,
          17.745454545454546,
          17.93030303030303,
          18.115151515151513,
          18.3
         ],
         "y": [
          0.24043715846994537,
          0.24043715846994537,
          0.24043715846994537,
          0.24043715846994537,
          0.24043715846994537,
          0.24043715846994537,
          0.5136612021857924,
          0.5136612021857924,
          0.5136612021857924,
          0.5136612021857924,
          0.5136612021857924,
          0.5846994535519126,
          0.5956284153005464,
          0.5956284153005464,
          0.5956284153005464,
          0.5956284153005464,
          0.5956284153005464,
          0.6885245901639344,
          0.6885245901639344,
          0.6885245901639344,
          0.6885245901639344,
          0.6885245901639344,
          0.73224043715847,
          0.7650273224043715,
          0.7650273224043715,
          0.7650273224043715,
          0.7650273224043715,
          0.7650273224043715,
          0.819672131147541,
          0.819672131147541,
          0.819672131147541,
          0.819672131147541,
          0.819672131147541,
          0.8469945355191257,
          0.8579234972677595,
          0.8579234972677595,
          0.8579234972677595,
          0.8579234972677595,
          0.8579234972677595,
          0.8743169398907104,
          0.8743169398907104,
          0.8743169398907104,
          0.8743169398907104,
          0.8743169398907104,
          0.8961748633879781,
          0.9016393442622951,
          0.9016393442622951,
          0.9016393442622951,
          0.9016393442622951,
          0.9016393442622951,
          0.9398907103825137,
          0.9398907103825137,
          0.9398907103825137,
          0.9398907103825137,
          0.9398907103825137,
          0.9453551912568307,
          0.9453551912568307,
          0.9453551912568307,
          0.9453551912568307,
          0.9453551912568307,
          0.9453551912568307,
          0.9562841530054644,
          0.9562841530054644,
          0.9562841530054644,
          0.9562841530054644,
          0.9562841530054644,
          0.9562841530054644,
          0.9562841530054644,
          0.9562841530054644,
          0.9562841530054644,
          0.9562841530054644,
          0.9617486338797814,
          0.9726775956284153,
          0.9726775956284153,
          0.9726775956284153,
          0.9726775956284153,
          0.9726775956284153,
          0.9726775956284153,
          0.9726775956284153,
          0.9726775956284153,
          0.9726775956284153,
          0.9726775956284153,
          0.9726775956284153,
          0.9781420765027322,
          0.9781420765027322,
          0.9781420765027322,
          0.9781420765027322,
          0.9781420765027322,
          0.9890710382513661,
          0.9890710382513661,
          0.9890710382513661,
          0.9890710382513661,
          0.9890710382513661,
          0.9890710382513661,
          0.9890710382513661,
          0.9890710382513661,
          0.9890710382513661,
          0.9890710382513661,
          0.9890710382513661,
          1
         ]
        }
       ],
       "layout": {
        "template": {
         "data": {
          "bar": [
           {
            "error_x": {
             "color": "#2a3f5f"
            },
            "error_y": {
             "color": "#2a3f5f"
            },
            "marker": {
             "line": {
              "color": "#E5ECF6",
              "width": 0.5
             },
             "pattern": {
              "fillmode": "overlay",
              "size": 10,
              "solidity": 0.2
             }
            },
            "type": "bar"
           }
          ],
          "barpolar": [
           {
            "marker": {
             "line": {
              "color": "#E5ECF6",
              "width": 0.5
             },
             "pattern": {
              "fillmode": "overlay",
              "size": 10,
              "solidity": 0.2
             }
            },
            "type": "barpolar"
           }
          ],
          "carpet": [
           {
            "aaxis": {
             "endlinecolor": "#2a3f5f",
             "gridcolor": "white",
             "linecolor": "white",
             "minorgridcolor": "white",
             "startlinecolor": "#2a3f5f"
            },
            "baxis": {
             "endlinecolor": "#2a3f5f",
             "gridcolor": "white",
             "linecolor": "white",
             "minorgridcolor": "white",
             "startlinecolor": "#2a3f5f"
            },
            "type": "carpet"
           }
          ],
          "choropleth": [
           {
            "colorbar": {
             "outlinewidth": 0,
             "ticks": ""
            },
            "type": "choropleth"
           }
          ],
          "contour": [
           {
            "colorbar": {
             "outlinewidth": 0,
             "ticks": ""
            },
            "colorscale": [
             [
              0,
              "#0d0887"
             ],
             [
              0.1111111111111111,
              "#46039f"
             ],
             [
              0.2222222222222222,
              "#7201a8"
             ],
             [
              0.3333333333333333,
              "#9c179e"
             ],
             [
              0.4444444444444444,
              "#bd3786"
             ],
             [
              0.5555555555555556,
              "#d8576b"
             ],
             [
              0.6666666666666666,
              "#ed7953"
             ],
             [
              0.7777777777777778,
              "#fb9f3a"
             ],
             [
              0.8888888888888888,
              "#fdca26"
             ],
             [
              1,
              "#f0f921"
             ]
            ],
            "type": "contour"
           }
          ],
          "contourcarpet": [
           {
            "colorbar": {
             "outlinewidth": 0,
             "ticks": ""
            },
            "type": "contourcarpet"
           }
          ],
          "heatmap": [
           {
            "colorbar": {
             "outlinewidth": 0,
             "ticks": ""
            },
            "colorscale": [
             [
              0,
              "#0d0887"
             ],
             [
              0.1111111111111111,
              "#46039f"
             ],
             [
              0.2222222222222222,
              "#7201a8"
             ],
             [
              0.3333333333333333,
              "#9c179e"
             ],
             [
              0.4444444444444444,
              "#bd3786"
             ],
             [
              0.5555555555555556,
              "#d8576b"
             ],
             [
              0.6666666666666666,
              "#ed7953"
             ],
             [
              0.7777777777777778,
              "#fb9f3a"
             ],
             [
              0.8888888888888888,
              "#fdca26"
             ],
             [
              1,
              "#f0f921"
             ]
            ],
            "type": "heatmap"
           }
          ],
          "heatmapgl": [
           {
            "colorbar": {
             "outlinewidth": 0,
             "ticks": ""
            },
            "colorscale": [
             [
              0,
              "#0d0887"
             ],
             [
              0.1111111111111111,
              "#46039f"
             ],
             [
              0.2222222222222222,
              "#7201a8"
             ],
             [
              0.3333333333333333,
              "#9c179e"
             ],
             [
              0.4444444444444444,
              "#bd3786"
             ],
             [
              0.5555555555555556,
              "#d8576b"
             ],
             [
              0.6666666666666666,
              "#ed7953"
             ],
             [
              0.7777777777777778,
              "#fb9f3a"
             ],
             [
              0.8888888888888888,
              "#fdca26"
             ],
             [
              1,
              "#f0f921"
             ]
            ],
            "type": "heatmapgl"
           }
          ],
          "histogram": [
           {
            "marker": {
             "pattern": {
              "fillmode": "overlay",
              "size": 10,
              "solidity": 0.2
             }
            },
            "type": "histogram"
           }
          ],
          "histogram2d": [
           {
            "colorbar": {
             "outlinewidth": 0,
             "ticks": ""
            },
            "colorscale": [
             [
              0,
              "#0d0887"
             ],
             [
              0.1111111111111111,
              "#46039f"
             ],
             [
              0.2222222222222222,
              "#7201a8"
             ],
             [
              0.3333333333333333,
              "#9c179e"
             ],
             [
              0.4444444444444444,
              "#bd3786"
             ],
             [
              0.5555555555555556,
              "#d8576b"
             ],
             [
              0.6666666666666666,
              "#ed7953"
             ],
             [
              0.7777777777777778,
              "#fb9f3a"
             ],
             [
              0.8888888888888888,
              "#fdca26"
             ],
             [
              1,
              "#f0f921"
             ]
            ],
            "type": "histogram2d"
           }
          ],
          "histogram2dcontour": [
           {
            "colorbar": {
             "outlinewidth": 0,
             "ticks": ""
            },
            "colorscale": [
             [
              0,
              "#0d0887"
             ],
             [
              0.1111111111111111,
              "#46039f"
             ],
             [
              0.2222222222222222,
              "#7201a8"
             ],
             [
              0.3333333333333333,
              "#9c179e"
             ],
             [
              0.4444444444444444,
              "#bd3786"
             ],
             [
              0.5555555555555556,
              "#d8576b"
             ],
             [
              0.6666666666666666,
              "#ed7953"
             ],
             [
              0.7777777777777778,
              "#fb9f3a"
             ],
             [
              0.8888888888888888,
              "#fdca26"
             ],
             [
              1,
              "#f0f921"
             ]
            ],
            "type": "histogram2dcontour"
           }
          ],
          "mesh3d": [
           {
            "colorbar": {
             "outlinewidth": 0,
             "ticks": ""
            },
            "type": "mesh3d"
           }
          ],
          "parcoords": [
           {
            "line": {
             "colorbar": {
              "outlinewidth": 0,
              "ticks": ""
             }
            },
            "type": "parcoords"
           }
          ],
          "pie": [
           {
            "automargin": true,
            "type": "pie"
           }
          ],
          "scatter": [
           {
            "fillpattern": {
             "fillmode": "overlay",
             "size": 10,
             "solidity": 0.2
            },
            "type": "scatter"
           }
          ],
          "scatter3d": [
           {
            "line": {
             "colorbar": {
              "outlinewidth": 0,
              "ticks": ""
             }
            },
            "marker": {
             "colorbar": {
              "outlinewidth": 0,
              "ticks": ""
             }
            },
            "type": "scatter3d"
           }
          ],
          "scattercarpet": [
           {
            "marker": {
             "colorbar": {
              "outlinewidth": 0,
              "ticks": ""
             }
            },
            "type": "scattercarpet"
           }
          ],
          "scattergeo": [
           {
            "marker": {
             "colorbar": {
              "outlinewidth": 0,
              "ticks": ""
             }
            },
            "type": "scattergeo"
           }
          ],
          "scattergl": [
           {
            "marker": {
             "colorbar": {
              "outlinewidth": 0,
              "ticks": ""
             }
            },
            "type": "scattergl"
           }
          ],
          "scattermapbox": [
           {
            "marker": {
             "colorbar": {
              "outlinewidth": 0,
              "ticks": ""
             }
            },
            "type": "scattermapbox"
           }
          ],
          "scatterpolar": [
           {
            "marker": {
             "colorbar": {
              "outlinewidth": 0,
              "ticks": ""
             }
            },
            "type": "scatterpolar"
           }
          ],
          "scatterpolargl": [
           {
            "marker": {
             "colorbar": {
              "outlinewidth": 0,
              "ticks": ""
             }
            },
            "type": "scatterpolargl"
           }
          ],
          "scatterternary": [
           {
            "marker": {
             "colorbar": {
              "outlinewidth": 0,
              "ticks": ""
             }
            },
            "type": "scatterternary"
           }
          ],
          "surface": [
           {
            "colorbar": {
             "outlinewidth": 0,
             "ticks": ""
            },
            "colorscale": [
             [
              0,
              "#0d0887"
             ],
             [
              0.1111111111111111,
              "#46039f"
             ],
             [
              0.2222222222222222,
              "#7201a8"
             ],
             [
              0.3333333333333333,
              "#9c179e"
             ],
             [
              0.4444444444444444,
              "#bd3786"
             ],
             [
              0.5555555555555556,
              "#d8576b"
             ],
             [
              0.6666666666666666,
              "#ed7953"
             ],
             [
              0.7777777777777778,
              "#fb9f3a"
             ],
             [
              0.8888888888888888,
              "#fdca26"
             ],
             [
              1,
              "#f0f921"
             ]
            ],
            "type": "surface"
           }
          ],
          "table": [
           {
            "cells": {
             "fill": {
              "color": "#EBF0F8"
             },
             "line": {
              "color": "white"
             }
            },
            "header": {
             "fill": {
              "color": "#C8D4E3"
             },
             "line": {
              "color": "white"
             }
            },
            "type": "table"
           }
          ]
         },
         "layout": {
          "annotationdefaults": {
           "arrowcolor": "#2a3f5f",
           "arrowhead": 0,
           "arrowwidth": 1
          },
          "autotypenumbers": "strict",
          "coloraxis": {
           "colorbar": {
            "outlinewidth": 0,
            "ticks": ""
           }
          },
          "colorscale": {
           "diverging": [
            [
             0,
             "#8e0152"
            ],
            [
             0.1,
             "#c51b7d"
            ],
            [
             0.2,
             "#de77ae"
            ],
            [
             0.3,
             "#f1b6da"
            ],
            [
             0.4,
             "#fde0ef"
            ],
            [
             0.5,
             "#f7f7f7"
            ],
            [
             0.6,
             "#e6f5d0"
            ],
            [
             0.7,
             "#b8e186"
            ],
            [
             0.8,
             "#7fbc41"
            ],
            [
             0.9,
             "#4d9221"
            ],
            [
             1,
             "#276419"
            ]
           ],
           "sequential": [
            [
             0,
             "#0d0887"
            ],
            [
             0.1111111111111111,
             "#46039f"
            ],
            [
             0.2222222222222222,
             "#7201a8"
            ],
            [
             0.3333333333333333,
             "#9c179e"
            ],
            [
             0.4444444444444444,
             "#bd3786"
            ],
            [
             0.5555555555555556,
             "#d8576b"
            ],
            [
             0.6666666666666666,
             "#ed7953"
            ],
            [
             0.7777777777777778,
             "#fb9f3a"
            ],
            [
             0.8888888888888888,
             "#fdca26"
            ],
            [
             1,
             "#f0f921"
            ]
           ],
           "sequentialminus": [
            [
             0,
             "#0d0887"
            ],
            [
             0.1111111111111111,
             "#46039f"
            ],
            [
             0.2222222222222222,
             "#7201a8"
            ],
            [
             0.3333333333333333,
             "#9c179e"
            ],
            [
             0.4444444444444444,
             "#bd3786"
            ],
            [
             0.5555555555555556,
             "#d8576b"
            ],
            [
             0.6666666666666666,
             "#ed7953"
            ],
            [
             0.7777777777777778,
             "#fb9f3a"
            ],
            [
             0.8888888888888888,
             "#fdca26"
            ],
            [
             1,
             "#f0f921"
            ]
           ]
          },
          "colorway": [
           "#636efa",
           "#EF553B",
           "#00cc96",
           "#ab63fa",
           "#FFA15A",
           "#19d3f3",
           "#FF6692",
           "#B6E880",
           "#FF97FF",
           "#FECB52"
          ],
          "font": {
           "color": "#2a3f5f"
          },
          "geo": {
           "bgcolor": "white",
           "lakecolor": "white",
           "landcolor": "#E5ECF6",
           "showlakes": true,
           "showland": true,
           "subunitcolor": "white"
          },
          "hoverlabel": {
           "align": "left"
          },
          "hovermode": "closest",
          "mapbox": {
           "style": "light"
          },
          "paper_bgcolor": "white",
          "plot_bgcolor": "#E5ECF6",
          "polar": {
           "angularaxis": {
            "gridcolor": "white",
            "linecolor": "white",
            "ticks": ""
           },
           "bgcolor": "#E5ECF6",
           "radialaxis": {
            "gridcolor": "white",
            "linecolor": "white",
            "ticks": ""
           }
          },
          "scene": {
           "xaxis": {
            "backgroundcolor": "#E5ECF6",
            "gridcolor": "white",
            "gridwidth": 2,
            "linecolor": "white",
            "showbackground": true,
            "ticks": "",
            "zerolinecolor": "white"
           },
           "yaxis": {
            "backgroundcolor": "#E5ECF6",
            "gridcolor": "white",
            "gridwidth": 2,
            "linecolor": "white",
            "showbackground": true,
            "ticks": "",
            "zerolinecolor": "white"
           },
           "zaxis": {
            "backgroundcolor": "#E5ECF6",
            "gridcolor": "white",
            "gridwidth": 2,
            "linecolor": "white",
            "showbackground": true,
            "ticks": "",
            "zerolinecolor": "white"
           }
          },
          "shapedefaults": {
           "line": {
            "color": "#2a3f5f"
           }
          },
          "ternary": {
           "aaxis": {
            "gridcolor": "white",
            "linecolor": "white",
            "ticks": ""
           },
           "baxis": {
            "gridcolor": "white",
            "linecolor": "white",
            "ticks": ""
           },
           "bgcolor": "#E5ECF6",
           "caxis": {
            "gridcolor": "white",
            "linecolor": "white",
            "ticks": ""
           }
          },
          "title": {
           "x": 0.05
          },
          "xaxis": {
           "automargin": true,
           "gridcolor": "white",
           "linecolor": "white",
           "ticks": "",
           "title": {
            "standoff": 15
           },
           "zerolinecolor": "white",
           "zerolinewidth": 2
          },
          "yaxis": {
           "automargin": true,
           "gridcolor": "white",
           "linecolor": "white",
           "ticks": "",
           "title": {
            "standoff": 15
           },
           "zerolinecolor": "white",
           "zerolinewidth": 2
          }
         }
        },
        "title": {
         "text": "Months to trade by make, electric year >= 2020"
        },
        "xaxis": {
         "title": {
          "text": "משך זמן מהקניה בחודשים"
         }
        },
        "yaxis": {
         "title": {
          "text": "הסתברות מכירה עד תום תקופה"
         }
        }
       }
      },
      "text/html": [
       "<div>                            <div id=\"9f53e696-7beb-4c6c-b428-f30808b23e26\" class=\"plotly-graph-div\" style=\"height:525px; width:100%;\"></div>            <script type=\"text/javascript\">                require([\"plotly\"], function(Plotly) {                    window.PLOTLYENV=window.PLOTLYENV || {};                                    if (document.getElementById(\"9f53e696-7beb-4c6c-b428-f30808b23e26\")) {                    Plotly.newPlot(                        \"9f53e696-7beb-4c6c-b428-f30808b23e26\",                        [{\"mode\":\"lines\",\"name\":\"Aiways\",\"x\":[0.0,0.22592592592592592,0.45185185185185184,0.6777777777777778,0.9037037037037037,1.1296296296296295,1.3555555555555556,1.5814814814814815,1.8074074074074074,2.033333333333333,2.259259259259259,2.485185185185185,2.7111111111111112,2.937037037037037,3.162962962962963,3.388888888888889,3.6148148148148147,3.8407407407407406,4.066666666666666,4.292592592592593,4.518518518518518,4.7444444444444445,4.97037037037037,5.196296296296296,5.4222222222222225,5.648148148148148,5.874074074074074,6.1,6.325925925925926,6.551851851851851,6.777777777777778,7.003703703703703,7.229629629629629,7.455555555555556,7.681481481481481,7.907407407407407,8.133333333333333,8.35925925925926,8.585185185185185,8.81111111111111,9.037037037037036,9.262962962962963,9.488888888888889,9.714814814814815,9.94074074074074,10.166666666666666,10.392592592592592,10.618518518518519,10.844444444444445,11.07037037037037,11.296296296296296,11.522222222222222,11.748148148148148,11.974074074074073,12.2,12.425925925925926,12.651851851851852,12.877777777777778,13.103703703703703,13.329629629629629,13.555555555555555,13.781481481481482,14.007407407407406,14.233333333333333,14.459259259259259,14.685185185185185,14.911111111111111,15.137037037037036,15.362962962962962,15.588888888888889,15.814814814814815,16.04074074074074,16.266666666666666,16.492592592592594,16.71851851851852,16.944444444444443,17.17037037037037,17.396296296296295,17.62222222222222,17.848148148148148,18.074074074074073,18.3,18.525925925925925,18.75185185185185,18.977777777777778,19.203703703703702,19.42962962962963,19.655555555555555,19.88148148148148,20.107407407407408,20.333333333333332,20.55925925925926,20.785185185185185,21.01111111111111,21.237037037037037,21.462962962962962,21.68888888888889,21.914814814814815,22.14074074074074,22.366666666666667],\"y\":[0.1171875,0.1171875,0.1171875,0.1171875,0.1171875,0.328125,0.328125,0.328125,0.328125,0.375,0.40625,0.40625,0.40625,0.40625,0.4375,0.4375,0.4375,0.4375,0.46875,0.4765625,0.4765625,0.4765625,0.4765625,0.5390625,0.5390625,0.5390625,0.5390625,0.578125,0.59375,0.59375,0.59375,0.59375,0.6328125,0.6328125,0.6328125,0.6328125,0.6484375,0.671875,0.671875,0.671875,0.671875,0.703125,0.703125,0.703125,0.703125,0.734375,0.7421875,0.7421875,0.7421875,0.7421875,0.765625,0.765625,0.765625,0.765625,0.7890625,0.7890625,0.7890625,0.7890625,0.796875,0.859375,0.859375,0.859375,0.859375,0.8671875,0.8671875,0.8671875,0.8671875,0.8671875,0.875,0.875,0.875,0.875,0.8984375,0.8984375,0.8984375,0.8984375,0.90625,0.90625,0.90625,0.90625,0.90625,0.9140625,0.9140625,0.9140625,0.9140625,0.9140625,0.9453125,0.9453125,0.9453125,0.9453125,0.9765625,0.9765625,0.9765625,0.9765625,0.9765625,0.984375,0.984375,0.984375,0.984375,1.0],\"type\":\"scatter\",\"line\":{\"width\":3}},{\"mode\":\"lines\",\"name\":\"BYD\",\"x\":[0.0,0.07138047138047138,0.14276094276094276,0.21414141414141413,0.2855218855218855,0.3569023569023569,0.42828282828282827,0.49966329966329964,0.571043771043771,0.6424242424242423,0.7138047138047138,0.7851851851851852,0.8565656565656565,0.9279461279461279,0.9993265993265993,1.0707070707070707,1.142087542087542,1.2134680134680134,1.2848484848484847,1.3562289562289562,1.4276094276094276,1.4989898989898989,1.5703703703703704,1.6417508417508417,1.713131313131313,1.7845117845117844,1.8558922558922557,1.9272727272727272,1.9986531986531986,2.07003367003367,2.1414141414141414,2.2127946127946125,2.284175084175084,2.3555555555555556,2.4269360269360267,2.4983164983164983,2.5696969696969694,2.641077441077441,2.7124579124579125,2.7838383838383836,2.855218855218855,2.9265993265993266,2.9979797979797977,3.0693602693602693,3.140740740740741,3.212121212121212,3.2835016835016835,3.3548821548821546,3.426262626262626,3.4976430976430977,3.5690235690235688,3.6404040404040403,3.7117845117845114,3.783164983164983,3.8545454545454545,3.9259259259259256,3.997306397306397,4.068686868686869,4.14006734006734,4.211447811447811,4.282828282828283,4.354208754208754,4.425589225589225,4.496969696969697,4.568350168350168,4.639730639730639,4.711111111111111,4.782491582491582,4.8538720538720534,4.925252525252525,4.9966329966329965,5.068013468013468,5.139393939393939,5.210774410774411,5.282154882154882,5.353535353535353,5.424915824915825,5.496296296296296,5.567676767676767,5.639057239057239,5.71043771043771,5.781818181818181,5.853198653198653,5.924579124579124,5.9959595959595955,6.0673400673400675,6.138720538720539,6.21010101010101,6.281481481481482,6.352861952861953,6.424242424242424,6.495622895622895,6.567003367003367,6.638383838383838,6.709764309764309,6.781144781144781,6.852525252525252,6.923905723905723,6.995286195286195,7.066666666666666],\"y\":[0.3617021276595745,0.3617021276595745,0.3617021276595745,0.3617021276595745,0.3617021276595745,0.3617021276595745,0.3617021276595745,0.3617021276595745,0.3617021276595745,0.3617021276595745,0.3617021276595745,0.3617021276595745,0.3617021276595745,0.3617021276595745,0.4072948328267478,0.867274569402229,0.867274569402229,0.867274569402229,0.867274569402229,0.867274569402229,0.867274569402229,0.867274569402229,0.867274569402229,0.867274569402229,0.867274569402229,0.867274569402229,0.867274569402229,0.867274569402229,0.9229989868287741,0.9422492401215805,0.9422492401215805,0.9422492401215805,0.9422492401215805,0.9422492401215805,0.9422492401215805,0.9422492401215805,0.9422492401215805,0.9422492401215805,0.9422492401215805,0.9422492401215805,0.9422492401215805,0.9422492401215805,0.9422492401215805,0.9736575481256332,0.9736575481256332,0.9736575481256332,0.9736575481256332,0.9736575481256332,0.9736575481256332,0.9736575481256332,0.9736575481256332,0.9736575481256332,0.9736575481256332,0.9736575481256332,0.9736575481256332,0.9736575481256332,0.9736575481256332,0.9858156028368794,0.988855116514691,0.988855116514691,0.988855116514691,0.988855116514691,0.988855116514691,0.988855116514691,0.988855116514691,0.988855116514691,0.988855116514691,0.988855116514691,0.988855116514691,0.988855116514691,0.988855116514691,0.993920972644377,0.993920972644377,0.993920972644377,0.993920972644377,0.993920972644377,0.993920972644377,0.993920972644377,0.993920972644377,0.993920972644377,0.993920972644377,0.993920972644377,0.993920972644377,0.993920972644377,0.993920972644377,0.9969604863221885,0.9969604863221885,0.9969604863221885,0.9969604863221885,0.9969604863221885,0.9969604863221885,0.9969604863221885,0.9969604863221885,0.9969604863221885,0.9969604863221885,0.9969604863221885,0.9969604863221885,0.9969604863221885,0.9969604863221885,1.0],\"type\":\"scatter\",\"line\":{\"width\":3}},{\"mode\":\"lines\",\"name\":\"Geely\",\"x\":[0.0,0.17373737373737372,0.34747474747474744,0.5212121212121211,0.6949494949494949,0.8686868686868686,1.0424242424242423,1.216161616161616,1.3898989898989897,1.5636363636363635,1.7373737373737372,1.911111111111111,2.0848484848484845,2.2585858585858585,2.432323232323232,2.606060606060606,2.7797979797979795,2.953535353535353,3.127272727272727,3.3010101010101005,3.4747474747474745,3.648484848484848,3.822222222222222,3.9959595959595955,4.169696969696969,4.3434343434343425,4.517171717171717,4.6909090909090905,4.864646464646464,5.0383838383838375,5.212121212121212,5.3858585858585855,5.559595959595959,5.7333333333333325,5.907070707070706,6.08080808080808,6.254545454545454,6.4282828282828275,6.602020202020201,6.775757575757575,6.949494949494949,7.1232323232323225,7.296969696969696,7.4707070707070695,7.644444444444444,7.8181818181818175,7.991919191919191,8.165656565656565,8.339393939393938,8.513131313131312,8.686868686868685,8.86060606060606,9.034343434343434,9.208080808080807,9.381818181818181,9.555555555555555,9.729292929292928,9.903030303030302,10.076767676767675,10.25050505050505,10.424242424242424,10.597979797979797,10.771717171717171,10.945454545454544,11.119191919191918,11.292929292929292,11.466666666666665,11.64040404040404,11.814141414141412,11.987878787878786,12.16161616161616,12.335353535353534,12.509090909090908,12.68282828282828,12.856565656565655,13.03030303030303,13.204040404040402,13.377777777777776,13.55151515151515,13.725252525252523,13.898989898989898,14.07272727272727,14.246464646464645,14.42020202020202,14.593939393939392,14.767676767676766,14.941414141414139,15.115151515151513,15.288888888888888,15.46262626262626,15.636363636363635,15.810101010101008,15.983838383838382,16.157575757575756,16.33131313131313,16.5050505050505,16.678787878787876,16.85252525252525,17.026262626262625,17.2],\"y\":[0.3210023866348449,0.3210023866348449,0.3210023866348449,0.3210023866348449,0.3210023866348449,0.3210023866348449,0.6563245823389021,0.6563245823389021,0.6563245823389021,0.6563245823389021,0.6563245823389021,0.6563245823389021,0.7482100238663485,0.7482100238663485,0.7482100238663485,0.7482100238663485,0.7482100238663485,0.7482100238663485,0.7935560859188544,0.7935560859188544,0.7935560859188544,0.7935560859188544,0.7935560859188544,0.7935560859188544,0.8257756563245824,0.8257756563245824,0.8257756563245824,0.8257756563245824,0.8257756563245824,0.8365155131264916,0.8591885441527446,0.8591885441527446,0.8591885441527446,0.8591885441527446,0.8591885441527446,0.860381861575179,0.8818615751789977,0.8818615751789977,0.8818615751789977,0.8818615751789977,0.8818615751789977,0.8926014319809069,0.9069212410501194,0.9069212410501194,0.9069212410501194,0.9069212410501194,0.9069212410501194,0.9200477326968974,0.9295942720763724,0.9295942720763724,0.9295942720763724,0.9295942720763724,0.9295942720763724,0.9451073985680191,0.9451073985680191,0.9451073985680191,0.9451073985680191,0.9451073985680191,0.9451073985680191,0.9618138424821002,0.9618138424821002,0.9618138424821002,0.9618138424821002,0.9618138424821002,0.9618138424821002,0.9701670644391408,0.9701670644391408,0.9701670644391408,0.9701670644391408,0.9701670644391408,0.9701670644391408,0.9821002386634845,0.9821002386634845,0.9821002386634845,0.9821002386634845,0.9821002386634845,0.9916467780429594,0.9916467780429594,0.9916467780429594,0.9916467780429594,0.9916467780429594,0.9916467780429594,0.9976133651551313,0.9976133651551313,0.9976133651551313,0.9976133651551313,0.9976133651551313,0.9976133651551313,0.9988066825775657,0.9988066825775657,0.9988066825775657,0.9988066825775657,0.9988066825775657,0.9988066825775657,0.9988066825775657,0.9988066825775657,0.9988066825775657,0.9988066825775657,0.9988066825775657,1.0],\"type\":\"scatter\",\"line\":{\"width\":3}},{\"mode\":\"lines\",\"name\":\"MG\",\"x\":[0.0,0.3993265993265993,0.7986531986531986,1.197979797979798,1.5973063973063972,1.9966329966329965,2.395959595959596,2.795286195286195,3.1946127946127945,3.5939393939393938,3.993265993265993,4.392592592592592,4.791919191919192,5.191245791245791,5.59057239057239,5.98989898989899,6.389225589225589,6.788552188552188,7.1878787878787875,7.587205387205387,7.986531986531986,8.385858585858585,8.785185185185185,9.184511784511784,9.583838383838383,9.983164983164983,10.382491582491582,10.781818181818181,11.18114478114478,11.58047138047138,11.97979797979798,12.379124579124579,12.778451178451178,13.177777777777777,13.577104377104376,13.976430976430976,14.375757575757575,14.775084175084174,15.174410774410774,15.573737373737373,15.973063973063972,16.37239057239057,16.77171717171717,17.17104377104377,17.57037037037037,17.96969696969697,18.369023569023568,18.768350168350167,19.167676767676767,19.567003367003366,19.966329966329965,20.365656565656565,20.764983164983164,21.164309764309763,21.563636363636363,21.962962962962962,22.36228956228956,22.76161616161616,23.16094276094276,23.56026936026936,23.95959595959596,24.358922558922558,24.758249158249157,25.157575757575756,25.556902356902356,25.956228956228955,26.355555555555554,26.754882154882154,27.154208754208753,27.553535353535352,27.95286195286195,28.35218855218855,28.75151515151515,29.15084175084175,29.55016835016835,29.949494949494948,30.348821548821547,30.748148148148147,31.147474747474746,31.546801346801345,31.946127946127945,32.345454545454544,32.74478114478114,33.14410774410774,33.54343434343434,33.94276094276094,34.34208754208754,34.74141414141414,35.14074074074074,35.54006734006734,35.93939393939394,36.33872053872054,36.738047138047136,37.137373737373736,37.536700336700335,37.936026936026934,38.33535353535353,38.73468013468013,39.13400673400673,39.53333333333333],\"y\":[0.01605504587155963,0.01605504587155963,0.01605504587155963,0.025229357798165136,0.025229357798165136,0.027522935779816512,0.03211009174311926,0.03211009174311926,0.061926605504587146,0.061926605504587146,0.061926605504587146,0.08486238532110091,0.08486238532110091,0.10321100917431192,0.10321100917431192,0.10321100917431192,0.12844036697247707,0.12844036697247707,0.15825688073394495,0.15825688073394495,0.15825688073394495,0.18348623853211005,0.18348623853211005,0.21559633027522934,0.21559633027522934,0.21559633027522934,0.24311926605504586,0.24311926605504586,0.26834862385321095,0.27293577981651373,0.27293577981651373,0.29587155963302747,0.29587155963302747,0.3027522935779816,0.32568807339449535,0.32568807339449535,0.36697247706422015,0.36697247706422015,0.36697247706422015,0.4082568807339449,0.4082568807339449,0.451834862385321,0.451834862385321,0.451834862385321,0.48623853211009166,0.48623853211009166,0.5229357798165137,0.5229357798165137,0.5229357798165137,0.5596330275229358,0.5596330275229358,0.5894495412844036,0.5894495412844036,0.5894495412844036,0.6100917431192661,0.6100917431192661,0.6261467889908257,0.6307339449541284,0.6307339449541284,0.665137614678899,0.665137614678899,0.6926605504587156,0.694954128440367,0.694954128440367,0.713302752293578,0.713302752293578,0.738532110091743,0.7477064220183486,0.7477064220183486,0.7821100917431192,0.7821100917431192,0.7844036697247706,0.8119266055045871,0.8119266055045871,0.8371559633027522,0.8371559633027522,0.8371559633027522,0.8486238532110091,0.8486238532110091,0.8669724770642201,0.8669724770642201,0.8669724770642201,0.8830275229357797,0.8830275229357797,0.9082568807339448,0.9082568807339448,0.9082568807339448,0.9288990825688073,0.9288990825688073,0.9449541284403669,0.9472477064220183,0.9472477064220183,0.9655963302752293,0.9655963302752293,0.9724770642201834,0.9793577981651376,0.9793577981651376,0.988532110091743,0.988532110091743,1.0],\"type\":\"scatter\",\"line\":{\"width\":3}},{\"mode\":\"lines\",\"name\":\"טסלה\",\"x\":[0.0,0.25622895622895625,0.5124579124579125,0.7686868686868688,1.024915824915825,1.2811447811447811,1.5373737373737375,1.7936026936026939,2.04983164983165,2.306060606060606,2.5622895622895623,2.818518518518519,3.074747474747475,3.330976430976431,3.5872053872053877,3.843434343434344,4.0996632996633,4.355892255892257,4.612121212121212,4.868350168350169,5.124579124579125,5.380808080808081,5.637037037037038,5.893265993265993,6.14949494949495,6.405723905723907,6.661952861952862,6.918181818181819,7.1744107744107755,7.430639730639731,7.686868686868688,7.943097643097643,8.1993265993266,8.455555555555556,8.711784511784513,8.968013468013469,9.224242424242425,9.480471380471382,9.736700336700338,9.992929292929293,10.24915824915825,10.505387205387207,10.761616161616162,11.017845117845118,11.274074074074075,11.530303030303031,11.786531986531987,12.042760942760944,12.2989898989899,12.555218855218856,12.811447811447813,13.067676767676769,13.323905723905725,13.580134680134682,13.836363636363638,14.092592592592593,14.348821548821551,14.605050505050507,14.861279461279462,15.117508417508418,15.373737373737375,15.629966329966331,15.886195286195287,16.142424242424244,16.3986531986532,16.654882154882156,16.91111111111111,17.167340067340067,17.423569023569026,17.679797979797982,17.936026936026938,18.192255892255893,18.44848484848485,18.704713804713805,18.960942760942764,19.21717171717172,19.473400673400675,19.72962962962963,19.985858585858587,20.242087542087543,20.4983164983165,20.754545454545458,21.010774410774413,21.26700336700337,21.523232323232325,21.77946127946128,22.035690235690236,22.291919191919195,22.54814814814815,22.804377104377107,23.060606060606062,23.316835016835018,23.573063973063974,23.829292929292933,24.08552188552189,24.341750841750844,24.5979797979798,24.854208754208756,25.11043771043771,25.36666666666667],\"y\":[0.13178855901520636,0.13178855901520636,0.13178855901520636,0.13178855901520636,0.18247646632874728,0.24112961622013035,0.24112961622013035,0.24112961622013035,0.2809558291093411,0.2939898624185373,0.2939898624185373,0.2939898624185373,0.34974656046343233,0.34974656046343233,0.34974656046343233,0.34974656046343233,0.41129616220130344,0.41346850108616945,0.41346850108616945,0.41346850108616945,0.4605358435916003,0.4605358435916003,0.4605358435916003,0.4605358435916003,0.48515568428674877,0.48515568428674877,0.48515568428674877,0.48515568428674877,0.5126719768283853,0.5126719768283853,0.5126719768283853,0.5126719768283853,0.5430847212165099,0.5430847212165099,0.5430847212165099,0.5430847212165099,0.5850832729905866,0.5850832729905866,0.5850832729905866,0.5850832729905866,0.6234612599565532,0.6234612599565532,0.6234612599565532,0.6234612599565532,0.6654598117306301,0.6654598117306301,0.6654598117306301,0.6654598117306301,0.7103548153511948,0.7103548153511948,0.7103548153511948,0.7103548153511948,0.7523533671252716,0.7523533671252716,0.7523533671252716,0.7523533671252716,0.7871107892831283,0.7871107892831283,0.7871107892831283,0.7871107892831283,0.8240405503258509,0.8240405503258509,0.8240405503258509,0.8240405503258509,0.8486603910209993,0.8486603910209993,0.8486603910209993,0.8486603910209993,0.8682114409847936,0.8682114409847936,0.8682114409847936,0.8682114409847936,0.8942795076031862,0.8942795076031862,0.8942795076031862,0.8942795076031862,0.9203475742215786,0.9203475742215786,0.9203475742215786,0.9203475742215786,0.9471397538015931,0.9471397538015931,0.9471397538015931,0.9565532223026793,0.9674149167270095,0.9674149167270095,0.9674149167270095,0.9674149167270095,0.9869659666908038,0.9869659666908038,0.9869659666908038,0.9876900796524258,0.994207096307024,0.994207096307024,0.994207096307024,0.997827661115134,0.997827661115134,0.997827661115134,0.997827661115134,1.0],\"type\":\"scatter\",\"line\":{\"width\":3}},{\"mode\":\"lines\",\"name\":\"יונדאי\",\"x\":[0.0,0.3377104377104377,0.6754208754208754,1.013131313131313,1.3508417508417507,1.6885521885521884,2.026262626262626,2.363973063973064,2.7016835016835015,3.039393939393939,3.3771043771043767,3.7148148148148143,4.052525252525252,4.39023569023569,4.727946127946128,5.065656565656565,5.403367003367003,5.741077441077441,6.078787878787878,6.416498316498316,6.754208754208753,7.0919191919191915,7.429629629629629,7.767340067340067,8.105050505050505,8.442760942760943,8.78047138047138,9.118181818181817,9.455892255892255,9.793602693602693,10.13131313131313,10.469023569023568,10.806734006734006,11.144444444444444,11.482154882154882,11.819865319865318,12.157575757575756,12.495286195286194,12.832996632996633,13.170707070707069,13.508417508417507,13.846127946127945,14.183838383838383,14.521548821548821,14.859259259259257,15.196969696969695,15.534680134680134,15.872390572390572,16.21010101010101,16.547811447811448,16.885521885521886,17.22323232323232,17.56094276094276,17.898653198653196,18.236363636363635,18.574074074074073,18.91178451178451,19.24949494949495,19.587205387205387,19.924915824915825,20.26262626262626,20.600336700336698,20.938047138047136,21.275757575757574,21.61346801346801,21.95117845117845,22.288888888888888,22.626599326599326,22.964309764309764,23.3020202020202,23.639730639730637,23.977441077441075,24.315151515151513,24.65286195286195,24.99057239057239,25.328282828282827,25.665993265993265,26.003703703703703,26.341414141414138,26.679124579124576,27.016835016835014,27.354545454545452,27.69225589225589,28.029966329966328,28.367676767676766,28.705387205387204,29.043097643097642,29.380808080808077,29.718518518518515,30.056228956228953,30.39393939393939,30.73164983164983,31.069360269360267,31.407070707070705,31.744781144781143,32.08249158249158,32.42020202020202,32.757912457912454,33.095622895622895,33.43333333333333],\"y\":[0.3464285714285714,0.3464285714285714,0.3464285714285714,0.3964285714285714,0.5696428571428571,0.5696428571428571,0.6,0.6339285714285714,0.6339285714285714,0.6482142857142857,0.6642857142857143,0.6642857142857143,0.6714285714285714,0.6875,0.6875,0.6910714285714286,0.7107142857142856,0.7107142857142856,0.7214285714285714,0.7357142857142857,0.7357142857142857,0.7410714285714285,0.7589285714285714,0.7589285714285714,0.7732142857142856,0.7821428571428571,0.7821428571428571,0.7946428571428571,0.8160714285714286,0.8160714285714286,0.8214285714285714,0.8410714285714286,0.8410714285714286,0.8535714285714285,0.8624999999999999,0.8624999999999999,0.8624999999999999,0.9089285714285714,0.9089285714285714,0.9178571428571428,0.9321428571428572,0.9321428571428572,0.9392857142857143,0.9428571428571428,0.9428571428571428,0.95,0.9571428571428571,0.9571428571428571,0.9571428571428571,0.9589285714285714,0.9589285714285714,0.9660714285714286,0.9732142857142857,0.9732142857142857,0.9732142857142857,0.975,0.975,0.9839285714285714,0.9839285714285714,0.9839285714285714,0.9839285714285714,0.9892857142857142,0.9892857142857142,0.9910714285714285,0.9910714285714285,0.9910714285714285,0.9910714285714285,0.9928571428571428,0.9928571428571428,0.9928571428571428,0.9928571428571428,0.9928571428571428,0.9928571428571428,0.9928571428571428,0.9928571428571428,0.9928571428571428,0.9928571428571428,0.9928571428571428,0.994642857142857,0.994642857142857,0.994642857142857,0.994642857142857,0.994642857142857,0.994642857142857,0.9964285714285714,0.9964285714285714,0.9964285714285714,0.9964285714285714,0.9964285714285714,0.9964285714285714,0.9964285714285714,0.9964285714285714,0.9964285714285714,0.9964285714285714,0.9964285714285714,0.9964285714285714,0.9964285714285714,0.9964285714285714,0.9964285714285714,1.0],\"type\":\"scatter\",\"line\":{\"width\":3}},{\"mode\":\"lines\",\"name\":\"מרצדס\",\"x\":[0.0,0.2865319865319865,0.573063973063973,0.8595959595959596,1.146127946127946,1.4326599326599325,1.7191919191919192,2.005723905723906,2.292255892255892,2.5787878787878786,2.865319865319865,3.151851851851852,3.4383838383838383,3.7249158249158247,4.011447811447812,4.297979797979798,4.584511784511784,4.871043771043771,5.157575757575757,5.444107744107744,5.73063973063973,6.017171717171717,6.303703703703704,6.59023569023569,6.876767676767677,7.1632996632996635,7.4498316498316495,7.736363636363636,8.022895622895623,8.30942760942761,8.595959595959595,8.882491582491582,9.169023569023569,9.455555555555556,9.742087542087543,10.028619528619528,10.315151515151515,10.601683501683501,10.888215488215488,11.174747474747475,11.46127946127946,11.747811447811447,12.034343434343434,12.32087542087542,12.607407407407408,12.893939393939394,13.18047138047138,13.467003367003366,13.753535353535353,14.04006734006734,14.326599326599327,14.613131313131312,14.899663299663299,15.186195286195286,15.472727272727273,15.75925925925926,16.045791245791246,16.332323232323233,16.61885521885522,16.905387205387203,17.19191919191919,17.478451178451177,17.764983164983164,18.05151515151515,18.338047138047138,18.624579124579125,18.91111111111111,19.1976430976431,19.484175084175085,19.770707070707072,20.057239057239055,20.343771043771042,20.63030303030303,20.916835016835016,21.203367003367003,21.48989898989899,21.776430976430976,22.062962962962963,22.34949494949495,22.636026936026937,22.92255892255892,23.209090909090907,23.495622895622894,23.78215488215488,24.068686868686868,24.355218855218855,24.64175084175084,24.92828282828283,25.214814814814815,25.501346801346802,25.78787878787879,26.074410774410772,26.36094276094276,26.647474747474746,26.934006734006733,27.22053872053872,27.507070707070707,27.793602693602693,28.08013468013468,28.366666666666667],\"y\":[0.05536332179930795,0.05536332179930795,0.05536332179930795,0.05536332179930795,0.2041522491349481,0.2041522491349481,0.2041522491349481,0.2491349480968858,0.32525951557093424,0.32525951557093424,0.32525951557093424,0.39446366782006914,0.39446366782006914,0.39446366782006914,0.42214532871972316,0.48442906574394456,0.48442906574394456,0.48442906574394456,0.5570934256055363,0.5570934256055363,0.5570934256055363,0.5570934256055363,0.6055363321799307,0.6055363321799307,0.6055363321799307,0.7162629757785467,0.7231833910034602,0.7231833910034602,0.7231833910034602,0.7889273356401384,0.7889273356401384,0.7889273356401384,0.8166089965397924,0.8235294117647058,0.8235294117647058,0.8235294117647058,0.8754325259515571,0.8754325259515571,0.8754325259515571,0.9065743944636678,0.9065743944636678,0.9065743944636678,0.9065743944636678,0.9238754325259515,0.9238754325259515,0.9238754325259515,0.9238754325259515,0.930795847750865,0.930795847750865,0.930795847750865,0.9480968858131488,0.9480968858131488,0.9480968858131488,0.9480968858131488,0.9515570934256055,0.9515570934256055,0.9515570934256055,0.958477508650519,0.958477508650519,0.958477508650519,0.958477508650519,0.9619377162629758,0.9619377162629758,0.9619377162629758,0.9653979238754324,0.9653979238754324,0.9653979238754324,0.9653979238754324,0.9757785467128027,0.9757785467128027,0.9757785467128027,0.9826989619377162,0.9826989619377162,0.9826989619377162,0.9826989619377162,0.9896193771626297,0.9896193771626297,0.9896193771626297,0.9896193771626297,0.9896193771626297,0.9896193771626297,0.9896193771626297,0.9930795847750865,0.9930795847750865,0.9930795847750865,0.9930795847750865,0.9930795847750865,0.9930795847750865,0.9930795847750865,0.9930795847750865,0.9930795847750865,0.9930795847750865,0.9965397923875432,0.9965397923875432,0.9965397923875432,0.9965397923875432,0.9965397923875432,0.9965397923875432,0.9965397923875432,1.0],\"type\":\"scatter\",\"line\":{\"width\":3}},{\"mode\":\"lines\",\"name\":\"סקודה\",\"x\":[0.0,0.18484848484848485,0.3696969696969697,0.5545454545454546,0.7393939393939394,0.9242424242424242,1.1090909090909091,1.293939393939394,1.4787878787878788,1.6636363636363636,1.8484848484848484,2.033333333333333,2.2181818181818183,2.403030303030303,2.587878787878788,2.7727272727272725,2.9575757575757575,3.1424242424242426,3.327272727272727,3.512121212121212,3.696969696969697,3.881818181818182,4.066666666666666,4.251515151515151,4.4363636363636365,4.621212121212121,4.806060606060606,4.990909090909091,5.175757575757576,5.36060606060606,5.545454545454545,5.7303030303030305,5.915151515151515,6.1,6.284848484848485,6.46969696969697,6.654545454545454,6.839393939393939,7.024242424242424,7.209090909090909,7.393939393939394,7.578787878787879,7.763636363636364,7.948484848484848,8.133333333333333,8.318181818181818,8.503030303030302,8.687878787878788,8.872727272727273,9.057575757575757,9.242424242424242,9.427272727272728,9.612121212121211,9.796969696969697,9.981818181818182,10.166666666666666,10.351515151515152,10.536363636363637,10.72121212121212,10.906060606060606,11.09090909090909,11.275757575757575,11.460606060606061,11.645454545454545,11.83030303030303,12.015151515151516,12.2,12.384848484848485,12.56969696969697,12.754545454545454,12.93939393939394,13.124242424242423,13.309090909090909,13.493939393939394,13.678787878787878,13.863636363636363,14.048484848484849,14.233333333333333,14.418181818181818,14.603030303030303,14.787878787878787,14.972727272727273,15.157575757575758,15.342424242424242,15.527272727272727,15.712121212121211,15.896969696969697,16.081818181818182,16.266666666666666,16.451515151515153,16.636363636363637,16.82121212121212,17.006060606060604,17.19090909090909,17.375757575757575,17.56060606060606,17.745454545454546,17.93030303030303,18.115151515151513,18.3],\"y\":[0.24043715846994537,0.24043715846994537,0.24043715846994537,0.24043715846994537,0.24043715846994537,0.24043715846994537,0.5136612021857924,0.5136612021857924,0.5136612021857924,0.5136612021857924,0.5136612021857924,0.5846994535519126,0.5956284153005464,0.5956284153005464,0.5956284153005464,0.5956284153005464,0.5956284153005464,0.6885245901639344,0.6885245901639344,0.6885245901639344,0.6885245901639344,0.6885245901639344,0.73224043715847,0.7650273224043715,0.7650273224043715,0.7650273224043715,0.7650273224043715,0.7650273224043715,0.819672131147541,0.819672131147541,0.819672131147541,0.819672131147541,0.819672131147541,0.8469945355191257,0.8579234972677595,0.8579234972677595,0.8579234972677595,0.8579234972677595,0.8579234972677595,0.8743169398907104,0.8743169398907104,0.8743169398907104,0.8743169398907104,0.8743169398907104,0.8961748633879781,0.9016393442622951,0.9016393442622951,0.9016393442622951,0.9016393442622951,0.9016393442622951,0.9398907103825137,0.9398907103825137,0.9398907103825137,0.9398907103825137,0.9398907103825137,0.9453551912568307,0.9453551912568307,0.9453551912568307,0.9453551912568307,0.9453551912568307,0.9453551912568307,0.9562841530054644,0.9562841530054644,0.9562841530054644,0.9562841530054644,0.9562841530054644,0.9562841530054644,0.9562841530054644,0.9562841530054644,0.9562841530054644,0.9562841530054644,0.9617486338797814,0.9726775956284153,0.9726775956284153,0.9726775956284153,0.9726775956284153,0.9726775956284153,0.9726775956284153,0.9726775956284153,0.9726775956284153,0.9726775956284153,0.9726775956284153,0.9726775956284153,0.9781420765027322,0.9781420765027322,0.9781420765027322,0.9781420765027322,0.9781420765027322,0.9890710382513661,0.9890710382513661,0.9890710382513661,0.9890710382513661,0.9890710382513661,0.9890710382513661,0.9890710382513661,0.9890710382513661,0.9890710382513661,0.9890710382513661,0.9890710382513661,1.0],\"type\":\"scatter\",\"line\":{\"width\":3}}],                        {\"template\":{\"data\":{\"histogram2dcontour\":[{\"type\":\"histogram2dcontour\",\"colorbar\":{\"outlinewidth\":0,\"ticks\":\"\"},\"colorscale\":[[0.0,\"#0d0887\"],[0.1111111111111111,\"#46039f\"],[0.2222222222222222,\"#7201a8\"],[0.3333333333333333,\"#9c179e\"],[0.4444444444444444,\"#bd3786\"],[0.5555555555555556,\"#d8576b\"],[0.6666666666666666,\"#ed7953\"],[0.7777777777777778,\"#fb9f3a\"],[0.8888888888888888,\"#fdca26\"],[1.0,\"#f0f921\"]]}],\"choropleth\":[{\"type\":\"choropleth\",\"colorbar\":{\"outlinewidth\":0,\"ticks\":\"\"}}],\"histogram2d\":[{\"type\":\"histogram2d\",\"colorbar\":{\"outlinewidth\":0,\"ticks\":\"\"},\"colorscale\":[[0.0,\"#0d0887\"],[0.1111111111111111,\"#46039f\"],[0.2222222222222222,\"#7201a8\"],[0.3333333333333333,\"#9c179e\"],[0.4444444444444444,\"#bd3786\"],[0.5555555555555556,\"#d8576b\"],[0.6666666666666666,\"#ed7953\"],[0.7777777777777778,\"#fb9f3a\"],[0.8888888888888888,\"#fdca26\"],[1.0,\"#f0f921\"]]}],\"heatmap\":[{\"type\":\"heatmap\",\"colorbar\":{\"outlinewidth\":0,\"ticks\":\"\"},\"colorscale\":[[0.0,\"#0d0887\"],[0.1111111111111111,\"#46039f\"],[0.2222222222222222,\"#7201a8\"],[0.3333333333333333,\"#9c179e\"],[0.4444444444444444,\"#bd3786\"],[0.5555555555555556,\"#d8576b\"],[0.6666666666666666,\"#ed7953\"],[0.7777777777777778,\"#fb9f3a\"],[0.8888888888888888,\"#fdca26\"],[1.0,\"#f0f921\"]]}],\"heatmapgl\":[{\"type\":\"heatmapgl\",\"colorbar\":{\"outlinewidth\":0,\"ticks\":\"\"},\"colorscale\":[[0.0,\"#0d0887\"],[0.1111111111111111,\"#46039f\"],[0.2222222222222222,\"#7201a8\"],[0.3333333333333333,\"#9c179e\"],[0.4444444444444444,\"#bd3786\"],[0.5555555555555556,\"#d8576b\"],[0.6666666666666666,\"#ed7953\"],[0.7777777777777778,\"#fb9f3a\"],[0.8888888888888888,\"#fdca26\"],[1.0,\"#f0f921\"]]}],\"contourcarpet\":[{\"type\":\"contourcarpet\",\"colorbar\":{\"outlinewidth\":0,\"ticks\":\"\"}}],\"contour\":[{\"type\":\"contour\",\"colorbar\":{\"outlinewidth\":0,\"ticks\":\"\"},\"colorscale\":[[0.0,\"#0d0887\"],[0.1111111111111111,\"#46039f\"],[0.2222222222222222,\"#7201a8\"],[0.3333333333333333,\"#9c179e\"],[0.4444444444444444,\"#bd3786\"],[0.5555555555555556,\"#d8576b\"],[0.6666666666666666,\"#ed7953\"],[0.7777777777777778,\"#fb9f3a\"],[0.8888888888888888,\"#fdca26\"],[1.0,\"#f0f921\"]]}],\"surface\":[{\"type\":\"surface\",\"colorbar\":{\"outlinewidth\":0,\"ticks\":\"\"},\"colorscale\":[[0.0,\"#0d0887\"],[0.1111111111111111,\"#46039f\"],[0.2222222222222222,\"#7201a8\"],[0.3333333333333333,\"#9c179e\"],[0.4444444444444444,\"#bd3786\"],[0.5555555555555556,\"#d8576b\"],[0.6666666666666666,\"#ed7953\"],[0.7777777777777778,\"#fb9f3a\"],[0.8888888888888888,\"#fdca26\"],[1.0,\"#f0f921\"]]}],\"mesh3d\":[{\"type\":\"mesh3d\",\"colorbar\":{\"outlinewidth\":0,\"ticks\":\"\"}}],\"scatter\":[{\"fillpattern\":{\"fillmode\":\"overlay\",\"size\":10,\"solidity\":0.2},\"type\":\"scatter\"}],\"parcoords\":[{\"type\":\"parcoords\",\"line\":{\"colorbar\":{\"outlinewidth\":0,\"ticks\":\"\"}}}],\"scatterpolargl\":[{\"type\":\"scatterpolargl\",\"marker\":{\"colorbar\":{\"outlinewidth\":0,\"ticks\":\"\"}}}],\"bar\":[{\"error_x\":{\"color\":\"#2a3f5f\"},\"error_y\":{\"color\":\"#2a3f5f\"},\"marker\":{\"line\":{\"color\":\"#E5ECF6\",\"width\":0.5},\"pattern\":{\"fillmode\":\"overlay\",\"size\":10,\"solidity\":0.2}},\"type\":\"bar\"}],\"scattergeo\":[{\"type\":\"scattergeo\",\"marker\":{\"colorbar\":{\"outlinewidth\":0,\"ticks\":\"\"}}}],\"scatterpolar\":[{\"type\":\"scatterpolar\",\"marker\":{\"colorbar\":{\"outlinewidth\":0,\"ticks\":\"\"}}}],\"histogram\":[{\"marker\":{\"pattern\":{\"fillmode\":\"overlay\",\"size\":10,\"solidity\":0.2}},\"type\":\"histogram\"}],\"scattergl\":[{\"type\":\"scattergl\",\"marker\":{\"colorbar\":{\"outlinewidth\":0,\"ticks\":\"\"}}}],\"scatter3d\":[{\"type\":\"scatter3d\",\"line\":{\"colorbar\":{\"outlinewidth\":0,\"ticks\":\"\"}},\"marker\":{\"colorbar\":{\"outlinewidth\":0,\"ticks\":\"\"}}}],\"scattermapbox\":[{\"type\":\"scattermapbox\",\"marker\":{\"colorbar\":{\"outlinewidth\":0,\"ticks\":\"\"}}}],\"scatterternary\":[{\"type\":\"scatterternary\",\"marker\":{\"colorbar\":{\"outlinewidth\":0,\"ticks\":\"\"}}}],\"scattercarpet\":[{\"type\":\"scattercarpet\",\"marker\":{\"colorbar\":{\"outlinewidth\":0,\"ticks\":\"\"}}}],\"carpet\":[{\"aaxis\":{\"endlinecolor\":\"#2a3f5f\",\"gridcolor\":\"white\",\"linecolor\":\"white\",\"minorgridcolor\":\"white\",\"startlinecolor\":\"#2a3f5f\"},\"baxis\":{\"endlinecolor\":\"#2a3f5f\",\"gridcolor\":\"white\",\"linecolor\":\"white\",\"minorgridcolor\":\"white\",\"startlinecolor\":\"#2a3f5f\"},\"type\":\"carpet\"}],\"table\":[{\"cells\":{\"fill\":{\"color\":\"#EBF0F8\"},\"line\":{\"color\":\"white\"}},\"header\":{\"fill\":{\"color\":\"#C8D4E3\"},\"line\":{\"color\":\"white\"}},\"type\":\"table\"}],\"barpolar\":[{\"marker\":{\"line\":{\"color\":\"#E5ECF6\",\"width\":0.5},\"pattern\":{\"fillmode\":\"overlay\",\"size\":10,\"solidity\":0.2}},\"type\":\"barpolar\"}],\"pie\":[{\"automargin\":true,\"type\":\"pie\"}]},\"layout\":{\"autotypenumbers\":\"strict\",\"colorway\":[\"#636efa\",\"#EF553B\",\"#00cc96\",\"#ab63fa\",\"#FFA15A\",\"#19d3f3\",\"#FF6692\",\"#B6E880\",\"#FF97FF\",\"#FECB52\"],\"font\":{\"color\":\"#2a3f5f\"},\"hovermode\":\"closest\",\"hoverlabel\":{\"align\":\"left\"},\"paper_bgcolor\":\"white\",\"plot_bgcolor\":\"#E5ECF6\",\"polar\":{\"bgcolor\":\"#E5ECF6\",\"angularaxis\":{\"gridcolor\":\"white\",\"linecolor\":\"white\",\"ticks\":\"\"},\"radialaxis\":{\"gridcolor\":\"white\",\"linecolor\":\"white\",\"ticks\":\"\"}},\"ternary\":{\"bgcolor\":\"#E5ECF6\",\"aaxis\":{\"gridcolor\":\"white\",\"linecolor\":\"white\",\"ticks\":\"\"},\"baxis\":{\"gridcolor\":\"white\",\"linecolor\":\"white\",\"ticks\":\"\"},\"caxis\":{\"gridcolor\":\"white\",\"linecolor\":\"white\",\"ticks\":\"\"}},\"coloraxis\":{\"colorbar\":{\"outlinewidth\":0,\"ticks\":\"\"}},\"colorscale\":{\"sequential\":[[0.0,\"#0d0887\"],[0.1111111111111111,\"#46039f\"],[0.2222222222222222,\"#7201a8\"],[0.3333333333333333,\"#9c179e\"],[0.4444444444444444,\"#bd3786\"],[0.5555555555555556,\"#d8576b\"],[0.6666666666666666,\"#ed7953\"],[0.7777777777777778,\"#fb9f3a\"],[0.8888888888888888,\"#fdca26\"],[1.0,\"#f0f921\"]],\"sequentialminus\":[[0.0,\"#0d0887\"],[0.1111111111111111,\"#46039f\"],[0.2222222222222222,\"#7201a8\"],[0.3333333333333333,\"#9c179e\"],[0.4444444444444444,\"#bd3786\"],[0.5555555555555556,\"#d8576b\"],[0.6666666666666666,\"#ed7953\"],[0.7777777777777778,\"#fb9f3a\"],[0.8888888888888888,\"#fdca26\"],[1.0,\"#f0f921\"]],\"diverging\":[[0,\"#8e0152\"],[0.1,\"#c51b7d\"],[0.2,\"#de77ae\"],[0.3,\"#f1b6da\"],[0.4,\"#fde0ef\"],[0.5,\"#f7f7f7\"],[0.6,\"#e6f5d0\"],[0.7,\"#b8e186\"],[0.8,\"#7fbc41\"],[0.9,\"#4d9221\"],[1,\"#276419\"]]},\"xaxis\":{\"gridcolor\":\"white\",\"linecolor\":\"white\",\"ticks\":\"\",\"title\":{\"standoff\":15},\"zerolinecolor\":\"white\",\"automargin\":true,\"zerolinewidth\":2},\"yaxis\":{\"gridcolor\":\"white\",\"linecolor\":\"white\",\"ticks\":\"\",\"title\":{\"standoff\":15},\"zerolinecolor\":\"white\",\"automargin\":true,\"zerolinewidth\":2},\"scene\":{\"xaxis\":{\"backgroundcolor\":\"#E5ECF6\",\"gridcolor\":\"white\",\"linecolor\":\"white\",\"showbackground\":true,\"ticks\":\"\",\"zerolinecolor\":\"white\",\"gridwidth\":2},\"yaxis\":{\"backgroundcolor\":\"#E5ECF6\",\"gridcolor\":\"white\",\"linecolor\":\"white\",\"showbackground\":true,\"ticks\":\"\",\"zerolinecolor\":\"white\",\"gridwidth\":2},\"zaxis\":{\"backgroundcolor\":\"#E5ECF6\",\"gridcolor\":\"white\",\"linecolor\":\"white\",\"showbackground\":true,\"ticks\":\"\",\"zerolinecolor\":\"white\",\"gridwidth\":2}},\"shapedefaults\":{\"line\":{\"color\":\"#2a3f5f\"}},\"annotationdefaults\":{\"arrowcolor\":\"#2a3f5f\",\"arrowhead\":0,\"arrowwidth\":1},\"geo\":{\"bgcolor\":\"white\",\"landcolor\":\"#E5ECF6\",\"subunitcolor\":\"white\",\"showland\":true,\"showlakes\":true,\"lakecolor\":\"white\"},\"title\":{\"x\":0.05},\"mapbox\":{\"style\":\"light\"}}},\"title\":{\"text\":\"Months to trade by make, electric year >= 2020\"},\"xaxis\":{\"title\":{\"text\":\"משך זמן מהקניה בחודשים\"}},\"yaxis\":{\"title\":{\"text\":\"הסתברות מכירה עד תום תקופה\"}}},                        {\"responsive\": true}                    ).then(function(){\n",
       "                            \n",
       "var gd = document.getElementById('9f53e696-7beb-4c6c-b428-f30808b23e26');\n",
       "var x = new MutationObserver(function (mutations, observer) {{\n",
       "        var display = window.getComputedStyle(gd).display;\n",
       "        if (!display || display === 'none') {{\n",
       "            console.log([gd, 'removed!']);\n",
       "            Plotly.purge(gd);\n",
       "            observer.disconnect();\n",
       "        }}\n",
       "}});\n",
       "\n",
       "// Listen for the removal of the full notebook cells\n",
       "var notebookContainer = gd.closest('#notebook-container');\n",
       "if (notebookContainer) {{\n",
       "    x.observe(notebookContainer, {childList: true});\n",
       "}}\n",
       "\n",
       "// Listen for the clearing of the current output cell\n",
       "var outputEl = gd.closest('.output');\n",
       "if (outputEl) {{\n",
       "    x.observe(outputEl, {childList: true});\n",
       "}}\n",
       "\n",
       "                        })                };                });            </script>        </div>"
      ]
     },
     "metadata": {},
     "output_type": "display_data"
    }
   ],
   "source": [
    "big_makes = df.query(\"sug_delek_nm == 'חשמל' and year >= 2020\")['make'].value_counts().head(8)\n",
    "big_makes['Aiways'] = 10\n",
    "traded_big = traded.merge(big_makes, how='right', left_on='make', right_index=True)\n",
    "\n",
    "plot_deals(traded_big.query(\"sug_delek_nm == 'חשמל' and year >= 2020\"), groupby='make', title='Months to trade by make, electric year >= 2020')"
   ]
  },
  {
   "cell_type": "code",
   "execution_count": 62,
   "id": "6e61bb28",
   "metadata": {},
   "outputs": [
    {
     "data": {
      "application/vnd.plotly.v1+json": {
       "config": {
        "plotlyServerURL": "https://plot.ly"
       },
       "data": [
        {
         "line": {
          "width": 3
         },
         "mode": "lines",
         "name": "טויוטה",
         "type": "scatter",
         "x": [
          0,
          0.4094276094276094,
          0.8188552188552188,
          1.2282828282828282,
          1.6377104377104377,
          2.047138047138047,
          2.4565656565656564,
          2.865993265993266,
          3.2754208754208753,
          3.6848484848484846,
          4.094276094276094,
          4.503703703703704,
          4.913131313131313,
          5.3225589225589225,
          5.731986531986532,
          6.141414141414141,
          6.550841750841751,
          6.96026936026936,
          7.369696969696969,
          7.779124579124579,
          8.188552188552189,
          8.597979797979798,
          9.007407407407408,
          9.416835016835016,
          9.826262626262626,
          10.235690235690235,
          10.645117845117845,
          11.054545454545455,
          11.463973063973064,
          11.873400673400672,
          12.282828282828282,
          12.692255892255892,
          13.101683501683501,
          13.511111111111111,
          13.92053872053872,
          14.32996632996633,
          14.739393939393938,
          15.148821548821548,
          15.558249158249158,
          15.967676767676767,
          16.377104377104377,
          16.786531986531987,
          17.195959595959597,
          17.605387205387206,
          18.014814814814816,
          18.424242424242422,
          18.833670033670032,
          19.24309764309764,
          19.65252525252525,
          20.06195286195286,
          20.47138047138047,
          20.88080808080808,
          21.29023569023569,
          21.6996632996633,
          22.10909090909091,
          22.51851851851852,
          22.92794612794613,
          23.33737373737374,
          23.746801346801345,
          24.156228956228954,
          24.565656565656564,
          24.975084175084174,
          25.384511784511783,
          25.793939393939393,
          26.203367003367003,
          26.612794612794612,
          27.022222222222222,
          27.431649831649832,
          27.84107744107744,
          28.25050505050505,
          28.65993265993266,
          29.069360269360267,
          29.478787878787877,
          29.888215488215486,
          30.297643097643096,
          30.707070707070706,
          31.116498316498316,
          31.525925925925925,
          31.935353535353535,
          32.344781144781145,
          32.754208754208754,
          33.163636363636364,
          33.573063973063974,
          33.98249158249158,
          34.39191919191919,
          34.8013468013468,
          35.21077441077441,
          35.62020202020202,
          36.02962962962963,
          36.43905723905724,
          36.848484848484844,
          37.257912457912454,
          37.667340067340064,
          38.07676767676767,
          38.48619528619528,
          38.89562289562289,
          39.3050505050505,
          39.71447811447811,
          40.12390572390572,
          40.53333333333333
         ],
         "y": [
          0.12684069611780455,
          0.12684069611780455,
          0.12684069611780455,
          0.24924698795180722,
          0.24924698795180722,
          0.294260374832664,
          0.2995314591700134,
          0.2995314591700134,
          0.3314926372155288,
          0.3314926372155288,
          0.34747322623828647,
          0.35349732262382866,
          0.35349732262382866,
          0.3728246318607764,
          0.3728246318607764,
          0.39415997322623825,
          0.39415997322623825,
          0.39415997322623825,
          0.4141566265060241,
          0.4141566265060241,
          0.43390227576974566,
          0.43390227576974566,
          0.43390227576974566,
          0.45406626506024095,
          0.45406626506024095,
          0.4725568942436412,
          0.4725568942436412,
          0.4725568942436412,
          0.4954819277108434,
          0.4954819277108434,
          0.5247657295850067,
          0.5247657295850067,
          0.5265227576974565,
          0.5471050870147256,
          0.5471050870147256,
          0.5714524765729585,
          0.5714524765729585,
          0.572623828647925,
          0.5930388219544845,
          0.5930388219544845,
          0.615545515394913,
          0.615545515394913,
          0.6166331994645248,
          0.63679718875502,
          0.63679718875502,
          0.6554551539491298,
          0.6554551539491298,
          0.664156626506024,
          0.678714859437751,
          0.678714859437751,
          0.6973728246318608,
          0.6973728246318608,
          0.7074129852744311,
          0.7179551539491298,
          0.7179551539491298,
          0.7383701472556894,
          0.7383701472556894,
          0.7542670682730923,
          0.7568607764390897,
          0.7568607764390897,
          0.776355421686747,
          0.776355421686747,
          0.7921686746987951,
          0.797272423025435,
          0.797272423025435,
          0.81584672021419,
          0.81584672021419,
          0.8313253012048193,
          0.8313253012048193,
          0.8313253012048193,
          0.8440428380187416,
          0.8440428380187416,
          0.8580153949129853,
          0.8580153949129853,
          0.8580153949129853,
          0.8703145917001338,
          0.8703145917001338,
          0.8811077643908969,
          0.8811077643908969,
          0.8811077643908969,
          0.8934906291834003,
          0.8934906291834003,
          0.9067938420348058,
          0.9067938420348058,
          0.9067938420348058,
          0.9213520749665328,
          0.9213520749665328,
          0.936830655957162,
          0.936830655957162,
          0.936830655957162,
          0.9586680053547523,
          0.9586680053547523,
          0.9782463186077643,
          0.9782463186077643,
          0.9782463186077643,
          0.9929718875502007,
          0.9929718875502007,
          0.999665327978581,
          0.999665327978581,
          1
         ]
        },
        {
         "line": {
          "width": 3
         },
         "mode": "lines",
         "name": "יונדאי",
         "type": "scatter",
         "x": [
          0,
          0.4094276094276094,
          0.8188552188552188,
          1.2282828282828282,
          1.6377104377104377,
          2.047138047138047,
          2.4565656565656564,
          2.865993265993266,
          3.2754208754208753,
          3.6848484848484846,
          4.094276094276094,
          4.503703703703704,
          4.913131313131313,
          5.3225589225589225,
          5.731986531986532,
          6.141414141414141,
          6.550841750841751,
          6.96026936026936,
          7.369696969696969,
          7.779124579124579,
          8.188552188552189,
          8.597979797979798,
          9.007407407407408,
          9.416835016835016,
          9.826262626262626,
          10.235690235690235,
          10.645117845117845,
          11.054545454545455,
          11.463973063973064,
          11.873400673400672,
          12.282828282828282,
          12.692255892255892,
          13.101683501683501,
          13.511111111111111,
          13.92053872053872,
          14.32996632996633,
          14.739393939393938,
          15.148821548821548,
          15.558249158249158,
          15.967676767676767,
          16.377104377104377,
          16.786531986531987,
          17.195959595959597,
          17.605387205387206,
          18.014814814814816,
          18.424242424242422,
          18.833670033670032,
          19.24309764309764,
          19.65252525252525,
          20.06195286195286,
          20.47138047138047,
          20.88080808080808,
          21.29023569023569,
          21.6996632996633,
          22.10909090909091,
          22.51851851851852,
          22.92794612794613,
          23.33737373737374,
          23.746801346801345,
          24.156228956228954,
          24.565656565656564,
          24.975084175084174,
          25.384511784511783,
          25.793939393939393,
          26.203367003367003,
          26.612794612794612,
          27.022222222222222,
          27.431649831649832,
          27.84107744107744,
          28.25050505050505,
          28.65993265993266,
          29.069360269360267,
          29.478787878787877,
          29.888215488215486,
          30.297643097643096,
          30.707070707070706,
          31.116498316498316,
          31.525925925925925,
          31.935353535353535,
          32.344781144781145,
          32.754208754208754,
          33.163636363636364,
          33.573063973063974,
          33.98249158249158,
          34.39191919191919,
          34.8013468013468,
          35.21077441077441,
          35.62020202020202,
          36.02962962962963,
          36.43905723905724,
          36.848484848484844,
          37.257912457912454,
          37.667340067340064,
          38.07676767676767,
          38.48619528619528,
          38.89562289562289,
          39.3050505050505,
          39.71447811447811,
          40.12390572390572,
          40.53333333333333
         ],
         "y": [
          0.1633100233100233,
          0.1633100233100233,
          0.1633100233100233,
          0.42097902097902096,
          0.42097902097902096,
          0.5161305361305362,
          0.525034965034965,
          0.525034965034965,
          0.573986013986014,
          0.573986013986014,
          0.5961305361305361,
          0.6030769230769231,
          0.6030769230769231,
          0.6286247086247087,
          0.6286247086247087,
          0.6471794871794871,
          0.6471794871794871,
          0.6471794871794871,
          0.6601398601398601,
          0.6601398601398601,
          0.6715151515151515,
          0.6715151515151515,
          0.6715151515151515,
          0.6808391608391609,
          0.6808391608391609,
          0.6910955710955711,
          0.6910955710955711,
          0.6910955710955711,
          0.7013053613053613,
          0.7013053613053613,
          0.7137529137529137,
          0.7137529137529137,
          0.7147319347319347,
          0.7222843822843823,
          0.7222843822843823,
          0.7312354312354312,
          0.7312354312354312,
          0.7317482517482518,
          0.7393006993006993,
          0.7393006993006993,
          0.7484382284382284,
          0.7484382284382284,
          0.7485780885780886,
          0.756969696969697,
          0.756969696969697,
          0.7655477855477856,
          0.7655477855477856,
          0.7692307692307693,
          0.7742191142191142,
          0.7742191142191142,
          0.7844755244755245,
          0.7844755244755245,
          0.79002331002331,
          0.7947785547785547,
          0.7947785547785547,
          0.804009324009324,
          0.804009324009324,
          0.811981351981352,
          0.8131934731934732,
          0.8131934731934732,
          0.8248951048951049,
          0.8248951048951049,
          0.8332867132867133,
          0.8342657342657342,
          0.8342657342657342,
          0.8466200466200466,
          0.8466200466200466,
          0.8558041958041958,
          0.8558041958041958,
          0.8558041958041958,
          0.8647552447552448,
          0.8647552447552448,
          0.8732867132867133,
          0.8732867132867133,
          0.8732867132867133,
          0.8820979020979021,
          0.8820979020979021,
          0.8932867132867133,
          0.8932867132867133,
          0.8932867132867133,
          0.9034965034965035,
          0.9034965034965035,
          0.9141724941724941,
          0.9141724941724941,
          0.9141724941724941,
          0.9261538461538461,
          0.9261538461538461,
          0.9383216783216783,
          0.9383216783216783,
          0.9383216783216783,
          0.9586946386946387,
          0.9586946386946387,
          0.9776223776223776,
          0.9776223776223776,
          0.9776223776223776,
          0.9931934731934732,
          0.9931934731934732,
          0.9996736596736596,
          0.9996736596736596,
          1
         ]
        },
        {
         "line": {
          "width": 3
         },
         "mode": "lines",
         "name": "מזדה",
         "type": "scatter",
         "x": [
          0,
          0.4094276094276094,
          0.8188552188552188,
          1.2282828282828282,
          1.6377104377104377,
          2.047138047138047,
          2.4565656565656564,
          2.865993265993266,
          3.2754208754208753,
          3.6848484848484846,
          4.094276094276094,
          4.503703703703704,
          4.913131313131313,
          5.3225589225589225,
          5.731986531986532,
          6.141414141414141,
          6.550841750841751,
          6.96026936026936,
          7.369696969696969,
          7.779124579124579,
          8.188552188552189,
          8.597979797979798,
          9.007407407407408,
          9.416835016835016,
          9.826262626262626,
          10.235690235690235,
          10.645117845117845,
          11.054545454545455,
          11.463973063973064,
          11.873400673400672,
          12.282828282828282,
          12.692255892255892,
          13.101683501683501,
          13.511111111111111,
          13.92053872053872,
          14.32996632996633,
          14.739393939393938,
          15.148821548821548,
          15.558249158249158,
          15.967676767676767,
          16.377104377104377,
          16.786531986531987,
          17.195959595959597,
          17.605387205387206,
          18.014814814814816,
          18.424242424242422,
          18.833670033670032,
          19.24309764309764,
          19.65252525252525,
          20.06195286195286,
          20.47138047138047,
          20.88080808080808,
          21.29023569023569,
          21.6996632996633,
          22.10909090909091,
          22.51851851851852,
          22.92794612794613,
          23.33737373737374,
          23.746801346801345,
          24.156228956228954,
          24.565656565656564,
          24.975084175084174,
          25.384511784511783,
          25.793939393939393,
          26.203367003367003,
          26.612794612794612,
          27.022222222222222,
          27.431649831649832,
          27.84107744107744,
          28.25050505050505,
          28.65993265993266,
          29.069360269360267,
          29.478787878787877,
          29.888215488215486,
          30.297643097643096,
          30.707070707070706,
          31.116498316498316,
          31.525925925925925,
          31.935353535353535,
          32.344781144781145,
          32.754208754208754,
          33.163636363636364,
          33.573063973063974,
          33.98249158249158,
          34.39191919191919,
          34.8013468013468,
          35.21077441077441,
          35.62020202020202,
          36.02962962962963,
          36.43905723905724,
          36.848484848484844,
          37.257912457912454,
          37.667340067340064,
          38.07676767676767,
          38.48619528619528,
          38.89562289562289,
          39.3050505050505,
          39.71447811447811,
          40.12390572390572,
          40.53333333333333
         ],
         "y": [
          0.225213927412216,
          0.225213927412216,
          0.225213927412216,
          0.5664650339333136,
          0.5664650339333136,
          0.6958542342874005,
          0.7071407494836235,
          0.7071407494836235,
          0.7666715845382118,
          0.7666715845382118,
          0.789244614930658,
          0.793375627028622,
          0.793375627028622,
          0.8108586603717911,
          0.8108586603717911,
          0.8222189436411921,
          0.8222189436411921,
          0.8222189436411921,
          0.8321038654470345,
          0.8321038654470345,
          0.8401445854234287,
          0.8401445854234287,
          0.8401445854234287,
          0.8473000885216878,
          0.8473000885216878,
          0.8541605193272351,
          0.8541605193272351,
          0.8541605193272351,
          0.8623487754499852,
          0.8623487754499852,
          0.8683977574505753,
          0.8683977574505753,
          0.868766597816465,
          0.8752581882561228,
          0.8752581882561228,
          0.8816022425494245,
          0.8816022425494245,
          0.8821186190616701,
          0.8878725287695485,
          0.8878725287695485,
          0.8931100619651815,
          0.8931100619651815,
          0.8931838300383593,
          0.8990115078194157,
          0.8990115078194157,
          0.9041752729418707,
          0.9041752729418707,
          0.9058719386249631,
          0.9087488934789023,
          0.9087488934789023,
          0.9128061375036883,
          0.9128061375036883,
          0.9148716435526704,
          0.9175272941870758,
          0.9175272941870758,
          0.9229861316022425,
          0.9229861316022425,
          0.9269696075538507,
          0.9275597521392741,
          0.9275597521392741,
          0.9329448214812629,
          0.9329448214812629,
          0.9361906167010917,
          0.9367069932133373,
          0.9367069932133373,
          0.9407642372381233,
          0.9407642372381233,
          0.9460017704337562,
          0.9460017704337562,
          0.9460017704337562,
          0.9493213337267631,
          0.9493213337267631,
          0.9533785777515491,
          0.9533785777515491,
          0.9533785777515491,
          0.957583357922691,
          0.957583357922691,
          0.961861906167011,
          0.961861906167011,
          0.961861906167011,
          0.9666568309235762,
          0.9666568309235762,
          0.9713042195337858,
          0.9713042195337858,
          0.9713042195337858,
          0.9748450870463263,
          0.9748450870463263,
          0.9791974033638241,
          0.9791974033638241,
          0.9791974033638241,
          0.9848775449985246,
          0.9848775449985246,
          0.9907789908527589,
          0.9907789908527589,
          0.9907789908527589,
          0.9962378282679256,
          0.9962378282679256,
          0.9995573915609324,
          0.9995573915609324,
          1
         ]
        },
        {
         "line": {
          "width": 3
         },
         "mode": "lines",
         "name": "מיצובישי",
         "type": "scatter",
         "x": [
          0,
          0.4094276094276094,
          0.8188552188552188,
          1.2282828282828282,
          1.6377104377104377,
          2.047138047138047,
          2.4565656565656564,
          2.865993265993266,
          3.2754208754208753,
          3.6848484848484846,
          4.094276094276094,
          4.503703703703704,
          4.913131313131313,
          5.3225589225589225,
          5.731986531986532,
          6.141414141414141,
          6.550841750841751,
          6.96026936026936,
          7.369696969696969,
          7.779124579124579,
          8.188552188552189,
          8.597979797979798,
          9.007407407407408,
          9.416835016835016,
          9.826262626262626,
          10.235690235690235,
          10.645117845117845,
          11.054545454545455,
          11.463973063973064,
          11.873400673400672,
          12.282828282828282,
          12.692255892255892,
          13.101683501683501,
          13.511111111111111,
          13.92053872053872,
          14.32996632996633,
          14.739393939393938,
          15.148821548821548,
          15.558249158249158,
          15.967676767676767,
          16.377104377104377,
          16.786531986531987,
          17.195959595959597,
          17.605387205387206,
          18.014814814814816,
          18.424242424242422,
          18.833670033670032,
          19.24309764309764,
          19.65252525252525,
          20.06195286195286,
          20.47138047138047,
          20.88080808080808,
          21.29023569023569,
          21.6996632996633,
          22.10909090909091,
          22.51851851851852,
          22.92794612794613,
          23.33737373737374,
          23.746801346801345,
          24.156228956228954,
          24.565656565656564,
          24.975084175084174,
          25.384511784511783,
          25.793939393939393,
          26.203367003367003,
          26.612794612794612,
          27.022222222222222,
          27.431649831649832,
          27.84107744107744,
          28.25050505050505,
          28.65993265993266,
          29.069360269360267,
          29.478787878787877,
          29.888215488215486,
          30.297643097643096,
          30.707070707070706,
          31.116498316498316,
          31.525925925925925,
          31.935353535353535,
          32.344781144781145,
          32.754208754208754,
          33.163636363636364,
          33.573063973063974,
          33.98249158249158,
          34.39191919191919,
          34.8013468013468,
          35.21077441077441,
          35.62020202020202,
          36.02962962962963,
          36.43905723905724,
          36.848484848484844,
          37.257912457912454,
          37.667340067340064,
          38.07676767676767,
          38.48619528619528,
          38.89562289562289,
          39.3050505050505,
          39.71447811447811,
          40.12390572390572,
          40.53333333333333
         ],
         "y": [
          0.13212814036953344,
          0.13212814036953344,
          0.13212814036953344,
          0.37099561345208026,
          0.37099561345208026,
          0.471620364216403,
          0.4815897913066596,
          0.4815897913066596,
          0.5400770969028312,
          0.5400770969028312,
          0.5674597899774025,
          0.57370729762063,
          0.57370729762063,
          0.602286321946032,
          0.602286321946032,
          0.6218263990429349,
          0.6218263990429349,
          0.6218263990429349,
          0.636315299747441,
          0.636315299747441,
          0.6497407948956533,
          0.6497407948956533,
          0.6497407948956533,
          0.6598431476804466,
          0.6598431476804466,
          0.669280871992556,
          0.669280871992556,
          0.669280871992556,
          0.6820417386680845,
          0.6820417386680845,
          0.6929416456200983,
          0.6929416456200983,
          0.6937391997873188,
          0.7009171872923036,
          0.7009171872923036,
          0.709291506048119,
          0.709291506048119,
          0.7094244317426558,
          0.715273162302273,
          0.715273162302273,
          0.7217865213345739,
          0.7217865213345739,
          0.7221852984181841,
          0.7313571713412201,
          0.7313571713412201,
          0.7413265984314767,
          0.7413265984314767,
          0.7454472949621161,
          0.7494350657982187,
          0.7494350657982187,
          0.7586069387212547,
          0.7586069387212547,
          0.7623288581682839,
          0.767114183171607,
          0.767114183171607,
          0.7740263192875182,
          0.7740263192875182,
          0.7822677123487969,
          0.7835969692941644,
          0.7835969692941644,
          0.7971553901369134,
          0.7971553901369134,
          0.8064601887544861,
          0.8079223713943905,
          0.8079223713943905,
          0.8193539811245513,
          0.8193539811245513,
          0.8295892596038813,
          0.8295892596038813,
          0.8295892596038813,
          0.8398245380832114,
          0.8398245380832114,
          0.8515219992024458,
          0.8515219992024458,
          0.8515219992024458,
          0.865479197128805,
          0.865479197128805,
          0.8779742124152597,
          0.8779742124152597,
          0.8779742124152597,
          0.894058221454207,
          0.894058221454207,
          0.9081483450751029,
          0.9081483450751029,
          0.9081483450751029,
          0.9219726173069254,
          0.9219726173069254,
          0.935132261066064,
          0.935132261066064,
          0.935132261066064,
          0.9571979263591651,
          0.9571979263591651,
          0.9808586999867074,
          0.9808586999867074,
          0.9808586999867074,
          0.9929549381895519,
          0.9929549381895519,
          0.9993353715273161,
          0.9993353715273161,
          1
         ]
        },
        {
         "line": {
          "width": 3
         },
         "mode": "lines",
         "name": "סוזוקי",
         "type": "scatter",
         "x": [
          0,
          0.4094276094276094,
          0.8188552188552188,
          1.2282828282828282,
          1.6377104377104377,
          2.047138047138047,
          2.4565656565656564,
          2.865993265993266,
          3.2754208754208753,
          3.6848484848484846,
          4.094276094276094,
          4.503703703703704,
          4.913131313131313,
          5.3225589225589225,
          5.731986531986532,
          6.141414141414141,
          6.550841750841751,
          6.96026936026936,
          7.369696969696969,
          7.779124579124579,
          8.188552188552189,
          8.597979797979798,
          9.007407407407408,
          9.416835016835016,
          9.826262626262626,
          10.235690235690235,
          10.645117845117845,
          11.054545454545455,
          11.463973063973064,
          11.873400673400672,
          12.282828282828282,
          12.692255892255892,
          13.101683501683501,
          13.511111111111111,
          13.92053872053872,
          14.32996632996633,
          14.739393939393938,
          15.148821548821548,
          15.558249158249158,
          15.967676767676767,
          16.377104377104377,
          16.786531986531987,
          17.195959595959597,
          17.605387205387206,
          18.014814814814816,
          18.424242424242422,
          18.833670033670032,
          19.24309764309764,
          19.65252525252525,
          20.06195286195286,
          20.47138047138047,
          20.88080808080808,
          21.29023569023569,
          21.6996632996633,
          22.10909090909091,
          22.51851851851852,
          22.92794612794613,
          23.33737373737374,
          23.746801346801345,
          24.156228956228954,
          24.565656565656564,
          24.975084175084174,
          25.384511784511783,
          25.793939393939393,
          26.203367003367003,
          26.612794612794612,
          27.022222222222222,
          27.431649831649832,
          27.84107744107744,
          28.25050505050505,
          28.65993265993266,
          29.069360269360267,
          29.478787878787877,
          29.888215488215486,
          30.297643097643096,
          30.707070707070706,
          31.116498316498316,
          31.525925925925925,
          31.935353535353535,
          32.344781144781145,
          32.754208754208754,
          33.163636363636364,
          33.573063973063974,
          33.98249158249158,
          34.39191919191919,
          34.8013468013468,
          35.21077441077441,
          35.62020202020202,
          36.02962962962963,
          36.43905723905724,
          36.848484848484844,
          37.257912457912454,
          37.667340067340064,
          38.07676767676767,
          38.48619528619528,
          38.89562289562289,
          39.3050505050505,
          39.71447811447811,
          40.12390572390572,
          40.53333333333333
         ],
         "y": [
          0.031271960646521435,
          0.031271960646521435,
          0.031271960646521435,
          0.06500351370344343,
          0.06500351370344343,
          0.08784258608573436,
          0.08995080815179199,
          0.08995080815179199,
          0.10857343640196766,
          0.10857343640196766,
          0.12508784258608574,
          0.13106113843991565,
          0.13106113843991565,
          0.1539002108222066,
          0.1539002108222066,
          0.17217146872803935,
          0.17217146872803935,
          0.17217146872803935,
          0.19184820801124386,
          0.19184820801124386,
          0.21152494729444835,
          0.21152494729444835,
          0.21152494729444835,
          0.2399859451862263,
          0.2399859451862263,
          0.2670414617006325,
          0.2670414617006325,
          0.2670414617006325,
          0.2972593113141251,
          0.2972593113141251,
          0.33309908643710473,
          0.33309908643710473,
          0.3338018271257906,
          0.35804638088545326,
          0.35804638088545326,
          0.38826423049894593,
          0.38826423049894593,
          0.3889669711876318,
          0.4096978215038651,
          0.4096978215038651,
          0.4356992269852425,
          0.4356992269852425,
          0.43640196767392836,
          0.46170063246661985,
          0.46170063246661985,
          0.4898102600140548,
          0.4898102600140548,
          0.4961349262122277,
          0.5094869992972594,
          0.5094869992972594,
          0.5361911454673226,
          0.5361911454673226,
          0.5477863668306395,
          0.5600843288826424,
          0.5600843288826424,
          0.584328882642305,
          0.584328882642305,
          0.606816584680253,
          0.6113843991567112,
          0.6113843991567112,
          0.6398453970484891,
          0.6398453970484891,
          0.6595221363316937,
          0.6654954321855235,
          0.6654954321855235,
          0.6932536893886156,
          0.6932536893886156,
          0.7125790583274771,
          0.7125790583274771,
          0.7125790583274771,
          0.7333099086437105,
          0.7333099086437105,
          0.7512297962052003,
          0.7512297962052003,
          0.7512297962052003,
          0.7846099789177794,
          0.7846099789177794,
          0.8186929023190443,
          0.8186929023190443,
          0.8186929023190443,
          0.8376669009135629,
          0.8376669009135629,
          0.8608573436401968,
          0.8608573436401968,
          0.8608573436401968,
          0.8851018973998594,
          0.8851018973998594,
          0.9149683766690092,
          0.9149683766690092,
          0.9149683766690092,
          0.9536191145467323,
          0.9536191145467323,
          0.9789177793394238,
          0.9789177793394238,
          0.9789177793394238,
          0.9922698524244554,
          0.9922698524244554,
          0.999648629655657,
          0.999648629655657,
          1
         ]
        },
        {
         "line": {
          "width": 3
         },
         "mode": "lines",
         "name": "סיאט",
         "type": "scatter",
         "x": [
          0,
          0.4094276094276094,
          0.8188552188552188,
          1.2282828282828282,
          1.6377104377104377,
          2.047138047138047,
          2.4565656565656564,
          2.865993265993266,
          3.2754208754208753,
          3.6848484848484846,
          4.094276094276094,
          4.503703703703704,
          4.913131313131313,
          5.3225589225589225,
          5.731986531986532,
          6.141414141414141,
          6.550841750841751,
          6.96026936026936,
          7.369696969696969,
          7.779124579124579,
          8.188552188552189,
          8.597979797979798,
          9.007407407407408,
          9.416835016835016,
          9.826262626262626,
          10.235690235690235,
          10.645117845117845,
          11.054545454545455,
          11.463973063973064,
          11.873400673400672,
          12.282828282828282,
          12.692255892255892,
          13.101683501683501,
          13.511111111111111,
          13.92053872053872,
          14.32996632996633,
          14.739393939393938,
          15.148821548821548,
          15.558249158249158,
          15.967676767676767,
          16.377104377104377,
          16.786531986531987,
          17.195959595959597,
          17.605387205387206,
          18.014814814814816,
          18.424242424242422,
          18.833670033670032,
          19.24309764309764,
          19.65252525252525,
          20.06195286195286,
          20.47138047138047,
          20.88080808080808,
          21.29023569023569,
          21.6996632996633,
          22.10909090909091,
          22.51851851851852,
          22.92794612794613,
          23.33737373737374,
          23.746801346801345,
          24.156228956228954,
          24.565656565656564,
          24.975084175084174,
          25.384511784511783,
          25.793939393939393,
          26.203367003367003,
          26.612794612794612,
          27.022222222222222,
          27.431649831649832,
          27.84107744107744,
          28.25050505050505,
          28.65993265993266,
          29.069360269360267,
          29.478787878787877,
          29.888215488215486,
          30.297643097643096,
          30.707070707070706,
          31.116498316498316,
          31.525925925925925,
          31.935353535353535,
          32.344781144781145,
          32.754208754208754,
          33.163636363636364,
          33.573063973063974,
          33.98249158249158,
          34.39191919191919,
          34.8013468013468,
          35.21077441077441,
          35.62020202020202,
          36.02962962962963,
          36.43905723905724,
          36.848484848484844,
          37.257912457912454,
          37.667340067340064,
          38.07676767676767,
          38.48619528619528,
          38.89562289562289,
          39.3050505050505,
          39.71447811447811,
          40.12390572390572,
          40.53333333333333
         ],
         "y": [
          0.1168141592920354,
          0.1168141592920354,
          0.1168141592920354,
          0.2519911504424779,
          0.2519911504424779,
          0.2838495575221239,
          0.28606194690265485,
          0.28606194690265485,
          0.31216814159292033,
          0.31216814159292033,
          0.32964601769911506,
          0.33362831858407077,
          0.33362831858407077,
          0.35597345132743363,
          0.35597345132743363,
          0.37809734513274335,
          0.37809734513274335,
          0.37809734513274335,
          0.3988938053097345,
          0.3988938053097345,
          0.415929203539823,
          0.415929203539823,
          0.415929203539823,
          0.43805309734513276,
          0.43805309734513276,
          0.46438053097345133,
          0.46438053097345133,
          0.46438053097345133,
          0.48495575221238935,
          0.48495575221238935,
          0.504424778761062,
          0.504424778761062,
          0.506858407079646,
          0.5252212389380532,
          0.5252212389380532,
          0.5440265486725664,
          0.5440265486725664,
          0.5449115044247788,
          0.558849557522124,
          0.558849557522124,
          0.5747787610619469,
          0.5747787610619469,
          0.5752212389380531,
          0.5944690265486726,
          0.5944690265486726,
          0.6123893805309735,
          0.6123893805309735,
          0.6190265486725665,
          0.631858407079646,
          0.631858407079646,
          0.649778761061947,
          0.649778761061947,
          0.6564159292035399,
          0.6652654867256638,
          0.6652654867256638,
          0.6816371681415929,
          0.6816371681415929,
          0.6946902654867257,
          0.697787610619469,
          0.697787610619469,
          0.7163716814159292,
          0.7163716814159292,
          0.7318584070796461,
          0.7356194690265487,
          0.7356194690265487,
          0.754424778761062,
          0.754424778761062,
          0.7707964601769912,
          0.7707964601769912,
          0.7707964601769912,
          0.7869469026548673,
          0.7869469026548673,
          0.8008849557522124,
          0.8008849557522124,
          0.8008849557522124,
          0.8137168141592921,
          0.8137168141592921,
          0.8323008849557523,
          0.8323008849557523,
          0.8323008849557523,
          0.8469026548672567,
          0.8469026548672567,
          0.8615044247787611,
          0.8615044247787611,
          0.8615044247787611,
          0.8778761061946903,
          0.8778761061946903,
          0.897566371681416,
          0.897566371681416,
          0.897566371681416,
          0.9347345132743363,
          0.9347345132743363,
          0.9688053097345133,
          0.9688053097345133,
          0.9688053097345133,
          0.9889380530973452,
          0.9889380530973452,
          0.9993362831858408,
          0.9993362831858408,
          1
         ]
        },
        {
         "line": {
          "width": 3
         },
         "mode": "lines",
         "name": "סקודה",
         "type": "scatter",
         "x": [
          0,
          0.4094276094276094,
          0.8188552188552188,
          1.2282828282828282,
          1.6377104377104377,
          2.047138047138047,
          2.4565656565656564,
          2.865993265993266,
          3.2754208754208753,
          3.6848484848484846,
          4.094276094276094,
          4.503703703703704,
          4.913131313131313,
          5.3225589225589225,
          5.731986531986532,
          6.141414141414141,
          6.550841750841751,
          6.96026936026936,
          7.369696969696969,
          7.779124579124579,
          8.188552188552189,
          8.597979797979798,
          9.007407407407408,
          9.416835016835016,
          9.826262626262626,
          10.235690235690235,
          10.645117845117845,
          11.054545454545455,
          11.463973063973064,
          11.873400673400672,
          12.282828282828282,
          12.692255892255892,
          13.101683501683501,
          13.511111111111111,
          13.92053872053872,
          14.32996632996633,
          14.739393939393938,
          15.148821548821548,
          15.558249158249158,
          15.967676767676767,
          16.377104377104377,
          16.786531986531987,
          17.195959595959597,
          17.605387205387206,
          18.014814814814816,
          18.424242424242422,
          18.833670033670032,
          19.24309764309764,
          19.65252525252525,
          20.06195286195286,
          20.47138047138047,
          20.88080808080808,
          21.29023569023569,
          21.6996632996633,
          22.10909090909091,
          22.51851851851852,
          22.92794612794613,
          23.33737373737374,
          23.746801346801345,
          24.156228956228954,
          24.565656565656564,
          24.975084175084174,
          25.384511784511783,
          25.793939393939393,
          26.203367003367003,
          26.612794612794612,
          27.022222222222222,
          27.431649831649832,
          27.84107744107744,
          28.25050505050505,
          28.65993265993266,
          29.069360269360267,
          29.478787878787877,
          29.888215488215486,
          30.297643097643096,
          30.707070707070706,
          31.116498316498316,
          31.525925925925925,
          31.935353535353535,
          32.344781144781145,
          32.754208754208754,
          33.163636363636364,
          33.573063973063974,
          33.98249158249158,
          34.39191919191919,
          34.8013468013468,
          35.21077441077441,
          35.62020202020202,
          36.02962962962963,
          36.43905723905724,
          36.848484848484844,
          37.257912457912454,
          37.667340067340064,
          38.07676767676767,
          38.48619528619528,
          38.89562289562289,
          39.3050505050505,
          39.71447811447811,
          40.12390572390572,
          40.53333333333333
         ],
         "y": [
          0.15298556003642513,
          0.15298556003642513,
          0.15298556003642513,
          0.32119162221933134,
          0.32119162221933134,
          0.3634707948484454,
          0.36698321842071024,
          0.36698321842071024,
          0.3918303629504358,
          0.3918303629504358,
          0.40952257057369584,
          0.41290490438402494,
          0.41290490438402494,
          0.4287758553401847,
          0.4287758553401847,
          0.4434759984389228,
          0.4434759984389228,
          0.4434759984389228,
          0.45960712891895406,
          0.45960712891895406,
          0.47703915701834265,
          0.47703915701834265,
          0.47703915701834265,
          0.4955119032132171,
          0.4955119032132171,
          0.5125536620267984,
          0.5125536620267984,
          0.5125536620267984,
          0.5264732665539221,
          0.5264732665539221,
          0.5445557434629894,
          0.5445557434629894,
          0.5450761025107324,
          0.5602966046572134,
          0.5602966046572134,
          0.5748666579940158,
          0.5748666579940158,
          0.575256927279823,
          0.5883959932353323,
          0.5883959932353323,
          0.6037465851437491,
          0.6037465851437491,
          0.6046572134772993,
          0.6192272668141017,
          0.6192272668141017,
          0.6336672303889683,
          0.6336672303889683,
          0.6401717184857552,
          0.6527904253935215,
          0.6527904253935215,
          0.6664498503967737,
          0.6664498503967737,
          0.6725640692077534,
          0.6811499934955119,
          0.6811499934955119,
          0.6987121113568362,
          0.6987121113568362,
          0.7126317158839599,
          0.7147131520749317,
          0.7147131520749317,
          0.7305841030310914,
          0.7305841030310914,
          0.7452842461298296,
          0.7472355925588656,
          0.7472355925588656,
          0.7660986080395472,
          0.7660986080395472,
          0.7796279432808637,
          0.7796279432808637,
          0.7796279432808637,
          0.7930271887602445,
          0.7930271887602445,
          0.8070768830493039,
          0.8070768830493039,
          0.8070768830493039,
          0.8200858592428776,
          0.8200858592428776,
          0.8388187849616234,
          0.8388187849616234,
          0.8388187849616234,
          0.8526082997268114,
          0.8526082997268114,
          0.8684792506829712,
          0.8684792506829712,
          0.8684792506829712,
          0.8874723559255886,
          0.8874723559255886,
          0.9049043840249772,
          0.9049043840249772,
          0.9049043840249772,
          0.9301417978405099,
          0.9301417978405099,
          0.9640952257057369,
          0.9640952257057369,
          0.9640952257057369,
          0.9882919214257837,
          0.9882919214257837,
          0.9996097307141927,
          0.9996097307141927,
          1
         ]
        },
        {
         "line": {
          "width": 3
         },
         "mode": "lines",
         "name": "קיה",
         "type": "scatter",
         "x": [
          0,
          0.4094276094276094,
          0.8188552188552188,
          1.2282828282828282,
          1.6377104377104377,
          2.047138047138047,
          2.4565656565656564,
          2.865993265993266,
          3.2754208754208753,
          3.6848484848484846,
          4.094276094276094,
          4.503703703703704,
          4.913131313131313,
          5.3225589225589225,
          5.731986531986532,
          6.141414141414141,
          6.550841750841751,
          6.96026936026936,
          7.369696969696969,
          7.779124579124579,
          8.188552188552189,
          8.597979797979798,
          9.007407407407408,
          9.416835016835016,
          9.826262626262626,
          10.235690235690235,
          10.645117845117845,
          11.054545454545455,
          11.463973063973064,
          11.873400673400672,
          12.282828282828282,
          12.692255892255892,
          13.101683501683501,
          13.511111111111111,
          13.92053872053872,
          14.32996632996633,
          14.739393939393938,
          15.148821548821548,
          15.558249158249158,
          15.967676767676767,
          16.377104377104377,
          16.786531986531987,
          17.195959595959597,
          17.605387205387206,
          18.014814814814816,
          18.424242424242422,
          18.833670033670032,
          19.24309764309764,
          19.65252525252525,
          20.06195286195286,
          20.47138047138047,
          20.88080808080808,
          21.29023569023569,
          21.6996632996633,
          22.10909090909091,
          22.51851851851852,
          22.92794612794613,
          23.33737373737374,
          23.746801346801345,
          24.156228956228954,
          24.565656565656564,
          24.975084175084174,
          25.384511784511783,
          25.793939393939393,
          26.203367003367003,
          26.612794612794612,
          27.022222222222222,
          27.431649831649832,
          27.84107744107744,
          28.25050505050505,
          28.65993265993266,
          29.069360269360267,
          29.478787878787877,
          29.888215488215486,
          30.297643097643096,
          30.707070707070706,
          31.116498316498316,
          31.525925925925925,
          31.935353535353535,
          32.344781144781145,
          32.754208754208754,
          33.163636363636364,
          33.573063973063974,
          33.98249158249158,
          34.39191919191919,
          34.8013468013468,
          35.21077441077441,
          35.62020202020202,
          36.02962962962963,
          36.43905723905724,
          36.848484848484844,
          37.257912457912454,
          37.667340067340064,
          38.07676767676767,
          38.48619528619528,
          38.89562289562289,
          39.3050505050505,
          39.71447811447811,
          40.12390572390572,
          40.53333333333333
         ],
         "y": [
          0.2117079977167502,
          0.2117079977167502,
          0.2117079977167502,
          0.47764317879114615,
          0.47764317879114615,
          0.5488678886281474,
          0.555527367286104,
          0.555527367286104,
          0.5889516077884189,
          0.5889516077884189,
          0.604807509354982,
          0.6084860785184246,
          0.6084860785184246,
          0.6244688272975202,
          0.6244688272975202,
          0.6371535485507707,
          0.6371535485507707,
          0.6371535485507707,
          0.6468573603095072,
          0.6468573603095072,
          0.6568148664933089,
          0.6568148664933089,
          0.6568148664933089,
          0.6672797615272404,
          0.6672797615272404,
          0.6781886218050359,
          0.6781886218050359,
          0.6781886218050359,
          0.6896682945392275,
          0.6896682945392275,
          0.6998794951480942,
          0.6998794951480942,
          0.7014016616984843,
          0.7120568275512146,
          0.7120568275512146,
          0.721697215703685,
          0.721697215703685,
          0.7225217225851462,
          0.7311473330373566,
          0.7311473330373566,
          0.7409779920086257,
          0.7409779920086257,
          0.741802498890087,
          0.7511257690112261,
          0.7511257690112261,
          0.7607027335574301,
          0.7607027335574301,
          0.7646349971459377,
          0.7704065453161667,
          0.7704065453161667,
          0.7810617111688971,
          0.7810617111688971,
          0.7851208219699373,
          0.7896238980148412,
          0.7896238980148412,
          0.7993277097735778,
          0.7993277097735778,
          0.8107439589015032,
          0.8127735143020233,
          0.8127735143020233,
          0.8254582355552738,
          0.8254582355552738,
          0.8373818735333292,
          0.8385869220523879,
          0.8385869220523879,
          0.8495592059364496,
          0.8495592059364496,
          0.8581213927823937,
          0.8581213927823937,
          0.8581213927823937,
          0.8663030379907403,
          0.8663030379907403,
          0.8748652248366843,
          0.8748652248366843,
          0.8748652248366843,
          0.8855838142956809,
          0.8855838142956809,
          0.8980782647301326,
          0.8980782647301326,
          0.8980782647301326,
          0.9093676666455256,
          0.9093676666455256,
          0.9195788672543922,
          0.9195788672543922,
          0.9195788672543922,
          0.9320733176888438,
          0.9320733176888438,
          0.9448214625483606,
          0.9448214625483606,
          0.9448214625483606,
          0.9634680027906388,
          0.9634680027906388,
          0.9809094945138581,
          0.9809094945138581,
          0.9809094945138581,
          0.9939747574047061,
          0.9939747574047061,
          0.9994926111498701,
          0.9994926111498701,
          0.9999365763937339
         ]
        }
       ],
       "layout": {
        "template": {
         "data": {
          "bar": [
           {
            "error_x": {
             "color": "#2a3f5f"
            },
            "error_y": {
             "color": "#2a3f5f"
            },
            "marker": {
             "line": {
              "color": "#E5ECF6",
              "width": 0.5
             },
             "pattern": {
              "fillmode": "overlay",
              "size": 10,
              "solidity": 0.2
             }
            },
            "type": "bar"
           }
          ],
          "barpolar": [
           {
            "marker": {
             "line": {
              "color": "#E5ECF6",
              "width": 0.5
             },
             "pattern": {
              "fillmode": "overlay",
              "size": 10,
              "solidity": 0.2
             }
            },
            "type": "barpolar"
           }
          ],
          "carpet": [
           {
            "aaxis": {
             "endlinecolor": "#2a3f5f",
             "gridcolor": "white",
             "linecolor": "white",
             "minorgridcolor": "white",
             "startlinecolor": "#2a3f5f"
            },
            "baxis": {
             "endlinecolor": "#2a3f5f",
             "gridcolor": "white",
             "linecolor": "white",
             "minorgridcolor": "white",
             "startlinecolor": "#2a3f5f"
            },
            "type": "carpet"
           }
          ],
          "choropleth": [
           {
            "colorbar": {
             "outlinewidth": 0,
             "ticks": ""
            },
            "type": "choropleth"
           }
          ],
          "contour": [
           {
            "colorbar": {
             "outlinewidth": 0,
             "ticks": ""
            },
            "colorscale": [
             [
              0,
              "#0d0887"
             ],
             [
              0.1111111111111111,
              "#46039f"
             ],
             [
              0.2222222222222222,
              "#7201a8"
             ],
             [
              0.3333333333333333,
              "#9c179e"
             ],
             [
              0.4444444444444444,
              "#bd3786"
             ],
             [
              0.5555555555555556,
              "#d8576b"
             ],
             [
              0.6666666666666666,
              "#ed7953"
             ],
             [
              0.7777777777777778,
              "#fb9f3a"
             ],
             [
              0.8888888888888888,
              "#fdca26"
             ],
             [
              1,
              "#f0f921"
             ]
            ],
            "type": "contour"
           }
          ],
          "contourcarpet": [
           {
            "colorbar": {
             "outlinewidth": 0,
             "ticks": ""
            },
            "type": "contourcarpet"
           }
          ],
          "heatmap": [
           {
            "colorbar": {
             "outlinewidth": 0,
             "ticks": ""
            },
            "colorscale": [
             [
              0,
              "#0d0887"
             ],
             [
              0.1111111111111111,
              "#46039f"
             ],
             [
              0.2222222222222222,
              "#7201a8"
             ],
             [
              0.3333333333333333,
              "#9c179e"
             ],
             [
              0.4444444444444444,
              "#bd3786"
             ],
             [
              0.5555555555555556,
              "#d8576b"
             ],
             [
              0.6666666666666666,
              "#ed7953"
             ],
             [
              0.7777777777777778,
              "#fb9f3a"
             ],
             [
              0.8888888888888888,
              "#fdca26"
             ],
             [
              1,
              "#f0f921"
             ]
            ],
            "type": "heatmap"
           }
          ],
          "heatmapgl": [
           {
            "colorbar": {
             "outlinewidth": 0,
             "ticks": ""
            },
            "colorscale": [
             [
              0,
              "#0d0887"
             ],
             [
              0.1111111111111111,
              "#46039f"
             ],
             [
              0.2222222222222222,
              "#7201a8"
             ],
             [
              0.3333333333333333,
              "#9c179e"
             ],
             [
              0.4444444444444444,
              "#bd3786"
             ],
             [
              0.5555555555555556,
              "#d8576b"
             ],
             [
              0.6666666666666666,
              "#ed7953"
             ],
             [
              0.7777777777777778,
              "#fb9f3a"
             ],
             [
              0.8888888888888888,
              "#fdca26"
             ],
             [
              1,
              "#f0f921"
             ]
            ],
            "type": "heatmapgl"
           }
          ],
          "histogram": [
           {
            "marker": {
             "pattern": {
              "fillmode": "overlay",
              "size": 10,
              "solidity": 0.2
             }
            },
            "type": "histogram"
           }
          ],
          "histogram2d": [
           {
            "colorbar": {
             "outlinewidth": 0,
             "ticks": ""
            },
            "colorscale": [
             [
              0,
              "#0d0887"
             ],
             [
              0.1111111111111111,
              "#46039f"
             ],
             [
              0.2222222222222222,
              "#7201a8"
             ],
             [
              0.3333333333333333,
              "#9c179e"
             ],
             [
              0.4444444444444444,
              "#bd3786"
             ],
             [
              0.5555555555555556,
              "#d8576b"
             ],
             [
              0.6666666666666666,
              "#ed7953"
             ],
             [
              0.7777777777777778,
              "#fb9f3a"
             ],
             [
              0.8888888888888888,
              "#fdca26"
             ],
             [
              1,
              "#f0f921"
             ]
            ],
            "type": "histogram2d"
           }
          ],
          "histogram2dcontour": [
           {
            "colorbar": {
             "outlinewidth": 0,
             "ticks": ""
            },
            "colorscale": [
             [
              0,
              "#0d0887"
             ],
             [
              0.1111111111111111,
              "#46039f"
             ],
             [
              0.2222222222222222,
              "#7201a8"
             ],
             [
              0.3333333333333333,
              "#9c179e"
             ],
             [
              0.4444444444444444,
              "#bd3786"
             ],
             [
              0.5555555555555556,
              "#d8576b"
             ],
             [
              0.6666666666666666,
              "#ed7953"
             ],
             [
              0.7777777777777778,
              "#fb9f3a"
             ],
             [
              0.8888888888888888,
              "#fdca26"
             ],
             [
              1,
              "#f0f921"
             ]
            ],
            "type": "histogram2dcontour"
           }
          ],
          "mesh3d": [
           {
            "colorbar": {
             "outlinewidth": 0,
             "ticks": ""
            },
            "type": "mesh3d"
           }
          ],
          "parcoords": [
           {
            "line": {
             "colorbar": {
              "outlinewidth": 0,
              "ticks": ""
             }
            },
            "type": "parcoords"
           }
          ],
          "pie": [
           {
            "automargin": true,
            "type": "pie"
           }
          ],
          "scatter": [
           {
            "fillpattern": {
             "fillmode": "overlay",
             "size": 10,
             "solidity": 0.2
            },
            "type": "scatter"
           }
          ],
          "scatter3d": [
           {
            "line": {
             "colorbar": {
              "outlinewidth": 0,
              "ticks": ""
             }
            },
            "marker": {
             "colorbar": {
              "outlinewidth": 0,
              "ticks": ""
             }
            },
            "type": "scatter3d"
           }
          ],
          "scattercarpet": [
           {
            "marker": {
             "colorbar": {
              "outlinewidth": 0,
              "ticks": ""
             }
            },
            "type": "scattercarpet"
           }
          ],
          "scattergeo": [
           {
            "marker": {
             "colorbar": {
              "outlinewidth": 0,
              "ticks": ""
             }
            },
            "type": "scattergeo"
           }
          ],
          "scattergl": [
           {
            "marker": {
             "colorbar": {
              "outlinewidth": 0,
              "ticks": ""
             }
            },
            "type": "scattergl"
           }
          ],
          "scattermapbox": [
           {
            "marker": {
             "colorbar": {
              "outlinewidth": 0,
              "ticks": ""
             }
            },
            "type": "scattermapbox"
           }
          ],
          "scatterpolar": [
           {
            "marker": {
             "colorbar": {
              "outlinewidth": 0,
              "ticks": ""
             }
            },
            "type": "scatterpolar"
           }
          ],
          "scatterpolargl": [
           {
            "marker": {
             "colorbar": {
              "outlinewidth": 0,
              "ticks": ""
             }
            },
            "type": "scatterpolargl"
           }
          ],
          "scatterternary": [
           {
            "marker": {
             "colorbar": {
              "outlinewidth": 0,
              "ticks": ""
             }
            },
            "type": "scatterternary"
           }
          ],
          "surface": [
           {
            "colorbar": {
             "outlinewidth": 0,
             "ticks": ""
            },
            "colorscale": [
             [
              0,
              "#0d0887"
             ],
             [
              0.1111111111111111,
              "#46039f"
             ],
             [
              0.2222222222222222,
              "#7201a8"
             ],
             [
              0.3333333333333333,
              "#9c179e"
             ],
             [
              0.4444444444444444,
              "#bd3786"
             ],
             [
              0.5555555555555556,
              "#d8576b"
             ],
             [
              0.6666666666666666,
              "#ed7953"
             ],
             [
              0.7777777777777778,
              "#fb9f3a"
             ],
             [
              0.8888888888888888,
              "#fdca26"
             ],
             [
              1,
              "#f0f921"
             ]
            ],
            "type": "surface"
           }
          ],
          "table": [
           {
            "cells": {
             "fill": {
              "color": "#EBF0F8"
             },
             "line": {
              "color": "white"
             }
            },
            "header": {
             "fill": {
              "color": "#C8D4E3"
             },
             "line": {
              "color": "white"
             }
            },
            "type": "table"
           }
          ]
         },
         "layout": {
          "annotationdefaults": {
           "arrowcolor": "#2a3f5f",
           "arrowhead": 0,
           "arrowwidth": 1
          },
          "autotypenumbers": "strict",
          "coloraxis": {
           "colorbar": {
            "outlinewidth": 0,
            "ticks": ""
           }
          },
          "colorscale": {
           "diverging": [
            [
             0,
             "#8e0152"
            ],
            [
             0.1,
             "#c51b7d"
            ],
            [
             0.2,
             "#de77ae"
            ],
            [
             0.3,
             "#f1b6da"
            ],
            [
             0.4,
             "#fde0ef"
            ],
            [
             0.5,
             "#f7f7f7"
            ],
            [
             0.6,
             "#e6f5d0"
            ],
            [
             0.7,
             "#b8e186"
            ],
            [
             0.8,
             "#7fbc41"
            ],
            [
             0.9,
             "#4d9221"
            ],
            [
             1,
             "#276419"
            ]
           ],
           "sequential": [
            [
             0,
             "#0d0887"
            ],
            [
             0.1111111111111111,
             "#46039f"
            ],
            [
             0.2222222222222222,
             "#7201a8"
            ],
            [
             0.3333333333333333,
             "#9c179e"
            ],
            [
             0.4444444444444444,
             "#bd3786"
            ],
            [
             0.5555555555555556,
             "#d8576b"
            ],
            [
             0.6666666666666666,
             "#ed7953"
            ],
            [
             0.7777777777777778,
             "#fb9f3a"
            ],
            [
             0.8888888888888888,
             "#fdca26"
            ],
            [
             1,
             "#f0f921"
            ]
           ],
           "sequentialminus": [
            [
             0,
             "#0d0887"
            ],
            [
             0.1111111111111111,
             "#46039f"
            ],
            [
             0.2222222222222222,
             "#7201a8"
            ],
            [
             0.3333333333333333,
             "#9c179e"
            ],
            [
             0.4444444444444444,
             "#bd3786"
            ],
            [
             0.5555555555555556,
             "#d8576b"
            ],
            [
             0.6666666666666666,
             "#ed7953"
            ],
            [
             0.7777777777777778,
             "#fb9f3a"
            ],
            [
             0.8888888888888888,
             "#fdca26"
            ],
            [
             1,
             "#f0f921"
            ]
           ]
          },
          "colorway": [
           "#636efa",
           "#EF553B",
           "#00cc96",
           "#ab63fa",
           "#FFA15A",
           "#19d3f3",
           "#FF6692",
           "#B6E880",
           "#FF97FF",
           "#FECB52"
          ],
          "font": {
           "color": "#2a3f5f"
          },
          "geo": {
           "bgcolor": "white",
           "lakecolor": "white",
           "landcolor": "#E5ECF6",
           "showlakes": true,
           "showland": true,
           "subunitcolor": "white"
          },
          "hoverlabel": {
           "align": "left"
          },
          "hovermode": "closest",
          "mapbox": {
           "style": "light"
          },
          "paper_bgcolor": "white",
          "plot_bgcolor": "#E5ECF6",
          "polar": {
           "angularaxis": {
            "gridcolor": "white",
            "linecolor": "white",
            "ticks": ""
           },
           "bgcolor": "#E5ECF6",
           "radialaxis": {
            "gridcolor": "white",
            "linecolor": "white",
            "ticks": ""
           }
          },
          "scene": {
           "xaxis": {
            "backgroundcolor": "#E5ECF6",
            "gridcolor": "white",
            "gridwidth": 2,
            "linecolor": "white",
            "showbackground": true,
            "ticks": "",
            "zerolinecolor": "white"
           },
           "yaxis": {
            "backgroundcolor": "#E5ECF6",
            "gridcolor": "white",
            "gridwidth": 2,
            "linecolor": "white",
            "showbackground": true,
            "ticks": "",
            "zerolinecolor": "white"
           },
           "zaxis": {
            "backgroundcolor": "#E5ECF6",
            "gridcolor": "white",
            "gridwidth": 2,
            "linecolor": "white",
            "showbackground": true,
            "ticks": "",
            "zerolinecolor": "white"
           }
          },
          "shapedefaults": {
           "line": {
            "color": "#2a3f5f"
           }
          },
          "ternary": {
           "aaxis": {
            "gridcolor": "white",
            "linecolor": "white",
            "ticks": ""
           },
           "baxis": {
            "gridcolor": "white",
            "linecolor": "white",
            "ticks": ""
           },
           "bgcolor": "#E5ECF6",
           "caxis": {
            "gridcolor": "white",
            "linecolor": "white",
            "ticks": ""
           }
          },
          "title": {
           "x": 0.05
          },
          "xaxis": {
           "automargin": true,
           "gridcolor": "white",
           "linecolor": "white",
           "ticks": "",
           "title": {
            "standoff": 15
           },
           "zerolinecolor": "white",
           "zerolinewidth": 2
          },
          "yaxis": {
           "automargin": true,
           "gridcolor": "white",
           "linecolor": "white",
           "ticks": "",
           "title": {
            "standoff": 15
           },
           "zerolinecolor": "white",
           "zerolinewidth": 2
          }
         }
        },
        "title": {
         "text": "Months to trade by make, בנזין year >= 2020"
        },
        "xaxis": {
         "title": {
          "text": "משך זמן מהקניה בחודשים"
         }
        },
        "yaxis": {
         "title": {
          "text": "הסתברות מכירה עד תום תקופה"
         }
        }
       }
      },
      "text/html": [
       "<div>                            <div id=\"128236c8-f80c-438d-bd20-7b2b6f3d1fc4\" class=\"plotly-graph-div\" style=\"height:525px; width:100%;\"></div>            <script type=\"text/javascript\">                require([\"plotly\"], function(Plotly) {                    window.PLOTLYENV=window.PLOTLYENV || {};                                    if (document.getElementById(\"128236c8-f80c-438d-bd20-7b2b6f3d1fc4\")) {                    Plotly.newPlot(                        \"128236c8-f80c-438d-bd20-7b2b6f3d1fc4\",                        [{\"mode\":\"lines\",\"name\":\"טויוטה\",\"x\":[0.0,0.4094276094276094,0.8188552188552188,1.2282828282828282,1.6377104377104377,2.047138047138047,2.4565656565656564,2.865993265993266,3.2754208754208753,3.6848484848484846,4.094276094276094,4.503703703703704,4.913131313131313,5.3225589225589225,5.731986531986532,6.141414141414141,6.550841750841751,6.96026936026936,7.369696969696969,7.779124579124579,8.188552188552189,8.597979797979798,9.007407407407408,9.416835016835016,9.826262626262626,10.235690235690235,10.645117845117845,11.054545454545455,11.463973063973064,11.873400673400672,12.282828282828282,12.692255892255892,13.101683501683501,13.511111111111111,13.92053872053872,14.32996632996633,14.739393939393938,15.148821548821548,15.558249158249158,15.967676767676767,16.377104377104377,16.786531986531987,17.195959595959597,17.605387205387206,18.014814814814816,18.424242424242422,18.833670033670032,19.24309764309764,19.65252525252525,20.06195286195286,20.47138047138047,20.88080808080808,21.29023569023569,21.6996632996633,22.10909090909091,22.51851851851852,22.92794612794613,23.33737373737374,23.746801346801345,24.156228956228954,24.565656565656564,24.975084175084174,25.384511784511783,25.793939393939393,26.203367003367003,26.612794612794612,27.022222222222222,27.431649831649832,27.84107744107744,28.25050505050505,28.65993265993266,29.069360269360267,29.478787878787877,29.888215488215486,30.297643097643096,30.707070707070706,31.116498316498316,31.525925925925925,31.935353535353535,32.344781144781145,32.754208754208754,33.163636363636364,33.573063973063974,33.98249158249158,34.39191919191919,34.8013468013468,35.21077441077441,35.62020202020202,36.02962962962963,36.43905723905724,36.848484848484844,37.257912457912454,37.667340067340064,38.07676767676767,38.48619528619528,38.89562289562289,39.3050505050505,39.71447811447811,40.12390572390572,40.53333333333333],\"y\":[0.12684069611780455,0.12684069611780455,0.12684069611780455,0.24924698795180722,0.24924698795180722,0.294260374832664,0.2995314591700134,0.2995314591700134,0.3314926372155288,0.3314926372155288,0.34747322623828647,0.35349732262382866,0.35349732262382866,0.3728246318607764,0.3728246318607764,0.39415997322623825,0.39415997322623825,0.39415997322623825,0.4141566265060241,0.4141566265060241,0.43390227576974566,0.43390227576974566,0.43390227576974566,0.45406626506024095,0.45406626506024095,0.4725568942436412,0.4725568942436412,0.4725568942436412,0.4954819277108434,0.4954819277108434,0.5247657295850067,0.5247657295850067,0.5265227576974565,0.5471050870147256,0.5471050870147256,0.5714524765729585,0.5714524765729585,0.572623828647925,0.5930388219544845,0.5930388219544845,0.615545515394913,0.615545515394913,0.6166331994645248,0.63679718875502,0.63679718875502,0.6554551539491298,0.6554551539491298,0.664156626506024,0.678714859437751,0.678714859437751,0.6973728246318608,0.6973728246318608,0.7074129852744311,0.7179551539491298,0.7179551539491298,0.7383701472556894,0.7383701472556894,0.7542670682730923,0.7568607764390897,0.7568607764390897,0.776355421686747,0.776355421686747,0.7921686746987951,0.797272423025435,0.797272423025435,0.81584672021419,0.81584672021419,0.8313253012048193,0.8313253012048193,0.8313253012048193,0.8440428380187416,0.8440428380187416,0.8580153949129853,0.8580153949129853,0.8580153949129853,0.8703145917001338,0.8703145917001338,0.8811077643908969,0.8811077643908969,0.8811077643908969,0.8934906291834003,0.8934906291834003,0.9067938420348058,0.9067938420348058,0.9067938420348058,0.9213520749665328,0.9213520749665328,0.936830655957162,0.936830655957162,0.936830655957162,0.9586680053547523,0.9586680053547523,0.9782463186077643,0.9782463186077643,0.9782463186077643,0.9929718875502007,0.9929718875502007,0.999665327978581,0.999665327978581,1.0],\"type\":\"scatter\",\"line\":{\"width\":3}},{\"mode\":\"lines\",\"name\":\"יונדאי\",\"x\":[0.0,0.4094276094276094,0.8188552188552188,1.2282828282828282,1.6377104377104377,2.047138047138047,2.4565656565656564,2.865993265993266,3.2754208754208753,3.6848484848484846,4.094276094276094,4.503703703703704,4.913131313131313,5.3225589225589225,5.731986531986532,6.141414141414141,6.550841750841751,6.96026936026936,7.369696969696969,7.779124579124579,8.188552188552189,8.597979797979798,9.007407407407408,9.416835016835016,9.826262626262626,10.235690235690235,10.645117845117845,11.054545454545455,11.463973063973064,11.873400673400672,12.282828282828282,12.692255892255892,13.101683501683501,13.511111111111111,13.92053872053872,14.32996632996633,14.739393939393938,15.148821548821548,15.558249158249158,15.967676767676767,16.377104377104377,16.786531986531987,17.195959595959597,17.605387205387206,18.014814814814816,18.424242424242422,18.833670033670032,19.24309764309764,19.65252525252525,20.06195286195286,20.47138047138047,20.88080808080808,21.29023569023569,21.6996632996633,22.10909090909091,22.51851851851852,22.92794612794613,23.33737373737374,23.746801346801345,24.156228956228954,24.565656565656564,24.975084175084174,25.384511784511783,25.793939393939393,26.203367003367003,26.612794612794612,27.022222222222222,27.431649831649832,27.84107744107744,28.25050505050505,28.65993265993266,29.069360269360267,29.478787878787877,29.888215488215486,30.297643097643096,30.707070707070706,31.116498316498316,31.525925925925925,31.935353535353535,32.344781144781145,32.754208754208754,33.163636363636364,33.573063973063974,33.98249158249158,34.39191919191919,34.8013468013468,35.21077441077441,35.62020202020202,36.02962962962963,36.43905723905724,36.848484848484844,37.257912457912454,37.667340067340064,38.07676767676767,38.48619528619528,38.89562289562289,39.3050505050505,39.71447811447811,40.12390572390572,40.53333333333333],\"y\":[0.1633100233100233,0.1633100233100233,0.1633100233100233,0.42097902097902096,0.42097902097902096,0.5161305361305362,0.525034965034965,0.525034965034965,0.573986013986014,0.573986013986014,0.5961305361305361,0.6030769230769231,0.6030769230769231,0.6286247086247087,0.6286247086247087,0.6471794871794871,0.6471794871794871,0.6471794871794871,0.6601398601398601,0.6601398601398601,0.6715151515151515,0.6715151515151515,0.6715151515151515,0.6808391608391609,0.6808391608391609,0.6910955710955711,0.6910955710955711,0.6910955710955711,0.7013053613053613,0.7013053613053613,0.7137529137529137,0.7137529137529137,0.7147319347319347,0.7222843822843823,0.7222843822843823,0.7312354312354312,0.7312354312354312,0.7317482517482518,0.7393006993006993,0.7393006993006993,0.7484382284382284,0.7484382284382284,0.7485780885780886,0.756969696969697,0.756969696969697,0.7655477855477856,0.7655477855477856,0.7692307692307693,0.7742191142191142,0.7742191142191142,0.7844755244755245,0.7844755244755245,0.79002331002331,0.7947785547785547,0.7947785547785547,0.804009324009324,0.804009324009324,0.811981351981352,0.8131934731934732,0.8131934731934732,0.8248951048951049,0.8248951048951049,0.8332867132867133,0.8342657342657342,0.8342657342657342,0.8466200466200466,0.8466200466200466,0.8558041958041958,0.8558041958041958,0.8558041958041958,0.8647552447552448,0.8647552447552448,0.8732867132867133,0.8732867132867133,0.8732867132867133,0.8820979020979021,0.8820979020979021,0.8932867132867133,0.8932867132867133,0.8932867132867133,0.9034965034965035,0.9034965034965035,0.9141724941724941,0.9141724941724941,0.9141724941724941,0.9261538461538461,0.9261538461538461,0.9383216783216783,0.9383216783216783,0.9383216783216783,0.9586946386946387,0.9586946386946387,0.9776223776223776,0.9776223776223776,0.9776223776223776,0.9931934731934732,0.9931934731934732,0.9996736596736596,0.9996736596736596,1.0],\"type\":\"scatter\",\"line\":{\"width\":3}},{\"mode\":\"lines\",\"name\":\"מזדה\",\"x\":[0.0,0.4094276094276094,0.8188552188552188,1.2282828282828282,1.6377104377104377,2.047138047138047,2.4565656565656564,2.865993265993266,3.2754208754208753,3.6848484848484846,4.094276094276094,4.503703703703704,4.913131313131313,5.3225589225589225,5.731986531986532,6.141414141414141,6.550841750841751,6.96026936026936,7.369696969696969,7.779124579124579,8.188552188552189,8.597979797979798,9.007407407407408,9.416835016835016,9.826262626262626,10.235690235690235,10.645117845117845,11.054545454545455,11.463973063973064,11.873400673400672,12.282828282828282,12.692255892255892,13.101683501683501,13.511111111111111,13.92053872053872,14.32996632996633,14.739393939393938,15.148821548821548,15.558249158249158,15.967676767676767,16.377104377104377,16.786531986531987,17.195959595959597,17.605387205387206,18.014814814814816,18.424242424242422,18.833670033670032,19.24309764309764,19.65252525252525,20.06195286195286,20.47138047138047,20.88080808080808,21.29023569023569,21.6996632996633,22.10909090909091,22.51851851851852,22.92794612794613,23.33737373737374,23.746801346801345,24.156228956228954,24.565656565656564,24.975084175084174,25.384511784511783,25.793939393939393,26.203367003367003,26.612794612794612,27.022222222222222,27.431649831649832,27.84107744107744,28.25050505050505,28.65993265993266,29.069360269360267,29.478787878787877,29.888215488215486,30.297643097643096,30.707070707070706,31.116498316498316,31.525925925925925,31.935353535353535,32.344781144781145,32.754208754208754,33.163636363636364,33.573063973063974,33.98249158249158,34.39191919191919,34.8013468013468,35.21077441077441,35.62020202020202,36.02962962962963,36.43905723905724,36.848484848484844,37.257912457912454,37.667340067340064,38.07676767676767,38.48619528619528,38.89562289562289,39.3050505050505,39.71447811447811,40.12390572390572,40.53333333333333],\"y\":[0.225213927412216,0.225213927412216,0.225213927412216,0.5664650339333136,0.5664650339333136,0.6958542342874005,0.7071407494836235,0.7071407494836235,0.7666715845382118,0.7666715845382118,0.789244614930658,0.793375627028622,0.793375627028622,0.8108586603717911,0.8108586603717911,0.8222189436411921,0.8222189436411921,0.8222189436411921,0.8321038654470345,0.8321038654470345,0.8401445854234287,0.8401445854234287,0.8401445854234287,0.8473000885216878,0.8473000885216878,0.8541605193272351,0.8541605193272351,0.8541605193272351,0.8623487754499852,0.8623487754499852,0.8683977574505753,0.8683977574505753,0.868766597816465,0.8752581882561228,0.8752581882561228,0.8816022425494245,0.8816022425494245,0.8821186190616701,0.8878725287695485,0.8878725287695485,0.8931100619651815,0.8931100619651815,0.8931838300383593,0.8990115078194157,0.8990115078194157,0.9041752729418707,0.9041752729418707,0.9058719386249631,0.9087488934789023,0.9087488934789023,0.9128061375036883,0.9128061375036883,0.9148716435526704,0.9175272941870758,0.9175272941870758,0.9229861316022425,0.9229861316022425,0.9269696075538507,0.9275597521392741,0.9275597521392741,0.9329448214812629,0.9329448214812629,0.9361906167010917,0.9367069932133373,0.9367069932133373,0.9407642372381233,0.9407642372381233,0.9460017704337562,0.9460017704337562,0.9460017704337562,0.9493213337267631,0.9493213337267631,0.9533785777515491,0.9533785777515491,0.9533785777515491,0.957583357922691,0.957583357922691,0.961861906167011,0.961861906167011,0.961861906167011,0.9666568309235762,0.9666568309235762,0.9713042195337858,0.9713042195337858,0.9713042195337858,0.9748450870463263,0.9748450870463263,0.9791974033638241,0.9791974033638241,0.9791974033638241,0.9848775449985246,0.9848775449985246,0.9907789908527589,0.9907789908527589,0.9907789908527589,0.9962378282679256,0.9962378282679256,0.9995573915609324,0.9995573915609324,1.0],\"type\":\"scatter\",\"line\":{\"width\":3}},{\"mode\":\"lines\",\"name\":\"מיצובישי\",\"x\":[0.0,0.4094276094276094,0.8188552188552188,1.2282828282828282,1.6377104377104377,2.047138047138047,2.4565656565656564,2.865993265993266,3.2754208754208753,3.6848484848484846,4.094276094276094,4.503703703703704,4.913131313131313,5.3225589225589225,5.731986531986532,6.141414141414141,6.550841750841751,6.96026936026936,7.369696969696969,7.779124579124579,8.188552188552189,8.597979797979798,9.007407407407408,9.416835016835016,9.826262626262626,10.235690235690235,10.645117845117845,11.054545454545455,11.463973063973064,11.873400673400672,12.282828282828282,12.692255892255892,13.101683501683501,13.511111111111111,13.92053872053872,14.32996632996633,14.739393939393938,15.148821548821548,15.558249158249158,15.967676767676767,16.377104377104377,16.786531986531987,17.195959595959597,17.605387205387206,18.014814814814816,18.424242424242422,18.833670033670032,19.24309764309764,19.65252525252525,20.06195286195286,20.47138047138047,20.88080808080808,21.29023569023569,21.6996632996633,22.10909090909091,22.51851851851852,22.92794612794613,23.33737373737374,23.746801346801345,24.156228956228954,24.565656565656564,24.975084175084174,25.384511784511783,25.793939393939393,26.203367003367003,26.612794612794612,27.022222222222222,27.431649831649832,27.84107744107744,28.25050505050505,28.65993265993266,29.069360269360267,29.478787878787877,29.888215488215486,30.297643097643096,30.707070707070706,31.116498316498316,31.525925925925925,31.935353535353535,32.344781144781145,32.754208754208754,33.163636363636364,33.573063973063974,33.98249158249158,34.39191919191919,34.8013468013468,35.21077441077441,35.62020202020202,36.02962962962963,36.43905723905724,36.848484848484844,37.257912457912454,37.667340067340064,38.07676767676767,38.48619528619528,38.89562289562289,39.3050505050505,39.71447811447811,40.12390572390572,40.53333333333333],\"y\":[0.13212814036953344,0.13212814036953344,0.13212814036953344,0.37099561345208026,0.37099561345208026,0.471620364216403,0.4815897913066596,0.4815897913066596,0.5400770969028312,0.5400770969028312,0.5674597899774025,0.57370729762063,0.57370729762063,0.602286321946032,0.602286321946032,0.6218263990429349,0.6218263990429349,0.6218263990429349,0.636315299747441,0.636315299747441,0.6497407948956533,0.6497407948956533,0.6497407948956533,0.6598431476804466,0.6598431476804466,0.669280871992556,0.669280871992556,0.669280871992556,0.6820417386680845,0.6820417386680845,0.6929416456200983,0.6929416456200983,0.6937391997873188,0.7009171872923036,0.7009171872923036,0.709291506048119,0.709291506048119,0.7094244317426558,0.715273162302273,0.715273162302273,0.7217865213345739,0.7217865213345739,0.7221852984181841,0.7313571713412201,0.7313571713412201,0.7413265984314767,0.7413265984314767,0.7454472949621161,0.7494350657982187,0.7494350657982187,0.7586069387212547,0.7586069387212547,0.7623288581682839,0.767114183171607,0.767114183171607,0.7740263192875182,0.7740263192875182,0.7822677123487969,0.7835969692941644,0.7835969692941644,0.7971553901369134,0.7971553901369134,0.8064601887544861,0.8079223713943905,0.8079223713943905,0.8193539811245513,0.8193539811245513,0.8295892596038813,0.8295892596038813,0.8295892596038813,0.8398245380832114,0.8398245380832114,0.8515219992024458,0.8515219992024458,0.8515219992024458,0.865479197128805,0.865479197128805,0.8779742124152597,0.8779742124152597,0.8779742124152597,0.894058221454207,0.894058221454207,0.9081483450751029,0.9081483450751029,0.9081483450751029,0.9219726173069254,0.9219726173069254,0.935132261066064,0.935132261066064,0.935132261066064,0.9571979263591651,0.9571979263591651,0.9808586999867074,0.9808586999867074,0.9808586999867074,0.9929549381895519,0.9929549381895519,0.9993353715273161,0.9993353715273161,1.0],\"type\":\"scatter\",\"line\":{\"width\":3}},{\"mode\":\"lines\",\"name\":\"סוזוקי\",\"x\":[0.0,0.4094276094276094,0.8188552188552188,1.2282828282828282,1.6377104377104377,2.047138047138047,2.4565656565656564,2.865993265993266,3.2754208754208753,3.6848484848484846,4.094276094276094,4.503703703703704,4.913131313131313,5.3225589225589225,5.731986531986532,6.141414141414141,6.550841750841751,6.96026936026936,7.369696969696969,7.779124579124579,8.188552188552189,8.597979797979798,9.007407407407408,9.416835016835016,9.826262626262626,10.235690235690235,10.645117845117845,11.054545454545455,11.463973063973064,11.873400673400672,12.282828282828282,12.692255892255892,13.101683501683501,13.511111111111111,13.92053872053872,14.32996632996633,14.739393939393938,15.148821548821548,15.558249158249158,15.967676767676767,16.377104377104377,16.786531986531987,17.195959595959597,17.605387205387206,18.014814814814816,18.424242424242422,18.833670033670032,19.24309764309764,19.65252525252525,20.06195286195286,20.47138047138047,20.88080808080808,21.29023569023569,21.6996632996633,22.10909090909091,22.51851851851852,22.92794612794613,23.33737373737374,23.746801346801345,24.156228956228954,24.565656565656564,24.975084175084174,25.384511784511783,25.793939393939393,26.203367003367003,26.612794612794612,27.022222222222222,27.431649831649832,27.84107744107744,28.25050505050505,28.65993265993266,29.069360269360267,29.478787878787877,29.888215488215486,30.297643097643096,30.707070707070706,31.116498316498316,31.525925925925925,31.935353535353535,32.344781144781145,32.754208754208754,33.163636363636364,33.573063973063974,33.98249158249158,34.39191919191919,34.8013468013468,35.21077441077441,35.62020202020202,36.02962962962963,36.43905723905724,36.848484848484844,37.257912457912454,37.667340067340064,38.07676767676767,38.48619528619528,38.89562289562289,39.3050505050505,39.71447811447811,40.12390572390572,40.53333333333333],\"y\":[0.031271960646521435,0.031271960646521435,0.031271960646521435,0.06500351370344343,0.06500351370344343,0.08784258608573436,0.08995080815179199,0.08995080815179199,0.10857343640196766,0.10857343640196766,0.12508784258608574,0.13106113843991565,0.13106113843991565,0.1539002108222066,0.1539002108222066,0.17217146872803935,0.17217146872803935,0.17217146872803935,0.19184820801124386,0.19184820801124386,0.21152494729444835,0.21152494729444835,0.21152494729444835,0.2399859451862263,0.2399859451862263,0.2670414617006325,0.2670414617006325,0.2670414617006325,0.2972593113141251,0.2972593113141251,0.33309908643710473,0.33309908643710473,0.3338018271257906,0.35804638088545326,0.35804638088545326,0.38826423049894593,0.38826423049894593,0.3889669711876318,0.4096978215038651,0.4096978215038651,0.4356992269852425,0.4356992269852425,0.43640196767392836,0.46170063246661985,0.46170063246661985,0.4898102600140548,0.4898102600140548,0.4961349262122277,0.5094869992972594,0.5094869992972594,0.5361911454673226,0.5361911454673226,0.5477863668306395,0.5600843288826424,0.5600843288826424,0.584328882642305,0.584328882642305,0.606816584680253,0.6113843991567112,0.6113843991567112,0.6398453970484891,0.6398453970484891,0.6595221363316937,0.6654954321855235,0.6654954321855235,0.6932536893886156,0.6932536893886156,0.7125790583274771,0.7125790583274771,0.7125790583274771,0.7333099086437105,0.7333099086437105,0.7512297962052003,0.7512297962052003,0.7512297962052003,0.7846099789177794,0.7846099789177794,0.8186929023190443,0.8186929023190443,0.8186929023190443,0.8376669009135629,0.8376669009135629,0.8608573436401968,0.8608573436401968,0.8608573436401968,0.8851018973998594,0.8851018973998594,0.9149683766690092,0.9149683766690092,0.9149683766690092,0.9536191145467323,0.9536191145467323,0.9789177793394238,0.9789177793394238,0.9789177793394238,0.9922698524244554,0.9922698524244554,0.999648629655657,0.999648629655657,1.0],\"type\":\"scatter\",\"line\":{\"width\":3}},{\"mode\":\"lines\",\"name\":\"סיאט\",\"x\":[0.0,0.4094276094276094,0.8188552188552188,1.2282828282828282,1.6377104377104377,2.047138047138047,2.4565656565656564,2.865993265993266,3.2754208754208753,3.6848484848484846,4.094276094276094,4.503703703703704,4.913131313131313,5.3225589225589225,5.731986531986532,6.141414141414141,6.550841750841751,6.96026936026936,7.369696969696969,7.779124579124579,8.188552188552189,8.597979797979798,9.007407407407408,9.416835016835016,9.826262626262626,10.235690235690235,10.645117845117845,11.054545454545455,11.463973063973064,11.873400673400672,12.282828282828282,12.692255892255892,13.101683501683501,13.511111111111111,13.92053872053872,14.32996632996633,14.739393939393938,15.148821548821548,15.558249158249158,15.967676767676767,16.377104377104377,16.786531986531987,17.195959595959597,17.605387205387206,18.014814814814816,18.424242424242422,18.833670033670032,19.24309764309764,19.65252525252525,20.06195286195286,20.47138047138047,20.88080808080808,21.29023569023569,21.6996632996633,22.10909090909091,22.51851851851852,22.92794612794613,23.33737373737374,23.746801346801345,24.156228956228954,24.565656565656564,24.975084175084174,25.384511784511783,25.793939393939393,26.203367003367003,26.612794612794612,27.022222222222222,27.431649831649832,27.84107744107744,28.25050505050505,28.65993265993266,29.069360269360267,29.478787878787877,29.888215488215486,30.297643097643096,30.707070707070706,31.116498316498316,31.525925925925925,31.935353535353535,32.344781144781145,32.754208754208754,33.163636363636364,33.573063973063974,33.98249158249158,34.39191919191919,34.8013468013468,35.21077441077441,35.62020202020202,36.02962962962963,36.43905723905724,36.848484848484844,37.257912457912454,37.667340067340064,38.07676767676767,38.48619528619528,38.89562289562289,39.3050505050505,39.71447811447811,40.12390572390572,40.53333333333333],\"y\":[0.1168141592920354,0.1168141592920354,0.1168141592920354,0.2519911504424779,0.2519911504424779,0.2838495575221239,0.28606194690265485,0.28606194690265485,0.31216814159292033,0.31216814159292033,0.32964601769911506,0.33362831858407077,0.33362831858407077,0.35597345132743363,0.35597345132743363,0.37809734513274335,0.37809734513274335,0.37809734513274335,0.3988938053097345,0.3988938053097345,0.415929203539823,0.415929203539823,0.415929203539823,0.43805309734513276,0.43805309734513276,0.46438053097345133,0.46438053097345133,0.46438053097345133,0.48495575221238935,0.48495575221238935,0.504424778761062,0.504424778761062,0.506858407079646,0.5252212389380532,0.5252212389380532,0.5440265486725664,0.5440265486725664,0.5449115044247788,0.558849557522124,0.558849557522124,0.5747787610619469,0.5747787610619469,0.5752212389380531,0.5944690265486726,0.5944690265486726,0.6123893805309735,0.6123893805309735,0.6190265486725665,0.631858407079646,0.631858407079646,0.649778761061947,0.649778761061947,0.6564159292035399,0.6652654867256638,0.6652654867256638,0.6816371681415929,0.6816371681415929,0.6946902654867257,0.697787610619469,0.697787610619469,0.7163716814159292,0.7163716814159292,0.7318584070796461,0.7356194690265487,0.7356194690265487,0.754424778761062,0.754424778761062,0.7707964601769912,0.7707964601769912,0.7707964601769912,0.7869469026548673,0.7869469026548673,0.8008849557522124,0.8008849557522124,0.8008849557522124,0.8137168141592921,0.8137168141592921,0.8323008849557523,0.8323008849557523,0.8323008849557523,0.8469026548672567,0.8469026548672567,0.8615044247787611,0.8615044247787611,0.8615044247787611,0.8778761061946903,0.8778761061946903,0.897566371681416,0.897566371681416,0.897566371681416,0.9347345132743363,0.9347345132743363,0.9688053097345133,0.9688053097345133,0.9688053097345133,0.9889380530973452,0.9889380530973452,0.9993362831858408,0.9993362831858408,1.0],\"type\":\"scatter\",\"line\":{\"width\":3}},{\"mode\":\"lines\",\"name\":\"סקודה\",\"x\":[0.0,0.4094276094276094,0.8188552188552188,1.2282828282828282,1.6377104377104377,2.047138047138047,2.4565656565656564,2.865993265993266,3.2754208754208753,3.6848484848484846,4.094276094276094,4.503703703703704,4.913131313131313,5.3225589225589225,5.731986531986532,6.141414141414141,6.550841750841751,6.96026936026936,7.369696969696969,7.779124579124579,8.188552188552189,8.597979797979798,9.007407407407408,9.416835016835016,9.826262626262626,10.235690235690235,10.645117845117845,11.054545454545455,11.463973063973064,11.873400673400672,12.282828282828282,12.692255892255892,13.101683501683501,13.511111111111111,13.92053872053872,14.32996632996633,14.739393939393938,15.148821548821548,15.558249158249158,15.967676767676767,16.377104377104377,16.786531986531987,17.195959595959597,17.605387205387206,18.014814814814816,18.424242424242422,18.833670033670032,19.24309764309764,19.65252525252525,20.06195286195286,20.47138047138047,20.88080808080808,21.29023569023569,21.6996632996633,22.10909090909091,22.51851851851852,22.92794612794613,23.33737373737374,23.746801346801345,24.156228956228954,24.565656565656564,24.975084175084174,25.384511784511783,25.793939393939393,26.203367003367003,26.612794612794612,27.022222222222222,27.431649831649832,27.84107744107744,28.25050505050505,28.65993265993266,29.069360269360267,29.478787878787877,29.888215488215486,30.297643097643096,30.707070707070706,31.116498316498316,31.525925925925925,31.935353535353535,32.344781144781145,32.754208754208754,33.163636363636364,33.573063973063974,33.98249158249158,34.39191919191919,34.8013468013468,35.21077441077441,35.62020202020202,36.02962962962963,36.43905723905724,36.848484848484844,37.257912457912454,37.667340067340064,38.07676767676767,38.48619528619528,38.89562289562289,39.3050505050505,39.71447811447811,40.12390572390572,40.53333333333333],\"y\":[0.15298556003642513,0.15298556003642513,0.15298556003642513,0.32119162221933134,0.32119162221933134,0.3634707948484454,0.36698321842071024,0.36698321842071024,0.3918303629504358,0.3918303629504358,0.40952257057369584,0.41290490438402494,0.41290490438402494,0.4287758553401847,0.4287758553401847,0.4434759984389228,0.4434759984389228,0.4434759984389228,0.45960712891895406,0.45960712891895406,0.47703915701834265,0.47703915701834265,0.47703915701834265,0.4955119032132171,0.4955119032132171,0.5125536620267984,0.5125536620267984,0.5125536620267984,0.5264732665539221,0.5264732665539221,0.5445557434629894,0.5445557434629894,0.5450761025107324,0.5602966046572134,0.5602966046572134,0.5748666579940158,0.5748666579940158,0.575256927279823,0.5883959932353323,0.5883959932353323,0.6037465851437491,0.6037465851437491,0.6046572134772993,0.6192272668141017,0.6192272668141017,0.6336672303889683,0.6336672303889683,0.6401717184857552,0.6527904253935215,0.6527904253935215,0.6664498503967737,0.6664498503967737,0.6725640692077534,0.6811499934955119,0.6811499934955119,0.6987121113568362,0.6987121113568362,0.7126317158839599,0.7147131520749317,0.7147131520749317,0.7305841030310914,0.7305841030310914,0.7452842461298296,0.7472355925588656,0.7472355925588656,0.7660986080395472,0.7660986080395472,0.7796279432808637,0.7796279432808637,0.7796279432808637,0.7930271887602445,0.7930271887602445,0.8070768830493039,0.8070768830493039,0.8070768830493039,0.8200858592428776,0.8200858592428776,0.8388187849616234,0.8388187849616234,0.8388187849616234,0.8526082997268114,0.8526082997268114,0.8684792506829712,0.8684792506829712,0.8684792506829712,0.8874723559255886,0.8874723559255886,0.9049043840249772,0.9049043840249772,0.9049043840249772,0.9301417978405099,0.9301417978405099,0.9640952257057369,0.9640952257057369,0.9640952257057369,0.9882919214257837,0.9882919214257837,0.9996097307141927,0.9996097307141927,1.0],\"type\":\"scatter\",\"line\":{\"width\":3}},{\"mode\":\"lines\",\"name\":\"קיה\",\"x\":[0.0,0.4094276094276094,0.8188552188552188,1.2282828282828282,1.6377104377104377,2.047138047138047,2.4565656565656564,2.865993265993266,3.2754208754208753,3.6848484848484846,4.094276094276094,4.503703703703704,4.913131313131313,5.3225589225589225,5.731986531986532,6.141414141414141,6.550841750841751,6.96026936026936,7.369696969696969,7.779124579124579,8.188552188552189,8.597979797979798,9.007407407407408,9.416835016835016,9.826262626262626,10.235690235690235,10.645117845117845,11.054545454545455,11.463973063973064,11.873400673400672,12.282828282828282,12.692255892255892,13.101683501683501,13.511111111111111,13.92053872053872,14.32996632996633,14.739393939393938,15.148821548821548,15.558249158249158,15.967676767676767,16.377104377104377,16.786531986531987,17.195959595959597,17.605387205387206,18.014814814814816,18.424242424242422,18.833670033670032,19.24309764309764,19.65252525252525,20.06195286195286,20.47138047138047,20.88080808080808,21.29023569023569,21.6996632996633,22.10909090909091,22.51851851851852,22.92794612794613,23.33737373737374,23.746801346801345,24.156228956228954,24.565656565656564,24.975084175084174,25.384511784511783,25.793939393939393,26.203367003367003,26.612794612794612,27.022222222222222,27.431649831649832,27.84107744107744,28.25050505050505,28.65993265993266,29.069360269360267,29.478787878787877,29.888215488215486,30.297643097643096,30.707070707070706,31.116498316498316,31.525925925925925,31.935353535353535,32.344781144781145,32.754208754208754,33.163636363636364,33.573063973063974,33.98249158249158,34.39191919191919,34.8013468013468,35.21077441077441,35.62020202020202,36.02962962962963,36.43905723905724,36.848484848484844,37.257912457912454,37.667340067340064,38.07676767676767,38.48619528619528,38.89562289562289,39.3050505050505,39.71447811447811,40.12390572390572,40.53333333333333],\"y\":[0.2117079977167502,0.2117079977167502,0.2117079977167502,0.47764317879114615,0.47764317879114615,0.5488678886281474,0.555527367286104,0.555527367286104,0.5889516077884189,0.5889516077884189,0.604807509354982,0.6084860785184246,0.6084860785184246,0.6244688272975202,0.6244688272975202,0.6371535485507707,0.6371535485507707,0.6371535485507707,0.6468573603095072,0.6468573603095072,0.6568148664933089,0.6568148664933089,0.6568148664933089,0.6672797615272404,0.6672797615272404,0.6781886218050359,0.6781886218050359,0.6781886218050359,0.6896682945392275,0.6896682945392275,0.6998794951480942,0.6998794951480942,0.7014016616984843,0.7120568275512146,0.7120568275512146,0.721697215703685,0.721697215703685,0.7225217225851462,0.7311473330373566,0.7311473330373566,0.7409779920086257,0.7409779920086257,0.741802498890087,0.7511257690112261,0.7511257690112261,0.7607027335574301,0.7607027335574301,0.7646349971459377,0.7704065453161667,0.7704065453161667,0.7810617111688971,0.7810617111688971,0.7851208219699373,0.7896238980148412,0.7896238980148412,0.7993277097735778,0.7993277097735778,0.8107439589015032,0.8127735143020233,0.8127735143020233,0.8254582355552738,0.8254582355552738,0.8373818735333292,0.8385869220523879,0.8385869220523879,0.8495592059364496,0.8495592059364496,0.8581213927823937,0.8581213927823937,0.8581213927823937,0.8663030379907403,0.8663030379907403,0.8748652248366843,0.8748652248366843,0.8748652248366843,0.8855838142956809,0.8855838142956809,0.8980782647301326,0.8980782647301326,0.8980782647301326,0.9093676666455256,0.9093676666455256,0.9195788672543922,0.9195788672543922,0.9195788672543922,0.9320733176888438,0.9320733176888438,0.9448214625483606,0.9448214625483606,0.9448214625483606,0.9634680027906388,0.9634680027906388,0.9809094945138581,0.9809094945138581,0.9809094945138581,0.9939747574047061,0.9939747574047061,0.9994926111498701,0.9994926111498701,0.9999365763937339],\"type\":\"scatter\",\"line\":{\"width\":3}}],                        {\"template\":{\"data\":{\"histogram2dcontour\":[{\"type\":\"histogram2dcontour\",\"colorbar\":{\"outlinewidth\":0,\"ticks\":\"\"},\"colorscale\":[[0.0,\"#0d0887\"],[0.1111111111111111,\"#46039f\"],[0.2222222222222222,\"#7201a8\"],[0.3333333333333333,\"#9c179e\"],[0.4444444444444444,\"#bd3786\"],[0.5555555555555556,\"#d8576b\"],[0.6666666666666666,\"#ed7953\"],[0.7777777777777778,\"#fb9f3a\"],[0.8888888888888888,\"#fdca26\"],[1.0,\"#f0f921\"]]}],\"choropleth\":[{\"type\":\"choropleth\",\"colorbar\":{\"outlinewidth\":0,\"ticks\":\"\"}}],\"histogram2d\":[{\"type\":\"histogram2d\",\"colorbar\":{\"outlinewidth\":0,\"ticks\":\"\"},\"colorscale\":[[0.0,\"#0d0887\"],[0.1111111111111111,\"#46039f\"],[0.2222222222222222,\"#7201a8\"],[0.3333333333333333,\"#9c179e\"],[0.4444444444444444,\"#bd3786\"],[0.5555555555555556,\"#d8576b\"],[0.6666666666666666,\"#ed7953\"],[0.7777777777777778,\"#fb9f3a\"],[0.8888888888888888,\"#fdca26\"],[1.0,\"#f0f921\"]]}],\"heatmap\":[{\"type\":\"heatmap\",\"colorbar\":{\"outlinewidth\":0,\"ticks\":\"\"},\"colorscale\":[[0.0,\"#0d0887\"],[0.1111111111111111,\"#46039f\"],[0.2222222222222222,\"#7201a8\"],[0.3333333333333333,\"#9c179e\"],[0.4444444444444444,\"#bd3786\"],[0.5555555555555556,\"#d8576b\"],[0.6666666666666666,\"#ed7953\"],[0.7777777777777778,\"#fb9f3a\"],[0.8888888888888888,\"#fdca26\"],[1.0,\"#f0f921\"]]}],\"heatmapgl\":[{\"type\":\"heatmapgl\",\"colorbar\":{\"outlinewidth\":0,\"ticks\":\"\"},\"colorscale\":[[0.0,\"#0d0887\"],[0.1111111111111111,\"#46039f\"],[0.2222222222222222,\"#7201a8\"],[0.3333333333333333,\"#9c179e\"],[0.4444444444444444,\"#bd3786\"],[0.5555555555555556,\"#d8576b\"],[0.6666666666666666,\"#ed7953\"],[0.7777777777777778,\"#fb9f3a\"],[0.8888888888888888,\"#fdca26\"],[1.0,\"#f0f921\"]]}],\"contourcarpet\":[{\"type\":\"contourcarpet\",\"colorbar\":{\"outlinewidth\":0,\"ticks\":\"\"}}],\"contour\":[{\"type\":\"contour\",\"colorbar\":{\"outlinewidth\":0,\"ticks\":\"\"},\"colorscale\":[[0.0,\"#0d0887\"],[0.1111111111111111,\"#46039f\"],[0.2222222222222222,\"#7201a8\"],[0.3333333333333333,\"#9c179e\"],[0.4444444444444444,\"#bd3786\"],[0.5555555555555556,\"#d8576b\"],[0.6666666666666666,\"#ed7953\"],[0.7777777777777778,\"#fb9f3a\"],[0.8888888888888888,\"#fdca26\"],[1.0,\"#f0f921\"]]}],\"surface\":[{\"type\":\"surface\",\"colorbar\":{\"outlinewidth\":0,\"ticks\":\"\"},\"colorscale\":[[0.0,\"#0d0887\"],[0.1111111111111111,\"#46039f\"],[0.2222222222222222,\"#7201a8\"],[0.3333333333333333,\"#9c179e\"],[0.4444444444444444,\"#bd3786\"],[0.5555555555555556,\"#d8576b\"],[0.6666666666666666,\"#ed7953\"],[0.7777777777777778,\"#fb9f3a\"],[0.8888888888888888,\"#fdca26\"],[1.0,\"#f0f921\"]]}],\"mesh3d\":[{\"type\":\"mesh3d\",\"colorbar\":{\"outlinewidth\":0,\"ticks\":\"\"}}],\"scatter\":[{\"fillpattern\":{\"fillmode\":\"overlay\",\"size\":10,\"solidity\":0.2},\"type\":\"scatter\"}],\"parcoords\":[{\"type\":\"parcoords\",\"line\":{\"colorbar\":{\"outlinewidth\":0,\"ticks\":\"\"}}}],\"scatterpolargl\":[{\"type\":\"scatterpolargl\",\"marker\":{\"colorbar\":{\"outlinewidth\":0,\"ticks\":\"\"}}}],\"bar\":[{\"error_x\":{\"color\":\"#2a3f5f\"},\"error_y\":{\"color\":\"#2a3f5f\"},\"marker\":{\"line\":{\"color\":\"#E5ECF6\",\"width\":0.5},\"pattern\":{\"fillmode\":\"overlay\",\"size\":10,\"solidity\":0.2}},\"type\":\"bar\"}],\"scattergeo\":[{\"type\":\"scattergeo\",\"marker\":{\"colorbar\":{\"outlinewidth\":0,\"ticks\":\"\"}}}],\"scatterpolar\":[{\"type\":\"scatterpolar\",\"marker\":{\"colorbar\":{\"outlinewidth\":0,\"ticks\":\"\"}}}],\"histogram\":[{\"marker\":{\"pattern\":{\"fillmode\":\"overlay\",\"size\":10,\"solidity\":0.2}},\"type\":\"histogram\"}],\"scattergl\":[{\"type\":\"scattergl\",\"marker\":{\"colorbar\":{\"outlinewidth\":0,\"ticks\":\"\"}}}],\"scatter3d\":[{\"type\":\"scatter3d\",\"line\":{\"colorbar\":{\"outlinewidth\":0,\"ticks\":\"\"}},\"marker\":{\"colorbar\":{\"outlinewidth\":0,\"ticks\":\"\"}}}],\"scattermapbox\":[{\"type\":\"scattermapbox\",\"marker\":{\"colorbar\":{\"outlinewidth\":0,\"ticks\":\"\"}}}],\"scatterternary\":[{\"type\":\"scatterternary\",\"marker\":{\"colorbar\":{\"outlinewidth\":0,\"ticks\":\"\"}}}],\"scattercarpet\":[{\"type\":\"scattercarpet\",\"marker\":{\"colorbar\":{\"outlinewidth\":0,\"ticks\":\"\"}}}],\"carpet\":[{\"aaxis\":{\"endlinecolor\":\"#2a3f5f\",\"gridcolor\":\"white\",\"linecolor\":\"white\",\"minorgridcolor\":\"white\",\"startlinecolor\":\"#2a3f5f\"},\"baxis\":{\"endlinecolor\":\"#2a3f5f\",\"gridcolor\":\"white\",\"linecolor\":\"white\",\"minorgridcolor\":\"white\",\"startlinecolor\":\"#2a3f5f\"},\"type\":\"carpet\"}],\"table\":[{\"cells\":{\"fill\":{\"color\":\"#EBF0F8\"},\"line\":{\"color\":\"white\"}},\"header\":{\"fill\":{\"color\":\"#C8D4E3\"},\"line\":{\"color\":\"white\"}},\"type\":\"table\"}],\"barpolar\":[{\"marker\":{\"line\":{\"color\":\"#E5ECF6\",\"width\":0.5},\"pattern\":{\"fillmode\":\"overlay\",\"size\":10,\"solidity\":0.2}},\"type\":\"barpolar\"}],\"pie\":[{\"automargin\":true,\"type\":\"pie\"}]},\"layout\":{\"autotypenumbers\":\"strict\",\"colorway\":[\"#636efa\",\"#EF553B\",\"#00cc96\",\"#ab63fa\",\"#FFA15A\",\"#19d3f3\",\"#FF6692\",\"#B6E880\",\"#FF97FF\",\"#FECB52\"],\"font\":{\"color\":\"#2a3f5f\"},\"hovermode\":\"closest\",\"hoverlabel\":{\"align\":\"left\"},\"paper_bgcolor\":\"white\",\"plot_bgcolor\":\"#E5ECF6\",\"polar\":{\"bgcolor\":\"#E5ECF6\",\"angularaxis\":{\"gridcolor\":\"white\",\"linecolor\":\"white\",\"ticks\":\"\"},\"radialaxis\":{\"gridcolor\":\"white\",\"linecolor\":\"white\",\"ticks\":\"\"}},\"ternary\":{\"bgcolor\":\"#E5ECF6\",\"aaxis\":{\"gridcolor\":\"white\",\"linecolor\":\"white\",\"ticks\":\"\"},\"baxis\":{\"gridcolor\":\"white\",\"linecolor\":\"white\",\"ticks\":\"\"},\"caxis\":{\"gridcolor\":\"white\",\"linecolor\":\"white\",\"ticks\":\"\"}},\"coloraxis\":{\"colorbar\":{\"outlinewidth\":0,\"ticks\":\"\"}},\"colorscale\":{\"sequential\":[[0.0,\"#0d0887\"],[0.1111111111111111,\"#46039f\"],[0.2222222222222222,\"#7201a8\"],[0.3333333333333333,\"#9c179e\"],[0.4444444444444444,\"#bd3786\"],[0.5555555555555556,\"#d8576b\"],[0.6666666666666666,\"#ed7953\"],[0.7777777777777778,\"#fb9f3a\"],[0.8888888888888888,\"#fdca26\"],[1.0,\"#f0f921\"]],\"sequentialminus\":[[0.0,\"#0d0887\"],[0.1111111111111111,\"#46039f\"],[0.2222222222222222,\"#7201a8\"],[0.3333333333333333,\"#9c179e\"],[0.4444444444444444,\"#bd3786\"],[0.5555555555555556,\"#d8576b\"],[0.6666666666666666,\"#ed7953\"],[0.7777777777777778,\"#fb9f3a\"],[0.8888888888888888,\"#fdca26\"],[1.0,\"#f0f921\"]],\"diverging\":[[0,\"#8e0152\"],[0.1,\"#c51b7d\"],[0.2,\"#de77ae\"],[0.3,\"#f1b6da\"],[0.4,\"#fde0ef\"],[0.5,\"#f7f7f7\"],[0.6,\"#e6f5d0\"],[0.7,\"#b8e186\"],[0.8,\"#7fbc41\"],[0.9,\"#4d9221\"],[1,\"#276419\"]]},\"xaxis\":{\"gridcolor\":\"white\",\"linecolor\":\"white\",\"ticks\":\"\",\"title\":{\"standoff\":15},\"zerolinecolor\":\"white\",\"automargin\":true,\"zerolinewidth\":2},\"yaxis\":{\"gridcolor\":\"white\",\"linecolor\":\"white\",\"ticks\":\"\",\"title\":{\"standoff\":15},\"zerolinecolor\":\"white\",\"automargin\":true,\"zerolinewidth\":2},\"scene\":{\"xaxis\":{\"backgroundcolor\":\"#E5ECF6\",\"gridcolor\":\"white\",\"linecolor\":\"white\",\"showbackground\":true,\"ticks\":\"\",\"zerolinecolor\":\"white\",\"gridwidth\":2},\"yaxis\":{\"backgroundcolor\":\"#E5ECF6\",\"gridcolor\":\"white\",\"linecolor\":\"white\",\"showbackground\":true,\"ticks\":\"\",\"zerolinecolor\":\"white\",\"gridwidth\":2},\"zaxis\":{\"backgroundcolor\":\"#E5ECF6\",\"gridcolor\":\"white\",\"linecolor\":\"white\",\"showbackground\":true,\"ticks\":\"\",\"zerolinecolor\":\"white\",\"gridwidth\":2}},\"shapedefaults\":{\"line\":{\"color\":\"#2a3f5f\"}},\"annotationdefaults\":{\"arrowcolor\":\"#2a3f5f\",\"arrowhead\":0,\"arrowwidth\":1},\"geo\":{\"bgcolor\":\"white\",\"landcolor\":\"#E5ECF6\",\"subunitcolor\":\"white\",\"showland\":true,\"showlakes\":true,\"lakecolor\":\"white\"},\"title\":{\"x\":0.05},\"mapbox\":{\"style\":\"light\"}}},\"title\":{\"text\":\"Months to trade by make, בנזין year >= 2020\"},\"xaxis\":{\"title\":{\"text\":\"משך זמן מהקניה בחודשים\"}},\"yaxis\":{\"title\":{\"text\":\"הסתברות מכירה עד תום תקופה\"}}},                        {\"responsive\": true}                    ).then(function(){\n",
       "                            \n",
       "var gd = document.getElementById('128236c8-f80c-438d-bd20-7b2b6f3d1fc4');\n",
       "var x = new MutationObserver(function (mutations, observer) {{\n",
       "        var display = window.getComputedStyle(gd).display;\n",
       "        if (!display || display === 'none') {{\n",
       "            console.log([gd, 'removed!']);\n",
       "            Plotly.purge(gd);\n",
       "            observer.disconnect();\n",
       "        }}\n",
       "}});\n",
       "\n",
       "// Listen for the removal of the full notebook cells\n",
       "var notebookContainer = gd.closest('#notebook-container');\n",
       "if (notebookContainer) {{\n",
       "    x.observe(notebookContainer, {childList: true});\n",
       "}}\n",
       "\n",
       "// Listen for the clearing of the current output cell\n",
       "var outputEl = gd.closest('.output');\n",
       "if (outputEl) {{\n",
       "    x.observe(outputEl, {childList: true});\n",
       "}}\n",
       "\n",
       "                        })                };                });            </script>        </div>"
      ]
     },
     "metadata": {},
     "output_type": "display_data"
    }
   ],
   "source": [
    "fuel = 'דיזל'\n",
    "fuel = 'בנזין'\n",
    "big_makes = df.query(\"sug_delek_nm == @fuel and year >= 2020\")['make'].value_counts().head(8)\n",
    "traded_big = traded.merge(big_makes, how='right', left_on='make', right_index=True)\n",
    "\n",
    "plot_deals(traded_big.query(\"sug_delek_nm == @fuel and year >= 2020\"), groupby='make', title='Months to trade by make, ' + fuel +' year >= 2020')"
   ]
  },
  {
   "cell_type": "code",
   "execution_count": 34,
   "id": "45485505",
   "metadata": {
    "scrolled": true
   },
   "outputs": [
    {
     "data": {
      "text/plain": [
       "יונדאי      131416\n",
       "טויוטה      111824\n",
       "קיה          93971\n",
       "מזדה         51116\n",
       "סקודה        49445\n",
       "מיצובישי     36342\n",
       "סיאט         34508\n",
       "סוזוקי       32255\n",
       "Name: make, dtype: int64"
      ]
     },
     "execution_count": 34,
     "metadata": {},
     "output_type": "execute_result"
    }
   ],
   "source": [
    "big_makes"
   ]
  },
  {
   "cell_type": "code",
   "execution_count": 35,
   "id": "45bc585b",
   "metadata": {},
   "outputs": [],
   "source": [
    "from datetime import datetime\n",
    "\n",
    "now = datetime.now()\n",
    "df['days_on_road'] = ((df['test'] - df['moed_aliya_lakvish']).dt.total_seconds())/(24*60*60)\n",
    "df['ownership_days'] = ((now - df['moed_aliya_lakvish']).dt.total_seconds())/(24*60*60)"
   ]
  },
  {
   "cell_type": "code",
   "execution_count": 36,
   "id": "ceb32a3b",
   "metadata": {},
   "outputs": [],
   "source": [
    "df['ownership_count_'] = df['ownership_count'].fillna(1)"
   ]
  },
  {
   "cell_type": "code",
   "execution_count": 37,
   "id": "15e0ac8a",
   "metadata": {
    "scrolled": true
   },
   "outputs": [
    {
     "data": {
      "text/html": [
       "<div>\n",
       "<style scoped>\n",
       "    .dataframe tbody tr th:only-of-type {\n",
       "        vertical-align: middle;\n",
       "    }\n",
       "\n",
       "    .dataframe tbody tr th {\n",
       "        vertical-align: top;\n",
       "    }\n",
       "\n",
       "    .dataframe thead th {\n",
       "        text-align: right;\n",
       "    }\n",
       "</style>\n",
       "<table border=\"1\" class=\"dataframe\">\n",
       "  <thead>\n",
       "    <tr style=\"text-align: right;\">\n",
       "      <th></th>\n",
       "      <th>ownership_days</th>\n",
       "      <th>ownership_count_</th>\n",
       "      <th>avg_own_days</th>\n",
       "    </tr>\n",
       "    <tr>\n",
       "      <th>make</th>\n",
       "      <th></th>\n",
       "      <th></th>\n",
       "      <th></th>\n",
       "    </tr>\n",
       "  </thead>\n",
       "  <tbody>\n",
       "    <tr>\n",
       "      <th>BMW</th>\n",
       "      <td>2.893320e+06</td>\n",
       "      <td>6353.0</td>\n",
       "      <td>455.425828</td>\n",
       "    </tr>\n",
       "    <tr>\n",
       "      <th>רובר</th>\n",
       "      <td>1.079093e+06</td>\n",
       "      <td>2084.0</td>\n",
       "      <td>517.798755</td>\n",
       "    </tr>\n",
       "    <tr>\n",
       "      <th>מרצדס</th>\n",
       "      <td>4.147593e+06</td>\n",
       "      <td>7870.0</td>\n",
       "      <td>527.013091</td>\n",
       "    </tr>\n",
       "    <tr>\n",
       "      <th>אאודי</th>\n",
       "      <td>3.474541e+06</td>\n",
       "      <td>6392.0</td>\n",
       "      <td>543.576457</td>\n",
       "    </tr>\n",
       "    <tr>\n",
       "      <th>קרייזלר</th>\n",
       "      <td>1.663988e+06</td>\n",
       "      <td>3050.0</td>\n",
       "      <td>545.569778</td>\n",
       "    </tr>\n",
       "    <tr>\n",
       "      <th>מזדה</th>\n",
       "      <td>1.015725e+07</td>\n",
       "      <td>16373.0</td>\n",
       "      <td>620.366053</td>\n",
       "    </tr>\n",
       "    <tr>\n",
       "      <th>רנו</th>\n",
       "      <td>7.580012e+06</td>\n",
       "      <td>10978.0</td>\n",
       "      <td>690.472940</td>\n",
       "    </tr>\n",
       "    <tr>\n",
       "      <th>ניסאן</th>\n",
       "      <td>8.133175e+06</td>\n",
       "      <td>11658.0</td>\n",
       "      <td>697.647564</td>\n",
       "    </tr>\n",
       "    <tr>\n",
       "      <th>לקסוס</th>\n",
       "      <td>1.585771e+06</td>\n",
       "      <td>2256.0</td>\n",
       "      <td>702.912815</td>\n",
       "    </tr>\n",
       "    <tr>\n",
       "      <th>שברולט</th>\n",
       "      <td>7.445823e+06</td>\n",
       "      <td>10515.0</td>\n",
       "      <td>708.114423</td>\n",
       "    </tr>\n",
       "    <tr>\n",
       "      <th>אופל</th>\n",
       "      <td>1.182189e+06</td>\n",
       "      <td>1662.0</td>\n",
       "      <td>711.305324</td>\n",
       "    </tr>\n",
       "    <tr>\n",
       "      <th>מיצובישי</th>\n",
       "      <td>1.304511e+07</td>\n",
       "      <td>18146.0</td>\n",
       "      <td>718.897138</td>\n",
       "    </tr>\n",
       "    <tr>\n",
       "      <th>פורד</th>\n",
       "      <td>1.110732e+06</td>\n",
       "      <td>1528.0</td>\n",
       "      <td>726.918893</td>\n",
       "    </tr>\n",
       "    <tr>\n",
       "      <th>MG</th>\n",
       "      <td>1.532012e+06</td>\n",
       "      <td>2056.0</td>\n",
       "      <td>745.142142</td>\n",
       "    </tr>\n",
       "    <tr>\n",
       "      <th>יונדאי</th>\n",
       "      <td>3.503173e+07</td>\n",
       "      <td>47009.0</td>\n",
       "      <td>745.213275</td>\n",
       "    </tr>\n",
       "    <tr>\n",
       "      <th>קיה</th>\n",
       "      <td>2.665543e+07</td>\n",
       "      <td>35683.0</td>\n",
       "      <td>747.006531</td>\n",
       "    </tr>\n",
       "    <tr>\n",
       "      <th>פיג'ו</th>\n",
       "      <td>5.800022e+06</td>\n",
       "      <td>7678.0</td>\n",
       "      <td>755.407910</td>\n",
       "    </tr>\n",
       "    <tr>\n",
       "      <th>וולבו</th>\n",
       "      <td>1.864895e+06</td>\n",
       "      <td>2431.0</td>\n",
       "      <td>767.130773</td>\n",
       "    </tr>\n",
       "    <tr>\n",
       "      <th>דאציה</th>\n",
       "      <td>2.212124e+06</td>\n",
       "      <td>2838.0</td>\n",
       "      <td>779.465724</td>\n",
       "    </tr>\n",
       "    <tr>\n",
       "      <th>סובארו</th>\n",
       "      <td>4.026380e+06</td>\n",
       "      <td>5128.0</td>\n",
       "      <td>785.175432</td>\n",
       "    </tr>\n",
       "    <tr>\n",
       "      <th>סקודה</th>\n",
       "      <td>2.003389e+07</td>\n",
       "      <td>25487.0</td>\n",
       "      <td>786.043315</td>\n",
       "    </tr>\n",
       "    <tr>\n",
       "      <th>סיאט</th>\n",
       "      <td>1.104007e+07</td>\n",
       "      <td>13759.0</td>\n",
       "      <td>802.388827</td>\n",
       "    </tr>\n",
       "    <tr>\n",
       "      <th>הונדה</th>\n",
       "      <td>2.818035e+06</td>\n",
       "      <td>3485.0</td>\n",
       "      <td>808.618441</td>\n",
       "    </tr>\n",
       "    <tr>\n",
       "      <th>סוזוקי</th>\n",
       "      <td>9.807890e+06</td>\n",
       "      <td>12044.0</td>\n",
       "      <td>814.338225</td>\n",
       "    </tr>\n",
       "    <tr>\n",
       "      <th>טויוטה</th>\n",
       "      <td>3.254431e+07</td>\n",
       "      <td>39953.0</td>\n",
       "      <td>814.564801</td>\n",
       "    </tr>\n",
       "    <tr>\n",
       "      <th>סיטרואן</th>\n",
       "      <td>3.547545e+06</td>\n",
       "      <td>4306.0</td>\n",
       "      <td>823.860894</td>\n",
       "    </tr>\n",
       "    <tr>\n",
       "      <th>פולקסווגן</th>\n",
       "      <td>3.919482e+06</td>\n",
       "      <td>4626.0</td>\n",
       "      <td>847.272279</td>\n",
       "    </tr>\n",
       "  </tbody>\n",
       "</table>\n",
       "</div>"
      ],
      "text/plain": [
       "           ownership_days  ownership_count_  avg_own_days\n",
       "make                                                     \n",
       "BMW          2.893320e+06            6353.0    455.425828\n",
       "רובר         1.079093e+06            2084.0    517.798755\n",
       "מרצדס        4.147593e+06            7870.0    527.013091\n",
       "אאודי        3.474541e+06            6392.0    543.576457\n",
       "קרייזלר      1.663988e+06            3050.0    545.569778\n",
       "מזדה         1.015725e+07           16373.0    620.366053\n",
       "רנו          7.580012e+06           10978.0    690.472940\n",
       "ניסאן        8.133175e+06           11658.0    697.647564\n",
       "לקסוס        1.585771e+06            2256.0    702.912815\n",
       "שברולט       7.445823e+06           10515.0    708.114423\n",
       "אופל         1.182189e+06            1662.0    711.305324\n",
       "מיצובישי     1.304511e+07           18146.0    718.897138\n",
       "פורד         1.110732e+06            1528.0    726.918893\n",
       "MG           1.532012e+06            2056.0    745.142142\n",
       "יונדאי       3.503173e+07           47009.0    745.213275\n",
       "קיה          2.665543e+07           35683.0    747.006531\n",
       "פיג'ו        5.800022e+06            7678.0    755.407910\n",
       "וולבו        1.864895e+06            2431.0    767.130773\n",
       "דאציה        2.212124e+06            2838.0    779.465724\n",
       "סובארו       4.026380e+06            5128.0    785.175432\n",
       "סקודה        2.003389e+07           25487.0    786.043315\n",
       "סיאט         1.104007e+07           13759.0    802.388827\n",
       "הונדה        2.818035e+06            3485.0    808.618441\n",
       "סוזוקי       9.807890e+06           12044.0    814.338225\n",
       "טויוטה       3.254431e+07           39953.0    814.564801\n",
       "סיטרואן      3.547545e+06            4306.0    823.860894\n",
       "פולקסווגן    3.919482e+06            4626.0    847.272279"
      ]
     },
     "execution_count": 37,
     "metadata": {},
     "output_type": "execute_result"
    }
   ],
   "source": [
    "agg_own = df.query('year == 2020')[['ownership_days', 'ownership_count_', 'make']].groupby('make').sum()\n",
    "agg_own['avg_own_days'] = agg_own['ownership_days'] / agg_own['ownership_count_']\n",
    "agg_own.query(\"ownership_count_ > 1000\").sort_values(by='avg_own_days')"
   ]
  }
 ],
 "metadata": {
  "kernelspec": {
   "display_name": "Python 3 (ipykernel)",
   "language": "python",
   "name": "python3"
  },
  "language_info": {
   "codemirror_mode": {
    "name": "ipython",
    "version": 3
   },
   "file_extension": ".py",
   "mimetype": "text/x-python",
   "name": "python",
   "nbconvert_exporter": "python",
   "pygments_lexer": "ipython3",
   "version": "3.9.16"
  }
 },
 "nbformat": 4,
 "nbformat_minor": 5
}
