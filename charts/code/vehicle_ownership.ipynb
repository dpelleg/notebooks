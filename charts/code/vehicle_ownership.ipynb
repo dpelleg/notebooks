{
 "cells": [
  {
   "cell_type": "code",
   "execution_count": 1,
   "id": "4a4fc5be",
   "metadata": {},
   "outputs": [],
   "source": [
    "import pandas as pd\n",
    "import seaborn as sns"
   ]
  },
  {
   "cell_type": "code",
   "execution_count": 2,
   "id": "a3b1a82a",
   "metadata": {},
   "outputs": [],
   "source": [
    "datadir = '../data/'"
   ]
  },
  {
   "cell_type": "code",
   "execution_count": 3,
   "id": "1497c6ce",
   "metadata": {},
   "outputs": [],
   "source": [
    "def _read_file(fname, enc='iso8859-8'):\n",
    "    fd = open(fname, encoding=enc, errors='replace')\n",
    "    df = pd.read_csv(fd, sep='|')\n",
    "    return df\n",
    "\n",
    "def add_model(df):\n",
    "    df['model'] = df.apply(lambda x: '_'.join([x[y] for y in ['tozeret_cd', 'degem_cd', 'shnat_yitzur', 'sug_degem']]), axis=1)\n",
    "\n",
    "def get_model_name(ns):\n",
    "    names = pd.DataFrame(data={'model':ns})\n",
    "    ret = pd.merge(names, models, how='left', on='model')[['tozeret_nm', 'kinuy_mishari']]\n",
    "    return ret"
   ]
  },
  {
   "cell_type": "code",
   "execution_count": null,
   "id": "c55fdd54",
   "metadata": {},
   "outputs": [],
   "source": [
    "# source : https://data.gov.il/dataset/private-and-commercial-vehicles\n",
    "\n",
    "#df = pd.read_csv('data/rechev-small.csv', encoding='iso-8859-1', sep='|')\n",
    "\n",
    "def read_file(fname):\n",
    "    fname = datadir + fname\n",
    "    df = _read_file(fname)\n",
    "\n",
    "    for c in ['mispar_rechev', 'degem_cd', 'tozeret_cd', 'shnat_yitzur']:\n",
    "        df[c] = df[c].astype(str)\n",
    "\n",
    "    df['test']= pd.to_datetime(df.mivchan_acharon_dt)\n",
    "    df['test_expiry']= pd.to_datetime(df.tokef_dt)\n",
    "    c='moed_aliya_lakvish'\n",
    "    df[c] = pd.to_datetime(df[c], format=\"%Y-%m\")    \n",
    "    add_model(df)\n",
    "    return df"
   ]
  },
  {
   "cell_type": "code",
   "execution_count": 46,
   "id": "7a61d7e5",
   "metadata": {},
   "outputs": [],
   "source": [
    "vo = pd.read_csv(datadir + 'vehicle_ownership.csv', sep='|')\n",
    "\n",
    "c='mispar_rechev'\n",
    "vo[c] = vo[c].astype(str)\n",
    "\n",
    "c='baalut_dt'\n",
    "vo[c] = pd.to_datetime(vo[c], format=\"%Y%m\")"
   ]
  },
  {
   "cell_type": "code",
   "execution_count": 111,
   "id": "5beee474",
   "metadata": {},
   "outputs": [],
   "source": [
    "oc = vo.groupby('mispar_rechev').size()\n",
    "just1 = oc[oc == 1]\n",
    "just1.name='ownership_count'\n",
    "notjust1 = oc[~(oc == 1)]\n",
    "notjust1.name='ownership_count_'"
   ]
  },
  {
   "cell_type": "code",
   "execution_count": 88,
   "id": "6f2e4103",
   "metadata": {},
   "outputs": [
    {
     "name": "stdout",
     "output_type": "stream",
     "text": [
      "(994961, 625083, 1620044)\n"
     ]
    }
   ],
   "source": [
    "print((len(just1), len(notjust1), len(no)))"
   ]
  },
  {
   "cell_type": "code",
   "execution_count": 107,
   "id": "4b743e6b",
   "metadata": {},
   "outputs": [],
   "source": [
    "mult_own = vo.merge(notjust1, how='right', left_on='mispar_rechev', right_index=True)"
   ]
  },
  {
   "cell_type": "code",
   "execution_count": 109,
   "id": "98e34d1c",
   "metadata": {
    "scrolled": true
   },
   "outputs": [
    {
     "data": {
      "text/html": [
       "<div>\n",
       "<style scoped>\n",
       "    .dataframe tbody tr th:only-of-type {\n",
       "        vertical-align: middle;\n",
       "    }\n",
       "\n",
       "    .dataframe tbody tr th {\n",
       "        vertical-align: top;\n",
       "    }\n",
       "\n",
       "    .dataframe thead th {\n",
       "        text-align: right;\n",
       "    }\n",
       "</style>\n",
       "<table border=\"1\" class=\"dataframe\">\n",
       "  <thead>\n",
       "    <tr style=\"text-align: right;\">\n",
       "      <th></th>\n",
       "      <th>baalut_dt</th>\n",
       "      <th>ownership_count</th>\n",
       "    </tr>\n",
       "    <tr>\n",
       "      <th>mispar_rechev</th>\n",
       "      <th></th>\n",
       "      <th></th>\n",
       "    </tr>\n",
       "  </thead>\n",
       "  <tbody>\n",
       "    <tr>\n",
       "      <th>74011401</th>\n",
       "      <td>2019-09-01</td>\n",
       "      <td>19</td>\n",
       "    </tr>\n",
       "    <tr>\n",
       "      <th>46570501</th>\n",
       "      <td>2020-10-01</td>\n",
       "      <td>18</td>\n",
       "    </tr>\n",
       "    <tr>\n",
       "      <th>15330101</th>\n",
       "      <td>2018-05-01</td>\n",
       "      <td>18</td>\n",
       "    </tr>\n",
       "    <tr>\n",
       "      <th>34715201</th>\n",
       "      <td>2018-01-01</td>\n",
       "      <td>18</td>\n",
       "    </tr>\n",
       "    <tr>\n",
       "      <th>33462601</th>\n",
       "      <td>2019-03-01</td>\n",
       "      <td>17</td>\n",
       "    </tr>\n",
       "    <tr>\n",
       "      <th>...</th>\n",
       "      <td>...</td>\n",
       "      <td>...</td>\n",
       "    </tr>\n",
       "    <tr>\n",
       "      <th>59503301</th>\n",
       "      <td>2020-07-01</td>\n",
       "      <td>2</td>\n",
       "    </tr>\n",
       "    <tr>\n",
       "      <th>24748901</th>\n",
       "      <td>2017-09-01</td>\n",
       "      <td>2</td>\n",
       "    </tr>\n",
       "    <tr>\n",
       "      <th>59503101</th>\n",
       "      <td>2019-03-01</td>\n",
       "      <td>2</td>\n",
       "    </tr>\n",
       "    <tr>\n",
       "      <th>24749002</th>\n",
       "      <td>2022-08-01</td>\n",
       "      <td>2</td>\n",
       "    </tr>\n",
       "    <tr>\n",
       "      <th>22802101</th>\n",
       "      <td>2021-04-01</td>\n",
       "      <td>2</td>\n",
       "    </tr>\n",
       "  </tbody>\n",
       "</table>\n",
       "<p>625083 rows × 2 columns</p>\n",
       "</div>"
      ],
      "text/plain": [
       "               baalut_dt  ownership_count\n",
       "mispar_rechev                            \n",
       "74011401      2019-09-01               19\n",
       "46570501      2020-10-01               18\n",
       "15330101      2018-05-01               18\n",
       "34715201      2018-01-01               18\n",
       "33462601      2019-03-01               17\n",
       "...                  ...              ...\n",
       "59503301      2020-07-01                2\n",
       "24748901      2017-09-01                2\n",
       "59503101      2019-03-01                2\n",
       "24749002      2022-08-01                2\n",
       "22802101      2021-04-01                2\n",
       "\n",
       "[625083 rows x 2 columns]"
      ]
     },
     "execution_count": 109,
     "metadata": {},
     "output_type": "execute_result"
    }
   ],
   "source": [
    "nownerships = mult_own.groupby('mispar_rechev').agg({'baalut_dt' : lambda x: x.nsmallest(2).iloc[-1], 'baalut' : 'count'})\n",
    "nownerships.rename(columns={'baalut' : 'ownership_count'}, inplace=True)\n",
    "nownerships.reset_index(inplace=True)\n",
    "nownerships.sort_values(by='ownership_count', ascending=False)"
   ]
  },
  {
   "cell_type": "code",
   "execution_count": 118,
   "id": "e768d49d",
   "metadata": {},
   "outputs": [],
   "source": [
    "single_own = vo.merge(just1, how='right', left_on='mispar_rechev', right_index=True).drop(columns=['baalut'])"
   ]
  },
  {
   "cell_type": "code",
   "execution_count": 122,
   "id": "88d02393",
   "metadata": {},
   "outputs": [],
   "source": [
    "nownerships = pd.concat([nownerships, single_own])"
   ]
  },
  {
   "cell_type": "code",
   "execution_count": 125,
   "id": "38025317",
   "metadata": {},
   "outputs": [],
   "source": [
    "df = read_file('rechev.csv')"
   ]
  },
  {
   "cell_type": "code",
   "execution_count": 126,
   "id": "d2b50263",
   "metadata": {},
   "outputs": [],
   "source": [
    "df = pd.merge(df, nownerships, on='mispar_rechev', how='left')"
   ]
  },
  {
   "cell_type": "code",
   "execution_count": 127,
   "id": "3d6aac70",
   "metadata": {
    "scrolled": true
   },
   "outputs": [
    {
     "data": {
      "text/plain": [
       "{'mispar_rechev': '16088601',\n",
       " 'tozeret_cd': '481',\n",
       " 'sug_degem': 'P',\n",
       " 'tozeret_nm': 'יונדאי קוריאה',\n",
       " 'degem_cd': '182',\n",
       " 'degem_nm': 'C851C',\n",
       " 'ramat_gimur': 'PREMIUM',\n",
       " 'ramat_eivzur_betihuty': 2.0,\n",
       " 'kvutzat_zihum': 3.0,\n",
       " 'shnat_yitzur': '2018',\n",
       " 'degem_manoa': 'G4LE',\n",
       " 'mivchan_acharon_dt': '2023-01-16',\n",
       " 'tokef_dt': '2024-01-16',\n",
       " 'baalut': 'פרטי',\n",
       " 'misgeret': 'KMHC851CGJU063354',\n",
       " 'tzeva_cd': 93,\n",
       " 'tzeva_rechev': 'כסוף כהה',\n",
       " 'zmig_kidmi': '225/45R17',\n",
       " 'zmig_ahori': '225/45R17',\n",
       " 'sug_delek_nm': 'בנזין',\n",
       " 'horaat_rishum': 170007.0,\n",
       " 'moed_aliya_lakvish': Timestamp('2018-01-01 00:00:00'),\n",
       " 'kinuy_mishari': 'IONIQ HYBRID',\n",
       " 'test': Timestamp('2023-01-16 00:00:00'),\n",
       " 'test_expiry': Timestamp('2024-01-16 00:00:00'),\n",
       " 'model': '481_182_2018_P',\n",
       " 'baalut_dt': Timestamp('2021-06-01 00:00:00'),\n",
       " 'ownership_count': 2.0}"
      ]
     },
     "execution_count": 127,
     "metadata": {},
     "output_type": "execute_result"
    }
   ],
   "source": [
    "df.iloc[2073010].to_dict()"
   ]
  },
  {
   "cell_type": "code",
   "execution_count": 134,
   "id": "05bdb7ea",
   "metadata": {},
   "outputs": [],
   "source": [
    "df_bak = df.copy()\n",
    "df = df.dropna(subset=['baalut_dt'])"
   ]
  },
  {
   "cell_type": "code",
   "execution_count": 135,
   "id": "01ca4d8e",
   "metadata": {},
   "outputs": [
    {
     "data": {
      "text/plain": [
       "{'mispar_rechev': '12137803',\n",
       " 'tozeret_cd': '590',\n",
       " 'sug_degem': 'P',\n",
       " 'tozeret_nm': 'מיצובישי יפן',\n",
       " 'degem_cd': '227',\n",
       " 'degem_nm': 'GK1WXTFUL2B',\n",
       " 'ramat_gimur': 'INSTYLE',\n",
       " 'ramat_eivzur_betihuty': 4.0,\n",
       " 'kvutzat_zihum': 15.0,\n",
       " 'shnat_yitzur': '2022',\n",
       " 'degem_manoa': '4B40',\n",
       " 'mivchan_acharon_dt': '2022-08-18',\n",
       " 'tokef_dt': '2023-08-17',\n",
       " 'baalut': 'פרטי',\n",
       " 'misgeret': 'JA4ASWAA2NZ300936',\n",
       " 'tzeva_cd': 80,\n",
       " 'tzeva_rechev': 'שנהב לבן',\n",
       " 'zmig_kidmi': 'P225/55R18',\n",
       " 'zmig_ahori': 'P225/55R18',\n",
       " 'sug_delek_nm': 'בנזין',\n",
       " 'horaat_rishum': 212023.0,\n",
       " 'moed_aliya_lakvish': Timestamp('2022-08-01 00:00:00'),\n",
       " 'kinuy_mishari': 'ECLIPSE CROSS',\n",
       " 'test': Timestamp('2022-08-18 00:00:00'),\n",
       " 'test_expiry': Timestamp('2023-08-17 00:00:00'),\n",
       " 'model': '590_227_2022_P',\n",
       " 'baalut_dt': Timestamp('2022-08-01 00:00:00'),\n",
       " 'ownership_count': 1.0}"
      ]
     },
     "execution_count": 135,
     "metadata": {},
     "output_type": "execute_result"
    }
   ],
   "source": [
    "df.iloc[207510].to_dict()"
   ]
  },
  {
   "cell_type": "code",
   "execution_count": 167,
   "id": "804c0bc7",
   "metadata": {},
   "outputs": [],
   "source": [
    "c = 'days_to_first_trade'\n",
    "df[c] = ((df['baalut_dt'] - df['moed_aliya_lakvish']).dt.total_seconds())/(24*60*60)\n",
    "df.dropna(subset=[c], inplace=True)\n",
    "df[c] = df[c].astype(int)"
   ]
  },
  {
   "cell_type": "code",
   "execution_count": 168,
   "id": "bc42ae0c",
   "metadata": {},
   "outputs": [
    {
     "data": {
      "text/plain": [
       "mispar_rechev                    object\n",
       "tozeret_cd                       object\n",
       "sug_degem                        object\n",
       "tozeret_nm                       object\n",
       "degem_cd                         object\n",
       "degem_nm                         object\n",
       "ramat_gimur                      object\n",
       "ramat_eivzur_betihuty           float64\n",
       "kvutzat_zihum                   float64\n",
       "shnat_yitzur                     object\n",
       "degem_manoa                      object\n",
       "mivchan_acharon_dt               object\n",
       "tokef_dt                         object\n",
       "baalut                           object\n",
       "misgeret                         object\n",
       "tzeva_cd                          int64\n",
       "tzeva_rechev                     object\n",
       "zmig_kidmi                       object\n",
       "zmig_ahori                       object\n",
       "sug_delek_nm                     object\n",
       "horaat_rishum                   float64\n",
       "moed_aliya_lakvish       datetime64[ns]\n",
       "kinuy_mishari                    object\n",
       "test                     datetime64[ns]\n",
       "test_expiry              datetime64[ns]\n",
       "model                            object\n",
       "baalut_dt                datetime64[ns]\n",
       "ownership_count                 float64\n",
       "time_to_first_trade             float64\n",
       "days_to_first_trade               int64\n",
       "dtype: object"
      ]
     },
     "execution_count": 168,
     "metadata": {},
     "output_type": "execute_result"
    }
   ],
   "source": [
    "df.dtypes"
   ]
  },
  {
   "cell_type": "code",
   "execution_count": 169,
   "id": "da8d8f88",
   "metadata": {},
   "outputs": [],
   "source": [
    "traded = df.drop(index=df[df['days_to_first_trade'] == 0].index)"
   ]
  },
  {
   "cell_type": "code",
   "execution_count": 170,
   "id": "d871d06e",
   "metadata": {},
   "outputs": [],
   "source": [
    "cols = ['mispar_rechev', 'sug_degem', 'tozeret_nm',\n",
    "       'shnat_yitzur', 'mivchan_acharon_dt', 'tokef_dt',\n",
    "       'baalut', 'sug_delek_nm', 'moed_aliya_lakvish',\n",
    "       'kinuy_mishari', 'test', 'test_expiry', 'model', 'baalut_dt',\n",
    "       'ownership_count', 'days_to_first_trade']\n",
    "traded[cols].to_csv(datadir + 'traded.csv', index=False)"
   ]
  }
 ],
 "metadata": {
  "kernelspec": {
   "display_name": "Python 3 (ipykernel)",
   "language": "python",
   "name": "python3"
  },
  "language_info": {
   "codemirror_mode": {
    "name": "ipython",
    "version": 3
   },
   "file_extension": ".py",
   "mimetype": "text/x-python",
   "name": "python",
   "nbconvert_exporter": "python",
   "pygments_lexer": "ipython3",
   "version": "3.9.16"
  }
 },
 "nbformat": 4,
 "nbformat_minor": 5
}
