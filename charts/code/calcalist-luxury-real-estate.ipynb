{
 "cells": [
  {
   "cell_type": "code",
   "execution_count": null,
   "metadata": {},
   "outputs": [],
   "source": [
    "import matplotlib.pyplot as plt\n",
    "import matplotlib\n",
    "import numpy as np\n",
    "import pandas as pd\n",
    "import seaborn as sns\n",
    "\n",
    "sns.set_style(\"whitegrid\")\n",
    "font = {'family' : 'normal',\n",
    "        'weight' : 'bold',\n",
    "        'size'   : 22}\n",
    "\n",
    "matplotlib.rc('font', **font)"
   ]
  },
  {
   "cell_type": "code",
   "execution_count": null,
   "metadata": {},
   "outputs": [],
   "source": [
    "def rev(s):\n",
    "    return s[::-1]"
   ]
  },
  {
   "cell_type": "code",
   "execution_count": null,
   "metadata": {},
   "outputs": [],
   "source": [
    "# from https://www.calcalist.co.il/real-estate/article/hk51lh11vc\n",
    "\n",
    "year = rev('שנה')\n",
    "num = rev('מספר עסקאות')\n",
    "price = rev('מחיר')\n",
    "re = pd.DataFrame(data = { year : [2019,2020, 2021], num : [127, 142, 156], price : [17.1, 20.2, 17.2]})"
   ]
  },
  {
   "cell_type": "code",
   "execution_count": null,
   "metadata": {},
   "outputs": [],
   "source": [
    "ax = sns.barplot(x=year, y=num, data=re)\n",
    "\n",
    "# Maximum bar width is 1. Normalise counts to be in the interval 0-1. Need to supply a maximum possible count here as maxwidth\n",
    "def normaliseCounts(widths,maxwidth):\n",
    "    widths = np.array(widths)/float(maxwidth)\n",
    "    return widths\n",
    "\n",
    "widthbars = normaliseCounts(re[price],25)\n",
    "\n",
    "# Loop over the bars, and adjust the width (and position, to keep the bar centred)\n",
    "for bar,newwidth,num in zip(ax.patches,widthbars, re[price]):\n",
    "    x = bar.get_x()\n",
    "    width = bar.get_width()\n",
    "    height = bar.get_height()\n",
    "    centre = x+width/2.\n",
    "\n",
    "    bar.set_x(centre-newwidth/2.)\n",
    "    bar.set_width(newwidth)\n",
    "    \n",
    "    ax.text(centre, 5, #height-12,\n",
    "                    num, horizontalalignment='center', \n",
    "                    size=12, color='black')\n",
    "\n",
    "plt.show()"
   ]
  }
 ],
 "metadata": {
  "kernelspec": {
   "display_name": "Python 3",
   "language": "python",
   "name": "python3"
  },
  "language_info": {
   "codemirror_mode": {
    "name": "ipython",
    "version": 3
   },
   "file_extension": ".py",
   "mimetype": "text/x-python",
   "name": "python",
   "nbconvert_exporter": "python",
   "pygments_lexer": "ipython3",
   "version": "3.7.3"
  }
 },
 "nbformat": 4,
 "nbformat_minor": 4
}
