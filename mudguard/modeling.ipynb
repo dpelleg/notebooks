{
 "cells": [
  {
   "cell_type": "code",
   "execution_count": null,
   "metadata": {},
   "outputs": [],
   "source": [
    "# Model the usage of MTB trails as a function of weather conditions\n",
    "import pandas as pd\n",
    "import seaborn as sns\n",
    "import matplotlib.pyplot as plt\n",
    "from scipy.stats import spearmanr"
   ]
  },
  {
   "cell_type": "code",
   "execution_count": null,
   "metadata": {},
   "outputs": [],
   "source": [
    "data = pd.read_csv('data/tolearn.csv')\n",
    "data['relative_usage'].clip(lower=0, upper=1, inplace=True)"
   ]
  },
  {
   "cell_type": "code",
   "execution_count": null,
   "metadata": {},
   "outputs": [],
   "source": [
    "data.sort_values('date', inplace=True)\n",
    "\n",
    "data['rain_7d'] = data.groupby('segment_id')['rain_mm'].apply(lambda x : x.rolling(7).sum()).fillna(0)\n",
    "\n",
    "# add accumulated rainfall using a bathtub model:\n",
    "#  Daily new rainfall is added to the ground, up to the ground's capacity (then its lost in groundwater flow)\n",
    "#  Additionally, the ground is drained at a constant rate per day\n",
    "\n",
    "def bathtub(v, capacity=10, drainage=3):\n",
    "    ret = []\n",
    "    prev = 0;\n",
    "    for vv in v:\n",
    "        val = max(0, min(capacity, prev + vv) - drainage)\n",
    "        prev = val\n",
    "        ret.append(val)\n",
    "    ret = pd.Series(ret, index=v.index)\n",
    "    return ret\n",
    "\n",
    "data['soil_moisture'] = data.groupby('segment_id')['rain_mm'].apply(bathtub)\n"
   ]
  },
  {
   "cell_type": "code",
   "execution_count": null,
   "metadata": {},
   "outputs": [],
   "source": [
    "def bathtub_set(capacity, drainage):\n",
    "     data['soil_moisture'] = data.groupby('segment_id')['rain_mm'].apply(bathtub, capacity=capacity, drainage=drainage)"
   ]
  },
  {
   "cell_type": "code",
   "execution_count": null,
   "metadata": {},
   "outputs": [],
   "source": [
    "out = []\n",
    "\n",
    "for c in range(0,80,4):\n",
    "    for d in range(0,25):\n",
    "        bathtub_set(c, d)\n",
    "        corr, _ = spearmanr(data['relative_usage'].values, data['soil_moisture'].values, nan_policy='omit')\n",
    "        out.append([c, d, corr])\n",
    "        \n",
    "cdf = pd.DataFrame(out, columns=['capacity','drainage', 'corr'])\n",
    "        "
   ]
  },
  {
   "cell_type": "code",
   "execution_count": null,
   "metadata": {},
   "outputs": [],
   "source": [
    "cdf['abscorr'] = cdf['corr'].transform('abs')\n",
    "cdf['negcorr'] = cdf['corr'].transform(lambda x : -x)\n",
    "fig, ax = plt.subplots(figsize=(10,10))\n",
    "sns.set_style('ticks')\n",
    "sns.scatterplot(data=cdf, x='capacity', y='drainage', size='negcorr', hue='abscorr', ax=ax)\n"
   ]
  },
  {
   "cell_type": "code",
   "execution_count": null,
   "metadata": {
    "scrolled": false
   },
   "outputs": [],
   "source": [
    "v = [[20,10], [30,13], [10, 2], [20, 0]]\n",
    "\n",
    "fig, ax = plt.subplots(figsize=(10,40), nrows=len(v), ncols=1)\n",
    "\n",
    "for vi in range(len(v)):\n",
    "    vv = v[vi]\n",
    "    capacity = vv[0]\n",
    "    drainage = vv[1]\n",
    "    bathtub_set(capacity, drainage)\n",
    "    sns.scatterplot(data=data,\n",
    "                    y='relative_usage', x='soil_moisture',\n",
    "                    hue='segment_id', marker='o',\n",
    "                    ax=ax[vi]).set_title(f'c=%d d=%d' % (capacity, drainage))\n"
   ]
  }
 ],
 "metadata": {
  "kernelspec": {
   "display_name": "Python 3",
   "language": "python",
   "name": "python3"
  },
  "language_info": {
   "codemirror_mode": {
    "name": "ipython",
    "version": 3
   },
   "file_extension": ".py",
   "mimetype": "text/x-python",
   "name": "python",
   "nbconvert_exporter": "python",
   "pygments_lexer": "ipython3",
   "version": "3.7.3"
  }
 },
 "nbformat": 4,
 "nbformat_minor": 4
}
