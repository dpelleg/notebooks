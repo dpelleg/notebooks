{
 "cells": [
  {
   "cell_type": "code",
   "execution_count": 1,
   "metadata": {},
   "outputs": [],
   "source": [
    "# Model the usage of MTB trails as a function of weather conditions\n",
    "import pandas as pd\n",
    "import seaborn as sns\n",
    "import matplotlib.pyplot as plt\n",
    "from scipy.stats import spearmanr\n",
    "import utils\n"
   ]
  },
  {
   "cell_type": "code",
   "execution_count": 2,
   "metadata": {},
   "outputs": [
    {
     "name": "stdout",
     "output_type": "stream",
     "text": [
      "data/ridelogs/segments-20201124.json\n",
      "data/ridelogs/202012.json\n",
      "data/ridelogs/202011.json\n"
     ]
    }
   ],
   "source": [
    "# gather data\n",
    "md = utils.get_segment_metadata()\n",
    "rl_ = utils.get_ridelogs()\n",
    "\n",
    "# Trip junk\n",
    "md = md[['id', 'name', 'closest_ims']].copy()"
   ]
  },
  {
   "cell_type": "code",
   "execution_count": 3,
   "metadata": {},
   "outputs": [],
   "source": [
    "# Tabulate ridelog data with date as index\n",
    "rl2 = pd.pivot_table(rl_, index='date', values='effort_count', columns='segment_id')\n",
    "rl2.set_index(pd.DatetimeIndex(rl2.index.values), inplace=True)\n",
    "\n",
    "# resample daily, interpolate missing values, and diff against the previous day\n",
    "daily = rl2.resample('1D').interpolate().fillna(method='bfill').diff()"
   ]
  },
  {
   "cell_type": "code",
   "execution_count": null,
   "metadata": {
    "scrolled": true
   },
   "outputs": [],
   "source": [
    "# add the rainfall data\n",
    "\n",
    "# first, convert the table to long format\n",
    "all_segs = daily.columns\n",
    "d2 = daily.reset_index()\n",
    "d3 = d2.melt(id_vars = 'index', value_vars=all_segs)\n",
    "\n",
    "d4 = d3.rename(columns = {'index' : 'date', 'value' : 'rides'})\n",
    "\n",
    "# add the closest IMS station\n",
    "d5 = d4.merge(md[['id', 'closest_ims']], how='left', left_on=['segment_id'], right_on=['id'])\n",
    "\n",
    "rain_days = utils.get_rain_days(d5)"
   ]
  },
  {
   "cell_type": "code",
   "execution_count": 6,
   "metadata": {},
   "outputs": [],
   "source": [
    "# Add rain measurements\n",
    "data = d5.merge(rain_days, how='left', left_on=['closest_ims', 'date'], right_on=['closest_ims', 'date'])"
   ]
  },
  {
   "cell_type": "code",
   "execution_count": 26,
   "metadata": {},
   "outputs": [],
   "source": [
    "# Add rain measurements\n",
    "data = d5.merge(rain_days, how='left', left_on=['closest_ims', 'date'], right_on=['closest_ims', 'date'])\n",
    "\n",
    "# cumulative measures of rainfall\n",
    "\n",
    "data.sort_values('date', inplace=True)\n",
    "data['rain_7d'] = data.groupby('segment_id')['rain_mm'].apply(lambda x : x.rolling(7).sum()).fillna(0)\n",
    "data['soil_moisture'] = data.groupby('segment_id')['rain_mm'].apply(utils.bathtub)\n",
    "df_orig = data.copy()"
   ]
  },
  {
   "cell_type": "code",
   "execution_count": 8,
   "metadata": {},
   "outputs": [],
   "source": [
    "#data = data_orig.query(\"segment_id == '7774409'\").copy()"
   ]
  },
  {
   "cell_type": "code",
   "execution_count": 9,
   "metadata": {},
   "outputs": [],
   "source": [
    "#data.groupby('segment_id').sum().sort_values('rides')"
   ]
  },
  {
   "cell_type": "code",
   "execution_count": 39,
   "metadata": {},
   "outputs": [],
   "source": [
    "def bathtub_set(data, capacity, drainage):\n",
    "     data['soil_moisture'] = data.groupby('segment_id')['rain_mm'].apply(bathtub, capacity=capacity, drainage=drainage)\n",
    "\n",
    "def bathtub_set2(mydata, capacity, drainage):\n",
    "    mydata['soil_moisture'] = utils.bathtub_(mydata['rain_mm'], capacity=capacity, drainage=drainage)\n",
    "\n",
    "def best_bathtub(data_):\n",
    "    mydata = data_.copy()\n",
    "    print(mydata.columns)\n",
    "    out = []\n",
    "\n",
    "    for c in range(0,80,4):\n",
    "        for d in range(0,25):\n",
    "            bathtub_set2(mydata, c, d)\n",
    "            corr, _ = spearmanr(mydata['rides'].values, mydata['soil_moisture'].values, nan_policy='omit')\n",
    "            out.append([c, d, corr])\n",
    "        \n",
    "    cdf = pd.DataFrame(out, columns=['capacity','drainage', 'corr'])\n",
    "    cdf['abscorr'] = cdf['corr'].transform('abs')\n",
    "    print(cdf.iloc[cdf['abscorr'].idxmax()])\n",
    "    return cdf.iloc[cdf['abscorr'].idxmax()]"
   ]
  },
  {
   "cell_type": "code",
   "execution_count": null,
   "metadata": {},
   "outputs": [],
   "source": [
    "df = df_orig.copy()\n",
    "#data_orig['segment_id'].unique()\n",
    "df.groupby('segment_id').agg(best_bathtub)\n"
   ]
  },
  {
   "cell_type": "code",
   "execution_count": 41,
   "metadata": {},
   "outputs": [],
   "source": [
    "#df.groupby('segment_id').sum()"
   ]
  },
  {
   "cell_type": "code",
   "execution_count": null,
   "metadata": {},
   "outputs": [],
   "source": [
    "best_bathtub(data)"
   ]
  },
  {
   "cell_type": "code",
   "execution_count": null,
   "metadata": {},
   "outputs": [],
   "source": [
    "fig, ax = plt.subplots(figsize=(10,10))\n",
    "sns.set_style('ticks')\n",
    "sns.scatterplot(data=cdf, x='capacity', y='drainage', size='negcorr', hue='abscorr', ax=ax)\n"
   ]
  },
  {
   "cell_type": "code",
   "execution_count": null,
   "metadata": {
    "scrolled": false
   },
   "outputs": [],
   "source": [
    "v = [[12, 7], [4, 3], [10, 2], [20, 4]]\n",
    "\n",
    "fig, ax = plt.subplots(figsize=(10,40), nrows=len(v), ncols=1)\n",
    "\n",
    "for vi in range(len(v)):\n",
    "    vv = v[vi]\n",
    "    capacity = vv[0]\n",
    "    drainage = vv[1]\n",
    "    bathtub_set(capacity, drainage)\n",
    "    sns.scatterplot(data=data,\n",
    "                    y='rides', x='soil_moisture',\n",
    "                    hue='segment_id', marker='o',\n",
    "                    ax=ax[vi]).set_title(f'c=%d d=%d' % (capacity, drainage))\n"
   ]
  }
 ],
 "metadata": {
  "kernelspec": {
   "display_name": "Python 3",
   "language": "python",
   "name": "python3"
  },
  "language_info": {
   "codemirror_mode": {
    "name": "ipython",
    "version": 3
   },
   "file_extension": ".py",
   "mimetype": "text/x-python",
   "name": "python",
   "nbconvert_exporter": "python",
   "pygments_lexer": "ipython3",
   "version": "3.8.3"
  }
 },
 "nbformat": 4,
 "nbformat_minor": 4
}
