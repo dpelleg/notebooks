{
 "cells": [
  {
   "cell_type": "code",
   "execution_count": null,
   "metadata": {
    "scrolled": true
   },
   "outputs": [],
   "source": [
    "# Model the usage of MTB trails as a function of weather conditions\n",
    "import pandas as pd\n",
    "import seaborn as sns\n",
    "import matplotlib.pyplot as plt\n",
    "from scipy.stats import spearmanr\n",
    "import utils\n",
    "import math\n",
    "from sklearn.linear_model import LinearRegression\n",
    "import numpy as np"
   ]
  },
  {
   "cell_type": "code",
   "execution_count": null,
   "metadata": {},
   "outputs": [],
   "source": [
    "# gather data\n",
    "md = utils.get_segment_metadata()\n",
    "#md['closest_ims'] = md['closest_ims'].astype(int)"
   ]
  },
  {
   "cell_type": "code",
   "execution_count": null,
   "metadata": {
    "scrolled": true
   },
   "outputs": [],
   "source": [
    "rl_ = utils.get_ridelogs()\n",
    "\n",
    "# Trim junk\n",
    "md = md[['id', 'name', 'closest_ims']].copy()"
   ]
  },
  {
   "cell_type": "code",
   "execution_count": null,
   "metadata": {},
   "outputs": [],
   "source": [
    "d5 = rl_.copy()"
   ]
  },
  {
   "cell_type": "code",
   "execution_count": null,
   "metadata": {
    "scrolled": true
   },
   "outputs": [],
   "source": [
    "# add the closest IMS station\n",
    "d6 = d5.merge(md[['id', 'closest_ims', 'name']], how='right', left_on=['segment_id'], right_on=['id'])\n",
    "#md[['name','closest_ims']]"
   ]
  },
  {
   "cell_type": "code",
   "execution_count": null,
   "metadata": {
    "scrolled": true
   },
   "outputs": [],
   "source": [
    "rain_days = utils.get_rain_days(d6)"
   ]
  },
  {
   "cell_type": "code",
   "execution_count": null,
   "metadata": {},
   "outputs": [],
   "source": [
    "# Add rain measurements\n",
    "data = d6.merge(rain_days, how='left', left_on=['closest_ims', 'date'], right_on=['closest_ims', 'date'])\n",
    "\n",
    "# cumulative measures of rainfall\n",
    "\n",
    "data.sort_values('date', inplace=True)"
   ]
  },
  {
   "cell_type": "code",
   "execution_count": null,
   "metadata": {
    "scrolled": true
   },
   "outputs": [],
   "source": [
    "\n",
    "data['rain_7d'] = data.fillna(0).groupby('segment_id')['rain_mm'].apply(lambda x : x.rolling(7).sum())\n",
    "#data['soil_moisture'] = data.groupby('segment_id')['rain_mm'].apply(utils.bathtub)\n",
    "df_orig = data.copy()"
   ]
  },
  {
   "cell_type": "code",
   "execution_count": null,
   "metadata": {
    "scrolled": true
   },
   "outputs": [],
   "source": [
    "def bathtub_set(data_, soilmodel, **kwargs):\n",
    "    return soilmodel(data_['rain_mm'].values, **kwargs)\n",
    "\n",
    "def regress(X, y):\n",
    "    tofit = pd.DataFrame(data={'X' : X, 'y' : y}).dropna()\n",
    "    X = tofit.X.values\n",
    "    nrows = X.shape[0]\n",
    "    # skip if there's too little data\n",
    "    # skip if the moisture model didn't give us examples of dry soil (below 1)\n",
    "    if (nrows <= 2) or (tofit.X.min() > 1):\n",
    "        return {'coef' : None, 'intercept' : None, 'score' : -1}\n",
    "    y = tofit.y.values\n",
    "    X = X.reshape(nrows, 1)\n",
    "    y = y.reshape(nrows, 1)\n",
    "    try:\n",
    "        reg = LinearRegression().fit(X, y)\n",
    "        coef = reg.coef_[0][0]\n",
    "        score = reg.score(X, y)\n",
    "        # we need the correlation to be negative (more moisture = less rides)\n",
    "        if coef >= 0:\n",
    "            score = -1\n",
    "        return {'coef' : coef, 'intercept' : reg.intercept_[0], 'score' : score}\n",
    "    except ValueError:   # probably not enough data\n",
    "        return {'coef' : None, 'intercept' : None, 'score' : -1}\n",
    "\n",
    "def best_bathtub(data_):\n",
    "    mydata = data_.copy()\n",
    "    out = []\n",
    "\n",
    "    # Try the geometric model\n",
    "    clist = list(np.arange(1, 10, 0.5))\n",
    "    clist.extend(range(10,80,4))\n",
    "    dlist = list(np.arange(0.5, 1, 0.05))\n",
    "    for c in clist:\n",
    "        for d in dlist:\n",
    "            # TODO:\n",
    "            # 1. downsample the observations with no moisture and many rides\n",
    "            p = regress(bathtub_set(mydata, utils.bathtub_geom_, capacity=c, drainage_factor=d), mydata['nrides'])\n",
    "            # we need the correlation to be negative (more moisture = less rides)\n",
    "            out.append([p['score'], {'f': 'bathtub_geom', 'capacity': c, 'drainage_factor' : d, 'coef': p['coef'], 'intercept' : p['intercept']}])\n",
    "    \n",
    "    #Try the basic model\n",
    "    clist = list(np.arange(1, 10, 0.5))\n",
    "    clist.extend(range(10,80,4))\n",
    "    dlist = list(np.arange(5, 10, 0.5))\n",
    "    dlist.extend(range(10,25))\n",
    "    for c in clist:\n",
    "        for d in dlist:\n",
    "            # TODO:\n",
    "            # 1. downsample the observations with no moisture and many rides\n",
    "            p = regress(bathtub_set(mydata, utils.bathtub_, capacity=c, drainage=d), mydata['nrides'])\n",
    "            # we need the correlation to be negative (more moisture = less rides)\n",
    "            out.append([p['score'], {'f': 'bathtub', 'capacity': c, 'drainage' : d, 'coef': p['coef'], 'intercept' : p['intercept']}])\n",
    "            \n",
    "    cdf = pd.DataFrame(out, columns=['score', 'par'])\n",
    "    idxmax = cdf['score'].idxmax()\n",
    "    if(math.isnan(idxmax)):\n",
    "        idxmax = 0\n",
    "    return cdf.iloc[idxmax]"
   ]
  },
  {
   "cell_type": "code",
   "execution_count": null,
   "metadata": {
    "scrolled": true
   },
   "outputs": [],
   "source": [
    "df = df_orig.copy()\n",
    "out = []\n",
    "for seg in df['segment_id'].unique():\n",
    "    print(seg, end=\"...\")\n",
    "    mydata = df.query(\"segment_id == @seg\")\n",
    "    res = best_bathtub(mydata).to_dict()\n",
    "    res['segment_id'] = seg\n",
    "    out.append(res)\n",
    "print(\"\")"
   ]
  },
  {
   "cell_type": "code",
   "execution_count": null,
   "metadata": {
    "scrolled": true
   },
   "outputs": [],
   "source": [
    "params = pd.DataFrame(out)\n",
    "# Compute the days to dry\n",
    "params['dtd'] = None\n",
    "\n",
    "exploded = pd.DataFrame.from_records(params['par'])\n",
    "\n",
    "# compute for the additive model\n",
    "rows = (exploded['f'] == 'bathtub')\n",
    "params.loc[rows, 'dtd'] = exploded['capacity']/exploded['drainage']\n",
    "\n",
    "# compute for the geometric model\n",
    "rows = (exploded['f'] == 'bathtub_geom')\n",
    "# how many times to multiply by the factor until we reach a value of 1mm?\n",
    "params.loc[rows, 'dtd'] = exploded[rows].apply(lambda r: -math.log(r['capacity'])/math.log(r['drainage_factor']), axis=1)\n",
    "\n",
    "params = params.merge(md, how='left', left_on='segment_id', right_on='id')\n",
    "params[['segment_id', 'score', 'par']].to_csv('data/segments/params.csv', index=False)\n",
    "\n",
    "params.sort_values('score')"
   ]
  },
  {
   "cell_type": "code",
   "execution_count": null,
   "metadata": {
    "scrolled": true
   },
   "outputs": [],
   "source": [
    "fig, ax = plt.subplots(2, 1, figsize=(8,8))\n",
    "sns.set_style('ticks')\n",
    "\n",
    "exploded = pd.DataFrame.from_records(params['par'])\n",
    "exploded['score'] = params['score']\n",
    "\n",
    "# plot for the additive model\n",
    "rows = (exploded['f'] == 'bathtub')\n",
    "sns.scatterplot(data=exploded[rows], x='capacity', y='drainage', size='score', hue='score', ax=ax[0])\n",
    "\n",
    "# plot for the geometric model\n",
    "rows = (exploded['f'] == 'bathtub_geom')\n",
    "sns.scatterplot(data=exploded[rows], x='capacity', y='drainage_factor', size='score', hue='score', ax=ax[1])\n",
    "\n",
    "\n"
   ]
  },
  {
   "cell_type": "code",
   "execution_count": null,
   "metadata": {
    "scrolled": false
   },
   "outputs": [],
   "source": [
    "names = df['segment_id'].unique()\n",
    "fig, ax = plt.subplots(figsize=(10,50), nrows=len(names), ncols=1)\n",
    "\n",
    "for vi in range(len(names)):\n",
    "    seg = names[vi]\n",
    "    mydata = df.query(\"segment_id == @seg\").copy()\n",
    "    p = params.query(\"id == @seg\")\n",
    "    if len(p) > 0:\n",
    "        f = p.iloc[0].par['f']\n",
    "        name = mydata.iloc[0]['name']\n",
    "        score = p.iloc[0]['score']\n",
    "        if f == 'bathtub':\n",
    "            capacity = p.iloc[0].par['capacity']\n",
    "            drainage = p.iloc[0].par['drainage']\n",
    "            par_str = f'c=%g d=%g' % (capacity, drainage)\n",
    "            mydata['soil_moisture'] = bathtub_set(mydata, utils.bathtub_, capacity=capacity, drainage=drainage)\n",
    "        elif f == 'bathtub_geom':\n",
    "            capacity = p.iloc[0].par['capacity']\n",
    "            drainage_factor = p.iloc[0].par['drainage_factor']\n",
    "            par_str = f'c=%g d_f=%g' % (capacity, drainage_factor)\n",
    "            mydata['soil_moisture'] = bathtub_set(mydata, utils.bathtub_geom_, capacity=capacity, drainage_factor=drainage_factor)\n",
    "        else:\n",
    "            print(\"Uh\")\n",
    "        sns.scatterplot(data=mydata,\n",
    "                        y='nrides', x='soil_moisture',\n",
    "                        marker='o',\n",
    "                        ax=ax[vi]).set_title(f'%s score=%.2f %s' % (name, score, par_str))"
   ]
  },
  {
   "cell_type": "code",
   "execution_count": null,
   "metadata": {},
   "outputs": [],
   "source": [
    "sns.scatterplot(data = df, y ='nrides', x='rain_mm')"
   ]
  },
  {
   "cell_type": "code",
   "execution_count": null,
   "metadata": {},
   "outputs": [],
   "source": [
    "sns.lineplot(data=df[['date','nrides']].set_index('date'), ci='sd')\n",
    "#plt.xticks(rotation=-45)"
   ]
  },
  {
   "cell_type": "code",
   "execution_count": null,
   "metadata": {},
   "outputs": [],
   "source": [
    "if False:\n",
    "    data=by_dow.reset_index()\n",
    "    #sns.barplot(data=data, hue='segment_id', x='rides_dow', y='weekday', orient='h')\n",
    "    #data.plot.barh()\n",
    "    data = data.pivot_table(index='weekday', columns='segment_id', values='rides_dow').apply(lambda x: x*100/sum(x), axis=0)\n",
    "    data.T.plot(kind=\"bar\", stacked=True)\n",
    "    data"
   ]
  }
 ],
 "metadata": {
  "kernelspec": {
   "display_name": "Python 3",
   "language": "python",
   "name": "python3"
  },
  "language_info": {
   "codemirror_mode": {
    "name": "ipython",
    "version": 3
   },
   "file_extension": ".py",
   "mimetype": "text/x-python",
   "name": "python",
   "nbconvert_exporter": "python",
   "pygments_lexer": "ipython3",
   "version": "3.8.3"
  }
 },
 "nbformat": 4,
 "nbformat_minor": 4
}
