{
 "cells": [
  {
   "cell_type": "code",
   "execution_count": null,
   "metadata": {},
   "outputs": [],
   "source": [
    "import pandas as pd\n",
    "import time\n",
    "import datetime\n",
    "import math\n",
    "import ims\n",
    "import utils\n",
    "import locale\n",
    "import re\n",
    "import ast\n",
    "from datetime import date, timedelta\n",
    "\n",
    "# Analyse segment statistics and generate an HTML table for public consumption"
   ]
  },
  {
   "cell_type": "code",
   "execution_count": null,
   "metadata": {
    "scrolled": true
   },
   "outputs": [],
   "source": [
    "# gather data\n",
    "md = utils.get_segment_metadata()\n",
    "# ignore inactive segments\n",
    "md = md[md['active_html']]\n",
    "\n",
    "rl_ = utils.get_ridelogs()\n",
    "\n",
    "# save a table aside\n",
    "md_meta = md[['id', 'name', 'distance', 'region_name', 'region_url', 'closest_ims']].copy()"
   ]
  },
  {
   "cell_type": "code",
   "execution_count": null,
   "metadata": {},
   "outputs": [],
   "source": [
    "d5 = rl_.copy()\n",
    "latest_ridelog = d5['date'].max().date()\n",
    "todays_date = pd.to_datetime(pd.Timestamp.now()).date()\n",
    "d5 = d5.query('date == @latest_ridelog')\n",
    "\n",
    "# add the closest IMS station\n",
    "d6 = d5.merge(md_meta, how='right', left_on=['segment_id'], right_on=['id'])"
   ]
  },
  {
   "cell_type": "code",
   "execution_count": null,
   "metadata": {},
   "outputs": [],
   "source": [
    "# If we run in the morning, then the ridelog data is only for yesterday. In this case, use weather data\n",
    "#  for the day following the last ridelog data\n",
    "# If we run in the evening, then the ridelog data should have already caught up.\n",
    "if todays_date > latest_ridelog:  \n",
    "    reference_date = latest_ridelog + timedelta(days=1)\n",
    "else:\n",
    "    reference_date = latest_ridelog"
   ]
  },
  {
   "cell_type": "code",
   "execution_count": null,
   "metadata": {
    "scrolled": true
   },
   "outputs": [],
   "source": [
    "weather_days, weather_ts = ims.get_weather_days(reference_date=reference_date, ndays=3, n_data_files=10, save_stations=True)\n",
    "weather_days.drop(columns=['date'], inplace=True)  # we assume the date is the reference date we sent"
   ]
  },
  {
   "cell_type": "code",
   "execution_count": null,
   "metadata": {},
   "outputs": [],
   "source": [
    "#weather_days.query('StationNumber == 567')[['R01', 'R12', 'R24', 'R24_sum']]"
   ]
  },
  {
   "cell_type": "code",
   "execution_count": null,
   "metadata": {},
   "outputs": [],
   "source": [
    "# Add rain measurements to ride data\n",
    "d7 = d6.merge(weather_days, how='left', left_on=['closest_ims'], right_on=['StationNumber'])\n",
    "d7.rename(columns={'R24_sum':'rain_3d', 'R12':'rain_mm'}, inplace=True)"
   ]
  },
  {
   "cell_type": "code",
   "execution_count": null,
   "metadata": {},
   "outputs": [],
   "source": [
    "#d7[['segment_id', 'closest_ims', 'rain_3d', 'rain_mm']]"
   ]
  },
  {
   "cell_type": "code",
   "execution_count": null,
   "metadata": {},
   "outputs": [],
   "source": [
    "df_orig = d7.sort_values('date').copy()\n",
    "today = df_orig.copy()"
   ]
  },
  {
   "cell_type": "code",
   "execution_count": null,
   "metadata": {
    "scrolled": true
   },
   "outputs": [],
   "source": [
    "if False:\n",
    "    from matplotlib.dates import DateFormatter\n",
    "    sns.lineplot(data=d8, dashes=False, marker='o')\n",
    "    plt.legend(bbox_to_anchor=(1.05, 1), loc=2, borderaxespad=0.)\n",
    "\n",
    "    plt.gca().xaxis.set_major_formatter(DateFormatter(\"%m-%d\"))\n",
    "    plt.xticks(rotation=45)\n",
    "    None"
   ]
  },
  {
   "cell_type": "code",
   "execution_count": null,
   "metadata": {},
   "outputs": [],
   "source": [
    "def scaleup(a, b):\n",
    "    return a<b\n",
    "\n",
    "def scaledown(a, b):\n",
    "    return a>b\n",
    "\n",
    "\n",
    "def scalestr(v, scale, mycmp=scaleup):\n",
    "    for t in scale:\n",
    "        val = t[0]\n",
    "        s = t[1]\n",
    "        if val is None:\n",
    "            return s\n",
    "        if mycmp(v, val):\n",
    "            return s"
   ]
  },
  {
   "cell_type": "code",
   "execution_count": null,
   "metadata": {},
   "outputs": [],
   "source": [
    "# prepare for display as nice HTML\n",
    "def link2(a, id):\n",
    "    return f'<a href=\"{a}\">{id}</a>'\n",
    "\n",
    "def nopct(s):\n",
    "    return re.sub(r'%', '', s)\n",
    "\n",
    "def nonan(v):\n",
    "    if v is None or (type(v) == str and (v == \"\" or v == \"nan\" or v == \"NaN\")) or (isinstance(v, float) and (math.isnan(v) or v == -1)):\n",
    "        return \"\"\n",
    "    return v\n",
    "\n",
    "def trafficlight(v):\n",
    "    v = nonan(v)\n",
    "    if v == \"\":\n",
    "        return \"\"\n",
    "    return scalestr(float(v), [(80, 'Chartreuse'), (30, 'DarkOrange'), (None, 'OrangeRed')], mycmp=scaledown)\n",
    "\n",
    "def trafficlight_riderskill(v):\n",
    "    v = nonan(v)\n",
    "    if v == \"\":\n",
    "        return \"\"\n",
    "    return scalestr(float(v), [(0.2, '#e60000'),\n",
    "                               (0.4, 'OrangeRed'),\n",
    "                               (0.8, 'DarkOrange'),\n",
    "                               (None, 'Chartreuse')],\n",
    "                    mycmp=scaleup)\n",
    "\n",
    "DEBUG = False\n",
    "\n",
    "def riderskill_string(v):\n",
    "    if DEBUG:\n",
    "        return \"{:.2f}\".format(float(v))\n",
    "    v = nonan(v)\n",
    "    if v == \"\":\n",
    "        return \"\"\n",
    "    return scalestr(float(v), [(0.2, 'מורעל'),\n",
    "                               (0.4, 'נחוש'),\n",
    "                               (0.8, 'לא מסוכר'),\n",
    "                               (None, 'בכיף שלו')],\n",
    "                    mycmp=scaleup)\n",
    "\n",
    "rideability_color = lambda x: '<div style=\"background-color: {}\">{}</div>'.format(trafficlight(nopct(x)), x)\n",
    "\n",
    "skill_color = lambda x: '<div style=\"background-color: {}\">{}</div>'.format(trafficlight_riderskill(x), riderskill_string(x))\n"
   ]
  },
  {
   "cell_type": "code",
   "execution_count": null,
   "metadata": {
    "scrolled": true
   },
   "outputs": [],
   "source": [
    "today[['name', 'rain_mm', 'rain_3d', 'closest_ims', 'StationNumber']].sort_values('rain_3d')"
   ]
  },
  {
   "cell_type": "code",
   "execution_count": null,
   "metadata": {},
   "outputs": [],
   "source": [
    "str(latest_ridelog)"
   ]
  },
  {
   "cell_type": "code",
   "execution_count": null,
   "metadata": {},
   "outputs": [],
   "source": [
    "locale.setlocale(locale.LC_ALL, 'he_IL')\n",
    "def prettify_date(ts_, also_tod=False):\n",
    "    if str(ts_) == 'NaT':\n",
    "        return 'אין נתונים'\n",
    "    if type(ts_) is not pd.Timestamp:\n",
    "        ts_ = pd.Timestamp(ts_, tz='UTC')\n",
    "    ts = ts_.astimezone(tz='Asia/Jerusalem')\n",
    "    \n",
    "    ret = ts.strftime('יום %A %d/%m/%Y')\n",
    "    if also_tod:\n",
    "        ret += ts.strftime(' שעה %H:%M')\n",
    "\n",
    "    return ret"
   ]
  },
  {
   "cell_type": "code",
   "execution_count": null,
   "metadata": {},
   "outputs": [],
   "source": [
    "dfout = today.sort_values(['region_name', 'name']).copy()\n",
    "\n",
    "#format the date\n",
    "data_ts_str = \"רכיבות {}\".format(prettify_date(latest_ridelog))\n",
    "data_ts_str += \", מזג אויר {}\".format(prettify_date(weather_ts, also_tod=True))\n",
    "\n",
    "weekday_name = latest_ridelog.strftime('%A')\n",
    "\n",
    "# truncate name if too long\n",
    "max_name_len = 20\n",
    "dfout['name'] = dfout['name'].map(lambda s: s[:max_name_len] + (s[max_name_len:] and '..'))\n",
    "dfout['link'] = dfout.apply(lambda x: link2(f\"https://www.strava.com/segments/{x['id']}\", x['name']), axis=1)\n",
    "dfout['region_link'] = dfout.apply(lambda x: link2(x['region_url'], x['region_name']), axis=1)\n",
    "dfout['distance'] = dfout['distance'].map(lambda x : \"%.0f\" % x)\n",
    "\n",
    "dfout.drop(columns=['date', 'name', 'id', 'distance'], inplace=True)\n",
    "dfout['nrides'] = dfout['nrides'].map(lambda x : \"\" if math.isnan(x) else \"%.0f%%\" % (100*x))\n",
    "dfout['rain_mm'] = dfout['rain_mm'].map(lambda x : \"\" if math.isnan(x) else \"%.1f\" % x)\n",
    "dfout['rain_3d'] = dfout['rain_3d'].map(lambda x : \"%.0f\" % x)\n",
    "                                 \n",
    "# re-order columns\n",
    "dfout = dfout[['link', 'region_link', 'nrides', 'rain_mm', 'rain_3d']].copy()\n",
    "\n",
    "nrides_str = \"מספר רכיבות <br> ביחס ליום %s ממוצע\" % (weekday_name)\n",
    "\n",
    "dfout.rename(columns = {'link' : 'מקטע', 'region_link' : 'איזור',\n",
    "                        'nrides' : nrides_str,\n",
    "                        'rain_mm' : 'מ״מ גשם <br> 12 שעות', 'rain_3d' : 'מ״מ גשם<br>3 ימים',\n",
    "                       },\n",
    "             inplace=True)\n",
    "\n",
    "htmlout = dfout.to_html(formatters={nrides_str: rideability_color},\n",
    "                        render_links=True, classes=\"table\",\n",
    "                        escape=False, index=False, border=1)\n",
    "\n",
    "\n",
    "# Add decorations and save to file\n",
    "\n",
    "title = 'מדד בוציות בסינגלים'\n",
    "update_ts = '<br><b>' +  \"עדכון אחרון: {}\".format(data_ts_str) + '</b></br>\\n'\n",
    "\n",
    "with open('preamble.txt', encoding=\"utf-8\") as f:\n",
    "    preamble = \" \".join([l.rstrip() for l in f]) \n",
    "\n",
    "with open('epilog.txt', encoding=\"utf-8\") as f:\n",
    "    epilog = \"\\n\".join([l.rstrip() for l in f]) \n",
    "\n",
    "html_preamble = '<html><head><meta charset=\"utf-8\"><meta name=\"viewport\" content=\"width=device-width, initial-scale=1\">\\n<link rel=\"stylesheet\" href=\"https://maxcdn.bootstrapcdn.com/bootstrap/3.4.1/css/bootstrap.min.css\">\\n<title>' + title + '</title>\\n</head><body dir=rtl>\\n' + preamble + \"\\n\" + update_ts + '<div class=\"container\">\\n'\n",
    "htmlout = html_preamble + htmlout + \"</div>\\n\" + epilog\n",
    "\n",
    "fileout = \"data/out/rides.html\"\n",
    "\n",
    "with open(fileout, \"w\", encoding=\"utf-8\") as file:\n",
    "    file.write(htmlout)"
   ]
  }
 ],
 "metadata": {
  "kernelspec": {
   "display_name": "Python 3 (ipykernel)",
   "language": "python",
   "name": "python3"
  },
  "language_info": {
   "codemirror_mode": {
    "name": "ipython",
    "version": 3
   },
   "file_extension": ".py",
   "mimetype": "text/x-python",
   "name": "python",
   "nbconvert_exporter": "python",
   "pygments_lexer": "ipython3",
   "version": "3.9.15"
  }
 },
 "nbformat": 4,
 "nbformat_minor": 4
}
