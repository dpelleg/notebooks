{
 "cells": [
  {
   "cell_type": "code",
   "execution_count": null,
   "metadata": {},
   "outputs": [],
   "source": [
    "import pandas as pd\n",
    "import time\n",
    "import datetime\n",
    "import math\n",
    "import ims\n",
    "import utils\n",
    "import locale\n",
    "\n",
    "# Analyse segment statistics and generate an HTML table for public consumption"
   ]
  },
  {
   "cell_type": "code",
   "execution_count": null,
   "metadata": {
    "scrolled": true
   },
   "outputs": [],
   "source": [
    "# gather data\n",
    "md = utils.get_segment_metadata()\n",
    "rl_ = utils.get_ridelogs()\n",
    "\n",
    "# save a table aside\n",
    "md_meta = md[['id', 'name', 'distance', 'region_name', 'region_url', 'closest_ims']].copy()"
   ]
  },
  {
   "cell_type": "code",
   "execution_count": null,
   "metadata": {},
   "outputs": [],
   "source": [
    "d5 = rl_.copy()\n",
    "\n",
    "# add the closest IMS station\n",
    "d6 = d5.merge(md_meta, how='right', left_on=['segment_id'], right_on=['id'])"
   ]
  },
  {
   "cell_type": "code",
   "execution_count": null,
   "metadata": {
    "scrolled": false
   },
   "outputs": [],
   "source": [
    "rain_days = utils.get_rain_days(d6)\n",
    "\n",
    "# Add rain measurements\n",
    "d7 = d6.merge(rain_days, how='left', left_on=['closest_ims', 'date'], right_on=['closest_ims', 'date'])\n",
    "\n",
    "# cumulative measures of rainfall\n",
    "\n",
    "d7.sort_values('date', inplace=True)\n",
    "d7['rain_7d'] = d7.groupby('segment_id')['rain_mm'].apply(lambda x : x.rolling(7).sum()).fillna(0)\n",
    "#data['soil_moisture'] = data.groupby('segment_id')['rain_mm'].apply(utils.bathtub)\n",
    "df_orig = d7.copy()"
   ]
  },
  {
   "cell_type": "code",
   "execution_count": null,
   "metadata": {},
   "outputs": [],
   "source": [
    "# trim to just most recent day\n",
    "lastdate = df_orig['date'].max()\n",
    "df = df_orig.query(\"date == @lastdate\").copy()\n"
   ]
  },
  {
   "cell_type": "code",
   "execution_count": null,
   "metadata": {
    "scrolled": true
   },
   "outputs": [],
   "source": [
    "if False:\n",
    "    from matplotlib.dates import DateFormatter\n",
    "    sns.lineplot(data=d8, dashes=False, marker='o')\n",
    "    plt.legend(bbox_to_anchor=(1.05, 1), loc=2, borderaxespad=0.)\n",
    "\n",
    "    plt.gca().xaxis.set_major_formatter(DateFormatter(\"%m-%d\"))\n",
    "    plt.xticks(rotation=45)\n",
    "    None"
   ]
  },
  {
   "cell_type": "code",
   "execution_count": null,
   "metadata": {},
   "outputs": [],
   "source": [
    "# prepare for display as nice HTML\n",
    "def link2(a, id):\n",
    "    return f'<a href=\"{a}\">{id}</a>'\n",
    "\n",
    "rideability_color = lambda x: '<div style=\"background-color: {}\">{}</div>'.format(('Chartreuse' if x>80 else 'DarkOrange' if x>30 else 'OrangeRed'), x)\n"
   ]
  },
  {
   "cell_type": "code",
   "execution_count": null,
   "metadata": {},
   "outputs": [],
   "source": [
    "dfout = df.copy()\n",
    "\n",
    "#format the date\n",
    "dateout = lastdate.strftime('%d/%m/%Y')\n",
    "\n",
    "locale.setlocale(locale.LC_ALL, 'he_IL')\n",
    "weekday_name = lastdate.strftime('%A')\n",
    "\n",
    "dfout['link'] = dfout.apply(lambda x: link2(f\"https://www.strava.com/segments/{x['id']}\", x['name']), axis=1)\n",
    "dfout['region_link'] = dfout.apply(lambda x: link2(x['region_url'], x['region_name']), axis=1)\n",
    "dfout['distance'] = dfout['distance'].map(lambda x : \"%.0f\" % x)\n",
    "\n",
    "dfout.drop(columns=['date', 'name', 'id', 'distance'], inplace=True)\n",
    "dfout['nrides'] = dfout['nrides'].map(lambda x : \"\" if math.isnan(x) else \"%.0f%%\" % (100*x))\n",
    "dfout['rain_mm'] = dfout['rain_mm'].map(lambda x : \"%.1f\" % x)\n",
    "dfout['rain_7d'] = dfout['rain_7d'].map(lambda x : \"%.0f\" % x)\n",
    "                                        \n",
    "# re-order columns\n",
    "dfout = dfout[['nrides', 'link', 'region_link', 'rain_mm', 'rain_7d']].copy()\n",
    "\n",
    "nrides_str = \"מספר רכיבות היום ביחס ליום %s ממוצע\" % (weekday_name)\n",
    "\n",
    "print(nrides_str)\n",
    "\n",
    "dfout.rename(columns = {'link' : 'מקטע', 'region_link' : 'איזור',\n",
    "                        'nrides' : nrides_str,\n",
    "                        'rain_mm' : 'גשם יומי מ״מ', 'rain_7d' : 'גשם מצטבר שבועי מ״מ'},\n",
    "             inplace=True)\n",
    "\n",
    "htmlout = dfout.to_html(#formatters={nrides_str: rideability_color},\n",
    "                        render_links=True, classes=\"table\",\n",
    "                        escape=False, index=False, border=1)\n",
    "\n",
    "\n",
    "# Add decorations and save to file\n",
    "\n",
    "title = 'מדד בוציות בסינגלים'\n",
    "update_ts = '<br>' +  \"עדכון אחרון: {}\".format(dateout) + '</br>\\n'\n",
    "\n",
    "with open('preamble.txt') as f:\n",
    "    preamble = \" \".join([l.rstrip() for l in f]) \n",
    "\n",
    "with open('epilog.txt') as f:\n",
    "    epilog = \"\\n\".join([l.rstrip() for l in f]) \n",
    "\n",
    "html_preamble = '<html><head><meta charset=\"utf-8\"><meta name=\"viewport\" content=\"width=device-width, initial-scale=1\">\\n<link rel=\"stylesheet\" href=\"https://maxcdn.bootstrapcdn.com/bootstrap/3.4.1/css/bootstrap.min.css\">\\n<title>' + title + '</title>\\n</head><body dir=rtl>\\n' + preamble + \"\\n\" + update_ts + '<div class=\"container\">\\n'\n",
    "htmlout = html_preamble + htmlout + \"</div>\\n\" + epilog\n",
    "\n",
    "fileout = \"data/out/rides.html\"\n",
    "\n",
    "with open(fileout, \"w\", encoding=\"utf-8\") as file:\n",
    "    file.write(htmlout)"
   ]
  }
 ],
 "metadata": {
  "kernelspec": {
   "display_name": "Python 3",
   "language": "python",
   "name": "python3"
  },
  "language_info": {
   "codemirror_mode": {
    "name": "ipython",
    "version": 3
   },
   "file_extension": ".py",
   "mimetype": "text/x-python",
   "name": "python",
   "nbconvert_exporter": "python",
   "pygments_lexer": "ipython3",
   "version": "3.8.3"
  }
 },
 "nbformat": 4,
 "nbformat_minor": 4
}
