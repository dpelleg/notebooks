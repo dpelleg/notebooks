{
 "cells": [
  {
   "cell_type": "code",
   "execution_count": 1,
   "metadata": {},
   "outputs": [],
   "source": [
    "import pandas as pd\n",
    "import time\n",
    "import datetime\n",
    "import glob as mod_glob\n",
    "import json\n",
    "\n",
    "# Analyse segment statistics"
   ]
  },
  {
   "cell_type": "code",
   "execution_count": 49,
   "metadata": {
    "scrolled": true
   },
   "outputs": [
    {
     "name": "stdout",
     "output_type": "stream",
     "text": [
      "data/ridelogs/segments-20201124.json\n",
      "data/ridelogs/202011.json\n"
     ]
    }
   ],
   "source": [
    "# Read meta-data for all segments\n",
    "datadir = 'data/'\n",
    "segfile = 'segments/segments.csv'\n",
    "\n",
    "md = pd.read_csv(datadir + segfile)\n",
    "md.drop(columns='Unnamed: 0', inplace=True)\n",
    "md.set_index('id', inplace=True)\n",
    "\n",
    "\n",
    "rl_ = None\n",
    "\n",
    "# Read usage records\n",
    "ridelog_files = mod_glob.glob(datadir + 'ridelogs/' + r\"*.json\")\n",
    "for rf in ridelog_files:\n",
    "    print(rf)\n",
    "    jdata = []\n",
    "    with open(rf) as ridelog:\n",
    "        for line in ridelog:\n",
    "            jdata.append(json.loads(line))\n",
    "    if(rl_ is None):\n",
    "        rl_ = pd.DataFrame(jdata)\n",
    "    else:\n",
    "        rl_ = pd.concat([rl_, pd.DataFrame(jdata)], ignore_index=True)\n",
    "rl_['date'] = pd.to_datetime(rl_['time_retrieved'], unit='s').dt.date"
   ]
  },
  {
   "cell_type": "code",
   "execution_count": 45,
   "metadata": {},
   "outputs": [],
   "source": [
    "# Get historical average user per day\n",
    "c = 'created_at'\n",
    "md[c] = pd.to_datetime(md[c])\n",
    "c = 'time_retrieved'\n",
    "md[c] = pd.to_datetime(md[c], utc=True)\n",
    "md['hist_length'] = md['time_retrieved'] - md['created_at']\n",
    "md['hist_length_days'] = md['hist_length'].apply(lambda x: x.days)"
   ]
  },
  {
   "cell_type": "code",
   "execution_count": 46,
   "metadata": {},
   "outputs": [],
   "source": [
    "md['avg_daily'] = md['effort_count'] / md['hist_length_days']"
   ]
  },
  {
   "cell_type": "code",
   "execution_count": 56,
   "metadata": {},
   "outputs": [
    {
     "data": {
      "text/html": [
       "<div>\n",
       "<style scoped>\n",
       "    .dataframe tbody tr th:only-of-type {\n",
       "        vertical-align: middle;\n",
       "    }\n",
       "\n",
       "    .dataframe tbody tr th {\n",
       "        vertical-align: top;\n",
       "    }\n",
       "\n",
       "    .dataframe thead th {\n",
       "        text-align: right;\n",
       "    }\n",
       "</style>\n",
       "<table border=\"1\" class=\"dataframe\">\n",
       "  <thead>\n",
       "    <tr style=\"text-align: right;\">\n",
       "      <th>segment_id</th>\n",
       "      <th>1248017</th>\n",
       "      <th>1717839</th>\n",
       "      <th>17421855</th>\n",
       "      <th>17443790</th>\n",
       "      <th>18952377</th>\n",
       "      <th>2481821</th>\n",
       "      <th>3808938</th>\n",
       "      <th>4202076</th>\n",
       "      <th>4267589</th>\n",
       "      <th>7774409</th>\n",
       "      <th>8574425</th>\n",
       "    </tr>\n",
       "    <tr>\n",
       "      <th>date</th>\n",
       "      <th></th>\n",
       "      <th></th>\n",
       "      <th></th>\n",
       "      <th></th>\n",
       "      <th></th>\n",
       "      <th></th>\n",
       "      <th></th>\n",
       "      <th></th>\n",
       "      <th></th>\n",
       "      <th></th>\n",
       "      <th></th>\n",
       "    </tr>\n",
       "  </thead>\n",
       "  <tbody>\n",
       "    <tr>\n",
       "      <th>2020-11-24</th>\n",
       "      <td>13211</td>\n",
       "      <td>12654</td>\n",
       "      <td>13789</td>\n",
       "      <td>17235</td>\n",
       "      <td>6019</td>\n",
       "      <td>30176</td>\n",
       "      <td>16928</td>\n",
       "      <td>19555</td>\n",
       "      <td>18179</td>\n",
       "      <td>42510</td>\n",
       "      <td>15590</td>\n",
       "    </tr>\n",
       "    <tr>\n",
       "      <th>2020-11-25</th>\n",
       "      <td>13224</td>\n",
       "      <td>12662</td>\n",
       "      <td>13804</td>\n",
       "      <td>17246</td>\n",
       "      <td>6024</td>\n",
       "      <td>30213</td>\n",
       "      <td>16931</td>\n",
       "      <td>19582</td>\n",
       "      <td>18215</td>\n",
       "      <td>42564</td>\n",
       "      <td>15605</td>\n",
       "    </tr>\n",
       "    <tr>\n",
       "      <th>2020-11-26</th>\n",
       "      <td>13224</td>\n",
       "      <td>12662</td>\n",
       "      <td>13804</td>\n",
       "      <td>17248</td>\n",
       "      <td>6024</td>\n",
       "      <td>30212</td>\n",
       "      <td>16932</td>\n",
       "      <td>19581</td>\n",
       "      <td>18216</td>\n",
       "      <td>42562</td>\n",
       "      <td>15606</td>\n",
       "    </tr>\n",
       "  </tbody>\n",
       "</table>\n",
       "</div>"
      ],
      "text/plain": [
       "segment_id  1248017  1717839  17421855  17443790  18952377  2481821  3808938  \\\n",
       "date                                                                           \n",
       "2020-11-24    13211    12654     13789     17235      6019    30176    16928   \n",
       "2020-11-25    13224    12662     13804     17246      6024    30213    16931   \n",
       "2020-11-26    13224    12662     13804     17248      6024    30212    16932   \n",
       "\n",
       "segment_id  4202076  4267589  7774409  8574425  \n",
       "date                                            \n",
       "2020-11-24    19555    18179    42510    15590  \n",
       "2020-11-25    19582    18215    42564    15605  \n",
       "2020-11-26    19581    18216    42562    15606  "
      ]
     },
     "execution_count": 56,
     "metadata": {},
     "output_type": "execute_result"
    }
   ],
   "source": [
    "# Tabulate ridelog data with date as index\n",
    "rl2 = pd.pivot_table(rl_, index='date', values='effort_count', columns='segment_id')\n",
    "rl2"
   ]
  }
 ],
 "metadata": {
  "kernelspec": {
   "display_name": "Python 3",
   "language": "python",
   "name": "python3"
  },
  "language_info": {
   "codemirror_mode": {
    "name": "ipython",
    "version": 3
   },
   "file_extension": ".py",
   "mimetype": "text/x-python",
   "name": "python",
   "nbconvert_exporter": "python",
   "pygments_lexer": "ipython3",
   "version": "3.8.3"
  }
 },
 "nbformat": 4,
 "nbformat_minor": 4
}
