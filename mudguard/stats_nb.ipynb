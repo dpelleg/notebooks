{
 "cells": [
  {
   "cell_type": "code",
   "execution_count": null,
   "metadata": {},
   "outputs": [],
   "source": [
    "import pandas as pd\n",
    "import time\n",
    "import datetime\n",
    "import math\n",
    "import ims\n",
    "import utils\n",
    "import locale\n",
    "import re\n",
    "import ast\n",
    "from datetime import date, timedelta\n",
    "\n",
    "# Analyse segment statistics and generate an HTML table for public consumption"
   ]
  },
  {
   "cell_type": "code",
   "execution_count": null,
   "metadata": {
    "scrolled": true
   },
   "outputs": [],
   "source": [
    "# gather data\n",
    "md = utils.get_segment_metadata()\n",
    "# ignore inactive segments\n",
    "md = md[md['active_html']]\n",
    "\n",
    "rl_ = utils.get_ridelogs()\n",
    "\n",
    "# save a table aside\n",
    "md_meta = md[['id', 'name', 'distance', 'region_name', 'region_url', 'closest_ims']].copy()"
   ]
  },
  {
   "cell_type": "code",
   "execution_count": null,
   "metadata": {},
   "outputs": [],
   "source": [
    "d5 = rl_.copy()\n",
    "\n",
    "# add the closest IMS station\n",
    "d6 = d5.merge(md_meta, how='right', left_on=['segment_id'], right_on=['id'])"
   ]
  },
  {
   "cell_type": "code",
   "execution_count": null,
   "metadata": {
    "scrolled": true
   },
   "outputs": [],
   "source": [
    "weather_days = utils.get_weather_days(d6)"
   ]
  },
  {
   "cell_type": "code",
   "execution_count": null,
   "metadata": {},
   "outputs": [],
   "source": [
    "# Add rain measurements to ride data\n",
    "d7 = d6.merge(weather_days, how='left', left_on=['closest_ims', 'date'], right_on=['closest_ims', 'date'])\n",
    "\n",
    "# cumulative measures of rainfall\n",
    "\n",
    "d7.sort_values('date', inplace=True)\n",
    "d7['rain_7d'] = d7.fillna(0).groupby('segment_id')['rain_mm'].apply(lambda x : x.rolling(7).sum().clip(lower=0))"
   ]
  },
  {
   "cell_type": "code",
   "execution_count": null,
   "metadata": {},
   "outputs": [],
   "source": [
    "# we add another day of data, so we could predict based on simulated weather conditions\n",
    "\n",
    "lastdate = d7['date'].max()\n",
    "\n",
    "lastdate_copy = d7.query('date == @lastdate').copy()\n",
    "tomorrow = lastdate + timedelta(days=1)\n",
    "\n",
    "lastdate_copy['date'] = tomorrow\n",
    "\n",
    "# we will optimistically assume no rain tomorrow\n",
    "# In case of NAs, we probably didn't get weather data. In this case better to invalidate the prediction too\n",
    "#  (bug: for the daycounter model, this will not stop it from still giving a prediction)\n",
    "lastdate_copy.loc[lastdate_copy['rain_mm'].notna(), 'rain_mm'] = 0\n",
    "\n",
    "# now add back\n",
    "d7 = pd.concat([d7, lastdate_copy], ignore_index=True)\n",
    "\n",
    "df_orig = d7.sort_values('date').copy()"
   ]
  },
  {
   "cell_type": "code",
   "execution_count": null,
   "metadata": {},
   "outputs": [],
   "source": [
    "# Load parameters fitted via a statistical model\n",
    "df = df_orig.copy()\n",
    "\n",
    "params = pd.read_csv('data/segments/params.csv')\n",
    "\n",
    "# apply moisture estimate to each segment\n",
    "df['soil_moisture'] = None\n",
    "df['pred'] = None\n",
    "\n",
    "segments = df['id'].unique()\n",
    "\n",
    "for seg in segments:\n",
    "    par = params.query(\"segment_id == @seg\")\n",
    "    if len(par) > 0:\n",
    "        pdict = par.iloc[0].to_dict()\n",
    "        pdict.update(ast.literal_eval(par.iloc[0]['par']))\n",
    "        if(pdict['score'] >= 0.35):  # only try to predict if the quality of the model is good enough\n",
    "            rows = df['id'] == seg\n",
    "            coef = pdict['c_soil']\n",
    "            intercept = pdict['intercept']\n",
    "            # We compute the moisture value which yields 0.9 of the intercept (soil is 90% dry)\n",
    "            # We ignore the factors which aren't soil moisture (pessimistically assume they'll be zero throughout)\n",
    "            y90 = 0.9*intercept\n",
    "            if abs(coef) < 1e-6:\n",
    "                coef = -1e-6\n",
    "            x90 = (y90-intercept)/coef\n",
    "            if pdict['f'] == 'bathtub':\n",
    "                d = pdict['drainage']\n",
    "                c = pdict['capacity']\n",
    "                w = pdict['fwind']\n",
    "                moisture = utils.bathtub_(df[rows], capacity=c, drainage=d, fwind=w)\n",
    "                df.loc[rows, 'soil_moisture'] = moisture\n",
    "                df.loc[rows, 'dtd'] = df.loc[rows].apply(lambda r : (r['soil_moisture'] - x90)/d, axis=1)\n",
    "            elif pdict['f'] == 'bathtub_geom':\n",
    "                d = pdict['drainage_factor']\n",
    "                c = pdict['capacity']\n",
    "                w = pdict['fwind']\n",
    "                moisture = utils.bathtub_geom_(df[rows], capacity=c, drainage_factor=d, fwind=w)\n",
    "                df.loc[rows, 'soil_moisture'] = moisture\n",
    "                df.loc[rows, 'dtd'] = df.loc[rows].apply(lambda r : 0 if r['soil_moisture'] < 1 else (math.log(y90) -math.log(r['soil_moisture']))/math.log(d), axis=1)\n",
    "            elif pdict['f'] == 'daycounter':\n",
    "                d = pdict['cday']\n",
    "                r = pdict['rain_thresh']\n",
    "                w = pdict['fwind']\n",
    "                moisture = utils.daycounter_(df[rows], cday=d, rain_thresh=r, fwind=w)\n",
    "                df.loc[rows, 'soil_moisture'] = moisture\n",
    "                df.loc[rows, 'dtd'] = d\n",
    "            else:\n",
    "                print(\"Uh\")\n",
    "            # Predict level of usage on trail: compute the value of the function, given the soil moisture value\n",
    "            # (we take the other vars to be zero: rain per day, and lockdown)\n",
    "            # Normalize by the intercept, which is where the function is at x=0\n",
    "            df.loc[rows, 'pred'] = 1 + coef*df.loc[rows, 'soil_moisture']/intercept\n",
    "\n",
    "\n",
    "# if parameters make no sense, also invalidae the nrides\n",
    "#rows = (df['capacity'] == 0) | (df['drainage'] == 0)\n",
    "#df.loc[rows, 'nrides'] = math.nan"
   ]
  },
  {
   "cell_type": "code",
   "execution_count": null,
   "metadata": {},
   "outputs": [],
   "source": [
    "# trim to just most recent observation. This also includes the fake day which we added for prediction\n",
    "df_all = df.copy()\n",
    "df = df.query(\"date >= @lastdate\").copy()\n"
   ]
  },
  {
   "cell_type": "code",
   "execution_count": null,
   "metadata": {},
   "outputs": [],
   "source": [
    "# average the prediction of the fake day and the last real day\n",
    "pred2 = df[['date', 'segment_id', 'pred']].fillna(math.nan).groupby(['segment_id'], as_index=False).mean()"
   ]
  },
  {
   "cell_type": "code",
   "execution_count": null,
   "metadata": {},
   "outputs": [],
   "source": [
    "# put predicted value back for the last real day's prediction\n",
    "today = df.query(\"date == @lastdate\").drop(columns='pred').copy()\n",
    "today_pred = today.merge(pred2, how='left', left_on='segment_id', right_on='segment_id')"
   ]
  },
  {
   "cell_type": "code",
   "execution_count": null,
   "metadata": {
    "scrolled": true
   },
   "outputs": [],
   "source": [
    "if False:\n",
    "    from matplotlib.dates import DateFormatter\n",
    "    sns.lineplot(data=d8, dashes=False, marker='o')\n",
    "    plt.legend(bbox_to_anchor=(1.05, 1), loc=2, borderaxespad=0.)\n",
    "\n",
    "    plt.gca().xaxis.set_major_formatter(DateFormatter(\"%m-%d\"))\n",
    "    plt.xticks(rotation=45)\n",
    "    None"
   ]
  },
  {
   "cell_type": "code",
   "execution_count": null,
   "metadata": {},
   "outputs": [],
   "source": [
    "def scaleup(a, b):\n",
    "    return a<b\n",
    "\n",
    "def scaledown(a, b):\n",
    "    return a>b\n",
    "\n",
    "\n",
    "def scalestr(v, scale, mycmp=scaleup):\n",
    "    for t in scale:\n",
    "        val = t[0]\n",
    "        s = t[1]\n",
    "        if val is None:\n",
    "            return s\n",
    "        if mycmp(v, val):\n",
    "            return s"
   ]
  },
  {
   "cell_type": "code",
   "execution_count": null,
   "metadata": {},
   "outputs": [],
   "source": [
    "# prepare for display as nice HTML\n",
    "def link2(a, id):\n",
    "    return f'<a href=\"{a}\">{id}</a>'\n",
    "\n",
    "def nopct(s):\n",
    "    return re.sub(r'%', '', s)\n",
    "\n",
    "def nonan(v):\n",
    "    if v is None or (type(v) == str and (v == \"\" or v ==\"nan\")) or (isinstance(v, float) and math.isnan(v)):\n",
    "        return \"\"\n",
    "    return v\n",
    "\n",
    "def trafficlight(v):\n",
    "    v = nonan(v)\n",
    "    if v == \"\":\n",
    "        return \"\"\n",
    "    return scalestr(float(v), [(80, 'Chartreuse'), (30, 'DarkOrange'), (None, 'OrangeRed')], mycmp=scaledown)\n",
    "\n",
    "def trafficlight_riderskill(v):\n",
    "    v = nonan(v)\n",
    "    if v == \"\":\n",
    "        return \"\"\n",
    "    return scalestr(float(v), [(0.2, '#e60000'),\n",
    "                               (0.4, 'OrangeRed'),\n",
    "                               (0.8, 'DarkOrange'),\n",
    "                               (None, 'Chartreuse')],\n",
    "                    mycmp=scaleup)\n",
    "\n",
    "DEBUG = False\n",
    "\n",
    "def riderskill_string(v):\n",
    "    if DEBUG:\n",
    "        return \"{:.2f}\".format(float(v))\n",
    "    v = nonan(v)\n",
    "    if v == \"\":\n",
    "        return \"\"\n",
    "    return scalestr(float(v), [(0.2, 'מורעל'),\n",
    "                               (0.4, 'נחוש'),\n",
    "                               (0.8, 'לא מסוכר'),\n",
    "                               (None, 'בכיף שלו')],\n",
    "                    mycmp=scaleup)\n",
    "\n",
    "rideability_color = lambda x: '<div style=\"background-color: {}\">{}</div>'.format(trafficlight(nopct(x)), x)\n",
    "\n",
    "skill_color = lambda x: '<div style=\"background-color: {}\">{}</div>'.format(trafficlight_riderskill(x), riderskill_string(x))\n"
   ]
  },
  {
   "cell_type": "code",
   "execution_count": null,
   "metadata": {},
   "outputs": [],
   "source": [
    "today_pred[['name', 'rain_mm', 'wind_ms', 'rain_7d', 'soil_moisture', 'pred', 'closest_ims']].sort_values('pred')"
   ]
  },
  {
   "cell_type": "code",
   "execution_count": null,
   "metadata": {},
   "outputs": [],
   "source": [
    "dfout = today_pred.sort_values(['region_name', 'name']).copy()\n",
    "\n",
    "#format the date\n",
    "locale.setlocale(locale.LC_ALL, 'he_IL')\n",
    "\n",
    "dateout = lastdate.strftime('יום %A %d/%m/%Y')\n",
    "\n",
    "weekday_name = lastdate.strftime('%A')\n",
    "\n",
    "# truncate name if too long\n",
    "max_name_len = 20\n",
    "dfout['name'] = dfout['name'].map(lambda s: s[:max_name_len] + (s[max_name_len:] and '..'))\n",
    "dfout['link'] = dfout.apply(lambda x: link2(f\"https://www.strava.com/segments/{x['id']}\", x['name']), axis=1)\n",
    "dfout['region_link'] = dfout.apply(lambda x: link2(x['region_url'], x['region_name']), axis=1)\n",
    "dfout['distance'] = dfout['distance'].map(lambda x : \"%.0f\" % x)\n",
    "\n",
    "dfout.drop(columns=['date', 'name', 'id', 'distance'], inplace=True)\n",
    "dfout['nrides'] = dfout['nrides'].map(lambda x : \"\" if math.isnan(x) else \"%.0f%%\" % (100*x))\n",
    "dfout['rain_mm'] = dfout['rain_mm'].map(lambda x : \"\" if math.isnan(x) else \"%.1f\" % x)\n",
    "dfout['wind_ms'] = dfout['wind_ms'].map(lambda x : \"\" if math.isnan(x) else \"%.1f\" % x)\n",
    "dfout['rain_7d'] = dfout['rain_7d'].map(lambda x : \"%.0f\" % x)\n",
    "dfout['days_to_dry'] = dfout['dtd'].map(lambda x : \"%.1f\" % x)\n",
    "dfout['pred'].fillna(math.nan, inplace=True)\n",
    "                                      \n",
    "# re-order columns\n",
    "dfout = dfout[['link', 'region_link', 'nrides', 'rain_mm', 'rain_7d', 'pred']].copy()\n",
    "\n",
    "nrides_str = \"מספר רכיבות <br> ביחס ליום %s ממוצע\" % (weekday_name)\n",
    "#dryness_str = 'מספר ימים <br>עד לייבוש'\n",
    "skill_str = 'דרגת נחישות'\n",
    "\n",
    "dfout.rename(columns = {'link' : 'מקטע', 'region_link' : 'איזור',\n",
    "                        'nrides' : nrides_str,\n",
    "                        'rain_mm' : 'גשם יומי מ״מ', 'rain_7d' : 'גשם מצטבר  <br>שבועי מ״מ',\n",
    "                        'wind_ms' : 'מהירות רוח יומי',\n",
    "                        'pred' : skill_str\n",
    "                       },\n",
    "             inplace=True)\n",
    "\n",
    "htmlout = dfout.to_html(formatters={nrides_str: rideability_color, skill_str: skill_color},\n",
    "                        render_links=True, classes=\"table\",\n",
    "                        escape=False, index=False, border=1)\n",
    "\n",
    "\n",
    "# Add decorations and save to file\n",
    "\n",
    "title = 'מדד בוציות בסינגלים'\n",
    "update_ts = '<br><b>' +  \"עדכון אחרון: {}\".format(dateout) + '</b></br>\\n'\n",
    "\n",
    "with open('preamble.txt') as f:\n",
    "    preamble = \" \".join([l.rstrip() for l in f]) \n",
    "\n",
    "with open('epilog.txt') as f:\n",
    "    epilog = \"\\n\".join([l.rstrip() for l in f]) \n",
    "\n",
    "html_preamble = '<html><head><meta charset=\"utf-8\"><meta name=\"viewport\" content=\"width=device-width, initial-scale=1\">\\n<link rel=\"stylesheet\" href=\"https://maxcdn.bootstrapcdn.com/bootstrap/3.4.1/css/bootstrap.min.css\">\\n<title>' + title + '</title>\\n</head><body dir=rtl>\\n' + preamble + \"\\n\" + update_ts + '<div class=\"container\">\\n'\n",
    "htmlout = html_preamble + htmlout + \"</div>\\n\" + epilog\n",
    "\n",
    "fileout = \"data/out/rides.html\"\n",
    "\n",
    "with open(fileout, \"w\", encoding=\"utf-8\") as file:\n",
    "    file.write(htmlout)"
   ]
  }
 ],
 "metadata": {
  "kernelspec": {
   "display_name": "Python 3",
   "language": "python",
   "name": "python3"
  },
  "language_info": {
   "codemirror_mode": {
    "name": "ipython",
    "version": 3
   },
   "file_extension": ".py",
   "mimetype": "text/x-python",
   "name": "python",
   "nbconvert_exporter": "python",
   "pygments_lexer": "ipython3",
   "version": "3.8.3"
  }
 },
 "nbformat": 4,
 "nbformat_minor": 4
}
