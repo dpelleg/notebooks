{
 "cells": [
  {
   "cell_type": "code",
   "execution_count": null,
   "metadata": {},
   "outputs": [],
   "source": [
    "# Visualizations of mtb ridelogs\n",
    "import pandas as pd\n",
    "import seaborn as sns\n",
    "import matplotlib.pyplot as plt\n",
    "import utils\n",
    "from datetime import date, timedelta"
   ]
  },
  {
   "cell_type": "code",
   "execution_count": null,
   "metadata": {},
   "outputs": [],
   "source": [
    "# gather data\n",
    "md = utils.get_segment_metadata()\n",
    "mydf = utils.get_ridelogs()\n",
    "mydf = mydf.merge(md[['id', 'name']], how='left', left_on='segment_id', right_on='id')\n",
    "mydf"
   ]
  },
  {
   "cell_type": "code",
   "execution_count": null,
   "metadata": {},
   "outputs": [],
   "source": [
    "today = date.today()\n",
    "epoch = today - timedelta(weeks=2)\n",
    "fig, ax = plt.subplots(2, 1, figsize=(8,8))\n",
    "\n",
    "sns.lineplot(data=mydf[['date','nrides_raw']].query(\"date >= @epoch\").set_index('date'), ci='sd', ax=ax[0])\n",
    "plt.xticks(rotation=-45)\n",
    "\n",
    "sns.lineplot(data=mydf[['date','rides']].query(\"date >= @epoch\").set_index('date'), ci='sd', ax=ax[1])\n",
    "plt.xticks(rotation=-45)\n",
    "\n",
    "None"
   ]
  },
  {
   "cell_type": "code",
   "execution_count": null,
   "metadata": {},
   "outputs": [],
   "source": [
    "epoch = today - timedelta(days=1)\n",
    "mydf.query(\"date > @epoch\").sort_values('nrides_raw')"
   ]
  },
  {
   "cell_type": "code",
   "execution_count": null,
   "metadata": {},
   "outputs": [],
   "source": [
    "sns.barplot(data=mydf, x='weekday', y='rides')\n",
    "\n"
   ]
  },
  {
   "cell_type": "code",
   "execution_count": null,
   "metadata": {},
   "outputs": [],
   "source": [
    "names = md['name'].values\n",
    "ids = md['id'].values\n",
    "fig, ax = plt.subplots(figsize=(10,50), nrows=len(names), ncols=1)\n",
    "\n",
    "for vi in range(len(names)):\n",
    "    segid = ids[vi]\n",
    "    segname = names[vi]\n",
    "    mydata = mydf.query(\"segment_id == @segid\").copy()\n",
    "    sns.barplot(data=mydata, x='weekday', y='rides', ax=ax[vi]).set_title(segname)\n",
    "\n",
    "\n",
    "\n"
   ]
  }
 ],
 "metadata": {
  "kernelspec": {
   "display_name": "p38",
   "language": "python",
   "name": "p38"
  },
  "language_info": {
   "codemirror_mode": {
    "name": "ipython",
    "version": 3
   },
   "file_extension": ".py",
   "mimetype": "text/x-python",
   "name": "python",
   "nbconvert_exporter": "python",
   "pygments_lexer": "ipython3",
   "version": "3.8.3"
  }
 },
 "nbformat": 4,
 "nbformat_minor": 4
}
