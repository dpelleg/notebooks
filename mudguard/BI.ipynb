{
 "cells": [
  {
   "cell_type": "code",
   "execution_count": null,
   "metadata": {
    "scrolled": true
   },
   "outputs": [],
   "source": [
    "# Visualizations of mtb ridelogs\n",
    "import pandas as pd\n",
    "import numpy as np\n",
    "import seaborn as sns\n",
    "import matplotlib.pyplot as plt\n",
    "import utils\n",
    "from datetime import date, timedelta"
   ]
  },
  {
   "cell_type": "code",
   "execution_count": null,
   "metadata": {
    "scrolled": true
   },
   "outputs": [],
   "source": [
    "# gather data\n",
    "md = utils.get_segment_metadata()\n",
    "mydf = utils.get_ridelogs()\n",
    "mydf = mydf.merge(md[['id', 'name', 'region_name', 'closest_ims']], how='left', left_on='segment_id', right_on='id')"
   ]
  },
  {
   "cell_type": "code",
   "execution_count": null,
   "metadata": {
    "scrolled": true
   },
   "outputs": [],
   "source": [
    "md.query(\"active_modeling == True\")[['name', 'id', 'closest_ims']]"
   ]
  },
  {
   "cell_type": "code",
   "execution_count": null,
   "metadata": {
    "scrolled": false
   },
   "outputs": [],
   "source": [
    "today = date.today()\n",
    "epoch = today - timedelta(weeks=2)\n",
    "fig, ax = plt.subplots(2, 1, figsize=(8,8))\n",
    "\n",
    "sns.lineplot(data=mydf[['date','nrides_raw']].query(\"date >= @epoch\").set_index('date'), ci='sd', ax=ax[0])\n",
    "plt.xticks(rotation=-45)\n",
    "\n",
    "sns.lineplot(data=mydf[['date','rides']].query(\"date >= @epoch\").set_index('date'), ci='sd', ax=ax[1])\n",
    "plt.xticks(rotation=-45)\n",
    "\n",
    "None"
   ]
  },
  {
   "cell_type": "code",
   "execution_count": null,
   "metadata": {},
   "outputs": [],
   "source": [
    "epoch = today - timedelta(days=2)\n",
    "mydf.query(\"date > @epoch\")[['date', 'rides', 'nrides_raw', 'region_name', 'name']].sort_values('region_name')"
   ]
  },
  {
   "cell_type": "code",
   "execution_count": null,
   "metadata": {
    "scrolled": false
   },
   "outputs": [],
   "source": [
    "a4_dims = (11.7, 8.27)\n",
    "fig, ax = plt.subplots(figsize=a4_dims)\n",
    "epoch = today - timedelta(days=7)\n",
    "sns.set_context('poster', font_scale=0.7,  rc={\"lines.linewidth\": 1})\n",
    "sns.lineplot(data=mydf.query(\"date > @epoch\"), x='date', y='nrides_raw', style='region_name', hue='region_name', markers=True, dashes=False, ax=ax)\n",
    "plt.legend(bbox_to_anchor=(1.05, 1), loc=2, borderaxespad=0.)"
   ]
  },
  {
   "cell_type": "code",
   "execution_count": null,
   "metadata": {},
   "outputs": [],
   "source": [
    "#sns.scatterplot(data = mydf, y ='nrides', x='rain_mm')\n",
    "mydf"
   ]
  },
  {
   "cell_type": "code",
   "execution_count": null,
   "metadata": {
    "scrolled": true
   },
   "outputs": [],
   "source": [
    "a4_dims = (11.7, 8.27)\n",
    "fig, ax = plt.subplots(figsize=a4_dims)\n",
    "epoch = today - timedelta(days=45)\n",
    "sns.set_context('poster', font_scale=0.7,  rc={\"lines.linewidth\": 1})\n",
    "sns.lineplot(data=mydf.query(\"date >= @epoch and region_name == 'משמר העמק'\"), x='date', y='nrides_raw', style='name', hue='region_name', markers=True, dashes=False, ax=ax)\n",
    "plt.legend(bbox_to_anchor=(1.05, 1), loc=2, borderaxespad=0.)\n",
    "plt.xticks(rotation=-45);"
   ]
  },
  {
   "cell_type": "code",
   "execution_count": null,
   "metadata": {},
   "outputs": [],
   "source": [
    "def days_since_last_rain(vv, thresh=5):   \n",
    "    ret = np.zeros_like(vv)\n",
    "    since = 0\n",
    "    for i in range(len(vv)):\n",
    "        if(vv[i] >= thresh):\n",
    "            since = 0\n",
    "        else:\n",
    "            since = since + 1\n",
    "        ret[i] = since\n",
    "    ret = ret.tolist()\n",
    "    return ret   "
   ]
  },
  {
   "cell_type": "code",
   "execution_count": null,
   "metadata": {
    "scrolled": false
   },
   "outputs": [],
   "source": [
    "# correlate with days since last rain\n",
    "\n",
    "segments = mydf['name'].dropna().unique()\n",
    "all_corrs = []\n",
    "for seg in segments:\n",
    "    d_ = mydf.query(\"name == @seg\").copy()\n",
    "    cnames = ['nrides']\n",
    "    for i in [1, 5, 10, 15, 20]:\n",
    "        cname = 'since_%dmm' % i\n",
    "        cnames.append(cname)\n",
    "        vv = d_.fillna(0).groupby('segment_id')['rain_mm'].apply(lambda x : days_since_last_rain(x.values, thresh=i))\n",
    "        d_[cname] = vv.values[0]\n",
    "        \n",
    "    d_rains = d_[cnames]\n",
    "    x = d_rains.corr(method='spearman')['nrides']\n",
    "    x1 = pd.DataFrame(x)\n",
    "    segr = seg[::-1]\n",
    "    x1.rename(columns={'nrides' : segr}, inplace=True)\n",
    "    all_corrs.append(x1)\n",
    "#sns.lineplot(data=d_.set_index('nrides'), dashes=False, markers=True, linewidth=2)"
   ]
  },
  {
   "cell_type": "code",
   "execution_count": null,
   "metadata": {},
   "outputs": [],
   "source": [
    "if False:\n",
    "    segments = mydf['name'].dropna().unique()\n",
    "    all_corrs = []\n",
    "    for seg in segments:\n",
    "        d_ = mydf.query(\"name == @seg\").copy()\n",
    "        cnames = ['nrides']\n",
    "        for i in range(1,4):\n",
    "            cname = 'rain_%dd' % i\n",
    "            cnames.append(cname)\n",
    "            d_[cname] = d_.fillna(0).groupby('segment_id')['rain_mm'].apply(lambda x : x.rolling(i).sum().clip(lower=0))\n",
    "        \n",
    "        d_rains = d_[cnames]\n",
    "        x = d_rains.corr(method='spearman')['nrides']\n",
    "        x1 = pd.DataFrame(x)\n",
    "        segr = seg[::-1]\n",
    "        x1.rename(columns={'nrides' : segr}, inplace=True)\n",
    "        all_corrs.append(x1)\n",
    "#sns.lineplot(data=d_.set_index('nrides'), dashes=False, markers=True, linewidth=2)"
   ]
  },
  {
   "cell_type": "code",
   "execution_count": null,
   "metadata": {},
   "outputs": [],
   "source": [
    "a = pd.concat(all_corrs, axis=1)\n",
    "a.drop('nrides', inplace=True)\n",
    "a4_dims = (10, 10)\n",
    "fig, ax = plt.subplots(1, 1, figsize=a4_dims)\n",
    "sns.lineplot(data=a, dashes=False, markers=True, linewidth=2)\n",
    "plt.legend(bbox_to_anchor=(1.05, 1), loc=2, borderaxespad=0.)"
   ]
  },
  {
   "cell_type": "code",
   "execution_count": null,
   "metadata": {
    "scrolled": true
   },
   "outputs": [],
   "source": [
    "a4_dims = (10, 6)\n",
    "fig, ax = plt.subplots(2, 1, figsize=a4_dims)\n",
    "sns.set_context('poster', font_scale=0.7,  rc={\"lines.linewidth\": 1})\n",
    "sns.lineplot(data=mydf.query(\"date >= '2020-11-30' and date <= '2020-12-30' and name == 'החילזון נהיה עצלן'\"), x='date', y='rides', style='name', hue='region_name', markers=True, dashes=False, ax=ax[0])\n",
    "plt.legend(bbox_to_anchor=(1.05, 1), loc=2, borderaxespad=0.)\n",
    "plt.xticks(rotation=-45);\n",
    "w = pd.read_csv('data/climate/weather_days.csv')\n",
    "w['date'] = pd.to_datetime(w['date'])\n",
    "w2 = w.query(\"closest_ims == 67 and date >= '2020-11-30' and date <= '2020-12-30'\").drop(columns=['closest_ims', 'wind_ms'])\n",
    "sns.lineplot(ax=ax[1], data=w2.set_index('date'))\n",
    "\n",
    "\n"
   ]
  },
  {
   "cell_type": "code",
   "execution_count": null,
   "metadata": {
    "scrolled": true
   },
   "outputs": [],
   "source": [
    "w = pd.read_csv('data/climate/weather_days.csv')\n",
    "w['date'] = pd.to_datetime(w['date'])\n",
    "w2 = w.query('closest_ims == 67').drop(columns='closest_ims')\n",
    "sns.lineplot(data=w2.query(\"date >= @epoch\").set_index('date'))\n",
    "#w2\n",
    "\n"
   ]
  },
  {
   "cell_type": "code",
   "execution_count": null,
   "metadata": {},
   "outputs": [],
   "source": [
    "#print(mydf.dtypes)\n",
    "#print(w.dtypes)\n",
    "mydf = mydf.merge(w, how='left', left_on=['closest_ims', 'date'], right_on=['closest_ims', 'date'], suffixes=('', \"_y\"))\n",
    "#sns.scatterplot(data = mydf.query('segment_id == \"5230474\"'), y ='nrides', x='rain_7d')\n",
    "mydf.info()\n",
    "#help(mydf.merge)"
   ]
  },
  {
   "cell_type": "code",
   "execution_count": null,
   "metadata": {},
   "outputs": [],
   "source": [
    "epoch = today - timedelta(days=1)\n",
    "mydf[['nrides_raw', 'name', 'date']].query(\"date > @epoch\").sort_values('nrides_raw')"
   ]
  },
  {
   "cell_type": "code",
   "execution_count": null,
   "metadata": {
    "scrolled": false
   },
   "outputs": [],
   "source": [
    "names = md['name'].values\n",
    "ids = md['id'].values\n",
    "fig, ax = plt.subplots(figsize=(10,80), nrows=len(names), ncols=1)\n",
    "\n",
    "for vi in range(len(names)):\n",
    "    segid = ids[vi]\n",
    "    segname = names[vi]\n",
    "    mydata = mydf.query(\"segment_id == @segid\").copy()\n",
    "    if len(mydata) > 0:\n",
    "        sns.barplot(data=mydata, x='weekday', y='rides', ax=ax[vi]).set_title(segname)\n",
    "\n",
    "fig.tight_layout(pad=3)"
   ]
  }
 ],
 "metadata": {
  "kernelspec": {
   "display_name": "Python 3",
   "language": "python",
   "name": "python3"
  },
  "language_info": {
   "codemirror_mode": {
    "name": "ipython",
    "version": 3
   },
   "file_extension": ".py",
   "mimetype": "text/x-python",
   "name": "python",
   "nbconvert_exporter": "python",
   "pygments_lexer": "ipython3",
   "version": "3.8.3"
  }
 },
 "nbformat": 4,
 "nbformat_minor": 4
}
