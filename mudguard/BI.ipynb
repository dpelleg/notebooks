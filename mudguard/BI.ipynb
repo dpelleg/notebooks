{
 "cells": [
  {
   "cell_type": "code",
   "execution_count": null,
   "metadata": {
    "scrolled": true
   },
   "outputs": [],
   "source": [
    "# Visualizations of mtb ridelogs\n",
    "import pandas as pd\n",
    "import seaborn as sns\n",
    "import matplotlib.pyplot as plt\n",
    "import utils\n",
    "from datetime import date, timedelta"
   ]
  },
  {
   "cell_type": "code",
   "execution_count": null,
   "metadata": {
    "scrolled": true
   },
   "outputs": [],
   "source": [
    "# gather data\n",
    "md = utils.get_segment_metadata()\n",
    "mydf = utils.get_ridelogs()\n",
    "mydf = mydf.merge(md[['id', 'name', 'region_name', 'closest_ims']], how='left', left_on='segment_id', right_on='id')"
   ]
  },
  {
   "cell_type": "code",
   "execution_count": null,
   "metadata": {
    "scrolled": true
   },
   "outputs": [],
   "source": [
    "md[['name', 'id', 'closest_ims']][1:20]"
   ]
  },
  {
   "cell_type": "code",
   "execution_count": null,
   "metadata": {
    "scrolled": false
   },
   "outputs": [],
   "source": [
    "today = date.today()\n",
    "epoch = today - timedelta(weeks=2)\n",
    "fig, ax = plt.subplots(2, 1, figsize=(8,8))\n",
    "\n",
    "sns.lineplot(data=mydf[['date','nrides_raw']].query(\"date >= @epoch\").set_index('date'), ci='sd', ax=ax[0])\n",
    "plt.xticks(rotation=-45)\n",
    "\n",
    "sns.lineplot(data=mydf[['date','rides']].query(\"date >= @epoch\").set_index('date'), ci='sd', ax=ax[1])\n",
    "plt.xticks(rotation=-45)\n",
    "\n",
    "None"
   ]
  },
  {
   "cell_type": "code",
   "execution_count": null,
   "metadata": {},
   "outputs": [],
   "source": [
    "epoch = today - timedelta(days=2)\n",
    "mydf.query(\"date > @epoch\")[['date', 'rides', 'nrides_raw', 'region_name', 'name']].sort_values('region_name')"
   ]
  },
  {
   "cell_type": "code",
   "execution_count": null,
   "metadata": {
    "scrolled": false
   },
   "outputs": [],
   "source": [
    "a4_dims = (11.7, 8.27)\n",
    "fig, ax = plt.subplots(figsize=a4_dims)\n",
    "epoch = today - timedelta(days=7)\n",
    "sns.set_context('poster', font_scale=0.7,  rc={\"lines.linewidth\": 1})\n",
    "sns.lineplot(data=mydf.query(\"date > @epoch\"), x='date', y='nrides_raw', style='region_name', hue='region_name', markers=True, dashes=False, ax=ax)\n",
    "plt.legend(bbox_to_anchor=(1.05, 1), loc=2, borderaxespad=0.)"
   ]
  },
  {
   "cell_type": "code",
   "execution_count": null,
   "metadata": {},
   "outputs": [],
   "source": [
    "#sns.scatterplot(data = mydf, y ='nrides', x='rain_mm')\n",
    "mydf"
   ]
  },
  {
   "cell_type": "code",
   "execution_count": null,
   "metadata": {
    "scrolled": true
   },
   "outputs": [],
   "source": [
    "a4_dims = (11.7, 8.27)\n",
    "fig, ax = plt.subplots(figsize=a4_dims)\n",
    "epoch = today - timedelta(days=45)\n",
    "sns.set_context('poster', font_scale=0.7,  rc={\"lines.linewidth\": 1})\n",
    "sns.lineplot(data=mydf.query(\"date >= @epoch and region_name == 'משמר העמק'\"), x='date', y='nrides_raw', style='name', hue='region_name', markers=True, dashes=False, ax=ax)\n",
    "plt.legend(bbox_to_anchor=(1.05, 1), loc=2, borderaxespad=0.)\n",
    "plt.xticks(rotation=-45);"
   ]
  },
  {
   "cell_type": "code",
   "execution_count": null,
   "metadata": {
    "scrolled": true
   },
   "outputs": [],
   "source": [
    "mydf.query(\"date >= @epoch and name == 'החילזון נהיה עצלן'\")"
   ]
  },
  {
   "cell_type": "code",
   "execution_count": null,
   "metadata": {
    "scrolled": true
   },
   "outputs": [],
   "source": [
    "a4_dims = (10, 6)\n",
    "fig, ax = plt.subplots(2, 1, figsize=a4_dims)\n",
    "sns.set_context('poster', font_scale=0.7,  rc={\"lines.linewidth\": 1})\n",
    "sns.lineplot(data=mydf.query(\"date >= '2020-11-30' and date <= '2020-12-30' and name == 'החילזון נהיה עצלן'\"), x='date', y='rides', style='name', hue='region_name', markers=True, dashes=False, ax=ax[0])\n",
    "plt.legend(bbox_to_anchor=(1.05, 1), loc=2, borderaxespad=0.)\n",
    "plt.xticks(rotation=-45);\n",
    "w = pd.read_csv('data/climate/weather_days.csv')\n",
    "w['date'] = pd.to_datetime(w['date'])\n",
    "w2 = w.query(\"closest_ims == 67 and date >= '2020-11-30' and date <= '2020-12-30'\").drop(columns=['closest_ims', 'wind_ms'])\n",
    "sns.lineplot(ax=ax[1], data=w2.set_index('date'))\n",
    "\n",
    "\n"
   ]
  },
  {
   "cell_type": "code",
   "execution_count": null,
   "metadata": {
    "scrolled": true
   },
   "outputs": [],
   "source": [
    "w = pd.read_csv('data/climate/weather_days.csv')\n",
    "w['date'] = pd.to_datetime(w['date'])\n",
    "w2 = w.query('closest_ims == 67').drop(columns='closest_ims')\n",
    "#sns.lineplot(data=w.query(\"date >= @epoch\").set_index('date'))\n",
    "w2\n",
    "\n"
   ]
  },
  {
   "cell_type": "code",
   "execution_count": null,
   "metadata": {},
   "outputs": [],
   "source": [
    "#print(mydf.dtypes)\n",
    "#print(w.dtypes)\n",
    "mydf = mydf.merge(w, how='left', left_on=['closest_ims', 'date'], right_on=['closest_ims', 'date'], suffixes=('', \"_y\"))\n",
    "sns.scatterplot(data = mydf, y ='nrides', x='rain_mm')\n",
    "#help(mydf.merge)"
   ]
  },
  {
   "cell_type": "code",
   "execution_count": null,
   "metadata": {},
   "outputs": [],
   "source": [
    "epoch = today - timedelta(days=1)\n",
    "mydf[['nrides_raw', 'name', 'date']].query(\"date > @epoch\").sort_values('nrides_raw')"
   ]
  },
  {
   "cell_type": "code",
   "execution_count": null,
   "metadata": {
    "scrolled": false
   },
   "outputs": [],
   "source": [
    "names = md['name'].values\n",
    "ids = md['id'].values\n",
    "fig, ax = plt.subplots(figsize=(10,50), nrows=len(names), ncols=1)\n",
    "\n",
    "for vi in range(len(names)):\n",
    "    segid = ids[vi]\n",
    "    segname = names[vi]\n",
    "    mydata = mydf.query(\"segment_id == @segid\").copy()\n",
    "    if len(mydata) > 0:\n",
    "        sns.barplot(data=mydata, x='weekday', y='rides', ax=ax[vi]).set_title(segname)\n",
    "\n",
    "\n",
    "\n"
   ]
  }
 ],
 "metadata": {
  "kernelspec": {
   "display_name": "Python 3",
   "language": "python",
   "name": "python3"
  },
  "language_info": {
   "codemirror_mode": {
    "name": "ipython",
    "version": 3
   },
   "file_extension": ".py",
   "mimetype": "text/x-python",
   "name": "python",
   "nbconvert_exporter": "python",
   "pygments_lexer": "ipython3",
   "version": "3.8.3"
  }
 },
 "nbformat": 4,
 "nbformat_minor": 4
}
