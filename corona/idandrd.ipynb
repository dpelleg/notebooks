{
 "cells": [
  {
   "cell_type": "code",
   "execution_count": null,
   "metadata": {
    "collapsed": true
   },
   "outputs": [],
   "source": [
    "import pandas as pd\n",
    "import seaborn as sns\n",
    "\n",
    "import matplotlib.pyplot as plt\n",
    "import numpy as np"
   ]
  },
  {
   "cell_type": "code",
   "execution_count": null,
   "metadata": {
    "collapsed": true
   },
   "outputs": [],
   "source": [
    "cases_ = pd.read_csv('https://raw.githubusercontent.com/idandrd/israel-covid19-data/master/IsraelCOVID19.csv')\n",
    "# some pesky unicode chars in column names\n",
    "cases_ = cases_.rename(columns={'בינוני Moderate' : 'Moderate', 'קשה Severe': 'Severe', 'החלימו Recovered': 'Recovered', 'נפטרו Deceased' : 'Deceased', 'Total Recovered': 'Recovered'})\n",
    "cases_.rename(columns = lambda x : x.encode('ascii', 'ignore').decode('ascii'), inplace=True)"
   ]
  },
  {
   "cell_type": "code",
   "execution_count": null,
   "metadata": {
    "collapsed": true,
    "scrolled": true
   },
   "outputs": [],
   "source": [
    "# convert to numeric\n",
    "#cases = cases_.apply(lambda x: pd.to_numeric(x, errors='coerce'), axis=1)\n",
    "cases = cases_\n",
    "\n",
    "cases['Date'] = pd.to_datetime(cases['Date'], format=\"%d/%m/%Y\")\n",
    "cases.index = cases['Date']\n",
    "\n",
    "cases['tot'] = cases['New Cases'].cumsum()\n",
    "new = cases[['Recovered','Severe', 'Deceased']].diff()\n",
    "cases = cases.merge(new, left_index=True, right_index=True, suffixes = ('',' New'))\n",
    "\n",
    "cases['added'] = cases['Severe'] + cases['Deceased']\n",
    "cases['added_rel3'] = 1+cases['added'].rolling(3).mean().pct_change()\n",
    "\n",
    "cases['doubling rate'] = np.log(2) / np.log(cases['added_rel3'])"
   ]
  },
  {
   "cell_type": "code",
   "execution_count": null,
   "metadata": {
    "collapsed": false
   },
   "outputs": [],
   "source": [
    "# remap dates to ordinal, easier for Seaborn to handle\n",
    "cases['date_ordinal'] = pd.to_datetime(cases['Date']).apply(lambda date: date.toordinal())\n",
    "# Add 4 samples per day (every 6 hours), interpolate to get smoothed line\n",
    "c = cases.resample('6H').asfreq().interpolate(method='spline', order=3, s=0.)\n",
    "\n",
    "ax = sns.lineplot(x='date_ordinal', y=\"added_rel3\", data=c)\n",
    "# re-fix axes\n",
    "ax.set_xlabel('date')\n",
    "new_labels = [pd.Timestamp.fromordinal(int(item)).strftime('%Y-%m-%d') for item in ax.get_xticks()]\n",
    "ax.set_xticklabels(new_labels)\n",
    "# Rotate the labels so you can read them\n",
    "plt.xticks(rotation = 45)\n",
    "\n",
    "# Change x-axis title\n",
    "plt.xlabel('date')\n",
    "plt.show()\n"
   ]
  },
  {
   "cell_type": "code",
   "execution_count": null,
   "metadata": {
    "collapsed": false
   },
   "outputs": [],
   "source": [
    "cases['new added'] = (cases['Severe New'] + cases['Deceased New']).rolling(3).mean()\n",
    "c = cases.resample('6H').asfreq().interpolate(method='spline', order=3, s=0.)\n",
    "\n",
    "plt.figure()\n",
    "c = c[-84:]\n",
    "pl=c['new added'].plot(linewidth=3)\n",
    "#plt.xticks(rotation=270)\n",
    "pl.set_xlim(left=c.index[0], right=c.index[-1])\n",
    "plt.show()\n"
   ]
  }
 ],
 "metadata": {
  "anaconda-cloud": {},
  "kernelspec": {
   "display_name": "Python [default]",
   "language": "python",
   "name": "python3"
  },
  "language_info": {
   "codemirror_mode": {
    "name": "ipython",
    "version": 3
   },
   "file_extension": ".py",
   "mimetype": "text/x-python",
   "name": "python",
   "nbconvert_exporter": "python",
   "pygments_lexer": "ipython3",
   "version": "3.5.2"
  }
 },
 "nbformat": 4,
 "nbformat_minor": 1
}
