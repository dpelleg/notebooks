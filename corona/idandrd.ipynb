{
 "cells": [
  {
   "cell_type": "code",
   "execution_count": null,
   "metadata": {
    "collapsed": true
   },
   "outputs": [],
   "source": [
    "import pandas as pd\n",
    "import matplotlib.pyplot as plt\n",
    "import numpy as np"
   ]
  },
  {
   "cell_type": "code",
   "execution_count": null,
   "metadata": {
    "collapsed": false
   },
   "outputs": [],
   "source": [
    "cases_ = pd.read_csv('https://raw.githubusercontent.com/idandrd/israel-covid19-data/master/IsraelCOVID19.csv')\n",
    "# some pesky unicode chars in column names\n",
    "cases_ = cases_.rename(columns={'בינוני Moderate' : 'Moderate', 'קשה Severe': 'Severe', 'החלימו Recovered': 'Recovered', 'נפטרו Deceased' : 'Deceased'})\n",
    "cases_.rename(columns = lambda x : x.encode('ascii', 'ignore').decode('ascii'), inplace=True)"
   ]
  },
  {
   "cell_type": "code",
   "execution_count": null,
   "metadata": {
    "collapsed": false,
    "scrolled": true
   },
   "outputs": [],
   "source": [
    "# convert to numeric\n",
    "#cases = cases_.apply(lambda x: pd.to_numeric(x, errors='coerce'), axis=1)\n",
    "cases = cases_\n",
    "\n",
    "cases['Date'] = pd.to_datetime(cases['Date'])\n",
    "cases.index = cases['Date']\n",
    "\n",
    "cases['tot'] = cases['New Cases'].cumsum()\n",
    "new = cases[['Recovered','Severe', 'Deceased']].diff()\n",
    "cases = cases.merge(new, left_index=True, right_index=True, suffixes = ('',' New'))\n",
    "\n",
    "cases['added'] = cases['Severe'] + cases['Deceased']\n",
    "cases['added_rel3'] = 1+cases['added'].rolling(3).mean().pct_change()\n",
    "cases['doubling rate'] = np.log(2) / np.log(cases['added_rel3'])\n"
   ]
  },
  {
   "cell_type": "code",
   "execution_count": null,
   "metadata": {
    "collapsed": false,
    "scrolled": true
   },
   "outputs": [],
   "source": [
    "plt.figure()\n",
    "#pl.xaxis.set_major_locator(plt.MaxNLocator(5))\n",
    "pl=cases['added_rel3'].plot(linewidth=3)\n",
    "pl.set_ylim((0.95, 1.65))\n",
    "plt.xticks(rotation=270)\n",
    "pl.set_xlim(left=pd.to_datetime('2020-03-16'), right=cases.index[-1])\n",
    "#pl.locator_params(axis='x', nbins=15)\n",
    "#pl.xaxis.set_ticks(np.arange(0, len(cases.index), 4))\n",
    "#pl.set_xticks(cases.index)\n",
    "plt.show()"
   ]
  },
  {
   "cell_type": "code",
   "execution_count": null,
   "metadata": {
    "collapsed": false
   },
   "outputs": [],
   "source": [
    "cases['new added'] = (cases['Severe New'] + cases['Deceased New']).rolling(3).mean()\n",
    "plt.figure()\n",
    "c = cases[-21:]\n",
    "pl=c['new added'].plot(linewidth=3)\n",
    "#plt.xticks(rotation=270)\n",
    "pl.set_xlim(left=c.index[0], right=c.index[-1])\n",
    "plt.show()"
   ]
  }
 ],
 "metadata": {
  "anaconda-cloud": {},
  "kernelspec": {
   "display_name": "Python [default]",
   "language": "python",
   "name": "python3"
  },
  "language_info": {
   "codemirror_mode": {
    "name": "ipython",
    "version": 3
   },
   "file_extension": ".py",
   "mimetype": "text/x-python",
   "name": "python",
   "nbconvert_exporter": "python",
   "pygments_lexer": "ipython3",
   "version": "3.5.2"
  }
 },
 "nbformat": 4,
 "nbformat_minor": 1
}
