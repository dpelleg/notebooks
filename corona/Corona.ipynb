{
 "cells": [
  {
   "cell_type": "code",
   "execution_count": null,
   "metadata": {
    "collapsed": true
   },
   "outputs": [],
   "source": [
    "import numpy as np\n",
    "import pandas as pd\n",
    "import matplotlib.pyplot as plt\n",
    "import seaborn as sns"
   ]
  },
  {
   "cell_type": "code",
   "execution_count": null,
   "metadata": {
    "collapsed": false
   },
   "outputs": [],
   "source": [
    "df=pd.read_csv('corona_lab_tests_ver007.csv', encoding = 'latin-1', sep=\",\")        # from https://data.gov.il/dataset/covid-19\n",
    "\n",
    "df['result'] = df['corona_result'].map({'חיובי' : 'pos',\n",
    "                                        'שלילי' : 'neg',\n",
    "                                        'בעבודה' : 'wip',\n",
    "                                        'לא ודאי' : 'uncertain',\n",
    "                                        'çéåáé' : 'pos',\n",
    "                                        'ùìéìé' : 'neg',\n",
    "                                        'áòáåãä' : 'wip',\n",
    "                                        'ìà åãàé' : 'uncertain'\n",
    "                                           })\n",
    "df['test_date'] = pd.to_datetime(df['test_date'], format=\"%m/%d/%Y\")\n",
    "df['result_date'] = pd.to_datetime(df['result_date'], format=\"%m/%d/%Y\")"
   ]
  },
  {
   "cell_type": "code",
   "execution_count": null,
   "metadata": {
    "collapsed": false,
    "scrolled": true
   },
   "outputs": [],
   "source": [
    "# distribution of test results by lab\n",
    "# Lab #3 is Hadassah hospital - from https://all-world.news/53180/ where it says they conducted 40K tests by 24 April, which is 20% of total for Israel (lab #3 is the biggest by volume, almost twice the next one, and by the data released on 24 April, conducted about 36K tests, which is close enough).\n",
    "m = df\n",
    "p=m.groupby(['lab_id', 'result']).count().unstack()\n",
    "p['test_date'].plot(kind='barh', stacked=True)\n",
    "#.plot(kind='bar')\n",
    "plt.show()"
   ]
  },
  {
   "cell_type": "code",
   "execution_count": null,
   "metadata": {
    "collapsed": false
   },
   "outputs": [],
   "source": [
    "# number of tests within each lab by date\n",
    "m = df\n",
    "# filter by labs with enough total tests\n",
    "lab_counts=m['lab_id'].value_counts()\n",
    "biglabs=lab_counts[lab_counts > 15000].index.tolist()\n",
    "m = m[m['lab_id'].isin(biglabs)]\n",
    "p=m.groupby(['test_date', 'lab_id']).count().unstack()\n",
    "p['result_date'].plot(linewidth=2)\n",
    "plt.show()"
   ]
  },
  {
   "cell_type": "code",
   "execution_count": null,
   "metadata": {
    "collapsed": false
   },
   "outputs": [],
   "source": [
    "# mean days to test result\n",
    "m = df\n",
    "m['result_date'] = pd.to_datetime(m['result_date'])\n",
    "m['test_date'] = pd.to_datetime(m['test_date'])\n",
    "m['test duration'] = (m['result_date'].values - m['test_date'].values).astype('timedelta64[D]').astype('float')\n",
    "lab_counts=m['lab_id'].value_counts()\n",
    "biglabs=lab_counts[lab_counts > 10000].index.tolist()\n",
    "m = m[m['lab_id'].isin(biglabs)]\n",
    "\n",
    "p=m.groupby(['test_date', 'lab_id']).mean().unstack()\n",
    "#p=m.groupby(['test_date']).mean().unstack()\n",
    "\n",
    "ax = p['test duration'].plot(linewidth=2)\n",
    "ax.set_ylabel('mean days to test result')\n",
    "ax.set_xlabel('test date')\n",
    "plt.show()"
   ]
  },
  {
   "cell_type": "code",
   "execution_count": null,
   "metadata": {
    "collapsed": false
   },
   "outputs": [],
   "source": [
    "q=m.groupby(['test_date', 'lab_id']).mean()\n",
    "q['lab_id'] = q.index.get_level_values('lab_id')\n",
    "q['week'] = q.index.get_level_values('test_date').week\n",
    "\n",
    "#ax = sns.boxenplot(x=\"lab_id\", y=\"test duration\", hue=\"week\",data=q)\n",
    "\n",
    "plt.figure\n",
    "g, ax = plt.subplots(1, 1, figsize=(20, 10))\n",
    "sns.violinplot(x=\"lab_id\", y=\"test duration\", inner=\"points\", hue=\"week\", data=q, ax=ax)\n",
    "sns.despine(trim=True);\n",
    "plt.show()"
   ]
  },
  {
   "cell_type": "code",
   "execution_count": null,
   "metadata": {
    "collapsed": false,
    "scrolled": true
   },
   "outputs": [],
   "source": [
    "# without the lab id\n",
    "q=m.groupby(['test_date', 'lab_id']).mean()\n",
    "q['lab_id'] = q.index.get_level_values('lab_id')\n",
    "q['week'] = q.index.get_level_values('test_date').week\n",
    "\n",
    "plt.figure\n",
    "g, ax = plt.subplots(1, 1, figsize=(20, 10))\n",
    "sns.violinplot(x=\"week\", y=\"test duration\", inner=\"points\", data=q, ax=ax)\n",
    "sns.despine(trim=True);\n",
    "plt.show()"
   ]
  }
 ],
 "metadata": {
  "anaconda-cloud": {},
  "kernelspec": {
   "display_name": "Python [default]",
   "language": "python",
   "name": "python3"
  },
  "language_info": {
   "codemirror_mode": {
    "name": "ipython",
    "version": 3
   },
   "file_extension": ".py",
   "mimetype": "text/x-python",
   "name": "python",
   "nbconvert_exporter": "python",
   "pygments_lexer": "ipython3",
   "version": "3.5.2"
  }
 },
 "nbformat": 4,
 "nbformat_minor": 1
}
