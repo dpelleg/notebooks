{
 "cells": [
  {
   "cell_type": "code",
   "execution_count": null,
   "metadata": {
    "collapsed": true
   },
   "outputs": [],
   "source": [
    "import numpy as np\n",
    "import pandas as pd\n",
    "import matplotlib.pyplot as plt"
   ]
  },
  {
   "cell_type": "code",
   "execution_count": null,
   "metadata": {
    "collapsed": true
   },
   "outputs": [],
   "source": [
    "df=pd.read_excel('corona_lab_tests_ver002.xlsx')        # from https://data.gov.il/dataset/covid-19\n",
    "df['result'] = df['corona_result'].map({'חיובי' : 'pos',\n",
    "                                        'שלילי' : 'neg',\n",
    "                                        'בעבודה' : 'wip',\n",
    "                                        'לא ודאי' : 'uncertain'\n",
    "                                           })"
   ]
  },
  {
   "cell_type": "code",
   "execution_count": null,
   "metadata": {
    "collapsed": false,
    "scrolled": true
   },
   "outputs": [],
   "source": [
    "# distribution of test results by lab\n",
    "m = df\n",
    "p=m.groupby(['lab_id', 'result']).count().unstack()\n",
    "p['test_date'].plot(kind='barh', stacked=True)\n",
    "#.plot(kind='bar')\n",
    "plt.show()"
   ]
  },
  {
   "cell_type": "code",
   "execution_count": null,
   "metadata": {
    "collapsed": false
   },
   "outputs": [],
   "source": [
    "# number of tests within each lab by date\n",
    "m = df\n",
    "# filter by labs with enough total tests\n",
    "lab_counts=m['lab_id'].value_counts()\n",
    "biglabs=lab_counts[lab_counts > 7000].index.tolist()\n",
    "m = m[m['lab_id'].isin(biglabs)]\n",
    "p=m.groupby(['test_date', 'lab_id']).count().unstack()\n",
    "p['result_date'].plot(linewidth=2)\n",
    "plt.show()"
   ]
  },
  {
   "cell_type": "code",
   "execution_count": null,
   "metadata": {
    "collapsed": false
   },
   "outputs": [],
   "source": [
    "# mean days to test result\n",
    "m = df\n",
    "m['result_date'] = pd.to_datetime(m['result_date'])\n",
    "m['test_date'] = pd.to_datetime(m['test_date'])\n",
    "m['test duration'] = (m['result_date'].values - m['test_date'].values).astype('timedelta64[D]').astype('float')\n",
    "lab_counts=m['lab_id'].value_counts()\n",
    "biglabs=lab_counts[lab_counts > 10000].index.tolist()\n",
    "m = m[m['lab_id'].isin(biglabs)]\n",
    "\n",
    "p=m.groupby(['test_date', 'lab_id']).mean().unstack()\n",
    "#p=m.groupby(['test_date']).mean().unstack()\n",
    "\n",
    "ax = p['test duration'].plot(linewidth=2)\n",
    "ax.set_ylabel('mean days to test result')\n",
    "ax.set_xlabel('test date')\n",
    "plt.show()"
   ]
  }
 ],
 "metadata": {
  "anaconda-cloud": {},
  "kernelspec": {
   "display_name": "Python [default]",
   "language": "python",
   "name": "python3"
  },
  "language_info": {
   "codemirror_mode": {
    "name": "ipython",
    "version": 3
   },
   "file_extension": ".py",
   "mimetype": "text/x-python",
   "name": "python",
   "nbconvert_exporter": "python",
   "pygments_lexer": "ipython3",
   "version": "3.5.2"
  }
 },
 "nbformat": 4,
 "nbformat_minor": 1
}
