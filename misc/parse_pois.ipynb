{
 "cells": [
  {
   "cell_type": "code",
   "execution_count": null,
   "id": "e8a46e0d",
   "metadata": {},
   "outputs": [],
   "source": [
    "import pandas as pd\n",
    "import json\n",
    "import glob\n",
    "import numpy as np\n"
   ]
  },
  {
   "cell_type": "code",
   "execution_count": null,
   "id": "25aa7b99",
   "metadata": {},
   "outputs": [],
   "source": [
    "def make_clickable(url, name):\n",
    "    return '<a href=\"{}\" rel=\"noopener noreferrer\" target=\"_blank\">{}</a>'.format(url,name)\n",
    "\n",
    "dat = []\n",
    "\n",
    "files = glob.glob(\"data/pois/*.json\")\n",
    "for infile in files:\n",
    "    with open(infile) as json_file:\n",
    "        d=json.load(json_file)\n",
    "\n",
    "        for p in d['results']:\n",
    "            if 'synagogue' in p['types']:\n",
    "                datum = {}\n",
    "                for f in ['name', 'place_id', 'vicinity']:\n",
    "                    datum[f] = p.get(f)\n",
    "                for f in ['lat', 'lng']:\n",
    "                    datum[f] = p['geometry']['location'][f]\n",
    "                datum['link'] = make_clickable('https://www.google.com/maps/place/?q=place_id:' + datum['place_id'], datum['place_id'])\n",
    "                dat.append(datum)"
   ]
  },
  {
   "cell_type": "code",
   "execution_count": null,
   "id": "c80114b0",
   "metadata": {},
   "outputs": [],
   "source": [
    "df = pd.DataFrame(dat).drop_duplicates(ignore_index = True)\n",
    "df.to_csv('data/synagogues.csv')"
   ]
  },
  {
   "cell_type": "code",
   "execution_count": null,
   "id": "92bbf9e5",
   "metadata": {},
   "outputs": [],
   "source": [
    "from shapely.geometry import Point, Polygon\n",
    "\n",
    "# Create Point objects\n",
    "p1 = Point(24.952242, 60.1696017)\n",
    "p2 = Point(24.976567, 60.1612500)\n",
    "\n",
    "# Create a Polygon\n",
    "coords = [(24.950899, 60.169158), (24.953492, 60.169158), (24.953510, 60.170104), (24.950958, 60.169990)]\n",
    "poly = Polygon(coords)\n",
    "\n",
    "# Let's check what we have\n",
    "print(p1)\n",
    "\n",
    "print(p2)\n",
    "\n",
    "print(poly)\n",
    "\n",
    "\n",
    "# Check if p1 is within the polygon using the within function\n",
    "print(p1.within(poly))\n",
    "\n",
    "# Check if p2 is within the polygon\n",
    "print(p2.within(poly))\n",
    "\n"
   ]
  },
  {
   "cell_type": "code",
   "execution_count": null,
   "id": "477f9e43",
   "metadata": {},
   "outputs": [],
   "source": [
    "def read_borders(infile):\n",
    "    with open(infile) as json_file:\n",
    "        d=json.load(json_file)\n",
    "\n",
    "    coords = d['features'][0]['geometry']['coordinates'][0][0]\n",
    "    # swap coordinates so it's (lat, lng)\n",
    "    for i in range(len(coords)):\n",
    "        coords[i] = (coords[i][1], coords[i][0])\n",
    "    return Polygon(coords)\n"
   ]
  },
  {
   "cell_type": "code",
   "execution_count": null,
   "id": "c34fe4c8",
   "metadata": {},
   "outputs": [],
   "source": [
    "borders = read_borders('data/gadm41_ISR_0.json')\n",
    "(minx, miny, maxx, maxy) = borders.bounds\n",
    "\n",
    "pt = Point(29.751355, 34.373654) # Al temd, Sinai\n",
    "print(pt.within(borders))\n",
    "pt = Point(29.968069, 34.778875 ) # somewhere in Eilot\n",
    "print(pt.within(borders))\n",
    "pt = Point(30.184895718556003, 34.66956055958991) # somewhere in Egypt\n",
    "print(pt.within(borders))\n",
    "pt = Point(30.79287035913899, 34.47324188156933) # ezuz\n",
    "print(pt.within(borders))"
   ]
  },
  {
   "cell_type": "code",
   "execution_count": null,
   "id": "a41fe602",
   "metadata": {},
   "outputs": [],
   "source": [
    "hits0only = []\n",
    "hits1only = []\n",
    "borders0 = read_borders('data/gadm41_ISR_0.json')\n",
    "borders1 = read_borders('data/gadm41_ISR_1.json')\n",
    "\n",
    "for _ in range(50000):\n",
    "    x = np.random.uniform(minx, maxx)\n",
    "    y = np.random.uniform(miny, maxy)\n",
    "    pt = Point(x,y)\n",
    "    w0 = pt.within(borders0)\n",
    "    w1 = pt.within(borders1)\n",
    "    if w0 and not w1:\n",
    "        hits0only.append([x, y])\n",
    "    if w1 and not w0:\n",
    "        hits1only.append([x, y])"
   ]
  },
  {
   "cell_type": "code",
   "execution_count": null,
   "id": "d1ea2c04",
   "metadata": {},
   "outputs": [],
   "source": [
    "def pois_to_list(d):\n",
    "    dat =[]\n",
    "    for p in d['results']:\n",
    "        if 'synagogue' in p['types']:\n",
    "            datum = {}\n",
    "            for f in ['name', 'place_id', 'vicinity']:\n",
    "                datum[f] = p[f]\n",
    "            for f in ['lat', 'lng']:\n",
    "                datum[f] = p['geometry']['location'][f]\n",
    "            dat.append(datum)\n",
    "    return dat"
   ]
  },
  {
   "cell_type": "code",
   "execution_count": null,
   "id": "752e5731",
   "metadata": {},
   "outputs": [],
   "source": [
    "dat = []\n",
    "infile='data/pois/Haifa.json'\n",
    "with open(infile) as json_file:\n",
    "      d=json.load(json_file)\n",
    "      dat.extend(pois_to_list(d))"
   ]
  },
  {
   "cell_type": "code",
   "execution_count": null,
   "id": "047b605d",
   "metadata": {},
   "outputs": [],
   "source": [
    "d2 = pd.DataFrame(dat)\n",
    "d2"
   ]
  },
  {
   "cell_type": "code",
   "execution_count": null,
   "id": "e37a5a7f",
   "metadata": {},
   "outputs": [],
   "source": [
    "set([1, 2, 3, 4]) - set([2])"
   ]
  },
  {
   "cell_type": "code",
   "execution_count": null,
   "id": "3b4bb5c7",
   "metadata": {},
   "outputs": [],
   "source": [
    "pt = (29.751355, 34.373654) # Al temd\n",
    "pt = (29.968069, 34.778875 ) # somewhere in Eilot\n",
    "pt = (30.184895718556003, 34.66956055958991) # somewhere in Egypt\n",
    "pt = (30.79287035913899, 34.47324188156933) # ezuz\n",
    "border_nw = (31.332297683286306, 34.236524779286576)   # northest point of the gaza/egypt border\n",
    "border_se = ( 29.5224088182224, 34.92718133237316 )  # Taba crossing\n",
    "\n",
    "xA = pt[1]\n",
    "yA = pt[0]\n",
    "x1 = border_nw[1]\n",
    "y1 = border_nw[0]\n",
    "x2 = border_se[1]\n",
    "y2 = border_se[0]\n",
    "\n",
    "\n",
    "v1 = (x2-x1, y2-y1)   # Vector 1\n",
    "v2 = (x2-xA, y2-yA)   # Vector 2\n",
    "xp = v1[0]*v2[1] - v1[1]*v2[0]  # Cross product\n",
    "if xp > 0:\n",
    "    print('below the line')\n",
    "elif xp < 0:\n",
    "    print('above the line')\n",
    "else:\n",
    "    print('on the same line!')\n"
   ]
  },
  {
   "cell_type": "code",
   "execution_count": null,
   "id": "0e8fd4e4",
   "metadata": {},
   "outputs": [],
   "source": [
    "import plotly.express as px\n",
    "fig = px.scatter_mapbox(df, lat='lat', lon='lng', center=dict(lat=32, lon=34.8), zoom=7, mapbox_style=\"stamen-terrain\")\n",
    "fig.update_traces(marker={'size': 9})\n",
    "fig.show()"
   ]
  }
 ],
 "metadata": {
  "kernelspec": {
   "display_name": "Python 3 (ipykernel)",
   "language": "python",
   "name": "python3"
  },
  "language_info": {
   "codemirror_mode": {
    "name": "ipython",
    "version": 3
   },
   "file_extension": ".py",
   "mimetype": "text/x-python",
   "name": "python",
   "nbconvert_exporter": "python",
   "pygments_lexer": "ipython3",
   "version": "3.9.15"
  }
 },
 "nbformat": 4,
 "nbformat_minor": 5
}
