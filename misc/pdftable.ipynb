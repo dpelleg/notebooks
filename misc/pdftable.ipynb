{
 "cells": [
  {
   "cell_type": "code",
   "execution_count": null,
   "id": "f8ae7359",
   "metadata": {},
   "outputs": [],
   "source": [
    "import pandas as pd"
   ]
  },
  {
   "cell_type": "code",
   "execution_count": null,
   "id": "43cd2885",
   "metadata": {},
   "outputs": [],
   "source": [
    "# to generate the list of xy values, modify pdftable.py to use visitor_body_dump_struct as the callback\n",
    "# and save the output to a .csv file\n",
    "xy = pd.read_csv('pdftable-xyvals.csv', header=None, names=['x', 'y', 'xr', 'xl'])\n",
    "nzx = xy.query('x>0')\n",
    "len(nzx.index)"
   ]
  },
  {
   "cell_type": "code",
   "execution_count": null,
   "id": "b82b5525",
   "metadata": {},
   "outputs": [],
   "source": [
    "# round to nearest 2\n",
    "nzx['ix'] = nzx['xr'].map(lambda x: 2*round(x/2.))\n",
    "\n",
    "nzx['ix'].hist(bins=200)"
   ]
  },
  {
   "cell_type": "code",
   "execution_count": null,
   "id": "60ee378e",
   "metadata": {},
   "outputs": [],
   "source": [
    "# identify borders of columns by counting the X locations of text boxes, and finding the most frequently occuring values\n",
    "\n",
    "# round to nearest 2\n",
    "nzx['ix'] = nzx['xr'].map(lambda x: 2*round(x/2.))\n",
    "\n",
    "boundaries = nzx['ix'].value_counts()[0:15].index.to_list()\n",
    "boundaries.sort(reverse=True)\n",
    "print(boundaries)\n",
    "\n",
    "xmax = nzx[['ix', 'xr']].groupby('ix').max()\n",
    "\n",
    "for i in range(len(boundaries)):\n",
    "    boundaries[i] = xmax.loc[boundaries[i]][0]"
   ]
  },
  {
   "cell_type": "code",
   "execution_count": null,
   "id": "5a7a7999",
   "metadata": {},
   "outputs": [],
   "source": [
    "# for each set, choose the leftmost as the representative \n",
    "boundaries"
   ]
  },
  {
   "cell_type": "code",
   "execution_count": null,
   "id": "9a368603",
   "metadata": {},
   "outputs": [],
   "source": [
    "import matplotlib.pyplot as plt"
   ]
  },
  {
   "cell_type": "code",
   "execution_count": null,
   "id": "59bffd6b",
   "metadata": {},
   "outputs": [],
   "source": [
    "# show the table as the movement of the text boxen across the page\n",
    "fig, axes = plt.subplots(nrows=1, ncols=1, figsize=(12, 12 ))\n",
    "plt.plot(xy['x'].to_list(), xy['y'].to_list(),marker='.')\n",
    "plt.show()"
   ]
  },
  {
   "cell_type": "code",
   "execution_count": null,
   "id": "6e4ec827",
   "metadata": {},
   "outputs": [],
   "source": [
    "# this is an attempt to represent the text box by adding the text width to the right. It didn't work well\n",
    "plt.plot(xy['xr'].to_list(), xy['y'].to_list(),marker='.')\n",
    "plt.show()"
   ]
  },
  {
   "cell_type": "code",
   "execution_count": null,
   "id": "0e68e736",
   "metadata": {
    "scrolled": true
   },
   "outputs": [],
   "source": [
    "# this is an attempt to represent the text box by subtracting the text width to the left. It didn't work well\n",
    "plt.plot(xy['xl'].to_list(), xy['y'].to_list(),marker='.')\n",
    "plt.show()"
   ]
  },
  {
   "cell_type": "code",
   "execution_count": null,
   "id": "8ae7d6a7",
   "metadata": {},
   "outputs": [],
   "source": [
    "# testbed for the table post-processing hacks\n",
    "# to get table.pickle, edit pdftable.py to set debug=True and run it\n",
    "import copy\n",
    "import pickle\n",
    "import TableFixer\n",
    "\n",
    "with open('table.pickle', 'rb') as handle:\n",
    "    table_ = pickle.load(handle)\n",
    "\n",
    "table_ = table_[3:]\n",
    "#table_ = table_[95:96]\n",
    "table = copy.deepcopy(table_)\n",
    "#df = pd.DataFrame(data=table)\n",
    "\n",
    "\n",
    "#df = df.rename(columns=dict(enumerate(colnames)))\n",
    "\n",
    "rj = TableFixer.fix_table(table)"
   ]
  },
  {
   "cell_type": "code",
   "execution_count": null,
   "id": "3cb67e7d",
   "metadata": {
    "scrolled": true
   },
   "outputs": [],
   "source": [
    "q = '\"'\n",
    "with open('colnames-haifa.txt', 'r') as rf:\n",
    "    colnames = list(map(lambda s: s.strip(), rf.readlines()))\n",
    "df = pd.DataFrame(data=table)\n",
    "df.rename(columns=dict(enumerate(colnames)), inplace=True)\n",
    "df.head(50)\n",
    "#df.query('סיבה == @q')"
   ]
  },
  {
   "cell_type": "code",
   "execution_count": null,
   "id": "a0c4744b",
   "metadata": {},
   "outputs": [],
   "source": [
    "# this is consuming the output of pdftable.py directly\n",
    "with open('df.pickle', 'rb') as handle:\n",
    "    df = pickle.load(handle)\n",
    "df.head(12)"
   ]
  },
  {
   "cell_type": "code",
   "execution_count": null,
   "id": "ee07d67d",
   "metadata": {},
   "outputs": [],
   "source": [
    "df = pd.read_csv('table.csv')"
   ]
  },
  {
   "cell_type": "code",
   "execution_count": null,
   "id": "9e50b7ab",
   "metadata": {},
   "outputs": [],
   "source": [
    "# quality check\n",
    "for c in df.columns:\n",
    "    print(c)\n",
    "    print(df[c].value_counts())"
   ]
  }
 ],
 "metadata": {
  "kernelspec": {
   "display_name": "Python 3 (ipykernel)",
   "language": "python",
   "name": "python3"
  },
  "language_info": {
   "codemirror_mode": {
    "name": "ipython",
    "version": 3
   },
   "file_extension": ".py",
   "mimetype": "text/x-python",
   "name": "python",
   "nbconvert_exporter": "python",
   "pygments_lexer": "ipython3",
   "version": "3.8.13"
  }
 },
 "nbformat": 4,
 "nbformat_minor": 5
}
