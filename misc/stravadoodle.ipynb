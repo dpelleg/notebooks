{
 "cells": [
  {
   "cell_type": "code",
   "execution_count": 1,
   "metadata": {},
   "outputs": [],
   "source": [
    "import cv2 as cv\n",
    "import numpy as np\n",
    "from matplotlib import pyplot as plt"
   ]
  },
  {
   "cell_type": "code",
   "execution_count": 23,
   "metadata": {},
   "outputs": [],
   "source": [
    "img = cv.imread('noisy rect.png',0)\n",
    "img_orig = img.copy()\n",
    "template_orig = cv.imread('lech.png',0)\n",
    "template_orig = cv.imread('lech-simple.png',0)\n",
    "#template_orig = cv.imread('line.png',0)\n",
    "#template_orig = cv.imread('kh.png',0)"
   ]
  },
  {
   "cell_type": "code",
   "execution_count": null,
   "metadata": {},
   "outputs": [],
   "source": [
    "from PIL import Image, ImageDraw\n",
    "import gpxpy as mod_gpxpy\n",
    "from PIL import Image as mod_pil_image\n",
    "from PIL import ImageDraw as mod_pil_draw\n",
    "import glob as mod_glob\n",
    "import math as mod_math\n",
    "import numpy\n",
    "osm_tile_res = 256\n",
    "\n",
    "def format_time(time_s):\n",
    "    if not time_s:\n",
    "        return 'n/a'\n",
    "    minutes = mod_math.floor(time_s / 60.)\n",
    "    hours = mod_math.floor(minutes / 60.)\n",
    "    return '%s:%s:%s' % (str(int(hours)).zfill(2), str(int(minutes % 60)).zfill(2), str(int(time_s % 60)).zfill(2)) \n",
    "\n",
    "def get_map_suffix ():\n",
    "#    return \"osm-cycle\"\n",
    "#    return \"seznam-turist\"\n",
    "    return \"roads\"\n",
    "\n",
    "\n",
    "def osm_lat_lon_to_x_y_tile (lat_deg, lon_deg, zoom):\n",
    "    \"\"\" Gets tile containing given coordinate at given zoom level \"\"\"\n",
    "    # taken from http://wiki.openstreetmap.org/wiki/Slippy_map_tilenames, works for OSM maps and mapy.cz\n",
    "    lat_rad = mod_math.radians(lat_deg)\n",
    "    n = 2.0 ** zoom\n",
    "    xtile = int((lon_deg + 180.0) / 360.0 * n)\n",
    "    ytile = int((1.0 - mod_math.log(mod_math.tan(lat_rad) + (1 / mod_math.cos(lat_rad))) / mod_math.pi) / 2.0 * n)\n",
    "    return (xtile, ytile)\n",
    "\n",
    "\n",
    "def osm_get_auto_zoom_level ( min_lat, max_lat, min_lon, max_lon, max_n_tiles):\n",
    "    \"\"\" Gets zoom level which contains at maximum `max_n_tiles` \"\"\"\n",
    "    for z in range (0,17):\n",
    "        x1, y1 = osm_lat_lon_to_x_y_tile (min_lat, min_lon, z)\n",
    "        x2, y2 = osm_lat_lon_to_x_y_tile (max_lat, max_lon, z)\n",
    "        max_tiles = max (abs(x2 - x1), abs(y2 - y1))\n",
    "        if (max_tiles > max_n_tiles):\n",
    "            print (\"Max tiles: %d\" % max_tiles)\n",
    "            return z \n",
    "    return 17\n",
    "\n",
    "\n",
    "class MapCreator:\n",
    "    \"\"\" Class for map drawing \"\"\"\n",
    "\n",
    "    def __init__(self, min_lat, max_lat, min_lon, max_lon, z):\n",
    "        \"\"\" constructor \"\"\"\n",
    "        x1, y1 = osm_lat_lon_to_x_y_tile (min_lat, min_lon, z)\n",
    "        x2, y2 = osm_lat_lon_to_x_y_tile (max_lat, max_lon, z)\n",
    "        self.x1 = min (x1, x2)\n",
    "        self.x2 = max (x1, x2)\n",
    "        self.y1 = min (y1, y2)\n",
    "        self.y2 = max (y1, y2)\n",
    "        self.w = (self.x2 - self.x1 + 1) * osm_tile_res\n",
    "        self.h = (self.y2 - self.y1 + 1) * osm_tile_res\n",
    "        self.z = z\n",
    "        print (self.w, self.h)\n",
    "        self.dst_img = mod_pil_image.new (\"RGB\", (self.w, self.h), 'white')\n",
    "\n",
    "    def lat_lon_to_image_xy (self, lat_deg, lon_deg):\n",
    "        \"\"\" Internal. Converts lat, lon into dst_img coordinates in pixels \"\"\"\n",
    "        lat_rad = mod_math.radians(lat_deg)\n",
    "        n = 2.0 ** self.z\n",
    "        xtile_frac = (lon_deg + 180.0) / 360.0 * n\n",
    "        ytile_frac = (1.0 - mod_math.log(mod_math.tan(lat_rad) + (1 / mod_math.cos(lat_rad))) / mod_math.pi) / 2.0 * n\n",
    "        img_x = int( (xtile_frac-self.x1)*osm_tile_res )\n",
    "        img_y = int( (ytile_frac-self.y1)*osm_tile_res )\n",
    "        return (img_x, img_y)\n",
    "\n",
    "    def draw_track (self, gpx):\n",
    "        \"\"\" Draw GPX track onto map \"\"\"\n",
    "        draw = mod_pil_draw.Draw (self.dst_img)\n",
    "        trk = 0         # Just changes color of segment a little\n",
    "        for track in gpx.tracks:\n",
    "            for segment in track.segments:\n",
    "                idx = 0\n",
    "                x_from = 0\n",
    "                y_from = 0\n",
    "                for point in segment.points:\n",
    "                    if (idx == 0):\n",
    "                        x_from, y_from = self.lat_lon_to_image_xy (point.latitude, point.longitude)\n",
    "                    else:\n",
    "                        x_to, y_to = self.lat_lon_to_image_xy (point.latitude, point.longitude)\n",
    "#                        draw.line ((x_from,y_from,x_to,y_to), (255,0,trk), 2)\n",
    "                        draw.line ((x_from,y_from,x_to,y_to), 'black', 4)\n",
    "                        x_from = x_to\n",
    "                        y_from = y_to\n",
    "                    idx += 1\n",
    "                trk += 32\n",
    "                if (trk > 160):\n",
    "                    trk = 0\n",
    "                    \n",
    "    def save_image(self, filename):\n",
    "        print(\"Saving \" + filename) \n",
    "        self.dst_img.save (filename)\n"
   ]
  },
  {
   "cell_type": "code",
   "execution_count": 9,
   "metadata": {},
   "outputs": [],
   "source": [
    "#gpx_files = mod_glob.glob (r\"*.gpx\")\n",
    "gpx_files = ['begin.gpx']"
   ]
  },
  {
   "cell_type": "code",
   "execution_count": 10,
   "metadata": {},
   "outputs": [
    {
     "name": "stdout",
     "output_type": "stream",
     "text": [
      "--------------------------------------------------------------------------------\n",
      "  GPX file     : begin.gpx\n",
      "  Started       : None\n",
      "  Ended         : None\n",
      "  Length        : 156.80km\n",
      "  Moving time   : n/a\n",
      "  Stopped time  : n/a\n",
      "  Total uphill  :    0m\n",
      "  Total downhill:    0m\n",
      "  Bounds        : [32.7568,32.7980,34.9682,35.0163]\n",
      "Max tiles: 9\n",
      "  Zoom Level    : 16\n",
      "2560 2560\n",
      "Saving begin-roads.png\n"
     ]
    }
   ],
   "source": [
    "for gpx_file in gpx_files:\n",
    "        try:\n",
    "            gpx = mod_gpxpy.parse(open(gpx_file))\n",
    "\n",
    "            # Print some track stats\n",
    "            print ('--------------------------------------------------------------------------------')\n",
    "            print ('  GPX file     : %s' % gpx_file)\n",
    "            start_time, end_time = gpx.get_time_bounds()\n",
    "            print('  Started       : %s' % start_time)\n",
    "            print('  Ended         : %s' % end_time)\n",
    "            print('  Length        : %2.2fkm' % (gpx.length_3d() / 1000.))\n",
    "            moving_time, stopped_time, moving_distance, stopped_distance, max_speed = gpx.get_moving_data()\n",
    "            print('  Moving time   : %s' % format_time(moving_time))\n",
    "            print('  Stopped time  : %s' % format_time(stopped_time))\n",
    "#            print('  Max speed     : %2.2fm/s = %2.2fkm/h' % (max_speed, max_speed * 60. ** 2 / 1000.))    \n",
    "            uphill, downhill = gpx.get_uphill_downhill()\n",
    "            print('  Total uphill  : %4.0fm' % uphill)\n",
    "            print('  Total downhill: %4.0fm' % downhill)\n",
    "            min_lat, max_lat, min_lon, max_lon = gpx.get_bounds()\n",
    "            print(\"  Bounds        : [%1.4f,%1.4f,%1.4f,%1.4f]\" % (min_lat, max_lat, min_lon, max_lon))\n",
    "            z = osm_get_auto_zoom_level (min_lat, max_lat, min_lon, max_lon, 6)\n",
    "            print(\"  Zoom Level    : %d\" % z)\n",
    "\n",
    "\n",
    "            # Create the map\n",
    "            map_creator = MapCreator (min_lat, max_lat, min_lon, max_lon, z)\n",
    "            #map_creator.cache_area()\n",
    "            #map_creator.create_area_background()\n",
    "            map_creator.draw_track(gpx)\n",
    "            map_creator.save_image (gpx_file[:-4] + '-' + get_map_suffix() + '.png')\n",
    "            \n",
    "        except Exception as e:\n",
    "            mod_logging.exception(e)\n",
    "            print('Error processing %s' % gpx_file)\n",
    "            mod_sys.exit(1) "
   ]
  },
  {
   "cell_type": "code",
   "execution_count": 11,
   "metadata": {},
   "outputs": [
    {
     "data": {
      "text/plain": [
       "(2560, 2560)"
      ]
     },
     "execution_count": 11,
     "metadata": {},
     "output_type": "execute_result"
    }
   ],
   "source": [
    "pil_image = map_creator.dst_img#.convert('RGB') \n",
    "open_cv_image = numpy.array(pil_image) \n",
    "# Convert RGB to BGR \n",
    "map_orig = cv.cvtColor(numpy.array(pil_image), cv.COLOR_RGB2GRAY)\n",
    "map_orig.shape\n"
   ]
  },
  {
   "cell_type": "code",
   "execution_count": 19,
   "metadata": {
    "scrolled": false
   },
   "outputs": [
    {
     "name": "stdout",
     "output_type": "stream",
     "text": [
      "4 91 98\n",
      "4 137 147\n",
      "4 183 196\n"
     ]
    }
   ],
   "source": [
    "w, h = template_orig.shape[::-1]\n",
    "myres = []\n",
    "#for scale_percent in [0.1, 0.2, 0.5, 1.0, 5.0, 10.0]:\n",
    "#for scale_percent in [50, 100, 200, 400, 800]:\n",
    "for scale_percent in [40, 60, 80]:\n",
    "    width = int(w * scale_percent / 100)\n",
    "    height = int(h * scale_percent / 100)\n",
    "    if(width > 0 and height > 0):\n",
    "        dim = (width, height)\n",
    "        template = cv.resize(template_orig, dim, interpolation = cv.INTER_AREA)\n",
    "        template = cv.Canny(template, 50, 200)\n",
    "        t = template\n",
    "        t[template == 0] = 0\n",
    "        t[template > 0] = 1\n",
    "        mask = t\n",
    "        # All the 6 methods for comparison in a list\n",
    "        #methods = ['cv.TM_CCOEFF', 'cv.TM_CCOEFF_NORMED', 'cv.TM_CCORR', 'cv.TM_CCORR_NORMED', 'cv.TM_SQDIFF', 'cv.TM_SQDIFF_NORMED']\n",
    "#        methods = ['cv.TM_SQDIFF']\n",
    "        methods = ['cv.TM_CCOEFF']\n",
    "        for meth in methods:\n",
    "            print (method, width, height)\n",
    "            # img = img_orig.copy()\n",
    "            img = map_orig.copy()\n",
    "            img = cv.Canny(img, 50, 200)\n",
    "            method = eval(meth)\n",
    "            # Apply template Matching\n",
    "            res = cv.matchTemplate(img,template,method) # , mask=mask)\n",
    "            min_val, max_val, min_loc, max_loc = cv.minMaxLoc(res)\n",
    "            # If the method is TM_SQDIFF or TM_SQDIFF_NORMED, take minimum\n",
    "            if method in [cv.TM_SQDIFF, cv.TM_SQDIFF_NORMED]:\n",
    "                top_left = min_loc\n",
    "            else:\n",
    "                top_left = max_loc\n",
    "            if(max(top_left) > 0):\n",
    "                res_tuple = (top_left[0], width, top_left[1], height, res)\n",
    "                myres.append(res_tuple)"
   ]
  },
  {
   "cell_type": "code",
   "execution_count": null,
   "metadata": {},
   "outputs": [],
   "source": [
    "if(len(myres) > 0):\n",
    "    f, axs = plt.subplots(1,1,figsize=(200,200))\n",
    "    axs.set_xlim(0, img.shape[0])\n",
    "    axs.set_ylim(img.shape[1], 0)\n",
    "    axs.imshow(img, cmap = 'gray')\n",
    "    for r in myres:\n",
    "        tlx, width, tly, height, res = r\n",
    "        top_left = (tlx, tly)\n",
    "        bottom_right = (tlx + width, tly + height)\n",
    "        #cv.rectangle(img, top_left, bottom_right, 128, cv.LINE_4)\n",
    "        extent = [tlx, tlx+width, tly+height, tly]\n",
    "        axs.imshow(template, cmap='seismic', extent=extent, alpha=0.8)\n",
    "    plt.show()"
   ]
  },
  {
   "cell_type": "code",
   "execution_count": null,
   "metadata": {},
   "outputs": [],
   "source": [
    "def cmap_discretize(cmap, N):\n",
    "    \"\"\"Return a discrete colormap from the continuous colormap cmap.\n",
    "    \n",
    "        cmap: colormap instance, eg. cm.jet. \n",
    "        N: number of colors.\n",
    "    \"\"\"\n",
    "    if type(cmap) == str:\n",
    "        cmap = get_cmap(cmap)\n",
    "    colors_i = np.concatenate((np.linspace(0, 1., N), (0.,0.,0.,0.)))\n",
    "    colors_rgba = cmap(colors_i)\n",
    "    indices = np.linspace(0, 1., N+1)\n",
    "    cdict = {}\n",
    "    for ki, key in enumerate(('red','green','blue')):\n",
    "        cdict[key] = [(indices[i], colors_rgba[i-1,ki], colors_rgba[i,ki]) for i in range(N+1)]\n",
    "    # Return colormap object.\n",
    "    return matplotlib.colors.LinearSegmentedColormap(cmap.name + \"_%d\"%N, cdict, 1024)"
   ]
  },
  {
   "cell_type": "code",
   "execution_count": null,
   "metadata": {},
   "outputs": [],
   "source": [
    "cmap = cmap_discretize(matplotlib.cm.jet, 2)\n",
    "image = np.random.randn(400, 600)\n",
    "\n",
    "\n",
    "# Create a sin function from x = 0 - 360, y = -100 - 100\n",
    "x = np.arange(0, 360, 0.01)\n",
    "y = 100 * np.sin(np.pi * x / 180)\n",
    "\n",
    "figure = plt.figure(figsize=(100, 100))\n",
    "subplot = figure.add_subplot(111)\n",
    "subplot.set_xlim(0, img.shape[0])\n",
    "subplot.set_ylim(0, img.shape[1])\n",
    "subplot.imshow(img, cmap='gray')\n",
    "subplot.imshow(mask, cmap='seismic', extent=[500, 600, 500, 740], alpha=0.8)\n",
    "\n",
    "#subplot.plot(x, y)\n",
    "\n",
    "figure.show()"
   ]
  },
  {
   "cell_type": "code",
   "execution_count": 18,
   "metadata": {},
   "outputs": [
    {
     "name": "stdout",
     "output_type": "stream",
     "text": [
      "[1, 1, 1, 1]\n",
      "[2, 2, 2, 2]\n"
     ]
    }
   ],
   "source": [
    "mylist = []\n",
    "tup1 = (1,11,111, [1,1,1,1])\n",
    "tup2 = (2,22,222, [2,2,2,2])\n",
    "mylist.append(tup1)\n",
    "mylist.append(tup2)\n",
    "for t in mylist:\n",
    "    a, b, c, d = t\n",
    "    print (d)"
   ]
  }
 ],
 "metadata": {
  "kernelspec": {
   "display_name": "Python 3",
   "language": "python",
   "name": "python3"
  },
  "language_info": {
   "codemirror_mode": {
    "name": "ipython",
    "version": 3
   },
   "file_extension": ".py",
   "mimetype": "text/x-python",
   "name": "python",
   "nbconvert_exporter": "python",
   "pygments_lexer": "ipython3",
   "version": "3.8.3"
  }
 },
 "nbformat": 4,
 "nbformat_minor": 4
}
