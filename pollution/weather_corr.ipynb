{
 "cells": [
  {
   "cell_type": "code",
   "execution_count": 16,
   "metadata": {
    "colab": {},
    "colab_type": "code",
    "collapsed": true,
    "id": "_cv5WLoLQVD5"
   },
   "outputs": [],
   "source": [
    "import pandas as pd\n",
    "\n",
    "%matplotlib inline \n",
    "#Load hospital data\n",
    "merged_data = pd.read_pickle(\"data/merged_data_7May2020.pkl\")"
   ]
  },
  {
   "cell_type": "code",
   "execution_count": 7,
   "metadata": {
    "colab": {
     "base_uri": "https://localhost:8080/",
     "height": 51
    },
    "colab_type": "code",
    "collapsed": false,
    "executionInfo": {
     "elapsed": 1224,
     "status": "ok",
     "timestamp": 1589739147335,
     "user": {
      "displayName": "Dan P",
      "photoUrl": "https://lh3.googleusercontent.com/a-/AOh14GgxZkksSJl6C3pFfB_0qES5NDq-LIAp14ZGehqe=s64",
      "userId": "13599913014647747669"
     },
     "user_tz": -180
    },
    "id": "Njy8rCgUyOYN",
    "outputId": "cdc01cf8-ea57-4fbd-9a65-80b242ab93ad",
    "scrolled": true
   },
   "outputs": [
    {
     "name": "stdout",
     "output_type": "stream",
     "text": [
      "['AssafHarofe' 'BneiZion' 'Barzilai' 'HilelYaffe' 'Galil' 'Volfson' 'Ziv'\n",
      " 'Poriya' 'Rambam' 'Shiba']\n"
     ]
    }
   ],
   "source": [
    "print(merged_data['hospital'].unique())"
   ]
  },
  {
   "cell_type": "code",
   "execution_count": 8,
   "metadata": {
    "collapsed": false
   },
   "outputs": [
    {
     "name": "stdout",
     "output_type": "stream",
     "text": [
      "<class 'pandas.core.frame.DataFrame'>\n",
      "Int64Index: 10327 entries, 6204 to 8244\n",
      "Data columns (total 22 columns):\n",
      "hospital                  10327 non-null object\n",
      "Date                      10327 non-null datetime64[ns]\n",
      "keep                      10327 non-null int64\n",
      "hospitalization_0-1       7641 non-null float64\n",
      "hospitalization_1-4       8876 non-null float64\n",
      "hospitalization_5-18      8234 non-null float64\n",
      "hospitalization_19-34     9696 non-null float64\n",
      "hospitalization_35-64     10287 non-null float64\n",
      "hospitalization_65-74     9818 non-null float64\n",
      "hospitalization_75-84     9783 non-null float64\n",
      "hospitalization_85plus    9147 non-null float64\n",
      "all_hospitalizations      10327 non-null float64\n",
      "release_0-1               8196 non-null float64\n",
      "release_1-4               8978 non-null float64\n",
      "release_5-18              8237 non-null float64\n",
      "release_19-34             9696 non-null float64\n",
      "release_35-64             10287 non-null float64\n",
      "release_65-74             9852 non-null float64\n",
      "release_75-84             9788 non-null float64\n",
      "release_85plus            9208 non-null float64\n",
      "all_releases              10327 non-null float64\n",
      "all_visits                10327 non-null float64\n",
      "dtypes: datetime64[ns](1), float64(19), int64(1), object(1)\n",
      "memory usage: 1.8+ MB\n"
     ]
    }
   ],
   "source": [
    "merged_data.info()"
   ]
  },
  {
   "cell_type": "code",
   "execution_count": 9,
   "metadata": {
    "colab": {},
    "colab_type": "code",
    "collapsed": true,
    "id": "qya6zTxbmS4L"
   },
   "outputs": [],
   "source": [
    "#Run a smoothing filter on the hospitalization data\n",
    "from scipy import signal\n",
    "b, a = signal.butter(14, 0.07)\n",
    "\n",
    "if (1):\n",
    "  smoothed_merged_data = merged_data\n",
    "\n",
    "  for column in smoothed_merged_data:\n",
    "    if (column != \"Date\") and (column != \"hospital\"):\n",
    "      smoothed_merged_data[column] = signal.filtfilt(b, a, smoothed_merged_data[column], padlen=7)\n",
    "      #smoothed_merged_data[column] = smoothed_merged_data[column].rolling(window=14).mean()\n",
    "\n",
    "  merged_data = smoothed_merged_data"
   ]
  },
  {
   "cell_type": "code",
   "execution_count": 10,
   "metadata": {
    "colab": {
     "base_uri": "https://localhost:8080/",
     "height": 34
    },
    "colab_type": "code",
    "collapsed": false,
    "executionInfo": {
     "elapsed": 4512,
     "status": "ok",
     "timestamp": 1589739162127,
     "user": {
      "displayName": "Dan P",
      "photoUrl": "https://lh3.googleusercontent.com/a-/AOh14GgxZkksSJl6C3pFfB_0qES5NDq-LIAp14ZGehqe=s64",
      "userId": "13599913014647747669"
     },
     "user_tz": -180
    },
    "id": "eLoMYN_7USzs",
    "outputId": "1a8401a0-557b-4bce-ecdd-bea68ca5183a"
   },
   "outputs": [
    {
     "name": "stdout",
     "output_type": "stream",
     "text": [
      "0\n"
     ]
    }
   ],
   "source": [
    "air_quality = pd.read_excel(\"data/FormattedStationData.xlsx\")\n",
    "\n",
    "air_quality[\"DateTime\"] = pd.to_datetime(air_quality[\"Date-Time\"],errors='coerce')\n",
    "air_quality[\"PollutionDate\"] = air_quality[\"DateTime\"].dt.date\n",
    "\n",
    "#Check if all dates have been processed (should be zero)\n",
    "print(len(air_quality[\"DateTime\"]) - air_quality[\"DateTime\"].count())\n",
    "\n",
    "#print(air_quality)"
   ]
  },
  {
   "cell_type": "code",
   "execution_count": 11,
   "metadata": {
    "colab": {},
    "colab_type": "code",
    "collapsed": true,
    "id": "EKJvqALPqV8X"
   },
   "outputs": [],
   "source": [
    "#Keep only columns with pollutants\n",
    "if (0):\n",
    "  filtered_air_quality = air_quality.loc[:, air_quality.columns.str.contains(r'\\b(PollutionDate|O3|NO2|NO|NOX|SO2|TOC_SCRUBBER|TOC_RTO|PM10|CO|PM2\\.5|BENZN|O\\-Xyle|TOLUEN|EthylB|M+P\\-XY|1\\-3butadiene|TOL|pm\\(10\\-2.5\\)|NOx|PM1|BLACK CARBON|H2S|CO TRAFIC|NO2 TRAFIC|NO TRAFIC|NOX TRAFIC)\\b')] \n",
    "else:\n",
    "  filtered_air_quality = air_quality"
   ]
  },
  {
   "cell_type": "code",
   "execution_count": 12,
   "metadata": {
    "colab": {},
    "colab_type": "code",
    "collapsed": true,
    "id": "dakauXR7wjmR"
   },
   "outputs": [],
   "source": [
    "#Run a smoothing filter on the air quality data\n",
    "from scipy import signal\n",
    "b, a = signal.butter(14, 0.07)\n",
    "\n",
    "if (0):\n",
    "  smoothed_filtered_air_quality = filtered_air_quality\n",
    "  smoothed_filtered_air_quality = smoothed_filtered_air_quality.fillna(-1)\n",
    "\n",
    "  for column in smoothed_filtered_air_quality:\n",
    "    if (column != \"PollutionDate\") and (column != \"Date-Time\") and (column != \"DateTime\"): \n",
    "      smoothed_filtered_air_quality[column] = signal.filtfilt(b, a, smoothed_filtered_air_quality[column], padlen=14)\n",
    "      #smoothed_filtered_air_quality[column] = smoothed_filtered_air_quality[column].rolling(window=14).mean()\n",
    "\n",
    "  filtered_air_quality = smoothed_filtered_air_quality"
   ]
  },
  {
   "cell_type": "code",
   "execution_count": 13,
   "metadata": {
    "colab": {
     "base_uri": "https://localhost:8080/",
     "height": 68
    },
    "colab_type": "code",
    "collapsed": false,
    "executionInfo": {
     "elapsed": 62120,
     "status": "ok",
     "timestamp": 1589739258074,
     "user": {
      "displayName": "Dan P",
      "photoUrl": "https://lh3.googleusercontent.com/a-/AOh14GgxZkksSJl6C3pFfB_0qES5NDq-LIAp14ZGehqe=s64",
      "userId": "13599913014647747669"
     },
     "user_tz": -180
    },
    "id": "neVSqQcmWPci",
    "outputId": "3518d01b-fa29-408d-b9dc-a114f69813cf"
   },
   "outputs": [
    {
     "name": "stdout",
     "output_type": "stream",
     "text": [
      "........................................................................................................................"
     ]
    }
   ],
   "source": [
    "import statsmodels.api as sm\n",
    "from sklearn.ensemble import RandomForestRegressor\n",
    "import numpy as np\n",
    "from scipy.stats.stats import pearsonr   \n",
    "\n",
    "#lag = 0\n",
    "hospital = 'Rambam'\n",
    "\n",
    "weather_cols = [col for col in filtered_air_quality.columns if 'Date' not in col]\n",
    "\n",
    "correlations = pd.DataFrame(columns=['Lag', 'Cor'])\n",
    "\n",
    "for lag in range(-60, 60):\n",
    "  filtered_air_quality[\"ShiftedPollutionDate\"] = pd.DatetimeIndex(filtered_air_quality[\"PollutionDate\"]) + pd.DateOffset(lag);\n",
    "  merged_all = pd.merge(merged_data, filtered_air_quality, how='left', left_on='Date', right_on='ShiftedPollutionDate')\n",
    "  merged_all = merged_all.fillna(-1)\n",
    "\n",
    "  #Split to train and test\n",
    "  train_row_mask = (merged_all[\"hospital\"] == hospital) & (merged_all['Date'] <= '2018-12-31')\n",
    "  test_row_mask  = (merged_all[\"hospital\"] == hospital) & (merged_all['Date'] > '2018-12-31')\n",
    "\n",
    "  X_train = merged_all.loc[train_row_mask, weather_cols]\n",
    "  y_train = merged_all.loc[train_row_mask, \"all_visits\"]\n",
    "  X_test  = merged_all.loc[test_row_mask, weather_cols]\n",
    "  y_test  = merged_all.loc[test_row_mask, \"all_visits\"]\n",
    "\n",
    "  #rf = RandomForestRegressor(n_estimators = 10)\n",
    "  #rf.fit(X_train, y_train);\n",
    "  #pred = rf.predict(X_test)\n",
    "\n",
    "  model = sm.OLS(y_train.astype(float), X_train.astype(float)).fit()\n",
    "  pred  = model.predict(X_test.astype(float))\n",
    "\n",
    "  #curCorr = y_test.corr(pred)\n",
    "  curCorr = pearsonr(pred, y_test)\n",
    "  curCorr = curCorr[0]\n",
    "\n",
    "  correlations = correlations.append({'Lag': lag, 'Cor': curCorr}, ignore_index=True)\n",
    "  print(\".\", end='')\n"
   ]
  },
  {
   "cell_type": "code",
   "execution_count": 17,
   "metadata": {
    "colab": {
     "base_uri": "https://localhost:8080/",
     "height": 296
    },
    "colab_type": "code",
    "collapsed": false,
    "executionInfo": {
     "elapsed": 987,
     "status": "ok",
     "timestamp": 1589739259067,
     "user": {
      "displayName": "Dan P",
      "photoUrl": "https://lh3.googleusercontent.com/a-/AOh14GgxZkksSJl6C3pFfB_0qES5NDq-LIAp14ZGehqe=s64",
      "userId": "13599913014647747669"
     },
     "user_tz": -180
    },
    "id": "9tseCKmjfTWJ",
    "outputId": "57ddb50f-f650-43ae-8eff-3af0b47252f4"
   },
   "outputs": [
    {
     "data": {
      "text/plain": [
       "<matplotlib.axes._subplots.AxesSubplot at 0x1297b2eb8>"
      ]
     },
     "execution_count": 17,
     "metadata": {},
     "output_type": "execute_result"
    },
    {
     "data": {
      "image/png": "[encoded data removed]",
      "text/plain": [
       "<matplotlib.figure.Figure at 0x111f661d0>"
      ]
     },
     "metadata": {},
     "output_type": "display_data"
    }
   ],
   "source": [
    "from scipy import signal\n",
    "b, a = signal.butter(5, 0.2)\n",
    "\n",
    "correlations2 = correlations\n",
    "y = signal.filtfilt(b, a, correlations2['Cor'], padlen=5)\n",
    "correlations2['Cor'] = y\n",
    "#print(correlations2['Cor'])\n",
    "\n",
    "correlations2.plot(kind='scatter',x='Lag',y='Cor',color='red')\n"
   ]
  },
  {
   "cell_type": "code",
   "execution_count": 22,
   "metadata": {
    "colab": {},
    "colab_type": "code",
    "collapsed": false,
    "id": "Xlzdm0gIs702"
   },
   "outputs": [],
   "source": [
    "#Read inversion data\n",
    "inversion = pd.read_csv(\"data/inversion_index.csv\")\n",
    "inversion[\"date\"] = pd.to_datetime(inversion[\"date\"],errors='coerce')\n"
   ]
  },
  {
   "cell_type": "code",
   "execution_count": 23,
   "metadata": {
    "colab": {
     "base_uri": "https://localhost:8080/",
     "height": 34
    },
    "colab_type": "code",
    "collapsed": false,
    "executionInfo": {
     "elapsed": 41602,
     "status": "ok",
     "timestamp": 1589739300697,
     "user": {
      "displayName": "Dan P",
      "photoUrl": "https://lh3.googleusercontent.com/a-/AOh14GgxZkksSJl6C3pFfB_0qES5NDq-LIAp14ZGehqe=s64",
      "userId": "13599913014647747669"
     },
     "user_tz": -180
    },
    "id": "rzNPk7lEtSHE",
    "outputId": "045ed3b6-f0ca-4baf-846c-14bc48334e19"
   },
   "outputs": [
    {
     "name": "stdout",
     "output_type": "stream",
     "text": [
      "........................................................................................................................"
     ]
    }
   ],
   "source": [
    "import statsmodels.api as sm\n",
    "import numpy as np\n",
    "\n",
    "#lag = 0\n",
    "hospital = 'Rambam'\n",
    "\n",
    "cols = [col for col in inversion.columns if 'date' not in col]\n",
    "\n",
    "correlations = pd.DataFrame(columns=['Lag', 'Cor'])\n",
    "\n",
    "for lag in range(-60, 60):\n",
    "  inversion[\"ShiftedPollutionDate\"] = pd.DatetimeIndex(inversion[\"date\"]) + pd.DateOffset(lag)\n",
    "\n",
    "  merged_all = pd.merge(merged_data, inversion, how='left', left_on='Date', right_on='ShiftedPollutionDate')\n",
    "  merged_all = merged_all.fillna(-1)\n",
    "\n",
    "  #Split to train and test\n",
    "  train_row_mask = (merged_all[\"hospital\"] == hospital) & (merged_all['Date'] <= '2018-12-31')\n",
    "  test_row_mask  = (merged_all[\"hospital\"] == hospital) & (merged_all['Date'] > '2018-12-31')\n",
    "\n",
    "  X_train = merged_all.loc[train_row_mask, cols]\n",
    "  y_train = merged_all.loc[train_row_mask, \"all_visits\"]\n",
    "  X_test  = merged_all.loc[test_row_mask, cols]\n",
    "  y_test  = merged_all.loc[test_row_mask, \"all_visits\"]\n",
    "\n",
    "  model = sm.OLS(y_train.astype(float), X_train.astype(float)).fit()\n",
    "  pred  = model.predict(X_test.astype(float))\n",
    "\n",
    "  correlations = correlations.append({'Lag': lag, 'Cor': y_test.corr(pred)}, ignore_index=True)\n",
    "  print(\".\", end='')"
   ]
  },
  {
   "cell_type": "code",
   "execution_count": 24,
   "metadata": {
    "colab": {
     "base_uri": "https://localhost:8080/",
     "height": 296
    },
    "colab_type": "code",
    "collapsed": false,
    "executionInfo": {
     "elapsed": 957,
     "status": "ok",
     "timestamp": 1589739302380,
     "user": {
      "displayName": "Dan P",
      "photoUrl": "https://lh3.googleusercontent.com/a-/AOh14GgxZkksSJl6C3pFfB_0qES5NDq-LIAp14ZGehqe=s64",
      "userId": "13599913014647747669"
     },
     "user_tz": -180
    },
    "id": "V-xcj9lyv23s",
    "outputId": "4c1c04aa-1110-49f0-e351-0eeae01fe271"
   },
   "outputs": [
    {
     "data": {
      "text/plain": [
       "<matplotlib.axes._subplots.AxesSubplot at 0x11106a160>"
      ]
     },
     "execution_count": 24,
     "metadata": {},
     "output_type": "execute_result"
    },
    {
     "data": {
      "image/png": "[encoded data removed]",
      "text/plain": [
       "<matplotlib.figure.Figure at 0x1297bcf28>"
      ]
     },
     "metadata": {},
     "output_type": "display_data"
    }
   ],
   "source": [
    "from scipy import signal\n",
    "b, a = signal.butter(5, 0.2)\n",
    "\n",
    "correlations2 = correlations\n",
    "y = signal.filtfilt(b, a, correlations2['Cor'], padlen=5)\n",
    "correlations2['Cor'] = y\n",
    "#print(correlations2['Cor'])\n",
    "\n",
    "#correlations2['Cor'] = correlations2['Cor'].filtfilt(window=5).mean()\n",
    "\n",
    "correlations2.plot(kind='line',x='Lag',y='Cor',color='red')"
   ]
  },
  {
   "cell_type": "code",
   "execution_count": 25,
   "metadata": {
    "colab": {
     "base_uri": "https://localhost:8080/",
     "height": 153
    },
    "colab_type": "code",
    "collapsed": false,
    "executionInfo": {
     "elapsed": 950,
     "status": "ok",
     "timestamp": 1589739302380,
     "user": {
      "displayName": "Dan P",
      "photoUrl": "https://lh3.googleusercontent.com/a-/AOh14GgxZkksSJl6C3pFfB_0qES5NDq-LIAp14ZGehqe=s64",
      "userId": "13599913014647747669"
     },
     "user_tz": -180
    },
    "id": "Xsp6cAoewMrQ",
    "outputId": "3c054e43-d992-47be-c532-4a02191f6cac"
   },
   "outputs": [
    {
     "name": "stdout",
     "output_type": "stream",
     "text": [
      "Index(['hospital', 'Date', 'keep', 'hospitalization_0-1',\n",
      "       'hospitalization_1-4', 'hospitalization_5-18', 'hospitalization_19-34',\n",
      "       'hospitalization_35-64', 'hospitalization_65-74',\n",
      "       'hospitalization_75-84', 'hospitalization_85plus',\n",
      "       'all_hospitalizations', 'release_0-1', 'release_1-4', 'release_5-18',\n",
      "       'release_19-34', 'release_35-64', 'release_65-74', 'release_75-84',\n",
      "       'release_85plus', 'all_releases', 'all_visits'],\n",
      "      dtype='object')\n"
     ]
    }
   ],
   "source": [
    "print(merged_data.columns)"
   ]
  }
 ],
 "metadata": {
  "anaconda-cloud": {},
  "colab": {
   "collapsed_sections": [],
   "name": "Correlate_with_weather.ipynb",
   "provenance": []
  },
  "kernelspec": {
   "display_name": "Python [default]",
   "language": "python",
   "name": "python3"
  },
  "language_info": {
   "codemirror_mode": {
    "name": "ipython",
    "version": 3
   },
   "file_extension": ".py",
   "mimetype": "text/x-python",
   "name": "python",
   "nbconvert_exporter": "python",
   "pygments_lexer": "ipython3",
   "version": "3.5.2"
  }
 },
 "nbformat": 4,
 "nbformat_minor": 0
}
