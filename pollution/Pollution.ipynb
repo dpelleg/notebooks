{
 "cells": [
  {
   "cell_type": "code",
   "execution_count": null,
   "metadata": {
    "collapsed": true
   },
   "outputs": [],
   "source": [
    "import numpy as np\n",
    "import pandas as pd\n",
    "import matplotlib.pyplot as plt\n",
    "import re\n",
    "import datetime"
   ]
  },
  {
   "cell_type": "code",
   "execution_count": null,
   "metadata": {
    "collapsed": true
   },
   "outputs": [],
   "source": [
    "# read and cleanup meteorological data from near BAZAN\n",
    "# From: https://ims.data.gov.il/ims/1   station Haifa-Batey Zikuk (600)\n",
    "bz = pd.read_json('ims_bazan.json')\n",
    "bz['dt'] = pd.to_datetime(bz['time_obs'])\n",
    "bz['date'] = bz['dt'].dt.date\n",
    "bz['hour'] = bz['dt'].dt.hour\n",
    "#bz=bz[bz['time_obs'].str.match('.*T02:00:00$')]         # only choose first observation from each day\n",
    "bz = bz.mask(bz == -9999)\n",
    "\n",
    "# average wind vectors\n",
    "# separate into X and Y coordinates, average, and compose back\n",
    "bz['east'] = np.sin(bz['wind_dir'] * math.pi/180.0)\n",
    "bz['north'] = np.cos(bz['wind_dir'] * math.pi/180.0)\n",
    "bz['dir'] = (np.arctan2(bz['east'], bz['north'])* 180/math.pi) % 360\n",
    "bz = bz.groupby(['date']).mean()\n",
    "bz['mean_dir'] = (np.arctan2(bz['east'], bz['north'])* 180/math.pi) % 360\n",
    "\n",
    "#bz.index = bz['date']\n",
    "\n"
   ]
  },
  {
   "cell_type": "code",
   "execution_count": null,
   "metadata": {
    "collapsed": true
   },
   "outputs": [],
   "source": [
    "# read and cleanup air data\n",
    "\n",
    "st = pd.read_csv(\"StationData.csv\")\n",
    "xlat = { 'שפרינצק' : 'Shprintzak',\n",
    "             'רוממה' : 'Romema',\n",
    "             'קריית ים' : 'Kiryat Yam',\n",
    "             'קריית טבעון' : 'Kiryat Tivon',\n",
    "             'קריית חיים-דגניה' : 'Kiryat Haim-Degania',\n",
    "             'קריית חיים - דגניה' : 'Kiryat Haim-Degania',\n",
    "             'קריית חיים-רגבים' : 'Kiryat Haim-Regavim',\n",
    "             'קריית חיים' : 'Kiryat Haim-Regavim',\n",
    "             'קריית ביאליק' : 'Kiryat Bialik',\n",
    "             'ק.ביאליק עופרים' : 'Kiryat Bialik Ofarim',\n",
    "             'ק.מוצקין בגין' : 'Kiryat Motzkin Begin',\n",
    "             'קריית אתא' : 'Kiryat Ata',\n",
    "             'נשר' : 'Nesher',\n",
    "             'נווה שאנן' : 'Neve Shaanan',\n",
    "             'נווה יוסף' : 'Neve Yosef',\n",
    "             'כרמליה' : 'Carmelia',\n",
    "             'כפר חסידים' : 'Kfar Hasidim',\n",
    "             'יזרעאליה' : 'Yizraelia',\n",
    "             'איינשטיין' : 'Einstein',\n",
    "             'איגוד' : 'Igud (check-post)',\n",
    "             'חיפה - איגוד' : 'Igud (check-post)',\n",
    "             'אחוזה' : 'Ahuza',\n",
    "             'קריית מוצקין' : 'Kiryat Motzkin',\n",
    "             'קריית בנימין' : 'Kiryat Binyamin',\n",
    "             'דליית אל כרמל' : 'D.CARMEL',\n",
    "             'שמן' : 'Shemen',\n",
    "             'פז שמנים' : 'Paz Shmanim',\n",
    "             'פז' : 'Paz',\n",
    "             'דלק' : 'Delek',\n",
    "             'סונול' : 'Sonol',\n",
    "             'תשן נמל הדלק' : 'Tashan fuel port',\n",
    "             'דור כימיקלים' : 'Dor chemicals',\n",
    "             'Haifa g-40' : 'mahzam 40',\n",
    "             'Haifa g-30' : 'mahzam 30',\n",
    "             'שוק' : 'SHOOK',\n",
    "             'BAZAN TO-1,2' : 'BAZAN TO-1 2',\n",
    "             'הדר' : 'Hadar',\n",
    "             'אחוזה תחבורתית' : 'Ahuza transportation',\n",
    "             'חוגים' : 'Hugim',\n",
    "             'עצמאות חיפה' : 'Atzmaut',\n",
    "             'ד.עכו - ק.מוצקין' : 'Kiryat Motzkin Acco road',\n",
    "             'ניידת 6' : 'Mobile 6',\n",
    "             'ניידת 5' : 'Mobile 5',\n",
    "             'ניידת 4' : 'Mobile 4',\n",
    "             'פארק כרמל' : 'Park Carmel',\n",
    "             'מסופי ניפוק' : 'Masofei Nipuk',\n",
    "             'תחנה ניידת איגוד' : 'Mobile Igud',\n",
    "             'תאריך  \\ שעה' : 'DateTime'\n",
    "}\n",
    "\n",
    "def cleanup(s):\n",
    "    p = re.compile('^(.*)\\s*\\.\\d+', re.VERBOSE)\n",
    "    ret = p.sub(r'\\1', s).strip()\n",
    "    return xlat.get(ret, ret)\n",
    "\n",
    "# The column names is the composition of the first two rows\n",
    "hd = st[0:2].T\n",
    "hd['idx'] = hd.index   # shift index over to a column\n",
    "hd['sensor'] = hd['idx'].apply(cleanup) + '_' + hd[0].apply(str.strip)\n",
    "\n",
    "# move back to our dataframe\n",
    "st.columns = hd['sensor']\n",
    "# Need to drop the first two rows, and an empty first column\n",
    "st = st.drop([0, 1], axis=0).drop(st.columns[0], axis=1)\n",
    "\n",
    "# the bottom of the data has some rows for statistics, remove them\n",
    "date_pattern = \"\\d+/\\d+/\\d+\"\n",
    "filter = st['DateTime_'].str.contains(date_pattern)\n",
    "st = st[filter]\n",
    "\n",
    "# parse dates in Israeli format. \n",
    "st.rename(index=pd.to_datetime(st['DateTime_'].str.strip().str[:10], format=\"%d/%m/%Y\"), inplace=True)\n",
    "# The timestamp is \"24:00\" which really means the next day\n",
    "st.index = st.index + datetime.timedelta(days=1)\n",
    "\n",
    "# convert to numeric\n",
    "st = st.apply(lambda x: pd.to_numeric(x, errors='coerce'), axis=1)\n",
    "\n",
    "#st.to_excel('StationData.xlsx')"
   ]
  },
  {
   "cell_type": "code",
   "execution_count": null,
   "metadata": {
    "collapsed": true
   },
   "outputs": [],
   "source": [
    "joined = pd.merge(st, bz, left_index=True, right_index=True)\n",
    "bz.columns\n",
    "joined[['describe()"
   ]
  },
  {
   "cell_type": "code",
   "execution_count": null,
   "metadata": {
    "collapsed": true,
    "scrolled": false
   },
   "outputs": [],
   "source": [
    "pairs = [['Igud (check-post)_RH', 'hmd_rlt'],\n",
    "         ['Igud (check-post)_WDS', 'wind_spd'],\n",
    "         ['Igud (check-post)_WDD', 'wind_dir'],\n",
    "         ['Igud (check-post)_WDD', 'mean_dir'],\n",
    "         ['mean_dir', 'dir'],\n",
    "         ['wind_dir', 'dir'],\n",
    "         ['Igud (check-post)_WDD', 'dir'],\n",
    "         ['Igud (check-post)_TEMP', 'tmp_air_dry'],\n",
    "         ['Igud (check-post)_TEMP', 'tmp_air_wet']]\n",
    "\n",
    "#joined[['Haifa-Igud : RH', 'hmd_rlt']].corr(method='spearman')\n",
    "#joined[['Haifa-Igud : TEMP', 'tmp_air_wet']].corr(method='spearman')\n",
    "\n",
    "for i in range(len(pairs)):\n",
    "    c1=pairs[i][0]\n",
    "    c2=pairs[i][1]\n",
    "    joined.plot.scatter(x=c1, y=c2)\n",
    "    plt.show()\n",
    "    print (joined[[c1, c2]].corr(method='spearman'))\n",
    "\n"
   ]
  }
 ],
 "metadata": {
  "anaconda-cloud": {},
  "kernelspec": {
   "display_name": "Python [default]",
   "language": "python",
   "name": "python3"
  },
  "language_info": {
   "codemirror_mode": {
    "name": "ipython",
    "version": 3
   },
   "file_extension": ".py",
   "mimetype": "text/x-python",
   "name": "python",
   "nbconvert_exporter": "python",
   "pygments_lexer": "ipython3",
   "version": "3.5.2"
  }
 },
 "nbformat": 4,
 "nbformat_minor": 1
}
