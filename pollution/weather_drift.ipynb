{
 "cells": [
  {
   "cell_type": "markdown",
   "metadata": {},
   "source": [
    "Correlate the two sources of climate data: 1. IMS and 2. Igud Arim monitoring\n",
    "See if there is a drift in either source"
   ]
  },
  {
   "cell_type": "code",
   "execution_count": 1,
   "metadata": {
    "collapsed": true
   },
   "outputs": [],
   "source": [
    "import pandas as pd\n",
    "import seaborn as sns\n",
    "import numpy as np\n",
    "from sklearn.linear_model import LinearRegression\n",
    "import matplotlib.pyplot as plt"
   ]
  },
  {
   "cell_type": "code",
   "execution_count": 2,
   "metadata": {
    "collapsed": true
   },
   "outputs": [],
   "source": [
    "colab = False\n",
    "if (colab):\n",
    "  from google.colab import drive\n",
    "  drive.mount('/content/drive')\n",
    "  datadir = \"/content/drive/My Drive/תחלואה/notebooks/data\"\n",
    "else:\n",
    "  datadir = 'data'"
   ]
  },
  {
   "cell_type": "code",
   "execution_count": 3,
   "metadata": {
    "collapsed": true
   },
   "outputs": [],
   "source": [
    "# load IMS data\n",
    "ims = pd.read_csv(datadir + '/weather.csv')\n",
    "ims['date'] = pd.to_datetime(ims['date'])\n",
    "\n",
    "# Keep just the climate stuff\n",
    "ims = ims.filter(regex='(date|tmp_air_dry).*')"
   ]
  },
  {
   "cell_type": "code",
   "execution_count": 4,
   "metadata": {
    "collapsed": false
   },
   "outputs": [],
   "source": [
    "# Read IGUD sensor data\n",
    "igud = pd.read_excel(datadir + \"/StationData.xlsx\")\n",
    "\n",
    "igud.rename(columns = {'Unnamed: 0' : 'DateTime'}, inplace=True)\n",
    "igud[\"DateTime\"] = pd.to_datetime(igud[\"DateTime\"])\n",
    "igud[\"PollutionDate\"] = igud[\"DateTime\"].dt.date\n",
    "\n",
    "# Many columns are empty or sparse. Require 80% availability of data per column\n",
    "igud.dropna(thresh=len(igud)*0.8, axis=1, inplace=True)\n",
    "\n",
    "# Keep just the climate stuff\n",
    "igud = igud.filter(regex='.*(_TEMP|DateTime)')\n",
    "\n",
    "# Some errounuous values in Carmelia station need to be filtered\n",
    "\n",
    "igud.loc[igud['Carmelia_TEMP'] > 50, 'Carmelia_TEMP'] = np.nan"
   ]
  },
  {
   "cell_type": "code",
   "execution_count": 5,
   "metadata": {
    "collapsed": false
   },
   "outputs": [
    {
     "name": "stdout",
     "output_type": "stream",
     "text": [
      "<class 'pandas.core.frame.DataFrame'>\n",
      "RangeIndex: 1096 entries, 0 to 1095\n",
      "Data columns (total 9 columns):\n",
      "DateTime                  1096 non-null datetime64[ns]\n",
      "Romema_TEMP               1037 non-null float64\n",
      "Kiryat Ata_TEMP           1007 non-null float64\n",
      "Neve Shaanan_TEMP         934 non-null float64\n",
      "Neve Yosef_TEMP           1067 non-null float64\n",
      "Carmelia_TEMP             957 non-null float64\n",
      "Yizraelia_TEMP            1054 non-null float64\n",
      "Igud (check-post)_TEMP    1051 non-null float64\n",
      "D.CARMEL_TEMP             981 non-null float64\n",
      "dtypes: datetime64[ns](1), float64(8)\n",
      "memory usage: 77.1 KB\n"
     ]
    }
   ],
   "source": [
    "igud.info()"
   ]
  },
  {
   "cell_type": "code",
   "execution_count": 6,
   "metadata": {
    "collapsed": true
   },
   "outputs": [],
   "source": [
    "j = ims.merge(igud, left_on='date', right_on='DateTime')"
   ]
  },
  {
   "cell_type": "code",
   "execution_count": 7,
   "metadata": {
    "collapsed": false
   },
   "outputs": [
    {
     "name": "stdout",
     "output_type": "stream",
     "text": [
      "['date' 'tmp_air_dry Bazan' 'tmp_air_dry Afek' 'tmp_air_dry Technion'\n",
      " 'DateTime' 'Romema_TEMP' 'Kiryat Ata_TEMP' 'Neve Shaanan_TEMP'\n",
      " 'Neve Yosef_TEMP' 'Carmelia_TEMP' 'Yizraelia_TEMP'\n",
      " 'Igud (check-post)_TEMP' 'D.CARMEL_TEMP']\n"
     ]
    }
   ],
   "source": [
    "print(j.columns.values)"
   ]
  },
  {
   "cell_type": "code",
   "execution_count": 9,
   "metadata": {
    "collapsed": false
   },
   "outputs": [
    {
     "name": "stderr",
     "output_type": "stream",
     "text": [
      "/Users/dpelleg/anaconda3/lib/python3.5/site-packages/numpy/ma/core.py:6447: MaskedArrayFutureWarning: In the future the default for ma.minimum.reduce will be axis=0, not the current None, to match np.minimum.reduce. Explicitly pass 0 or None to silence this warning.\n",
      "  return self.reduce(a)\n",
      "/Users/dpelleg/anaconda3/lib/python3.5/site-packages/numpy/ma/core.py:6447: MaskedArrayFutureWarning: In the future the default for ma.maximum.reduce will be axis=0, not the current None, to match np.maximum.reduce. Explicitly pass 0 or None to silence this warning.\n",
      "  return self.reduce(a)\n"
     ]
    },
    {
     "data": {
      "text/plain": [
       "<seaborn.axisgrid.PairGrid at 0x12191cfd0>"
      ]
     },
     "execution_count": 9,
     "metadata": {},
     "output_type": "execute_result"
    }
   ],
   "source": [
    "g = sns.PairGrid(j, diag_sharey=False)\n",
    "g.map_upper(sns.scatterplot)\n",
    "g.map_lower(sns.kdeplot) # , colors=\"C0\")\n",
    "g.map_diag(sns.kdeplot, lw=2)"
   ]
  },
  {
   "cell_type": "code",
   "execution_count": null,
   "metadata": {
    "collapsed": true
   },
   "outputs": [],
   "source": [
    "# compute linear fit slopes\n",
    "ims_cols = j.columns[j.columns.str.contains('_dry ')]\n",
    "igud_cols = j.columns[j.columns.str.contains('_TEMP')]\n"
   ]
  },
  {
   "cell_type": "code",
   "execution_count": null,
   "metadata": {
    "collapsed": true
   },
   "outputs": [],
   "source": [
    "\n",
    "ims_c = 'tmp_air_dry Afek'\n",
    "igud_c = 'Romema_TEMP'\n",
    "\n",
    "res_ims = []\n",
    "res_igud = []\n",
    "res_coef = []\n",
    "res_score =[]\n",
    "\n",
    "for ims_c in ims_cols:\n",
    "    for igud_c in igud_cols:\n",
    "        D = j[[ims_c, igud_c]].copy()\n",
    "        D.dropna(inplace=True)\n",
    "        D['dummy'] = 0\n",
    "\n",
    "        X = D[['dummy', ims_c]]\n",
    "        y = D[igud_c]\n",
    "        reg = LinearRegression(fit_intercept=False).fit(X, y)\n",
    "        res_ims.append(ims_c)\n",
    "        res_igud.append(igud_c)\n",
    "        res_score.append(reg.score(X, y))\n",
    "        res_coef.append(reg.coef_[1])"
   ]
  },
  {
   "cell_type": "code",
   "execution_count": null,
   "metadata": {
    "collapsed": true
   },
   "outputs": [],
   "source": [
    "F = pd.DataFrame({'ims': res_ims, 'igud' : res_igud, 'score' : res_score, 'coef' : res_coef})"
   ]
  },
  {
   "cell_type": "code",
   "execution_count": null,
   "metadata": {
    "collapsed": true
   },
   "outputs": [],
   "source": [
    "chart = sns.barplot(data=F, x='igud', y='coef', hue='ims')\n",
    "chart.set_xticklabels(chart.get_xticklabels(), rotation=45, horizontalalignment='right')\n",
    "\n",
    "plt.legend(loc='lower left')\n",
    "plt.ylim(0.8, 1.2)\n",
    "plt.title('Correlation coefficient')"
   ]
  },
  {
   "cell_type": "code",
   "execution_count": null,
   "metadata": {
    "collapsed": true
   },
   "outputs": [],
   "source": [
    "chart = sns.barplot(data=F, x='igud', y='score', hue='ims')\n",
    "chart.set_xticklabels(chart.get_xticklabels(), rotation=45, horizontalalignment='right')\n",
    "\n",
    "plt.legend(loc='lower left')\n",
    "plt.ylim(0.75, 1)\n",
    "plt.title('Correlation score')"
   ]
  }
 ],
 "metadata": {
  "anaconda-cloud": {},
  "kernelspec": {
   "display_name": "Python [default]",
   "language": "python",
   "name": "python3"
  },
  "language_info": {
   "codemirror_mode": {
    "name": "ipython",
    "version": 3
   },
   "file_extension": ".py",
   "mimetype": "text/x-python",
   "name": "python",
   "nbconvert_exporter": "python",
   "pygments_lexer": "ipython3",
   "version": "3.5.2"
  }
 },
 "nbformat": 4,
 "nbformat_minor": 4
}
