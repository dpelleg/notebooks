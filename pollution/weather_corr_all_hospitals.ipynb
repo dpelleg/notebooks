{
 "cells": [
  {
   "cell_type": "code",
   "execution_count": null,
   "metadata": {
    "collapsed": true
   },
   "outputs": [],
   "source": [
    "colab = False\n",
    "if (colab):\n",
    "  from google.colab import drive\n",
    "  drive.mount('/content/drive')\n",
    "  datadir = \"/content/drive/My Drive/תחלואה/notebooks/data\"\n",
    "else:\n",
    "  datadir = 'data'"
   ]
  },
  {
   "cell_type": "code",
   "execution_count": null,
   "metadata": {
    "colab": {},
    "colab_type": "code",
    "collapsed": false,
    "id": "_cv5WLoLQVD5"
   },
   "outputs": [],
   "source": [
    "import pandas as pd\n",
    "import re\n",
    "\n",
    "%matplotlib inline\n",
    "xdir = '..' if colab else ''\n",
    "#Load hospital data\n",
    "hospital_data = pd.read_pickle(datadir + xdir + \"/merged_data_7May2020.pkl\")\n",
    "hospital_data.rename(columns = lambda x : re.sub('\\s*:\\s*', '_', re.sub('-','_', x)), inplace=True)"
   ]
  },
  {
   "cell_type": "code",
   "execution_count": null,
   "metadata": {
    "colab": {
     "base_uri": "https://localhost:8080/",
     "height": 51
    },
    "colab_type": "code",
    "collapsed": false,
    "executionInfo": {
     "elapsed": 1224,
     "status": "ok",
     "timestamp": 1589739147335,
     "user": {
      "displayName": "Dan P",
      "photoUrl": "https://lh3.googleusercontent.com/a-/AOh14GgxZkksSJl6C3pFfB_0qES5NDq-LIAp14ZGehqe=s64",
      "userId": "13599913014647747669"
     },
     "user_tz": -180
    },
    "id": "Njy8rCgUyOYN",
    "outputId": "cdc01cf8-ea57-4fbd-9a65-80b242ab93ad",
    "scrolled": true
   },
   "outputs": [],
   "source": [
    "print(hospital_data['hospital'].unique())"
   ]
  },
  {
   "cell_type": "code",
   "execution_count": null,
   "metadata": {
    "collapsed": false
   },
   "outputs": [],
   "source": [
    "hospital_data.info()"
   ]
  },
  {
   "cell_type": "code",
   "execution_count": null,
   "metadata": {
    "collapsed": false
   },
   "outputs": [],
   "source": [
    "import re\n",
    "agegroup_cols = [c for c in hospital_data.columns if re.compile('(hospitalization|release)_').match(c)]\n",
    "\n",
    "for c in agegroup_cols:\n",
    "    hospital_data[c] = hospital_data[c].fillna(0)"
   ]
  },
  {
   "cell_type": "code",
   "execution_count": null,
   "metadata": {
    "colab": {},
    "colab_type": "code",
    "collapsed": true,
    "id": "qya6zTxbmS4L"
   },
   "outputs": [],
   "source": [
    "#Run a smoothing filter on the hospitalization data\n",
    "from scipy import signal\n",
    "b, a = signal.butter(14, 0.07)\n",
    "\n",
    "if (1):\n",
    "  smoothed_merged_data = hospital_data\n",
    "\n",
    "  for column in smoothed_merged_data:\n",
    "    if (column != \"Date\") and (column != \"hospital\"):\n",
    "      smoothed_merged_data[column] = signal.filtfilt(b, a, smoothed_merged_data[column], padlen=7)\n",
    "      #smoothed_merged_data[column] = smoothed_merged_data[column].rolling(window=14).mean()\n",
    "\n",
    "  hospital_data = smoothed_merged_data"
   ]
  },
  {
   "cell_type": "code",
   "execution_count": null,
   "metadata": {
    "collapsed": false
   },
   "outputs": [],
   "source": [
    "# Read air quality sensor data\n",
    "air_quality = pd.read_excel(datadir + \"/StationData.xlsx\")\n",
    "\n",
    "air_quality.rename(columns = {'Unnamed: 0' : 'DateTime'}, inplace=True)\n",
    "air_quality[\"DateTime\"] = pd.to_datetime(air_quality[\"DateTime\"])\n",
    "air_quality[\"PollutionDate\"] = air_quality[\"DateTime\"].dt.date\n",
    "\n",
    "# Many columns are empty or sparse. Require 80% availability of data per column\n",
    "air_quality.dropna(thresh=len(air_quality)*0.8, axis=1, inplace=True)"
   ]
  },
  {
   "cell_type": "code",
   "execution_count": null,
   "metadata": {
    "collapsed": false
   },
   "outputs": [],
   "source": [
    "# Mark columns by the type of pollutants they respectively measure\n",
    "\n",
    "import re\n",
    "\n",
    "air_quality.rename(columns=lambda x: re.sub('[- ()+.]','_', re.sub('2\\.5', '25', re.sub('_', '__', x))), inplace=True)\n",
    "\n",
    "colre_gaseous = re.compile('(O3|NO2|NO|NOX|SO2|TOC_SCRUBBER|TOC_RTO|CO|BENZN|O_Xyle|TOLUEN|EthylB|M_P_XY|1_3butadiene|TOL|NOx|H2S|CO TRAFIC|NO2_TRAFIC|NO_TRAFIC|NOX_TRAFIC)$')\n",
    "\n",
    "colre_particulate = re.compile('(PM10|PM25|pm\\(10-2\\.5\\)|pm_10_25_|DUST|PM1|BLACK CARBON)$')\n",
    "\n",
    "colre_climate = re.compile('(StWd|RH|WDS|WDD|SR|PREC)$')  # not used, we take climate data from another source\n",
    "colre_operational = re.compile('(ITemp|TEMP|Filter|LXpk_max|LAF_max|LAF_min|LAim|LXeq|LAeq|FILTER_2.5|spare|PM1_Flow|PM25_Filter|PM10_Noise|PM25_Noise|PM10_Filter|Flow)$')  # not used, this should not matter for anythingg\n",
    "\n",
    "# There are two data columns which didn't seem to belong anywhere: BP and BRP. Anyone knows what they are?2\n",
    "\n",
    "all_cols = air_quality.columns\n",
    "\n",
    "aircols_gaseous = list(filter(colre_gaseous.search, all_cols))\n",
    "aircols_particulate = list(filter(colre_particulate.search, all_cols))\n",
    "\n",
    "#print(aircols_gaseous)\n",
    "#print(aircols_particulate)\n"
   ]
  },
  {
   "cell_type": "code",
   "execution_count": null,
   "metadata": {
    "colab": {},
    "colab_type": "code",
    "collapsed": true,
    "id": "dakauXR7wjmR"
   },
   "outputs": [],
   "source": [
    "#Run a smoothing filter on the air quality data\n",
    "from scipy import signal\n",
    "b, a = signal.butter(14, 0.07)\n",
    "\n",
    "if (0):\n",
    "  smoothed_filtered_air_quality = filtered_air_quality\n",
    "  smoothed_filtered_air_quality = smoothed_filtered_air_quality.fillna(-1)\n",
    "\n",
    "  for column in smoothed_filtered_air_quality:\n",
    "    if (column != \"PollutionDate\") and (column != \"Date-Time\") and (column != \"DateTime\"): \n",
    "      smoothed_filtered_air_quality[column] = signal.filtfilt(b, a, smoothed_filtered_air_quality[column], padlen=14)\n",
    "      #smoothed_filtered_air_quality[column] = smoothed_filtered_air_quality[column].rolling(window=14).mean()\n",
    "\n",
    "  filtered_air_quality = smoothed_filtered_air_quality"
   ]
  },
  {
   "cell_type": "code",
   "execution_count": null,
   "metadata": {
    "colab": {},
    "colab_type": "code",
    "collapsed": false,
    "id": "Xlzdm0gIs702"
   },
   "outputs": [],
   "source": [
    "#Read weather and inversion data\n",
    "weather = pd.read_csv(datadir + \"/weather.csv\")\n",
    "\n",
    "weather.rename(columns=lambda x: re.sub('[- ()+]','_', x), inplace=True)\n",
    "\n",
    "weather[\"date\"] = pd.to_datetime(weather[\"date\"]).dt.date\n"
   ]
  },
  {
   "cell_type": "code",
   "execution_count": null,
   "metadata": {
    "collapsed": false
   },
   "outputs": [],
   "source": [
    "# join all independent variables into one table\n",
    "all_indep = air_quality.merge(weather, how='inner', left_on= \"PollutionDate\", right_on=\"date\")"
   ]
  },
  {
   "cell_type": "code",
   "execution_count": null,
   "metadata": {
    "colab": {
     "base_uri": "https://localhost:8080/",
     "height": 34
    },
    "colab_type": "code",
    "collapsed": false,
    "executionInfo": {
     "elapsed": 41602,
     "status": "ok",
     "timestamp": 1589739300697,
     "user": {
      "displayName": "Dan P",
      "photoUrl": "https://lh3.googleusercontent.com/a-/AOh14GgxZkksSJl6C3pFfB_0qES5NDq-LIAp14ZGehqe=s64",
      "userId": "13599913014647747669"
     },
     "user_tz": -180
    },
    "id": "rzNPk7lEtSHE",
    "outputId": "045ed3b6-f0ca-4baf-846c-14bc48334e19"
   },
   "outputs": [],
   "source": [
    "# Inner loop of test procedure\n",
    "# Shift the independent variabls by (lag) days, try to predict the dependent variable, and report \n",
    "# the correlation of prediction on a (similarly shifted) test set\n",
    "\n",
    "import statsmodels.api as sm\n",
    "import numpy as np\n",
    "from patsy import dmatrices, dmatrix\n",
    "\n",
    "def pred_cor(inputs, outputs, lag, formula, hospital):\n",
    "\n",
    "  inputs[\"ShiftedPollutionDate\"] = pd.DatetimeIndex(inputs[\"PollutionDate\"]) + pd.DateOffset(lag)\n",
    "\n",
    "  merged_all = pd.merge(outputs, inputs, how='left', left_on='Date', right_on='ShiftedPollutionDate')\n",
    "  merged_all = merged_all.fillna(-1)\n",
    "\n",
    "  #Split to train and test\n",
    "  train_row_mask = (merged_all[\"hospital\"] == hospital) & (merged_all['Date'] <= '2018-12-31')\n",
    "  test_row_mask  = (merged_all[\"hospital\"] == hospital) & (merged_all['Date'] > '2018-12-31')\n",
    "\n",
    "  y, X = dmatrices(formula, merged_all)\n",
    "  y_train = y[train_row_mask]\n",
    "  X_train = X[train_row_mask]\n",
    "  y_test = y[test_row_mask]\n",
    "  y_test = [ i[0] for i in y_test]\n",
    "  X_test = X[test_row_mask]\n",
    "\n",
    "  model = sm.OLS(y_train.astype(float), X_train.astype(float)).fit()\n",
    "  pred  = model.predict(X_test.astype(float))\n",
    "\n",
    "  return np.corrcoef(y_test, pred)[0,1]\n"
   ]
  },
  {
   "cell_type": "code",
   "execution_count": null,
   "metadata": {
    "collapsed": false
   },
   "outputs": [],
   "source": [
    "# Set up sets of features\n",
    "from itertools import chain, combinations, product\n",
    "\n",
    "inversion_basic = ['inversion_bywind', 'inversion_bytemp_delta', 'inversion_byboth']\n",
    "cols_climate = [\"hmd_rlt_Bazan\", \"prs_lvl_hgt_Bazan\", \"tmp_air_dry_Bazan\", \"tmp_air_wet_Bazan\", \"tmp_dew_pnt_Bazan\", \"wind_dir_Bazan\", \"wind_spd_Bazan\"]\n",
    "\n",
    "# add pairs of inversion/climate variables\n",
    "# also include the original inversion variable, and the original climate variables\n",
    "inversion_cols = inversion_basic.copy()\n",
    "inversion_cols.extend(map(lambda x: ':'.join(x), product(inversion_basic, cols_climate)))\n",
    "inversion_cols.extend(cols_climate)\n",
    "\n",
    "colmap = {\n",
    "    'gaseous' : aircols_gaseous,\n",
    "    'particulate' : aircols_particulate,\n",
    "    'climate' : cols_climate,\n",
    "    'climate+' : inversion_cols\n",
    "}"
   ]
  },
  {
   "cell_type": "code",
   "execution_count": null,
   "metadata": {
    "colab": {
     "base_uri": "https://localhost:8080/",
     "height": 34
    },
    "colab_type": "code",
    "collapsed": false,
    "executionInfo": {
     "elapsed": 41602,
     "status": "ok",
     "timestamp": 1589739300697,
     "user": {
      "displayName": "Dan P",
      "photoUrl": "https://lh3.googleusercontent.com/a-/AOh14GgxZkksSJl6C3pFfB_0qES5NDq-LIAp14ZGehqe=s64",
      "userId": "13599913014647747669"
     },
     "user_tz": -180
    },
    "id": "rzNPk7lEtSHE",
    "outputId": "045ed3b6-f0ca-4baf-846c-14bc48334e19",
    "scrolled": true
   },
   "outputs": [],
   "source": [
    "# Main loop\n",
    "\n",
    "sep = ' + '\n",
    "sep2 = ','\n",
    "\n",
    "hospital = 'Rambam'\n",
    "#hospital = 'BneiZion'\n",
    "#hospital = 'Shiba'\n",
    "\n",
    "correlations = {}\n",
    "\n",
    "all_subsets = chain.from_iterable(combinations(colmap,n) for n in range(1, len(colmap)+1))\n",
    "\n",
    "for agegroup in agegroup_cols:\n",
    "  colset = ('particulate', 'gaseous', 'climate')\n",
    "  colset_name = sep2.join(colset)\n",
    "  print(\"\\n\" + agegroup)\n",
    "  all_lists = (map(lambda x : colmap[x], colset))\n",
    "  #print(list(all_lists))\n",
    "  all_items = [item for sublist in all_lists for item in sublist]\n",
    "\n",
    "  cols = all_items\n",
    "\n",
    "#  formula = sep.join([\"all_visits ~ 1\", sep.join(cols)])\n",
    "#  formula = sep.join([\"all_hospitalizations ~ 1\", sep.join(cols)])\n",
    "#  formula = sep.join([\"all_releases ~ 1\", sep.join(cols)])\n",
    "  formula = sep.join([agegroup + \" ~ 1\", sep.join(cols)])\n",
    "#  print(formula)\n",
    "\n",
    "  corrs = pd.DataFrame(columns=['Lag', 'Cor'])\n",
    "\n",
    "  for lag in range(-60, 60):\n",
    "    c = pred_cor(all_indep, hospital_data, lag, formula, hospital)\n",
    "    corrs = corrs.append({'Lag': lag, 'Cor': c }, ignore_index=True)\n",
    "    print(\".\", end='')\n",
    "\n",
    "  correlations[agegroup] = corrs"
   ]
  },
  {
   "cell_type": "code",
   "execution_count": null,
   "metadata": {
    "collapsed": false
   },
   "outputs": [],
   "source": [
    "correlations"
   ]
  },
  {
   "cell_type": "code",
   "execution_count": null,
   "metadata": {
    "collapsed": false
   },
   "outputs": [],
   "source": [
    "#np.save('data/corr.npy', correlations)"
   ]
  },
  {
   "cell_type": "code",
   "execution_count": null,
   "metadata": {
    "collapsed": true
   },
   "outputs": [],
   "source": [
    "#correlations = np.load('data/corr.npy',allow_pickle='TRUE').item()"
   ]
  },
  {
   "cell_type": "code",
   "execution_count": null,
   "metadata": {
    "collapsed": false
   },
   "outputs": [],
   "source": [
    "import matplotlib.pyplot as plt\n",
    "\n",
    "ks = list(correlations.keys())\n",
    "n = len(ks)\n",
    "\n",
    "plt.figure()\n",
    "\n",
    "fig, axes = plt.subplots(nrows=n, ncols=1, figsize=(15, 25))\n",
    "\n",
    "for i in range(len(ks)):\n",
    "  ki = ks[i]\n",
    "  b, a = signal.butter(5, 0.2)\n",
    "  v = correlations[ki].copy()\n",
    "  y = signal.filtfilt(b, a, v['Cor'], padlen=5)\n",
    "  v['Cor'] = y\n",
    "  v.plot(kind='line',x='Lag',y='Cor',color='red', title=ki, ax=axes[i])\n",
    "\n",
    "plt.show()"
   ]
  }
 ],
 "metadata": {
  "anaconda-cloud": {},
  "colab": {
   "collapsed_sections": [],
   "name": "Correlate_with_weather.ipynb",
   "provenance": []
  },
  "kernelspec": {
   "display_name": "Python [default]",
   "language": "python",
   "name": "python3"
  },
  "language_info": {
   "codemirror_mode": {
    "name": "ipython",
    "version": 3
   },
   "file_extension": ".py",
   "mimetype": "text/x-python",
   "name": "python",
   "nbconvert_exporter": "python",
   "pygments_lexer": "ipython3",
   "version": "3.5.2"
  }
 },
 "nbformat": 4,
 "nbformat_minor": 0
}
