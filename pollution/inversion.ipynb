{
 "cells": [
  {
   "cell_type": "code",
   "execution_count": null,
   "metadata": {
    "collapsed": true
   },
   "outputs": [],
   "source": [
    "import numpy as np\n",
    "import pandas as pd\n",
    "import matplotlib.pyplot as plt"
   ]
  },
  {
   "cell_type": "code",
   "execution_count": null,
   "metadata": {
    "collapsed": true
   },
   "outputs": [],
   "source": [
    "# read and cleanup meteorological data from around BAZAN\n",
    "# From: https://ims.data.gov.il/ims/1   stations: Haifa-Batey Zikuk (600), Afek, Haifa Technion\n",
    "bzn = pd.read_json('ims_bazan.json')\n",
    "afek = pd.read_json('ims_afek.json')\n",
    "technion = pd.read_json('ims_technion.json')\n",
    "\n",
    "ims = bzn.merge(afek, on='time_obs', suffixes=('', ' Afek'))\n",
    "ims = ims.merge(technion, on='time_obs', suffixes=(' Bazan', ' Technion'))\n",
    "\n",
    "ims['dt'] = pd.to_datetime(ims['time_obs'])\n",
    "ims['date'] = ims['dt'].dt.date\n",
    "ims['hour'] = ims['dt'].dt.hour\n",
    "ims = ims.mask(ims == -9999)\n",
    "\n",
    "ims.dropna(axis=1, how='all', inplace=True)\n",
    "#print(ims.columns)\n",
    "#ims.describe()"
   ]
  },
  {
   "cell_type": "code",
   "execution_count": null,
   "metadata": {
    "collapsed": false
   },
   "outputs": [],
   "source": [
    "#byday = ims.groupby(['date']).mean()\n",
    "byday = ims.copy()\n",
    "\n",
    "byday['dt'] = pd.to_datetime(byday.index)\n",
    "byday['month'] = byday['dt'].dt.month\n",
    "byday['wind_spd Bazan'].plot()\n",
    "byday['wind cat'] = pd.qcut(byday['wind_spd Bazan'], 10, labels=False)\n",
    "\n",
    "table = pd.crosstab(byday['month'], [byday['wind cat']], normalize='index')\n",
    "ax = table.plot.bar(stacked=True)\n",
    "ax.legend(loc='upper right', bbox_to_anchor=(1.4, 1.05),\n",
    "          ncol=1, fancybox=True, shadow=True)\n",
    "ax.set_title('Wind speed distribution by month')\n",
    "\n",
    "table = pd.crosstab(byday['hour'], [byday['wind cat']], normalize='index')\n",
    "ax = table.plot.bar(stacked=True)\n",
    "ax.legend(loc='upper right', bbox_to_anchor=(1.4, 1.05),\n",
    "          ncol=1, fancybox=True, shadow=True)\n",
    "ax.set_title('Wind speed distribution by hour')\n",
    "\n",
    "plt.show()\n"
   ]
  },
  {
   "cell_type": "code",
   "execution_count": null,
   "metadata": {
    "collapsed": false
   },
   "outputs": [],
   "source": [
    "c1 = 'tmp_air_dry Bazan'\n",
    "c2 = 'tmp_air_dry Technion'\n",
    "ims.plot.scatter(x=c1, y=c2)\n",
    "plt.show()"
   ]
  },
  {
   "cell_type": "code",
   "execution_count": null,
   "metadata": {
    "collapsed": true
   },
   "outputs": [],
   "source": [
    "ims.index = ims['time_obs']\n",
    "# Technion is 3.7km from Bazan horizontally, and elevated +240 meters\n",
    "ims['tmp delta'] = ims['tmp_air_dry Bazan'] - ims['tmp_air_dry Technion']\n",
    "ims['month'] = ims['dt'].dt.month\n",
    "ims['td_cat'] = pd.qcut(ims['tmp delta'], 6, labels=False)\n",
    "\n"
   ]
  },
  {
   "cell_type": "code",
   "execution_count": null,
   "metadata": {
    "collapsed": false,
    "scrolled": true
   },
   "outputs": [],
   "source": [
    "fig, axs = plt.subplots(1, 2)\n",
    "\n",
    "table = pd.crosstab(ims['month'], [ims['td_cat']], normalize='index')\n",
    "axs[0] = table.plot.bar(stacked=True)\n",
    "axs[0].legend(loc='upper right', bbox_to_anchor=(1.4, 1.05),\n",
    "          ncol=1, fancybox=True, shadow=True)\n",
    "axs[0].set_title('Temp. delta distribution by month')\n",
    "\n",
    "table = pd.crosstab(ims['hour'], [ims['td_cat']], normalize='index')\n",
    "axs[1] = table.plot.bar(stacked=True)\n",
    "axs[1].legend(loc='upper right', bbox_to_anchor=(1.4, 1.05),\n",
    "          ncol=1, fancybox=True, shadow=True)\n",
    "axs[1].set_title('Temp. delta distribution by hour')\n",
    "\n",
    "plt.show()"
   ]
  },
  {
   "cell_type": "code",
   "execution_count": null,
   "metadata": {
    "collapsed": false
   },
   "outputs": [],
   "source": [
    "# joint inversion index\n",
    "inv_days = ims.copy()\n",
    "inv_days['inversion_bywind'] = (inv_days['wind_spd Bazan'] < 1.0).astype(int)\n",
    "inv_days['inversion_bytemp_delta'] = ((ims['tmp_air_dry Bazan'] - ims['tmp_air_dry Technion']) < 0.0).astype(int)\n",
    "inv_days['inversion_byboth'] = (inv_days['inversion_bywind'] & inv_days['inversion_bytemp_delta'])\n",
    "inv_days = inv_days.groupby(['date']).sum()\n",
    "inv_days2 = inv_days[['inversion_bywind', 'inversion_bytemp_delta', 'inversion_byboth']]\n",
    "inv_days = inv_days2.copy()"
   ]
  },
  {
   "cell_type": "code",
   "execution_count": null,
   "metadata": {
    "collapsed": false
   },
   "outputs": [],
   "source": [
    "# Join with weather data\n",
    "byday = ims.groupby(['date']).mean().drop(['hour', 'stn_num Bazan', 'stn_num Technion', 'stn_num Afek', 'wind_dir Technion', 'wind_spd Technion', 'prs_sea_lvl Afek', 'prs_stn Afek', 'tmp_air_wet Technion', 'tmp_dew_pnt Technion', 'hmd_rlt Technion'], axis='columns')\n",
    "\n",
    "#Fill missing data by interpolation\n",
    "nona = byday.apply(lambda s: s.interpolate().fillna(method='bfill'))\n",
    "\n",
    "jj = nona.merge(inv_days, how='left', left_on='date', right_on='date').drop(['td_cat', 'month', 'tmp delta'], axis='columns')\n",
    "\n",
    "jj.to_csv('data/weather.csv')"
   ]
  }
 ],
 "metadata": {
  "anaconda-cloud": {},
  "kernelspec": {
   "display_name": "Python [default]",
   "language": "python",
   "name": "python3"
  },
  "language_info": {
   "codemirror_mode": {
    "name": "ipython",
    "version": 3
   },
   "file_extension": ".py",
   "mimetype": "text/x-python",
   "name": "python",
   "nbconvert_exporter": "python",
   "pygments_lexer": "ipython3",
   "version": "3.5.2"
  }
 },
 "nbformat": 4,
 "nbformat_minor": 1
}
