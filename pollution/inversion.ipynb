{
 "cells": [
  {
   "cell_type": "code",
   "execution_count": null,
   "metadata": {
    "collapsed": true
   },
   "outputs": [],
   "source": [
    "import numpy as np\n",
    "import pandas as pd\n",
    "import matplotlib.pyplot as plt"
   ]
  },
  {
   "cell_type": "code",
   "execution_count": null,
   "metadata": {
    "collapsed": false
   },
   "outputs": [],
   "source": [
    "# read and cleanup meteorological data from around BAZAN\n",
    "# From: https://ims.data.gov.il/ims/1   stations: Haifa-Batey Zikuk (600), Afek, Haifa Technion\n",
    "bzn = pd.read_json('ims_bazan.json')\n",
    "afek = pd.read_json('ims_afek.json')\n",
    "technion = pd.read_json('ims_technion.json')\n",
    "\n",
    "ims = bzn.merge(afek, on='time_obs', suffixes=('', ' Afek'))\n",
    "ims = ims.merge(technion, on='time_obs', suffixes=(' Bazan', ' Technion'))\n",
    "\n",
    "ims['dt'] = pd.to_datetime(ims['time_obs'])\n",
    "ims['date'] = ims['dt'].dt.date\n",
    "ims['hour'] = ims['dt'].dt.hour\n",
    "ims = ims.mask(ims == -9999)\n",
    "\n",
    "ims.dropna(axis=1, how='all', inplace=True)\n",
    "print(ims.columns)\n",
    "ims.describe()"
   ]
  },
  {
   "cell_type": "code",
   "execution_count": null,
   "metadata": {
    "collapsed": false
   },
   "outputs": [],
   "source": [
    "c1 = 'tmp_air_dry Bazan'\n",
    "c2 = 'tmp_air_dry Technion'\n",
    "ims.plot.scatter(x=c1, y=c2)\n",
    "plt.show()"
   ]
  },
  {
   "cell_type": "code",
   "execution_count": null,
   "metadata": {
    "collapsed": false
   },
   "outputs": [],
   "source": [
    "ims.index = ims['time_obs']\n",
    "# Technion is quite close to bazan horizontally, and elevated +240 meters\n",
    "ims['tmp delta'] = ims['tmp_air_dry Bazan'] - ims['tmp_air_dry Technion']\n",
    "ims['month'] = ims['dt'].dt.month\n",
    "ims['td_cat'] = pd.qcut(ims['tmp delta'], 6)\n",
    "\n"
   ]
  },
  {
   "cell_type": "code",
   "execution_count": null,
   "metadata": {
    "collapsed": false
   },
   "outputs": [],
   "source": [
    "plt.figure()\n",
    "fig, axs = plt.subplots(2, 1)\n",
    "\n",
    "table = pd.crosstab(ims['month'], [ims['td_cat']], normalize='index')\n",
    "axs[0] = table.plot.bar(stacked=True)\n",
    "axs[0].legend(loc='upper right', bbox_to_anchor=(1.4, 1.05),\n",
    "          ncol=1, fancybox=True, shadow=True)\n",
    "axs[0].set_title('ו. delta distribution by month')\n",
    "\n",
    "table = pd.crosstab(ims['hour'], [ims['td_cat']], normalize='index')\n",
    "axs[1] = table.plot.bar(stacked=True)\n",
    "axs[1].legend(loc='upper right', bbox_to_anchor=(1.4, 1.05),\n",
    "          ncol=1, fancybox=True, shadow=True)\n",
    "axs[1].set_title('Temp. delta distribution by hour')\n",
    "\n",
    "plt.show()"
   ]
  },
  {
   "cell_type": "code",
   "execution_count": null,
   "metadata": {
    "collapsed": false
   },
   "outputs": [],
   "source": [
    "byday = ims.groupby(['date']).mean()\n",
    "\n",
    "byday['dt'] = pd.to_datetime(byday.index)\n",
    "byday[:10]\n",
    "byday['month'] = byday['dt'].dt.month\n",
    "byday['wind_spd Bazan'].plot()\n",
    "byday['wind cat'] = pd.qcut(byday['wind_spd Bazan'], 10)\n",
    "table = pd.crosstab(byday['month'], [byday['wind cat']], normalize='index')\n",
    "ax = table.plot.bar(stacked=True)\n",
    "ax.legend(loc='upper right', bbox_to_anchor=(1.4, 1.05),\n",
    "          ncol=1, fancybox=True, shadow=True)\n",
    "ax.set_title('Wind speed distribution by month')\n",
    "plt.show()\n",
    "\n"
   ]
  }
 ],
 "metadata": {
  "anaconda-cloud": {},
  "kernelspec": {
   "display_name": "Python [conda env:anaconda3]",
   "language": "python",
   "name": "conda-env-anaconda3-py"
  },
  "language_info": {
   "codemirror_mode": {
    "name": "ipython",
    "version": 3
   },
   "file_extension": ".py",
   "mimetype": "text/x-python",
   "name": "python",
   "nbconvert_exporter": "python",
   "pygments_lexer": "ipython3",
   "version": "3.5.2"
  }
 },
 "nbformat": 4,
 "nbformat_minor": 1
}
