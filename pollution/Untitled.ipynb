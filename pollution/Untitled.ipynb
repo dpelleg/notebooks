{
 "cells": [
  {
   "cell_type": "code",
   "execution_count": 2,
   "metadata": {
    "collapsed": false
   },
   "outputs": [],
   "source": [
    "import pandas as pd\n",
    "\n",
    "df = pd.read_pickle(\"data/merged_data_7May2020.pkl\")"
   ]
  },
  {
   "cell_type": "code",
   "execution_count": 4,
   "metadata": {
    "collapsed": false
   },
   "outputs": [
    {
     "data": {
      "text/plain": [
       "Index(['hospital', 'Date', 'keep', 'hospitalization_0-1',\n",
       "       'hospitalization_1-4', 'hospitalization_5-18', 'hospitalization_19-34',\n",
       "       'hospitalization_35-64', 'hospitalization_65-74',\n",
       "       'hospitalization_75-84', 'hospitalization_85plus',\n",
       "       'all_hospitalizations', 'release_0-1', 'release_1-4', 'release_5-18',\n",
       "       'release_19-34', 'release_35-64', 'release_65-74', 'release_75-84',\n",
       "       'release_85plus', 'all_releases', 'all_visits'],\n",
       "      dtype='object')"
      ]
     },
     "execution_count": 4,
     "metadata": {},
     "output_type": "execute_result"
    }
   ],
   "source": [
    "df.columns"
   ]
  }
 ],
 "metadata": {
  "anaconda-cloud": {},
  "kernelspec": {
   "display_name": "Python [default]",
   "language": "python",
   "name": "python3"
  },
  "language_info": {
   "codemirror_mode": {
    "name": "ipython",
    "version": 3
   },
   "file_extension": ".py",
   "mimetype": "text/x-python",
   "name": "python",
   "nbconvert_exporter": "python",
   "pygments_lexer": "ipython3",
   "version": "3.5.2"
  }
 },
 "nbformat": 4,
 "nbformat_minor": 1
}
